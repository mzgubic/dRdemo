{
 "cells": [
  {
   "cell_type": "markdown",
   "metadata": {},
   "source": [
    "# Visualising $\\Delta R$\n",
    "\n",
    "The coordinate system is a modifed spherical coordinate system with the $z$ coordinate chosen along the beampipe, and the azimuthal angle $\\phi$ rotating around the plane perpendicular to the beam. In place of the usual polar angle $\\theta$ however, pseudorapidity $\\eta = -\\ln(\\tan(\\frac{\\theta}{2}))$ is used. See plot below to see how it behaves.\n",
    "\n",
    "<img width=\"200\" alt=\"preview\" src=\"https://upload.wikimedia.org/wikipedia/commons/thumb/e/ed/Pseudorapidity_plot.svg/695px-Pseudorapidity_plot.svg.png\">\n",
    "\n",
    "The angle $\\Delta R$ is defined as $\\Delta R = \\sqrt{\\Delta \\phi^2 + \\Delta \\eta^2}$. It is tricky to grasp intuitively because the angle of this conical shape changes with $\\eta$. This notebook makes it easy to play with parameters and see how the conical shape changes. "
   ]
  },
  {
   "cell_type": "markdown",
   "metadata": {},
   "source": [
    "First some imports"
   ]
  },
  {
   "cell_type": "code",
   "execution_count": 2,
   "metadata": {},
   "outputs": [
    {
     "data": {
      "text/html": [
       "<script>requirejs.config({paths: { 'plotly': ['https://cdn.plot.ly/plotly-latest.min']},});if(!window.Plotly) {{require(['plotly'],function(plotly) {window.Plotly=plotly;});}}</script>"
      ],
      "text/vnd.plotly.v1+html": [
       "<script>requirejs.config({paths: { 'plotly': ['https://cdn.plot.ly/plotly-latest.min']},});if(!window.Plotly) {{require(['plotly'],function(plotly) {window.Plotly=plotly;});}}</script>"
      ]
     },
     "metadata": {},
     "output_type": "display_data"
    }
   ],
   "source": [
    "import numpy as np\n",
    "from plotly.offline import init_notebook_mode, iplot\n",
    "import plotly.graph_objs as go\n",
    "init_notebook_mode(connected=True)"
   ]
  },
  {
   "cell_type": "markdown",
   "metadata": {},
   "source": [
    "Now define a helper function for handling the polar angle, and the function which draws the beampipe, an ATLAS-resembling cylinder, and the jet along with the conical shape around it, defined by $\\Delta R$.\n",
    "\n",
    "I am using plotly instead of matplotlib because it is faster at rendering 3D. I've interchanged x and z to get the beampipe horizontal (could have probably been done in a more elegant way). "
   ]
  },
  {
   "cell_type": "code",
   "execution_count": 3,
   "metadata": {
    "collapsed": true
   },
   "outputs": [],
   "source": [
    "def theta_from_eta(eta):\n",
    "    return 2*np.arctan(np.e**(-eta))\n",
    "    \n",
    "def show_jet(phi, eta, dR):\n",
    "    \n",
    "    # list of all primitives to draw\n",
    "    data = []\n",
    "    \n",
    "    # ::: beampipe\n",
    "    R = 1.0\n",
    "    zs = np.linspace(-R, R, 2)\n",
    "    b_xs = [0 for z in zs]\n",
    "    b_ys = [0 for z in zs]\n",
    "    beampipe = go.Scatter3d(x=zs,\n",
    "                          y=b_ys,\n",
    "                          z=b_xs,\n",
    "                          mode='lines',\n",
    "                          showlegend=False,\n",
    "                          line=dict(color='rgb(0,33,71)', width=5))\n",
    "    data.append(beampipe)\n",
    "    \n",
    "    # ::: barrel\n",
    "    phis = np.linspace(-np.pi/2., np.pi/2., 10)\n",
    "    xs = R*np.sin(phis)\n",
    "    X, Z = np.meshgrid(xs, zs)\n",
    "    Y = np.sqrt(R**2 - X**2)\n",
    "    barrel_left = go.Surface(x=Z, y=Y, z=X, surfacecolor=[1,1], showscale=False, opacity=0.4)\n",
    "    barrel_right = go.Surface(x=Z, y=-Y, z=X, surfacecolor=[1,1], showscale=False, opacity=0.4)\n",
    "    data += [barrel_left, barrel_right]\n",
    "    \n",
    "    # ::: jet direction\n",
    "    theta = theta_from_eta(eta)\n",
    "    ts = np.linspace(0, R, 2)\n",
    "    xs = ts*np.sin(theta)*np.cos(phi)\n",
    "    ys = ts*np.sin(theta)*np.sin(phi)\n",
    "    zs = ts*np.cos(theta)\n",
    "    jet = go.Scatter3d(x=zs,\n",
    "                       y=ys,\n",
    "                       z=xs,\n",
    "                       mode='lines',\n",
    "                       showlegend=False,\n",
    "                       line=dict(color='rgb(255, 105, 97)', width=7))\n",
    "    data.append(jet)\n",
    "    \n",
    "    # ::: jet cone: compute the circle at the end first, then draw the cone\n",
    "    T = 1.0\n",
    "    dphis = np.sqrt(np.linspace(0, dR**2, 20))\n",
    "    detas = np.sqrt(dR**2 - dphis**2)\n",
    "    # compute circle coordinates (reverse parts for plotting reasons)\n",
    "    phis = np.concatenate((phi+dphis, phi+dphis[::-1], phi-dphis, phi-dphis[::-1]))\n",
    "    etas = np.concatenate((eta+detas, eta-detas[::-1], eta-detas, eta+detas[::-1]))\n",
    "    # transform to x, y, z\n",
    "    thetas = theta_from_eta(etas)\n",
    "    cxs = T*np.sin(thetas)*np.cos(phis)\n",
    "    cys = T*np.sin(thetas)*np.sin(phis)\n",
    "    czs = T*np.cos(thetas)\n",
    "    cone_edge = go.Scatter3d(x=czs,\n",
    "                            y=cys,\n",
    "                            z=cxs,\n",
    "                            mode='lines',\n",
    "                            showlegend=False,\n",
    "                            line=dict(color='rgb(255, 105, 97)', width=5))\n",
    "    data.append(cone_edge)\n",
    "    \n",
    "    # draw lines from the circle to the origin\n",
    "    for x, y, z in zip(cxs, cys, czs):\n",
    "        line = go.Scatter3d(x=(0,z),\n",
    "                            y=(0,y),\n",
    "                            z=(0,x),\n",
    "                            opacity=0.3,\n",
    "                            mode='lines',\n",
    "                            showlegend=False,\n",
    "                            line=dict(color='rgb(255, 105, 97)'))\n",
    "        data.append(line)\n",
    "    \n",
    "    # cosmetics\n",
    "    layout = go.Layout(margin=dict(l=0,r=0,b=0,t=0),\n",
    "                       scene=dict(xaxis=dict(title='Z'),\n",
    "                                  yaxis=dict(title='Y'),\n",
    "                                  zaxis=dict(title='X')))\n",
    "    fig = go.Figure(data=data, layout=layout)\n",
    "    iplot(fig, filename='simple-3d-scatter')\n"
   ]
  },
  {
   "cell_type": "markdown",
   "metadata": {},
   "source": [
    "Show renders in nbviewer of $\\phi$, $\\eta$, and $\\Delta R$. Note that $\\Delta R$ is the same in all, but the cones have very different sizes depending on the $\\eta$."
   ]
  },
  {
   "cell_type": "code",
   "execution_count": 4,
   "metadata": {
    "scrolled": false
   },
   "outputs": [
    {
     "data": {
      "application/vnd.plotly.v1+json": {
       "data": [
        {
         "line": {
          "color": "rgb(0,33,71)",
          "width": 5
         },
         "mode": "lines",
         "showlegend": false,
         "type": "scatter3d",
         "x": [
          -1,
          1
         ],
         "y": [
          0,
          0
         ],
         "z": [
          0,
          0
         ]
        },
        {
         "opacity": 0.4,
         "showscale": false,
         "surfacecolor": [
          1,
          1
         ],
         "type": "surface",
         "x": [
          [
           -1,
           -1,
           -1,
           -1,
           -1,
           -1,
           -1,
           -1,
           -1,
           -1
          ],
          [
           1,
           1,
           1,
           1,
           1,
           1,
           1,
           1,
           1,
           1
          ]
         ],
         "y": [
          [
           0,
           0.342020143325669,
           0.6427876096865394,
           0.8660254037844386,
           0.984807753012208,
           0.984807753012208,
           0.8660254037844388,
           0.6427876096865395,
           0.342020143325669,
           0
          ],
          [
           0,
           0.342020143325669,
           0.6427876096865394,
           0.8660254037844386,
           0.984807753012208,
           0.984807753012208,
           0.8660254037844388,
           0.6427876096865395,
           0.342020143325669,
           0
          ]
         ],
         "z": [
          [
           -1,
           -0.9396926207859083,
           -0.766044443118978,
           -0.5,
           -0.17364817766693036,
           0.17364817766693036,
           0.49999999999999983,
           0.7660444431189779,
           0.9396926207859083,
           1
          ],
          [
           -1,
           -0.9396926207859083,
           -0.766044443118978,
           -0.5,
           -0.17364817766693036,
           0.17364817766693036,
           0.49999999999999983,
           0.7660444431189779,
           0.9396926207859083,
           1
          ]
         ]
        },
        {
         "opacity": 0.4,
         "showscale": false,
         "surfacecolor": [
          1,
          1
         ],
         "type": "surface",
         "x": [
          [
           -1,
           -1,
           -1,
           -1,
           -1,
           -1,
           -1,
           -1,
           -1,
           -1
          ],
          [
           1,
           1,
           1,
           1,
           1,
           1,
           1,
           1,
           1,
           1
          ]
         ],
         "y": [
          [
           0,
           -0.342020143325669,
           -0.6427876096865394,
           -0.8660254037844386,
           -0.984807753012208,
           -0.984807753012208,
           -0.8660254037844388,
           -0.6427876096865395,
           -0.342020143325669,
           0
          ],
          [
           0,
           -0.342020143325669,
           -0.6427876096865394,
           -0.8660254037844386,
           -0.984807753012208,
           -0.984807753012208,
           -0.8660254037844388,
           -0.6427876096865395,
           -0.342020143325669,
           0
          ]
         ],
         "z": [
          [
           -1,
           -0.9396926207859083,
           -0.766044443118978,
           -0.5,
           -0.17364817766693036,
           0.17364817766693036,
           0.49999999999999983,
           0.7660444431189779,
           0.9396926207859083,
           1
          ],
          [
           -1,
           -0.9396926207859083,
           -0.766044443118978,
           -0.5,
           -0.17364817766693036,
           0.17364817766693036,
           0.49999999999999983,
           0.7660444431189779,
           0.9396926207859083,
           1
          ]
         ]
        },
        {
         "line": {
          "color": "rgb(255, 105, 97)",
          "width": 7
         },
         "mode": "lines",
         "showlegend": false,
         "type": "scatter3d",
         "x": [
          0,
          6.123233995736766e-17
         ],
         "y": [
          0,
          0
         ],
         "z": [
          0,
          1
         ]
        },
        {
         "line": {
          "color": "rgb(255, 105, 97)",
          "width": 5
         },
         "mode": "lines",
         "showlegend": false,
         "type": "scatter3d",
         "x": [
          0.7615941559557649,
          0.7501633396051502,
          0.7379236737573273,
          0.7247899360722031,
          0.7106636034397795,
          0.6954298506091808,
          0.6789536063359859,
          0.6610742710327009,
          0.6415984840062257,
          0.6202899628213892,
          0.5968547917725454,
          0.570919338350225,
          0.5419956168461716,
          0.5094239203063663,
          0.47227094594266344,
          0.42913134694848204,
          0.3776875619311621,
          0.31351862062397406,
          0.22547386245080886,
          6.123233995736766e-17,
          6.123233995736766e-17,
          -0.22547386245080897,
          -0.3135186206239742,
          -0.3776875619311622,
          -0.42913134694848215,
          -0.47227094594266333,
          -0.509423920306366,
          -0.5419956168461715,
          -0.570919338350225,
          -0.5968547917725454,
          -0.620289962821389,
          -0.6415984840062254,
          -0.6610742710327008,
          -0.6789536063359858,
          -0.6954298506091805,
          -0.7106636034397797,
          -0.7247899360722032,
          -0.737923673757327,
          -0.7501633396051501,
          -0.761594155955765,
          -0.761594155955765,
          -0.7501633396051501,
          -0.737923673757327,
          -0.7247899360722032,
          -0.7106636034397797,
          -0.6954298506091805,
          -0.6789536063359858,
          -0.6610742710327008,
          -0.6415984840062254,
          -0.620289962821389,
          -0.5968547917725454,
          -0.570919338350225,
          -0.5419956168461715,
          -0.509423920306366,
          -0.47227094594266333,
          -0.42913134694848215,
          -0.3776875619311622,
          -0.3135186206239742,
          -0.22547386245080897,
          6.123233995736766e-17,
          6.123233995736766e-17,
          0.22547386245080886,
          0.31351862062397406,
          0.3776875619311621,
          0.42913134694848204,
          0.47227094594266344,
          0.5094239203063663,
          0.5419956168461716,
          0.570919338350225,
          0.5968547917725454,
          0.6202899628213892,
          0.6415984840062257,
          0.6610742710327009,
          0.6789536063359859,
          0.6954298506091808,
          0.7106636034397795,
          0.7247899360722031,
          0.7379236737573273,
          0.7501633396051502,
          0.7615941559557649
         ],
         "y": [
          0,
          0.15037452451667582,
          0.21514008083961841,
          0.26662110451455856,
          0.3115948317454929,
          0.3526743244222776,
          0.39120006506404875,
          0.42797306672365115,
          0.4635218634957364,
          0.4982212073839764,
          0.5323521964525514,
          0.5661357264016289,
          0.5997524835703508,
          0.6333556037117642,
          0.667079087052105,
          0.7010436389636596,
          0.7353608898885642,
          0.7701365658948324,
          0.8054729669339397,
          0.8414709848078965,
          0.8414709848078965,
          0.8054729669339397,
          0.7701365658948324,
          0.7353608898885642,
          0.7010436389636595,
          0.6670790870521051,
          0.6333556037117645,
          0.5997524835703508,
          0.5661357264016289,
          0.5323521964525514,
          0.49822120738397646,
          0.4635218634957365,
          0.4279730667236512,
          0.39120006506404875,
          0.35267432442227775,
          0.3115948317454929,
          0.26662110451455856,
          0.21514008083961847,
          0.15037452451667585,
          0,
          0,
          -0.15037452451667585,
          -0.21514008083961847,
          -0.26662110451455856,
          -0.3115948317454929,
          -0.35267432442227775,
          -0.39120006506404875,
          -0.4279730667236512,
          -0.4635218634957365,
          -0.49822120738397646,
          -0.5323521964525514,
          -0.5661357264016289,
          -0.5997524835703508,
          -0.6333556037117645,
          -0.6670790870521051,
          -0.7010436389636595,
          -0.7353608898885642,
          -0.7701365658948324,
          -0.8054729669339397,
          -0.8414709848078965,
          -0.8414709848078965,
          -0.8054729669339397,
          -0.7701365658948324,
          -0.7353608898885642,
          -0.7010436389636596,
          -0.667079087052105,
          -0.6333556037117642,
          -0.5997524835703508,
          -0.5661357264016289,
          -0.5323521964525514,
          -0.4982212073839764,
          -0.4635218634957364,
          -0.42797306672365115,
          -0.39120006506404875,
          -0.3526743244222776,
          -0.3115948317454929,
          -0.26662110451455856,
          -0.21514008083961841,
          -0.15037452451667582,
          0
         ],
         "z": [
          0.6480542736638855,
          0.6439273765641834,
          0.639674446359093,
          0.6352894892849155,
          0.6307661243087533,
          0.6260975513248574,
          0.6212765161642947,
          0.6162952720390903,
          0.6111455369896379,
          0.605818446843518,
          0.6003045031234527,
          0.5945935152601659,
          0.5886745363702544,
          0.5825357917472536,
          0.5761645990827206,
          0.5695472792795798,
          0.562669056537494,
          0.5555139461739509,
          0.5480646283880672,
          0.5403023058681398,
          0.5403023058681398,
          0.5480646283880672,
          0.5555139461739508,
          0.562669056537494,
          0.5695472792795797,
          0.5761645990827206,
          0.5825357917472538,
          0.5886745363702545,
          0.5945935152601659,
          0.6003045031234527,
          0.605818446843518,
          0.611145536989638,
          0.6162952720390904,
          0.6212765161642947,
          0.6260975513248578,
          0.6307661243087532,
          0.6352894892849154,
          0.6396744463590932,
          0.6439273765641835,
          0.6480542736638853,
          0.6480542736638853,
          0.6439273765641835,
          0.6396744463590932,
          0.6352894892849154,
          0.6307661243087532,
          0.6260975513248578,
          0.6212765161642947,
          0.6162952720390904,
          0.611145536989638,
          0.605818446843518,
          0.6003045031234527,
          0.5945935152601659,
          0.5886745363702545,
          0.5825357917472538,
          0.5761645990827206,
          0.5695472792795797,
          0.562669056537494,
          0.5555139461739508,
          0.5480646283880672,
          0.5403023058681398,
          0.5403023058681398,
          0.5480646283880672,
          0.5555139461739509,
          0.562669056537494,
          0.5695472792795798,
          0.5761645990827206,
          0.5825357917472536,
          0.5886745363702544,
          0.5945935152601659,
          0.6003045031234527,
          0.605818446843518,
          0.6111455369896379,
          0.6162952720390903,
          0.6212765161642947,
          0.6260975513248574,
          0.6307661243087533,
          0.6352894892849155,
          0.639674446359093,
          0.6439273765641834,
          0.6480542736638855
         ]
        },
        {
         "line": {
          "color": "rgb(255, 105, 97)"
         },
         "mode": "lines",
         "opacity": 0.3,
         "showlegend": false,
         "type": "scatter3d",
         "x": [
          0,
          0.7615941559557649
         ],
         "y": [
          0,
          0
         ],
         "z": [
          0,
          0.6480542736638855
         ]
        },
        {
         "line": {
          "color": "rgb(255, 105, 97)"
         },
         "mode": "lines",
         "opacity": 0.3,
         "showlegend": false,
         "type": "scatter3d",
         "x": [
          0,
          0.7501633396051502
         ],
         "y": [
          0,
          0.15037452451667582
         ],
         "z": [
          0,
          0.6439273765641834
         ]
        },
        {
         "line": {
          "color": "rgb(255, 105, 97)"
         },
         "mode": "lines",
         "opacity": 0.3,
         "showlegend": false,
         "type": "scatter3d",
         "x": [
          0,
          0.7379236737573273
         ],
         "y": [
          0,
          0.21514008083961841
         ],
         "z": [
          0,
          0.639674446359093
         ]
        },
        {
         "line": {
          "color": "rgb(255, 105, 97)"
         },
         "mode": "lines",
         "opacity": 0.3,
         "showlegend": false,
         "type": "scatter3d",
         "x": [
          0,
          0.7247899360722031
         ],
         "y": [
          0,
          0.26662110451455856
         ],
         "z": [
          0,
          0.6352894892849155
         ]
        },
        {
         "line": {
          "color": "rgb(255, 105, 97)"
         },
         "mode": "lines",
         "opacity": 0.3,
         "showlegend": false,
         "type": "scatter3d",
         "x": [
          0,
          0.7106636034397795
         ],
         "y": [
          0,
          0.3115948317454929
         ],
         "z": [
          0,
          0.6307661243087533
         ]
        },
        {
         "line": {
          "color": "rgb(255, 105, 97)"
         },
         "mode": "lines",
         "opacity": 0.3,
         "showlegend": false,
         "type": "scatter3d",
         "x": [
          0,
          0.6954298506091808
         ],
         "y": [
          0,
          0.3526743244222776
         ],
         "z": [
          0,
          0.6260975513248574
         ]
        },
        {
         "line": {
          "color": "rgb(255, 105, 97)"
         },
         "mode": "lines",
         "opacity": 0.3,
         "showlegend": false,
         "type": "scatter3d",
         "x": [
          0,
          0.6789536063359859
         ],
         "y": [
          0,
          0.39120006506404875
         ],
         "z": [
          0,
          0.6212765161642947
         ]
        },
        {
         "line": {
          "color": "rgb(255, 105, 97)"
         },
         "mode": "lines",
         "opacity": 0.3,
         "showlegend": false,
         "type": "scatter3d",
         "x": [
          0,
          0.6610742710327009
         ],
         "y": [
          0,
          0.42797306672365115
         ],
         "z": [
          0,
          0.6162952720390903
         ]
        },
        {
         "line": {
          "color": "rgb(255, 105, 97)"
         },
         "mode": "lines",
         "opacity": 0.3,
         "showlegend": false,
         "type": "scatter3d",
         "x": [
          0,
          0.6415984840062257
         ],
         "y": [
          0,
          0.4635218634957364
         ],
         "z": [
          0,
          0.6111455369896379
         ]
        },
        {
         "line": {
          "color": "rgb(255, 105, 97)"
         },
         "mode": "lines",
         "opacity": 0.3,
         "showlegend": false,
         "type": "scatter3d",
         "x": [
          0,
          0.6202899628213892
         ],
         "y": [
          0,
          0.4982212073839764
         ],
         "z": [
          0,
          0.605818446843518
         ]
        },
        {
         "line": {
          "color": "rgb(255, 105, 97)"
         },
         "mode": "lines",
         "opacity": 0.3,
         "showlegend": false,
         "type": "scatter3d",
         "x": [
          0,
          0.5968547917725454
         ],
         "y": [
          0,
          0.5323521964525514
         ],
         "z": [
          0,
          0.6003045031234527
         ]
        },
        {
         "line": {
          "color": "rgb(255, 105, 97)"
         },
         "mode": "lines",
         "opacity": 0.3,
         "showlegend": false,
         "type": "scatter3d",
         "x": [
          0,
          0.570919338350225
         ],
         "y": [
          0,
          0.5661357264016289
         ],
         "z": [
          0,
          0.5945935152601659
         ]
        },
        {
         "line": {
          "color": "rgb(255, 105, 97)"
         },
         "mode": "lines",
         "opacity": 0.3,
         "showlegend": false,
         "type": "scatter3d",
         "x": [
          0,
          0.5419956168461716
         ],
         "y": [
          0,
          0.5997524835703508
         ],
         "z": [
          0,
          0.5886745363702544
         ]
        },
        {
         "line": {
          "color": "rgb(255, 105, 97)"
         },
         "mode": "lines",
         "opacity": 0.3,
         "showlegend": false,
         "type": "scatter3d",
         "x": [
          0,
          0.5094239203063663
         ],
         "y": [
          0,
          0.6333556037117642
         ],
         "z": [
          0,
          0.5825357917472536
         ]
        },
        {
         "line": {
          "color": "rgb(255, 105, 97)"
         },
         "mode": "lines",
         "opacity": 0.3,
         "showlegend": false,
         "type": "scatter3d",
         "x": [
          0,
          0.47227094594266344
         ],
         "y": [
          0,
          0.667079087052105
         ],
         "z": [
          0,
          0.5761645990827206
         ]
        },
        {
         "line": {
          "color": "rgb(255, 105, 97)"
         },
         "mode": "lines",
         "opacity": 0.3,
         "showlegend": false,
         "type": "scatter3d",
         "x": [
          0,
          0.42913134694848204
         ],
         "y": [
          0,
          0.7010436389636596
         ],
         "z": [
          0,
          0.5695472792795798
         ]
        },
        {
         "line": {
          "color": "rgb(255, 105, 97)"
         },
         "mode": "lines",
         "opacity": 0.3,
         "showlegend": false,
         "type": "scatter3d",
         "x": [
          0,
          0.3776875619311621
         ],
         "y": [
          0,
          0.7353608898885642
         ],
         "z": [
          0,
          0.562669056537494
         ]
        },
        {
         "line": {
          "color": "rgb(255, 105, 97)"
         },
         "mode": "lines",
         "opacity": 0.3,
         "showlegend": false,
         "type": "scatter3d",
         "x": [
          0,
          0.31351862062397406
         ],
         "y": [
          0,
          0.7701365658948324
         ],
         "z": [
          0,
          0.5555139461739509
         ]
        },
        {
         "line": {
          "color": "rgb(255, 105, 97)"
         },
         "mode": "lines",
         "opacity": 0.3,
         "showlegend": false,
         "type": "scatter3d",
         "x": [
          0,
          0.22547386245080886
         ],
         "y": [
          0,
          0.8054729669339397
         ],
         "z": [
          0,
          0.5480646283880672
         ]
        },
        {
         "line": {
          "color": "rgb(255, 105, 97)"
         },
         "mode": "lines",
         "opacity": 0.3,
         "showlegend": false,
         "type": "scatter3d",
         "x": [
          0,
          6.123233995736766e-17
         ],
         "y": [
          0,
          0.8414709848078965
         ],
         "z": [
          0,
          0.5403023058681398
         ]
        },
        {
         "line": {
          "color": "rgb(255, 105, 97)"
         },
         "mode": "lines",
         "opacity": 0.3,
         "showlegend": false,
         "type": "scatter3d",
         "x": [
          0,
          6.123233995736766e-17
         ],
         "y": [
          0,
          0.8414709848078965
         ],
         "z": [
          0,
          0.5403023058681398
         ]
        },
        {
         "line": {
          "color": "rgb(255, 105, 97)"
         },
         "mode": "lines",
         "opacity": 0.3,
         "showlegend": false,
         "type": "scatter3d",
         "x": [
          0,
          -0.22547386245080897
         ],
         "y": [
          0,
          0.8054729669339397
         ],
         "z": [
          0,
          0.5480646283880672
         ]
        },
        {
         "line": {
          "color": "rgb(255, 105, 97)"
         },
         "mode": "lines",
         "opacity": 0.3,
         "showlegend": false,
         "type": "scatter3d",
         "x": [
          0,
          -0.3135186206239742
         ],
         "y": [
          0,
          0.7701365658948324
         ],
         "z": [
          0,
          0.5555139461739508
         ]
        },
        {
         "line": {
          "color": "rgb(255, 105, 97)"
         },
         "mode": "lines",
         "opacity": 0.3,
         "showlegend": false,
         "type": "scatter3d",
         "x": [
          0,
          -0.3776875619311622
         ],
         "y": [
          0,
          0.7353608898885642
         ],
         "z": [
          0,
          0.562669056537494
         ]
        },
        {
         "line": {
          "color": "rgb(255, 105, 97)"
         },
         "mode": "lines",
         "opacity": 0.3,
         "showlegend": false,
         "type": "scatter3d",
         "x": [
          0,
          -0.42913134694848215
         ],
         "y": [
          0,
          0.7010436389636595
         ],
         "z": [
          0,
          0.5695472792795797
         ]
        },
        {
         "line": {
          "color": "rgb(255, 105, 97)"
         },
         "mode": "lines",
         "opacity": 0.3,
         "showlegend": false,
         "type": "scatter3d",
         "x": [
          0,
          -0.47227094594266333
         ],
         "y": [
          0,
          0.6670790870521051
         ],
         "z": [
          0,
          0.5761645990827206
         ]
        },
        {
         "line": {
          "color": "rgb(255, 105, 97)"
         },
         "mode": "lines",
         "opacity": 0.3,
         "showlegend": false,
         "type": "scatter3d",
         "x": [
          0,
          -0.509423920306366
         ],
         "y": [
          0,
          0.6333556037117645
         ],
         "z": [
          0,
          0.5825357917472538
         ]
        },
        {
         "line": {
          "color": "rgb(255, 105, 97)"
         },
         "mode": "lines",
         "opacity": 0.3,
         "showlegend": false,
         "type": "scatter3d",
         "x": [
          0,
          -0.5419956168461715
         ],
         "y": [
          0,
          0.5997524835703508
         ],
         "z": [
          0,
          0.5886745363702545
         ]
        },
        {
         "line": {
          "color": "rgb(255, 105, 97)"
         },
         "mode": "lines",
         "opacity": 0.3,
         "showlegend": false,
         "type": "scatter3d",
         "x": [
          0,
          -0.570919338350225
         ],
         "y": [
          0,
          0.5661357264016289
         ],
         "z": [
          0,
          0.5945935152601659
         ]
        },
        {
         "line": {
          "color": "rgb(255, 105, 97)"
         },
         "mode": "lines",
         "opacity": 0.3,
         "showlegend": false,
         "type": "scatter3d",
         "x": [
          0,
          -0.5968547917725454
         ],
         "y": [
          0,
          0.5323521964525514
         ],
         "z": [
          0,
          0.6003045031234527
         ]
        },
        {
         "line": {
          "color": "rgb(255, 105, 97)"
         },
         "mode": "lines",
         "opacity": 0.3,
         "showlegend": false,
         "type": "scatter3d",
         "x": [
          0,
          -0.620289962821389
         ],
         "y": [
          0,
          0.49822120738397646
         ],
         "z": [
          0,
          0.605818446843518
         ]
        },
        {
         "line": {
          "color": "rgb(255, 105, 97)"
         },
         "mode": "lines",
         "opacity": 0.3,
         "showlegend": false,
         "type": "scatter3d",
         "x": [
          0,
          -0.6415984840062254
         ],
         "y": [
          0,
          0.4635218634957365
         ],
         "z": [
          0,
          0.611145536989638
         ]
        },
        {
         "line": {
          "color": "rgb(255, 105, 97)"
         },
         "mode": "lines",
         "opacity": 0.3,
         "showlegend": false,
         "type": "scatter3d",
         "x": [
          0,
          -0.6610742710327008
         ],
         "y": [
          0,
          0.4279730667236512
         ],
         "z": [
          0,
          0.6162952720390904
         ]
        },
        {
         "line": {
          "color": "rgb(255, 105, 97)"
         },
         "mode": "lines",
         "opacity": 0.3,
         "showlegend": false,
         "type": "scatter3d",
         "x": [
          0,
          -0.6789536063359858
         ],
         "y": [
          0,
          0.39120006506404875
         ],
         "z": [
          0,
          0.6212765161642947
         ]
        },
        {
         "line": {
          "color": "rgb(255, 105, 97)"
         },
         "mode": "lines",
         "opacity": 0.3,
         "showlegend": false,
         "type": "scatter3d",
         "x": [
          0,
          -0.6954298506091805
         ],
         "y": [
          0,
          0.35267432442227775
         ],
         "z": [
          0,
          0.6260975513248578
         ]
        },
        {
         "line": {
          "color": "rgb(255, 105, 97)"
         },
         "mode": "lines",
         "opacity": 0.3,
         "showlegend": false,
         "type": "scatter3d",
         "x": [
          0,
          -0.7106636034397797
         ],
         "y": [
          0,
          0.3115948317454929
         ],
         "z": [
          0,
          0.6307661243087532
         ]
        },
        {
         "line": {
          "color": "rgb(255, 105, 97)"
         },
         "mode": "lines",
         "opacity": 0.3,
         "showlegend": false,
         "type": "scatter3d",
         "x": [
          0,
          -0.7247899360722032
         ],
         "y": [
          0,
          0.26662110451455856
         ],
         "z": [
          0,
          0.6352894892849154
         ]
        },
        {
         "line": {
          "color": "rgb(255, 105, 97)"
         },
         "mode": "lines",
         "opacity": 0.3,
         "showlegend": false,
         "type": "scatter3d",
         "x": [
          0,
          -0.737923673757327
         ],
         "y": [
          0,
          0.21514008083961847
         ],
         "z": [
          0,
          0.6396744463590932
         ]
        },
        {
         "line": {
          "color": "rgb(255, 105, 97)"
         },
         "mode": "lines",
         "opacity": 0.3,
         "showlegend": false,
         "type": "scatter3d",
         "x": [
          0,
          -0.7501633396051501
         ],
         "y": [
          0,
          0.15037452451667585
         ],
         "z": [
          0,
          0.6439273765641835
         ]
        },
        {
         "line": {
          "color": "rgb(255, 105, 97)"
         },
         "mode": "lines",
         "opacity": 0.3,
         "showlegend": false,
         "type": "scatter3d",
         "x": [
          0,
          -0.761594155955765
         ],
         "y": [
          0,
          0
         ],
         "z": [
          0,
          0.6480542736638853
         ]
        },
        {
         "line": {
          "color": "rgb(255, 105, 97)"
         },
         "mode": "lines",
         "opacity": 0.3,
         "showlegend": false,
         "type": "scatter3d",
         "x": [
          0,
          -0.761594155955765
         ],
         "y": [
          0,
          0
         ],
         "z": [
          0,
          0.6480542736638853
         ]
        },
        {
         "line": {
          "color": "rgb(255, 105, 97)"
         },
         "mode": "lines",
         "opacity": 0.3,
         "showlegend": false,
         "type": "scatter3d",
         "x": [
          0,
          -0.7501633396051501
         ],
         "y": [
          0,
          -0.15037452451667585
         ],
         "z": [
          0,
          0.6439273765641835
         ]
        },
        {
         "line": {
          "color": "rgb(255, 105, 97)"
         },
         "mode": "lines",
         "opacity": 0.3,
         "showlegend": false,
         "type": "scatter3d",
         "x": [
          0,
          -0.737923673757327
         ],
         "y": [
          0,
          -0.21514008083961847
         ],
         "z": [
          0,
          0.6396744463590932
         ]
        },
        {
         "line": {
          "color": "rgb(255, 105, 97)"
         },
         "mode": "lines",
         "opacity": 0.3,
         "showlegend": false,
         "type": "scatter3d",
         "x": [
          0,
          -0.7247899360722032
         ],
         "y": [
          0,
          -0.26662110451455856
         ],
         "z": [
          0,
          0.6352894892849154
         ]
        },
        {
         "line": {
          "color": "rgb(255, 105, 97)"
         },
         "mode": "lines",
         "opacity": 0.3,
         "showlegend": false,
         "type": "scatter3d",
         "x": [
          0,
          -0.7106636034397797
         ],
         "y": [
          0,
          -0.3115948317454929
         ],
         "z": [
          0,
          0.6307661243087532
         ]
        },
        {
         "line": {
          "color": "rgb(255, 105, 97)"
         },
         "mode": "lines",
         "opacity": 0.3,
         "showlegend": false,
         "type": "scatter3d",
         "x": [
          0,
          -0.6954298506091805
         ],
         "y": [
          0,
          -0.35267432442227775
         ],
         "z": [
          0,
          0.6260975513248578
         ]
        },
        {
         "line": {
          "color": "rgb(255, 105, 97)"
         },
         "mode": "lines",
         "opacity": 0.3,
         "showlegend": false,
         "type": "scatter3d",
         "x": [
          0,
          -0.6789536063359858
         ],
         "y": [
          0,
          -0.39120006506404875
         ],
         "z": [
          0,
          0.6212765161642947
         ]
        },
        {
         "line": {
          "color": "rgb(255, 105, 97)"
         },
         "mode": "lines",
         "opacity": 0.3,
         "showlegend": false,
         "type": "scatter3d",
         "x": [
          0,
          -0.6610742710327008
         ],
         "y": [
          0,
          -0.4279730667236512
         ],
         "z": [
          0,
          0.6162952720390904
         ]
        },
        {
         "line": {
          "color": "rgb(255, 105, 97)"
         },
         "mode": "lines",
         "opacity": 0.3,
         "showlegend": false,
         "type": "scatter3d",
         "x": [
          0,
          -0.6415984840062254
         ],
         "y": [
          0,
          -0.4635218634957365
         ],
         "z": [
          0,
          0.611145536989638
         ]
        },
        {
         "line": {
          "color": "rgb(255, 105, 97)"
         },
         "mode": "lines",
         "opacity": 0.3,
         "showlegend": false,
         "type": "scatter3d",
         "x": [
          0,
          -0.620289962821389
         ],
         "y": [
          0,
          -0.49822120738397646
         ],
         "z": [
          0,
          0.605818446843518
         ]
        },
        {
         "line": {
          "color": "rgb(255, 105, 97)"
         },
         "mode": "lines",
         "opacity": 0.3,
         "showlegend": false,
         "type": "scatter3d",
         "x": [
          0,
          -0.5968547917725454
         ],
         "y": [
          0,
          -0.5323521964525514
         ],
         "z": [
          0,
          0.6003045031234527
         ]
        },
        {
         "line": {
          "color": "rgb(255, 105, 97)"
         },
         "mode": "lines",
         "opacity": 0.3,
         "showlegend": false,
         "type": "scatter3d",
         "x": [
          0,
          -0.570919338350225
         ],
         "y": [
          0,
          -0.5661357264016289
         ],
         "z": [
          0,
          0.5945935152601659
         ]
        },
        {
         "line": {
          "color": "rgb(255, 105, 97)"
         },
         "mode": "lines",
         "opacity": 0.3,
         "showlegend": false,
         "type": "scatter3d",
         "x": [
          0,
          -0.5419956168461715
         ],
         "y": [
          0,
          -0.5997524835703508
         ],
         "z": [
          0,
          0.5886745363702545
         ]
        },
        {
         "line": {
          "color": "rgb(255, 105, 97)"
         },
         "mode": "lines",
         "opacity": 0.3,
         "showlegend": false,
         "type": "scatter3d",
         "x": [
          0,
          -0.509423920306366
         ],
         "y": [
          0,
          -0.6333556037117645
         ],
         "z": [
          0,
          0.5825357917472538
         ]
        },
        {
         "line": {
          "color": "rgb(255, 105, 97)"
         },
         "mode": "lines",
         "opacity": 0.3,
         "showlegend": false,
         "type": "scatter3d",
         "x": [
          0,
          -0.47227094594266333
         ],
         "y": [
          0,
          -0.6670790870521051
         ],
         "z": [
          0,
          0.5761645990827206
         ]
        },
        {
         "line": {
          "color": "rgb(255, 105, 97)"
         },
         "mode": "lines",
         "opacity": 0.3,
         "showlegend": false,
         "type": "scatter3d",
         "x": [
          0,
          -0.42913134694848215
         ],
         "y": [
          0,
          -0.7010436389636595
         ],
         "z": [
          0,
          0.5695472792795797
         ]
        },
        {
         "line": {
          "color": "rgb(255, 105, 97)"
         },
         "mode": "lines",
         "opacity": 0.3,
         "showlegend": false,
         "type": "scatter3d",
         "x": [
          0,
          -0.3776875619311622
         ],
         "y": [
          0,
          -0.7353608898885642
         ],
         "z": [
          0,
          0.562669056537494
         ]
        },
        {
         "line": {
          "color": "rgb(255, 105, 97)"
         },
         "mode": "lines",
         "opacity": 0.3,
         "showlegend": false,
         "type": "scatter3d",
         "x": [
          0,
          -0.3135186206239742
         ],
         "y": [
          0,
          -0.7701365658948324
         ],
         "z": [
          0,
          0.5555139461739508
         ]
        },
        {
         "line": {
          "color": "rgb(255, 105, 97)"
         },
         "mode": "lines",
         "opacity": 0.3,
         "showlegend": false,
         "type": "scatter3d",
         "x": [
          0,
          -0.22547386245080897
         ],
         "y": [
          0,
          -0.8054729669339397
         ],
         "z": [
          0,
          0.5480646283880672
         ]
        },
        {
         "line": {
          "color": "rgb(255, 105, 97)"
         },
         "mode": "lines",
         "opacity": 0.3,
         "showlegend": false,
         "type": "scatter3d",
         "x": [
          0,
          6.123233995736766e-17
         ],
         "y": [
          0,
          -0.8414709848078965
         ],
         "z": [
          0,
          0.5403023058681398
         ]
        },
        {
         "line": {
          "color": "rgb(255, 105, 97)"
         },
         "mode": "lines",
         "opacity": 0.3,
         "showlegend": false,
         "type": "scatter3d",
         "x": [
          0,
          6.123233995736766e-17
         ],
         "y": [
          0,
          -0.8414709848078965
         ],
         "z": [
          0,
          0.5403023058681398
         ]
        },
        {
         "line": {
          "color": "rgb(255, 105, 97)"
         },
         "mode": "lines",
         "opacity": 0.3,
         "showlegend": false,
         "type": "scatter3d",
         "x": [
          0,
          0.22547386245080886
         ],
         "y": [
          0,
          -0.8054729669339397
         ],
         "z": [
          0,
          0.5480646283880672
         ]
        },
        {
         "line": {
          "color": "rgb(255, 105, 97)"
         },
         "mode": "lines",
         "opacity": 0.3,
         "showlegend": false,
         "type": "scatter3d",
         "x": [
          0,
          0.31351862062397406
         ],
         "y": [
          0,
          -0.7701365658948324
         ],
         "z": [
          0,
          0.5555139461739509
         ]
        },
        {
         "line": {
          "color": "rgb(255, 105, 97)"
         },
         "mode": "lines",
         "opacity": 0.3,
         "showlegend": false,
         "type": "scatter3d",
         "x": [
          0,
          0.3776875619311621
         ],
         "y": [
          0,
          -0.7353608898885642
         ],
         "z": [
          0,
          0.562669056537494
         ]
        },
        {
         "line": {
          "color": "rgb(255, 105, 97)"
         },
         "mode": "lines",
         "opacity": 0.3,
         "showlegend": false,
         "type": "scatter3d",
         "x": [
          0,
          0.42913134694848204
         ],
         "y": [
          0,
          -0.7010436389636596
         ],
         "z": [
          0,
          0.5695472792795798
         ]
        },
        {
         "line": {
          "color": "rgb(255, 105, 97)"
         },
         "mode": "lines",
         "opacity": 0.3,
         "showlegend": false,
         "type": "scatter3d",
         "x": [
          0,
          0.47227094594266344
         ],
         "y": [
          0,
          -0.667079087052105
         ],
         "z": [
          0,
          0.5761645990827206
         ]
        },
        {
         "line": {
          "color": "rgb(255, 105, 97)"
         },
         "mode": "lines",
         "opacity": 0.3,
         "showlegend": false,
         "type": "scatter3d",
         "x": [
          0,
          0.5094239203063663
         ],
         "y": [
          0,
          -0.6333556037117642
         ],
         "z": [
          0,
          0.5825357917472536
         ]
        },
        {
         "line": {
          "color": "rgb(255, 105, 97)"
         },
         "mode": "lines",
         "opacity": 0.3,
         "showlegend": false,
         "type": "scatter3d",
         "x": [
          0,
          0.5419956168461716
         ],
         "y": [
          0,
          -0.5997524835703508
         ],
         "z": [
          0,
          0.5886745363702544
         ]
        },
        {
         "line": {
          "color": "rgb(255, 105, 97)"
         },
         "mode": "lines",
         "opacity": 0.3,
         "showlegend": false,
         "type": "scatter3d",
         "x": [
          0,
          0.570919338350225
         ],
         "y": [
          0,
          -0.5661357264016289
         ],
         "z": [
          0,
          0.5945935152601659
         ]
        },
        {
         "line": {
          "color": "rgb(255, 105, 97)"
         },
         "mode": "lines",
         "opacity": 0.3,
         "showlegend": false,
         "type": "scatter3d",
         "x": [
          0,
          0.5968547917725454
         ],
         "y": [
          0,
          -0.5323521964525514
         ],
         "z": [
          0,
          0.6003045031234527
         ]
        },
        {
         "line": {
          "color": "rgb(255, 105, 97)"
         },
         "mode": "lines",
         "opacity": 0.3,
         "showlegend": false,
         "type": "scatter3d",
         "x": [
          0,
          0.6202899628213892
         ],
         "y": [
          0,
          -0.4982212073839764
         ],
         "z": [
          0,
          0.605818446843518
         ]
        },
        {
         "line": {
          "color": "rgb(255, 105, 97)"
         },
         "mode": "lines",
         "opacity": 0.3,
         "showlegend": false,
         "type": "scatter3d",
         "x": [
          0,
          0.6415984840062257
         ],
         "y": [
          0,
          -0.4635218634957364
         ],
         "z": [
          0,
          0.6111455369896379
         ]
        },
        {
         "line": {
          "color": "rgb(255, 105, 97)"
         },
         "mode": "lines",
         "opacity": 0.3,
         "showlegend": false,
         "type": "scatter3d",
         "x": [
          0,
          0.6610742710327009
         ],
         "y": [
          0,
          -0.42797306672365115
         ],
         "z": [
          0,
          0.6162952720390903
         ]
        },
        {
         "line": {
          "color": "rgb(255, 105, 97)"
         },
         "mode": "lines",
         "opacity": 0.3,
         "showlegend": false,
         "type": "scatter3d",
         "x": [
          0,
          0.6789536063359859
         ],
         "y": [
          0,
          -0.39120006506404875
         ],
         "z": [
          0,
          0.6212765161642947
         ]
        },
        {
         "line": {
          "color": "rgb(255, 105, 97)"
         },
         "mode": "lines",
         "opacity": 0.3,
         "showlegend": false,
         "type": "scatter3d",
         "x": [
          0,
          0.6954298506091808
         ],
         "y": [
          0,
          -0.3526743244222776
         ],
         "z": [
          0,
          0.6260975513248574
         ]
        },
        {
         "line": {
          "color": "rgb(255, 105, 97)"
         },
         "mode": "lines",
         "opacity": 0.3,
         "showlegend": false,
         "type": "scatter3d",
         "x": [
          0,
          0.7106636034397795
         ],
         "y": [
          0,
          -0.3115948317454929
         ],
         "z": [
          0,
          0.6307661243087533
         ]
        },
        {
         "line": {
          "color": "rgb(255, 105, 97)"
         },
         "mode": "lines",
         "opacity": 0.3,
         "showlegend": false,
         "type": "scatter3d",
         "x": [
          0,
          0.7247899360722031
         ],
         "y": [
          0,
          -0.26662110451455856
         ],
         "z": [
          0,
          0.6352894892849155
         ]
        },
        {
         "line": {
          "color": "rgb(255, 105, 97)"
         },
         "mode": "lines",
         "opacity": 0.3,
         "showlegend": false,
         "type": "scatter3d",
         "x": [
          0,
          0.7379236737573273
         ],
         "y": [
          0,
          -0.21514008083961841
         ],
         "z": [
          0,
          0.639674446359093
         ]
        },
        {
         "line": {
          "color": "rgb(255, 105, 97)"
         },
         "mode": "lines",
         "opacity": 0.3,
         "showlegend": false,
         "type": "scatter3d",
         "x": [
          0,
          0.7501633396051502
         ],
         "y": [
          0,
          -0.15037452451667582
         ],
         "z": [
          0,
          0.6439273765641834
         ]
        },
        {
         "line": {
          "color": "rgb(255, 105, 97)"
         },
         "mode": "lines",
         "opacity": 0.3,
         "showlegend": false,
         "type": "scatter3d",
         "x": [
          0,
          0.7615941559557649
         ],
         "y": [
          0,
          0
         ],
         "z": [
          0,
          0.6480542736638855
         ]
        }
       ],
       "layout": {
        "margin": {
         "b": 0,
         "l": 0,
         "r": 0,
         "t": 0
        },
        "scene": {
         "xaxis": {
          "title": "Z"
         },
         "yaxis": {
          "title": "Y"
         },
         "zaxis": {
          "title": "X"
         }
        }
       }
      },
      "text/html": [
       "<div id=\"4715affd-3b93-4e00-ac45-b4f6e84b7a48\" style=\"height: 525px; width: 100%;\" class=\"plotly-graph-div\"></div><script type=\"text/javascript\">require([\"plotly\"], function(Plotly) { window.PLOTLYENV=window.PLOTLYENV || {};window.PLOTLYENV.BASE_URL=\"https://plot.ly\";Plotly.newPlot(\"4715affd-3b93-4e00-ac45-b4f6e84b7a48\", [{\"type\": \"scatter3d\", \"x\": [-1.0, 1.0], \"y\": [0, 0], \"z\": [0, 0], \"mode\": \"lines\", \"showlegend\": false, \"line\": {\"color\": \"rgb(0,33,71)\", \"width\": 5}}, {\"type\": \"surface\", \"x\": [[-1.0, -1.0, -1.0, -1.0, -1.0, -1.0, -1.0, -1.0, -1.0, -1.0], [1.0, 1.0, 1.0, 1.0, 1.0, 1.0, 1.0, 1.0, 1.0, 1.0]], \"y\": [[0.0, 0.342020143325669, 0.6427876096865394, 0.8660254037844386, 0.984807753012208, 0.984807753012208, 0.8660254037844388, 0.6427876096865395, 0.342020143325669, 0.0], [0.0, 0.342020143325669, 0.6427876096865394, 0.8660254037844386, 0.984807753012208, 0.984807753012208, 0.8660254037844388, 0.6427876096865395, 0.342020143325669, 0.0]], \"z\": [[-1.0, -0.9396926207859083, -0.766044443118978, -0.5, -0.17364817766693036, 0.17364817766693036, 0.49999999999999983, 0.7660444431189779, 0.9396926207859083, 1.0], [-1.0, -0.9396926207859083, -0.766044443118978, -0.5, -0.17364817766693036, 0.17364817766693036, 0.49999999999999983, 0.7660444431189779, 0.9396926207859083, 1.0]], \"surfacecolor\": [1, 1], \"showscale\": false, \"opacity\": 0.4}, {\"type\": \"surface\", \"x\": [[-1.0, -1.0, -1.0, -1.0, -1.0, -1.0, -1.0, -1.0, -1.0, -1.0], [1.0, 1.0, 1.0, 1.0, 1.0, 1.0, 1.0, 1.0, 1.0, 1.0]], \"y\": [[-0.0, -0.342020143325669, -0.6427876096865394, -0.8660254037844386, -0.984807753012208, -0.984807753012208, -0.8660254037844388, -0.6427876096865395, -0.342020143325669, -0.0], [-0.0, -0.342020143325669, -0.6427876096865394, -0.8660254037844386, -0.984807753012208, -0.984807753012208, -0.8660254037844388, -0.6427876096865395, -0.342020143325669, -0.0]], \"z\": [[-1.0, -0.9396926207859083, -0.766044443118978, -0.5, -0.17364817766693036, 0.17364817766693036, 0.49999999999999983, 0.7660444431189779, 0.9396926207859083, 1.0], [-1.0, -0.9396926207859083, -0.766044443118978, -0.5, -0.17364817766693036, 0.17364817766693036, 0.49999999999999983, 0.7660444431189779, 0.9396926207859083, 1.0]], \"surfacecolor\": [1, 1], \"showscale\": false, \"opacity\": 0.4}, {\"type\": \"scatter3d\", \"x\": [0.0, 6.123233995736766e-17], \"y\": [0.0, 0.0], \"z\": [0.0, 1.0], \"mode\": \"lines\", \"showlegend\": false, \"line\": {\"color\": \"rgb(255, 105, 97)\", \"width\": 7}}, {\"type\": \"scatter3d\", \"x\": [0.7615941559557649, 0.7501633396051502, 0.7379236737573273, 0.7247899360722031, 0.7106636034397795, 0.6954298506091808, 0.6789536063359859, 0.6610742710327009, 0.6415984840062257, 0.6202899628213892, 0.5968547917725454, 0.570919338350225, 0.5419956168461716, 0.5094239203063663, 0.47227094594266344, 0.42913134694848204, 0.3776875619311621, 0.31351862062397406, 0.22547386245080886, 6.123233995736766e-17, 6.123233995736766e-17, -0.22547386245080897, -0.3135186206239742, -0.3776875619311622, -0.42913134694848215, -0.47227094594266333, -0.509423920306366, -0.5419956168461715, -0.570919338350225, -0.5968547917725454, -0.620289962821389, -0.6415984840062254, -0.6610742710327008, -0.6789536063359858, -0.6954298506091805, -0.7106636034397797, -0.7247899360722032, -0.737923673757327, -0.7501633396051501, -0.761594155955765, -0.761594155955765, -0.7501633396051501, -0.737923673757327, -0.7247899360722032, -0.7106636034397797, -0.6954298506091805, -0.6789536063359858, -0.6610742710327008, -0.6415984840062254, -0.620289962821389, -0.5968547917725454, -0.570919338350225, -0.5419956168461715, -0.509423920306366, -0.47227094594266333, -0.42913134694848215, -0.3776875619311622, -0.3135186206239742, -0.22547386245080897, 6.123233995736766e-17, 6.123233995736766e-17, 0.22547386245080886, 0.31351862062397406, 0.3776875619311621, 0.42913134694848204, 0.47227094594266344, 0.5094239203063663, 0.5419956168461716, 0.570919338350225, 0.5968547917725454, 0.6202899628213892, 0.6415984840062257, 0.6610742710327009, 0.6789536063359859, 0.6954298506091808, 0.7106636034397795, 0.7247899360722031, 0.7379236737573273, 0.7501633396051502, 0.7615941559557649], \"y\": [0.0, 0.15037452451667582, 0.21514008083961841, 0.26662110451455856, 0.3115948317454929, 0.3526743244222776, 0.39120006506404875, 0.42797306672365115, 0.4635218634957364, 0.4982212073839764, 0.5323521964525514, 0.5661357264016289, 0.5997524835703508, 0.6333556037117642, 0.667079087052105, 0.7010436389636596, 0.7353608898885642, 0.7701365658948324, 0.8054729669339397, 0.8414709848078965, 0.8414709848078965, 0.8054729669339397, 0.7701365658948324, 0.7353608898885642, 0.7010436389636595, 0.6670790870521051, 0.6333556037117645, 0.5997524835703508, 0.5661357264016289, 0.5323521964525514, 0.49822120738397646, 0.4635218634957365, 0.4279730667236512, 0.39120006506404875, 0.35267432442227775, 0.3115948317454929, 0.26662110451455856, 0.21514008083961847, 0.15037452451667585, 0.0, 0.0, -0.15037452451667585, -0.21514008083961847, -0.26662110451455856, -0.3115948317454929, -0.35267432442227775, -0.39120006506404875, -0.4279730667236512, -0.4635218634957365, -0.49822120738397646, -0.5323521964525514, -0.5661357264016289, -0.5997524835703508, -0.6333556037117645, -0.6670790870521051, -0.7010436389636595, -0.7353608898885642, -0.7701365658948324, -0.8054729669339397, -0.8414709848078965, -0.8414709848078965, -0.8054729669339397, -0.7701365658948324, -0.7353608898885642, -0.7010436389636596, -0.667079087052105, -0.6333556037117642, -0.5997524835703508, -0.5661357264016289, -0.5323521964525514, -0.4982212073839764, -0.4635218634957364, -0.42797306672365115, -0.39120006506404875, -0.3526743244222776, -0.3115948317454929, -0.26662110451455856, -0.21514008083961841, -0.15037452451667582, 0.0], \"z\": [0.6480542736638855, 0.6439273765641834, 0.639674446359093, 0.6352894892849155, 0.6307661243087533, 0.6260975513248574, 0.6212765161642947, 0.6162952720390903, 0.6111455369896379, 0.605818446843518, 0.6003045031234527, 0.5945935152601659, 0.5886745363702544, 0.5825357917472536, 0.5761645990827206, 0.5695472792795798, 0.562669056537494, 0.5555139461739509, 0.5480646283880672, 0.5403023058681398, 0.5403023058681398, 0.5480646283880672, 0.5555139461739508, 0.562669056537494, 0.5695472792795797, 0.5761645990827206, 0.5825357917472538, 0.5886745363702545, 0.5945935152601659, 0.6003045031234527, 0.605818446843518, 0.611145536989638, 0.6162952720390904, 0.6212765161642947, 0.6260975513248578, 0.6307661243087532, 0.6352894892849154, 0.6396744463590932, 0.6439273765641835, 0.6480542736638853, 0.6480542736638853, 0.6439273765641835, 0.6396744463590932, 0.6352894892849154, 0.6307661243087532, 0.6260975513248578, 0.6212765161642947, 0.6162952720390904, 0.611145536989638, 0.605818446843518, 0.6003045031234527, 0.5945935152601659, 0.5886745363702545, 0.5825357917472538, 0.5761645990827206, 0.5695472792795797, 0.562669056537494, 0.5555139461739508, 0.5480646283880672, 0.5403023058681398, 0.5403023058681398, 0.5480646283880672, 0.5555139461739509, 0.562669056537494, 0.5695472792795798, 0.5761645990827206, 0.5825357917472536, 0.5886745363702544, 0.5945935152601659, 0.6003045031234527, 0.605818446843518, 0.6111455369896379, 0.6162952720390903, 0.6212765161642947, 0.6260975513248574, 0.6307661243087533, 0.6352894892849155, 0.639674446359093, 0.6439273765641834, 0.6480542736638855], \"mode\": \"lines\", \"showlegend\": false, \"line\": {\"color\": \"rgb(255, 105, 97)\", \"width\": 5}}, {\"type\": \"scatter3d\", \"x\": [0, 0.7615941559557649], \"y\": [0, 0.0], \"z\": [0, 0.6480542736638855], \"opacity\": 0.3, \"mode\": \"lines\", \"showlegend\": false, \"line\": {\"color\": \"rgb(255, 105, 97)\"}}, {\"type\": \"scatter3d\", \"x\": [0, 0.7501633396051502], \"y\": [0, 0.15037452451667582], \"z\": [0, 0.6439273765641834], \"opacity\": 0.3, \"mode\": \"lines\", \"showlegend\": false, \"line\": {\"color\": \"rgb(255, 105, 97)\"}}, {\"type\": \"scatter3d\", \"x\": [0, 0.7379236737573273], \"y\": [0, 0.21514008083961841], \"z\": [0, 0.639674446359093], \"opacity\": 0.3, \"mode\": \"lines\", \"showlegend\": false, \"line\": {\"color\": \"rgb(255, 105, 97)\"}}, {\"type\": \"scatter3d\", \"x\": [0, 0.7247899360722031], \"y\": [0, 0.26662110451455856], \"z\": [0, 0.6352894892849155], \"opacity\": 0.3, \"mode\": \"lines\", \"showlegend\": false, \"line\": {\"color\": \"rgb(255, 105, 97)\"}}, {\"type\": \"scatter3d\", \"x\": [0, 0.7106636034397795], \"y\": [0, 0.3115948317454929], \"z\": [0, 0.6307661243087533], \"opacity\": 0.3, \"mode\": \"lines\", \"showlegend\": false, \"line\": {\"color\": \"rgb(255, 105, 97)\"}}, {\"type\": \"scatter3d\", \"x\": [0, 0.6954298506091808], \"y\": [0, 0.3526743244222776], \"z\": [0, 0.6260975513248574], \"opacity\": 0.3, \"mode\": \"lines\", \"showlegend\": false, \"line\": {\"color\": \"rgb(255, 105, 97)\"}}, {\"type\": \"scatter3d\", \"x\": [0, 0.6789536063359859], \"y\": [0, 0.39120006506404875], \"z\": [0, 0.6212765161642947], \"opacity\": 0.3, \"mode\": \"lines\", \"showlegend\": false, \"line\": {\"color\": \"rgb(255, 105, 97)\"}}, {\"type\": \"scatter3d\", \"x\": [0, 0.6610742710327009], \"y\": [0, 0.42797306672365115], \"z\": [0, 0.6162952720390903], \"opacity\": 0.3, \"mode\": \"lines\", \"showlegend\": false, \"line\": {\"color\": \"rgb(255, 105, 97)\"}}, {\"type\": \"scatter3d\", \"x\": [0, 0.6415984840062257], \"y\": [0, 0.4635218634957364], \"z\": [0, 0.6111455369896379], \"opacity\": 0.3, \"mode\": \"lines\", \"showlegend\": false, \"line\": {\"color\": \"rgb(255, 105, 97)\"}}, {\"type\": \"scatter3d\", \"x\": [0, 0.6202899628213892], \"y\": [0, 0.4982212073839764], \"z\": [0, 0.605818446843518], \"opacity\": 0.3, \"mode\": \"lines\", \"showlegend\": false, \"line\": {\"color\": \"rgb(255, 105, 97)\"}}, {\"type\": \"scatter3d\", \"x\": [0, 0.5968547917725454], \"y\": [0, 0.5323521964525514], \"z\": [0, 0.6003045031234527], \"opacity\": 0.3, \"mode\": \"lines\", \"showlegend\": false, \"line\": {\"color\": \"rgb(255, 105, 97)\"}}, {\"type\": \"scatter3d\", \"x\": [0, 0.570919338350225], \"y\": [0, 0.5661357264016289], \"z\": [0, 0.5945935152601659], \"opacity\": 0.3, \"mode\": \"lines\", \"showlegend\": false, \"line\": {\"color\": \"rgb(255, 105, 97)\"}}, {\"type\": \"scatter3d\", \"x\": [0, 0.5419956168461716], \"y\": [0, 0.5997524835703508], \"z\": [0, 0.5886745363702544], \"opacity\": 0.3, \"mode\": \"lines\", \"showlegend\": false, \"line\": {\"color\": \"rgb(255, 105, 97)\"}}, {\"type\": \"scatter3d\", \"x\": [0, 0.5094239203063663], \"y\": [0, 0.6333556037117642], \"z\": [0, 0.5825357917472536], \"opacity\": 0.3, \"mode\": \"lines\", \"showlegend\": false, \"line\": {\"color\": \"rgb(255, 105, 97)\"}}, {\"type\": \"scatter3d\", \"x\": [0, 0.47227094594266344], \"y\": [0, 0.667079087052105], \"z\": [0, 0.5761645990827206], \"opacity\": 0.3, \"mode\": \"lines\", \"showlegend\": false, \"line\": {\"color\": \"rgb(255, 105, 97)\"}}, {\"type\": \"scatter3d\", \"x\": [0, 0.42913134694848204], \"y\": [0, 0.7010436389636596], \"z\": [0, 0.5695472792795798], \"opacity\": 0.3, \"mode\": \"lines\", \"showlegend\": false, \"line\": {\"color\": \"rgb(255, 105, 97)\"}}, {\"type\": \"scatter3d\", \"x\": [0, 0.3776875619311621], \"y\": [0, 0.7353608898885642], \"z\": [0, 0.562669056537494], \"opacity\": 0.3, \"mode\": \"lines\", \"showlegend\": false, \"line\": {\"color\": \"rgb(255, 105, 97)\"}}, {\"type\": \"scatter3d\", \"x\": [0, 0.31351862062397406], \"y\": [0, 0.7701365658948324], \"z\": [0, 0.5555139461739509], \"opacity\": 0.3, \"mode\": \"lines\", \"showlegend\": false, \"line\": {\"color\": \"rgb(255, 105, 97)\"}}, {\"type\": \"scatter3d\", \"x\": [0, 0.22547386245080886], \"y\": [0, 0.8054729669339397], \"z\": [0, 0.5480646283880672], \"opacity\": 0.3, \"mode\": \"lines\", \"showlegend\": false, \"line\": {\"color\": \"rgb(255, 105, 97)\"}}, {\"type\": \"scatter3d\", \"x\": [0, 6.123233995736766e-17], \"y\": [0, 0.8414709848078965], \"z\": [0, 0.5403023058681398], \"opacity\": 0.3, \"mode\": \"lines\", \"showlegend\": false, \"line\": {\"color\": \"rgb(255, 105, 97)\"}}, {\"type\": \"scatter3d\", \"x\": [0, 6.123233995736766e-17], \"y\": [0, 0.8414709848078965], \"z\": [0, 0.5403023058681398], \"opacity\": 0.3, \"mode\": \"lines\", \"showlegend\": false, \"line\": {\"color\": \"rgb(255, 105, 97)\"}}, {\"type\": \"scatter3d\", \"x\": [0, -0.22547386245080897], \"y\": [0, 0.8054729669339397], \"z\": [0, 0.5480646283880672], \"opacity\": 0.3, \"mode\": \"lines\", \"showlegend\": false, \"line\": {\"color\": \"rgb(255, 105, 97)\"}}, {\"type\": \"scatter3d\", \"x\": [0, -0.3135186206239742], \"y\": [0, 0.7701365658948324], \"z\": [0, 0.5555139461739508], \"opacity\": 0.3, \"mode\": \"lines\", \"showlegend\": false, \"line\": {\"color\": \"rgb(255, 105, 97)\"}}, {\"type\": \"scatter3d\", \"x\": [0, -0.3776875619311622], \"y\": [0, 0.7353608898885642], \"z\": [0, 0.562669056537494], \"opacity\": 0.3, \"mode\": \"lines\", \"showlegend\": false, \"line\": {\"color\": \"rgb(255, 105, 97)\"}}, {\"type\": \"scatter3d\", \"x\": [0, -0.42913134694848215], \"y\": [0, 0.7010436389636595], \"z\": [0, 0.5695472792795797], \"opacity\": 0.3, \"mode\": \"lines\", \"showlegend\": false, \"line\": {\"color\": \"rgb(255, 105, 97)\"}}, {\"type\": \"scatter3d\", \"x\": [0, -0.47227094594266333], \"y\": [0, 0.6670790870521051], \"z\": [0, 0.5761645990827206], \"opacity\": 0.3, \"mode\": \"lines\", \"showlegend\": false, \"line\": {\"color\": \"rgb(255, 105, 97)\"}}, {\"type\": \"scatter3d\", \"x\": [0, -0.509423920306366], \"y\": [0, 0.6333556037117645], \"z\": [0, 0.5825357917472538], \"opacity\": 0.3, \"mode\": \"lines\", \"showlegend\": false, \"line\": {\"color\": \"rgb(255, 105, 97)\"}}, {\"type\": \"scatter3d\", \"x\": [0, -0.5419956168461715], \"y\": [0, 0.5997524835703508], \"z\": [0, 0.5886745363702545], \"opacity\": 0.3, \"mode\": \"lines\", \"showlegend\": false, \"line\": {\"color\": \"rgb(255, 105, 97)\"}}, {\"type\": \"scatter3d\", \"x\": [0, -0.570919338350225], \"y\": [0, 0.5661357264016289], \"z\": [0, 0.5945935152601659], \"opacity\": 0.3, \"mode\": \"lines\", \"showlegend\": false, \"line\": {\"color\": \"rgb(255, 105, 97)\"}}, {\"type\": \"scatter3d\", \"x\": [0, -0.5968547917725454], \"y\": [0, 0.5323521964525514], \"z\": [0, 0.6003045031234527], \"opacity\": 0.3, \"mode\": \"lines\", \"showlegend\": false, \"line\": {\"color\": \"rgb(255, 105, 97)\"}}, {\"type\": \"scatter3d\", \"x\": [0, -0.620289962821389], \"y\": [0, 0.49822120738397646], \"z\": [0, 0.605818446843518], \"opacity\": 0.3, \"mode\": \"lines\", \"showlegend\": false, \"line\": {\"color\": \"rgb(255, 105, 97)\"}}, {\"type\": \"scatter3d\", \"x\": [0, -0.6415984840062254], \"y\": [0, 0.4635218634957365], \"z\": [0, 0.611145536989638], \"opacity\": 0.3, \"mode\": \"lines\", \"showlegend\": false, \"line\": {\"color\": \"rgb(255, 105, 97)\"}}, {\"type\": \"scatter3d\", \"x\": [0, -0.6610742710327008], \"y\": [0, 0.4279730667236512], \"z\": [0, 0.6162952720390904], \"opacity\": 0.3, \"mode\": \"lines\", \"showlegend\": false, \"line\": {\"color\": \"rgb(255, 105, 97)\"}}, {\"type\": \"scatter3d\", \"x\": [0, -0.6789536063359858], \"y\": [0, 0.39120006506404875], \"z\": [0, 0.6212765161642947], \"opacity\": 0.3, \"mode\": \"lines\", \"showlegend\": false, \"line\": {\"color\": \"rgb(255, 105, 97)\"}}, {\"type\": \"scatter3d\", \"x\": [0, -0.6954298506091805], \"y\": [0, 0.35267432442227775], \"z\": [0, 0.6260975513248578], \"opacity\": 0.3, \"mode\": \"lines\", \"showlegend\": false, \"line\": {\"color\": \"rgb(255, 105, 97)\"}}, {\"type\": \"scatter3d\", \"x\": [0, -0.7106636034397797], \"y\": [0, 0.3115948317454929], \"z\": [0, 0.6307661243087532], \"opacity\": 0.3, \"mode\": \"lines\", \"showlegend\": false, \"line\": {\"color\": \"rgb(255, 105, 97)\"}}, {\"type\": \"scatter3d\", \"x\": [0, -0.7247899360722032], \"y\": [0, 0.26662110451455856], \"z\": [0, 0.6352894892849154], \"opacity\": 0.3, \"mode\": \"lines\", \"showlegend\": false, \"line\": {\"color\": \"rgb(255, 105, 97)\"}}, {\"type\": \"scatter3d\", \"x\": [0, -0.737923673757327], \"y\": [0, 0.21514008083961847], \"z\": [0, 0.6396744463590932], \"opacity\": 0.3, \"mode\": \"lines\", \"showlegend\": false, \"line\": {\"color\": \"rgb(255, 105, 97)\"}}, {\"type\": \"scatter3d\", \"x\": [0, -0.7501633396051501], \"y\": [0, 0.15037452451667585], \"z\": [0, 0.6439273765641835], \"opacity\": 0.3, \"mode\": \"lines\", \"showlegend\": false, \"line\": {\"color\": \"rgb(255, 105, 97)\"}}, {\"type\": \"scatter3d\", \"x\": [0, -0.761594155955765], \"y\": [0, 0.0], \"z\": [0, 0.6480542736638853], \"opacity\": 0.3, \"mode\": \"lines\", \"showlegend\": false, \"line\": {\"color\": \"rgb(255, 105, 97)\"}}, {\"type\": \"scatter3d\", \"x\": [0, -0.761594155955765], \"y\": [0, 0.0], \"z\": [0, 0.6480542736638853], \"opacity\": 0.3, \"mode\": \"lines\", \"showlegend\": false, \"line\": {\"color\": \"rgb(255, 105, 97)\"}}, {\"type\": \"scatter3d\", \"x\": [0, -0.7501633396051501], \"y\": [0, -0.15037452451667585], \"z\": [0, 0.6439273765641835], \"opacity\": 0.3, \"mode\": \"lines\", \"showlegend\": false, \"line\": {\"color\": \"rgb(255, 105, 97)\"}}, {\"type\": \"scatter3d\", \"x\": [0, -0.737923673757327], \"y\": [0, -0.21514008083961847], \"z\": [0, 0.6396744463590932], \"opacity\": 0.3, \"mode\": \"lines\", \"showlegend\": false, \"line\": {\"color\": \"rgb(255, 105, 97)\"}}, {\"type\": \"scatter3d\", \"x\": [0, -0.7247899360722032], \"y\": [0, -0.26662110451455856], \"z\": [0, 0.6352894892849154], \"opacity\": 0.3, \"mode\": \"lines\", \"showlegend\": false, \"line\": {\"color\": \"rgb(255, 105, 97)\"}}, {\"type\": \"scatter3d\", \"x\": [0, -0.7106636034397797], \"y\": [0, -0.3115948317454929], \"z\": [0, 0.6307661243087532], \"opacity\": 0.3, \"mode\": \"lines\", \"showlegend\": false, \"line\": {\"color\": \"rgb(255, 105, 97)\"}}, {\"type\": \"scatter3d\", \"x\": [0, -0.6954298506091805], \"y\": [0, -0.35267432442227775], \"z\": [0, 0.6260975513248578], \"opacity\": 0.3, \"mode\": \"lines\", \"showlegend\": false, \"line\": {\"color\": \"rgb(255, 105, 97)\"}}, {\"type\": \"scatter3d\", \"x\": [0, -0.6789536063359858], \"y\": [0, -0.39120006506404875], \"z\": [0, 0.6212765161642947], \"opacity\": 0.3, \"mode\": \"lines\", \"showlegend\": false, \"line\": {\"color\": \"rgb(255, 105, 97)\"}}, {\"type\": \"scatter3d\", \"x\": [0, -0.6610742710327008], \"y\": [0, -0.4279730667236512], \"z\": [0, 0.6162952720390904], \"opacity\": 0.3, \"mode\": \"lines\", \"showlegend\": false, \"line\": {\"color\": \"rgb(255, 105, 97)\"}}, {\"type\": \"scatter3d\", \"x\": [0, -0.6415984840062254], \"y\": [0, -0.4635218634957365], \"z\": [0, 0.611145536989638], \"opacity\": 0.3, \"mode\": \"lines\", \"showlegend\": false, \"line\": {\"color\": \"rgb(255, 105, 97)\"}}, {\"type\": \"scatter3d\", \"x\": [0, -0.620289962821389], \"y\": [0, -0.49822120738397646], \"z\": [0, 0.605818446843518], \"opacity\": 0.3, \"mode\": \"lines\", \"showlegend\": false, \"line\": {\"color\": \"rgb(255, 105, 97)\"}}, {\"type\": \"scatter3d\", \"x\": [0, -0.5968547917725454], \"y\": [0, -0.5323521964525514], \"z\": [0, 0.6003045031234527], \"opacity\": 0.3, \"mode\": \"lines\", \"showlegend\": false, \"line\": {\"color\": \"rgb(255, 105, 97)\"}}, {\"type\": \"scatter3d\", \"x\": [0, -0.570919338350225], \"y\": [0, -0.5661357264016289], \"z\": [0, 0.5945935152601659], \"opacity\": 0.3, \"mode\": \"lines\", \"showlegend\": false, \"line\": {\"color\": \"rgb(255, 105, 97)\"}}, {\"type\": \"scatter3d\", \"x\": [0, -0.5419956168461715], \"y\": [0, -0.5997524835703508], \"z\": [0, 0.5886745363702545], \"opacity\": 0.3, \"mode\": \"lines\", \"showlegend\": false, \"line\": {\"color\": \"rgb(255, 105, 97)\"}}, {\"type\": \"scatter3d\", \"x\": [0, -0.509423920306366], \"y\": [0, -0.6333556037117645], \"z\": [0, 0.5825357917472538], \"opacity\": 0.3, \"mode\": \"lines\", \"showlegend\": false, \"line\": {\"color\": \"rgb(255, 105, 97)\"}}, {\"type\": \"scatter3d\", \"x\": [0, -0.47227094594266333], \"y\": [0, -0.6670790870521051], \"z\": [0, 0.5761645990827206], \"opacity\": 0.3, \"mode\": \"lines\", \"showlegend\": false, \"line\": {\"color\": \"rgb(255, 105, 97)\"}}, {\"type\": \"scatter3d\", \"x\": [0, -0.42913134694848215], \"y\": [0, -0.7010436389636595], \"z\": [0, 0.5695472792795797], \"opacity\": 0.3, \"mode\": \"lines\", \"showlegend\": false, \"line\": {\"color\": \"rgb(255, 105, 97)\"}}, {\"type\": \"scatter3d\", \"x\": [0, -0.3776875619311622], \"y\": [0, -0.7353608898885642], \"z\": [0, 0.562669056537494], \"opacity\": 0.3, \"mode\": \"lines\", \"showlegend\": false, \"line\": {\"color\": \"rgb(255, 105, 97)\"}}, {\"type\": \"scatter3d\", \"x\": [0, -0.3135186206239742], \"y\": [0, -0.7701365658948324], \"z\": [0, 0.5555139461739508], \"opacity\": 0.3, \"mode\": \"lines\", \"showlegend\": false, \"line\": {\"color\": \"rgb(255, 105, 97)\"}}, {\"type\": \"scatter3d\", \"x\": [0, -0.22547386245080897], \"y\": [0, -0.8054729669339397], \"z\": [0, 0.5480646283880672], \"opacity\": 0.3, \"mode\": \"lines\", \"showlegend\": false, \"line\": {\"color\": \"rgb(255, 105, 97)\"}}, {\"type\": \"scatter3d\", \"x\": [0, 6.123233995736766e-17], \"y\": [0, -0.8414709848078965], \"z\": [0, 0.5403023058681398], \"opacity\": 0.3, \"mode\": \"lines\", \"showlegend\": false, \"line\": {\"color\": \"rgb(255, 105, 97)\"}}, {\"type\": \"scatter3d\", \"x\": [0, 6.123233995736766e-17], \"y\": [0, -0.8414709848078965], \"z\": [0, 0.5403023058681398], \"opacity\": 0.3, \"mode\": \"lines\", \"showlegend\": false, \"line\": {\"color\": \"rgb(255, 105, 97)\"}}, {\"type\": \"scatter3d\", \"x\": [0, 0.22547386245080886], \"y\": [0, -0.8054729669339397], \"z\": [0, 0.5480646283880672], \"opacity\": 0.3, \"mode\": \"lines\", \"showlegend\": false, \"line\": {\"color\": \"rgb(255, 105, 97)\"}}, {\"type\": \"scatter3d\", \"x\": [0, 0.31351862062397406], \"y\": [0, -0.7701365658948324], \"z\": [0, 0.5555139461739509], \"opacity\": 0.3, \"mode\": \"lines\", \"showlegend\": false, \"line\": {\"color\": \"rgb(255, 105, 97)\"}}, {\"type\": \"scatter3d\", \"x\": [0, 0.3776875619311621], \"y\": [0, -0.7353608898885642], \"z\": [0, 0.562669056537494], \"opacity\": 0.3, \"mode\": \"lines\", \"showlegend\": false, \"line\": {\"color\": \"rgb(255, 105, 97)\"}}, {\"type\": \"scatter3d\", \"x\": [0, 0.42913134694848204], \"y\": [0, -0.7010436389636596], \"z\": [0, 0.5695472792795798], \"opacity\": 0.3, \"mode\": \"lines\", \"showlegend\": false, \"line\": {\"color\": \"rgb(255, 105, 97)\"}}, {\"type\": \"scatter3d\", \"x\": [0, 0.47227094594266344], \"y\": [0, -0.667079087052105], \"z\": [0, 0.5761645990827206], \"opacity\": 0.3, \"mode\": \"lines\", \"showlegend\": false, \"line\": {\"color\": \"rgb(255, 105, 97)\"}}, {\"type\": \"scatter3d\", \"x\": [0, 0.5094239203063663], \"y\": [0, -0.6333556037117642], \"z\": [0, 0.5825357917472536], \"opacity\": 0.3, \"mode\": \"lines\", \"showlegend\": false, \"line\": {\"color\": \"rgb(255, 105, 97)\"}}, {\"type\": \"scatter3d\", \"x\": [0, 0.5419956168461716], \"y\": [0, -0.5997524835703508], \"z\": [0, 0.5886745363702544], \"opacity\": 0.3, \"mode\": \"lines\", \"showlegend\": false, \"line\": {\"color\": \"rgb(255, 105, 97)\"}}, {\"type\": \"scatter3d\", \"x\": [0, 0.570919338350225], \"y\": [0, -0.5661357264016289], \"z\": [0, 0.5945935152601659], \"opacity\": 0.3, \"mode\": \"lines\", \"showlegend\": false, \"line\": {\"color\": \"rgb(255, 105, 97)\"}}, {\"type\": \"scatter3d\", \"x\": [0, 0.5968547917725454], \"y\": [0, -0.5323521964525514], \"z\": [0, 0.6003045031234527], \"opacity\": 0.3, \"mode\": \"lines\", \"showlegend\": false, \"line\": {\"color\": \"rgb(255, 105, 97)\"}}, {\"type\": \"scatter3d\", \"x\": [0, 0.6202899628213892], \"y\": [0, -0.4982212073839764], \"z\": [0, 0.605818446843518], \"opacity\": 0.3, \"mode\": \"lines\", \"showlegend\": false, \"line\": {\"color\": \"rgb(255, 105, 97)\"}}, {\"type\": \"scatter3d\", \"x\": [0, 0.6415984840062257], \"y\": [0, -0.4635218634957364], \"z\": [0, 0.6111455369896379], \"opacity\": 0.3, \"mode\": \"lines\", \"showlegend\": false, \"line\": {\"color\": \"rgb(255, 105, 97)\"}}, {\"type\": \"scatter3d\", \"x\": [0, 0.6610742710327009], \"y\": [0, -0.42797306672365115], \"z\": [0, 0.6162952720390903], \"opacity\": 0.3, \"mode\": \"lines\", \"showlegend\": false, \"line\": {\"color\": \"rgb(255, 105, 97)\"}}, {\"type\": \"scatter3d\", \"x\": [0, 0.6789536063359859], \"y\": [0, -0.39120006506404875], \"z\": [0, 0.6212765161642947], \"opacity\": 0.3, \"mode\": \"lines\", \"showlegend\": false, \"line\": {\"color\": \"rgb(255, 105, 97)\"}}, {\"type\": \"scatter3d\", \"x\": [0, 0.6954298506091808], \"y\": [0, -0.3526743244222776], \"z\": [0, 0.6260975513248574], \"opacity\": 0.3, \"mode\": \"lines\", \"showlegend\": false, \"line\": {\"color\": \"rgb(255, 105, 97)\"}}, {\"type\": \"scatter3d\", \"x\": [0, 0.7106636034397795], \"y\": [0, -0.3115948317454929], \"z\": [0, 0.6307661243087533], \"opacity\": 0.3, \"mode\": \"lines\", \"showlegend\": false, \"line\": {\"color\": \"rgb(255, 105, 97)\"}}, {\"type\": \"scatter3d\", \"x\": [0, 0.7247899360722031], \"y\": [0, -0.26662110451455856], \"z\": [0, 0.6352894892849155], \"opacity\": 0.3, \"mode\": \"lines\", \"showlegend\": false, \"line\": {\"color\": \"rgb(255, 105, 97)\"}}, {\"type\": \"scatter3d\", \"x\": [0, 0.7379236737573273], \"y\": [0, -0.21514008083961841], \"z\": [0, 0.639674446359093], \"opacity\": 0.3, \"mode\": \"lines\", \"showlegend\": false, \"line\": {\"color\": \"rgb(255, 105, 97)\"}}, {\"type\": \"scatter3d\", \"x\": [0, 0.7501633396051502], \"y\": [0, -0.15037452451667582], \"z\": [0, 0.6439273765641834], \"opacity\": 0.3, \"mode\": \"lines\", \"showlegend\": false, \"line\": {\"color\": \"rgb(255, 105, 97)\"}}, {\"type\": \"scatter3d\", \"x\": [0, 0.7615941559557649], \"y\": [0, 0.0], \"z\": [0, 0.6480542736638855], \"opacity\": 0.3, \"mode\": \"lines\", \"showlegend\": false, \"line\": {\"color\": \"rgb(255, 105, 97)\"}}], {\"margin\": {\"l\": 0, \"r\": 0, \"b\": 0, \"t\": 0}, \"scene\": {\"xaxis\": {\"title\": \"Z\"}, \"yaxis\": {\"title\": \"Y\"}, \"zaxis\": {\"title\": \"X\"}}}, {\"showLink\": true, \"linkText\": \"Export to plot.ly\"})});</script>"
      ],
      "text/vnd.plotly.v1+html": [
       "<div id=\"4715affd-3b93-4e00-ac45-b4f6e84b7a48\" style=\"height: 525px; width: 100%;\" class=\"plotly-graph-div\"></div><script type=\"text/javascript\">require([\"plotly\"], function(Plotly) { window.PLOTLYENV=window.PLOTLYENV || {};window.PLOTLYENV.BASE_URL=\"https://plot.ly\";Plotly.newPlot(\"4715affd-3b93-4e00-ac45-b4f6e84b7a48\", [{\"type\": \"scatter3d\", \"x\": [-1.0, 1.0], \"y\": [0, 0], \"z\": [0, 0], \"mode\": \"lines\", \"showlegend\": false, \"line\": {\"color\": \"rgb(0,33,71)\", \"width\": 5}}, {\"type\": \"surface\", \"x\": [[-1.0, -1.0, -1.0, -1.0, -1.0, -1.0, -1.0, -1.0, -1.0, -1.0], [1.0, 1.0, 1.0, 1.0, 1.0, 1.0, 1.0, 1.0, 1.0, 1.0]], \"y\": [[0.0, 0.342020143325669, 0.6427876096865394, 0.8660254037844386, 0.984807753012208, 0.984807753012208, 0.8660254037844388, 0.6427876096865395, 0.342020143325669, 0.0], [0.0, 0.342020143325669, 0.6427876096865394, 0.8660254037844386, 0.984807753012208, 0.984807753012208, 0.8660254037844388, 0.6427876096865395, 0.342020143325669, 0.0]], \"z\": [[-1.0, -0.9396926207859083, -0.766044443118978, -0.5, -0.17364817766693036, 0.17364817766693036, 0.49999999999999983, 0.7660444431189779, 0.9396926207859083, 1.0], [-1.0, -0.9396926207859083, -0.766044443118978, -0.5, -0.17364817766693036, 0.17364817766693036, 0.49999999999999983, 0.7660444431189779, 0.9396926207859083, 1.0]], \"surfacecolor\": [1, 1], \"showscale\": false, \"opacity\": 0.4}, {\"type\": \"surface\", \"x\": [[-1.0, -1.0, -1.0, -1.0, -1.0, -1.0, -1.0, -1.0, -1.0, -1.0], [1.0, 1.0, 1.0, 1.0, 1.0, 1.0, 1.0, 1.0, 1.0, 1.0]], \"y\": [[-0.0, -0.342020143325669, -0.6427876096865394, -0.8660254037844386, -0.984807753012208, -0.984807753012208, -0.8660254037844388, -0.6427876096865395, -0.342020143325669, -0.0], [-0.0, -0.342020143325669, -0.6427876096865394, -0.8660254037844386, -0.984807753012208, -0.984807753012208, -0.8660254037844388, -0.6427876096865395, -0.342020143325669, -0.0]], \"z\": [[-1.0, -0.9396926207859083, -0.766044443118978, -0.5, -0.17364817766693036, 0.17364817766693036, 0.49999999999999983, 0.7660444431189779, 0.9396926207859083, 1.0], [-1.0, -0.9396926207859083, -0.766044443118978, -0.5, -0.17364817766693036, 0.17364817766693036, 0.49999999999999983, 0.7660444431189779, 0.9396926207859083, 1.0]], \"surfacecolor\": [1, 1], \"showscale\": false, \"opacity\": 0.4}, {\"type\": \"scatter3d\", \"x\": [0.0, 6.123233995736766e-17], \"y\": [0.0, 0.0], \"z\": [0.0, 1.0], \"mode\": \"lines\", \"showlegend\": false, \"line\": {\"color\": \"rgb(255, 105, 97)\", \"width\": 7}}, {\"type\": \"scatter3d\", \"x\": [0.7615941559557649, 0.7501633396051502, 0.7379236737573273, 0.7247899360722031, 0.7106636034397795, 0.6954298506091808, 0.6789536063359859, 0.6610742710327009, 0.6415984840062257, 0.6202899628213892, 0.5968547917725454, 0.570919338350225, 0.5419956168461716, 0.5094239203063663, 0.47227094594266344, 0.42913134694848204, 0.3776875619311621, 0.31351862062397406, 0.22547386245080886, 6.123233995736766e-17, 6.123233995736766e-17, -0.22547386245080897, -0.3135186206239742, -0.3776875619311622, -0.42913134694848215, -0.47227094594266333, -0.509423920306366, -0.5419956168461715, -0.570919338350225, -0.5968547917725454, -0.620289962821389, -0.6415984840062254, -0.6610742710327008, -0.6789536063359858, -0.6954298506091805, -0.7106636034397797, -0.7247899360722032, -0.737923673757327, -0.7501633396051501, -0.761594155955765, -0.761594155955765, -0.7501633396051501, -0.737923673757327, -0.7247899360722032, -0.7106636034397797, -0.6954298506091805, -0.6789536063359858, -0.6610742710327008, -0.6415984840062254, -0.620289962821389, -0.5968547917725454, -0.570919338350225, -0.5419956168461715, -0.509423920306366, -0.47227094594266333, -0.42913134694848215, -0.3776875619311622, -0.3135186206239742, -0.22547386245080897, 6.123233995736766e-17, 6.123233995736766e-17, 0.22547386245080886, 0.31351862062397406, 0.3776875619311621, 0.42913134694848204, 0.47227094594266344, 0.5094239203063663, 0.5419956168461716, 0.570919338350225, 0.5968547917725454, 0.6202899628213892, 0.6415984840062257, 0.6610742710327009, 0.6789536063359859, 0.6954298506091808, 0.7106636034397795, 0.7247899360722031, 0.7379236737573273, 0.7501633396051502, 0.7615941559557649], \"y\": [0.0, 0.15037452451667582, 0.21514008083961841, 0.26662110451455856, 0.3115948317454929, 0.3526743244222776, 0.39120006506404875, 0.42797306672365115, 0.4635218634957364, 0.4982212073839764, 0.5323521964525514, 0.5661357264016289, 0.5997524835703508, 0.6333556037117642, 0.667079087052105, 0.7010436389636596, 0.7353608898885642, 0.7701365658948324, 0.8054729669339397, 0.8414709848078965, 0.8414709848078965, 0.8054729669339397, 0.7701365658948324, 0.7353608898885642, 0.7010436389636595, 0.6670790870521051, 0.6333556037117645, 0.5997524835703508, 0.5661357264016289, 0.5323521964525514, 0.49822120738397646, 0.4635218634957365, 0.4279730667236512, 0.39120006506404875, 0.35267432442227775, 0.3115948317454929, 0.26662110451455856, 0.21514008083961847, 0.15037452451667585, 0.0, 0.0, -0.15037452451667585, -0.21514008083961847, -0.26662110451455856, -0.3115948317454929, -0.35267432442227775, -0.39120006506404875, -0.4279730667236512, -0.4635218634957365, -0.49822120738397646, -0.5323521964525514, -0.5661357264016289, -0.5997524835703508, -0.6333556037117645, -0.6670790870521051, -0.7010436389636595, -0.7353608898885642, -0.7701365658948324, -0.8054729669339397, -0.8414709848078965, -0.8414709848078965, -0.8054729669339397, -0.7701365658948324, -0.7353608898885642, -0.7010436389636596, -0.667079087052105, -0.6333556037117642, -0.5997524835703508, -0.5661357264016289, -0.5323521964525514, -0.4982212073839764, -0.4635218634957364, -0.42797306672365115, -0.39120006506404875, -0.3526743244222776, -0.3115948317454929, -0.26662110451455856, -0.21514008083961841, -0.15037452451667582, 0.0], \"z\": [0.6480542736638855, 0.6439273765641834, 0.639674446359093, 0.6352894892849155, 0.6307661243087533, 0.6260975513248574, 0.6212765161642947, 0.6162952720390903, 0.6111455369896379, 0.605818446843518, 0.6003045031234527, 0.5945935152601659, 0.5886745363702544, 0.5825357917472536, 0.5761645990827206, 0.5695472792795798, 0.562669056537494, 0.5555139461739509, 0.5480646283880672, 0.5403023058681398, 0.5403023058681398, 0.5480646283880672, 0.5555139461739508, 0.562669056537494, 0.5695472792795797, 0.5761645990827206, 0.5825357917472538, 0.5886745363702545, 0.5945935152601659, 0.6003045031234527, 0.605818446843518, 0.611145536989638, 0.6162952720390904, 0.6212765161642947, 0.6260975513248578, 0.6307661243087532, 0.6352894892849154, 0.6396744463590932, 0.6439273765641835, 0.6480542736638853, 0.6480542736638853, 0.6439273765641835, 0.6396744463590932, 0.6352894892849154, 0.6307661243087532, 0.6260975513248578, 0.6212765161642947, 0.6162952720390904, 0.611145536989638, 0.605818446843518, 0.6003045031234527, 0.5945935152601659, 0.5886745363702545, 0.5825357917472538, 0.5761645990827206, 0.5695472792795797, 0.562669056537494, 0.5555139461739508, 0.5480646283880672, 0.5403023058681398, 0.5403023058681398, 0.5480646283880672, 0.5555139461739509, 0.562669056537494, 0.5695472792795798, 0.5761645990827206, 0.5825357917472536, 0.5886745363702544, 0.5945935152601659, 0.6003045031234527, 0.605818446843518, 0.6111455369896379, 0.6162952720390903, 0.6212765161642947, 0.6260975513248574, 0.6307661243087533, 0.6352894892849155, 0.639674446359093, 0.6439273765641834, 0.6480542736638855], \"mode\": \"lines\", \"showlegend\": false, \"line\": {\"color\": \"rgb(255, 105, 97)\", \"width\": 5}}, {\"type\": \"scatter3d\", \"x\": [0, 0.7615941559557649], \"y\": [0, 0.0], \"z\": [0, 0.6480542736638855], \"opacity\": 0.3, \"mode\": \"lines\", \"showlegend\": false, \"line\": {\"color\": \"rgb(255, 105, 97)\"}}, {\"type\": \"scatter3d\", \"x\": [0, 0.7501633396051502], \"y\": [0, 0.15037452451667582], \"z\": [0, 0.6439273765641834], \"opacity\": 0.3, \"mode\": \"lines\", \"showlegend\": false, \"line\": {\"color\": \"rgb(255, 105, 97)\"}}, {\"type\": \"scatter3d\", \"x\": [0, 0.7379236737573273], \"y\": [0, 0.21514008083961841], \"z\": [0, 0.639674446359093], \"opacity\": 0.3, \"mode\": \"lines\", \"showlegend\": false, \"line\": {\"color\": \"rgb(255, 105, 97)\"}}, {\"type\": \"scatter3d\", \"x\": [0, 0.7247899360722031], \"y\": [0, 0.26662110451455856], \"z\": [0, 0.6352894892849155], \"opacity\": 0.3, \"mode\": \"lines\", \"showlegend\": false, \"line\": {\"color\": \"rgb(255, 105, 97)\"}}, {\"type\": \"scatter3d\", \"x\": [0, 0.7106636034397795], \"y\": [0, 0.3115948317454929], \"z\": [0, 0.6307661243087533], \"opacity\": 0.3, \"mode\": \"lines\", \"showlegend\": false, \"line\": {\"color\": \"rgb(255, 105, 97)\"}}, {\"type\": \"scatter3d\", \"x\": [0, 0.6954298506091808], \"y\": [0, 0.3526743244222776], \"z\": [0, 0.6260975513248574], \"opacity\": 0.3, \"mode\": \"lines\", \"showlegend\": false, \"line\": {\"color\": \"rgb(255, 105, 97)\"}}, {\"type\": \"scatter3d\", \"x\": [0, 0.6789536063359859], \"y\": [0, 0.39120006506404875], \"z\": [0, 0.6212765161642947], \"opacity\": 0.3, \"mode\": \"lines\", \"showlegend\": false, \"line\": {\"color\": \"rgb(255, 105, 97)\"}}, {\"type\": \"scatter3d\", \"x\": [0, 0.6610742710327009], \"y\": [0, 0.42797306672365115], \"z\": [0, 0.6162952720390903], \"opacity\": 0.3, \"mode\": \"lines\", \"showlegend\": false, \"line\": {\"color\": \"rgb(255, 105, 97)\"}}, {\"type\": \"scatter3d\", \"x\": [0, 0.6415984840062257], \"y\": [0, 0.4635218634957364], \"z\": [0, 0.6111455369896379], \"opacity\": 0.3, \"mode\": \"lines\", \"showlegend\": false, \"line\": {\"color\": \"rgb(255, 105, 97)\"}}, {\"type\": \"scatter3d\", \"x\": [0, 0.6202899628213892], \"y\": [0, 0.4982212073839764], \"z\": [0, 0.605818446843518], \"opacity\": 0.3, \"mode\": \"lines\", \"showlegend\": false, \"line\": {\"color\": \"rgb(255, 105, 97)\"}}, {\"type\": \"scatter3d\", \"x\": [0, 0.5968547917725454], \"y\": [0, 0.5323521964525514], \"z\": [0, 0.6003045031234527], \"opacity\": 0.3, \"mode\": \"lines\", \"showlegend\": false, \"line\": {\"color\": \"rgb(255, 105, 97)\"}}, {\"type\": \"scatter3d\", \"x\": [0, 0.570919338350225], \"y\": [0, 0.5661357264016289], \"z\": [0, 0.5945935152601659], \"opacity\": 0.3, \"mode\": \"lines\", \"showlegend\": false, \"line\": {\"color\": \"rgb(255, 105, 97)\"}}, {\"type\": \"scatter3d\", \"x\": [0, 0.5419956168461716], \"y\": [0, 0.5997524835703508], \"z\": [0, 0.5886745363702544], \"opacity\": 0.3, \"mode\": \"lines\", \"showlegend\": false, \"line\": {\"color\": \"rgb(255, 105, 97)\"}}, {\"type\": \"scatter3d\", \"x\": [0, 0.5094239203063663], \"y\": [0, 0.6333556037117642], \"z\": [0, 0.5825357917472536], \"opacity\": 0.3, \"mode\": \"lines\", \"showlegend\": false, \"line\": {\"color\": \"rgb(255, 105, 97)\"}}, {\"type\": \"scatter3d\", \"x\": [0, 0.47227094594266344], \"y\": [0, 0.667079087052105], \"z\": [0, 0.5761645990827206], \"opacity\": 0.3, \"mode\": \"lines\", \"showlegend\": false, \"line\": {\"color\": \"rgb(255, 105, 97)\"}}, {\"type\": \"scatter3d\", \"x\": [0, 0.42913134694848204], \"y\": [0, 0.7010436389636596], \"z\": [0, 0.5695472792795798], \"opacity\": 0.3, \"mode\": \"lines\", \"showlegend\": false, \"line\": {\"color\": \"rgb(255, 105, 97)\"}}, {\"type\": \"scatter3d\", \"x\": [0, 0.3776875619311621], \"y\": [0, 0.7353608898885642], \"z\": [0, 0.562669056537494], \"opacity\": 0.3, \"mode\": \"lines\", \"showlegend\": false, \"line\": {\"color\": \"rgb(255, 105, 97)\"}}, {\"type\": \"scatter3d\", \"x\": [0, 0.31351862062397406], \"y\": [0, 0.7701365658948324], \"z\": [0, 0.5555139461739509], \"opacity\": 0.3, \"mode\": \"lines\", \"showlegend\": false, \"line\": {\"color\": \"rgb(255, 105, 97)\"}}, {\"type\": \"scatter3d\", \"x\": [0, 0.22547386245080886], \"y\": [0, 0.8054729669339397], \"z\": [0, 0.5480646283880672], \"opacity\": 0.3, \"mode\": \"lines\", \"showlegend\": false, \"line\": {\"color\": \"rgb(255, 105, 97)\"}}, {\"type\": \"scatter3d\", \"x\": [0, 6.123233995736766e-17], \"y\": [0, 0.8414709848078965], \"z\": [0, 0.5403023058681398], \"opacity\": 0.3, \"mode\": \"lines\", \"showlegend\": false, \"line\": {\"color\": \"rgb(255, 105, 97)\"}}, {\"type\": \"scatter3d\", \"x\": [0, 6.123233995736766e-17], \"y\": [0, 0.8414709848078965], \"z\": [0, 0.5403023058681398], \"opacity\": 0.3, \"mode\": \"lines\", \"showlegend\": false, \"line\": {\"color\": \"rgb(255, 105, 97)\"}}, {\"type\": \"scatter3d\", \"x\": [0, -0.22547386245080897], \"y\": [0, 0.8054729669339397], \"z\": [0, 0.5480646283880672], \"opacity\": 0.3, \"mode\": \"lines\", \"showlegend\": false, \"line\": {\"color\": \"rgb(255, 105, 97)\"}}, {\"type\": \"scatter3d\", \"x\": [0, -0.3135186206239742], \"y\": [0, 0.7701365658948324], \"z\": [0, 0.5555139461739508], \"opacity\": 0.3, \"mode\": \"lines\", \"showlegend\": false, \"line\": {\"color\": \"rgb(255, 105, 97)\"}}, {\"type\": \"scatter3d\", \"x\": [0, -0.3776875619311622], \"y\": [0, 0.7353608898885642], \"z\": [0, 0.562669056537494], \"opacity\": 0.3, \"mode\": \"lines\", \"showlegend\": false, \"line\": {\"color\": \"rgb(255, 105, 97)\"}}, {\"type\": \"scatter3d\", \"x\": [0, -0.42913134694848215], \"y\": [0, 0.7010436389636595], \"z\": [0, 0.5695472792795797], \"opacity\": 0.3, \"mode\": \"lines\", \"showlegend\": false, \"line\": {\"color\": \"rgb(255, 105, 97)\"}}, {\"type\": \"scatter3d\", \"x\": [0, -0.47227094594266333], \"y\": [0, 0.6670790870521051], \"z\": [0, 0.5761645990827206], \"opacity\": 0.3, \"mode\": \"lines\", \"showlegend\": false, \"line\": {\"color\": \"rgb(255, 105, 97)\"}}, {\"type\": \"scatter3d\", \"x\": [0, -0.509423920306366], \"y\": [0, 0.6333556037117645], \"z\": [0, 0.5825357917472538], \"opacity\": 0.3, \"mode\": \"lines\", \"showlegend\": false, \"line\": {\"color\": \"rgb(255, 105, 97)\"}}, {\"type\": \"scatter3d\", \"x\": [0, -0.5419956168461715], \"y\": [0, 0.5997524835703508], \"z\": [0, 0.5886745363702545], \"opacity\": 0.3, \"mode\": \"lines\", \"showlegend\": false, \"line\": {\"color\": \"rgb(255, 105, 97)\"}}, {\"type\": \"scatter3d\", \"x\": [0, -0.570919338350225], \"y\": [0, 0.5661357264016289], \"z\": [0, 0.5945935152601659], \"opacity\": 0.3, \"mode\": \"lines\", \"showlegend\": false, \"line\": {\"color\": \"rgb(255, 105, 97)\"}}, {\"type\": \"scatter3d\", \"x\": [0, -0.5968547917725454], \"y\": [0, 0.5323521964525514], \"z\": [0, 0.6003045031234527], \"opacity\": 0.3, \"mode\": \"lines\", \"showlegend\": false, \"line\": {\"color\": \"rgb(255, 105, 97)\"}}, {\"type\": \"scatter3d\", \"x\": [0, -0.620289962821389], \"y\": [0, 0.49822120738397646], \"z\": [0, 0.605818446843518], \"opacity\": 0.3, \"mode\": \"lines\", \"showlegend\": false, \"line\": {\"color\": \"rgb(255, 105, 97)\"}}, {\"type\": \"scatter3d\", \"x\": [0, -0.6415984840062254], \"y\": [0, 0.4635218634957365], \"z\": [0, 0.611145536989638], \"opacity\": 0.3, \"mode\": \"lines\", \"showlegend\": false, \"line\": {\"color\": \"rgb(255, 105, 97)\"}}, {\"type\": \"scatter3d\", \"x\": [0, -0.6610742710327008], \"y\": [0, 0.4279730667236512], \"z\": [0, 0.6162952720390904], \"opacity\": 0.3, \"mode\": \"lines\", \"showlegend\": false, \"line\": {\"color\": \"rgb(255, 105, 97)\"}}, {\"type\": \"scatter3d\", \"x\": [0, -0.6789536063359858], \"y\": [0, 0.39120006506404875], \"z\": [0, 0.6212765161642947], \"opacity\": 0.3, \"mode\": \"lines\", \"showlegend\": false, \"line\": {\"color\": \"rgb(255, 105, 97)\"}}, {\"type\": \"scatter3d\", \"x\": [0, -0.6954298506091805], \"y\": [0, 0.35267432442227775], \"z\": [0, 0.6260975513248578], \"opacity\": 0.3, \"mode\": \"lines\", \"showlegend\": false, \"line\": {\"color\": \"rgb(255, 105, 97)\"}}, {\"type\": \"scatter3d\", \"x\": [0, -0.7106636034397797], \"y\": [0, 0.3115948317454929], \"z\": [0, 0.6307661243087532], \"opacity\": 0.3, \"mode\": \"lines\", \"showlegend\": false, \"line\": {\"color\": \"rgb(255, 105, 97)\"}}, {\"type\": \"scatter3d\", \"x\": [0, -0.7247899360722032], \"y\": [0, 0.26662110451455856], \"z\": [0, 0.6352894892849154], \"opacity\": 0.3, \"mode\": \"lines\", \"showlegend\": false, \"line\": {\"color\": \"rgb(255, 105, 97)\"}}, {\"type\": \"scatter3d\", \"x\": [0, -0.737923673757327], \"y\": [0, 0.21514008083961847], \"z\": [0, 0.6396744463590932], \"opacity\": 0.3, \"mode\": \"lines\", \"showlegend\": false, \"line\": {\"color\": \"rgb(255, 105, 97)\"}}, {\"type\": \"scatter3d\", \"x\": [0, -0.7501633396051501], \"y\": [0, 0.15037452451667585], \"z\": [0, 0.6439273765641835], \"opacity\": 0.3, \"mode\": \"lines\", \"showlegend\": false, \"line\": {\"color\": \"rgb(255, 105, 97)\"}}, {\"type\": \"scatter3d\", \"x\": [0, -0.761594155955765], \"y\": [0, 0.0], \"z\": [0, 0.6480542736638853], \"opacity\": 0.3, \"mode\": \"lines\", \"showlegend\": false, \"line\": {\"color\": \"rgb(255, 105, 97)\"}}, {\"type\": \"scatter3d\", \"x\": [0, -0.761594155955765], \"y\": [0, 0.0], \"z\": [0, 0.6480542736638853], \"opacity\": 0.3, \"mode\": \"lines\", \"showlegend\": false, \"line\": {\"color\": \"rgb(255, 105, 97)\"}}, {\"type\": \"scatter3d\", \"x\": [0, -0.7501633396051501], \"y\": [0, -0.15037452451667585], \"z\": [0, 0.6439273765641835], \"opacity\": 0.3, \"mode\": \"lines\", \"showlegend\": false, \"line\": {\"color\": \"rgb(255, 105, 97)\"}}, {\"type\": \"scatter3d\", \"x\": [0, -0.737923673757327], \"y\": [0, -0.21514008083961847], \"z\": [0, 0.6396744463590932], \"opacity\": 0.3, \"mode\": \"lines\", \"showlegend\": false, \"line\": {\"color\": \"rgb(255, 105, 97)\"}}, {\"type\": \"scatter3d\", \"x\": [0, -0.7247899360722032], \"y\": [0, -0.26662110451455856], \"z\": [0, 0.6352894892849154], \"opacity\": 0.3, \"mode\": \"lines\", \"showlegend\": false, \"line\": {\"color\": \"rgb(255, 105, 97)\"}}, {\"type\": \"scatter3d\", \"x\": [0, -0.7106636034397797], \"y\": [0, -0.3115948317454929], \"z\": [0, 0.6307661243087532], \"opacity\": 0.3, \"mode\": \"lines\", \"showlegend\": false, \"line\": {\"color\": \"rgb(255, 105, 97)\"}}, {\"type\": \"scatter3d\", \"x\": [0, -0.6954298506091805], \"y\": [0, -0.35267432442227775], \"z\": [0, 0.6260975513248578], \"opacity\": 0.3, \"mode\": \"lines\", \"showlegend\": false, \"line\": {\"color\": \"rgb(255, 105, 97)\"}}, {\"type\": \"scatter3d\", \"x\": [0, -0.6789536063359858], \"y\": [0, -0.39120006506404875], \"z\": [0, 0.6212765161642947], \"opacity\": 0.3, \"mode\": \"lines\", \"showlegend\": false, \"line\": {\"color\": \"rgb(255, 105, 97)\"}}, {\"type\": \"scatter3d\", \"x\": [0, -0.6610742710327008], \"y\": [0, -0.4279730667236512], \"z\": [0, 0.6162952720390904], \"opacity\": 0.3, \"mode\": \"lines\", \"showlegend\": false, \"line\": {\"color\": \"rgb(255, 105, 97)\"}}, {\"type\": \"scatter3d\", \"x\": [0, -0.6415984840062254], \"y\": [0, -0.4635218634957365], \"z\": [0, 0.611145536989638], \"opacity\": 0.3, \"mode\": \"lines\", \"showlegend\": false, \"line\": {\"color\": \"rgb(255, 105, 97)\"}}, {\"type\": \"scatter3d\", \"x\": [0, -0.620289962821389], \"y\": [0, -0.49822120738397646], \"z\": [0, 0.605818446843518], \"opacity\": 0.3, \"mode\": \"lines\", \"showlegend\": false, \"line\": {\"color\": \"rgb(255, 105, 97)\"}}, {\"type\": \"scatter3d\", \"x\": [0, -0.5968547917725454], \"y\": [0, -0.5323521964525514], \"z\": [0, 0.6003045031234527], \"opacity\": 0.3, \"mode\": \"lines\", \"showlegend\": false, \"line\": {\"color\": \"rgb(255, 105, 97)\"}}, {\"type\": \"scatter3d\", \"x\": [0, -0.570919338350225], \"y\": [0, -0.5661357264016289], \"z\": [0, 0.5945935152601659], \"opacity\": 0.3, \"mode\": \"lines\", \"showlegend\": false, \"line\": {\"color\": \"rgb(255, 105, 97)\"}}, {\"type\": \"scatter3d\", \"x\": [0, -0.5419956168461715], \"y\": [0, -0.5997524835703508], \"z\": [0, 0.5886745363702545], \"opacity\": 0.3, \"mode\": \"lines\", \"showlegend\": false, \"line\": {\"color\": \"rgb(255, 105, 97)\"}}, {\"type\": \"scatter3d\", \"x\": [0, -0.509423920306366], \"y\": [0, -0.6333556037117645], \"z\": [0, 0.5825357917472538], \"opacity\": 0.3, \"mode\": \"lines\", \"showlegend\": false, \"line\": {\"color\": \"rgb(255, 105, 97)\"}}, {\"type\": \"scatter3d\", \"x\": [0, -0.47227094594266333], \"y\": [0, -0.6670790870521051], \"z\": [0, 0.5761645990827206], \"opacity\": 0.3, \"mode\": \"lines\", \"showlegend\": false, \"line\": {\"color\": \"rgb(255, 105, 97)\"}}, {\"type\": \"scatter3d\", \"x\": [0, -0.42913134694848215], \"y\": [0, -0.7010436389636595], \"z\": [0, 0.5695472792795797], \"opacity\": 0.3, \"mode\": \"lines\", \"showlegend\": false, \"line\": {\"color\": \"rgb(255, 105, 97)\"}}, {\"type\": \"scatter3d\", \"x\": [0, -0.3776875619311622], \"y\": [0, -0.7353608898885642], \"z\": [0, 0.562669056537494], \"opacity\": 0.3, \"mode\": \"lines\", \"showlegend\": false, \"line\": {\"color\": \"rgb(255, 105, 97)\"}}, {\"type\": \"scatter3d\", \"x\": [0, -0.3135186206239742], \"y\": [0, -0.7701365658948324], \"z\": [0, 0.5555139461739508], \"opacity\": 0.3, \"mode\": \"lines\", \"showlegend\": false, \"line\": {\"color\": \"rgb(255, 105, 97)\"}}, {\"type\": \"scatter3d\", \"x\": [0, -0.22547386245080897], \"y\": [0, -0.8054729669339397], \"z\": [0, 0.5480646283880672], \"opacity\": 0.3, \"mode\": \"lines\", \"showlegend\": false, \"line\": {\"color\": \"rgb(255, 105, 97)\"}}, {\"type\": \"scatter3d\", \"x\": [0, 6.123233995736766e-17], \"y\": [0, -0.8414709848078965], \"z\": [0, 0.5403023058681398], \"opacity\": 0.3, \"mode\": \"lines\", \"showlegend\": false, \"line\": {\"color\": \"rgb(255, 105, 97)\"}}, {\"type\": \"scatter3d\", \"x\": [0, 6.123233995736766e-17], \"y\": [0, -0.8414709848078965], \"z\": [0, 0.5403023058681398], \"opacity\": 0.3, \"mode\": \"lines\", \"showlegend\": false, \"line\": {\"color\": \"rgb(255, 105, 97)\"}}, {\"type\": \"scatter3d\", \"x\": [0, 0.22547386245080886], \"y\": [0, -0.8054729669339397], \"z\": [0, 0.5480646283880672], \"opacity\": 0.3, \"mode\": \"lines\", \"showlegend\": false, \"line\": {\"color\": \"rgb(255, 105, 97)\"}}, {\"type\": \"scatter3d\", \"x\": [0, 0.31351862062397406], \"y\": [0, -0.7701365658948324], \"z\": [0, 0.5555139461739509], \"opacity\": 0.3, \"mode\": \"lines\", \"showlegend\": false, \"line\": {\"color\": \"rgb(255, 105, 97)\"}}, {\"type\": \"scatter3d\", \"x\": [0, 0.3776875619311621], \"y\": [0, -0.7353608898885642], \"z\": [0, 0.562669056537494], \"opacity\": 0.3, \"mode\": \"lines\", \"showlegend\": false, \"line\": {\"color\": \"rgb(255, 105, 97)\"}}, {\"type\": \"scatter3d\", \"x\": [0, 0.42913134694848204], \"y\": [0, -0.7010436389636596], \"z\": [0, 0.5695472792795798], \"opacity\": 0.3, \"mode\": \"lines\", \"showlegend\": false, \"line\": {\"color\": \"rgb(255, 105, 97)\"}}, {\"type\": \"scatter3d\", \"x\": [0, 0.47227094594266344], \"y\": [0, -0.667079087052105], \"z\": [0, 0.5761645990827206], \"opacity\": 0.3, \"mode\": \"lines\", \"showlegend\": false, \"line\": {\"color\": \"rgb(255, 105, 97)\"}}, {\"type\": \"scatter3d\", \"x\": [0, 0.5094239203063663], \"y\": [0, -0.6333556037117642], \"z\": [0, 0.5825357917472536], \"opacity\": 0.3, \"mode\": \"lines\", \"showlegend\": false, \"line\": {\"color\": \"rgb(255, 105, 97)\"}}, {\"type\": \"scatter3d\", \"x\": [0, 0.5419956168461716], \"y\": [0, -0.5997524835703508], \"z\": [0, 0.5886745363702544], \"opacity\": 0.3, \"mode\": \"lines\", \"showlegend\": false, \"line\": {\"color\": \"rgb(255, 105, 97)\"}}, {\"type\": \"scatter3d\", \"x\": [0, 0.570919338350225], \"y\": [0, -0.5661357264016289], \"z\": [0, 0.5945935152601659], \"opacity\": 0.3, \"mode\": \"lines\", \"showlegend\": false, \"line\": {\"color\": \"rgb(255, 105, 97)\"}}, {\"type\": \"scatter3d\", \"x\": [0, 0.5968547917725454], \"y\": [0, -0.5323521964525514], \"z\": [0, 0.6003045031234527], \"opacity\": 0.3, \"mode\": \"lines\", \"showlegend\": false, \"line\": {\"color\": \"rgb(255, 105, 97)\"}}, {\"type\": \"scatter3d\", \"x\": [0, 0.6202899628213892], \"y\": [0, -0.4982212073839764], \"z\": [0, 0.605818446843518], \"opacity\": 0.3, \"mode\": \"lines\", \"showlegend\": false, \"line\": {\"color\": \"rgb(255, 105, 97)\"}}, {\"type\": \"scatter3d\", \"x\": [0, 0.6415984840062257], \"y\": [0, -0.4635218634957364], \"z\": [0, 0.6111455369896379], \"opacity\": 0.3, \"mode\": \"lines\", \"showlegend\": false, \"line\": {\"color\": \"rgb(255, 105, 97)\"}}, {\"type\": \"scatter3d\", \"x\": [0, 0.6610742710327009], \"y\": [0, -0.42797306672365115], \"z\": [0, 0.6162952720390903], \"opacity\": 0.3, \"mode\": \"lines\", \"showlegend\": false, \"line\": {\"color\": \"rgb(255, 105, 97)\"}}, {\"type\": \"scatter3d\", \"x\": [0, 0.6789536063359859], \"y\": [0, -0.39120006506404875], \"z\": [0, 0.6212765161642947], \"opacity\": 0.3, \"mode\": \"lines\", \"showlegend\": false, \"line\": {\"color\": \"rgb(255, 105, 97)\"}}, {\"type\": \"scatter3d\", \"x\": [0, 0.6954298506091808], \"y\": [0, -0.3526743244222776], \"z\": [0, 0.6260975513248574], \"opacity\": 0.3, \"mode\": \"lines\", \"showlegend\": false, \"line\": {\"color\": \"rgb(255, 105, 97)\"}}, {\"type\": \"scatter3d\", \"x\": [0, 0.7106636034397795], \"y\": [0, -0.3115948317454929], \"z\": [0, 0.6307661243087533], \"opacity\": 0.3, \"mode\": \"lines\", \"showlegend\": false, \"line\": {\"color\": \"rgb(255, 105, 97)\"}}, {\"type\": \"scatter3d\", \"x\": [0, 0.7247899360722031], \"y\": [0, -0.26662110451455856], \"z\": [0, 0.6352894892849155], \"opacity\": 0.3, \"mode\": \"lines\", \"showlegend\": false, \"line\": {\"color\": \"rgb(255, 105, 97)\"}}, {\"type\": \"scatter3d\", \"x\": [0, 0.7379236737573273], \"y\": [0, -0.21514008083961841], \"z\": [0, 0.639674446359093], \"opacity\": 0.3, \"mode\": \"lines\", \"showlegend\": false, \"line\": {\"color\": \"rgb(255, 105, 97)\"}}, {\"type\": \"scatter3d\", \"x\": [0, 0.7501633396051502], \"y\": [0, -0.15037452451667582], \"z\": [0, 0.6439273765641834], \"opacity\": 0.3, \"mode\": \"lines\", \"showlegend\": false, \"line\": {\"color\": \"rgb(255, 105, 97)\"}}, {\"type\": \"scatter3d\", \"x\": [0, 0.7615941559557649], \"y\": [0, 0.0], \"z\": [0, 0.6480542736638855], \"opacity\": 0.3, \"mode\": \"lines\", \"showlegend\": false, \"line\": {\"color\": \"rgb(255, 105, 97)\"}}], {\"margin\": {\"l\": 0, \"r\": 0, \"b\": 0, \"t\": 0}, \"scene\": {\"xaxis\": {\"title\": \"Z\"}, \"yaxis\": {\"title\": \"Y\"}, \"zaxis\": {\"title\": \"X\"}}}, {\"showLink\": true, \"linkText\": \"Export to plot.ly\"})});</script>"
      ]
     },
     "metadata": {},
     "output_type": "display_data"
    },
    {
     "data": {
      "application/vnd.plotly.v1+json": {
       "data": [
        {
         "line": {
          "color": "rgb(0,33,71)",
          "width": 5
         },
         "mode": "lines",
         "showlegend": false,
         "type": "scatter3d",
         "x": [
          -1,
          1
         ],
         "y": [
          0,
          0
         ],
         "z": [
          0,
          0
         ]
        },
        {
         "opacity": 0.4,
         "showscale": false,
         "surfacecolor": [
          1,
          1
         ],
         "type": "surface",
         "x": [
          [
           -1,
           -1,
           -1,
           -1,
           -1,
           -1,
           -1,
           -1,
           -1,
           -1
          ],
          [
           1,
           1,
           1,
           1,
           1,
           1,
           1,
           1,
           1,
           1
          ]
         ],
         "y": [
          [
           0,
           0.342020143325669,
           0.6427876096865394,
           0.8660254037844386,
           0.984807753012208,
           0.984807753012208,
           0.8660254037844388,
           0.6427876096865395,
           0.342020143325669,
           0
          ],
          [
           0,
           0.342020143325669,
           0.6427876096865394,
           0.8660254037844386,
           0.984807753012208,
           0.984807753012208,
           0.8660254037844388,
           0.6427876096865395,
           0.342020143325669,
           0
          ]
         ],
         "z": [
          [
           -1,
           -0.9396926207859083,
           -0.766044443118978,
           -0.5,
           -0.17364817766693036,
           0.17364817766693036,
           0.49999999999999983,
           0.7660444431189779,
           0.9396926207859083,
           1
          ],
          [
           -1,
           -0.9396926207859083,
           -0.766044443118978,
           -0.5,
           -0.17364817766693036,
           0.17364817766693036,
           0.49999999999999983,
           0.7660444431189779,
           0.9396926207859083,
           1
          ]
         ]
        },
        {
         "opacity": 0.4,
         "showscale": false,
         "surfacecolor": [
          1,
          1
         ],
         "type": "surface",
         "x": [
          [
           -1,
           -1,
           -1,
           -1,
           -1,
           -1,
           -1,
           -1,
           -1,
           -1
          ],
          [
           1,
           1,
           1,
           1,
           1,
           1,
           1,
           1,
           1,
           1
          ]
         ],
         "y": [
          [
           0,
           -0.342020143325669,
           -0.6427876096865394,
           -0.8660254037844386,
           -0.984807753012208,
           -0.984807753012208,
           -0.8660254037844388,
           -0.6427876096865395,
           -0.342020143325669,
           0
          ],
          [
           0,
           -0.342020143325669,
           -0.6427876096865394,
           -0.8660254037844386,
           -0.984807753012208,
           -0.984807753012208,
           -0.8660254037844388,
           -0.6427876096865395,
           -0.342020143325669,
           0
          ]
         ],
         "z": [
          [
           -1,
           -0.9396926207859083,
           -0.766044443118978,
           -0.5,
           -0.17364817766693036,
           0.17364817766693036,
           0.49999999999999983,
           0.7660444431189779,
           0.9396926207859083,
           1
          ],
          [
           -1,
           -0.9396926207859083,
           -0.766044443118978,
           -0.5,
           -0.17364817766693036,
           0.17364817766693036,
           0.49999999999999983,
           0.7660444431189779,
           0.9396926207859083,
           1
          ]
         ]
        },
        {
         "line": {
          "color": "rgb(255, 105, 97)",
          "width": 7
         },
         "mode": "lines",
         "showlegend": false,
         "type": "scatter3d",
         "x": [
          0,
          0.7615941559557649
         ],
         "y": [
          0,
          0
         ],
         "z": [
          0,
          0.6480542736638855
         ]
        },
        {
         "line": {
          "color": "rgb(255, 105, 97)",
          "width": 5
         },
         "mode": "lines",
         "showlegend": false,
         "type": "scatter3d",
         "x": [
          0.9640275800758169,
          0.9620939596589054,
          0.9599996200617662,
          0.9577243131442403,
          0.9552440820135759,
          0.9525303168299666,
          0.9495484889945591,
          0.9462564212916691,
          0.9426018711879287,
          0.938519067084852,
          0.9339235923276625,
          0.9287045527947358,
          0.9227120515031718,
          0.9157360435411512,
          0.9074680790366705,
          0.8974254078443018,
          0.8847796065353212,
          0.8678845541030237,
          0.842409769927307,
          0.7615941559557649,
          0.7615941559557649,
          0.6472690624415961,
          0.5886234908679698,
          0.5389256760760501,
          0.49387199253629566,
          0.45184074274778485,
          0.4120255532732981,
          0.373963418767636,
          0.33736340599337616,
          0.30203084275262454,
          0.26782915091684306,
          0.23465879592327538,
          0.20244485923179512,
          0.17112930593895137,
          0.14066596997493896,
          0.11101719180227688,
          0.08215150261613617,
          0.05404199413952211,
          0.02666515060823686,
          6.123233995736766e-17,
          6.123233995736766e-17,
          0.02666515060823686,
          0.05404199413952211,
          0.08215150261613617,
          0.11101719180227688,
          0.14066596997493896,
          0.17112930593895137,
          0.20244485923179512,
          0.23465879592327538,
          0.26782915091684306,
          0.30203084275262454,
          0.33736340599337616,
          0.373963418767636,
          0.4120255532732981,
          0.45184074274778485,
          0.49387199253629566,
          0.5389256760760501,
          0.5886234908679698,
          0.6472690624415961,
          0.7615941559557649,
          0.7615941559557649,
          0.842409769927307,
          0.8678845541030237,
          0.8847796065353212,
          0.8974254078443018,
          0.9074680790366705,
          0.9157360435411512,
          0.9227120515031718,
          0.9287045527947358,
          0.9339235923276625,
          0.938519067084852,
          0.9426018711879287,
          0.9462564212916691,
          0.9495484889945591,
          0.9525303168299666,
          0.9552440820135759,
          0.9577243131442403,
          0.9599996200617662,
          0.9620939596589054,
          0.9640275800758169
         ],
         "y": [
          0,
          0.06201846365137433,
          0.08925902396586932,
          0.11133080933588038,
          0.13101835082635102,
          0.14941607430484086,
          0.16710897761317495,
          0.18447306516922912,
          0.2017867298913834,
          0.21928305007372434,
          0.23718021259974997,
          0.2557042226711039,
          0.27511146045130175,
          0.2957178756613325,
          0.3179452791600336,
          0.34240739661216596,
          0.37009727109049617,
          0.40289052989443996,
          0.4454907208605126,
          0.5453188678689158,
          0.5453188678689158,
          0.6302095080290666,
          0.6556400590095318,
          0.6689831986946349,
          0.6748818678860573,
          0.6751353041938979,
          0.6706397994892592,
          0.6618858684897782,
          0.6491373140406217,
          0.6325055464891034,
          0.6119788086009217,
          0.5874255858581267,
          0.5585764068596328,
          0.5249784658194616,
          0.4859040401236884,
          0.44016294074678747,
          0.3856770502708983,
          0.3183148995075905,
          0.2273277427840814,
          0,
          0,
          -0.2273277427840814,
          -0.3183148995075905,
          -0.3856770502708983,
          -0.44016294074678747,
          -0.4859040401236884,
          -0.5249784658194616,
          -0.5585764068596328,
          -0.5874255858581267,
          -0.6119788086009217,
          -0.6325055464891034,
          -0.6491373140406217,
          -0.6618858684897782,
          -0.6706397994892592,
          -0.6751353041938979,
          -0.6748818678860573,
          -0.6689831986946349,
          -0.6556400590095318,
          -0.6302095080290666,
          -0.5453188678689158,
          -0.5453188678689158,
          -0.4454907208605126,
          -0.40289052989443996,
          -0.37009727109049617,
          -0.34240739661216596,
          -0.3179452791600336,
          -0.2957178756613325,
          -0.27511146045130175,
          -0.2557042226711039,
          -0.23718021259974997,
          -0.21928305007372434,
          -0.2017867298913834,
          -0.18447306516922912,
          -0.16710897761317495,
          -0.14941607430484086,
          -0.13101835082635102,
          -0.11133080933588038,
          -0.08925902396586932,
          -0.06201846365137433,
          0
         ],
         "z": [
          0.26580222883407967,
          0.2655728204356982,
          0.26539321039153396,
          0.26527267274450045,
          0.26522242651175604,
          0.26525616347058506,
          0.2653907621776405,
          0.2656472725087773,
          0.26605230326527385,
          0.26664002825634353,
          0.2674551746460168,
          0.2685576365075031,
          0.2700299137857873,
          0.2719897729216072,
          0.27461333723864095,
          0.2781812576374755,
          0.283183788008018,
          0.29061249400322264,
          0.30312340252478454,
          0.3501452183882998,
          0.3501452183882998,
          0.42881084034308065,
          0.4729254687795768,
          0.5118794736363893,
          0.5482927314736679,
          0.5831228551721697,
          0.6168283414296386,
          0.6496602639204231,
          0.6817673208776406,
          0.713241967137843,
          0.7441434564266217,
          0.7745104457494909,
          0.804368371251879,
          0.8337339929945865,
          0.8626183099624576,
          0.8910284892849816,
          0.91896917440807,
          0.9464433884923581,
          0.9734531663638136,
          1,
          1,
          0.9734531663638136,
          0.9464433884923581,
          0.91896917440807,
          0.8910284892849816,
          0.8626183099624576,
          0.8337339929945865,
          0.804368371251879,
          0.7745104457494909,
          0.7441434564266217,
          0.713241967137843,
          0.6817673208776406,
          0.6496602639204231,
          0.6168283414296386,
          0.5831228551721697,
          0.5482927314736679,
          0.5118794736363893,
          0.4729254687795768,
          0.42881084034308065,
          0.3501452183882998,
          0.3501452183882998,
          0.30312340252478454,
          0.29061249400322264,
          0.283183788008018,
          0.2781812576374755,
          0.27461333723864095,
          0.2719897729216072,
          0.2700299137857873,
          0.2685576365075031,
          0.2674551746460168,
          0.26664002825634353,
          0.26605230326527385,
          0.2656472725087773,
          0.2653907621776405,
          0.26525616347058506,
          0.26522242651175604,
          0.26527267274450045,
          0.26539321039153396,
          0.2655728204356982,
          0.26580222883407967
         ]
        },
        {
         "line": {
          "color": "rgb(255, 105, 97)"
         },
         "mode": "lines",
         "opacity": 0.3,
         "showlegend": false,
         "type": "scatter3d",
         "x": [
          0,
          0.9640275800758169
         ],
         "y": [
          0,
          0
         ],
         "z": [
          0,
          0.26580222883407967
         ]
        },
        {
         "line": {
          "color": "rgb(255, 105, 97)"
         },
         "mode": "lines",
         "opacity": 0.3,
         "showlegend": false,
         "type": "scatter3d",
         "x": [
          0,
          0.9620939596589054
         ],
         "y": [
          0,
          0.06201846365137433
         ],
         "z": [
          0,
          0.2655728204356982
         ]
        },
        {
         "line": {
          "color": "rgb(255, 105, 97)"
         },
         "mode": "lines",
         "opacity": 0.3,
         "showlegend": false,
         "type": "scatter3d",
         "x": [
          0,
          0.9599996200617662
         ],
         "y": [
          0,
          0.08925902396586932
         ],
         "z": [
          0,
          0.26539321039153396
         ]
        },
        {
         "line": {
          "color": "rgb(255, 105, 97)"
         },
         "mode": "lines",
         "opacity": 0.3,
         "showlegend": false,
         "type": "scatter3d",
         "x": [
          0,
          0.9577243131442403
         ],
         "y": [
          0,
          0.11133080933588038
         ],
         "z": [
          0,
          0.26527267274450045
         ]
        },
        {
         "line": {
          "color": "rgb(255, 105, 97)"
         },
         "mode": "lines",
         "opacity": 0.3,
         "showlegend": false,
         "type": "scatter3d",
         "x": [
          0,
          0.9552440820135759
         ],
         "y": [
          0,
          0.13101835082635102
         ],
         "z": [
          0,
          0.26522242651175604
         ]
        },
        {
         "line": {
          "color": "rgb(255, 105, 97)"
         },
         "mode": "lines",
         "opacity": 0.3,
         "showlegend": false,
         "type": "scatter3d",
         "x": [
          0,
          0.9525303168299666
         ],
         "y": [
          0,
          0.14941607430484086
         ],
         "z": [
          0,
          0.26525616347058506
         ]
        },
        {
         "line": {
          "color": "rgb(255, 105, 97)"
         },
         "mode": "lines",
         "opacity": 0.3,
         "showlegend": false,
         "type": "scatter3d",
         "x": [
          0,
          0.9495484889945591
         ],
         "y": [
          0,
          0.16710897761317495
         ],
         "z": [
          0,
          0.2653907621776405
         ]
        },
        {
         "line": {
          "color": "rgb(255, 105, 97)"
         },
         "mode": "lines",
         "opacity": 0.3,
         "showlegend": false,
         "type": "scatter3d",
         "x": [
          0,
          0.9462564212916691
         ],
         "y": [
          0,
          0.18447306516922912
         ],
         "z": [
          0,
          0.2656472725087773
         ]
        },
        {
         "line": {
          "color": "rgb(255, 105, 97)"
         },
         "mode": "lines",
         "opacity": 0.3,
         "showlegend": false,
         "type": "scatter3d",
         "x": [
          0,
          0.9426018711879287
         ],
         "y": [
          0,
          0.2017867298913834
         ],
         "z": [
          0,
          0.26605230326527385
         ]
        },
        {
         "line": {
          "color": "rgb(255, 105, 97)"
         },
         "mode": "lines",
         "opacity": 0.3,
         "showlegend": false,
         "type": "scatter3d",
         "x": [
          0,
          0.938519067084852
         ],
         "y": [
          0,
          0.21928305007372434
         ],
         "z": [
          0,
          0.26664002825634353
         ]
        },
        {
         "line": {
          "color": "rgb(255, 105, 97)"
         },
         "mode": "lines",
         "opacity": 0.3,
         "showlegend": false,
         "type": "scatter3d",
         "x": [
          0,
          0.9339235923276625
         ],
         "y": [
          0,
          0.23718021259974997
         ],
         "z": [
          0,
          0.2674551746460168
         ]
        },
        {
         "line": {
          "color": "rgb(255, 105, 97)"
         },
         "mode": "lines",
         "opacity": 0.3,
         "showlegend": false,
         "type": "scatter3d",
         "x": [
          0,
          0.9287045527947358
         ],
         "y": [
          0,
          0.2557042226711039
         ],
         "z": [
          0,
          0.2685576365075031
         ]
        },
        {
         "line": {
          "color": "rgb(255, 105, 97)"
         },
         "mode": "lines",
         "opacity": 0.3,
         "showlegend": false,
         "type": "scatter3d",
         "x": [
          0,
          0.9227120515031718
         ],
         "y": [
          0,
          0.27511146045130175
         ],
         "z": [
          0,
          0.2700299137857873
         ]
        },
        {
         "line": {
          "color": "rgb(255, 105, 97)"
         },
         "mode": "lines",
         "opacity": 0.3,
         "showlegend": false,
         "type": "scatter3d",
         "x": [
          0,
          0.9157360435411512
         ],
         "y": [
          0,
          0.2957178756613325
         ],
         "z": [
          0,
          0.2719897729216072
         ]
        },
        {
         "line": {
          "color": "rgb(255, 105, 97)"
         },
         "mode": "lines",
         "opacity": 0.3,
         "showlegend": false,
         "type": "scatter3d",
         "x": [
          0,
          0.9074680790366705
         ],
         "y": [
          0,
          0.3179452791600336
         ],
         "z": [
          0,
          0.27461333723864095
         ]
        },
        {
         "line": {
          "color": "rgb(255, 105, 97)"
         },
         "mode": "lines",
         "opacity": 0.3,
         "showlegend": false,
         "type": "scatter3d",
         "x": [
          0,
          0.8974254078443018
         ],
         "y": [
          0,
          0.34240739661216596
         ],
         "z": [
          0,
          0.2781812576374755
         ]
        },
        {
         "line": {
          "color": "rgb(255, 105, 97)"
         },
         "mode": "lines",
         "opacity": 0.3,
         "showlegend": false,
         "type": "scatter3d",
         "x": [
          0,
          0.8847796065353212
         ],
         "y": [
          0,
          0.37009727109049617
         ],
         "z": [
          0,
          0.283183788008018
         ]
        },
        {
         "line": {
          "color": "rgb(255, 105, 97)"
         },
         "mode": "lines",
         "opacity": 0.3,
         "showlegend": false,
         "type": "scatter3d",
         "x": [
          0,
          0.8678845541030237
         ],
         "y": [
          0,
          0.40289052989443996
         ],
         "z": [
          0,
          0.29061249400322264
         ]
        },
        {
         "line": {
          "color": "rgb(255, 105, 97)"
         },
         "mode": "lines",
         "opacity": 0.3,
         "showlegend": false,
         "type": "scatter3d",
         "x": [
          0,
          0.842409769927307
         ],
         "y": [
          0,
          0.4454907208605126
         ],
         "z": [
          0,
          0.30312340252478454
         ]
        },
        {
         "line": {
          "color": "rgb(255, 105, 97)"
         },
         "mode": "lines",
         "opacity": 0.3,
         "showlegend": false,
         "type": "scatter3d",
         "x": [
          0,
          0.7615941559557649
         ],
         "y": [
          0,
          0.5453188678689158
         ],
         "z": [
          0,
          0.3501452183882998
         ]
        },
        {
         "line": {
          "color": "rgb(255, 105, 97)"
         },
         "mode": "lines",
         "opacity": 0.3,
         "showlegend": false,
         "type": "scatter3d",
         "x": [
          0,
          0.7615941559557649
         ],
         "y": [
          0,
          0.5453188678689158
         ],
         "z": [
          0,
          0.3501452183882998
         ]
        },
        {
         "line": {
          "color": "rgb(255, 105, 97)"
         },
         "mode": "lines",
         "opacity": 0.3,
         "showlegend": false,
         "type": "scatter3d",
         "x": [
          0,
          0.6472690624415961
         ],
         "y": [
          0,
          0.6302095080290666
         ],
         "z": [
          0,
          0.42881084034308065
         ]
        },
        {
         "line": {
          "color": "rgb(255, 105, 97)"
         },
         "mode": "lines",
         "opacity": 0.3,
         "showlegend": false,
         "type": "scatter3d",
         "x": [
          0,
          0.5886234908679698
         ],
         "y": [
          0,
          0.6556400590095318
         ],
         "z": [
          0,
          0.4729254687795768
         ]
        },
        {
         "line": {
          "color": "rgb(255, 105, 97)"
         },
         "mode": "lines",
         "opacity": 0.3,
         "showlegend": false,
         "type": "scatter3d",
         "x": [
          0,
          0.5389256760760501
         ],
         "y": [
          0,
          0.6689831986946349
         ],
         "z": [
          0,
          0.5118794736363893
         ]
        },
        {
         "line": {
          "color": "rgb(255, 105, 97)"
         },
         "mode": "lines",
         "opacity": 0.3,
         "showlegend": false,
         "type": "scatter3d",
         "x": [
          0,
          0.49387199253629566
         ],
         "y": [
          0,
          0.6748818678860573
         ],
         "z": [
          0,
          0.5482927314736679
         ]
        },
        {
         "line": {
          "color": "rgb(255, 105, 97)"
         },
         "mode": "lines",
         "opacity": 0.3,
         "showlegend": false,
         "type": "scatter3d",
         "x": [
          0,
          0.45184074274778485
         ],
         "y": [
          0,
          0.6751353041938979
         ],
         "z": [
          0,
          0.5831228551721697
         ]
        },
        {
         "line": {
          "color": "rgb(255, 105, 97)"
         },
         "mode": "lines",
         "opacity": 0.3,
         "showlegend": false,
         "type": "scatter3d",
         "x": [
          0,
          0.4120255532732981
         ],
         "y": [
          0,
          0.6706397994892592
         ],
         "z": [
          0,
          0.6168283414296386
         ]
        },
        {
         "line": {
          "color": "rgb(255, 105, 97)"
         },
         "mode": "lines",
         "opacity": 0.3,
         "showlegend": false,
         "type": "scatter3d",
         "x": [
          0,
          0.373963418767636
         ],
         "y": [
          0,
          0.6618858684897782
         ],
         "z": [
          0,
          0.6496602639204231
         ]
        },
        {
         "line": {
          "color": "rgb(255, 105, 97)"
         },
         "mode": "lines",
         "opacity": 0.3,
         "showlegend": false,
         "type": "scatter3d",
         "x": [
          0,
          0.33736340599337616
         ],
         "y": [
          0,
          0.6491373140406217
         ],
         "z": [
          0,
          0.6817673208776406
         ]
        },
        {
         "line": {
          "color": "rgb(255, 105, 97)"
         },
         "mode": "lines",
         "opacity": 0.3,
         "showlegend": false,
         "type": "scatter3d",
         "x": [
          0,
          0.30203084275262454
         ],
         "y": [
          0,
          0.6325055464891034
         ],
         "z": [
          0,
          0.713241967137843
         ]
        },
        {
         "line": {
          "color": "rgb(255, 105, 97)"
         },
         "mode": "lines",
         "opacity": 0.3,
         "showlegend": false,
         "type": "scatter3d",
         "x": [
          0,
          0.26782915091684306
         ],
         "y": [
          0,
          0.6119788086009217
         ],
         "z": [
          0,
          0.7441434564266217
         ]
        },
        {
         "line": {
          "color": "rgb(255, 105, 97)"
         },
         "mode": "lines",
         "opacity": 0.3,
         "showlegend": false,
         "type": "scatter3d",
         "x": [
          0,
          0.23465879592327538
         ],
         "y": [
          0,
          0.5874255858581267
         ],
         "z": [
          0,
          0.7745104457494909
         ]
        },
        {
         "line": {
          "color": "rgb(255, 105, 97)"
         },
         "mode": "lines",
         "opacity": 0.3,
         "showlegend": false,
         "type": "scatter3d",
         "x": [
          0,
          0.20244485923179512
         ],
         "y": [
          0,
          0.5585764068596328
         ],
         "z": [
          0,
          0.804368371251879
         ]
        },
        {
         "line": {
          "color": "rgb(255, 105, 97)"
         },
         "mode": "lines",
         "opacity": 0.3,
         "showlegend": false,
         "type": "scatter3d",
         "x": [
          0,
          0.17112930593895137
         ],
         "y": [
          0,
          0.5249784658194616
         ],
         "z": [
          0,
          0.8337339929945865
         ]
        },
        {
         "line": {
          "color": "rgb(255, 105, 97)"
         },
         "mode": "lines",
         "opacity": 0.3,
         "showlegend": false,
         "type": "scatter3d",
         "x": [
          0,
          0.14066596997493896
         ],
         "y": [
          0,
          0.4859040401236884
         ],
         "z": [
          0,
          0.8626183099624576
         ]
        },
        {
         "line": {
          "color": "rgb(255, 105, 97)"
         },
         "mode": "lines",
         "opacity": 0.3,
         "showlegend": false,
         "type": "scatter3d",
         "x": [
          0,
          0.11101719180227688
         ],
         "y": [
          0,
          0.44016294074678747
         ],
         "z": [
          0,
          0.8910284892849816
         ]
        },
        {
         "line": {
          "color": "rgb(255, 105, 97)"
         },
         "mode": "lines",
         "opacity": 0.3,
         "showlegend": false,
         "type": "scatter3d",
         "x": [
          0,
          0.08215150261613617
         ],
         "y": [
          0,
          0.3856770502708983
         ],
         "z": [
          0,
          0.91896917440807
         ]
        },
        {
         "line": {
          "color": "rgb(255, 105, 97)"
         },
         "mode": "lines",
         "opacity": 0.3,
         "showlegend": false,
         "type": "scatter3d",
         "x": [
          0,
          0.05404199413952211
         ],
         "y": [
          0,
          0.3183148995075905
         ],
         "z": [
          0,
          0.9464433884923581
         ]
        },
        {
         "line": {
          "color": "rgb(255, 105, 97)"
         },
         "mode": "lines",
         "opacity": 0.3,
         "showlegend": false,
         "type": "scatter3d",
         "x": [
          0,
          0.02666515060823686
         ],
         "y": [
          0,
          0.2273277427840814
         ],
         "z": [
          0,
          0.9734531663638136
         ]
        },
        {
         "line": {
          "color": "rgb(255, 105, 97)"
         },
         "mode": "lines",
         "opacity": 0.3,
         "showlegend": false,
         "type": "scatter3d",
         "x": [
          0,
          6.123233995736766e-17
         ],
         "y": [
          0,
          0
         ],
         "z": [
          0,
          1
         ]
        },
        {
         "line": {
          "color": "rgb(255, 105, 97)"
         },
         "mode": "lines",
         "opacity": 0.3,
         "showlegend": false,
         "type": "scatter3d",
         "x": [
          0,
          6.123233995736766e-17
         ],
         "y": [
          0,
          0
         ],
         "z": [
          0,
          1
         ]
        },
        {
         "line": {
          "color": "rgb(255, 105, 97)"
         },
         "mode": "lines",
         "opacity": 0.3,
         "showlegend": false,
         "type": "scatter3d",
         "x": [
          0,
          0.02666515060823686
         ],
         "y": [
          0,
          -0.2273277427840814
         ],
         "z": [
          0,
          0.9734531663638136
         ]
        },
        {
         "line": {
          "color": "rgb(255, 105, 97)"
         },
         "mode": "lines",
         "opacity": 0.3,
         "showlegend": false,
         "type": "scatter3d",
         "x": [
          0,
          0.05404199413952211
         ],
         "y": [
          0,
          -0.3183148995075905
         ],
         "z": [
          0,
          0.9464433884923581
         ]
        },
        {
         "line": {
          "color": "rgb(255, 105, 97)"
         },
         "mode": "lines",
         "opacity": 0.3,
         "showlegend": false,
         "type": "scatter3d",
         "x": [
          0,
          0.08215150261613617
         ],
         "y": [
          0,
          -0.3856770502708983
         ],
         "z": [
          0,
          0.91896917440807
         ]
        },
        {
         "line": {
          "color": "rgb(255, 105, 97)"
         },
         "mode": "lines",
         "opacity": 0.3,
         "showlegend": false,
         "type": "scatter3d",
         "x": [
          0,
          0.11101719180227688
         ],
         "y": [
          0,
          -0.44016294074678747
         ],
         "z": [
          0,
          0.8910284892849816
         ]
        },
        {
         "line": {
          "color": "rgb(255, 105, 97)"
         },
         "mode": "lines",
         "opacity": 0.3,
         "showlegend": false,
         "type": "scatter3d",
         "x": [
          0,
          0.14066596997493896
         ],
         "y": [
          0,
          -0.4859040401236884
         ],
         "z": [
          0,
          0.8626183099624576
         ]
        },
        {
         "line": {
          "color": "rgb(255, 105, 97)"
         },
         "mode": "lines",
         "opacity": 0.3,
         "showlegend": false,
         "type": "scatter3d",
         "x": [
          0,
          0.17112930593895137
         ],
         "y": [
          0,
          -0.5249784658194616
         ],
         "z": [
          0,
          0.8337339929945865
         ]
        },
        {
         "line": {
          "color": "rgb(255, 105, 97)"
         },
         "mode": "lines",
         "opacity": 0.3,
         "showlegend": false,
         "type": "scatter3d",
         "x": [
          0,
          0.20244485923179512
         ],
         "y": [
          0,
          -0.5585764068596328
         ],
         "z": [
          0,
          0.804368371251879
         ]
        },
        {
         "line": {
          "color": "rgb(255, 105, 97)"
         },
         "mode": "lines",
         "opacity": 0.3,
         "showlegend": false,
         "type": "scatter3d",
         "x": [
          0,
          0.23465879592327538
         ],
         "y": [
          0,
          -0.5874255858581267
         ],
         "z": [
          0,
          0.7745104457494909
         ]
        },
        {
         "line": {
          "color": "rgb(255, 105, 97)"
         },
         "mode": "lines",
         "opacity": 0.3,
         "showlegend": false,
         "type": "scatter3d",
         "x": [
          0,
          0.26782915091684306
         ],
         "y": [
          0,
          -0.6119788086009217
         ],
         "z": [
          0,
          0.7441434564266217
         ]
        },
        {
         "line": {
          "color": "rgb(255, 105, 97)"
         },
         "mode": "lines",
         "opacity": 0.3,
         "showlegend": false,
         "type": "scatter3d",
         "x": [
          0,
          0.30203084275262454
         ],
         "y": [
          0,
          -0.6325055464891034
         ],
         "z": [
          0,
          0.713241967137843
         ]
        },
        {
         "line": {
          "color": "rgb(255, 105, 97)"
         },
         "mode": "lines",
         "opacity": 0.3,
         "showlegend": false,
         "type": "scatter3d",
         "x": [
          0,
          0.33736340599337616
         ],
         "y": [
          0,
          -0.6491373140406217
         ],
         "z": [
          0,
          0.6817673208776406
         ]
        },
        {
         "line": {
          "color": "rgb(255, 105, 97)"
         },
         "mode": "lines",
         "opacity": 0.3,
         "showlegend": false,
         "type": "scatter3d",
         "x": [
          0,
          0.373963418767636
         ],
         "y": [
          0,
          -0.6618858684897782
         ],
         "z": [
          0,
          0.6496602639204231
         ]
        },
        {
         "line": {
          "color": "rgb(255, 105, 97)"
         },
         "mode": "lines",
         "opacity": 0.3,
         "showlegend": false,
         "type": "scatter3d",
         "x": [
          0,
          0.4120255532732981
         ],
         "y": [
          0,
          -0.6706397994892592
         ],
         "z": [
          0,
          0.6168283414296386
         ]
        },
        {
         "line": {
          "color": "rgb(255, 105, 97)"
         },
         "mode": "lines",
         "opacity": 0.3,
         "showlegend": false,
         "type": "scatter3d",
         "x": [
          0,
          0.45184074274778485
         ],
         "y": [
          0,
          -0.6751353041938979
         ],
         "z": [
          0,
          0.5831228551721697
         ]
        },
        {
         "line": {
          "color": "rgb(255, 105, 97)"
         },
         "mode": "lines",
         "opacity": 0.3,
         "showlegend": false,
         "type": "scatter3d",
         "x": [
          0,
          0.49387199253629566
         ],
         "y": [
          0,
          -0.6748818678860573
         ],
         "z": [
          0,
          0.5482927314736679
         ]
        },
        {
         "line": {
          "color": "rgb(255, 105, 97)"
         },
         "mode": "lines",
         "opacity": 0.3,
         "showlegend": false,
         "type": "scatter3d",
         "x": [
          0,
          0.5389256760760501
         ],
         "y": [
          0,
          -0.6689831986946349
         ],
         "z": [
          0,
          0.5118794736363893
         ]
        },
        {
         "line": {
          "color": "rgb(255, 105, 97)"
         },
         "mode": "lines",
         "opacity": 0.3,
         "showlegend": false,
         "type": "scatter3d",
         "x": [
          0,
          0.5886234908679698
         ],
         "y": [
          0,
          -0.6556400590095318
         ],
         "z": [
          0,
          0.4729254687795768
         ]
        },
        {
         "line": {
          "color": "rgb(255, 105, 97)"
         },
         "mode": "lines",
         "opacity": 0.3,
         "showlegend": false,
         "type": "scatter3d",
         "x": [
          0,
          0.6472690624415961
         ],
         "y": [
          0,
          -0.6302095080290666
         ],
         "z": [
          0,
          0.42881084034308065
         ]
        },
        {
         "line": {
          "color": "rgb(255, 105, 97)"
         },
         "mode": "lines",
         "opacity": 0.3,
         "showlegend": false,
         "type": "scatter3d",
         "x": [
          0,
          0.7615941559557649
         ],
         "y": [
          0,
          -0.5453188678689158
         ],
         "z": [
          0,
          0.3501452183882998
         ]
        },
        {
         "line": {
          "color": "rgb(255, 105, 97)"
         },
         "mode": "lines",
         "opacity": 0.3,
         "showlegend": false,
         "type": "scatter3d",
         "x": [
          0,
          0.7615941559557649
         ],
         "y": [
          0,
          -0.5453188678689158
         ],
         "z": [
          0,
          0.3501452183882998
         ]
        },
        {
         "line": {
          "color": "rgb(255, 105, 97)"
         },
         "mode": "lines",
         "opacity": 0.3,
         "showlegend": false,
         "type": "scatter3d",
         "x": [
          0,
          0.842409769927307
         ],
         "y": [
          0,
          -0.4454907208605126
         ],
         "z": [
          0,
          0.30312340252478454
         ]
        },
        {
         "line": {
          "color": "rgb(255, 105, 97)"
         },
         "mode": "lines",
         "opacity": 0.3,
         "showlegend": false,
         "type": "scatter3d",
         "x": [
          0,
          0.8678845541030237
         ],
         "y": [
          0,
          -0.40289052989443996
         ],
         "z": [
          0,
          0.29061249400322264
         ]
        },
        {
         "line": {
          "color": "rgb(255, 105, 97)"
         },
         "mode": "lines",
         "opacity": 0.3,
         "showlegend": false,
         "type": "scatter3d",
         "x": [
          0,
          0.8847796065353212
         ],
         "y": [
          0,
          -0.37009727109049617
         ],
         "z": [
          0,
          0.283183788008018
         ]
        },
        {
         "line": {
          "color": "rgb(255, 105, 97)"
         },
         "mode": "lines",
         "opacity": 0.3,
         "showlegend": false,
         "type": "scatter3d",
         "x": [
          0,
          0.8974254078443018
         ],
         "y": [
          0,
          -0.34240739661216596
         ],
         "z": [
          0,
          0.2781812576374755
         ]
        },
        {
         "line": {
          "color": "rgb(255, 105, 97)"
         },
         "mode": "lines",
         "opacity": 0.3,
         "showlegend": false,
         "type": "scatter3d",
         "x": [
          0,
          0.9074680790366705
         ],
         "y": [
          0,
          -0.3179452791600336
         ],
         "z": [
          0,
          0.27461333723864095
         ]
        },
        {
         "line": {
          "color": "rgb(255, 105, 97)"
         },
         "mode": "lines",
         "opacity": 0.3,
         "showlegend": false,
         "type": "scatter3d",
         "x": [
          0,
          0.9157360435411512
         ],
         "y": [
          0,
          -0.2957178756613325
         ],
         "z": [
          0,
          0.2719897729216072
         ]
        },
        {
         "line": {
          "color": "rgb(255, 105, 97)"
         },
         "mode": "lines",
         "opacity": 0.3,
         "showlegend": false,
         "type": "scatter3d",
         "x": [
          0,
          0.9227120515031718
         ],
         "y": [
          0,
          -0.27511146045130175
         ],
         "z": [
          0,
          0.2700299137857873
         ]
        },
        {
         "line": {
          "color": "rgb(255, 105, 97)"
         },
         "mode": "lines",
         "opacity": 0.3,
         "showlegend": false,
         "type": "scatter3d",
         "x": [
          0,
          0.9287045527947358
         ],
         "y": [
          0,
          -0.2557042226711039
         ],
         "z": [
          0,
          0.2685576365075031
         ]
        },
        {
         "line": {
          "color": "rgb(255, 105, 97)"
         },
         "mode": "lines",
         "opacity": 0.3,
         "showlegend": false,
         "type": "scatter3d",
         "x": [
          0,
          0.9339235923276625
         ],
         "y": [
          0,
          -0.23718021259974997
         ],
         "z": [
          0,
          0.2674551746460168
         ]
        },
        {
         "line": {
          "color": "rgb(255, 105, 97)"
         },
         "mode": "lines",
         "opacity": 0.3,
         "showlegend": false,
         "type": "scatter3d",
         "x": [
          0,
          0.938519067084852
         ],
         "y": [
          0,
          -0.21928305007372434
         ],
         "z": [
          0,
          0.26664002825634353
         ]
        },
        {
         "line": {
          "color": "rgb(255, 105, 97)"
         },
         "mode": "lines",
         "opacity": 0.3,
         "showlegend": false,
         "type": "scatter3d",
         "x": [
          0,
          0.9426018711879287
         ],
         "y": [
          0,
          -0.2017867298913834
         ],
         "z": [
          0,
          0.26605230326527385
         ]
        },
        {
         "line": {
          "color": "rgb(255, 105, 97)"
         },
         "mode": "lines",
         "opacity": 0.3,
         "showlegend": false,
         "type": "scatter3d",
         "x": [
          0,
          0.9462564212916691
         ],
         "y": [
          0,
          -0.18447306516922912
         ],
         "z": [
          0,
          0.2656472725087773
         ]
        },
        {
         "line": {
          "color": "rgb(255, 105, 97)"
         },
         "mode": "lines",
         "opacity": 0.3,
         "showlegend": false,
         "type": "scatter3d",
         "x": [
          0,
          0.9495484889945591
         ],
         "y": [
          0,
          -0.16710897761317495
         ],
         "z": [
          0,
          0.2653907621776405
         ]
        },
        {
         "line": {
          "color": "rgb(255, 105, 97)"
         },
         "mode": "lines",
         "opacity": 0.3,
         "showlegend": false,
         "type": "scatter3d",
         "x": [
          0,
          0.9525303168299666
         ],
         "y": [
          0,
          -0.14941607430484086
         ],
         "z": [
          0,
          0.26525616347058506
         ]
        },
        {
         "line": {
          "color": "rgb(255, 105, 97)"
         },
         "mode": "lines",
         "opacity": 0.3,
         "showlegend": false,
         "type": "scatter3d",
         "x": [
          0,
          0.9552440820135759
         ],
         "y": [
          0,
          -0.13101835082635102
         ],
         "z": [
          0,
          0.26522242651175604
         ]
        },
        {
         "line": {
          "color": "rgb(255, 105, 97)"
         },
         "mode": "lines",
         "opacity": 0.3,
         "showlegend": false,
         "type": "scatter3d",
         "x": [
          0,
          0.9577243131442403
         ],
         "y": [
          0,
          -0.11133080933588038
         ],
         "z": [
          0,
          0.26527267274450045
         ]
        },
        {
         "line": {
          "color": "rgb(255, 105, 97)"
         },
         "mode": "lines",
         "opacity": 0.3,
         "showlegend": false,
         "type": "scatter3d",
         "x": [
          0,
          0.9599996200617662
         ],
         "y": [
          0,
          -0.08925902396586932
         ],
         "z": [
          0,
          0.26539321039153396
         ]
        },
        {
         "line": {
          "color": "rgb(255, 105, 97)"
         },
         "mode": "lines",
         "opacity": 0.3,
         "showlegend": false,
         "type": "scatter3d",
         "x": [
          0,
          0.9620939596589054
         ],
         "y": [
          0,
          -0.06201846365137433
         ],
         "z": [
          0,
          0.2655728204356982
         ]
        },
        {
         "line": {
          "color": "rgb(255, 105, 97)"
         },
         "mode": "lines",
         "opacity": 0.3,
         "showlegend": false,
         "type": "scatter3d",
         "x": [
          0,
          0.9640275800758169
         ],
         "y": [
          0,
          0
         ],
         "z": [
          0,
          0.26580222883407967
         ]
        }
       ],
       "layout": {
        "margin": {
         "b": 0,
         "l": 0,
         "r": 0,
         "t": 0
        },
        "scene": {
         "xaxis": {
          "title": "Z"
         },
         "yaxis": {
          "title": "Y"
         },
         "zaxis": {
          "title": "X"
         }
        }
       }
      },
      "text/html": [
       "<div id=\"41ead513-0f30-4618-9776-3f93dcda8d47\" style=\"height: 525px; width: 100%;\" class=\"plotly-graph-div\"></div><script type=\"text/javascript\">require([\"plotly\"], function(Plotly) { window.PLOTLYENV=window.PLOTLYENV || {};window.PLOTLYENV.BASE_URL=\"https://plot.ly\";Plotly.newPlot(\"41ead513-0f30-4618-9776-3f93dcda8d47\", [{\"type\": \"scatter3d\", \"x\": [-1.0, 1.0], \"y\": [0, 0], \"z\": [0, 0], \"mode\": \"lines\", \"showlegend\": false, \"line\": {\"color\": \"rgb(0,33,71)\", \"width\": 5}}, {\"type\": \"surface\", \"x\": [[-1.0, -1.0, -1.0, -1.0, -1.0, -1.0, -1.0, -1.0, -1.0, -1.0], [1.0, 1.0, 1.0, 1.0, 1.0, 1.0, 1.0, 1.0, 1.0, 1.0]], \"y\": [[0.0, 0.342020143325669, 0.6427876096865394, 0.8660254037844386, 0.984807753012208, 0.984807753012208, 0.8660254037844388, 0.6427876096865395, 0.342020143325669, 0.0], [0.0, 0.342020143325669, 0.6427876096865394, 0.8660254037844386, 0.984807753012208, 0.984807753012208, 0.8660254037844388, 0.6427876096865395, 0.342020143325669, 0.0]], \"z\": [[-1.0, -0.9396926207859083, -0.766044443118978, -0.5, -0.17364817766693036, 0.17364817766693036, 0.49999999999999983, 0.7660444431189779, 0.9396926207859083, 1.0], [-1.0, -0.9396926207859083, -0.766044443118978, -0.5, -0.17364817766693036, 0.17364817766693036, 0.49999999999999983, 0.7660444431189779, 0.9396926207859083, 1.0]], \"surfacecolor\": [1, 1], \"showscale\": false, \"opacity\": 0.4}, {\"type\": \"surface\", \"x\": [[-1.0, -1.0, -1.0, -1.0, -1.0, -1.0, -1.0, -1.0, -1.0, -1.0], [1.0, 1.0, 1.0, 1.0, 1.0, 1.0, 1.0, 1.0, 1.0, 1.0]], \"y\": [[-0.0, -0.342020143325669, -0.6427876096865394, -0.8660254037844386, -0.984807753012208, -0.984807753012208, -0.8660254037844388, -0.6427876096865395, -0.342020143325669, -0.0], [-0.0, -0.342020143325669, -0.6427876096865394, -0.8660254037844386, -0.984807753012208, -0.984807753012208, -0.8660254037844388, -0.6427876096865395, -0.342020143325669, -0.0]], \"z\": [[-1.0, -0.9396926207859083, -0.766044443118978, -0.5, -0.17364817766693036, 0.17364817766693036, 0.49999999999999983, 0.7660444431189779, 0.9396926207859083, 1.0], [-1.0, -0.9396926207859083, -0.766044443118978, -0.5, -0.17364817766693036, 0.17364817766693036, 0.49999999999999983, 0.7660444431189779, 0.9396926207859083, 1.0]], \"surfacecolor\": [1, 1], \"showscale\": false, \"opacity\": 0.4}, {\"type\": \"scatter3d\", \"x\": [0.0, 0.7615941559557649], \"y\": [0.0, 0.0], \"z\": [0.0, 0.6480542736638855], \"mode\": \"lines\", \"showlegend\": false, \"line\": {\"color\": \"rgb(255, 105, 97)\", \"width\": 7}}, {\"type\": \"scatter3d\", \"x\": [0.9640275800758169, 0.9620939596589054, 0.9599996200617662, 0.9577243131442403, 0.9552440820135759, 0.9525303168299666, 0.9495484889945591, 0.9462564212916691, 0.9426018711879287, 0.938519067084852, 0.9339235923276625, 0.9287045527947358, 0.9227120515031718, 0.9157360435411512, 0.9074680790366705, 0.8974254078443018, 0.8847796065353212, 0.8678845541030237, 0.842409769927307, 0.7615941559557649, 0.7615941559557649, 0.6472690624415961, 0.5886234908679698, 0.5389256760760501, 0.49387199253629566, 0.45184074274778485, 0.4120255532732981, 0.373963418767636, 0.33736340599337616, 0.30203084275262454, 0.26782915091684306, 0.23465879592327538, 0.20244485923179512, 0.17112930593895137, 0.14066596997493896, 0.11101719180227688, 0.08215150261613617, 0.05404199413952211, 0.02666515060823686, 6.123233995736766e-17, 6.123233995736766e-17, 0.02666515060823686, 0.05404199413952211, 0.08215150261613617, 0.11101719180227688, 0.14066596997493896, 0.17112930593895137, 0.20244485923179512, 0.23465879592327538, 0.26782915091684306, 0.30203084275262454, 0.33736340599337616, 0.373963418767636, 0.4120255532732981, 0.45184074274778485, 0.49387199253629566, 0.5389256760760501, 0.5886234908679698, 0.6472690624415961, 0.7615941559557649, 0.7615941559557649, 0.842409769927307, 0.8678845541030237, 0.8847796065353212, 0.8974254078443018, 0.9074680790366705, 0.9157360435411512, 0.9227120515031718, 0.9287045527947358, 0.9339235923276625, 0.938519067084852, 0.9426018711879287, 0.9462564212916691, 0.9495484889945591, 0.9525303168299666, 0.9552440820135759, 0.9577243131442403, 0.9599996200617662, 0.9620939596589054, 0.9640275800758169], \"y\": [0.0, 0.06201846365137433, 0.08925902396586932, 0.11133080933588038, 0.13101835082635102, 0.14941607430484086, 0.16710897761317495, 0.18447306516922912, 0.2017867298913834, 0.21928305007372434, 0.23718021259974997, 0.2557042226711039, 0.27511146045130175, 0.2957178756613325, 0.3179452791600336, 0.34240739661216596, 0.37009727109049617, 0.40289052989443996, 0.4454907208605126, 0.5453188678689158, 0.5453188678689158, 0.6302095080290666, 0.6556400590095318, 0.6689831986946349, 0.6748818678860573, 0.6751353041938979, 0.6706397994892592, 0.6618858684897782, 0.6491373140406217, 0.6325055464891034, 0.6119788086009217, 0.5874255858581267, 0.5585764068596328, 0.5249784658194616, 0.4859040401236884, 0.44016294074678747, 0.3856770502708983, 0.3183148995075905, 0.2273277427840814, 0.0, 0.0, -0.2273277427840814, -0.3183148995075905, -0.3856770502708983, -0.44016294074678747, -0.4859040401236884, -0.5249784658194616, -0.5585764068596328, -0.5874255858581267, -0.6119788086009217, -0.6325055464891034, -0.6491373140406217, -0.6618858684897782, -0.6706397994892592, -0.6751353041938979, -0.6748818678860573, -0.6689831986946349, -0.6556400590095318, -0.6302095080290666, -0.5453188678689158, -0.5453188678689158, -0.4454907208605126, -0.40289052989443996, -0.37009727109049617, -0.34240739661216596, -0.3179452791600336, -0.2957178756613325, -0.27511146045130175, -0.2557042226711039, -0.23718021259974997, -0.21928305007372434, -0.2017867298913834, -0.18447306516922912, -0.16710897761317495, -0.14941607430484086, -0.13101835082635102, -0.11133080933588038, -0.08925902396586932, -0.06201846365137433, 0.0], \"z\": [0.26580222883407967, 0.2655728204356982, 0.26539321039153396, 0.26527267274450045, 0.26522242651175604, 0.26525616347058506, 0.2653907621776405, 0.2656472725087773, 0.26605230326527385, 0.26664002825634353, 0.2674551746460168, 0.2685576365075031, 0.2700299137857873, 0.2719897729216072, 0.27461333723864095, 0.2781812576374755, 0.283183788008018, 0.29061249400322264, 0.30312340252478454, 0.3501452183882998, 0.3501452183882998, 0.42881084034308065, 0.4729254687795768, 0.5118794736363893, 0.5482927314736679, 0.5831228551721697, 0.6168283414296386, 0.6496602639204231, 0.6817673208776406, 0.713241967137843, 0.7441434564266217, 0.7745104457494909, 0.804368371251879, 0.8337339929945865, 0.8626183099624576, 0.8910284892849816, 0.91896917440807, 0.9464433884923581, 0.9734531663638136, 1.0, 1.0, 0.9734531663638136, 0.9464433884923581, 0.91896917440807, 0.8910284892849816, 0.8626183099624576, 0.8337339929945865, 0.804368371251879, 0.7745104457494909, 0.7441434564266217, 0.713241967137843, 0.6817673208776406, 0.6496602639204231, 0.6168283414296386, 0.5831228551721697, 0.5482927314736679, 0.5118794736363893, 0.4729254687795768, 0.42881084034308065, 0.3501452183882998, 0.3501452183882998, 0.30312340252478454, 0.29061249400322264, 0.283183788008018, 0.2781812576374755, 0.27461333723864095, 0.2719897729216072, 0.2700299137857873, 0.2685576365075031, 0.2674551746460168, 0.26664002825634353, 0.26605230326527385, 0.2656472725087773, 0.2653907621776405, 0.26525616347058506, 0.26522242651175604, 0.26527267274450045, 0.26539321039153396, 0.2655728204356982, 0.26580222883407967], \"mode\": \"lines\", \"showlegend\": false, \"line\": {\"color\": \"rgb(255, 105, 97)\", \"width\": 5}}, {\"type\": \"scatter3d\", \"x\": [0, 0.9640275800758169], \"y\": [0, 0.0], \"z\": [0, 0.26580222883407967], \"opacity\": 0.3, \"mode\": \"lines\", \"showlegend\": false, \"line\": {\"color\": \"rgb(255, 105, 97)\"}}, {\"type\": \"scatter3d\", \"x\": [0, 0.9620939596589054], \"y\": [0, 0.06201846365137433], \"z\": [0, 0.2655728204356982], \"opacity\": 0.3, \"mode\": \"lines\", \"showlegend\": false, \"line\": {\"color\": \"rgb(255, 105, 97)\"}}, {\"type\": \"scatter3d\", \"x\": [0, 0.9599996200617662], \"y\": [0, 0.08925902396586932], \"z\": [0, 0.26539321039153396], \"opacity\": 0.3, \"mode\": \"lines\", \"showlegend\": false, \"line\": {\"color\": \"rgb(255, 105, 97)\"}}, {\"type\": \"scatter3d\", \"x\": [0, 0.9577243131442403], \"y\": [0, 0.11133080933588038], \"z\": [0, 0.26527267274450045], \"opacity\": 0.3, \"mode\": \"lines\", \"showlegend\": false, \"line\": {\"color\": \"rgb(255, 105, 97)\"}}, {\"type\": \"scatter3d\", \"x\": [0, 0.9552440820135759], \"y\": [0, 0.13101835082635102], \"z\": [0, 0.26522242651175604], \"opacity\": 0.3, \"mode\": \"lines\", \"showlegend\": false, \"line\": {\"color\": \"rgb(255, 105, 97)\"}}, {\"type\": \"scatter3d\", \"x\": [0, 0.9525303168299666], \"y\": [0, 0.14941607430484086], \"z\": [0, 0.26525616347058506], \"opacity\": 0.3, \"mode\": \"lines\", \"showlegend\": false, \"line\": {\"color\": \"rgb(255, 105, 97)\"}}, {\"type\": \"scatter3d\", \"x\": [0, 0.9495484889945591], \"y\": [0, 0.16710897761317495], \"z\": [0, 0.2653907621776405], \"opacity\": 0.3, \"mode\": \"lines\", \"showlegend\": false, \"line\": {\"color\": \"rgb(255, 105, 97)\"}}, {\"type\": \"scatter3d\", \"x\": [0, 0.9462564212916691], \"y\": [0, 0.18447306516922912], \"z\": [0, 0.2656472725087773], \"opacity\": 0.3, \"mode\": \"lines\", \"showlegend\": false, \"line\": {\"color\": \"rgb(255, 105, 97)\"}}, {\"type\": \"scatter3d\", \"x\": [0, 0.9426018711879287], \"y\": [0, 0.2017867298913834], \"z\": [0, 0.26605230326527385], \"opacity\": 0.3, \"mode\": \"lines\", \"showlegend\": false, \"line\": {\"color\": \"rgb(255, 105, 97)\"}}, {\"type\": \"scatter3d\", \"x\": [0, 0.938519067084852], \"y\": [0, 0.21928305007372434], \"z\": [0, 0.26664002825634353], \"opacity\": 0.3, \"mode\": \"lines\", \"showlegend\": false, \"line\": {\"color\": \"rgb(255, 105, 97)\"}}, {\"type\": \"scatter3d\", \"x\": [0, 0.9339235923276625], \"y\": [0, 0.23718021259974997], \"z\": [0, 0.2674551746460168], \"opacity\": 0.3, \"mode\": \"lines\", \"showlegend\": false, \"line\": {\"color\": \"rgb(255, 105, 97)\"}}, {\"type\": \"scatter3d\", \"x\": [0, 0.9287045527947358], \"y\": [0, 0.2557042226711039], \"z\": [0, 0.2685576365075031], \"opacity\": 0.3, \"mode\": \"lines\", \"showlegend\": false, \"line\": {\"color\": \"rgb(255, 105, 97)\"}}, {\"type\": \"scatter3d\", \"x\": [0, 0.9227120515031718], \"y\": [0, 0.27511146045130175], \"z\": [0, 0.2700299137857873], \"opacity\": 0.3, \"mode\": \"lines\", \"showlegend\": false, \"line\": {\"color\": \"rgb(255, 105, 97)\"}}, {\"type\": \"scatter3d\", \"x\": [0, 0.9157360435411512], \"y\": [0, 0.2957178756613325], \"z\": [0, 0.2719897729216072], \"opacity\": 0.3, \"mode\": \"lines\", \"showlegend\": false, \"line\": {\"color\": \"rgb(255, 105, 97)\"}}, {\"type\": \"scatter3d\", \"x\": [0, 0.9074680790366705], \"y\": [0, 0.3179452791600336], \"z\": [0, 0.27461333723864095], \"opacity\": 0.3, \"mode\": \"lines\", \"showlegend\": false, \"line\": {\"color\": \"rgb(255, 105, 97)\"}}, {\"type\": \"scatter3d\", \"x\": [0, 0.8974254078443018], \"y\": [0, 0.34240739661216596], \"z\": [0, 0.2781812576374755], \"opacity\": 0.3, \"mode\": \"lines\", \"showlegend\": false, \"line\": {\"color\": \"rgb(255, 105, 97)\"}}, {\"type\": \"scatter3d\", \"x\": [0, 0.8847796065353212], \"y\": [0, 0.37009727109049617], \"z\": [0, 0.283183788008018], \"opacity\": 0.3, \"mode\": \"lines\", \"showlegend\": false, \"line\": {\"color\": \"rgb(255, 105, 97)\"}}, {\"type\": \"scatter3d\", \"x\": [0, 0.8678845541030237], \"y\": [0, 0.40289052989443996], \"z\": [0, 0.29061249400322264], \"opacity\": 0.3, \"mode\": \"lines\", \"showlegend\": false, \"line\": {\"color\": \"rgb(255, 105, 97)\"}}, {\"type\": \"scatter3d\", \"x\": [0, 0.842409769927307], \"y\": [0, 0.4454907208605126], \"z\": [0, 0.30312340252478454], \"opacity\": 0.3, \"mode\": \"lines\", \"showlegend\": false, \"line\": {\"color\": \"rgb(255, 105, 97)\"}}, {\"type\": \"scatter3d\", \"x\": [0, 0.7615941559557649], \"y\": [0, 0.5453188678689158], \"z\": [0, 0.3501452183882998], \"opacity\": 0.3, \"mode\": \"lines\", \"showlegend\": false, \"line\": {\"color\": \"rgb(255, 105, 97)\"}}, {\"type\": \"scatter3d\", \"x\": [0, 0.7615941559557649], \"y\": [0, 0.5453188678689158], \"z\": [0, 0.3501452183882998], \"opacity\": 0.3, \"mode\": \"lines\", \"showlegend\": false, \"line\": {\"color\": \"rgb(255, 105, 97)\"}}, {\"type\": \"scatter3d\", \"x\": [0, 0.6472690624415961], \"y\": [0, 0.6302095080290666], \"z\": [0, 0.42881084034308065], \"opacity\": 0.3, \"mode\": \"lines\", \"showlegend\": false, \"line\": {\"color\": \"rgb(255, 105, 97)\"}}, {\"type\": \"scatter3d\", \"x\": [0, 0.5886234908679698], \"y\": [0, 0.6556400590095318], \"z\": [0, 0.4729254687795768], \"opacity\": 0.3, \"mode\": \"lines\", \"showlegend\": false, \"line\": {\"color\": \"rgb(255, 105, 97)\"}}, {\"type\": \"scatter3d\", \"x\": [0, 0.5389256760760501], \"y\": [0, 0.6689831986946349], \"z\": [0, 0.5118794736363893], \"opacity\": 0.3, \"mode\": \"lines\", \"showlegend\": false, \"line\": {\"color\": \"rgb(255, 105, 97)\"}}, {\"type\": \"scatter3d\", \"x\": [0, 0.49387199253629566], \"y\": [0, 0.6748818678860573], \"z\": [0, 0.5482927314736679], \"opacity\": 0.3, \"mode\": \"lines\", \"showlegend\": false, \"line\": {\"color\": \"rgb(255, 105, 97)\"}}, {\"type\": \"scatter3d\", \"x\": [0, 0.45184074274778485], \"y\": [0, 0.6751353041938979], \"z\": [0, 0.5831228551721697], \"opacity\": 0.3, \"mode\": \"lines\", \"showlegend\": false, \"line\": {\"color\": \"rgb(255, 105, 97)\"}}, {\"type\": \"scatter3d\", \"x\": [0, 0.4120255532732981], \"y\": [0, 0.6706397994892592], \"z\": [0, 0.6168283414296386], \"opacity\": 0.3, \"mode\": \"lines\", \"showlegend\": false, \"line\": {\"color\": \"rgb(255, 105, 97)\"}}, {\"type\": \"scatter3d\", \"x\": [0, 0.373963418767636], \"y\": [0, 0.6618858684897782], \"z\": [0, 0.6496602639204231], \"opacity\": 0.3, \"mode\": \"lines\", \"showlegend\": false, \"line\": {\"color\": \"rgb(255, 105, 97)\"}}, {\"type\": \"scatter3d\", \"x\": [0, 0.33736340599337616], \"y\": [0, 0.6491373140406217], \"z\": [0, 0.6817673208776406], \"opacity\": 0.3, \"mode\": \"lines\", \"showlegend\": false, \"line\": {\"color\": \"rgb(255, 105, 97)\"}}, {\"type\": \"scatter3d\", \"x\": [0, 0.30203084275262454], \"y\": [0, 0.6325055464891034], \"z\": [0, 0.713241967137843], \"opacity\": 0.3, \"mode\": \"lines\", \"showlegend\": false, \"line\": {\"color\": \"rgb(255, 105, 97)\"}}, {\"type\": \"scatter3d\", \"x\": [0, 0.26782915091684306], \"y\": [0, 0.6119788086009217], \"z\": [0, 0.7441434564266217], \"opacity\": 0.3, \"mode\": \"lines\", \"showlegend\": false, \"line\": {\"color\": \"rgb(255, 105, 97)\"}}, {\"type\": \"scatter3d\", \"x\": [0, 0.23465879592327538], \"y\": [0, 0.5874255858581267], \"z\": [0, 0.7745104457494909], \"opacity\": 0.3, \"mode\": \"lines\", \"showlegend\": false, \"line\": {\"color\": \"rgb(255, 105, 97)\"}}, {\"type\": \"scatter3d\", \"x\": [0, 0.20244485923179512], \"y\": [0, 0.5585764068596328], \"z\": [0, 0.804368371251879], \"opacity\": 0.3, \"mode\": \"lines\", \"showlegend\": false, \"line\": {\"color\": \"rgb(255, 105, 97)\"}}, {\"type\": \"scatter3d\", \"x\": [0, 0.17112930593895137], \"y\": [0, 0.5249784658194616], \"z\": [0, 0.8337339929945865], \"opacity\": 0.3, \"mode\": \"lines\", \"showlegend\": false, \"line\": {\"color\": \"rgb(255, 105, 97)\"}}, {\"type\": \"scatter3d\", \"x\": [0, 0.14066596997493896], \"y\": [0, 0.4859040401236884], \"z\": [0, 0.8626183099624576], \"opacity\": 0.3, \"mode\": \"lines\", \"showlegend\": false, \"line\": {\"color\": \"rgb(255, 105, 97)\"}}, {\"type\": \"scatter3d\", \"x\": [0, 0.11101719180227688], \"y\": [0, 0.44016294074678747], \"z\": [0, 0.8910284892849816], \"opacity\": 0.3, \"mode\": \"lines\", \"showlegend\": false, \"line\": {\"color\": \"rgb(255, 105, 97)\"}}, {\"type\": \"scatter3d\", \"x\": [0, 0.08215150261613617], \"y\": [0, 0.3856770502708983], \"z\": [0, 0.91896917440807], \"opacity\": 0.3, \"mode\": \"lines\", \"showlegend\": false, \"line\": {\"color\": \"rgb(255, 105, 97)\"}}, {\"type\": \"scatter3d\", \"x\": [0, 0.05404199413952211], \"y\": [0, 0.3183148995075905], \"z\": [0, 0.9464433884923581], \"opacity\": 0.3, \"mode\": \"lines\", \"showlegend\": false, \"line\": {\"color\": \"rgb(255, 105, 97)\"}}, {\"type\": \"scatter3d\", \"x\": [0, 0.02666515060823686], \"y\": [0, 0.2273277427840814], \"z\": [0, 0.9734531663638136], \"opacity\": 0.3, \"mode\": \"lines\", \"showlegend\": false, \"line\": {\"color\": \"rgb(255, 105, 97)\"}}, {\"type\": \"scatter3d\", \"x\": [0, 6.123233995736766e-17], \"y\": [0, 0.0], \"z\": [0, 1.0], \"opacity\": 0.3, \"mode\": \"lines\", \"showlegend\": false, \"line\": {\"color\": \"rgb(255, 105, 97)\"}}, {\"type\": \"scatter3d\", \"x\": [0, 6.123233995736766e-17], \"y\": [0, 0.0], \"z\": [0, 1.0], \"opacity\": 0.3, \"mode\": \"lines\", \"showlegend\": false, \"line\": {\"color\": \"rgb(255, 105, 97)\"}}, {\"type\": \"scatter3d\", \"x\": [0, 0.02666515060823686], \"y\": [0, -0.2273277427840814], \"z\": [0, 0.9734531663638136], \"opacity\": 0.3, \"mode\": \"lines\", \"showlegend\": false, \"line\": {\"color\": \"rgb(255, 105, 97)\"}}, {\"type\": \"scatter3d\", \"x\": [0, 0.05404199413952211], \"y\": [0, -0.3183148995075905], \"z\": [0, 0.9464433884923581], \"opacity\": 0.3, \"mode\": \"lines\", \"showlegend\": false, \"line\": {\"color\": \"rgb(255, 105, 97)\"}}, {\"type\": \"scatter3d\", \"x\": [0, 0.08215150261613617], \"y\": [0, -0.3856770502708983], \"z\": [0, 0.91896917440807], \"opacity\": 0.3, \"mode\": \"lines\", \"showlegend\": false, \"line\": {\"color\": \"rgb(255, 105, 97)\"}}, {\"type\": \"scatter3d\", \"x\": [0, 0.11101719180227688], \"y\": [0, -0.44016294074678747], \"z\": [0, 0.8910284892849816], \"opacity\": 0.3, \"mode\": \"lines\", \"showlegend\": false, \"line\": {\"color\": \"rgb(255, 105, 97)\"}}, {\"type\": \"scatter3d\", \"x\": [0, 0.14066596997493896], \"y\": [0, -0.4859040401236884], \"z\": [0, 0.8626183099624576], \"opacity\": 0.3, \"mode\": \"lines\", \"showlegend\": false, \"line\": {\"color\": \"rgb(255, 105, 97)\"}}, {\"type\": \"scatter3d\", \"x\": [0, 0.17112930593895137], \"y\": [0, -0.5249784658194616], \"z\": [0, 0.8337339929945865], \"opacity\": 0.3, \"mode\": \"lines\", \"showlegend\": false, \"line\": {\"color\": \"rgb(255, 105, 97)\"}}, {\"type\": \"scatter3d\", \"x\": [0, 0.20244485923179512], \"y\": [0, -0.5585764068596328], \"z\": [0, 0.804368371251879], \"opacity\": 0.3, \"mode\": \"lines\", \"showlegend\": false, \"line\": {\"color\": \"rgb(255, 105, 97)\"}}, {\"type\": \"scatter3d\", \"x\": [0, 0.23465879592327538], \"y\": [0, -0.5874255858581267], \"z\": [0, 0.7745104457494909], \"opacity\": 0.3, \"mode\": \"lines\", \"showlegend\": false, \"line\": {\"color\": \"rgb(255, 105, 97)\"}}, {\"type\": \"scatter3d\", \"x\": [0, 0.26782915091684306], \"y\": [0, -0.6119788086009217], \"z\": [0, 0.7441434564266217], \"opacity\": 0.3, \"mode\": \"lines\", \"showlegend\": false, \"line\": {\"color\": \"rgb(255, 105, 97)\"}}, {\"type\": \"scatter3d\", \"x\": [0, 0.30203084275262454], \"y\": [0, -0.6325055464891034], \"z\": [0, 0.713241967137843], \"opacity\": 0.3, \"mode\": \"lines\", \"showlegend\": false, \"line\": {\"color\": \"rgb(255, 105, 97)\"}}, {\"type\": \"scatter3d\", \"x\": [0, 0.33736340599337616], \"y\": [0, -0.6491373140406217], \"z\": [0, 0.6817673208776406], \"opacity\": 0.3, \"mode\": \"lines\", \"showlegend\": false, \"line\": {\"color\": \"rgb(255, 105, 97)\"}}, {\"type\": \"scatter3d\", \"x\": [0, 0.373963418767636], \"y\": [0, -0.6618858684897782], \"z\": [0, 0.6496602639204231], \"opacity\": 0.3, \"mode\": \"lines\", \"showlegend\": false, \"line\": {\"color\": \"rgb(255, 105, 97)\"}}, {\"type\": \"scatter3d\", \"x\": [0, 0.4120255532732981], \"y\": [0, -0.6706397994892592], \"z\": [0, 0.6168283414296386], \"opacity\": 0.3, \"mode\": \"lines\", \"showlegend\": false, \"line\": {\"color\": \"rgb(255, 105, 97)\"}}, {\"type\": \"scatter3d\", \"x\": [0, 0.45184074274778485], \"y\": [0, -0.6751353041938979], \"z\": [0, 0.5831228551721697], \"opacity\": 0.3, \"mode\": \"lines\", \"showlegend\": false, \"line\": {\"color\": \"rgb(255, 105, 97)\"}}, {\"type\": \"scatter3d\", \"x\": [0, 0.49387199253629566], \"y\": [0, -0.6748818678860573], \"z\": [0, 0.5482927314736679], \"opacity\": 0.3, \"mode\": \"lines\", \"showlegend\": false, \"line\": {\"color\": \"rgb(255, 105, 97)\"}}, {\"type\": \"scatter3d\", \"x\": [0, 0.5389256760760501], \"y\": [0, -0.6689831986946349], \"z\": [0, 0.5118794736363893], \"opacity\": 0.3, \"mode\": \"lines\", \"showlegend\": false, \"line\": {\"color\": \"rgb(255, 105, 97)\"}}, {\"type\": \"scatter3d\", \"x\": [0, 0.5886234908679698], \"y\": [0, -0.6556400590095318], \"z\": [0, 0.4729254687795768], \"opacity\": 0.3, \"mode\": \"lines\", \"showlegend\": false, \"line\": {\"color\": \"rgb(255, 105, 97)\"}}, {\"type\": \"scatter3d\", \"x\": [0, 0.6472690624415961], \"y\": [0, -0.6302095080290666], \"z\": [0, 0.42881084034308065], \"opacity\": 0.3, \"mode\": \"lines\", \"showlegend\": false, \"line\": {\"color\": \"rgb(255, 105, 97)\"}}, {\"type\": \"scatter3d\", \"x\": [0, 0.7615941559557649], \"y\": [0, -0.5453188678689158], \"z\": [0, 0.3501452183882998], \"opacity\": 0.3, \"mode\": \"lines\", \"showlegend\": false, \"line\": {\"color\": \"rgb(255, 105, 97)\"}}, {\"type\": \"scatter3d\", \"x\": [0, 0.7615941559557649], \"y\": [0, -0.5453188678689158], \"z\": [0, 0.3501452183882998], \"opacity\": 0.3, \"mode\": \"lines\", \"showlegend\": false, \"line\": {\"color\": \"rgb(255, 105, 97)\"}}, {\"type\": \"scatter3d\", \"x\": [0, 0.842409769927307], \"y\": [0, -0.4454907208605126], \"z\": [0, 0.30312340252478454], \"opacity\": 0.3, \"mode\": \"lines\", \"showlegend\": false, \"line\": {\"color\": \"rgb(255, 105, 97)\"}}, {\"type\": \"scatter3d\", \"x\": [0, 0.8678845541030237], \"y\": [0, -0.40289052989443996], \"z\": [0, 0.29061249400322264], \"opacity\": 0.3, \"mode\": \"lines\", \"showlegend\": false, \"line\": {\"color\": \"rgb(255, 105, 97)\"}}, {\"type\": \"scatter3d\", \"x\": [0, 0.8847796065353212], \"y\": [0, -0.37009727109049617], \"z\": [0, 0.283183788008018], \"opacity\": 0.3, \"mode\": \"lines\", \"showlegend\": false, \"line\": {\"color\": \"rgb(255, 105, 97)\"}}, {\"type\": \"scatter3d\", \"x\": [0, 0.8974254078443018], \"y\": [0, -0.34240739661216596], \"z\": [0, 0.2781812576374755], \"opacity\": 0.3, \"mode\": \"lines\", \"showlegend\": false, \"line\": {\"color\": \"rgb(255, 105, 97)\"}}, {\"type\": \"scatter3d\", \"x\": [0, 0.9074680790366705], \"y\": [0, -0.3179452791600336], \"z\": [0, 0.27461333723864095], \"opacity\": 0.3, \"mode\": \"lines\", \"showlegend\": false, \"line\": {\"color\": \"rgb(255, 105, 97)\"}}, {\"type\": \"scatter3d\", \"x\": [0, 0.9157360435411512], \"y\": [0, -0.2957178756613325], \"z\": [0, 0.2719897729216072], \"opacity\": 0.3, \"mode\": \"lines\", \"showlegend\": false, \"line\": {\"color\": \"rgb(255, 105, 97)\"}}, {\"type\": \"scatter3d\", \"x\": [0, 0.9227120515031718], \"y\": [0, -0.27511146045130175], \"z\": [0, 0.2700299137857873], \"opacity\": 0.3, \"mode\": \"lines\", \"showlegend\": false, \"line\": {\"color\": \"rgb(255, 105, 97)\"}}, {\"type\": \"scatter3d\", \"x\": [0, 0.9287045527947358], \"y\": [0, -0.2557042226711039], \"z\": [0, 0.2685576365075031], \"opacity\": 0.3, \"mode\": \"lines\", \"showlegend\": false, \"line\": {\"color\": \"rgb(255, 105, 97)\"}}, {\"type\": \"scatter3d\", \"x\": [0, 0.9339235923276625], \"y\": [0, -0.23718021259974997], \"z\": [0, 0.2674551746460168], \"opacity\": 0.3, \"mode\": \"lines\", \"showlegend\": false, \"line\": {\"color\": \"rgb(255, 105, 97)\"}}, {\"type\": \"scatter3d\", \"x\": [0, 0.938519067084852], \"y\": [0, -0.21928305007372434], \"z\": [0, 0.26664002825634353], \"opacity\": 0.3, \"mode\": \"lines\", \"showlegend\": false, \"line\": {\"color\": \"rgb(255, 105, 97)\"}}, {\"type\": \"scatter3d\", \"x\": [0, 0.9426018711879287], \"y\": [0, -0.2017867298913834], \"z\": [0, 0.26605230326527385], \"opacity\": 0.3, \"mode\": \"lines\", \"showlegend\": false, \"line\": {\"color\": \"rgb(255, 105, 97)\"}}, {\"type\": \"scatter3d\", \"x\": [0, 0.9462564212916691], \"y\": [0, -0.18447306516922912], \"z\": [0, 0.2656472725087773], \"opacity\": 0.3, \"mode\": \"lines\", \"showlegend\": false, \"line\": {\"color\": \"rgb(255, 105, 97)\"}}, {\"type\": \"scatter3d\", \"x\": [0, 0.9495484889945591], \"y\": [0, -0.16710897761317495], \"z\": [0, 0.2653907621776405], \"opacity\": 0.3, \"mode\": \"lines\", \"showlegend\": false, \"line\": {\"color\": \"rgb(255, 105, 97)\"}}, {\"type\": \"scatter3d\", \"x\": [0, 0.9525303168299666], \"y\": [0, -0.14941607430484086], \"z\": [0, 0.26525616347058506], \"opacity\": 0.3, \"mode\": \"lines\", \"showlegend\": false, \"line\": {\"color\": \"rgb(255, 105, 97)\"}}, {\"type\": \"scatter3d\", \"x\": [0, 0.9552440820135759], \"y\": [0, -0.13101835082635102], \"z\": [0, 0.26522242651175604], \"opacity\": 0.3, \"mode\": \"lines\", \"showlegend\": false, \"line\": {\"color\": \"rgb(255, 105, 97)\"}}, {\"type\": \"scatter3d\", \"x\": [0, 0.9577243131442403], \"y\": [0, -0.11133080933588038], \"z\": [0, 0.26527267274450045], \"opacity\": 0.3, \"mode\": \"lines\", \"showlegend\": false, \"line\": {\"color\": \"rgb(255, 105, 97)\"}}, {\"type\": \"scatter3d\", \"x\": [0, 0.9599996200617662], \"y\": [0, -0.08925902396586932], \"z\": [0, 0.26539321039153396], \"opacity\": 0.3, \"mode\": \"lines\", \"showlegend\": false, \"line\": {\"color\": \"rgb(255, 105, 97)\"}}, {\"type\": \"scatter3d\", \"x\": [0, 0.9620939596589054], \"y\": [0, -0.06201846365137433], \"z\": [0, 0.2655728204356982], \"opacity\": 0.3, \"mode\": \"lines\", \"showlegend\": false, \"line\": {\"color\": \"rgb(255, 105, 97)\"}}, {\"type\": \"scatter3d\", \"x\": [0, 0.9640275800758169], \"y\": [0, 0.0], \"z\": [0, 0.26580222883407967], \"opacity\": 0.3, \"mode\": \"lines\", \"showlegend\": false, \"line\": {\"color\": \"rgb(255, 105, 97)\"}}], {\"margin\": {\"l\": 0, \"r\": 0, \"b\": 0, \"t\": 0}, \"scene\": {\"xaxis\": {\"title\": \"Z\"}, \"yaxis\": {\"title\": \"Y\"}, \"zaxis\": {\"title\": \"X\"}}}, {\"showLink\": true, \"linkText\": \"Export to plot.ly\"})});</script>"
      ],
      "text/vnd.plotly.v1+html": [
       "<div id=\"41ead513-0f30-4618-9776-3f93dcda8d47\" style=\"height: 525px; width: 100%;\" class=\"plotly-graph-div\"></div><script type=\"text/javascript\">require([\"plotly\"], function(Plotly) { window.PLOTLYENV=window.PLOTLYENV || {};window.PLOTLYENV.BASE_URL=\"https://plot.ly\";Plotly.newPlot(\"41ead513-0f30-4618-9776-3f93dcda8d47\", [{\"type\": \"scatter3d\", \"x\": [-1.0, 1.0], \"y\": [0, 0], \"z\": [0, 0], \"mode\": \"lines\", \"showlegend\": false, \"line\": {\"color\": \"rgb(0,33,71)\", \"width\": 5}}, {\"type\": \"surface\", \"x\": [[-1.0, -1.0, -1.0, -1.0, -1.0, -1.0, -1.0, -1.0, -1.0, -1.0], [1.0, 1.0, 1.0, 1.0, 1.0, 1.0, 1.0, 1.0, 1.0, 1.0]], \"y\": [[0.0, 0.342020143325669, 0.6427876096865394, 0.8660254037844386, 0.984807753012208, 0.984807753012208, 0.8660254037844388, 0.6427876096865395, 0.342020143325669, 0.0], [0.0, 0.342020143325669, 0.6427876096865394, 0.8660254037844386, 0.984807753012208, 0.984807753012208, 0.8660254037844388, 0.6427876096865395, 0.342020143325669, 0.0]], \"z\": [[-1.0, -0.9396926207859083, -0.766044443118978, -0.5, -0.17364817766693036, 0.17364817766693036, 0.49999999999999983, 0.7660444431189779, 0.9396926207859083, 1.0], [-1.0, -0.9396926207859083, -0.766044443118978, -0.5, -0.17364817766693036, 0.17364817766693036, 0.49999999999999983, 0.7660444431189779, 0.9396926207859083, 1.0]], \"surfacecolor\": [1, 1], \"showscale\": false, \"opacity\": 0.4}, {\"type\": \"surface\", \"x\": [[-1.0, -1.0, -1.0, -1.0, -1.0, -1.0, -1.0, -1.0, -1.0, -1.0], [1.0, 1.0, 1.0, 1.0, 1.0, 1.0, 1.0, 1.0, 1.0, 1.0]], \"y\": [[-0.0, -0.342020143325669, -0.6427876096865394, -0.8660254037844386, -0.984807753012208, -0.984807753012208, -0.8660254037844388, -0.6427876096865395, -0.342020143325669, -0.0], [-0.0, -0.342020143325669, -0.6427876096865394, -0.8660254037844386, -0.984807753012208, -0.984807753012208, -0.8660254037844388, -0.6427876096865395, -0.342020143325669, -0.0]], \"z\": [[-1.0, -0.9396926207859083, -0.766044443118978, -0.5, -0.17364817766693036, 0.17364817766693036, 0.49999999999999983, 0.7660444431189779, 0.9396926207859083, 1.0], [-1.0, -0.9396926207859083, -0.766044443118978, -0.5, -0.17364817766693036, 0.17364817766693036, 0.49999999999999983, 0.7660444431189779, 0.9396926207859083, 1.0]], \"surfacecolor\": [1, 1], \"showscale\": false, \"opacity\": 0.4}, {\"type\": \"scatter3d\", \"x\": [0.0, 0.7615941559557649], \"y\": [0.0, 0.0], \"z\": [0.0, 0.6480542736638855], \"mode\": \"lines\", \"showlegend\": false, \"line\": {\"color\": \"rgb(255, 105, 97)\", \"width\": 7}}, {\"type\": \"scatter3d\", \"x\": [0.9640275800758169, 0.9620939596589054, 0.9599996200617662, 0.9577243131442403, 0.9552440820135759, 0.9525303168299666, 0.9495484889945591, 0.9462564212916691, 0.9426018711879287, 0.938519067084852, 0.9339235923276625, 0.9287045527947358, 0.9227120515031718, 0.9157360435411512, 0.9074680790366705, 0.8974254078443018, 0.8847796065353212, 0.8678845541030237, 0.842409769927307, 0.7615941559557649, 0.7615941559557649, 0.6472690624415961, 0.5886234908679698, 0.5389256760760501, 0.49387199253629566, 0.45184074274778485, 0.4120255532732981, 0.373963418767636, 0.33736340599337616, 0.30203084275262454, 0.26782915091684306, 0.23465879592327538, 0.20244485923179512, 0.17112930593895137, 0.14066596997493896, 0.11101719180227688, 0.08215150261613617, 0.05404199413952211, 0.02666515060823686, 6.123233995736766e-17, 6.123233995736766e-17, 0.02666515060823686, 0.05404199413952211, 0.08215150261613617, 0.11101719180227688, 0.14066596997493896, 0.17112930593895137, 0.20244485923179512, 0.23465879592327538, 0.26782915091684306, 0.30203084275262454, 0.33736340599337616, 0.373963418767636, 0.4120255532732981, 0.45184074274778485, 0.49387199253629566, 0.5389256760760501, 0.5886234908679698, 0.6472690624415961, 0.7615941559557649, 0.7615941559557649, 0.842409769927307, 0.8678845541030237, 0.8847796065353212, 0.8974254078443018, 0.9074680790366705, 0.9157360435411512, 0.9227120515031718, 0.9287045527947358, 0.9339235923276625, 0.938519067084852, 0.9426018711879287, 0.9462564212916691, 0.9495484889945591, 0.9525303168299666, 0.9552440820135759, 0.9577243131442403, 0.9599996200617662, 0.9620939596589054, 0.9640275800758169], \"y\": [0.0, 0.06201846365137433, 0.08925902396586932, 0.11133080933588038, 0.13101835082635102, 0.14941607430484086, 0.16710897761317495, 0.18447306516922912, 0.2017867298913834, 0.21928305007372434, 0.23718021259974997, 0.2557042226711039, 0.27511146045130175, 0.2957178756613325, 0.3179452791600336, 0.34240739661216596, 0.37009727109049617, 0.40289052989443996, 0.4454907208605126, 0.5453188678689158, 0.5453188678689158, 0.6302095080290666, 0.6556400590095318, 0.6689831986946349, 0.6748818678860573, 0.6751353041938979, 0.6706397994892592, 0.6618858684897782, 0.6491373140406217, 0.6325055464891034, 0.6119788086009217, 0.5874255858581267, 0.5585764068596328, 0.5249784658194616, 0.4859040401236884, 0.44016294074678747, 0.3856770502708983, 0.3183148995075905, 0.2273277427840814, 0.0, 0.0, -0.2273277427840814, -0.3183148995075905, -0.3856770502708983, -0.44016294074678747, -0.4859040401236884, -0.5249784658194616, -0.5585764068596328, -0.5874255858581267, -0.6119788086009217, -0.6325055464891034, -0.6491373140406217, -0.6618858684897782, -0.6706397994892592, -0.6751353041938979, -0.6748818678860573, -0.6689831986946349, -0.6556400590095318, -0.6302095080290666, -0.5453188678689158, -0.5453188678689158, -0.4454907208605126, -0.40289052989443996, -0.37009727109049617, -0.34240739661216596, -0.3179452791600336, -0.2957178756613325, -0.27511146045130175, -0.2557042226711039, -0.23718021259974997, -0.21928305007372434, -0.2017867298913834, -0.18447306516922912, -0.16710897761317495, -0.14941607430484086, -0.13101835082635102, -0.11133080933588038, -0.08925902396586932, -0.06201846365137433, 0.0], \"z\": [0.26580222883407967, 0.2655728204356982, 0.26539321039153396, 0.26527267274450045, 0.26522242651175604, 0.26525616347058506, 0.2653907621776405, 0.2656472725087773, 0.26605230326527385, 0.26664002825634353, 0.2674551746460168, 0.2685576365075031, 0.2700299137857873, 0.2719897729216072, 0.27461333723864095, 0.2781812576374755, 0.283183788008018, 0.29061249400322264, 0.30312340252478454, 0.3501452183882998, 0.3501452183882998, 0.42881084034308065, 0.4729254687795768, 0.5118794736363893, 0.5482927314736679, 0.5831228551721697, 0.6168283414296386, 0.6496602639204231, 0.6817673208776406, 0.713241967137843, 0.7441434564266217, 0.7745104457494909, 0.804368371251879, 0.8337339929945865, 0.8626183099624576, 0.8910284892849816, 0.91896917440807, 0.9464433884923581, 0.9734531663638136, 1.0, 1.0, 0.9734531663638136, 0.9464433884923581, 0.91896917440807, 0.8910284892849816, 0.8626183099624576, 0.8337339929945865, 0.804368371251879, 0.7745104457494909, 0.7441434564266217, 0.713241967137843, 0.6817673208776406, 0.6496602639204231, 0.6168283414296386, 0.5831228551721697, 0.5482927314736679, 0.5118794736363893, 0.4729254687795768, 0.42881084034308065, 0.3501452183882998, 0.3501452183882998, 0.30312340252478454, 0.29061249400322264, 0.283183788008018, 0.2781812576374755, 0.27461333723864095, 0.2719897729216072, 0.2700299137857873, 0.2685576365075031, 0.2674551746460168, 0.26664002825634353, 0.26605230326527385, 0.2656472725087773, 0.2653907621776405, 0.26525616347058506, 0.26522242651175604, 0.26527267274450045, 0.26539321039153396, 0.2655728204356982, 0.26580222883407967], \"mode\": \"lines\", \"showlegend\": false, \"line\": {\"color\": \"rgb(255, 105, 97)\", \"width\": 5}}, {\"type\": \"scatter3d\", \"x\": [0, 0.9640275800758169], \"y\": [0, 0.0], \"z\": [0, 0.26580222883407967], \"opacity\": 0.3, \"mode\": \"lines\", \"showlegend\": false, \"line\": {\"color\": \"rgb(255, 105, 97)\"}}, {\"type\": \"scatter3d\", \"x\": [0, 0.9620939596589054], \"y\": [0, 0.06201846365137433], \"z\": [0, 0.2655728204356982], \"opacity\": 0.3, \"mode\": \"lines\", \"showlegend\": false, \"line\": {\"color\": \"rgb(255, 105, 97)\"}}, {\"type\": \"scatter3d\", \"x\": [0, 0.9599996200617662], \"y\": [0, 0.08925902396586932], \"z\": [0, 0.26539321039153396], \"opacity\": 0.3, \"mode\": \"lines\", \"showlegend\": false, \"line\": {\"color\": \"rgb(255, 105, 97)\"}}, {\"type\": \"scatter3d\", \"x\": [0, 0.9577243131442403], \"y\": [0, 0.11133080933588038], \"z\": [0, 0.26527267274450045], \"opacity\": 0.3, \"mode\": \"lines\", \"showlegend\": false, \"line\": {\"color\": \"rgb(255, 105, 97)\"}}, {\"type\": \"scatter3d\", \"x\": [0, 0.9552440820135759], \"y\": [0, 0.13101835082635102], \"z\": [0, 0.26522242651175604], \"opacity\": 0.3, \"mode\": \"lines\", \"showlegend\": false, \"line\": {\"color\": \"rgb(255, 105, 97)\"}}, {\"type\": \"scatter3d\", \"x\": [0, 0.9525303168299666], \"y\": [0, 0.14941607430484086], \"z\": [0, 0.26525616347058506], \"opacity\": 0.3, \"mode\": \"lines\", \"showlegend\": false, \"line\": {\"color\": \"rgb(255, 105, 97)\"}}, {\"type\": \"scatter3d\", \"x\": [0, 0.9495484889945591], \"y\": [0, 0.16710897761317495], \"z\": [0, 0.2653907621776405], \"opacity\": 0.3, \"mode\": \"lines\", \"showlegend\": false, \"line\": {\"color\": \"rgb(255, 105, 97)\"}}, {\"type\": \"scatter3d\", \"x\": [0, 0.9462564212916691], \"y\": [0, 0.18447306516922912], \"z\": [0, 0.2656472725087773], \"opacity\": 0.3, \"mode\": \"lines\", \"showlegend\": false, \"line\": {\"color\": \"rgb(255, 105, 97)\"}}, {\"type\": \"scatter3d\", \"x\": [0, 0.9426018711879287], \"y\": [0, 0.2017867298913834], \"z\": [0, 0.26605230326527385], \"opacity\": 0.3, \"mode\": \"lines\", \"showlegend\": false, \"line\": {\"color\": \"rgb(255, 105, 97)\"}}, {\"type\": \"scatter3d\", \"x\": [0, 0.938519067084852], \"y\": [0, 0.21928305007372434], \"z\": [0, 0.26664002825634353], \"opacity\": 0.3, \"mode\": \"lines\", \"showlegend\": false, \"line\": {\"color\": \"rgb(255, 105, 97)\"}}, {\"type\": \"scatter3d\", \"x\": [0, 0.9339235923276625], \"y\": [0, 0.23718021259974997], \"z\": [0, 0.2674551746460168], \"opacity\": 0.3, \"mode\": \"lines\", \"showlegend\": false, \"line\": {\"color\": \"rgb(255, 105, 97)\"}}, {\"type\": \"scatter3d\", \"x\": [0, 0.9287045527947358], \"y\": [0, 0.2557042226711039], \"z\": [0, 0.2685576365075031], \"opacity\": 0.3, \"mode\": \"lines\", \"showlegend\": false, \"line\": {\"color\": \"rgb(255, 105, 97)\"}}, {\"type\": \"scatter3d\", \"x\": [0, 0.9227120515031718], \"y\": [0, 0.27511146045130175], \"z\": [0, 0.2700299137857873], \"opacity\": 0.3, \"mode\": \"lines\", \"showlegend\": false, \"line\": {\"color\": \"rgb(255, 105, 97)\"}}, {\"type\": \"scatter3d\", \"x\": [0, 0.9157360435411512], \"y\": [0, 0.2957178756613325], \"z\": [0, 0.2719897729216072], \"opacity\": 0.3, \"mode\": \"lines\", \"showlegend\": false, \"line\": {\"color\": \"rgb(255, 105, 97)\"}}, {\"type\": \"scatter3d\", \"x\": [0, 0.9074680790366705], \"y\": [0, 0.3179452791600336], \"z\": [0, 0.27461333723864095], \"opacity\": 0.3, \"mode\": \"lines\", \"showlegend\": false, \"line\": {\"color\": \"rgb(255, 105, 97)\"}}, {\"type\": \"scatter3d\", \"x\": [0, 0.8974254078443018], \"y\": [0, 0.34240739661216596], \"z\": [0, 0.2781812576374755], \"opacity\": 0.3, \"mode\": \"lines\", \"showlegend\": false, \"line\": {\"color\": \"rgb(255, 105, 97)\"}}, {\"type\": \"scatter3d\", \"x\": [0, 0.8847796065353212], \"y\": [0, 0.37009727109049617], \"z\": [0, 0.283183788008018], \"opacity\": 0.3, \"mode\": \"lines\", \"showlegend\": false, \"line\": {\"color\": \"rgb(255, 105, 97)\"}}, {\"type\": \"scatter3d\", \"x\": [0, 0.8678845541030237], \"y\": [0, 0.40289052989443996], \"z\": [0, 0.29061249400322264], \"opacity\": 0.3, \"mode\": \"lines\", \"showlegend\": false, \"line\": {\"color\": \"rgb(255, 105, 97)\"}}, {\"type\": \"scatter3d\", \"x\": [0, 0.842409769927307], \"y\": [0, 0.4454907208605126], \"z\": [0, 0.30312340252478454], \"opacity\": 0.3, \"mode\": \"lines\", \"showlegend\": false, \"line\": {\"color\": \"rgb(255, 105, 97)\"}}, {\"type\": \"scatter3d\", \"x\": [0, 0.7615941559557649], \"y\": [0, 0.5453188678689158], \"z\": [0, 0.3501452183882998], \"opacity\": 0.3, \"mode\": \"lines\", \"showlegend\": false, \"line\": {\"color\": \"rgb(255, 105, 97)\"}}, {\"type\": \"scatter3d\", \"x\": [0, 0.7615941559557649], \"y\": [0, 0.5453188678689158], \"z\": [0, 0.3501452183882998], \"opacity\": 0.3, \"mode\": \"lines\", \"showlegend\": false, \"line\": {\"color\": \"rgb(255, 105, 97)\"}}, {\"type\": \"scatter3d\", \"x\": [0, 0.6472690624415961], \"y\": [0, 0.6302095080290666], \"z\": [0, 0.42881084034308065], \"opacity\": 0.3, \"mode\": \"lines\", \"showlegend\": false, \"line\": {\"color\": \"rgb(255, 105, 97)\"}}, {\"type\": \"scatter3d\", \"x\": [0, 0.5886234908679698], \"y\": [0, 0.6556400590095318], \"z\": [0, 0.4729254687795768], \"opacity\": 0.3, \"mode\": \"lines\", \"showlegend\": false, \"line\": {\"color\": \"rgb(255, 105, 97)\"}}, {\"type\": \"scatter3d\", \"x\": [0, 0.5389256760760501], \"y\": [0, 0.6689831986946349], \"z\": [0, 0.5118794736363893], \"opacity\": 0.3, \"mode\": \"lines\", \"showlegend\": false, \"line\": {\"color\": \"rgb(255, 105, 97)\"}}, {\"type\": \"scatter3d\", \"x\": [0, 0.49387199253629566], \"y\": [0, 0.6748818678860573], \"z\": [0, 0.5482927314736679], \"opacity\": 0.3, \"mode\": \"lines\", \"showlegend\": false, \"line\": {\"color\": \"rgb(255, 105, 97)\"}}, {\"type\": \"scatter3d\", \"x\": [0, 0.45184074274778485], \"y\": [0, 0.6751353041938979], \"z\": [0, 0.5831228551721697], \"opacity\": 0.3, \"mode\": \"lines\", \"showlegend\": false, \"line\": {\"color\": \"rgb(255, 105, 97)\"}}, {\"type\": \"scatter3d\", \"x\": [0, 0.4120255532732981], \"y\": [0, 0.6706397994892592], \"z\": [0, 0.6168283414296386], \"opacity\": 0.3, \"mode\": \"lines\", \"showlegend\": false, \"line\": {\"color\": \"rgb(255, 105, 97)\"}}, {\"type\": \"scatter3d\", \"x\": [0, 0.373963418767636], \"y\": [0, 0.6618858684897782], \"z\": [0, 0.6496602639204231], \"opacity\": 0.3, \"mode\": \"lines\", \"showlegend\": false, \"line\": {\"color\": \"rgb(255, 105, 97)\"}}, {\"type\": \"scatter3d\", \"x\": [0, 0.33736340599337616], \"y\": [0, 0.6491373140406217], \"z\": [0, 0.6817673208776406], \"opacity\": 0.3, \"mode\": \"lines\", \"showlegend\": false, \"line\": {\"color\": \"rgb(255, 105, 97)\"}}, {\"type\": \"scatter3d\", \"x\": [0, 0.30203084275262454], \"y\": [0, 0.6325055464891034], \"z\": [0, 0.713241967137843], \"opacity\": 0.3, \"mode\": \"lines\", \"showlegend\": false, \"line\": {\"color\": \"rgb(255, 105, 97)\"}}, {\"type\": \"scatter3d\", \"x\": [0, 0.26782915091684306], \"y\": [0, 0.6119788086009217], \"z\": [0, 0.7441434564266217], \"opacity\": 0.3, \"mode\": \"lines\", \"showlegend\": false, \"line\": {\"color\": \"rgb(255, 105, 97)\"}}, {\"type\": \"scatter3d\", \"x\": [0, 0.23465879592327538], \"y\": [0, 0.5874255858581267], \"z\": [0, 0.7745104457494909], \"opacity\": 0.3, \"mode\": \"lines\", \"showlegend\": false, \"line\": {\"color\": \"rgb(255, 105, 97)\"}}, {\"type\": \"scatter3d\", \"x\": [0, 0.20244485923179512], \"y\": [0, 0.5585764068596328], \"z\": [0, 0.804368371251879], \"opacity\": 0.3, \"mode\": \"lines\", \"showlegend\": false, \"line\": {\"color\": \"rgb(255, 105, 97)\"}}, {\"type\": \"scatter3d\", \"x\": [0, 0.17112930593895137], \"y\": [0, 0.5249784658194616], \"z\": [0, 0.8337339929945865], \"opacity\": 0.3, \"mode\": \"lines\", \"showlegend\": false, \"line\": {\"color\": \"rgb(255, 105, 97)\"}}, {\"type\": \"scatter3d\", \"x\": [0, 0.14066596997493896], \"y\": [0, 0.4859040401236884], \"z\": [0, 0.8626183099624576], \"opacity\": 0.3, \"mode\": \"lines\", \"showlegend\": false, \"line\": {\"color\": \"rgb(255, 105, 97)\"}}, {\"type\": \"scatter3d\", \"x\": [0, 0.11101719180227688], \"y\": [0, 0.44016294074678747], \"z\": [0, 0.8910284892849816], \"opacity\": 0.3, \"mode\": \"lines\", \"showlegend\": false, \"line\": {\"color\": \"rgb(255, 105, 97)\"}}, {\"type\": \"scatter3d\", \"x\": [0, 0.08215150261613617], \"y\": [0, 0.3856770502708983], \"z\": [0, 0.91896917440807], \"opacity\": 0.3, \"mode\": \"lines\", \"showlegend\": false, \"line\": {\"color\": \"rgb(255, 105, 97)\"}}, {\"type\": \"scatter3d\", \"x\": [0, 0.05404199413952211], \"y\": [0, 0.3183148995075905], \"z\": [0, 0.9464433884923581], \"opacity\": 0.3, \"mode\": \"lines\", \"showlegend\": false, \"line\": {\"color\": \"rgb(255, 105, 97)\"}}, {\"type\": \"scatter3d\", \"x\": [0, 0.02666515060823686], \"y\": [0, 0.2273277427840814], \"z\": [0, 0.9734531663638136], \"opacity\": 0.3, \"mode\": \"lines\", \"showlegend\": false, \"line\": {\"color\": \"rgb(255, 105, 97)\"}}, {\"type\": \"scatter3d\", \"x\": [0, 6.123233995736766e-17], \"y\": [0, 0.0], \"z\": [0, 1.0], \"opacity\": 0.3, \"mode\": \"lines\", \"showlegend\": false, \"line\": {\"color\": \"rgb(255, 105, 97)\"}}, {\"type\": \"scatter3d\", \"x\": [0, 6.123233995736766e-17], \"y\": [0, 0.0], \"z\": [0, 1.0], \"opacity\": 0.3, \"mode\": \"lines\", \"showlegend\": false, \"line\": {\"color\": \"rgb(255, 105, 97)\"}}, {\"type\": \"scatter3d\", \"x\": [0, 0.02666515060823686], \"y\": [0, -0.2273277427840814], \"z\": [0, 0.9734531663638136], \"opacity\": 0.3, \"mode\": \"lines\", \"showlegend\": false, \"line\": {\"color\": \"rgb(255, 105, 97)\"}}, {\"type\": \"scatter3d\", \"x\": [0, 0.05404199413952211], \"y\": [0, -0.3183148995075905], \"z\": [0, 0.9464433884923581], \"opacity\": 0.3, \"mode\": \"lines\", \"showlegend\": false, \"line\": {\"color\": \"rgb(255, 105, 97)\"}}, {\"type\": \"scatter3d\", \"x\": [0, 0.08215150261613617], \"y\": [0, -0.3856770502708983], \"z\": [0, 0.91896917440807], \"opacity\": 0.3, \"mode\": \"lines\", \"showlegend\": false, \"line\": {\"color\": \"rgb(255, 105, 97)\"}}, {\"type\": \"scatter3d\", \"x\": [0, 0.11101719180227688], \"y\": [0, -0.44016294074678747], \"z\": [0, 0.8910284892849816], \"opacity\": 0.3, \"mode\": \"lines\", \"showlegend\": false, \"line\": {\"color\": \"rgb(255, 105, 97)\"}}, {\"type\": \"scatter3d\", \"x\": [0, 0.14066596997493896], \"y\": [0, -0.4859040401236884], \"z\": [0, 0.8626183099624576], \"opacity\": 0.3, \"mode\": \"lines\", \"showlegend\": false, \"line\": {\"color\": \"rgb(255, 105, 97)\"}}, {\"type\": \"scatter3d\", \"x\": [0, 0.17112930593895137], \"y\": [0, -0.5249784658194616], \"z\": [0, 0.8337339929945865], \"opacity\": 0.3, \"mode\": \"lines\", \"showlegend\": false, \"line\": {\"color\": \"rgb(255, 105, 97)\"}}, {\"type\": \"scatter3d\", \"x\": [0, 0.20244485923179512], \"y\": [0, -0.5585764068596328], \"z\": [0, 0.804368371251879], \"opacity\": 0.3, \"mode\": \"lines\", \"showlegend\": false, \"line\": {\"color\": \"rgb(255, 105, 97)\"}}, {\"type\": \"scatter3d\", \"x\": [0, 0.23465879592327538], \"y\": [0, -0.5874255858581267], \"z\": [0, 0.7745104457494909], \"opacity\": 0.3, \"mode\": \"lines\", \"showlegend\": false, \"line\": {\"color\": \"rgb(255, 105, 97)\"}}, {\"type\": \"scatter3d\", \"x\": [0, 0.26782915091684306], \"y\": [0, -0.6119788086009217], \"z\": [0, 0.7441434564266217], \"opacity\": 0.3, \"mode\": \"lines\", \"showlegend\": false, \"line\": {\"color\": \"rgb(255, 105, 97)\"}}, {\"type\": \"scatter3d\", \"x\": [0, 0.30203084275262454], \"y\": [0, -0.6325055464891034], \"z\": [0, 0.713241967137843], \"opacity\": 0.3, \"mode\": \"lines\", \"showlegend\": false, \"line\": {\"color\": \"rgb(255, 105, 97)\"}}, {\"type\": \"scatter3d\", \"x\": [0, 0.33736340599337616], \"y\": [0, -0.6491373140406217], \"z\": [0, 0.6817673208776406], \"opacity\": 0.3, \"mode\": \"lines\", \"showlegend\": false, \"line\": {\"color\": \"rgb(255, 105, 97)\"}}, {\"type\": \"scatter3d\", \"x\": [0, 0.373963418767636], \"y\": [0, -0.6618858684897782], \"z\": [0, 0.6496602639204231], \"opacity\": 0.3, \"mode\": \"lines\", \"showlegend\": false, \"line\": {\"color\": \"rgb(255, 105, 97)\"}}, {\"type\": \"scatter3d\", \"x\": [0, 0.4120255532732981], \"y\": [0, -0.6706397994892592], \"z\": [0, 0.6168283414296386], \"opacity\": 0.3, \"mode\": \"lines\", \"showlegend\": false, \"line\": {\"color\": \"rgb(255, 105, 97)\"}}, {\"type\": \"scatter3d\", \"x\": [0, 0.45184074274778485], \"y\": [0, -0.6751353041938979], \"z\": [0, 0.5831228551721697], \"opacity\": 0.3, \"mode\": \"lines\", \"showlegend\": false, \"line\": {\"color\": \"rgb(255, 105, 97)\"}}, {\"type\": \"scatter3d\", \"x\": [0, 0.49387199253629566], \"y\": [0, -0.6748818678860573], \"z\": [0, 0.5482927314736679], \"opacity\": 0.3, \"mode\": \"lines\", \"showlegend\": false, \"line\": {\"color\": \"rgb(255, 105, 97)\"}}, {\"type\": \"scatter3d\", \"x\": [0, 0.5389256760760501], \"y\": [0, -0.6689831986946349], \"z\": [0, 0.5118794736363893], \"opacity\": 0.3, \"mode\": \"lines\", \"showlegend\": false, \"line\": {\"color\": \"rgb(255, 105, 97)\"}}, {\"type\": \"scatter3d\", \"x\": [0, 0.5886234908679698], \"y\": [0, -0.6556400590095318], \"z\": [0, 0.4729254687795768], \"opacity\": 0.3, \"mode\": \"lines\", \"showlegend\": false, \"line\": {\"color\": \"rgb(255, 105, 97)\"}}, {\"type\": \"scatter3d\", \"x\": [0, 0.6472690624415961], \"y\": [0, -0.6302095080290666], \"z\": [0, 0.42881084034308065], \"opacity\": 0.3, \"mode\": \"lines\", \"showlegend\": false, \"line\": {\"color\": \"rgb(255, 105, 97)\"}}, {\"type\": \"scatter3d\", \"x\": [0, 0.7615941559557649], \"y\": [0, -0.5453188678689158], \"z\": [0, 0.3501452183882998], \"opacity\": 0.3, \"mode\": \"lines\", \"showlegend\": false, \"line\": {\"color\": \"rgb(255, 105, 97)\"}}, {\"type\": \"scatter3d\", \"x\": [0, 0.7615941559557649], \"y\": [0, -0.5453188678689158], \"z\": [0, 0.3501452183882998], \"opacity\": 0.3, \"mode\": \"lines\", \"showlegend\": false, \"line\": {\"color\": \"rgb(255, 105, 97)\"}}, {\"type\": \"scatter3d\", \"x\": [0, 0.842409769927307], \"y\": [0, -0.4454907208605126], \"z\": [0, 0.30312340252478454], \"opacity\": 0.3, \"mode\": \"lines\", \"showlegend\": false, \"line\": {\"color\": \"rgb(255, 105, 97)\"}}, {\"type\": \"scatter3d\", \"x\": [0, 0.8678845541030237], \"y\": [0, -0.40289052989443996], \"z\": [0, 0.29061249400322264], \"opacity\": 0.3, \"mode\": \"lines\", \"showlegend\": false, \"line\": {\"color\": \"rgb(255, 105, 97)\"}}, {\"type\": \"scatter3d\", \"x\": [0, 0.8847796065353212], \"y\": [0, -0.37009727109049617], \"z\": [0, 0.283183788008018], \"opacity\": 0.3, \"mode\": \"lines\", \"showlegend\": false, \"line\": {\"color\": \"rgb(255, 105, 97)\"}}, {\"type\": \"scatter3d\", \"x\": [0, 0.8974254078443018], \"y\": [0, -0.34240739661216596], \"z\": [0, 0.2781812576374755], \"opacity\": 0.3, \"mode\": \"lines\", \"showlegend\": false, \"line\": {\"color\": \"rgb(255, 105, 97)\"}}, {\"type\": \"scatter3d\", \"x\": [0, 0.9074680790366705], \"y\": [0, -0.3179452791600336], \"z\": [0, 0.27461333723864095], \"opacity\": 0.3, \"mode\": \"lines\", \"showlegend\": false, \"line\": {\"color\": \"rgb(255, 105, 97)\"}}, {\"type\": \"scatter3d\", \"x\": [0, 0.9157360435411512], \"y\": [0, -0.2957178756613325], \"z\": [0, 0.2719897729216072], \"opacity\": 0.3, \"mode\": \"lines\", \"showlegend\": false, \"line\": {\"color\": \"rgb(255, 105, 97)\"}}, {\"type\": \"scatter3d\", \"x\": [0, 0.9227120515031718], \"y\": [0, -0.27511146045130175], \"z\": [0, 0.2700299137857873], \"opacity\": 0.3, \"mode\": \"lines\", \"showlegend\": false, \"line\": {\"color\": \"rgb(255, 105, 97)\"}}, {\"type\": \"scatter3d\", \"x\": [0, 0.9287045527947358], \"y\": [0, -0.2557042226711039], \"z\": [0, 0.2685576365075031], \"opacity\": 0.3, \"mode\": \"lines\", \"showlegend\": false, \"line\": {\"color\": \"rgb(255, 105, 97)\"}}, {\"type\": \"scatter3d\", \"x\": [0, 0.9339235923276625], \"y\": [0, -0.23718021259974997], \"z\": [0, 0.2674551746460168], \"opacity\": 0.3, \"mode\": \"lines\", \"showlegend\": false, \"line\": {\"color\": \"rgb(255, 105, 97)\"}}, {\"type\": \"scatter3d\", \"x\": [0, 0.938519067084852], \"y\": [0, -0.21928305007372434], \"z\": [0, 0.26664002825634353], \"opacity\": 0.3, \"mode\": \"lines\", \"showlegend\": false, \"line\": {\"color\": \"rgb(255, 105, 97)\"}}, {\"type\": \"scatter3d\", \"x\": [0, 0.9426018711879287], \"y\": [0, -0.2017867298913834], \"z\": [0, 0.26605230326527385], \"opacity\": 0.3, \"mode\": \"lines\", \"showlegend\": false, \"line\": {\"color\": \"rgb(255, 105, 97)\"}}, {\"type\": \"scatter3d\", \"x\": [0, 0.9462564212916691], \"y\": [0, -0.18447306516922912], \"z\": [0, 0.2656472725087773], \"opacity\": 0.3, \"mode\": \"lines\", \"showlegend\": false, \"line\": {\"color\": \"rgb(255, 105, 97)\"}}, {\"type\": \"scatter3d\", \"x\": [0, 0.9495484889945591], \"y\": [0, -0.16710897761317495], \"z\": [0, 0.2653907621776405], \"opacity\": 0.3, \"mode\": \"lines\", \"showlegend\": false, \"line\": {\"color\": \"rgb(255, 105, 97)\"}}, {\"type\": \"scatter3d\", \"x\": [0, 0.9525303168299666], \"y\": [0, -0.14941607430484086], \"z\": [0, 0.26525616347058506], \"opacity\": 0.3, \"mode\": \"lines\", \"showlegend\": false, \"line\": {\"color\": \"rgb(255, 105, 97)\"}}, {\"type\": \"scatter3d\", \"x\": [0, 0.9552440820135759], \"y\": [0, -0.13101835082635102], \"z\": [0, 0.26522242651175604], \"opacity\": 0.3, \"mode\": \"lines\", \"showlegend\": false, \"line\": {\"color\": \"rgb(255, 105, 97)\"}}, {\"type\": \"scatter3d\", \"x\": [0, 0.9577243131442403], \"y\": [0, -0.11133080933588038], \"z\": [0, 0.26527267274450045], \"opacity\": 0.3, \"mode\": \"lines\", \"showlegend\": false, \"line\": {\"color\": \"rgb(255, 105, 97)\"}}, {\"type\": \"scatter3d\", \"x\": [0, 0.9599996200617662], \"y\": [0, -0.08925902396586932], \"z\": [0, 0.26539321039153396], \"opacity\": 0.3, \"mode\": \"lines\", \"showlegend\": false, \"line\": {\"color\": \"rgb(255, 105, 97)\"}}, {\"type\": \"scatter3d\", \"x\": [0, 0.9620939596589054], \"y\": [0, -0.06201846365137433], \"z\": [0, 0.2655728204356982], \"opacity\": 0.3, \"mode\": \"lines\", \"showlegend\": false, \"line\": {\"color\": \"rgb(255, 105, 97)\"}}, {\"type\": \"scatter3d\", \"x\": [0, 0.9640275800758169], \"y\": [0, 0.0], \"z\": [0, 0.26580222883407967], \"opacity\": 0.3, \"mode\": \"lines\", \"showlegend\": false, \"line\": {\"color\": \"rgb(255, 105, 97)\"}}], {\"margin\": {\"l\": 0, \"r\": 0, \"b\": 0, \"t\": 0}, \"scene\": {\"xaxis\": {\"title\": \"Z\"}, \"yaxis\": {\"title\": \"Y\"}, \"zaxis\": {\"title\": \"X\"}}}, {\"showLink\": true, \"linkText\": \"Export to plot.ly\"})});</script>"
      ]
     },
     "metadata": {},
     "output_type": "display_data"
    },
    {
     "data": {
      "application/vnd.plotly.v1+json": {
       "data": [
        {
         "line": {
          "color": "rgb(0,33,71)",
          "width": 5
         },
         "mode": "lines",
         "showlegend": false,
         "type": "scatter3d",
         "x": [
          -1,
          1
         ],
         "y": [
          0,
          0
         ],
         "z": [
          0,
          0
         ]
        },
        {
         "opacity": 0.4,
         "showscale": false,
         "surfacecolor": [
          1,
          1
         ],
         "type": "surface",
         "x": [
          [
           -1,
           -1,
           -1,
           -1,
           -1,
           -1,
           -1,
           -1,
           -1,
           -1
          ],
          [
           1,
           1,
           1,
           1,
           1,
           1,
           1,
           1,
           1,
           1
          ]
         ],
         "y": [
          [
           0,
           0.342020143325669,
           0.6427876096865394,
           0.8660254037844386,
           0.984807753012208,
           0.984807753012208,
           0.8660254037844388,
           0.6427876096865395,
           0.342020143325669,
           0
          ],
          [
           0,
           0.342020143325669,
           0.6427876096865394,
           0.8660254037844386,
           0.984807753012208,
           0.984807753012208,
           0.8660254037844388,
           0.6427876096865395,
           0.342020143325669,
           0
          ]
         ],
         "z": [
          [
           -1,
           -0.9396926207859083,
           -0.766044443118978,
           -0.5,
           -0.17364817766693036,
           0.17364817766693036,
           0.49999999999999983,
           0.7660444431189779,
           0.9396926207859083,
           1
          ],
          [
           -1,
           -0.9396926207859083,
           -0.766044443118978,
           -0.5,
           -0.17364817766693036,
           0.17364817766693036,
           0.49999999999999983,
           0.7660444431189779,
           0.9396926207859083,
           1
          ]
         ]
        },
        {
         "opacity": 0.4,
         "showscale": false,
         "surfacecolor": [
          1,
          1
         ],
         "type": "surface",
         "x": [
          [
           -1,
           -1,
           -1,
           -1,
           -1,
           -1,
           -1,
           -1,
           -1,
           -1
          ],
          [
           1,
           1,
           1,
           1,
           1,
           1,
           1,
           1,
           1,
           1
          ]
         ],
         "y": [
          [
           0,
           -0.342020143325669,
           -0.6427876096865394,
           -0.8660254037844386,
           -0.984807753012208,
           -0.984807753012208,
           -0.8660254037844388,
           -0.6427876096865395,
           -0.342020143325669,
           0
          ],
          [
           0,
           -0.342020143325669,
           -0.6427876096865394,
           -0.8660254037844386,
           -0.984807753012208,
           -0.984807753012208,
           -0.8660254037844388,
           -0.6427876096865395,
           -0.342020143325669,
           0
          ]
         ],
         "z": [
          [
           -1,
           -0.9396926207859083,
           -0.766044443118978,
           -0.5,
           -0.17364817766693036,
           0.17364817766693036,
           0.49999999999999983,
           0.7660444431189779,
           0.9396926207859083,
           1
          ],
          [
           -1,
           -0.9396926207859083,
           -0.766044443118978,
           -0.5,
           -0.17364817766693036,
           0.17364817766693036,
           0.49999999999999983,
           0.7660444431189779,
           0.9396926207859083,
           1
          ]
         ]
        },
        {
         "line": {
          "color": "rgb(255, 105, 97)",
          "width": 7
         },
         "mode": "lines",
         "showlegend": false,
         "type": "scatter3d",
         "x": [
          0,
          0.9640275800758169
         ],
         "y": [
          0,
          0
         ],
         "z": [
          0,
          0.26580222883407967
         ]
        },
        {
         "line": {
          "color": "rgb(255, 105, 97)",
          "width": 5
         },
         "mode": "lines",
         "showlegend": false,
         "type": "scatter3d",
         "x": [
          0.9950547536867305,
          0.9947845036999212,
          0.9944912722970456,
          0.9941720903822324,
          0.9938234320845467,
          0.9934410701643702,
          0.9930198813721302,
          0.9925535793124237,
          0.992034339571617,
          0.9914522599173456,
          0.990794559106269,
          0.9900443440003788,
          0.9891786273775465,
          0.9881649627650428,
          0.9869553197895694,
          0.9854738576274494,
          0.983589132599711,
          0.9810369938526617,
          0.977113170879252,
          0.9640275800758169,
          0.9640275800758169,
          0.943673425068397,
          0.9322826131668793,
          0.9220650242523647,
          0.9123165160484319,
          0.9027732334471811,
          0.8933041985183782,
          0.883834208382364,
          0.8743160446888391,
          0.8647182486297708,
          0.8550189975197238,
          0.8452027405168184,
          0.8352582169685046,
          0.8251772237026725,
          0.814953813642801,
          0.8045837554417368,
          0.794064157666098,
          0.7833932003367508,
          0.7725699385819003,
          0.7615941559557649,
          0.7615941559557649,
          0.7725699385819003,
          0.7833932003367508,
          0.794064157666098,
          0.8045837554417368,
          0.814953813642801,
          0.8251772237026725,
          0.8352582169685046,
          0.8452027405168184,
          0.8550189975197238,
          0.8647182486297708,
          0.8743160446888391,
          0.883834208382364,
          0.8933041985183782,
          0.9027732334471811,
          0.9123165160484319,
          0.9220650242523647,
          0.9322826131668793,
          0.943673425068397,
          0.9640275800758169,
          0.9640275800758169,
          0.977113170879252,
          0.9810369938526617,
          0.983589132599711,
          0.9854738576274494,
          0.9869553197895694,
          0.9881649627650428,
          0.9891786273775465,
          0.9900443440003788,
          0.990794559106269,
          0.9914522599173456,
          0.992034339571617,
          0.9925535793124237,
          0.9930198813721302,
          0.9934410701643702,
          0.9938234320845467,
          0.9941720903822324,
          0.9944912722970456,
          0.9947845036999212,
          0.9950547536867305
         ],
         "y": [
          0,
          0.02319544488244468,
          0.03341441058194288,
          0.041718816889310825,
          0.049149981896807506,
          0.056118810307512236,
          0.0628467595523162,
          0.0694781797554271,
          0.07612216618868013,
          0.08287249308869014,
          0.08981959774713912,
          0.0970600400730552,
          0.10470652256183174,
          0.1129015336683196,
          0.12183967209701473,
          0.13180992627369423,
          0.14328889949929438,
          0.15719369843764297,
          0.17586907603524182,
          0.22366486326114687,
          0.22366486326114687,
          0.2735578766297145,
          0.29337335317161695,
          0.3073768524648365,
          0.31781886253099595,
          0.32551004158832497,
          0.3308054707857233,
          0.3338536555474743,
          0.3346844075198342,
          0.33324359065224257,
          0.32940450195549636,
          0.3229650394080669,
          0.3136318164616877,
          0.300986626468526,
          0.2844219572411942,
          0.2630118142628288,
          0.23522269313104688,
          0.198130656191756,
          0.14438847086496645,
          0,
          0,
          -0.14438847086496645,
          -0.198130656191756,
          -0.23522269313104688,
          -0.2630118142628288,
          -0.2844219572411942,
          -0.300986626468526,
          -0.3136318164616877,
          -0.3229650394080669,
          -0.32940450195549636,
          -0.33324359065224257,
          -0.3346844075198342,
          -0.3338536555474743,
          -0.3308054707857233,
          -0.32551004158832497,
          -0.31781886253099595,
          -0.3073768524648365,
          -0.29337335317161695,
          -0.2735578766297145,
          -0.22366486326114687,
          -0.22366486326114687,
          -0.17586907603524182,
          -0.15719369843764297,
          -0.14328889949929438,
          -0.13180992627369423,
          -0.12183967209701473,
          -0.1129015336683196,
          -0.10470652256183174,
          -0.0970600400730552,
          -0.08981959774713912,
          -0.08287249308869014,
          -0.07612216618868013,
          -0.0694781797554271,
          -0.0628467595523162,
          -0.056118810307512236,
          -0.049149981896807506,
          -0.041718816889310825,
          -0.03341441058194288,
          -0.02319544488244468,
          0
         ],
         "z": [
          0.09932792741943323,
          0.0993265449676309,
          0.099350825313456,
          0.09940520621365133,
          0.09949505072733958,
          0.09962690018433941,
          0.09980881731317065,
          0.10005086072577717,
          0.10036575574093345,
          0.10076986749050043,
          0.10128465582681326,
          0.10193893041363872,
          0.10277250251152609,
          0.10384242899173095,
          0.10523445748594332,
          0.10708603675828533,
          0.10963899631075222,
          0.11338676229625705,
          0.11966586559585024,
          0.1436135571439442,
          0.1436135571439442,
          0.18613585080129622,
          0.21161570082481218,
          0.23519260536695513,
          0.2582048511642551,
          0.2811471177097294,
          0.30426197496183116,
          0.32768708972235716,
          0.3515078965866365,
          0.3757806005847861,
          0.4005436155674162,
          0.42582380246177576,
          0.4516401163421344,
          0.47800585788193584,
          0.5049301257284449,
          0.5324187882085367,
          0.5604751539062259,
          0.5891004470743235,
          0.6182941528761496,
          0.6480542736638855,
          0.6480542736638855,
          0.6182941528761496,
          0.5891004470743235,
          0.5604751539062259,
          0.5324187882085367,
          0.5049301257284449,
          0.47800585788193584,
          0.4516401163421344,
          0.42582380246177576,
          0.4005436155674162,
          0.3757806005847861,
          0.3515078965866365,
          0.32768708972235716,
          0.30426197496183116,
          0.2811471177097294,
          0.2582048511642551,
          0.23519260536695513,
          0.21161570082481218,
          0.18613585080129622,
          0.1436135571439442,
          0.1436135571439442,
          0.11966586559585024,
          0.11338676229625705,
          0.10963899631075222,
          0.10708603675828533,
          0.10523445748594332,
          0.10384242899173095,
          0.10277250251152609,
          0.10193893041363872,
          0.10128465582681326,
          0.10076986749050043,
          0.10036575574093345,
          0.10005086072577717,
          0.09980881731317065,
          0.09962690018433941,
          0.09949505072733958,
          0.09940520621365133,
          0.099350825313456,
          0.0993265449676309,
          0.09932792741943323
         ]
        },
        {
         "line": {
          "color": "rgb(255, 105, 97)"
         },
         "mode": "lines",
         "opacity": 0.3,
         "showlegend": false,
         "type": "scatter3d",
         "x": [
          0,
          0.9950547536867305
         ],
         "y": [
          0,
          0
         ],
         "z": [
          0,
          0.09932792741943323
         ]
        },
        {
         "line": {
          "color": "rgb(255, 105, 97)"
         },
         "mode": "lines",
         "opacity": 0.3,
         "showlegend": false,
         "type": "scatter3d",
         "x": [
          0,
          0.9947845036999212
         ],
         "y": [
          0,
          0.02319544488244468
         ],
         "z": [
          0,
          0.0993265449676309
         ]
        },
        {
         "line": {
          "color": "rgb(255, 105, 97)"
         },
         "mode": "lines",
         "opacity": 0.3,
         "showlegend": false,
         "type": "scatter3d",
         "x": [
          0,
          0.9944912722970456
         ],
         "y": [
          0,
          0.03341441058194288
         ],
         "z": [
          0,
          0.099350825313456
         ]
        },
        {
         "line": {
          "color": "rgb(255, 105, 97)"
         },
         "mode": "lines",
         "opacity": 0.3,
         "showlegend": false,
         "type": "scatter3d",
         "x": [
          0,
          0.9941720903822324
         ],
         "y": [
          0,
          0.041718816889310825
         ],
         "z": [
          0,
          0.09940520621365133
         ]
        },
        {
         "line": {
          "color": "rgb(255, 105, 97)"
         },
         "mode": "lines",
         "opacity": 0.3,
         "showlegend": false,
         "type": "scatter3d",
         "x": [
          0,
          0.9938234320845467
         ],
         "y": [
          0,
          0.049149981896807506
         ],
         "z": [
          0,
          0.09949505072733958
         ]
        },
        {
         "line": {
          "color": "rgb(255, 105, 97)"
         },
         "mode": "lines",
         "opacity": 0.3,
         "showlegend": false,
         "type": "scatter3d",
         "x": [
          0,
          0.9934410701643702
         ],
         "y": [
          0,
          0.056118810307512236
         ],
         "z": [
          0,
          0.09962690018433941
         ]
        },
        {
         "line": {
          "color": "rgb(255, 105, 97)"
         },
         "mode": "lines",
         "opacity": 0.3,
         "showlegend": false,
         "type": "scatter3d",
         "x": [
          0,
          0.9930198813721302
         ],
         "y": [
          0,
          0.0628467595523162
         ],
         "z": [
          0,
          0.09980881731317065
         ]
        },
        {
         "line": {
          "color": "rgb(255, 105, 97)"
         },
         "mode": "lines",
         "opacity": 0.3,
         "showlegend": false,
         "type": "scatter3d",
         "x": [
          0,
          0.9925535793124237
         ],
         "y": [
          0,
          0.0694781797554271
         ],
         "z": [
          0,
          0.10005086072577717
         ]
        },
        {
         "line": {
          "color": "rgb(255, 105, 97)"
         },
         "mode": "lines",
         "opacity": 0.3,
         "showlegend": false,
         "type": "scatter3d",
         "x": [
          0,
          0.992034339571617
         ],
         "y": [
          0,
          0.07612216618868013
         ],
         "z": [
          0,
          0.10036575574093345
         ]
        },
        {
         "line": {
          "color": "rgb(255, 105, 97)"
         },
         "mode": "lines",
         "opacity": 0.3,
         "showlegend": false,
         "type": "scatter3d",
         "x": [
          0,
          0.9914522599173456
         ],
         "y": [
          0,
          0.08287249308869014
         ],
         "z": [
          0,
          0.10076986749050043
         ]
        },
        {
         "line": {
          "color": "rgb(255, 105, 97)"
         },
         "mode": "lines",
         "opacity": 0.3,
         "showlegend": false,
         "type": "scatter3d",
         "x": [
          0,
          0.990794559106269
         ],
         "y": [
          0,
          0.08981959774713912
         ],
         "z": [
          0,
          0.10128465582681326
         ]
        },
        {
         "line": {
          "color": "rgb(255, 105, 97)"
         },
         "mode": "lines",
         "opacity": 0.3,
         "showlegend": false,
         "type": "scatter3d",
         "x": [
          0,
          0.9900443440003788
         ],
         "y": [
          0,
          0.0970600400730552
         ],
         "z": [
          0,
          0.10193893041363872
         ]
        },
        {
         "line": {
          "color": "rgb(255, 105, 97)"
         },
         "mode": "lines",
         "opacity": 0.3,
         "showlegend": false,
         "type": "scatter3d",
         "x": [
          0,
          0.9891786273775465
         ],
         "y": [
          0,
          0.10470652256183174
         ],
         "z": [
          0,
          0.10277250251152609
         ]
        },
        {
         "line": {
          "color": "rgb(255, 105, 97)"
         },
         "mode": "lines",
         "opacity": 0.3,
         "showlegend": false,
         "type": "scatter3d",
         "x": [
          0,
          0.9881649627650428
         ],
         "y": [
          0,
          0.1129015336683196
         ],
         "z": [
          0,
          0.10384242899173095
         ]
        },
        {
         "line": {
          "color": "rgb(255, 105, 97)"
         },
         "mode": "lines",
         "opacity": 0.3,
         "showlegend": false,
         "type": "scatter3d",
         "x": [
          0,
          0.9869553197895694
         ],
         "y": [
          0,
          0.12183967209701473
         ],
         "z": [
          0,
          0.10523445748594332
         ]
        },
        {
         "line": {
          "color": "rgb(255, 105, 97)"
         },
         "mode": "lines",
         "opacity": 0.3,
         "showlegend": false,
         "type": "scatter3d",
         "x": [
          0,
          0.9854738576274494
         ],
         "y": [
          0,
          0.13180992627369423
         ],
         "z": [
          0,
          0.10708603675828533
         ]
        },
        {
         "line": {
          "color": "rgb(255, 105, 97)"
         },
         "mode": "lines",
         "opacity": 0.3,
         "showlegend": false,
         "type": "scatter3d",
         "x": [
          0,
          0.983589132599711
         ],
         "y": [
          0,
          0.14328889949929438
         ],
         "z": [
          0,
          0.10963899631075222
         ]
        },
        {
         "line": {
          "color": "rgb(255, 105, 97)"
         },
         "mode": "lines",
         "opacity": 0.3,
         "showlegend": false,
         "type": "scatter3d",
         "x": [
          0,
          0.9810369938526617
         ],
         "y": [
          0,
          0.15719369843764297
         ],
         "z": [
          0,
          0.11338676229625705
         ]
        },
        {
         "line": {
          "color": "rgb(255, 105, 97)"
         },
         "mode": "lines",
         "opacity": 0.3,
         "showlegend": false,
         "type": "scatter3d",
         "x": [
          0,
          0.977113170879252
         ],
         "y": [
          0,
          0.17586907603524182
         ],
         "z": [
          0,
          0.11966586559585024
         ]
        },
        {
         "line": {
          "color": "rgb(255, 105, 97)"
         },
         "mode": "lines",
         "opacity": 0.3,
         "showlegend": false,
         "type": "scatter3d",
         "x": [
          0,
          0.9640275800758169
         ],
         "y": [
          0,
          0.22366486326114687
         ],
         "z": [
          0,
          0.1436135571439442
         ]
        },
        {
         "line": {
          "color": "rgb(255, 105, 97)"
         },
         "mode": "lines",
         "opacity": 0.3,
         "showlegend": false,
         "type": "scatter3d",
         "x": [
          0,
          0.9640275800758169
         ],
         "y": [
          0,
          0.22366486326114687
         ],
         "z": [
          0,
          0.1436135571439442
         ]
        },
        {
         "line": {
          "color": "rgb(255, 105, 97)"
         },
         "mode": "lines",
         "opacity": 0.3,
         "showlegend": false,
         "type": "scatter3d",
         "x": [
          0,
          0.943673425068397
         ],
         "y": [
          0,
          0.2735578766297145
         ],
         "z": [
          0,
          0.18613585080129622
         ]
        },
        {
         "line": {
          "color": "rgb(255, 105, 97)"
         },
         "mode": "lines",
         "opacity": 0.3,
         "showlegend": false,
         "type": "scatter3d",
         "x": [
          0,
          0.9322826131668793
         ],
         "y": [
          0,
          0.29337335317161695
         ],
         "z": [
          0,
          0.21161570082481218
         ]
        },
        {
         "line": {
          "color": "rgb(255, 105, 97)"
         },
         "mode": "lines",
         "opacity": 0.3,
         "showlegend": false,
         "type": "scatter3d",
         "x": [
          0,
          0.9220650242523647
         ],
         "y": [
          0,
          0.3073768524648365
         ],
         "z": [
          0,
          0.23519260536695513
         ]
        },
        {
         "line": {
          "color": "rgb(255, 105, 97)"
         },
         "mode": "lines",
         "opacity": 0.3,
         "showlegend": false,
         "type": "scatter3d",
         "x": [
          0,
          0.9123165160484319
         ],
         "y": [
          0,
          0.31781886253099595
         ],
         "z": [
          0,
          0.2582048511642551
         ]
        },
        {
         "line": {
          "color": "rgb(255, 105, 97)"
         },
         "mode": "lines",
         "opacity": 0.3,
         "showlegend": false,
         "type": "scatter3d",
         "x": [
          0,
          0.9027732334471811
         ],
         "y": [
          0,
          0.32551004158832497
         ],
         "z": [
          0,
          0.2811471177097294
         ]
        },
        {
         "line": {
          "color": "rgb(255, 105, 97)"
         },
         "mode": "lines",
         "opacity": 0.3,
         "showlegend": false,
         "type": "scatter3d",
         "x": [
          0,
          0.8933041985183782
         ],
         "y": [
          0,
          0.3308054707857233
         ],
         "z": [
          0,
          0.30426197496183116
         ]
        },
        {
         "line": {
          "color": "rgb(255, 105, 97)"
         },
         "mode": "lines",
         "opacity": 0.3,
         "showlegend": false,
         "type": "scatter3d",
         "x": [
          0,
          0.883834208382364
         ],
         "y": [
          0,
          0.3338536555474743
         ],
         "z": [
          0,
          0.32768708972235716
         ]
        },
        {
         "line": {
          "color": "rgb(255, 105, 97)"
         },
         "mode": "lines",
         "opacity": 0.3,
         "showlegend": false,
         "type": "scatter3d",
         "x": [
          0,
          0.8743160446888391
         ],
         "y": [
          0,
          0.3346844075198342
         ],
         "z": [
          0,
          0.3515078965866365
         ]
        },
        {
         "line": {
          "color": "rgb(255, 105, 97)"
         },
         "mode": "lines",
         "opacity": 0.3,
         "showlegend": false,
         "type": "scatter3d",
         "x": [
          0,
          0.8647182486297708
         ],
         "y": [
          0,
          0.33324359065224257
         ],
         "z": [
          0,
          0.3757806005847861
         ]
        },
        {
         "line": {
          "color": "rgb(255, 105, 97)"
         },
         "mode": "lines",
         "opacity": 0.3,
         "showlegend": false,
         "type": "scatter3d",
         "x": [
          0,
          0.8550189975197238
         ],
         "y": [
          0,
          0.32940450195549636
         ],
         "z": [
          0,
          0.4005436155674162
         ]
        },
        {
         "line": {
          "color": "rgb(255, 105, 97)"
         },
         "mode": "lines",
         "opacity": 0.3,
         "showlegend": false,
         "type": "scatter3d",
         "x": [
          0,
          0.8452027405168184
         ],
         "y": [
          0,
          0.3229650394080669
         ],
         "z": [
          0,
          0.42582380246177576
         ]
        },
        {
         "line": {
          "color": "rgb(255, 105, 97)"
         },
         "mode": "lines",
         "opacity": 0.3,
         "showlegend": false,
         "type": "scatter3d",
         "x": [
          0,
          0.8352582169685046
         ],
         "y": [
          0,
          0.3136318164616877
         ],
         "z": [
          0,
          0.4516401163421344
         ]
        },
        {
         "line": {
          "color": "rgb(255, 105, 97)"
         },
         "mode": "lines",
         "opacity": 0.3,
         "showlegend": false,
         "type": "scatter3d",
         "x": [
          0,
          0.8251772237026725
         ],
         "y": [
          0,
          0.300986626468526
         ],
         "z": [
          0,
          0.47800585788193584
         ]
        },
        {
         "line": {
          "color": "rgb(255, 105, 97)"
         },
         "mode": "lines",
         "opacity": 0.3,
         "showlegend": false,
         "type": "scatter3d",
         "x": [
          0,
          0.814953813642801
         ],
         "y": [
          0,
          0.2844219572411942
         ],
         "z": [
          0,
          0.5049301257284449
         ]
        },
        {
         "line": {
          "color": "rgb(255, 105, 97)"
         },
         "mode": "lines",
         "opacity": 0.3,
         "showlegend": false,
         "type": "scatter3d",
         "x": [
          0,
          0.8045837554417368
         ],
         "y": [
          0,
          0.2630118142628288
         ],
         "z": [
          0,
          0.5324187882085367
         ]
        },
        {
         "line": {
          "color": "rgb(255, 105, 97)"
         },
         "mode": "lines",
         "opacity": 0.3,
         "showlegend": false,
         "type": "scatter3d",
         "x": [
          0,
          0.794064157666098
         ],
         "y": [
          0,
          0.23522269313104688
         ],
         "z": [
          0,
          0.5604751539062259
         ]
        },
        {
         "line": {
          "color": "rgb(255, 105, 97)"
         },
         "mode": "lines",
         "opacity": 0.3,
         "showlegend": false,
         "type": "scatter3d",
         "x": [
          0,
          0.7833932003367508
         ],
         "y": [
          0,
          0.198130656191756
         ],
         "z": [
          0,
          0.5891004470743235
         ]
        },
        {
         "line": {
          "color": "rgb(255, 105, 97)"
         },
         "mode": "lines",
         "opacity": 0.3,
         "showlegend": false,
         "type": "scatter3d",
         "x": [
          0,
          0.7725699385819003
         ],
         "y": [
          0,
          0.14438847086496645
         ],
         "z": [
          0,
          0.6182941528761496
         ]
        },
        {
         "line": {
          "color": "rgb(255, 105, 97)"
         },
         "mode": "lines",
         "opacity": 0.3,
         "showlegend": false,
         "type": "scatter3d",
         "x": [
          0,
          0.7615941559557649
         ],
         "y": [
          0,
          0
         ],
         "z": [
          0,
          0.6480542736638855
         ]
        },
        {
         "line": {
          "color": "rgb(255, 105, 97)"
         },
         "mode": "lines",
         "opacity": 0.3,
         "showlegend": false,
         "type": "scatter3d",
         "x": [
          0,
          0.7615941559557649
         ],
         "y": [
          0,
          0
         ],
         "z": [
          0,
          0.6480542736638855
         ]
        },
        {
         "line": {
          "color": "rgb(255, 105, 97)"
         },
         "mode": "lines",
         "opacity": 0.3,
         "showlegend": false,
         "type": "scatter3d",
         "x": [
          0,
          0.7725699385819003
         ],
         "y": [
          0,
          -0.14438847086496645
         ],
         "z": [
          0,
          0.6182941528761496
         ]
        },
        {
         "line": {
          "color": "rgb(255, 105, 97)"
         },
         "mode": "lines",
         "opacity": 0.3,
         "showlegend": false,
         "type": "scatter3d",
         "x": [
          0,
          0.7833932003367508
         ],
         "y": [
          0,
          -0.198130656191756
         ],
         "z": [
          0,
          0.5891004470743235
         ]
        },
        {
         "line": {
          "color": "rgb(255, 105, 97)"
         },
         "mode": "lines",
         "opacity": 0.3,
         "showlegend": false,
         "type": "scatter3d",
         "x": [
          0,
          0.794064157666098
         ],
         "y": [
          0,
          -0.23522269313104688
         ],
         "z": [
          0,
          0.5604751539062259
         ]
        },
        {
         "line": {
          "color": "rgb(255, 105, 97)"
         },
         "mode": "lines",
         "opacity": 0.3,
         "showlegend": false,
         "type": "scatter3d",
         "x": [
          0,
          0.8045837554417368
         ],
         "y": [
          0,
          -0.2630118142628288
         ],
         "z": [
          0,
          0.5324187882085367
         ]
        },
        {
         "line": {
          "color": "rgb(255, 105, 97)"
         },
         "mode": "lines",
         "opacity": 0.3,
         "showlegend": false,
         "type": "scatter3d",
         "x": [
          0,
          0.814953813642801
         ],
         "y": [
          0,
          -0.2844219572411942
         ],
         "z": [
          0,
          0.5049301257284449
         ]
        },
        {
         "line": {
          "color": "rgb(255, 105, 97)"
         },
         "mode": "lines",
         "opacity": 0.3,
         "showlegend": false,
         "type": "scatter3d",
         "x": [
          0,
          0.8251772237026725
         ],
         "y": [
          0,
          -0.300986626468526
         ],
         "z": [
          0,
          0.47800585788193584
         ]
        },
        {
         "line": {
          "color": "rgb(255, 105, 97)"
         },
         "mode": "lines",
         "opacity": 0.3,
         "showlegend": false,
         "type": "scatter3d",
         "x": [
          0,
          0.8352582169685046
         ],
         "y": [
          0,
          -0.3136318164616877
         ],
         "z": [
          0,
          0.4516401163421344
         ]
        },
        {
         "line": {
          "color": "rgb(255, 105, 97)"
         },
         "mode": "lines",
         "opacity": 0.3,
         "showlegend": false,
         "type": "scatter3d",
         "x": [
          0,
          0.8452027405168184
         ],
         "y": [
          0,
          -0.3229650394080669
         ],
         "z": [
          0,
          0.42582380246177576
         ]
        },
        {
         "line": {
          "color": "rgb(255, 105, 97)"
         },
         "mode": "lines",
         "opacity": 0.3,
         "showlegend": false,
         "type": "scatter3d",
         "x": [
          0,
          0.8550189975197238
         ],
         "y": [
          0,
          -0.32940450195549636
         ],
         "z": [
          0,
          0.4005436155674162
         ]
        },
        {
         "line": {
          "color": "rgb(255, 105, 97)"
         },
         "mode": "lines",
         "opacity": 0.3,
         "showlegend": false,
         "type": "scatter3d",
         "x": [
          0,
          0.8647182486297708
         ],
         "y": [
          0,
          -0.33324359065224257
         ],
         "z": [
          0,
          0.3757806005847861
         ]
        },
        {
         "line": {
          "color": "rgb(255, 105, 97)"
         },
         "mode": "lines",
         "opacity": 0.3,
         "showlegend": false,
         "type": "scatter3d",
         "x": [
          0,
          0.8743160446888391
         ],
         "y": [
          0,
          -0.3346844075198342
         ],
         "z": [
          0,
          0.3515078965866365
         ]
        },
        {
         "line": {
          "color": "rgb(255, 105, 97)"
         },
         "mode": "lines",
         "opacity": 0.3,
         "showlegend": false,
         "type": "scatter3d",
         "x": [
          0,
          0.883834208382364
         ],
         "y": [
          0,
          -0.3338536555474743
         ],
         "z": [
          0,
          0.32768708972235716
         ]
        },
        {
         "line": {
          "color": "rgb(255, 105, 97)"
         },
         "mode": "lines",
         "opacity": 0.3,
         "showlegend": false,
         "type": "scatter3d",
         "x": [
          0,
          0.8933041985183782
         ],
         "y": [
          0,
          -0.3308054707857233
         ],
         "z": [
          0,
          0.30426197496183116
         ]
        },
        {
         "line": {
          "color": "rgb(255, 105, 97)"
         },
         "mode": "lines",
         "opacity": 0.3,
         "showlegend": false,
         "type": "scatter3d",
         "x": [
          0,
          0.9027732334471811
         ],
         "y": [
          0,
          -0.32551004158832497
         ],
         "z": [
          0,
          0.2811471177097294
         ]
        },
        {
         "line": {
          "color": "rgb(255, 105, 97)"
         },
         "mode": "lines",
         "opacity": 0.3,
         "showlegend": false,
         "type": "scatter3d",
         "x": [
          0,
          0.9123165160484319
         ],
         "y": [
          0,
          -0.31781886253099595
         ],
         "z": [
          0,
          0.2582048511642551
         ]
        },
        {
         "line": {
          "color": "rgb(255, 105, 97)"
         },
         "mode": "lines",
         "opacity": 0.3,
         "showlegend": false,
         "type": "scatter3d",
         "x": [
          0,
          0.9220650242523647
         ],
         "y": [
          0,
          -0.3073768524648365
         ],
         "z": [
          0,
          0.23519260536695513
         ]
        },
        {
         "line": {
          "color": "rgb(255, 105, 97)"
         },
         "mode": "lines",
         "opacity": 0.3,
         "showlegend": false,
         "type": "scatter3d",
         "x": [
          0,
          0.9322826131668793
         ],
         "y": [
          0,
          -0.29337335317161695
         ],
         "z": [
          0,
          0.21161570082481218
         ]
        },
        {
         "line": {
          "color": "rgb(255, 105, 97)"
         },
         "mode": "lines",
         "opacity": 0.3,
         "showlegend": false,
         "type": "scatter3d",
         "x": [
          0,
          0.943673425068397
         ],
         "y": [
          0,
          -0.2735578766297145
         ],
         "z": [
          0,
          0.18613585080129622
         ]
        },
        {
         "line": {
          "color": "rgb(255, 105, 97)"
         },
         "mode": "lines",
         "opacity": 0.3,
         "showlegend": false,
         "type": "scatter3d",
         "x": [
          0,
          0.9640275800758169
         ],
         "y": [
          0,
          -0.22366486326114687
         ],
         "z": [
          0,
          0.1436135571439442
         ]
        },
        {
         "line": {
          "color": "rgb(255, 105, 97)"
         },
         "mode": "lines",
         "opacity": 0.3,
         "showlegend": false,
         "type": "scatter3d",
         "x": [
          0,
          0.9640275800758169
         ],
         "y": [
          0,
          -0.22366486326114687
         ],
         "z": [
          0,
          0.1436135571439442
         ]
        },
        {
         "line": {
          "color": "rgb(255, 105, 97)"
         },
         "mode": "lines",
         "opacity": 0.3,
         "showlegend": false,
         "type": "scatter3d",
         "x": [
          0,
          0.977113170879252
         ],
         "y": [
          0,
          -0.17586907603524182
         ],
         "z": [
          0,
          0.11966586559585024
         ]
        },
        {
         "line": {
          "color": "rgb(255, 105, 97)"
         },
         "mode": "lines",
         "opacity": 0.3,
         "showlegend": false,
         "type": "scatter3d",
         "x": [
          0,
          0.9810369938526617
         ],
         "y": [
          0,
          -0.15719369843764297
         ],
         "z": [
          0,
          0.11338676229625705
         ]
        },
        {
         "line": {
          "color": "rgb(255, 105, 97)"
         },
         "mode": "lines",
         "opacity": 0.3,
         "showlegend": false,
         "type": "scatter3d",
         "x": [
          0,
          0.983589132599711
         ],
         "y": [
          0,
          -0.14328889949929438
         ],
         "z": [
          0,
          0.10963899631075222
         ]
        },
        {
         "line": {
          "color": "rgb(255, 105, 97)"
         },
         "mode": "lines",
         "opacity": 0.3,
         "showlegend": false,
         "type": "scatter3d",
         "x": [
          0,
          0.9854738576274494
         ],
         "y": [
          0,
          -0.13180992627369423
         ],
         "z": [
          0,
          0.10708603675828533
         ]
        },
        {
         "line": {
          "color": "rgb(255, 105, 97)"
         },
         "mode": "lines",
         "opacity": 0.3,
         "showlegend": false,
         "type": "scatter3d",
         "x": [
          0,
          0.9869553197895694
         ],
         "y": [
          0,
          -0.12183967209701473
         ],
         "z": [
          0,
          0.10523445748594332
         ]
        },
        {
         "line": {
          "color": "rgb(255, 105, 97)"
         },
         "mode": "lines",
         "opacity": 0.3,
         "showlegend": false,
         "type": "scatter3d",
         "x": [
          0,
          0.9881649627650428
         ],
         "y": [
          0,
          -0.1129015336683196
         ],
         "z": [
          0,
          0.10384242899173095
         ]
        },
        {
         "line": {
          "color": "rgb(255, 105, 97)"
         },
         "mode": "lines",
         "opacity": 0.3,
         "showlegend": false,
         "type": "scatter3d",
         "x": [
          0,
          0.9891786273775465
         ],
         "y": [
          0,
          -0.10470652256183174
         ],
         "z": [
          0,
          0.10277250251152609
         ]
        },
        {
         "line": {
          "color": "rgb(255, 105, 97)"
         },
         "mode": "lines",
         "opacity": 0.3,
         "showlegend": false,
         "type": "scatter3d",
         "x": [
          0,
          0.9900443440003788
         ],
         "y": [
          0,
          -0.0970600400730552
         ],
         "z": [
          0,
          0.10193893041363872
         ]
        },
        {
         "line": {
          "color": "rgb(255, 105, 97)"
         },
         "mode": "lines",
         "opacity": 0.3,
         "showlegend": false,
         "type": "scatter3d",
         "x": [
          0,
          0.990794559106269
         ],
         "y": [
          0,
          -0.08981959774713912
         ],
         "z": [
          0,
          0.10128465582681326
         ]
        },
        {
         "line": {
          "color": "rgb(255, 105, 97)"
         },
         "mode": "lines",
         "opacity": 0.3,
         "showlegend": false,
         "type": "scatter3d",
         "x": [
          0,
          0.9914522599173456
         ],
         "y": [
          0,
          -0.08287249308869014
         ],
         "z": [
          0,
          0.10076986749050043
         ]
        },
        {
         "line": {
          "color": "rgb(255, 105, 97)"
         },
         "mode": "lines",
         "opacity": 0.3,
         "showlegend": false,
         "type": "scatter3d",
         "x": [
          0,
          0.992034339571617
         ],
         "y": [
          0,
          -0.07612216618868013
         ],
         "z": [
          0,
          0.10036575574093345
         ]
        },
        {
         "line": {
          "color": "rgb(255, 105, 97)"
         },
         "mode": "lines",
         "opacity": 0.3,
         "showlegend": false,
         "type": "scatter3d",
         "x": [
          0,
          0.9925535793124237
         ],
         "y": [
          0,
          -0.0694781797554271
         ],
         "z": [
          0,
          0.10005086072577717
         ]
        },
        {
         "line": {
          "color": "rgb(255, 105, 97)"
         },
         "mode": "lines",
         "opacity": 0.3,
         "showlegend": false,
         "type": "scatter3d",
         "x": [
          0,
          0.9930198813721302
         ],
         "y": [
          0,
          -0.0628467595523162
         ],
         "z": [
          0,
          0.09980881731317065
         ]
        },
        {
         "line": {
          "color": "rgb(255, 105, 97)"
         },
         "mode": "lines",
         "opacity": 0.3,
         "showlegend": false,
         "type": "scatter3d",
         "x": [
          0,
          0.9934410701643702
         ],
         "y": [
          0,
          -0.056118810307512236
         ],
         "z": [
          0,
          0.09962690018433941
         ]
        },
        {
         "line": {
          "color": "rgb(255, 105, 97)"
         },
         "mode": "lines",
         "opacity": 0.3,
         "showlegend": false,
         "type": "scatter3d",
         "x": [
          0,
          0.9938234320845467
         ],
         "y": [
          0,
          -0.049149981896807506
         ],
         "z": [
          0,
          0.09949505072733958
         ]
        },
        {
         "line": {
          "color": "rgb(255, 105, 97)"
         },
         "mode": "lines",
         "opacity": 0.3,
         "showlegend": false,
         "type": "scatter3d",
         "x": [
          0,
          0.9941720903822324
         ],
         "y": [
          0,
          -0.041718816889310825
         ],
         "z": [
          0,
          0.09940520621365133
         ]
        },
        {
         "line": {
          "color": "rgb(255, 105, 97)"
         },
         "mode": "lines",
         "opacity": 0.3,
         "showlegend": false,
         "type": "scatter3d",
         "x": [
          0,
          0.9944912722970456
         ],
         "y": [
          0,
          -0.03341441058194288
         ],
         "z": [
          0,
          0.099350825313456
         ]
        },
        {
         "line": {
          "color": "rgb(255, 105, 97)"
         },
         "mode": "lines",
         "opacity": 0.3,
         "showlegend": false,
         "type": "scatter3d",
         "x": [
          0,
          0.9947845036999212
         ],
         "y": [
          0,
          -0.02319544488244468
         ],
         "z": [
          0,
          0.0993265449676309
         ]
        },
        {
         "line": {
          "color": "rgb(255, 105, 97)"
         },
         "mode": "lines",
         "opacity": 0.3,
         "showlegend": false,
         "type": "scatter3d",
         "x": [
          0,
          0.9950547536867305
         ],
         "y": [
          0,
          0
         ],
         "z": [
          0,
          0.09932792741943323
         ]
        }
       ],
       "layout": {
        "margin": {
         "b": 0,
         "l": 0,
         "r": 0,
         "t": 0
        },
        "scene": {
         "xaxis": {
          "title": "Z"
         },
         "yaxis": {
          "title": "Y"
         },
         "zaxis": {
          "title": "X"
         }
        }
       }
      },
      "text/html": [
       "<div id=\"4677617b-7af2-40eb-950a-a71ab985b3fc\" style=\"height: 525px; width: 100%;\" class=\"plotly-graph-div\"></div><script type=\"text/javascript\">require([\"plotly\"], function(Plotly) { window.PLOTLYENV=window.PLOTLYENV || {};window.PLOTLYENV.BASE_URL=\"https://plot.ly\";Plotly.newPlot(\"4677617b-7af2-40eb-950a-a71ab985b3fc\", [{\"type\": \"scatter3d\", \"x\": [-1.0, 1.0], \"y\": [0, 0], \"z\": [0, 0], \"mode\": \"lines\", \"showlegend\": false, \"line\": {\"color\": \"rgb(0,33,71)\", \"width\": 5}}, {\"type\": \"surface\", \"x\": [[-1.0, -1.0, -1.0, -1.0, -1.0, -1.0, -1.0, -1.0, -1.0, -1.0], [1.0, 1.0, 1.0, 1.0, 1.0, 1.0, 1.0, 1.0, 1.0, 1.0]], \"y\": [[0.0, 0.342020143325669, 0.6427876096865394, 0.8660254037844386, 0.984807753012208, 0.984807753012208, 0.8660254037844388, 0.6427876096865395, 0.342020143325669, 0.0], [0.0, 0.342020143325669, 0.6427876096865394, 0.8660254037844386, 0.984807753012208, 0.984807753012208, 0.8660254037844388, 0.6427876096865395, 0.342020143325669, 0.0]], \"z\": [[-1.0, -0.9396926207859083, -0.766044443118978, -0.5, -0.17364817766693036, 0.17364817766693036, 0.49999999999999983, 0.7660444431189779, 0.9396926207859083, 1.0], [-1.0, -0.9396926207859083, -0.766044443118978, -0.5, -0.17364817766693036, 0.17364817766693036, 0.49999999999999983, 0.7660444431189779, 0.9396926207859083, 1.0]], \"surfacecolor\": [1, 1], \"showscale\": false, \"opacity\": 0.4}, {\"type\": \"surface\", \"x\": [[-1.0, -1.0, -1.0, -1.0, -1.0, -1.0, -1.0, -1.0, -1.0, -1.0], [1.0, 1.0, 1.0, 1.0, 1.0, 1.0, 1.0, 1.0, 1.0, 1.0]], \"y\": [[-0.0, -0.342020143325669, -0.6427876096865394, -0.8660254037844386, -0.984807753012208, -0.984807753012208, -0.8660254037844388, -0.6427876096865395, -0.342020143325669, -0.0], [-0.0, -0.342020143325669, -0.6427876096865394, -0.8660254037844386, -0.984807753012208, -0.984807753012208, -0.8660254037844388, -0.6427876096865395, -0.342020143325669, -0.0]], \"z\": [[-1.0, -0.9396926207859083, -0.766044443118978, -0.5, -0.17364817766693036, 0.17364817766693036, 0.49999999999999983, 0.7660444431189779, 0.9396926207859083, 1.0], [-1.0, -0.9396926207859083, -0.766044443118978, -0.5, -0.17364817766693036, 0.17364817766693036, 0.49999999999999983, 0.7660444431189779, 0.9396926207859083, 1.0]], \"surfacecolor\": [1, 1], \"showscale\": false, \"opacity\": 0.4}, {\"type\": \"scatter3d\", \"x\": [0.0, 0.9640275800758169], \"y\": [0.0, 0.0], \"z\": [0.0, 0.26580222883407967], \"mode\": \"lines\", \"showlegend\": false, \"line\": {\"color\": \"rgb(255, 105, 97)\", \"width\": 7}}, {\"type\": \"scatter3d\", \"x\": [0.9950547536867305, 0.9947845036999212, 0.9944912722970456, 0.9941720903822324, 0.9938234320845467, 0.9934410701643702, 0.9930198813721302, 0.9925535793124237, 0.992034339571617, 0.9914522599173456, 0.990794559106269, 0.9900443440003788, 0.9891786273775465, 0.9881649627650428, 0.9869553197895694, 0.9854738576274494, 0.983589132599711, 0.9810369938526617, 0.977113170879252, 0.9640275800758169, 0.9640275800758169, 0.943673425068397, 0.9322826131668793, 0.9220650242523647, 0.9123165160484319, 0.9027732334471811, 0.8933041985183782, 0.883834208382364, 0.8743160446888391, 0.8647182486297708, 0.8550189975197238, 0.8452027405168184, 0.8352582169685046, 0.8251772237026725, 0.814953813642801, 0.8045837554417368, 0.794064157666098, 0.7833932003367508, 0.7725699385819003, 0.7615941559557649, 0.7615941559557649, 0.7725699385819003, 0.7833932003367508, 0.794064157666098, 0.8045837554417368, 0.814953813642801, 0.8251772237026725, 0.8352582169685046, 0.8452027405168184, 0.8550189975197238, 0.8647182486297708, 0.8743160446888391, 0.883834208382364, 0.8933041985183782, 0.9027732334471811, 0.9123165160484319, 0.9220650242523647, 0.9322826131668793, 0.943673425068397, 0.9640275800758169, 0.9640275800758169, 0.977113170879252, 0.9810369938526617, 0.983589132599711, 0.9854738576274494, 0.9869553197895694, 0.9881649627650428, 0.9891786273775465, 0.9900443440003788, 0.990794559106269, 0.9914522599173456, 0.992034339571617, 0.9925535793124237, 0.9930198813721302, 0.9934410701643702, 0.9938234320845467, 0.9941720903822324, 0.9944912722970456, 0.9947845036999212, 0.9950547536867305], \"y\": [0.0, 0.02319544488244468, 0.03341441058194288, 0.041718816889310825, 0.049149981896807506, 0.056118810307512236, 0.0628467595523162, 0.0694781797554271, 0.07612216618868013, 0.08287249308869014, 0.08981959774713912, 0.0970600400730552, 0.10470652256183174, 0.1129015336683196, 0.12183967209701473, 0.13180992627369423, 0.14328889949929438, 0.15719369843764297, 0.17586907603524182, 0.22366486326114687, 0.22366486326114687, 0.2735578766297145, 0.29337335317161695, 0.3073768524648365, 0.31781886253099595, 0.32551004158832497, 0.3308054707857233, 0.3338536555474743, 0.3346844075198342, 0.33324359065224257, 0.32940450195549636, 0.3229650394080669, 0.3136318164616877, 0.300986626468526, 0.2844219572411942, 0.2630118142628288, 0.23522269313104688, 0.198130656191756, 0.14438847086496645, 0.0, 0.0, -0.14438847086496645, -0.198130656191756, -0.23522269313104688, -0.2630118142628288, -0.2844219572411942, -0.300986626468526, -0.3136318164616877, -0.3229650394080669, -0.32940450195549636, -0.33324359065224257, -0.3346844075198342, -0.3338536555474743, -0.3308054707857233, -0.32551004158832497, -0.31781886253099595, -0.3073768524648365, -0.29337335317161695, -0.2735578766297145, -0.22366486326114687, -0.22366486326114687, -0.17586907603524182, -0.15719369843764297, -0.14328889949929438, -0.13180992627369423, -0.12183967209701473, -0.1129015336683196, -0.10470652256183174, -0.0970600400730552, -0.08981959774713912, -0.08287249308869014, -0.07612216618868013, -0.0694781797554271, -0.0628467595523162, -0.056118810307512236, -0.049149981896807506, -0.041718816889310825, -0.03341441058194288, -0.02319544488244468, 0.0], \"z\": [0.09932792741943323, 0.0993265449676309, 0.099350825313456, 0.09940520621365133, 0.09949505072733958, 0.09962690018433941, 0.09980881731317065, 0.10005086072577717, 0.10036575574093345, 0.10076986749050043, 0.10128465582681326, 0.10193893041363872, 0.10277250251152609, 0.10384242899173095, 0.10523445748594332, 0.10708603675828533, 0.10963899631075222, 0.11338676229625705, 0.11966586559585024, 0.1436135571439442, 0.1436135571439442, 0.18613585080129622, 0.21161570082481218, 0.23519260536695513, 0.2582048511642551, 0.2811471177097294, 0.30426197496183116, 0.32768708972235716, 0.3515078965866365, 0.3757806005847861, 0.4005436155674162, 0.42582380246177576, 0.4516401163421344, 0.47800585788193584, 0.5049301257284449, 0.5324187882085367, 0.5604751539062259, 0.5891004470743235, 0.6182941528761496, 0.6480542736638855, 0.6480542736638855, 0.6182941528761496, 0.5891004470743235, 0.5604751539062259, 0.5324187882085367, 0.5049301257284449, 0.47800585788193584, 0.4516401163421344, 0.42582380246177576, 0.4005436155674162, 0.3757806005847861, 0.3515078965866365, 0.32768708972235716, 0.30426197496183116, 0.2811471177097294, 0.2582048511642551, 0.23519260536695513, 0.21161570082481218, 0.18613585080129622, 0.1436135571439442, 0.1436135571439442, 0.11966586559585024, 0.11338676229625705, 0.10963899631075222, 0.10708603675828533, 0.10523445748594332, 0.10384242899173095, 0.10277250251152609, 0.10193893041363872, 0.10128465582681326, 0.10076986749050043, 0.10036575574093345, 0.10005086072577717, 0.09980881731317065, 0.09962690018433941, 0.09949505072733958, 0.09940520621365133, 0.099350825313456, 0.0993265449676309, 0.09932792741943323], \"mode\": \"lines\", \"showlegend\": false, \"line\": {\"color\": \"rgb(255, 105, 97)\", \"width\": 5}}, {\"type\": \"scatter3d\", \"x\": [0, 0.9950547536867305], \"y\": [0, 0.0], \"z\": [0, 0.09932792741943323], \"opacity\": 0.3, \"mode\": \"lines\", \"showlegend\": false, \"line\": {\"color\": \"rgb(255, 105, 97)\"}}, {\"type\": \"scatter3d\", \"x\": [0, 0.9947845036999212], \"y\": [0, 0.02319544488244468], \"z\": [0, 0.0993265449676309], \"opacity\": 0.3, \"mode\": \"lines\", \"showlegend\": false, \"line\": {\"color\": \"rgb(255, 105, 97)\"}}, {\"type\": \"scatter3d\", \"x\": [0, 0.9944912722970456], \"y\": [0, 0.03341441058194288], \"z\": [0, 0.099350825313456], \"opacity\": 0.3, \"mode\": \"lines\", \"showlegend\": false, \"line\": {\"color\": \"rgb(255, 105, 97)\"}}, {\"type\": \"scatter3d\", \"x\": [0, 0.9941720903822324], \"y\": [0, 0.041718816889310825], \"z\": [0, 0.09940520621365133], \"opacity\": 0.3, \"mode\": \"lines\", \"showlegend\": false, \"line\": {\"color\": \"rgb(255, 105, 97)\"}}, {\"type\": \"scatter3d\", \"x\": [0, 0.9938234320845467], \"y\": [0, 0.049149981896807506], \"z\": [0, 0.09949505072733958], \"opacity\": 0.3, \"mode\": \"lines\", \"showlegend\": false, \"line\": {\"color\": \"rgb(255, 105, 97)\"}}, {\"type\": \"scatter3d\", \"x\": [0, 0.9934410701643702], \"y\": [0, 0.056118810307512236], \"z\": [0, 0.09962690018433941], \"opacity\": 0.3, \"mode\": \"lines\", \"showlegend\": false, \"line\": {\"color\": \"rgb(255, 105, 97)\"}}, {\"type\": \"scatter3d\", \"x\": [0, 0.9930198813721302], \"y\": [0, 0.0628467595523162], \"z\": [0, 0.09980881731317065], \"opacity\": 0.3, \"mode\": \"lines\", \"showlegend\": false, \"line\": {\"color\": \"rgb(255, 105, 97)\"}}, {\"type\": \"scatter3d\", \"x\": [0, 0.9925535793124237], \"y\": [0, 0.0694781797554271], \"z\": [0, 0.10005086072577717], \"opacity\": 0.3, \"mode\": \"lines\", \"showlegend\": false, \"line\": {\"color\": \"rgb(255, 105, 97)\"}}, {\"type\": \"scatter3d\", \"x\": [0, 0.992034339571617], \"y\": [0, 0.07612216618868013], \"z\": [0, 0.10036575574093345], \"opacity\": 0.3, \"mode\": \"lines\", \"showlegend\": false, \"line\": {\"color\": \"rgb(255, 105, 97)\"}}, {\"type\": \"scatter3d\", \"x\": [0, 0.9914522599173456], \"y\": [0, 0.08287249308869014], \"z\": [0, 0.10076986749050043], \"opacity\": 0.3, \"mode\": \"lines\", \"showlegend\": false, \"line\": {\"color\": \"rgb(255, 105, 97)\"}}, {\"type\": \"scatter3d\", \"x\": [0, 0.990794559106269], \"y\": [0, 0.08981959774713912], \"z\": [0, 0.10128465582681326], \"opacity\": 0.3, \"mode\": \"lines\", \"showlegend\": false, \"line\": {\"color\": \"rgb(255, 105, 97)\"}}, {\"type\": \"scatter3d\", \"x\": [0, 0.9900443440003788], \"y\": [0, 0.0970600400730552], \"z\": [0, 0.10193893041363872], \"opacity\": 0.3, \"mode\": \"lines\", \"showlegend\": false, \"line\": {\"color\": \"rgb(255, 105, 97)\"}}, {\"type\": \"scatter3d\", \"x\": [0, 0.9891786273775465], \"y\": [0, 0.10470652256183174], \"z\": [0, 0.10277250251152609], \"opacity\": 0.3, \"mode\": \"lines\", \"showlegend\": false, \"line\": {\"color\": \"rgb(255, 105, 97)\"}}, {\"type\": \"scatter3d\", \"x\": [0, 0.9881649627650428], \"y\": [0, 0.1129015336683196], \"z\": [0, 0.10384242899173095], \"opacity\": 0.3, \"mode\": \"lines\", \"showlegend\": false, \"line\": {\"color\": \"rgb(255, 105, 97)\"}}, {\"type\": \"scatter3d\", \"x\": [0, 0.9869553197895694], \"y\": [0, 0.12183967209701473], \"z\": [0, 0.10523445748594332], \"opacity\": 0.3, \"mode\": \"lines\", \"showlegend\": false, \"line\": {\"color\": \"rgb(255, 105, 97)\"}}, {\"type\": \"scatter3d\", \"x\": [0, 0.9854738576274494], \"y\": [0, 0.13180992627369423], \"z\": [0, 0.10708603675828533], \"opacity\": 0.3, \"mode\": \"lines\", \"showlegend\": false, \"line\": {\"color\": \"rgb(255, 105, 97)\"}}, {\"type\": \"scatter3d\", \"x\": [0, 0.983589132599711], \"y\": [0, 0.14328889949929438], \"z\": [0, 0.10963899631075222], \"opacity\": 0.3, \"mode\": \"lines\", \"showlegend\": false, \"line\": {\"color\": \"rgb(255, 105, 97)\"}}, {\"type\": \"scatter3d\", \"x\": [0, 0.9810369938526617], \"y\": [0, 0.15719369843764297], \"z\": [0, 0.11338676229625705], \"opacity\": 0.3, \"mode\": \"lines\", \"showlegend\": false, \"line\": {\"color\": \"rgb(255, 105, 97)\"}}, {\"type\": \"scatter3d\", \"x\": [0, 0.977113170879252], \"y\": [0, 0.17586907603524182], \"z\": [0, 0.11966586559585024], \"opacity\": 0.3, \"mode\": \"lines\", \"showlegend\": false, \"line\": {\"color\": \"rgb(255, 105, 97)\"}}, {\"type\": \"scatter3d\", \"x\": [0, 0.9640275800758169], \"y\": [0, 0.22366486326114687], \"z\": [0, 0.1436135571439442], \"opacity\": 0.3, \"mode\": \"lines\", \"showlegend\": false, \"line\": {\"color\": \"rgb(255, 105, 97)\"}}, {\"type\": \"scatter3d\", \"x\": [0, 0.9640275800758169], \"y\": [0, 0.22366486326114687], \"z\": [0, 0.1436135571439442], \"opacity\": 0.3, \"mode\": \"lines\", \"showlegend\": false, \"line\": {\"color\": \"rgb(255, 105, 97)\"}}, {\"type\": \"scatter3d\", \"x\": [0, 0.943673425068397], \"y\": [0, 0.2735578766297145], \"z\": [0, 0.18613585080129622], \"opacity\": 0.3, \"mode\": \"lines\", \"showlegend\": false, \"line\": {\"color\": \"rgb(255, 105, 97)\"}}, {\"type\": \"scatter3d\", \"x\": [0, 0.9322826131668793], \"y\": [0, 0.29337335317161695], \"z\": [0, 0.21161570082481218], \"opacity\": 0.3, \"mode\": \"lines\", \"showlegend\": false, \"line\": {\"color\": \"rgb(255, 105, 97)\"}}, {\"type\": \"scatter3d\", \"x\": [0, 0.9220650242523647], \"y\": [0, 0.3073768524648365], \"z\": [0, 0.23519260536695513], \"opacity\": 0.3, \"mode\": \"lines\", \"showlegend\": false, \"line\": {\"color\": \"rgb(255, 105, 97)\"}}, {\"type\": \"scatter3d\", \"x\": [0, 0.9123165160484319], \"y\": [0, 0.31781886253099595], \"z\": [0, 0.2582048511642551], \"opacity\": 0.3, \"mode\": \"lines\", \"showlegend\": false, \"line\": {\"color\": \"rgb(255, 105, 97)\"}}, {\"type\": \"scatter3d\", \"x\": [0, 0.9027732334471811], \"y\": [0, 0.32551004158832497], \"z\": [0, 0.2811471177097294], \"opacity\": 0.3, \"mode\": \"lines\", \"showlegend\": false, \"line\": {\"color\": \"rgb(255, 105, 97)\"}}, {\"type\": \"scatter3d\", \"x\": [0, 0.8933041985183782], \"y\": [0, 0.3308054707857233], \"z\": [0, 0.30426197496183116], \"opacity\": 0.3, \"mode\": \"lines\", \"showlegend\": false, \"line\": {\"color\": \"rgb(255, 105, 97)\"}}, {\"type\": \"scatter3d\", \"x\": [0, 0.883834208382364], \"y\": [0, 0.3338536555474743], \"z\": [0, 0.32768708972235716], \"opacity\": 0.3, \"mode\": \"lines\", \"showlegend\": false, \"line\": {\"color\": \"rgb(255, 105, 97)\"}}, {\"type\": \"scatter3d\", \"x\": [0, 0.8743160446888391], \"y\": [0, 0.3346844075198342], \"z\": [0, 0.3515078965866365], \"opacity\": 0.3, \"mode\": \"lines\", \"showlegend\": false, \"line\": {\"color\": \"rgb(255, 105, 97)\"}}, {\"type\": \"scatter3d\", \"x\": [0, 0.8647182486297708], \"y\": [0, 0.33324359065224257], \"z\": [0, 0.3757806005847861], \"opacity\": 0.3, \"mode\": \"lines\", \"showlegend\": false, \"line\": {\"color\": \"rgb(255, 105, 97)\"}}, {\"type\": \"scatter3d\", \"x\": [0, 0.8550189975197238], \"y\": [0, 0.32940450195549636], \"z\": [0, 0.4005436155674162], \"opacity\": 0.3, \"mode\": \"lines\", \"showlegend\": false, \"line\": {\"color\": \"rgb(255, 105, 97)\"}}, {\"type\": \"scatter3d\", \"x\": [0, 0.8452027405168184], \"y\": [0, 0.3229650394080669], \"z\": [0, 0.42582380246177576], \"opacity\": 0.3, \"mode\": \"lines\", \"showlegend\": false, \"line\": {\"color\": \"rgb(255, 105, 97)\"}}, {\"type\": \"scatter3d\", \"x\": [0, 0.8352582169685046], \"y\": [0, 0.3136318164616877], \"z\": [0, 0.4516401163421344], \"opacity\": 0.3, \"mode\": \"lines\", \"showlegend\": false, \"line\": {\"color\": \"rgb(255, 105, 97)\"}}, {\"type\": \"scatter3d\", \"x\": [0, 0.8251772237026725], \"y\": [0, 0.300986626468526], \"z\": [0, 0.47800585788193584], \"opacity\": 0.3, \"mode\": \"lines\", \"showlegend\": false, \"line\": {\"color\": \"rgb(255, 105, 97)\"}}, {\"type\": \"scatter3d\", \"x\": [0, 0.814953813642801], \"y\": [0, 0.2844219572411942], \"z\": [0, 0.5049301257284449], \"opacity\": 0.3, \"mode\": \"lines\", \"showlegend\": false, \"line\": {\"color\": \"rgb(255, 105, 97)\"}}, {\"type\": \"scatter3d\", \"x\": [0, 0.8045837554417368], \"y\": [0, 0.2630118142628288], \"z\": [0, 0.5324187882085367], \"opacity\": 0.3, \"mode\": \"lines\", \"showlegend\": false, \"line\": {\"color\": \"rgb(255, 105, 97)\"}}, {\"type\": \"scatter3d\", \"x\": [0, 0.794064157666098], \"y\": [0, 0.23522269313104688], \"z\": [0, 0.5604751539062259], \"opacity\": 0.3, \"mode\": \"lines\", \"showlegend\": false, \"line\": {\"color\": \"rgb(255, 105, 97)\"}}, {\"type\": \"scatter3d\", \"x\": [0, 0.7833932003367508], \"y\": [0, 0.198130656191756], \"z\": [0, 0.5891004470743235], \"opacity\": 0.3, \"mode\": \"lines\", \"showlegend\": false, \"line\": {\"color\": \"rgb(255, 105, 97)\"}}, {\"type\": \"scatter3d\", \"x\": [0, 0.7725699385819003], \"y\": [0, 0.14438847086496645], \"z\": [0, 0.6182941528761496], \"opacity\": 0.3, \"mode\": \"lines\", \"showlegend\": false, \"line\": {\"color\": \"rgb(255, 105, 97)\"}}, {\"type\": \"scatter3d\", \"x\": [0, 0.7615941559557649], \"y\": [0, 0.0], \"z\": [0, 0.6480542736638855], \"opacity\": 0.3, \"mode\": \"lines\", \"showlegend\": false, \"line\": {\"color\": \"rgb(255, 105, 97)\"}}, {\"type\": \"scatter3d\", \"x\": [0, 0.7615941559557649], \"y\": [0, 0.0], \"z\": [0, 0.6480542736638855], \"opacity\": 0.3, \"mode\": \"lines\", \"showlegend\": false, \"line\": {\"color\": \"rgb(255, 105, 97)\"}}, {\"type\": \"scatter3d\", \"x\": [0, 0.7725699385819003], \"y\": [0, -0.14438847086496645], \"z\": [0, 0.6182941528761496], \"opacity\": 0.3, \"mode\": \"lines\", \"showlegend\": false, \"line\": {\"color\": \"rgb(255, 105, 97)\"}}, {\"type\": \"scatter3d\", \"x\": [0, 0.7833932003367508], \"y\": [0, -0.198130656191756], \"z\": [0, 0.5891004470743235], \"opacity\": 0.3, \"mode\": \"lines\", \"showlegend\": false, \"line\": {\"color\": \"rgb(255, 105, 97)\"}}, {\"type\": \"scatter3d\", \"x\": [0, 0.794064157666098], \"y\": [0, -0.23522269313104688], \"z\": [0, 0.5604751539062259], \"opacity\": 0.3, \"mode\": \"lines\", \"showlegend\": false, \"line\": {\"color\": \"rgb(255, 105, 97)\"}}, {\"type\": \"scatter3d\", \"x\": [0, 0.8045837554417368], \"y\": [0, -0.2630118142628288], \"z\": [0, 0.5324187882085367], \"opacity\": 0.3, \"mode\": \"lines\", \"showlegend\": false, \"line\": {\"color\": \"rgb(255, 105, 97)\"}}, {\"type\": \"scatter3d\", \"x\": [0, 0.814953813642801], \"y\": [0, -0.2844219572411942], \"z\": [0, 0.5049301257284449], \"opacity\": 0.3, \"mode\": \"lines\", \"showlegend\": false, \"line\": {\"color\": \"rgb(255, 105, 97)\"}}, {\"type\": \"scatter3d\", \"x\": [0, 0.8251772237026725], \"y\": [0, -0.300986626468526], \"z\": [0, 0.47800585788193584], \"opacity\": 0.3, \"mode\": \"lines\", \"showlegend\": false, \"line\": {\"color\": \"rgb(255, 105, 97)\"}}, {\"type\": \"scatter3d\", \"x\": [0, 0.8352582169685046], \"y\": [0, -0.3136318164616877], \"z\": [0, 0.4516401163421344], \"opacity\": 0.3, \"mode\": \"lines\", \"showlegend\": false, \"line\": {\"color\": \"rgb(255, 105, 97)\"}}, {\"type\": \"scatter3d\", \"x\": [0, 0.8452027405168184], \"y\": [0, -0.3229650394080669], \"z\": [0, 0.42582380246177576], \"opacity\": 0.3, \"mode\": \"lines\", \"showlegend\": false, \"line\": {\"color\": \"rgb(255, 105, 97)\"}}, {\"type\": \"scatter3d\", \"x\": [0, 0.8550189975197238], \"y\": [0, -0.32940450195549636], \"z\": [0, 0.4005436155674162], \"opacity\": 0.3, \"mode\": \"lines\", \"showlegend\": false, \"line\": {\"color\": \"rgb(255, 105, 97)\"}}, {\"type\": \"scatter3d\", \"x\": [0, 0.8647182486297708], \"y\": [0, -0.33324359065224257], \"z\": [0, 0.3757806005847861], \"opacity\": 0.3, \"mode\": \"lines\", \"showlegend\": false, \"line\": {\"color\": \"rgb(255, 105, 97)\"}}, {\"type\": \"scatter3d\", \"x\": [0, 0.8743160446888391], \"y\": [0, -0.3346844075198342], \"z\": [0, 0.3515078965866365], \"opacity\": 0.3, \"mode\": \"lines\", \"showlegend\": false, \"line\": {\"color\": \"rgb(255, 105, 97)\"}}, {\"type\": \"scatter3d\", \"x\": [0, 0.883834208382364], \"y\": [0, -0.3338536555474743], \"z\": [0, 0.32768708972235716], \"opacity\": 0.3, \"mode\": \"lines\", \"showlegend\": false, \"line\": {\"color\": \"rgb(255, 105, 97)\"}}, {\"type\": \"scatter3d\", \"x\": [0, 0.8933041985183782], \"y\": [0, -0.3308054707857233], \"z\": [0, 0.30426197496183116], \"opacity\": 0.3, \"mode\": \"lines\", \"showlegend\": false, \"line\": {\"color\": \"rgb(255, 105, 97)\"}}, {\"type\": \"scatter3d\", \"x\": [0, 0.9027732334471811], \"y\": [0, -0.32551004158832497], \"z\": [0, 0.2811471177097294], \"opacity\": 0.3, \"mode\": \"lines\", \"showlegend\": false, \"line\": {\"color\": \"rgb(255, 105, 97)\"}}, {\"type\": \"scatter3d\", \"x\": [0, 0.9123165160484319], \"y\": [0, -0.31781886253099595], \"z\": [0, 0.2582048511642551], \"opacity\": 0.3, \"mode\": \"lines\", \"showlegend\": false, \"line\": {\"color\": \"rgb(255, 105, 97)\"}}, {\"type\": \"scatter3d\", \"x\": [0, 0.9220650242523647], \"y\": [0, -0.3073768524648365], \"z\": [0, 0.23519260536695513], \"opacity\": 0.3, \"mode\": \"lines\", \"showlegend\": false, \"line\": {\"color\": \"rgb(255, 105, 97)\"}}, {\"type\": \"scatter3d\", \"x\": [0, 0.9322826131668793], \"y\": [0, -0.29337335317161695], \"z\": [0, 0.21161570082481218], \"opacity\": 0.3, \"mode\": \"lines\", \"showlegend\": false, \"line\": {\"color\": \"rgb(255, 105, 97)\"}}, {\"type\": \"scatter3d\", \"x\": [0, 0.943673425068397], \"y\": [0, -0.2735578766297145], \"z\": [0, 0.18613585080129622], \"opacity\": 0.3, \"mode\": \"lines\", \"showlegend\": false, \"line\": {\"color\": \"rgb(255, 105, 97)\"}}, {\"type\": \"scatter3d\", \"x\": [0, 0.9640275800758169], \"y\": [0, -0.22366486326114687], \"z\": [0, 0.1436135571439442], \"opacity\": 0.3, \"mode\": \"lines\", \"showlegend\": false, \"line\": {\"color\": \"rgb(255, 105, 97)\"}}, {\"type\": \"scatter3d\", \"x\": [0, 0.9640275800758169], \"y\": [0, -0.22366486326114687], \"z\": [0, 0.1436135571439442], \"opacity\": 0.3, \"mode\": \"lines\", \"showlegend\": false, \"line\": {\"color\": \"rgb(255, 105, 97)\"}}, {\"type\": \"scatter3d\", \"x\": [0, 0.977113170879252], \"y\": [0, -0.17586907603524182], \"z\": [0, 0.11966586559585024], \"opacity\": 0.3, \"mode\": \"lines\", \"showlegend\": false, \"line\": {\"color\": \"rgb(255, 105, 97)\"}}, {\"type\": \"scatter3d\", \"x\": [0, 0.9810369938526617], \"y\": [0, -0.15719369843764297], \"z\": [0, 0.11338676229625705], \"opacity\": 0.3, \"mode\": \"lines\", \"showlegend\": false, \"line\": {\"color\": \"rgb(255, 105, 97)\"}}, {\"type\": \"scatter3d\", \"x\": [0, 0.983589132599711], \"y\": [0, -0.14328889949929438], \"z\": [0, 0.10963899631075222], \"opacity\": 0.3, \"mode\": \"lines\", \"showlegend\": false, \"line\": {\"color\": \"rgb(255, 105, 97)\"}}, {\"type\": \"scatter3d\", \"x\": [0, 0.9854738576274494], \"y\": [0, -0.13180992627369423], \"z\": [0, 0.10708603675828533], \"opacity\": 0.3, \"mode\": \"lines\", \"showlegend\": false, \"line\": {\"color\": \"rgb(255, 105, 97)\"}}, {\"type\": \"scatter3d\", \"x\": [0, 0.9869553197895694], \"y\": [0, -0.12183967209701473], \"z\": [0, 0.10523445748594332], \"opacity\": 0.3, \"mode\": \"lines\", \"showlegend\": false, \"line\": {\"color\": \"rgb(255, 105, 97)\"}}, {\"type\": \"scatter3d\", \"x\": [0, 0.9881649627650428], \"y\": [0, -0.1129015336683196], \"z\": [0, 0.10384242899173095], \"opacity\": 0.3, \"mode\": \"lines\", \"showlegend\": false, \"line\": {\"color\": \"rgb(255, 105, 97)\"}}, {\"type\": \"scatter3d\", \"x\": [0, 0.9891786273775465], \"y\": [0, -0.10470652256183174], \"z\": [0, 0.10277250251152609], \"opacity\": 0.3, \"mode\": \"lines\", \"showlegend\": false, \"line\": {\"color\": \"rgb(255, 105, 97)\"}}, {\"type\": \"scatter3d\", \"x\": [0, 0.9900443440003788], \"y\": [0, -0.0970600400730552], \"z\": [0, 0.10193893041363872], \"opacity\": 0.3, \"mode\": \"lines\", \"showlegend\": false, \"line\": {\"color\": \"rgb(255, 105, 97)\"}}, {\"type\": \"scatter3d\", \"x\": [0, 0.990794559106269], \"y\": [0, -0.08981959774713912], \"z\": [0, 0.10128465582681326], \"opacity\": 0.3, \"mode\": \"lines\", \"showlegend\": false, \"line\": {\"color\": \"rgb(255, 105, 97)\"}}, {\"type\": \"scatter3d\", \"x\": [0, 0.9914522599173456], \"y\": [0, -0.08287249308869014], \"z\": [0, 0.10076986749050043], \"opacity\": 0.3, \"mode\": \"lines\", \"showlegend\": false, \"line\": {\"color\": \"rgb(255, 105, 97)\"}}, {\"type\": \"scatter3d\", \"x\": [0, 0.992034339571617], \"y\": [0, -0.07612216618868013], \"z\": [0, 0.10036575574093345], \"opacity\": 0.3, \"mode\": \"lines\", \"showlegend\": false, \"line\": {\"color\": \"rgb(255, 105, 97)\"}}, {\"type\": \"scatter3d\", \"x\": [0, 0.9925535793124237], \"y\": [0, -0.0694781797554271], \"z\": [0, 0.10005086072577717], \"opacity\": 0.3, \"mode\": \"lines\", \"showlegend\": false, \"line\": {\"color\": \"rgb(255, 105, 97)\"}}, {\"type\": \"scatter3d\", \"x\": [0, 0.9930198813721302], \"y\": [0, -0.0628467595523162], \"z\": [0, 0.09980881731317065], \"opacity\": 0.3, \"mode\": \"lines\", \"showlegend\": false, \"line\": {\"color\": \"rgb(255, 105, 97)\"}}, {\"type\": \"scatter3d\", \"x\": [0, 0.9934410701643702], \"y\": [0, -0.056118810307512236], \"z\": [0, 0.09962690018433941], \"opacity\": 0.3, \"mode\": \"lines\", \"showlegend\": false, \"line\": {\"color\": \"rgb(255, 105, 97)\"}}, {\"type\": \"scatter3d\", \"x\": [0, 0.9938234320845467], \"y\": [0, -0.049149981896807506], \"z\": [0, 0.09949505072733958], \"opacity\": 0.3, \"mode\": \"lines\", \"showlegend\": false, \"line\": {\"color\": \"rgb(255, 105, 97)\"}}, {\"type\": \"scatter3d\", \"x\": [0, 0.9941720903822324], \"y\": [0, -0.041718816889310825], \"z\": [0, 0.09940520621365133], \"opacity\": 0.3, \"mode\": \"lines\", \"showlegend\": false, \"line\": {\"color\": \"rgb(255, 105, 97)\"}}, {\"type\": \"scatter3d\", \"x\": [0, 0.9944912722970456], \"y\": [0, -0.03341441058194288], \"z\": [0, 0.099350825313456], \"opacity\": 0.3, \"mode\": \"lines\", \"showlegend\": false, \"line\": {\"color\": \"rgb(255, 105, 97)\"}}, {\"type\": \"scatter3d\", \"x\": [0, 0.9947845036999212], \"y\": [0, -0.02319544488244468], \"z\": [0, 0.0993265449676309], \"opacity\": 0.3, \"mode\": \"lines\", \"showlegend\": false, \"line\": {\"color\": \"rgb(255, 105, 97)\"}}, {\"type\": \"scatter3d\", \"x\": [0, 0.9950547536867305], \"y\": [0, 0.0], \"z\": [0, 0.09932792741943323], \"opacity\": 0.3, \"mode\": \"lines\", \"showlegend\": false, \"line\": {\"color\": \"rgb(255, 105, 97)\"}}], {\"margin\": {\"l\": 0, \"r\": 0, \"b\": 0, \"t\": 0}, \"scene\": {\"xaxis\": {\"title\": \"Z\"}, \"yaxis\": {\"title\": \"Y\"}, \"zaxis\": {\"title\": \"X\"}}}, {\"showLink\": true, \"linkText\": \"Export to plot.ly\"})});</script>"
      ],
      "text/vnd.plotly.v1+html": [
       "<div id=\"4677617b-7af2-40eb-950a-a71ab985b3fc\" style=\"height: 525px; width: 100%;\" class=\"plotly-graph-div\"></div><script type=\"text/javascript\">require([\"plotly\"], function(Plotly) { window.PLOTLYENV=window.PLOTLYENV || {};window.PLOTLYENV.BASE_URL=\"https://plot.ly\";Plotly.newPlot(\"4677617b-7af2-40eb-950a-a71ab985b3fc\", [{\"type\": \"scatter3d\", \"x\": [-1.0, 1.0], \"y\": [0, 0], \"z\": [0, 0], \"mode\": \"lines\", \"showlegend\": false, \"line\": {\"color\": \"rgb(0,33,71)\", \"width\": 5}}, {\"type\": \"surface\", \"x\": [[-1.0, -1.0, -1.0, -1.0, -1.0, -1.0, -1.0, -1.0, -1.0, -1.0], [1.0, 1.0, 1.0, 1.0, 1.0, 1.0, 1.0, 1.0, 1.0, 1.0]], \"y\": [[0.0, 0.342020143325669, 0.6427876096865394, 0.8660254037844386, 0.984807753012208, 0.984807753012208, 0.8660254037844388, 0.6427876096865395, 0.342020143325669, 0.0], [0.0, 0.342020143325669, 0.6427876096865394, 0.8660254037844386, 0.984807753012208, 0.984807753012208, 0.8660254037844388, 0.6427876096865395, 0.342020143325669, 0.0]], \"z\": [[-1.0, -0.9396926207859083, -0.766044443118978, -0.5, -0.17364817766693036, 0.17364817766693036, 0.49999999999999983, 0.7660444431189779, 0.9396926207859083, 1.0], [-1.0, -0.9396926207859083, -0.766044443118978, -0.5, -0.17364817766693036, 0.17364817766693036, 0.49999999999999983, 0.7660444431189779, 0.9396926207859083, 1.0]], \"surfacecolor\": [1, 1], \"showscale\": false, \"opacity\": 0.4}, {\"type\": \"surface\", \"x\": [[-1.0, -1.0, -1.0, -1.0, -1.0, -1.0, -1.0, -1.0, -1.0, -1.0], [1.0, 1.0, 1.0, 1.0, 1.0, 1.0, 1.0, 1.0, 1.0, 1.0]], \"y\": [[-0.0, -0.342020143325669, -0.6427876096865394, -0.8660254037844386, -0.984807753012208, -0.984807753012208, -0.8660254037844388, -0.6427876096865395, -0.342020143325669, -0.0], [-0.0, -0.342020143325669, -0.6427876096865394, -0.8660254037844386, -0.984807753012208, -0.984807753012208, -0.8660254037844388, -0.6427876096865395, -0.342020143325669, -0.0]], \"z\": [[-1.0, -0.9396926207859083, -0.766044443118978, -0.5, -0.17364817766693036, 0.17364817766693036, 0.49999999999999983, 0.7660444431189779, 0.9396926207859083, 1.0], [-1.0, -0.9396926207859083, -0.766044443118978, -0.5, -0.17364817766693036, 0.17364817766693036, 0.49999999999999983, 0.7660444431189779, 0.9396926207859083, 1.0]], \"surfacecolor\": [1, 1], \"showscale\": false, \"opacity\": 0.4}, {\"type\": \"scatter3d\", \"x\": [0.0, 0.9640275800758169], \"y\": [0.0, 0.0], \"z\": [0.0, 0.26580222883407967], \"mode\": \"lines\", \"showlegend\": false, \"line\": {\"color\": \"rgb(255, 105, 97)\", \"width\": 7}}, {\"type\": \"scatter3d\", \"x\": [0.9950547536867305, 0.9947845036999212, 0.9944912722970456, 0.9941720903822324, 0.9938234320845467, 0.9934410701643702, 0.9930198813721302, 0.9925535793124237, 0.992034339571617, 0.9914522599173456, 0.990794559106269, 0.9900443440003788, 0.9891786273775465, 0.9881649627650428, 0.9869553197895694, 0.9854738576274494, 0.983589132599711, 0.9810369938526617, 0.977113170879252, 0.9640275800758169, 0.9640275800758169, 0.943673425068397, 0.9322826131668793, 0.9220650242523647, 0.9123165160484319, 0.9027732334471811, 0.8933041985183782, 0.883834208382364, 0.8743160446888391, 0.8647182486297708, 0.8550189975197238, 0.8452027405168184, 0.8352582169685046, 0.8251772237026725, 0.814953813642801, 0.8045837554417368, 0.794064157666098, 0.7833932003367508, 0.7725699385819003, 0.7615941559557649, 0.7615941559557649, 0.7725699385819003, 0.7833932003367508, 0.794064157666098, 0.8045837554417368, 0.814953813642801, 0.8251772237026725, 0.8352582169685046, 0.8452027405168184, 0.8550189975197238, 0.8647182486297708, 0.8743160446888391, 0.883834208382364, 0.8933041985183782, 0.9027732334471811, 0.9123165160484319, 0.9220650242523647, 0.9322826131668793, 0.943673425068397, 0.9640275800758169, 0.9640275800758169, 0.977113170879252, 0.9810369938526617, 0.983589132599711, 0.9854738576274494, 0.9869553197895694, 0.9881649627650428, 0.9891786273775465, 0.9900443440003788, 0.990794559106269, 0.9914522599173456, 0.992034339571617, 0.9925535793124237, 0.9930198813721302, 0.9934410701643702, 0.9938234320845467, 0.9941720903822324, 0.9944912722970456, 0.9947845036999212, 0.9950547536867305], \"y\": [0.0, 0.02319544488244468, 0.03341441058194288, 0.041718816889310825, 0.049149981896807506, 0.056118810307512236, 0.0628467595523162, 0.0694781797554271, 0.07612216618868013, 0.08287249308869014, 0.08981959774713912, 0.0970600400730552, 0.10470652256183174, 0.1129015336683196, 0.12183967209701473, 0.13180992627369423, 0.14328889949929438, 0.15719369843764297, 0.17586907603524182, 0.22366486326114687, 0.22366486326114687, 0.2735578766297145, 0.29337335317161695, 0.3073768524648365, 0.31781886253099595, 0.32551004158832497, 0.3308054707857233, 0.3338536555474743, 0.3346844075198342, 0.33324359065224257, 0.32940450195549636, 0.3229650394080669, 0.3136318164616877, 0.300986626468526, 0.2844219572411942, 0.2630118142628288, 0.23522269313104688, 0.198130656191756, 0.14438847086496645, 0.0, 0.0, -0.14438847086496645, -0.198130656191756, -0.23522269313104688, -0.2630118142628288, -0.2844219572411942, -0.300986626468526, -0.3136318164616877, -0.3229650394080669, -0.32940450195549636, -0.33324359065224257, -0.3346844075198342, -0.3338536555474743, -0.3308054707857233, -0.32551004158832497, -0.31781886253099595, -0.3073768524648365, -0.29337335317161695, -0.2735578766297145, -0.22366486326114687, -0.22366486326114687, -0.17586907603524182, -0.15719369843764297, -0.14328889949929438, -0.13180992627369423, -0.12183967209701473, -0.1129015336683196, -0.10470652256183174, -0.0970600400730552, -0.08981959774713912, -0.08287249308869014, -0.07612216618868013, -0.0694781797554271, -0.0628467595523162, -0.056118810307512236, -0.049149981896807506, -0.041718816889310825, -0.03341441058194288, -0.02319544488244468, 0.0], \"z\": [0.09932792741943323, 0.0993265449676309, 0.099350825313456, 0.09940520621365133, 0.09949505072733958, 0.09962690018433941, 0.09980881731317065, 0.10005086072577717, 0.10036575574093345, 0.10076986749050043, 0.10128465582681326, 0.10193893041363872, 0.10277250251152609, 0.10384242899173095, 0.10523445748594332, 0.10708603675828533, 0.10963899631075222, 0.11338676229625705, 0.11966586559585024, 0.1436135571439442, 0.1436135571439442, 0.18613585080129622, 0.21161570082481218, 0.23519260536695513, 0.2582048511642551, 0.2811471177097294, 0.30426197496183116, 0.32768708972235716, 0.3515078965866365, 0.3757806005847861, 0.4005436155674162, 0.42582380246177576, 0.4516401163421344, 0.47800585788193584, 0.5049301257284449, 0.5324187882085367, 0.5604751539062259, 0.5891004470743235, 0.6182941528761496, 0.6480542736638855, 0.6480542736638855, 0.6182941528761496, 0.5891004470743235, 0.5604751539062259, 0.5324187882085367, 0.5049301257284449, 0.47800585788193584, 0.4516401163421344, 0.42582380246177576, 0.4005436155674162, 0.3757806005847861, 0.3515078965866365, 0.32768708972235716, 0.30426197496183116, 0.2811471177097294, 0.2582048511642551, 0.23519260536695513, 0.21161570082481218, 0.18613585080129622, 0.1436135571439442, 0.1436135571439442, 0.11966586559585024, 0.11338676229625705, 0.10963899631075222, 0.10708603675828533, 0.10523445748594332, 0.10384242899173095, 0.10277250251152609, 0.10193893041363872, 0.10128465582681326, 0.10076986749050043, 0.10036575574093345, 0.10005086072577717, 0.09980881731317065, 0.09962690018433941, 0.09949505072733958, 0.09940520621365133, 0.099350825313456, 0.0993265449676309, 0.09932792741943323], \"mode\": \"lines\", \"showlegend\": false, \"line\": {\"color\": \"rgb(255, 105, 97)\", \"width\": 5}}, {\"type\": \"scatter3d\", \"x\": [0, 0.9950547536867305], \"y\": [0, 0.0], \"z\": [0, 0.09932792741943323], \"opacity\": 0.3, \"mode\": \"lines\", \"showlegend\": false, \"line\": {\"color\": \"rgb(255, 105, 97)\"}}, {\"type\": \"scatter3d\", \"x\": [0, 0.9947845036999212], \"y\": [0, 0.02319544488244468], \"z\": [0, 0.0993265449676309], \"opacity\": 0.3, \"mode\": \"lines\", \"showlegend\": false, \"line\": {\"color\": \"rgb(255, 105, 97)\"}}, {\"type\": \"scatter3d\", \"x\": [0, 0.9944912722970456], \"y\": [0, 0.03341441058194288], \"z\": [0, 0.099350825313456], \"opacity\": 0.3, \"mode\": \"lines\", \"showlegend\": false, \"line\": {\"color\": \"rgb(255, 105, 97)\"}}, {\"type\": \"scatter3d\", \"x\": [0, 0.9941720903822324], \"y\": [0, 0.041718816889310825], \"z\": [0, 0.09940520621365133], \"opacity\": 0.3, \"mode\": \"lines\", \"showlegend\": false, \"line\": {\"color\": \"rgb(255, 105, 97)\"}}, {\"type\": \"scatter3d\", \"x\": [0, 0.9938234320845467], \"y\": [0, 0.049149981896807506], \"z\": [0, 0.09949505072733958], \"opacity\": 0.3, \"mode\": \"lines\", \"showlegend\": false, \"line\": {\"color\": \"rgb(255, 105, 97)\"}}, {\"type\": \"scatter3d\", \"x\": [0, 0.9934410701643702], \"y\": [0, 0.056118810307512236], \"z\": [0, 0.09962690018433941], \"opacity\": 0.3, \"mode\": \"lines\", \"showlegend\": false, \"line\": {\"color\": \"rgb(255, 105, 97)\"}}, {\"type\": \"scatter3d\", \"x\": [0, 0.9930198813721302], \"y\": [0, 0.0628467595523162], \"z\": [0, 0.09980881731317065], \"opacity\": 0.3, \"mode\": \"lines\", \"showlegend\": false, \"line\": {\"color\": \"rgb(255, 105, 97)\"}}, {\"type\": \"scatter3d\", \"x\": [0, 0.9925535793124237], \"y\": [0, 0.0694781797554271], \"z\": [0, 0.10005086072577717], \"opacity\": 0.3, \"mode\": \"lines\", \"showlegend\": false, \"line\": {\"color\": \"rgb(255, 105, 97)\"}}, {\"type\": \"scatter3d\", \"x\": [0, 0.992034339571617], \"y\": [0, 0.07612216618868013], \"z\": [0, 0.10036575574093345], \"opacity\": 0.3, \"mode\": \"lines\", \"showlegend\": false, \"line\": {\"color\": \"rgb(255, 105, 97)\"}}, {\"type\": \"scatter3d\", \"x\": [0, 0.9914522599173456], \"y\": [0, 0.08287249308869014], \"z\": [0, 0.10076986749050043], \"opacity\": 0.3, \"mode\": \"lines\", \"showlegend\": false, \"line\": {\"color\": \"rgb(255, 105, 97)\"}}, {\"type\": \"scatter3d\", \"x\": [0, 0.990794559106269], \"y\": [0, 0.08981959774713912], \"z\": [0, 0.10128465582681326], \"opacity\": 0.3, \"mode\": \"lines\", \"showlegend\": false, \"line\": {\"color\": \"rgb(255, 105, 97)\"}}, {\"type\": \"scatter3d\", \"x\": [0, 0.9900443440003788], \"y\": [0, 0.0970600400730552], \"z\": [0, 0.10193893041363872], \"opacity\": 0.3, \"mode\": \"lines\", \"showlegend\": false, \"line\": {\"color\": \"rgb(255, 105, 97)\"}}, {\"type\": \"scatter3d\", \"x\": [0, 0.9891786273775465], \"y\": [0, 0.10470652256183174], \"z\": [0, 0.10277250251152609], \"opacity\": 0.3, \"mode\": \"lines\", \"showlegend\": false, \"line\": {\"color\": \"rgb(255, 105, 97)\"}}, {\"type\": \"scatter3d\", \"x\": [0, 0.9881649627650428], \"y\": [0, 0.1129015336683196], \"z\": [0, 0.10384242899173095], \"opacity\": 0.3, \"mode\": \"lines\", \"showlegend\": false, \"line\": {\"color\": \"rgb(255, 105, 97)\"}}, {\"type\": \"scatter3d\", \"x\": [0, 0.9869553197895694], \"y\": [0, 0.12183967209701473], \"z\": [0, 0.10523445748594332], \"opacity\": 0.3, \"mode\": \"lines\", \"showlegend\": false, \"line\": {\"color\": \"rgb(255, 105, 97)\"}}, {\"type\": \"scatter3d\", \"x\": [0, 0.9854738576274494], \"y\": [0, 0.13180992627369423], \"z\": [0, 0.10708603675828533], \"opacity\": 0.3, \"mode\": \"lines\", \"showlegend\": false, \"line\": {\"color\": \"rgb(255, 105, 97)\"}}, {\"type\": \"scatter3d\", \"x\": [0, 0.983589132599711], \"y\": [0, 0.14328889949929438], \"z\": [0, 0.10963899631075222], \"opacity\": 0.3, \"mode\": \"lines\", \"showlegend\": false, \"line\": {\"color\": \"rgb(255, 105, 97)\"}}, {\"type\": \"scatter3d\", \"x\": [0, 0.9810369938526617], \"y\": [0, 0.15719369843764297], \"z\": [0, 0.11338676229625705], \"opacity\": 0.3, \"mode\": \"lines\", \"showlegend\": false, \"line\": {\"color\": \"rgb(255, 105, 97)\"}}, {\"type\": \"scatter3d\", \"x\": [0, 0.977113170879252], \"y\": [0, 0.17586907603524182], \"z\": [0, 0.11966586559585024], \"opacity\": 0.3, \"mode\": \"lines\", \"showlegend\": false, \"line\": {\"color\": \"rgb(255, 105, 97)\"}}, {\"type\": \"scatter3d\", \"x\": [0, 0.9640275800758169], \"y\": [0, 0.22366486326114687], \"z\": [0, 0.1436135571439442], \"opacity\": 0.3, \"mode\": \"lines\", \"showlegend\": false, \"line\": {\"color\": \"rgb(255, 105, 97)\"}}, {\"type\": \"scatter3d\", \"x\": [0, 0.9640275800758169], \"y\": [0, 0.22366486326114687], \"z\": [0, 0.1436135571439442], \"opacity\": 0.3, \"mode\": \"lines\", \"showlegend\": false, \"line\": {\"color\": \"rgb(255, 105, 97)\"}}, {\"type\": \"scatter3d\", \"x\": [0, 0.943673425068397], \"y\": [0, 0.2735578766297145], \"z\": [0, 0.18613585080129622], \"opacity\": 0.3, \"mode\": \"lines\", \"showlegend\": false, \"line\": {\"color\": \"rgb(255, 105, 97)\"}}, {\"type\": \"scatter3d\", \"x\": [0, 0.9322826131668793], \"y\": [0, 0.29337335317161695], \"z\": [0, 0.21161570082481218], \"opacity\": 0.3, \"mode\": \"lines\", \"showlegend\": false, \"line\": {\"color\": \"rgb(255, 105, 97)\"}}, {\"type\": \"scatter3d\", \"x\": [0, 0.9220650242523647], \"y\": [0, 0.3073768524648365], \"z\": [0, 0.23519260536695513], \"opacity\": 0.3, \"mode\": \"lines\", \"showlegend\": false, \"line\": {\"color\": \"rgb(255, 105, 97)\"}}, {\"type\": \"scatter3d\", \"x\": [0, 0.9123165160484319], \"y\": [0, 0.31781886253099595], \"z\": [0, 0.2582048511642551], \"opacity\": 0.3, \"mode\": \"lines\", \"showlegend\": false, \"line\": {\"color\": \"rgb(255, 105, 97)\"}}, {\"type\": \"scatter3d\", \"x\": [0, 0.9027732334471811], \"y\": [0, 0.32551004158832497], \"z\": [0, 0.2811471177097294], \"opacity\": 0.3, \"mode\": \"lines\", \"showlegend\": false, \"line\": {\"color\": \"rgb(255, 105, 97)\"}}, {\"type\": \"scatter3d\", \"x\": [0, 0.8933041985183782], \"y\": [0, 0.3308054707857233], \"z\": [0, 0.30426197496183116], \"opacity\": 0.3, \"mode\": \"lines\", \"showlegend\": false, \"line\": {\"color\": \"rgb(255, 105, 97)\"}}, {\"type\": \"scatter3d\", \"x\": [0, 0.883834208382364], \"y\": [0, 0.3338536555474743], \"z\": [0, 0.32768708972235716], \"opacity\": 0.3, \"mode\": \"lines\", \"showlegend\": false, \"line\": {\"color\": \"rgb(255, 105, 97)\"}}, {\"type\": \"scatter3d\", \"x\": [0, 0.8743160446888391], \"y\": [0, 0.3346844075198342], \"z\": [0, 0.3515078965866365], \"opacity\": 0.3, \"mode\": \"lines\", \"showlegend\": false, \"line\": {\"color\": \"rgb(255, 105, 97)\"}}, {\"type\": \"scatter3d\", \"x\": [0, 0.8647182486297708], \"y\": [0, 0.33324359065224257], \"z\": [0, 0.3757806005847861], \"opacity\": 0.3, \"mode\": \"lines\", \"showlegend\": false, \"line\": {\"color\": \"rgb(255, 105, 97)\"}}, {\"type\": \"scatter3d\", \"x\": [0, 0.8550189975197238], \"y\": [0, 0.32940450195549636], \"z\": [0, 0.4005436155674162], \"opacity\": 0.3, \"mode\": \"lines\", \"showlegend\": false, \"line\": {\"color\": \"rgb(255, 105, 97)\"}}, {\"type\": \"scatter3d\", \"x\": [0, 0.8452027405168184], \"y\": [0, 0.3229650394080669], \"z\": [0, 0.42582380246177576], \"opacity\": 0.3, \"mode\": \"lines\", \"showlegend\": false, \"line\": {\"color\": \"rgb(255, 105, 97)\"}}, {\"type\": \"scatter3d\", \"x\": [0, 0.8352582169685046], \"y\": [0, 0.3136318164616877], \"z\": [0, 0.4516401163421344], \"opacity\": 0.3, \"mode\": \"lines\", \"showlegend\": false, \"line\": {\"color\": \"rgb(255, 105, 97)\"}}, {\"type\": \"scatter3d\", \"x\": [0, 0.8251772237026725], \"y\": [0, 0.300986626468526], \"z\": [0, 0.47800585788193584], \"opacity\": 0.3, \"mode\": \"lines\", \"showlegend\": false, \"line\": {\"color\": \"rgb(255, 105, 97)\"}}, {\"type\": \"scatter3d\", \"x\": [0, 0.814953813642801], \"y\": [0, 0.2844219572411942], \"z\": [0, 0.5049301257284449], \"opacity\": 0.3, \"mode\": \"lines\", \"showlegend\": false, \"line\": {\"color\": \"rgb(255, 105, 97)\"}}, {\"type\": \"scatter3d\", \"x\": [0, 0.8045837554417368], \"y\": [0, 0.2630118142628288], \"z\": [0, 0.5324187882085367], \"opacity\": 0.3, \"mode\": \"lines\", \"showlegend\": false, \"line\": {\"color\": \"rgb(255, 105, 97)\"}}, {\"type\": \"scatter3d\", \"x\": [0, 0.794064157666098], \"y\": [0, 0.23522269313104688], \"z\": [0, 0.5604751539062259], \"opacity\": 0.3, \"mode\": \"lines\", \"showlegend\": false, \"line\": {\"color\": \"rgb(255, 105, 97)\"}}, {\"type\": \"scatter3d\", \"x\": [0, 0.7833932003367508], \"y\": [0, 0.198130656191756], \"z\": [0, 0.5891004470743235], \"opacity\": 0.3, \"mode\": \"lines\", \"showlegend\": false, \"line\": {\"color\": \"rgb(255, 105, 97)\"}}, {\"type\": \"scatter3d\", \"x\": [0, 0.7725699385819003], \"y\": [0, 0.14438847086496645], \"z\": [0, 0.6182941528761496], \"opacity\": 0.3, \"mode\": \"lines\", \"showlegend\": false, \"line\": {\"color\": \"rgb(255, 105, 97)\"}}, {\"type\": \"scatter3d\", \"x\": [0, 0.7615941559557649], \"y\": [0, 0.0], \"z\": [0, 0.6480542736638855], \"opacity\": 0.3, \"mode\": \"lines\", \"showlegend\": false, \"line\": {\"color\": \"rgb(255, 105, 97)\"}}, {\"type\": \"scatter3d\", \"x\": [0, 0.7615941559557649], \"y\": [0, 0.0], \"z\": [0, 0.6480542736638855], \"opacity\": 0.3, \"mode\": \"lines\", \"showlegend\": false, \"line\": {\"color\": \"rgb(255, 105, 97)\"}}, {\"type\": \"scatter3d\", \"x\": [0, 0.7725699385819003], \"y\": [0, -0.14438847086496645], \"z\": [0, 0.6182941528761496], \"opacity\": 0.3, \"mode\": \"lines\", \"showlegend\": false, \"line\": {\"color\": \"rgb(255, 105, 97)\"}}, {\"type\": \"scatter3d\", \"x\": [0, 0.7833932003367508], \"y\": [0, -0.198130656191756], \"z\": [0, 0.5891004470743235], \"opacity\": 0.3, \"mode\": \"lines\", \"showlegend\": false, \"line\": {\"color\": \"rgb(255, 105, 97)\"}}, {\"type\": \"scatter3d\", \"x\": [0, 0.794064157666098], \"y\": [0, -0.23522269313104688], \"z\": [0, 0.5604751539062259], \"opacity\": 0.3, \"mode\": \"lines\", \"showlegend\": false, \"line\": {\"color\": \"rgb(255, 105, 97)\"}}, {\"type\": \"scatter3d\", \"x\": [0, 0.8045837554417368], \"y\": [0, -0.2630118142628288], \"z\": [0, 0.5324187882085367], \"opacity\": 0.3, \"mode\": \"lines\", \"showlegend\": false, \"line\": {\"color\": \"rgb(255, 105, 97)\"}}, {\"type\": \"scatter3d\", \"x\": [0, 0.814953813642801], \"y\": [0, -0.2844219572411942], \"z\": [0, 0.5049301257284449], \"opacity\": 0.3, \"mode\": \"lines\", \"showlegend\": false, \"line\": {\"color\": \"rgb(255, 105, 97)\"}}, {\"type\": \"scatter3d\", \"x\": [0, 0.8251772237026725], \"y\": [0, -0.300986626468526], \"z\": [0, 0.47800585788193584], \"opacity\": 0.3, \"mode\": \"lines\", \"showlegend\": false, \"line\": {\"color\": \"rgb(255, 105, 97)\"}}, {\"type\": \"scatter3d\", \"x\": [0, 0.8352582169685046], \"y\": [0, -0.3136318164616877], \"z\": [0, 0.4516401163421344], \"opacity\": 0.3, \"mode\": \"lines\", \"showlegend\": false, \"line\": {\"color\": \"rgb(255, 105, 97)\"}}, {\"type\": \"scatter3d\", \"x\": [0, 0.8452027405168184], \"y\": [0, -0.3229650394080669], \"z\": [0, 0.42582380246177576], \"opacity\": 0.3, \"mode\": \"lines\", \"showlegend\": false, \"line\": {\"color\": \"rgb(255, 105, 97)\"}}, {\"type\": \"scatter3d\", \"x\": [0, 0.8550189975197238], \"y\": [0, -0.32940450195549636], \"z\": [0, 0.4005436155674162], \"opacity\": 0.3, \"mode\": \"lines\", \"showlegend\": false, \"line\": {\"color\": \"rgb(255, 105, 97)\"}}, {\"type\": \"scatter3d\", \"x\": [0, 0.8647182486297708], \"y\": [0, -0.33324359065224257], \"z\": [0, 0.3757806005847861], \"opacity\": 0.3, \"mode\": \"lines\", \"showlegend\": false, \"line\": {\"color\": \"rgb(255, 105, 97)\"}}, {\"type\": \"scatter3d\", \"x\": [0, 0.8743160446888391], \"y\": [0, -0.3346844075198342], \"z\": [0, 0.3515078965866365], \"opacity\": 0.3, \"mode\": \"lines\", \"showlegend\": false, \"line\": {\"color\": \"rgb(255, 105, 97)\"}}, {\"type\": \"scatter3d\", \"x\": [0, 0.883834208382364], \"y\": [0, -0.3338536555474743], \"z\": [0, 0.32768708972235716], \"opacity\": 0.3, \"mode\": \"lines\", \"showlegend\": false, \"line\": {\"color\": \"rgb(255, 105, 97)\"}}, {\"type\": \"scatter3d\", \"x\": [0, 0.8933041985183782], \"y\": [0, -0.3308054707857233], \"z\": [0, 0.30426197496183116], \"opacity\": 0.3, \"mode\": \"lines\", \"showlegend\": false, \"line\": {\"color\": \"rgb(255, 105, 97)\"}}, {\"type\": \"scatter3d\", \"x\": [0, 0.9027732334471811], \"y\": [0, -0.32551004158832497], \"z\": [0, 0.2811471177097294], \"opacity\": 0.3, \"mode\": \"lines\", \"showlegend\": false, \"line\": {\"color\": \"rgb(255, 105, 97)\"}}, {\"type\": \"scatter3d\", \"x\": [0, 0.9123165160484319], \"y\": [0, -0.31781886253099595], \"z\": [0, 0.2582048511642551], \"opacity\": 0.3, \"mode\": \"lines\", \"showlegend\": false, \"line\": {\"color\": \"rgb(255, 105, 97)\"}}, {\"type\": \"scatter3d\", \"x\": [0, 0.9220650242523647], \"y\": [0, -0.3073768524648365], \"z\": [0, 0.23519260536695513], \"opacity\": 0.3, \"mode\": \"lines\", \"showlegend\": false, \"line\": {\"color\": \"rgb(255, 105, 97)\"}}, {\"type\": \"scatter3d\", \"x\": [0, 0.9322826131668793], \"y\": [0, -0.29337335317161695], \"z\": [0, 0.21161570082481218], \"opacity\": 0.3, \"mode\": \"lines\", \"showlegend\": false, \"line\": {\"color\": \"rgb(255, 105, 97)\"}}, {\"type\": \"scatter3d\", \"x\": [0, 0.943673425068397], \"y\": [0, -0.2735578766297145], \"z\": [0, 0.18613585080129622], \"opacity\": 0.3, \"mode\": \"lines\", \"showlegend\": false, \"line\": {\"color\": \"rgb(255, 105, 97)\"}}, {\"type\": \"scatter3d\", \"x\": [0, 0.9640275800758169], \"y\": [0, -0.22366486326114687], \"z\": [0, 0.1436135571439442], \"opacity\": 0.3, \"mode\": \"lines\", \"showlegend\": false, \"line\": {\"color\": \"rgb(255, 105, 97)\"}}, {\"type\": \"scatter3d\", \"x\": [0, 0.9640275800758169], \"y\": [0, -0.22366486326114687], \"z\": [0, 0.1436135571439442], \"opacity\": 0.3, \"mode\": \"lines\", \"showlegend\": false, \"line\": {\"color\": \"rgb(255, 105, 97)\"}}, {\"type\": \"scatter3d\", \"x\": [0, 0.977113170879252], \"y\": [0, -0.17586907603524182], \"z\": [0, 0.11966586559585024], \"opacity\": 0.3, \"mode\": \"lines\", \"showlegend\": false, \"line\": {\"color\": \"rgb(255, 105, 97)\"}}, {\"type\": \"scatter3d\", \"x\": [0, 0.9810369938526617], \"y\": [0, -0.15719369843764297], \"z\": [0, 0.11338676229625705], \"opacity\": 0.3, \"mode\": \"lines\", \"showlegend\": false, \"line\": {\"color\": \"rgb(255, 105, 97)\"}}, {\"type\": \"scatter3d\", \"x\": [0, 0.983589132599711], \"y\": [0, -0.14328889949929438], \"z\": [0, 0.10963899631075222], \"opacity\": 0.3, \"mode\": \"lines\", \"showlegend\": false, \"line\": {\"color\": \"rgb(255, 105, 97)\"}}, {\"type\": \"scatter3d\", \"x\": [0, 0.9854738576274494], \"y\": [0, -0.13180992627369423], \"z\": [0, 0.10708603675828533], \"opacity\": 0.3, \"mode\": \"lines\", \"showlegend\": false, \"line\": {\"color\": \"rgb(255, 105, 97)\"}}, {\"type\": \"scatter3d\", \"x\": [0, 0.9869553197895694], \"y\": [0, -0.12183967209701473], \"z\": [0, 0.10523445748594332], \"opacity\": 0.3, \"mode\": \"lines\", \"showlegend\": false, \"line\": {\"color\": \"rgb(255, 105, 97)\"}}, {\"type\": \"scatter3d\", \"x\": [0, 0.9881649627650428], \"y\": [0, -0.1129015336683196], \"z\": [0, 0.10384242899173095], \"opacity\": 0.3, \"mode\": \"lines\", \"showlegend\": false, \"line\": {\"color\": \"rgb(255, 105, 97)\"}}, {\"type\": \"scatter3d\", \"x\": [0, 0.9891786273775465], \"y\": [0, -0.10470652256183174], \"z\": [0, 0.10277250251152609], \"opacity\": 0.3, \"mode\": \"lines\", \"showlegend\": false, \"line\": {\"color\": \"rgb(255, 105, 97)\"}}, {\"type\": \"scatter3d\", \"x\": [0, 0.9900443440003788], \"y\": [0, -0.0970600400730552], \"z\": [0, 0.10193893041363872], \"opacity\": 0.3, \"mode\": \"lines\", \"showlegend\": false, \"line\": {\"color\": \"rgb(255, 105, 97)\"}}, {\"type\": \"scatter3d\", \"x\": [0, 0.990794559106269], \"y\": [0, -0.08981959774713912], \"z\": [0, 0.10128465582681326], \"opacity\": 0.3, \"mode\": \"lines\", \"showlegend\": false, \"line\": {\"color\": \"rgb(255, 105, 97)\"}}, {\"type\": \"scatter3d\", \"x\": [0, 0.9914522599173456], \"y\": [0, -0.08287249308869014], \"z\": [0, 0.10076986749050043], \"opacity\": 0.3, \"mode\": \"lines\", \"showlegend\": false, \"line\": {\"color\": \"rgb(255, 105, 97)\"}}, {\"type\": \"scatter3d\", \"x\": [0, 0.992034339571617], \"y\": [0, -0.07612216618868013], \"z\": [0, 0.10036575574093345], \"opacity\": 0.3, \"mode\": \"lines\", \"showlegend\": false, \"line\": {\"color\": \"rgb(255, 105, 97)\"}}, {\"type\": \"scatter3d\", \"x\": [0, 0.9925535793124237], \"y\": [0, -0.0694781797554271], \"z\": [0, 0.10005086072577717], \"opacity\": 0.3, \"mode\": \"lines\", \"showlegend\": false, \"line\": {\"color\": \"rgb(255, 105, 97)\"}}, {\"type\": \"scatter3d\", \"x\": [0, 0.9930198813721302], \"y\": [0, -0.0628467595523162], \"z\": [0, 0.09980881731317065], \"opacity\": 0.3, \"mode\": \"lines\", \"showlegend\": false, \"line\": {\"color\": \"rgb(255, 105, 97)\"}}, {\"type\": \"scatter3d\", \"x\": [0, 0.9934410701643702], \"y\": [0, -0.056118810307512236], \"z\": [0, 0.09962690018433941], \"opacity\": 0.3, \"mode\": \"lines\", \"showlegend\": false, \"line\": {\"color\": \"rgb(255, 105, 97)\"}}, {\"type\": \"scatter3d\", \"x\": [0, 0.9938234320845467], \"y\": [0, -0.049149981896807506], \"z\": [0, 0.09949505072733958], \"opacity\": 0.3, \"mode\": \"lines\", \"showlegend\": false, \"line\": {\"color\": \"rgb(255, 105, 97)\"}}, {\"type\": \"scatter3d\", \"x\": [0, 0.9941720903822324], \"y\": [0, -0.041718816889310825], \"z\": [0, 0.09940520621365133], \"opacity\": 0.3, \"mode\": \"lines\", \"showlegend\": false, \"line\": {\"color\": \"rgb(255, 105, 97)\"}}, {\"type\": \"scatter3d\", \"x\": [0, 0.9944912722970456], \"y\": [0, -0.03341441058194288], \"z\": [0, 0.099350825313456], \"opacity\": 0.3, \"mode\": \"lines\", \"showlegend\": false, \"line\": {\"color\": \"rgb(255, 105, 97)\"}}, {\"type\": \"scatter3d\", \"x\": [0, 0.9947845036999212], \"y\": [0, -0.02319544488244468], \"z\": [0, 0.0993265449676309], \"opacity\": 0.3, \"mode\": \"lines\", \"showlegend\": false, \"line\": {\"color\": \"rgb(255, 105, 97)\"}}, {\"type\": \"scatter3d\", \"x\": [0, 0.9950547536867305], \"y\": [0, 0.0], \"z\": [0, 0.09932792741943323], \"opacity\": 0.3, \"mode\": \"lines\", \"showlegend\": false, \"line\": {\"color\": \"rgb(255, 105, 97)\"}}], {\"margin\": {\"l\": 0, \"r\": 0, \"b\": 0, \"t\": 0}, \"scene\": {\"xaxis\": {\"title\": \"Z\"}, \"yaxis\": {\"title\": \"Y\"}, \"zaxis\": {\"title\": \"X\"}}}, {\"showLink\": true, \"linkText\": \"Export to plot.ly\"})});</script>"
      ]
     },
     "metadata": {},
     "output_type": "display_data"
    },
    {
     "data": {
      "application/vnd.plotly.v1+json": {
       "data": [
        {
         "line": {
          "color": "rgb(0,33,71)",
          "width": 5
         },
         "mode": "lines",
         "showlegend": false,
         "type": "scatter3d",
         "x": [
          -1,
          1
         ],
         "y": [
          0,
          0
         ],
         "z": [
          0,
          0
         ]
        },
        {
         "opacity": 0.4,
         "showscale": false,
         "surfacecolor": [
          1,
          1
         ],
         "type": "surface",
         "x": [
          [
           -1,
           -1,
           -1,
           -1,
           -1,
           -1,
           -1,
           -1,
           -1,
           -1
          ],
          [
           1,
           1,
           1,
           1,
           1,
           1,
           1,
           1,
           1,
           1
          ]
         ],
         "y": [
          [
           0,
           0.342020143325669,
           0.6427876096865394,
           0.8660254037844386,
           0.984807753012208,
           0.984807753012208,
           0.8660254037844388,
           0.6427876096865395,
           0.342020143325669,
           0
          ],
          [
           0,
           0.342020143325669,
           0.6427876096865394,
           0.8660254037844386,
           0.984807753012208,
           0.984807753012208,
           0.8660254037844388,
           0.6427876096865395,
           0.342020143325669,
           0
          ]
         ],
         "z": [
          [
           -1,
           -0.9396926207859083,
           -0.766044443118978,
           -0.5,
           -0.17364817766693036,
           0.17364817766693036,
           0.49999999999999983,
           0.7660444431189779,
           0.9396926207859083,
           1
          ],
          [
           -1,
           -0.9396926207859083,
           -0.766044443118978,
           -0.5,
           -0.17364817766693036,
           0.17364817766693036,
           0.49999999999999983,
           0.7660444431189779,
           0.9396926207859083,
           1
          ]
         ]
        },
        {
         "opacity": 0.4,
         "showscale": false,
         "surfacecolor": [
          1,
          1
         ],
         "type": "surface",
         "x": [
          [
           -1,
           -1,
           -1,
           -1,
           -1,
           -1,
           -1,
           -1,
           -1,
           -1
          ],
          [
           1,
           1,
           1,
           1,
           1,
           1,
           1,
           1,
           1,
           1
          ]
         ],
         "y": [
          [
           0,
           -0.342020143325669,
           -0.6427876096865394,
           -0.8660254037844386,
           -0.984807753012208,
           -0.984807753012208,
           -0.8660254037844388,
           -0.6427876096865395,
           -0.342020143325669,
           0
          ],
          [
           0,
           -0.342020143325669,
           -0.6427876096865394,
           -0.8660254037844386,
           -0.984807753012208,
           -0.984807753012208,
           -0.8660254037844388,
           -0.6427876096865395,
           -0.342020143325669,
           0
          ]
         ],
         "z": [
          [
           -1,
           -0.9396926207859083,
           -0.766044443118978,
           -0.5,
           -0.17364817766693036,
           0.17364817766693036,
           0.49999999999999983,
           0.7660444431189779,
           0.9396926207859083,
           1
          ],
          [
           -1,
           -0.9396926207859083,
           -0.766044443118978,
           -0.5,
           -0.17364817766693036,
           0.17364817766693036,
           0.49999999999999983,
           0.7660444431189779,
           0.9396926207859083,
           1
          ]
         ]
        },
        {
         "line": {
          "color": "rgb(255, 105, 97)",
          "width": 7
         },
         "mode": "lines",
         "showlegend": false,
         "type": "scatter3d",
         "x": [
          0,
          0.9950547536867305
         ],
         "y": [
          0,
          0
         ],
         "z": [
          0,
          0.09932792741943323
         ]
        },
        {
         "line": {
          "color": "rgb(255, 105, 97)",
          "width": 5
         },
         "mode": "lines",
         "showlegend": false,
         "type": "scatter3d",
         "x": [
          0.999329299739067,
          0.9992925641850561,
          0.9992526949935175,
          0.9992092859228291,
          0.9991618543059954,
          0.9991098211483397,
          0.9990524843208939,
          0.9989889817471538,
          0.9989182397098687,
          0.998838898364858,
          0.9987492011074239,
          0.9986468242008412,
          0.9985286026422578,
          0.9983900643750867,
          0.9982245817941475,
          0.998021676294657,
          0.9977631603489642,
          0.9974124223998145,
          0.996871650364834,
          0.9950547536867305,
          0.9950547536867305,
          0.9921867605764334,
          0.9905590511111292,
          0.989084875843333,
          0.9876657594483422,
          0.9862644229563172,
          0.9848620074470319,
          0.983447359141926,
          0.9820131716882766,
          0.9805542909244023,
          0.9790668666099106,
          0.9775478868722012,
          0.9759949043155917,
          0.974405865902242,
          0.9727790025803045,
          0.9711127550688635,
          0.9694057224453089,
          0.9676566256221996,
          0.9658642808403455,
          0.9640275800758169,
          0.9640275800758169,
          0.9658642808403455,
          0.9676566256221996,
          0.9694057224453089,
          0.9711127550688635,
          0.9727790025803045,
          0.974405865902242,
          0.9759949043155917,
          0.9775478868722012,
          0.9790668666099106,
          0.9805542909244023,
          0.9820131716882766,
          0.983447359141926,
          0.9848620074470319,
          0.9862644229563172,
          0.9876657594483422,
          0.989084875843333,
          0.9905590511111292,
          0.9921867605764334,
          0.9950547536867305,
          0.9950547536867305,
          0.996871650364834,
          0.9974124223998145,
          0.9977631603489642,
          0.998021676294657,
          0.9982245817941475,
          0.9983900643750867,
          0.9985286026422578,
          0.9986468242008412,
          0.9987492011074239,
          0.998838898364858,
          0.9989182397098687,
          0.9989889817471538,
          0.9990524843208939,
          0.9991098211483397,
          0.9991618543059954,
          0.9992092859228291,
          0.9992526949935175,
          0.9992925641850561,
          0.999329299739067
         ],
         "y": [
          0,
          0.008552411516454023,
          0.012321820354587672,
          0.015386262176041892,
          0.01812968010560764,
          0.020703664665205207,
          0.023190012005096326,
          0.02564214443141413,
          0.02810055300121383,
          0.030600168285484897,
          0.03317481287655101,
          0.035860743401103526,
          0.038700434262177556,
          0.04174776261946511,
          0.04507652574218313,
          0.048796610656766236,
          0.05308970905235481,
          0.05830634407184348,
          0.06534518955671943,
          0.08358156890455774,
          0.08358156890455774,
          0.1031481623024,
          0.11118100679835928,
          0.1170204911262034,
          0.12152587803687126,
          0.12500285694502616,
          0.12758162288775676,
          0.12931224566387936,
          0.13019811937260406,
          0.13020895521997425,
          0.1292847067681623,
          0.1273338730515883,
          0.12422650718503182,
          0.11977994503233448,
          0.11373169138103574,
          0.10568544972937964,
          0.09499089110753871,
          0.08041913580766888,
          0.058909886659820575,
          0,
          0,
          -0.058909886659820575,
          -0.08041913580766888,
          -0.09499089110753871,
          -0.10568544972937964,
          -0.11373169138103574,
          -0.11977994503233448,
          -0.12422650718503182,
          -0.1273338730515883,
          -0.1292847067681623,
          -0.13020895521997425,
          -0.13019811937260406,
          -0.12931224566387936,
          -0.12758162288775676,
          -0.12500285694502616,
          -0.12152587803687126,
          -0.1170204911262034,
          -0.11118100679835928,
          -0.1031481623024,
          -0.08358156890455774,
          -0.08358156890455774,
          -0.06534518955671943,
          -0.05830634407184348,
          -0.05308970905235481,
          -0.048796610656766236,
          -0.04507652574218313,
          -0.04174776261946511,
          -0.038700434262177556,
          -0.035860743401103526,
          -0.03317481287655101,
          -0.030600168285484897,
          -0.02810055300121383,
          -0.02564214443141413,
          -0.023190012005096326,
          -0.020703664665205207,
          -0.01812968010560764,
          -0.015386262176041892,
          -0.012321820354587672,
          -0.008552411516454023,
          0
         ],
         "z": [
          0.036618993473686544,
          0.03662277190094678,
          0.03663637934268916,
          0.036661503813130165,
          0.036700185273008945,
          0.03675491197599965,
          0.03682875120681685,
          0.036925530148438857,
          0.03705009171329105,
          0.03720866584784996,
          0.037409424987404,
          0.037663345527108205,
          0.03798560376272717,
          0.03839796444316954,
          0.0389331623287094,
          0.039643718725856425,
          0.04062214473884421,
          0.04205745930878056,
          0.04446255616458008,
          0.053667108221823,
          0.053667108221823,
          0.07018467603744338,
          0.08019694501115733,
          0.08953944959938372,
          0.09873099098407195,
          0.10796654003080759,
          0.11734460272517272,
          0.12692373662217846,
          0.13674275243159537,
          0.14682952880897412,
          0.15720539209111706,
          0.16788750294580038,
          0.17889025032853598,
          0.19022611088741956,
          0.2019062022684714,
          0.21394065218667616,
          0.2263388519386023,
          0.23910963486527684,
          0.2522614045994538,
          0.26580222883407967,
          0.26580222883407967,
          0.2522614045994538,
          0.23910963486527684,
          0.2263388519386023,
          0.21394065218667616,
          0.2019062022684714,
          0.19022611088741956,
          0.17889025032853598,
          0.16788750294580038,
          0.15720539209111706,
          0.14682952880897412,
          0.13674275243159537,
          0.12692373662217846,
          0.11734460272517272,
          0.10796654003080759,
          0.09873099098407195,
          0.08953944959938372,
          0.08019694501115733,
          0.07018467603744338,
          0.053667108221823,
          0.053667108221823,
          0.04446255616458008,
          0.04205745930878056,
          0.04062214473884421,
          0.039643718725856425,
          0.0389331623287094,
          0.03839796444316954,
          0.03798560376272717,
          0.037663345527108205,
          0.037409424987404,
          0.03720866584784996,
          0.03705009171329105,
          0.036925530148438857,
          0.03682875120681685,
          0.03675491197599965,
          0.036700185273008945,
          0.036661503813130165,
          0.03663637934268916,
          0.03662277190094678,
          0.036618993473686544
         ]
        },
        {
         "line": {
          "color": "rgb(255, 105, 97)"
         },
         "mode": "lines",
         "opacity": 0.3,
         "showlegend": false,
         "type": "scatter3d",
         "x": [
          0,
          0.999329299739067
         ],
         "y": [
          0,
          0
         ],
         "z": [
          0,
          0.036618993473686544
         ]
        },
        {
         "line": {
          "color": "rgb(255, 105, 97)"
         },
         "mode": "lines",
         "opacity": 0.3,
         "showlegend": false,
         "type": "scatter3d",
         "x": [
          0,
          0.9992925641850561
         ],
         "y": [
          0,
          0.008552411516454023
         ],
         "z": [
          0,
          0.03662277190094678
         ]
        },
        {
         "line": {
          "color": "rgb(255, 105, 97)"
         },
         "mode": "lines",
         "opacity": 0.3,
         "showlegend": false,
         "type": "scatter3d",
         "x": [
          0,
          0.9992526949935175
         ],
         "y": [
          0,
          0.012321820354587672
         ],
         "z": [
          0,
          0.03663637934268916
         ]
        },
        {
         "line": {
          "color": "rgb(255, 105, 97)"
         },
         "mode": "lines",
         "opacity": 0.3,
         "showlegend": false,
         "type": "scatter3d",
         "x": [
          0,
          0.9992092859228291
         ],
         "y": [
          0,
          0.015386262176041892
         ],
         "z": [
          0,
          0.036661503813130165
         ]
        },
        {
         "line": {
          "color": "rgb(255, 105, 97)"
         },
         "mode": "lines",
         "opacity": 0.3,
         "showlegend": false,
         "type": "scatter3d",
         "x": [
          0,
          0.9991618543059954
         ],
         "y": [
          0,
          0.01812968010560764
         ],
         "z": [
          0,
          0.036700185273008945
         ]
        },
        {
         "line": {
          "color": "rgb(255, 105, 97)"
         },
         "mode": "lines",
         "opacity": 0.3,
         "showlegend": false,
         "type": "scatter3d",
         "x": [
          0,
          0.9991098211483397
         ],
         "y": [
          0,
          0.020703664665205207
         ],
         "z": [
          0,
          0.03675491197599965
         ]
        },
        {
         "line": {
          "color": "rgb(255, 105, 97)"
         },
         "mode": "lines",
         "opacity": 0.3,
         "showlegend": false,
         "type": "scatter3d",
         "x": [
          0,
          0.9990524843208939
         ],
         "y": [
          0,
          0.023190012005096326
         ],
         "z": [
          0,
          0.03682875120681685
         ]
        },
        {
         "line": {
          "color": "rgb(255, 105, 97)"
         },
         "mode": "lines",
         "opacity": 0.3,
         "showlegend": false,
         "type": "scatter3d",
         "x": [
          0,
          0.9989889817471538
         ],
         "y": [
          0,
          0.02564214443141413
         ],
         "z": [
          0,
          0.036925530148438857
         ]
        },
        {
         "line": {
          "color": "rgb(255, 105, 97)"
         },
         "mode": "lines",
         "opacity": 0.3,
         "showlegend": false,
         "type": "scatter3d",
         "x": [
          0,
          0.9989182397098687
         ],
         "y": [
          0,
          0.02810055300121383
         ],
         "z": [
          0,
          0.03705009171329105
         ]
        },
        {
         "line": {
          "color": "rgb(255, 105, 97)"
         },
         "mode": "lines",
         "opacity": 0.3,
         "showlegend": false,
         "type": "scatter3d",
         "x": [
          0,
          0.998838898364858
         ],
         "y": [
          0,
          0.030600168285484897
         ],
         "z": [
          0,
          0.03720866584784996
         ]
        },
        {
         "line": {
          "color": "rgb(255, 105, 97)"
         },
         "mode": "lines",
         "opacity": 0.3,
         "showlegend": false,
         "type": "scatter3d",
         "x": [
          0,
          0.9987492011074239
         ],
         "y": [
          0,
          0.03317481287655101
         ],
         "z": [
          0,
          0.037409424987404
         ]
        },
        {
         "line": {
          "color": "rgb(255, 105, 97)"
         },
         "mode": "lines",
         "opacity": 0.3,
         "showlegend": false,
         "type": "scatter3d",
         "x": [
          0,
          0.9986468242008412
         ],
         "y": [
          0,
          0.035860743401103526
         ],
         "z": [
          0,
          0.037663345527108205
         ]
        },
        {
         "line": {
          "color": "rgb(255, 105, 97)"
         },
         "mode": "lines",
         "opacity": 0.3,
         "showlegend": false,
         "type": "scatter3d",
         "x": [
          0,
          0.9985286026422578
         ],
         "y": [
          0,
          0.038700434262177556
         ],
         "z": [
          0,
          0.03798560376272717
         ]
        },
        {
         "line": {
          "color": "rgb(255, 105, 97)"
         },
         "mode": "lines",
         "opacity": 0.3,
         "showlegend": false,
         "type": "scatter3d",
         "x": [
          0,
          0.9983900643750867
         ],
         "y": [
          0,
          0.04174776261946511
         ],
         "z": [
          0,
          0.03839796444316954
         ]
        },
        {
         "line": {
          "color": "rgb(255, 105, 97)"
         },
         "mode": "lines",
         "opacity": 0.3,
         "showlegend": false,
         "type": "scatter3d",
         "x": [
          0,
          0.9982245817941475
         ],
         "y": [
          0,
          0.04507652574218313
         ],
         "z": [
          0,
          0.0389331623287094
         ]
        },
        {
         "line": {
          "color": "rgb(255, 105, 97)"
         },
         "mode": "lines",
         "opacity": 0.3,
         "showlegend": false,
         "type": "scatter3d",
         "x": [
          0,
          0.998021676294657
         ],
         "y": [
          0,
          0.048796610656766236
         ],
         "z": [
          0,
          0.039643718725856425
         ]
        },
        {
         "line": {
          "color": "rgb(255, 105, 97)"
         },
         "mode": "lines",
         "opacity": 0.3,
         "showlegend": false,
         "type": "scatter3d",
         "x": [
          0,
          0.9977631603489642
         ],
         "y": [
          0,
          0.05308970905235481
         ],
         "z": [
          0,
          0.04062214473884421
         ]
        },
        {
         "line": {
          "color": "rgb(255, 105, 97)"
         },
         "mode": "lines",
         "opacity": 0.3,
         "showlegend": false,
         "type": "scatter3d",
         "x": [
          0,
          0.9974124223998145
         ],
         "y": [
          0,
          0.05830634407184348
         ],
         "z": [
          0,
          0.04205745930878056
         ]
        },
        {
         "line": {
          "color": "rgb(255, 105, 97)"
         },
         "mode": "lines",
         "opacity": 0.3,
         "showlegend": false,
         "type": "scatter3d",
         "x": [
          0,
          0.996871650364834
         ],
         "y": [
          0,
          0.06534518955671943
         ],
         "z": [
          0,
          0.04446255616458008
         ]
        },
        {
         "line": {
          "color": "rgb(255, 105, 97)"
         },
         "mode": "lines",
         "opacity": 0.3,
         "showlegend": false,
         "type": "scatter3d",
         "x": [
          0,
          0.9950547536867305
         ],
         "y": [
          0,
          0.08358156890455774
         ],
         "z": [
          0,
          0.053667108221823
         ]
        },
        {
         "line": {
          "color": "rgb(255, 105, 97)"
         },
         "mode": "lines",
         "opacity": 0.3,
         "showlegend": false,
         "type": "scatter3d",
         "x": [
          0,
          0.9950547536867305
         ],
         "y": [
          0,
          0.08358156890455774
         ],
         "z": [
          0,
          0.053667108221823
         ]
        },
        {
         "line": {
          "color": "rgb(255, 105, 97)"
         },
         "mode": "lines",
         "opacity": 0.3,
         "showlegend": false,
         "type": "scatter3d",
         "x": [
          0,
          0.9921867605764334
         ],
         "y": [
          0,
          0.1031481623024
         ],
         "z": [
          0,
          0.07018467603744338
         ]
        },
        {
         "line": {
          "color": "rgb(255, 105, 97)"
         },
         "mode": "lines",
         "opacity": 0.3,
         "showlegend": false,
         "type": "scatter3d",
         "x": [
          0,
          0.9905590511111292
         ],
         "y": [
          0,
          0.11118100679835928
         ],
         "z": [
          0,
          0.08019694501115733
         ]
        },
        {
         "line": {
          "color": "rgb(255, 105, 97)"
         },
         "mode": "lines",
         "opacity": 0.3,
         "showlegend": false,
         "type": "scatter3d",
         "x": [
          0,
          0.989084875843333
         ],
         "y": [
          0,
          0.1170204911262034
         ],
         "z": [
          0,
          0.08953944959938372
         ]
        },
        {
         "line": {
          "color": "rgb(255, 105, 97)"
         },
         "mode": "lines",
         "opacity": 0.3,
         "showlegend": false,
         "type": "scatter3d",
         "x": [
          0,
          0.9876657594483422
         ],
         "y": [
          0,
          0.12152587803687126
         ],
         "z": [
          0,
          0.09873099098407195
         ]
        },
        {
         "line": {
          "color": "rgb(255, 105, 97)"
         },
         "mode": "lines",
         "opacity": 0.3,
         "showlegend": false,
         "type": "scatter3d",
         "x": [
          0,
          0.9862644229563172
         ],
         "y": [
          0,
          0.12500285694502616
         ],
         "z": [
          0,
          0.10796654003080759
         ]
        },
        {
         "line": {
          "color": "rgb(255, 105, 97)"
         },
         "mode": "lines",
         "opacity": 0.3,
         "showlegend": false,
         "type": "scatter3d",
         "x": [
          0,
          0.9848620074470319
         ],
         "y": [
          0,
          0.12758162288775676
         ],
         "z": [
          0,
          0.11734460272517272
         ]
        },
        {
         "line": {
          "color": "rgb(255, 105, 97)"
         },
         "mode": "lines",
         "opacity": 0.3,
         "showlegend": false,
         "type": "scatter3d",
         "x": [
          0,
          0.983447359141926
         ],
         "y": [
          0,
          0.12931224566387936
         ],
         "z": [
          0,
          0.12692373662217846
         ]
        },
        {
         "line": {
          "color": "rgb(255, 105, 97)"
         },
         "mode": "lines",
         "opacity": 0.3,
         "showlegend": false,
         "type": "scatter3d",
         "x": [
          0,
          0.9820131716882766
         ],
         "y": [
          0,
          0.13019811937260406
         ],
         "z": [
          0,
          0.13674275243159537
         ]
        },
        {
         "line": {
          "color": "rgb(255, 105, 97)"
         },
         "mode": "lines",
         "opacity": 0.3,
         "showlegend": false,
         "type": "scatter3d",
         "x": [
          0,
          0.9805542909244023
         ],
         "y": [
          0,
          0.13020895521997425
         ],
         "z": [
          0,
          0.14682952880897412
         ]
        },
        {
         "line": {
          "color": "rgb(255, 105, 97)"
         },
         "mode": "lines",
         "opacity": 0.3,
         "showlegend": false,
         "type": "scatter3d",
         "x": [
          0,
          0.9790668666099106
         ],
         "y": [
          0,
          0.1292847067681623
         ],
         "z": [
          0,
          0.15720539209111706
         ]
        },
        {
         "line": {
          "color": "rgb(255, 105, 97)"
         },
         "mode": "lines",
         "opacity": 0.3,
         "showlegend": false,
         "type": "scatter3d",
         "x": [
          0,
          0.9775478868722012
         ],
         "y": [
          0,
          0.1273338730515883
         ],
         "z": [
          0,
          0.16788750294580038
         ]
        },
        {
         "line": {
          "color": "rgb(255, 105, 97)"
         },
         "mode": "lines",
         "opacity": 0.3,
         "showlegend": false,
         "type": "scatter3d",
         "x": [
          0,
          0.9759949043155917
         ],
         "y": [
          0,
          0.12422650718503182
         ],
         "z": [
          0,
          0.17889025032853598
         ]
        },
        {
         "line": {
          "color": "rgb(255, 105, 97)"
         },
         "mode": "lines",
         "opacity": 0.3,
         "showlegend": false,
         "type": "scatter3d",
         "x": [
          0,
          0.974405865902242
         ],
         "y": [
          0,
          0.11977994503233448
         ],
         "z": [
          0,
          0.19022611088741956
         ]
        },
        {
         "line": {
          "color": "rgb(255, 105, 97)"
         },
         "mode": "lines",
         "opacity": 0.3,
         "showlegend": false,
         "type": "scatter3d",
         "x": [
          0,
          0.9727790025803045
         ],
         "y": [
          0,
          0.11373169138103574
         ],
         "z": [
          0,
          0.2019062022684714
         ]
        },
        {
         "line": {
          "color": "rgb(255, 105, 97)"
         },
         "mode": "lines",
         "opacity": 0.3,
         "showlegend": false,
         "type": "scatter3d",
         "x": [
          0,
          0.9711127550688635
         ],
         "y": [
          0,
          0.10568544972937964
         ],
         "z": [
          0,
          0.21394065218667616
         ]
        },
        {
         "line": {
          "color": "rgb(255, 105, 97)"
         },
         "mode": "lines",
         "opacity": 0.3,
         "showlegend": false,
         "type": "scatter3d",
         "x": [
          0,
          0.9694057224453089
         ],
         "y": [
          0,
          0.09499089110753871
         ],
         "z": [
          0,
          0.2263388519386023
         ]
        },
        {
         "line": {
          "color": "rgb(255, 105, 97)"
         },
         "mode": "lines",
         "opacity": 0.3,
         "showlegend": false,
         "type": "scatter3d",
         "x": [
          0,
          0.9676566256221996
         ],
         "y": [
          0,
          0.08041913580766888
         ],
         "z": [
          0,
          0.23910963486527684
         ]
        },
        {
         "line": {
          "color": "rgb(255, 105, 97)"
         },
         "mode": "lines",
         "opacity": 0.3,
         "showlegend": false,
         "type": "scatter3d",
         "x": [
          0,
          0.9658642808403455
         ],
         "y": [
          0,
          0.058909886659820575
         ],
         "z": [
          0,
          0.2522614045994538
         ]
        },
        {
         "line": {
          "color": "rgb(255, 105, 97)"
         },
         "mode": "lines",
         "opacity": 0.3,
         "showlegend": false,
         "type": "scatter3d",
         "x": [
          0,
          0.9640275800758169
         ],
         "y": [
          0,
          0
         ],
         "z": [
          0,
          0.26580222883407967
         ]
        },
        {
         "line": {
          "color": "rgb(255, 105, 97)"
         },
         "mode": "lines",
         "opacity": 0.3,
         "showlegend": false,
         "type": "scatter3d",
         "x": [
          0,
          0.9640275800758169
         ],
         "y": [
          0,
          0
         ],
         "z": [
          0,
          0.26580222883407967
         ]
        },
        {
         "line": {
          "color": "rgb(255, 105, 97)"
         },
         "mode": "lines",
         "opacity": 0.3,
         "showlegend": false,
         "type": "scatter3d",
         "x": [
          0,
          0.9658642808403455
         ],
         "y": [
          0,
          -0.058909886659820575
         ],
         "z": [
          0,
          0.2522614045994538
         ]
        },
        {
         "line": {
          "color": "rgb(255, 105, 97)"
         },
         "mode": "lines",
         "opacity": 0.3,
         "showlegend": false,
         "type": "scatter3d",
         "x": [
          0,
          0.9676566256221996
         ],
         "y": [
          0,
          -0.08041913580766888
         ],
         "z": [
          0,
          0.23910963486527684
         ]
        },
        {
         "line": {
          "color": "rgb(255, 105, 97)"
         },
         "mode": "lines",
         "opacity": 0.3,
         "showlegend": false,
         "type": "scatter3d",
         "x": [
          0,
          0.9694057224453089
         ],
         "y": [
          0,
          -0.09499089110753871
         ],
         "z": [
          0,
          0.2263388519386023
         ]
        },
        {
         "line": {
          "color": "rgb(255, 105, 97)"
         },
         "mode": "lines",
         "opacity": 0.3,
         "showlegend": false,
         "type": "scatter3d",
         "x": [
          0,
          0.9711127550688635
         ],
         "y": [
          0,
          -0.10568544972937964
         ],
         "z": [
          0,
          0.21394065218667616
         ]
        },
        {
         "line": {
          "color": "rgb(255, 105, 97)"
         },
         "mode": "lines",
         "opacity": 0.3,
         "showlegend": false,
         "type": "scatter3d",
         "x": [
          0,
          0.9727790025803045
         ],
         "y": [
          0,
          -0.11373169138103574
         ],
         "z": [
          0,
          0.2019062022684714
         ]
        },
        {
         "line": {
          "color": "rgb(255, 105, 97)"
         },
         "mode": "lines",
         "opacity": 0.3,
         "showlegend": false,
         "type": "scatter3d",
         "x": [
          0,
          0.974405865902242
         ],
         "y": [
          0,
          -0.11977994503233448
         ],
         "z": [
          0,
          0.19022611088741956
         ]
        },
        {
         "line": {
          "color": "rgb(255, 105, 97)"
         },
         "mode": "lines",
         "opacity": 0.3,
         "showlegend": false,
         "type": "scatter3d",
         "x": [
          0,
          0.9759949043155917
         ],
         "y": [
          0,
          -0.12422650718503182
         ],
         "z": [
          0,
          0.17889025032853598
         ]
        },
        {
         "line": {
          "color": "rgb(255, 105, 97)"
         },
         "mode": "lines",
         "opacity": 0.3,
         "showlegend": false,
         "type": "scatter3d",
         "x": [
          0,
          0.9775478868722012
         ],
         "y": [
          0,
          -0.1273338730515883
         ],
         "z": [
          0,
          0.16788750294580038
         ]
        },
        {
         "line": {
          "color": "rgb(255, 105, 97)"
         },
         "mode": "lines",
         "opacity": 0.3,
         "showlegend": false,
         "type": "scatter3d",
         "x": [
          0,
          0.9790668666099106
         ],
         "y": [
          0,
          -0.1292847067681623
         ],
         "z": [
          0,
          0.15720539209111706
         ]
        },
        {
         "line": {
          "color": "rgb(255, 105, 97)"
         },
         "mode": "lines",
         "opacity": 0.3,
         "showlegend": false,
         "type": "scatter3d",
         "x": [
          0,
          0.9805542909244023
         ],
         "y": [
          0,
          -0.13020895521997425
         ],
         "z": [
          0,
          0.14682952880897412
         ]
        },
        {
         "line": {
          "color": "rgb(255, 105, 97)"
         },
         "mode": "lines",
         "opacity": 0.3,
         "showlegend": false,
         "type": "scatter3d",
         "x": [
          0,
          0.9820131716882766
         ],
         "y": [
          0,
          -0.13019811937260406
         ],
         "z": [
          0,
          0.13674275243159537
         ]
        },
        {
         "line": {
          "color": "rgb(255, 105, 97)"
         },
         "mode": "lines",
         "opacity": 0.3,
         "showlegend": false,
         "type": "scatter3d",
         "x": [
          0,
          0.983447359141926
         ],
         "y": [
          0,
          -0.12931224566387936
         ],
         "z": [
          0,
          0.12692373662217846
         ]
        },
        {
         "line": {
          "color": "rgb(255, 105, 97)"
         },
         "mode": "lines",
         "opacity": 0.3,
         "showlegend": false,
         "type": "scatter3d",
         "x": [
          0,
          0.9848620074470319
         ],
         "y": [
          0,
          -0.12758162288775676
         ],
         "z": [
          0,
          0.11734460272517272
         ]
        },
        {
         "line": {
          "color": "rgb(255, 105, 97)"
         },
         "mode": "lines",
         "opacity": 0.3,
         "showlegend": false,
         "type": "scatter3d",
         "x": [
          0,
          0.9862644229563172
         ],
         "y": [
          0,
          -0.12500285694502616
         ],
         "z": [
          0,
          0.10796654003080759
         ]
        },
        {
         "line": {
          "color": "rgb(255, 105, 97)"
         },
         "mode": "lines",
         "opacity": 0.3,
         "showlegend": false,
         "type": "scatter3d",
         "x": [
          0,
          0.9876657594483422
         ],
         "y": [
          0,
          -0.12152587803687126
         ],
         "z": [
          0,
          0.09873099098407195
         ]
        },
        {
         "line": {
          "color": "rgb(255, 105, 97)"
         },
         "mode": "lines",
         "opacity": 0.3,
         "showlegend": false,
         "type": "scatter3d",
         "x": [
          0,
          0.989084875843333
         ],
         "y": [
          0,
          -0.1170204911262034
         ],
         "z": [
          0,
          0.08953944959938372
         ]
        },
        {
         "line": {
          "color": "rgb(255, 105, 97)"
         },
         "mode": "lines",
         "opacity": 0.3,
         "showlegend": false,
         "type": "scatter3d",
         "x": [
          0,
          0.9905590511111292
         ],
         "y": [
          0,
          -0.11118100679835928
         ],
         "z": [
          0,
          0.08019694501115733
         ]
        },
        {
         "line": {
          "color": "rgb(255, 105, 97)"
         },
         "mode": "lines",
         "opacity": 0.3,
         "showlegend": false,
         "type": "scatter3d",
         "x": [
          0,
          0.9921867605764334
         ],
         "y": [
          0,
          -0.1031481623024
         ],
         "z": [
          0,
          0.07018467603744338
         ]
        },
        {
         "line": {
          "color": "rgb(255, 105, 97)"
         },
         "mode": "lines",
         "opacity": 0.3,
         "showlegend": false,
         "type": "scatter3d",
         "x": [
          0,
          0.9950547536867305
         ],
         "y": [
          0,
          -0.08358156890455774
         ],
         "z": [
          0,
          0.053667108221823
         ]
        },
        {
         "line": {
          "color": "rgb(255, 105, 97)"
         },
         "mode": "lines",
         "opacity": 0.3,
         "showlegend": false,
         "type": "scatter3d",
         "x": [
          0,
          0.9950547536867305
         ],
         "y": [
          0,
          -0.08358156890455774
         ],
         "z": [
          0,
          0.053667108221823
         ]
        },
        {
         "line": {
          "color": "rgb(255, 105, 97)"
         },
         "mode": "lines",
         "opacity": 0.3,
         "showlegend": false,
         "type": "scatter3d",
         "x": [
          0,
          0.996871650364834
         ],
         "y": [
          0,
          -0.06534518955671943
         ],
         "z": [
          0,
          0.04446255616458008
         ]
        },
        {
         "line": {
          "color": "rgb(255, 105, 97)"
         },
         "mode": "lines",
         "opacity": 0.3,
         "showlegend": false,
         "type": "scatter3d",
         "x": [
          0,
          0.9974124223998145
         ],
         "y": [
          0,
          -0.05830634407184348
         ],
         "z": [
          0,
          0.04205745930878056
         ]
        },
        {
         "line": {
          "color": "rgb(255, 105, 97)"
         },
         "mode": "lines",
         "opacity": 0.3,
         "showlegend": false,
         "type": "scatter3d",
         "x": [
          0,
          0.9977631603489642
         ],
         "y": [
          0,
          -0.05308970905235481
         ],
         "z": [
          0,
          0.04062214473884421
         ]
        },
        {
         "line": {
          "color": "rgb(255, 105, 97)"
         },
         "mode": "lines",
         "opacity": 0.3,
         "showlegend": false,
         "type": "scatter3d",
         "x": [
          0,
          0.998021676294657
         ],
         "y": [
          0,
          -0.048796610656766236
         ],
         "z": [
          0,
          0.039643718725856425
         ]
        },
        {
         "line": {
          "color": "rgb(255, 105, 97)"
         },
         "mode": "lines",
         "opacity": 0.3,
         "showlegend": false,
         "type": "scatter3d",
         "x": [
          0,
          0.9982245817941475
         ],
         "y": [
          0,
          -0.04507652574218313
         ],
         "z": [
          0,
          0.0389331623287094
         ]
        },
        {
         "line": {
          "color": "rgb(255, 105, 97)"
         },
         "mode": "lines",
         "opacity": 0.3,
         "showlegend": false,
         "type": "scatter3d",
         "x": [
          0,
          0.9983900643750867
         ],
         "y": [
          0,
          -0.04174776261946511
         ],
         "z": [
          0,
          0.03839796444316954
         ]
        },
        {
         "line": {
          "color": "rgb(255, 105, 97)"
         },
         "mode": "lines",
         "opacity": 0.3,
         "showlegend": false,
         "type": "scatter3d",
         "x": [
          0,
          0.9985286026422578
         ],
         "y": [
          0,
          -0.038700434262177556
         ],
         "z": [
          0,
          0.03798560376272717
         ]
        },
        {
         "line": {
          "color": "rgb(255, 105, 97)"
         },
         "mode": "lines",
         "opacity": 0.3,
         "showlegend": false,
         "type": "scatter3d",
         "x": [
          0,
          0.9986468242008412
         ],
         "y": [
          0,
          -0.035860743401103526
         ],
         "z": [
          0,
          0.037663345527108205
         ]
        },
        {
         "line": {
          "color": "rgb(255, 105, 97)"
         },
         "mode": "lines",
         "opacity": 0.3,
         "showlegend": false,
         "type": "scatter3d",
         "x": [
          0,
          0.9987492011074239
         ],
         "y": [
          0,
          -0.03317481287655101
         ],
         "z": [
          0,
          0.037409424987404
         ]
        },
        {
         "line": {
          "color": "rgb(255, 105, 97)"
         },
         "mode": "lines",
         "opacity": 0.3,
         "showlegend": false,
         "type": "scatter3d",
         "x": [
          0,
          0.998838898364858
         ],
         "y": [
          0,
          -0.030600168285484897
         ],
         "z": [
          0,
          0.03720866584784996
         ]
        },
        {
         "line": {
          "color": "rgb(255, 105, 97)"
         },
         "mode": "lines",
         "opacity": 0.3,
         "showlegend": false,
         "type": "scatter3d",
         "x": [
          0,
          0.9989182397098687
         ],
         "y": [
          0,
          -0.02810055300121383
         ],
         "z": [
          0,
          0.03705009171329105
         ]
        },
        {
         "line": {
          "color": "rgb(255, 105, 97)"
         },
         "mode": "lines",
         "opacity": 0.3,
         "showlegend": false,
         "type": "scatter3d",
         "x": [
          0,
          0.9989889817471538
         ],
         "y": [
          0,
          -0.02564214443141413
         ],
         "z": [
          0,
          0.036925530148438857
         ]
        },
        {
         "line": {
          "color": "rgb(255, 105, 97)"
         },
         "mode": "lines",
         "opacity": 0.3,
         "showlegend": false,
         "type": "scatter3d",
         "x": [
          0,
          0.9990524843208939
         ],
         "y": [
          0,
          -0.023190012005096326
         ],
         "z": [
          0,
          0.03682875120681685
         ]
        },
        {
         "line": {
          "color": "rgb(255, 105, 97)"
         },
         "mode": "lines",
         "opacity": 0.3,
         "showlegend": false,
         "type": "scatter3d",
         "x": [
          0,
          0.9991098211483397
         ],
         "y": [
          0,
          -0.020703664665205207
         ],
         "z": [
          0,
          0.03675491197599965
         ]
        },
        {
         "line": {
          "color": "rgb(255, 105, 97)"
         },
         "mode": "lines",
         "opacity": 0.3,
         "showlegend": false,
         "type": "scatter3d",
         "x": [
          0,
          0.9991618543059954
         ],
         "y": [
          0,
          -0.01812968010560764
         ],
         "z": [
          0,
          0.036700185273008945
         ]
        },
        {
         "line": {
          "color": "rgb(255, 105, 97)"
         },
         "mode": "lines",
         "opacity": 0.3,
         "showlegend": false,
         "type": "scatter3d",
         "x": [
          0,
          0.9992092859228291
         ],
         "y": [
          0,
          -0.015386262176041892
         ],
         "z": [
          0,
          0.036661503813130165
         ]
        },
        {
         "line": {
          "color": "rgb(255, 105, 97)"
         },
         "mode": "lines",
         "opacity": 0.3,
         "showlegend": false,
         "type": "scatter3d",
         "x": [
          0,
          0.9992526949935175
         ],
         "y": [
          0,
          -0.012321820354587672
         ],
         "z": [
          0,
          0.03663637934268916
         ]
        },
        {
         "line": {
          "color": "rgb(255, 105, 97)"
         },
         "mode": "lines",
         "opacity": 0.3,
         "showlegend": false,
         "type": "scatter3d",
         "x": [
          0,
          0.9992925641850561
         ],
         "y": [
          0,
          -0.008552411516454023
         ],
         "z": [
          0,
          0.03662277190094678
         ]
        },
        {
         "line": {
          "color": "rgb(255, 105, 97)"
         },
         "mode": "lines",
         "opacity": 0.3,
         "showlegend": false,
         "type": "scatter3d",
         "x": [
          0,
          0.999329299739067
         ],
         "y": [
          0,
          0
         ],
         "z": [
          0,
          0.036618993473686544
         ]
        }
       ],
       "layout": {
        "margin": {
         "b": 0,
         "l": 0,
         "r": 0,
         "t": 0
        },
        "scene": {
         "xaxis": {
          "title": "Z"
         },
         "yaxis": {
          "title": "Y"
         },
         "zaxis": {
          "title": "X"
         }
        }
       }
      },
      "text/html": [
       "<div id=\"bd827825-0554-4fe8-a727-31f230ed78b1\" style=\"height: 525px; width: 100%;\" class=\"plotly-graph-div\"></div><script type=\"text/javascript\">require([\"plotly\"], function(Plotly) { window.PLOTLYENV=window.PLOTLYENV || {};window.PLOTLYENV.BASE_URL=\"https://plot.ly\";Plotly.newPlot(\"bd827825-0554-4fe8-a727-31f230ed78b1\", [{\"type\": \"scatter3d\", \"x\": [-1.0, 1.0], \"y\": [0, 0], \"z\": [0, 0], \"mode\": \"lines\", \"showlegend\": false, \"line\": {\"color\": \"rgb(0,33,71)\", \"width\": 5}}, {\"type\": \"surface\", \"x\": [[-1.0, -1.0, -1.0, -1.0, -1.0, -1.0, -1.0, -1.0, -1.0, -1.0], [1.0, 1.0, 1.0, 1.0, 1.0, 1.0, 1.0, 1.0, 1.0, 1.0]], \"y\": [[0.0, 0.342020143325669, 0.6427876096865394, 0.8660254037844386, 0.984807753012208, 0.984807753012208, 0.8660254037844388, 0.6427876096865395, 0.342020143325669, 0.0], [0.0, 0.342020143325669, 0.6427876096865394, 0.8660254037844386, 0.984807753012208, 0.984807753012208, 0.8660254037844388, 0.6427876096865395, 0.342020143325669, 0.0]], \"z\": [[-1.0, -0.9396926207859083, -0.766044443118978, -0.5, -0.17364817766693036, 0.17364817766693036, 0.49999999999999983, 0.7660444431189779, 0.9396926207859083, 1.0], [-1.0, -0.9396926207859083, -0.766044443118978, -0.5, -0.17364817766693036, 0.17364817766693036, 0.49999999999999983, 0.7660444431189779, 0.9396926207859083, 1.0]], \"surfacecolor\": [1, 1], \"showscale\": false, \"opacity\": 0.4}, {\"type\": \"surface\", \"x\": [[-1.0, -1.0, -1.0, -1.0, -1.0, -1.0, -1.0, -1.0, -1.0, -1.0], [1.0, 1.0, 1.0, 1.0, 1.0, 1.0, 1.0, 1.0, 1.0, 1.0]], \"y\": [[-0.0, -0.342020143325669, -0.6427876096865394, -0.8660254037844386, -0.984807753012208, -0.984807753012208, -0.8660254037844388, -0.6427876096865395, -0.342020143325669, -0.0], [-0.0, -0.342020143325669, -0.6427876096865394, -0.8660254037844386, -0.984807753012208, -0.984807753012208, -0.8660254037844388, -0.6427876096865395, -0.342020143325669, -0.0]], \"z\": [[-1.0, -0.9396926207859083, -0.766044443118978, -0.5, -0.17364817766693036, 0.17364817766693036, 0.49999999999999983, 0.7660444431189779, 0.9396926207859083, 1.0], [-1.0, -0.9396926207859083, -0.766044443118978, -0.5, -0.17364817766693036, 0.17364817766693036, 0.49999999999999983, 0.7660444431189779, 0.9396926207859083, 1.0]], \"surfacecolor\": [1, 1], \"showscale\": false, \"opacity\": 0.4}, {\"type\": \"scatter3d\", \"x\": [0.0, 0.9950547536867305], \"y\": [0.0, 0.0], \"z\": [0.0, 0.09932792741943323], \"mode\": \"lines\", \"showlegend\": false, \"line\": {\"color\": \"rgb(255, 105, 97)\", \"width\": 7}}, {\"type\": \"scatter3d\", \"x\": [0.999329299739067, 0.9992925641850561, 0.9992526949935175, 0.9992092859228291, 0.9991618543059954, 0.9991098211483397, 0.9990524843208939, 0.9989889817471538, 0.9989182397098687, 0.998838898364858, 0.9987492011074239, 0.9986468242008412, 0.9985286026422578, 0.9983900643750867, 0.9982245817941475, 0.998021676294657, 0.9977631603489642, 0.9974124223998145, 0.996871650364834, 0.9950547536867305, 0.9950547536867305, 0.9921867605764334, 0.9905590511111292, 0.989084875843333, 0.9876657594483422, 0.9862644229563172, 0.9848620074470319, 0.983447359141926, 0.9820131716882766, 0.9805542909244023, 0.9790668666099106, 0.9775478868722012, 0.9759949043155917, 0.974405865902242, 0.9727790025803045, 0.9711127550688635, 0.9694057224453089, 0.9676566256221996, 0.9658642808403455, 0.9640275800758169, 0.9640275800758169, 0.9658642808403455, 0.9676566256221996, 0.9694057224453089, 0.9711127550688635, 0.9727790025803045, 0.974405865902242, 0.9759949043155917, 0.9775478868722012, 0.9790668666099106, 0.9805542909244023, 0.9820131716882766, 0.983447359141926, 0.9848620074470319, 0.9862644229563172, 0.9876657594483422, 0.989084875843333, 0.9905590511111292, 0.9921867605764334, 0.9950547536867305, 0.9950547536867305, 0.996871650364834, 0.9974124223998145, 0.9977631603489642, 0.998021676294657, 0.9982245817941475, 0.9983900643750867, 0.9985286026422578, 0.9986468242008412, 0.9987492011074239, 0.998838898364858, 0.9989182397098687, 0.9989889817471538, 0.9990524843208939, 0.9991098211483397, 0.9991618543059954, 0.9992092859228291, 0.9992526949935175, 0.9992925641850561, 0.999329299739067], \"y\": [0.0, 0.008552411516454023, 0.012321820354587672, 0.015386262176041892, 0.01812968010560764, 0.020703664665205207, 0.023190012005096326, 0.02564214443141413, 0.02810055300121383, 0.030600168285484897, 0.03317481287655101, 0.035860743401103526, 0.038700434262177556, 0.04174776261946511, 0.04507652574218313, 0.048796610656766236, 0.05308970905235481, 0.05830634407184348, 0.06534518955671943, 0.08358156890455774, 0.08358156890455774, 0.1031481623024, 0.11118100679835928, 0.1170204911262034, 0.12152587803687126, 0.12500285694502616, 0.12758162288775676, 0.12931224566387936, 0.13019811937260406, 0.13020895521997425, 0.1292847067681623, 0.1273338730515883, 0.12422650718503182, 0.11977994503233448, 0.11373169138103574, 0.10568544972937964, 0.09499089110753871, 0.08041913580766888, 0.058909886659820575, 0.0, 0.0, -0.058909886659820575, -0.08041913580766888, -0.09499089110753871, -0.10568544972937964, -0.11373169138103574, -0.11977994503233448, -0.12422650718503182, -0.1273338730515883, -0.1292847067681623, -0.13020895521997425, -0.13019811937260406, -0.12931224566387936, -0.12758162288775676, -0.12500285694502616, -0.12152587803687126, -0.1170204911262034, -0.11118100679835928, -0.1031481623024, -0.08358156890455774, -0.08358156890455774, -0.06534518955671943, -0.05830634407184348, -0.05308970905235481, -0.048796610656766236, -0.04507652574218313, -0.04174776261946511, -0.038700434262177556, -0.035860743401103526, -0.03317481287655101, -0.030600168285484897, -0.02810055300121383, -0.02564214443141413, -0.023190012005096326, -0.020703664665205207, -0.01812968010560764, -0.015386262176041892, -0.012321820354587672, -0.008552411516454023, 0.0], \"z\": [0.036618993473686544, 0.03662277190094678, 0.03663637934268916, 0.036661503813130165, 0.036700185273008945, 0.03675491197599965, 0.03682875120681685, 0.036925530148438857, 0.03705009171329105, 0.03720866584784996, 0.037409424987404, 0.037663345527108205, 0.03798560376272717, 0.03839796444316954, 0.0389331623287094, 0.039643718725856425, 0.04062214473884421, 0.04205745930878056, 0.04446255616458008, 0.053667108221823, 0.053667108221823, 0.07018467603744338, 0.08019694501115733, 0.08953944959938372, 0.09873099098407195, 0.10796654003080759, 0.11734460272517272, 0.12692373662217846, 0.13674275243159537, 0.14682952880897412, 0.15720539209111706, 0.16788750294580038, 0.17889025032853598, 0.19022611088741956, 0.2019062022684714, 0.21394065218667616, 0.2263388519386023, 0.23910963486527684, 0.2522614045994538, 0.26580222883407967, 0.26580222883407967, 0.2522614045994538, 0.23910963486527684, 0.2263388519386023, 0.21394065218667616, 0.2019062022684714, 0.19022611088741956, 0.17889025032853598, 0.16788750294580038, 0.15720539209111706, 0.14682952880897412, 0.13674275243159537, 0.12692373662217846, 0.11734460272517272, 0.10796654003080759, 0.09873099098407195, 0.08953944959938372, 0.08019694501115733, 0.07018467603744338, 0.053667108221823, 0.053667108221823, 0.04446255616458008, 0.04205745930878056, 0.04062214473884421, 0.039643718725856425, 0.0389331623287094, 0.03839796444316954, 0.03798560376272717, 0.037663345527108205, 0.037409424987404, 0.03720866584784996, 0.03705009171329105, 0.036925530148438857, 0.03682875120681685, 0.03675491197599965, 0.036700185273008945, 0.036661503813130165, 0.03663637934268916, 0.03662277190094678, 0.036618993473686544], \"mode\": \"lines\", \"showlegend\": false, \"line\": {\"color\": \"rgb(255, 105, 97)\", \"width\": 5}}, {\"type\": \"scatter3d\", \"x\": [0, 0.999329299739067], \"y\": [0, 0.0], \"z\": [0, 0.036618993473686544], \"opacity\": 0.3, \"mode\": \"lines\", \"showlegend\": false, \"line\": {\"color\": \"rgb(255, 105, 97)\"}}, {\"type\": \"scatter3d\", \"x\": [0, 0.9992925641850561], \"y\": [0, 0.008552411516454023], \"z\": [0, 0.03662277190094678], \"opacity\": 0.3, \"mode\": \"lines\", \"showlegend\": false, \"line\": {\"color\": \"rgb(255, 105, 97)\"}}, {\"type\": \"scatter3d\", \"x\": [0, 0.9992526949935175], \"y\": [0, 0.012321820354587672], \"z\": [0, 0.03663637934268916], \"opacity\": 0.3, \"mode\": \"lines\", \"showlegend\": false, \"line\": {\"color\": \"rgb(255, 105, 97)\"}}, {\"type\": \"scatter3d\", \"x\": [0, 0.9992092859228291], \"y\": [0, 0.015386262176041892], \"z\": [0, 0.036661503813130165], \"opacity\": 0.3, \"mode\": \"lines\", \"showlegend\": false, \"line\": {\"color\": \"rgb(255, 105, 97)\"}}, {\"type\": \"scatter3d\", \"x\": [0, 0.9991618543059954], \"y\": [0, 0.01812968010560764], \"z\": [0, 0.036700185273008945], \"opacity\": 0.3, \"mode\": \"lines\", \"showlegend\": false, \"line\": {\"color\": \"rgb(255, 105, 97)\"}}, {\"type\": \"scatter3d\", \"x\": [0, 0.9991098211483397], \"y\": [0, 0.020703664665205207], \"z\": [0, 0.03675491197599965], \"opacity\": 0.3, \"mode\": \"lines\", \"showlegend\": false, \"line\": {\"color\": \"rgb(255, 105, 97)\"}}, {\"type\": \"scatter3d\", \"x\": [0, 0.9990524843208939], \"y\": [0, 0.023190012005096326], \"z\": [0, 0.03682875120681685], \"opacity\": 0.3, \"mode\": \"lines\", \"showlegend\": false, \"line\": {\"color\": \"rgb(255, 105, 97)\"}}, {\"type\": \"scatter3d\", \"x\": [0, 0.9989889817471538], \"y\": [0, 0.02564214443141413], \"z\": [0, 0.036925530148438857], \"opacity\": 0.3, \"mode\": \"lines\", \"showlegend\": false, \"line\": {\"color\": \"rgb(255, 105, 97)\"}}, {\"type\": \"scatter3d\", \"x\": [0, 0.9989182397098687], \"y\": [0, 0.02810055300121383], \"z\": [0, 0.03705009171329105], \"opacity\": 0.3, \"mode\": \"lines\", \"showlegend\": false, \"line\": {\"color\": \"rgb(255, 105, 97)\"}}, {\"type\": \"scatter3d\", \"x\": [0, 0.998838898364858], \"y\": [0, 0.030600168285484897], \"z\": [0, 0.03720866584784996], \"opacity\": 0.3, \"mode\": \"lines\", \"showlegend\": false, \"line\": {\"color\": \"rgb(255, 105, 97)\"}}, {\"type\": \"scatter3d\", \"x\": [0, 0.9987492011074239], \"y\": [0, 0.03317481287655101], \"z\": [0, 0.037409424987404], \"opacity\": 0.3, \"mode\": \"lines\", \"showlegend\": false, \"line\": {\"color\": \"rgb(255, 105, 97)\"}}, {\"type\": \"scatter3d\", \"x\": [0, 0.9986468242008412], \"y\": [0, 0.035860743401103526], \"z\": [0, 0.037663345527108205], \"opacity\": 0.3, \"mode\": \"lines\", \"showlegend\": false, \"line\": {\"color\": \"rgb(255, 105, 97)\"}}, {\"type\": \"scatter3d\", \"x\": [0, 0.9985286026422578], \"y\": [0, 0.038700434262177556], \"z\": [0, 0.03798560376272717], \"opacity\": 0.3, \"mode\": \"lines\", \"showlegend\": false, \"line\": {\"color\": \"rgb(255, 105, 97)\"}}, {\"type\": \"scatter3d\", \"x\": [0, 0.9983900643750867], \"y\": [0, 0.04174776261946511], \"z\": [0, 0.03839796444316954], \"opacity\": 0.3, \"mode\": \"lines\", \"showlegend\": false, \"line\": {\"color\": \"rgb(255, 105, 97)\"}}, {\"type\": \"scatter3d\", \"x\": [0, 0.9982245817941475], \"y\": [0, 0.04507652574218313], \"z\": [0, 0.0389331623287094], \"opacity\": 0.3, \"mode\": \"lines\", \"showlegend\": false, \"line\": {\"color\": \"rgb(255, 105, 97)\"}}, {\"type\": \"scatter3d\", \"x\": [0, 0.998021676294657], \"y\": [0, 0.048796610656766236], \"z\": [0, 0.039643718725856425], \"opacity\": 0.3, \"mode\": \"lines\", \"showlegend\": false, \"line\": {\"color\": \"rgb(255, 105, 97)\"}}, {\"type\": \"scatter3d\", \"x\": [0, 0.9977631603489642], \"y\": [0, 0.05308970905235481], \"z\": [0, 0.04062214473884421], \"opacity\": 0.3, \"mode\": \"lines\", \"showlegend\": false, \"line\": {\"color\": \"rgb(255, 105, 97)\"}}, {\"type\": \"scatter3d\", \"x\": [0, 0.9974124223998145], \"y\": [0, 0.05830634407184348], \"z\": [0, 0.04205745930878056], \"opacity\": 0.3, \"mode\": \"lines\", \"showlegend\": false, \"line\": {\"color\": \"rgb(255, 105, 97)\"}}, {\"type\": \"scatter3d\", \"x\": [0, 0.996871650364834], \"y\": [0, 0.06534518955671943], \"z\": [0, 0.04446255616458008], \"opacity\": 0.3, \"mode\": \"lines\", \"showlegend\": false, \"line\": {\"color\": \"rgb(255, 105, 97)\"}}, {\"type\": \"scatter3d\", \"x\": [0, 0.9950547536867305], \"y\": [0, 0.08358156890455774], \"z\": [0, 0.053667108221823], \"opacity\": 0.3, \"mode\": \"lines\", \"showlegend\": false, \"line\": {\"color\": \"rgb(255, 105, 97)\"}}, {\"type\": \"scatter3d\", \"x\": [0, 0.9950547536867305], \"y\": [0, 0.08358156890455774], \"z\": [0, 0.053667108221823], \"opacity\": 0.3, \"mode\": \"lines\", \"showlegend\": false, \"line\": {\"color\": \"rgb(255, 105, 97)\"}}, {\"type\": \"scatter3d\", \"x\": [0, 0.9921867605764334], \"y\": [0, 0.1031481623024], \"z\": [0, 0.07018467603744338], \"opacity\": 0.3, \"mode\": \"lines\", \"showlegend\": false, \"line\": {\"color\": \"rgb(255, 105, 97)\"}}, {\"type\": \"scatter3d\", \"x\": [0, 0.9905590511111292], \"y\": [0, 0.11118100679835928], \"z\": [0, 0.08019694501115733], \"opacity\": 0.3, \"mode\": \"lines\", \"showlegend\": false, \"line\": {\"color\": \"rgb(255, 105, 97)\"}}, {\"type\": \"scatter3d\", \"x\": [0, 0.989084875843333], \"y\": [0, 0.1170204911262034], \"z\": [0, 0.08953944959938372], \"opacity\": 0.3, \"mode\": \"lines\", \"showlegend\": false, \"line\": {\"color\": \"rgb(255, 105, 97)\"}}, {\"type\": \"scatter3d\", \"x\": [0, 0.9876657594483422], \"y\": [0, 0.12152587803687126], \"z\": [0, 0.09873099098407195], \"opacity\": 0.3, \"mode\": \"lines\", \"showlegend\": false, \"line\": {\"color\": \"rgb(255, 105, 97)\"}}, {\"type\": \"scatter3d\", \"x\": [0, 0.9862644229563172], \"y\": [0, 0.12500285694502616], \"z\": [0, 0.10796654003080759], \"opacity\": 0.3, \"mode\": \"lines\", \"showlegend\": false, \"line\": {\"color\": \"rgb(255, 105, 97)\"}}, {\"type\": \"scatter3d\", \"x\": [0, 0.9848620074470319], \"y\": [0, 0.12758162288775676], \"z\": [0, 0.11734460272517272], \"opacity\": 0.3, \"mode\": \"lines\", \"showlegend\": false, \"line\": {\"color\": \"rgb(255, 105, 97)\"}}, {\"type\": \"scatter3d\", \"x\": [0, 0.983447359141926], \"y\": [0, 0.12931224566387936], \"z\": [0, 0.12692373662217846], \"opacity\": 0.3, \"mode\": \"lines\", \"showlegend\": false, \"line\": {\"color\": \"rgb(255, 105, 97)\"}}, {\"type\": \"scatter3d\", \"x\": [0, 0.9820131716882766], \"y\": [0, 0.13019811937260406], \"z\": [0, 0.13674275243159537], \"opacity\": 0.3, \"mode\": \"lines\", \"showlegend\": false, \"line\": {\"color\": \"rgb(255, 105, 97)\"}}, {\"type\": \"scatter3d\", \"x\": [0, 0.9805542909244023], \"y\": [0, 0.13020895521997425], \"z\": [0, 0.14682952880897412], \"opacity\": 0.3, \"mode\": \"lines\", \"showlegend\": false, \"line\": {\"color\": \"rgb(255, 105, 97)\"}}, {\"type\": \"scatter3d\", \"x\": [0, 0.9790668666099106], \"y\": [0, 0.1292847067681623], \"z\": [0, 0.15720539209111706], \"opacity\": 0.3, \"mode\": \"lines\", \"showlegend\": false, \"line\": {\"color\": \"rgb(255, 105, 97)\"}}, {\"type\": \"scatter3d\", \"x\": [0, 0.9775478868722012], \"y\": [0, 0.1273338730515883], \"z\": [0, 0.16788750294580038], \"opacity\": 0.3, \"mode\": \"lines\", \"showlegend\": false, \"line\": {\"color\": \"rgb(255, 105, 97)\"}}, {\"type\": \"scatter3d\", \"x\": [0, 0.9759949043155917], \"y\": [0, 0.12422650718503182], \"z\": [0, 0.17889025032853598], \"opacity\": 0.3, \"mode\": \"lines\", \"showlegend\": false, \"line\": {\"color\": \"rgb(255, 105, 97)\"}}, {\"type\": \"scatter3d\", \"x\": [0, 0.974405865902242], \"y\": [0, 0.11977994503233448], \"z\": [0, 0.19022611088741956], \"opacity\": 0.3, \"mode\": \"lines\", \"showlegend\": false, \"line\": {\"color\": \"rgb(255, 105, 97)\"}}, {\"type\": \"scatter3d\", \"x\": [0, 0.9727790025803045], \"y\": [0, 0.11373169138103574], \"z\": [0, 0.2019062022684714], \"opacity\": 0.3, \"mode\": \"lines\", \"showlegend\": false, \"line\": {\"color\": \"rgb(255, 105, 97)\"}}, {\"type\": \"scatter3d\", \"x\": [0, 0.9711127550688635], \"y\": [0, 0.10568544972937964], \"z\": [0, 0.21394065218667616], \"opacity\": 0.3, \"mode\": \"lines\", \"showlegend\": false, \"line\": {\"color\": \"rgb(255, 105, 97)\"}}, {\"type\": \"scatter3d\", \"x\": [0, 0.9694057224453089], \"y\": [0, 0.09499089110753871], \"z\": [0, 0.2263388519386023], \"opacity\": 0.3, \"mode\": \"lines\", \"showlegend\": false, \"line\": {\"color\": \"rgb(255, 105, 97)\"}}, {\"type\": \"scatter3d\", \"x\": [0, 0.9676566256221996], \"y\": [0, 0.08041913580766888], \"z\": [0, 0.23910963486527684], \"opacity\": 0.3, \"mode\": \"lines\", \"showlegend\": false, \"line\": {\"color\": \"rgb(255, 105, 97)\"}}, {\"type\": \"scatter3d\", \"x\": [0, 0.9658642808403455], \"y\": [0, 0.058909886659820575], \"z\": [0, 0.2522614045994538], \"opacity\": 0.3, \"mode\": \"lines\", \"showlegend\": false, \"line\": {\"color\": \"rgb(255, 105, 97)\"}}, {\"type\": \"scatter3d\", \"x\": [0, 0.9640275800758169], \"y\": [0, 0.0], \"z\": [0, 0.26580222883407967], \"opacity\": 0.3, \"mode\": \"lines\", \"showlegend\": false, \"line\": {\"color\": \"rgb(255, 105, 97)\"}}, {\"type\": \"scatter3d\", \"x\": [0, 0.9640275800758169], \"y\": [0, 0.0], \"z\": [0, 0.26580222883407967], \"opacity\": 0.3, \"mode\": \"lines\", \"showlegend\": false, \"line\": {\"color\": \"rgb(255, 105, 97)\"}}, {\"type\": \"scatter3d\", \"x\": [0, 0.9658642808403455], \"y\": [0, -0.058909886659820575], \"z\": [0, 0.2522614045994538], \"opacity\": 0.3, \"mode\": \"lines\", \"showlegend\": false, \"line\": {\"color\": \"rgb(255, 105, 97)\"}}, {\"type\": \"scatter3d\", \"x\": [0, 0.9676566256221996], \"y\": [0, -0.08041913580766888], \"z\": [0, 0.23910963486527684], \"opacity\": 0.3, \"mode\": \"lines\", \"showlegend\": false, \"line\": {\"color\": \"rgb(255, 105, 97)\"}}, {\"type\": \"scatter3d\", \"x\": [0, 0.9694057224453089], \"y\": [0, -0.09499089110753871], \"z\": [0, 0.2263388519386023], \"opacity\": 0.3, \"mode\": \"lines\", \"showlegend\": false, \"line\": {\"color\": \"rgb(255, 105, 97)\"}}, {\"type\": \"scatter3d\", \"x\": [0, 0.9711127550688635], \"y\": [0, -0.10568544972937964], \"z\": [0, 0.21394065218667616], \"opacity\": 0.3, \"mode\": \"lines\", \"showlegend\": false, \"line\": {\"color\": \"rgb(255, 105, 97)\"}}, {\"type\": \"scatter3d\", \"x\": [0, 0.9727790025803045], \"y\": [0, -0.11373169138103574], \"z\": [0, 0.2019062022684714], \"opacity\": 0.3, \"mode\": \"lines\", \"showlegend\": false, \"line\": {\"color\": \"rgb(255, 105, 97)\"}}, {\"type\": \"scatter3d\", \"x\": [0, 0.974405865902242], \"y\": [0, -0.11977994503233448], \"z\": [0, 0.19022611088741956], \"opacity\": 0.3, \"mode\": \"lines\", \"showlegend\": false, \"line\": {\"color\": \"rgb(255, 105, 97)\"}}, {\"type\": \"scatter3d\", \"x\": [0, 0.9759949043155917], \"y\": [0, -0.12422650718503182], \"z\": [0, 0.17889025032853598], \"opacity\": 0.3, \"mode\": \"lines\", \"showlegend\": false, \"line\": {\"color\": \"rgb(255, 105, 97)\"}}, {\"type\": \"scatter3d\", \"x\": [0, 0.9775478868722012], \"y\": [0, -0.1273338730515883], \"z\": [0, 0.16788750294580038], \"opacity\": 0.3, \"mode\": \"lines\", \"showlegend\": false, \"line\": {\"color\": \"rgb(255, 105, 97)\"}}, {\"type\": \"scatter3d\", \"x\": [0, 0.9790668666099106], \"y\": [0, -0.1292847067681623], \"z\": [0, 0.15720539209111706], \"opacity\": 0.3, \"mode\": \"lines\", \"showlegend\": false, \"line\": {\"color\": \"rgb(255, 105, 97)\"}}, {\"type\": \"scatter3d\", \"x\": [0, 0.9805542909244023], \"y\": [0, -0.13020895521997425], \"z\": [0, 0.14682952880897412], \"opacity\": 0.3, \"mode\": \"lines\", \"showlegend\": false, \"line\": {\"color\": \"rgb(255, 105, 97)\"}}, {\"type\": \"scatter3d\", \"x\": [0, 0.9820131716882766], \"y\": [0, -0.13019811937260406], \"z\": [0, 0.13674275243159537], \"opacity\": 0.3, \"mode\": \"lines\", \"showlegend\": false, \"line\": {\"color\": \"rgb(255, 105, 97)\"}}, {\"type\": \"scatter3d\", \"x\": [0, 0.983447359141926], \"y\": [0, -0.12931224566387936], \"z\": [0, 0.12692373662217846], \"opacity\": 0.3, \"mode\": \"lines\", \"showlegend\": false, \"line\": {\"color\": \"rgb(255, 105, 97)\"}}, {\"type\": \"scatter3d\", \"x\": [0, 0.9848620074470319], \"y\": [0, -0.12758162288775676], \"z\": [0, 0.11734460272517272], \"opacity\": 0.3, \"mode\": \"lines\", \"showlegend\": false, \"line\": {\"color\": \"rgb(255, 105, 97)\"}}, {\"type\": \"scatter3d\", \"x\": [0, 0.9862644229563172], \"y\": [0, -0.12500285694502616], \"z\": [0, 0.10796654003080759], \"opacity\": 0.3, \"mode\": \"lines\", \"showlegend\": false, \"line\": {\"color\": \"rgb(255, 105, 97)\"}}, {\"type\": \"scatter3d\", \"x\": [0, 0.9876657594483422], \"y\": [0, -0.12152587803687126], \"z\": [0, 0.09873099098407195], \"opacity\": 0.3, \"mode\": \"lines\", \"showlegend\": false, \"line\": {\"color\": \"rgb(255, 105, 97)\"}}, {\"type\": \"scatter3d\", \"x\": [0, 0.989084875843333], \"y\": [0, -0.1170204911262034], \"z\": [0, 0.08953944959938372], \"opacity\": 0.3, \"mode\": \"lines\", \"showlegend\": false, \"line\": {\"color\": \"rgb(255, 105, 97)\"}}, {\"type\": \"scatter3d\", \"x\": [0, 0.9905590511111292], \"y\": [0, -0.11118100679835928], \"z\": [0, 0.08019694501115733], \"opacity\": 0.3, \"mode\": \"lines\", \"showlegend\": false, \"line\": {\"color\": \"rgb(255, 105, 97)\"}}, {\"type\": \"scatter3d\", \"x\": [0, 0.9921867605764334], \"y\": [0, -0.1031481623024], \"z\": [0, 0.07018467603744338], \"opacity\": 0.3, \"mode\": \"lines\", \"showlegend\": false, \"line\": {\"color\": \"rgb(255, 105, 97)\"}}, {\"type\": \"scatter3d\", \"x\": [0, 0.9950547536867305], \"y\": [0, -0.08358156890455774], \"z\": [0, 0.053667108221823], \"opacity\": 0.3, \"mode\": \"lines\", \"showlegend\": false, \"line\": {\"color\": \"rgb(255, 105, 97)\"}}, {\"type\": \"scatter3d\", \"x\": [0, 0.9950547536867305], \"y\": [0, -0.08358156890455774], \"z\": [0, 0.053667108221823], \"opacity\": 0.3, \"mode\": \"lines\", \"showlegend\": false, \"line\": {\"color\": \"rgb(255, 105, 97)\"}}, {\"type\": \"scatter3d\", \"x\": [0, 0.996871650364834], \"y\": [0, -0.06534518955671943], \"z\": [0, 0.04446255616458008], \"opacity\": 0.3, \"mode\": \"lines\", \"showlegend\": false, \"line\": {\"color\": \"rgb(255, 105, 97)\"}}, {\"type\": \"scatter3d\", \"x\": [0, 0.9974124223998145], \"y\": [0, -0.05830634407184348], \"z\": [0, 0.04205745930878056], \"opacity\": 0.3, \"mode\": \"lines\", \"showlegend\": false, \"line\": {\"color\": \"rgb(255, 105, 97)\"}}, {\"type\": \"scatter3d\", \"x\": [0, 0.9977631603489642], \"y\": [0, -0.05308970905235481], \"z\": [0, 0.04062214473884421], \"opacity\": 0.3, \"mode\": \"lines\", \"showlegend\": false, \"line\": {\"color\": \"rgb(255, 105, 97)\"}}, {\"type\": \"scatter3d\", \"x\": [0, 0.998021676294657], \"y\": [0, -0.048796610656766236], \"z\": [0, 0.039643718725856425], \"opacity\": 0.3, \"mode\": \"lines\", \"showlegend\": false, \"line\": {\"color\": \"rgb(255, 105, 97)\"}}, {\"type\": \"scatter3d\", \"x\": [0, 0.9982245817941475], \"y\": [0, -0.04507652574218313], \"z\": [0, 0.0389331623287094], \"opacity\": 0.3, \"mode\": \"lines\", \"showlegend\": false, \"line\": {\"color\": \"rgb(255, 105, 97)\"}}, {\"type\": \"scatter3d\", \"x\": [0, 0.9983900643750867], \"y\": [0, -0.04174776261946511], \"z\": [0, 0.03839796444316954], \"opacity\": 0.3, \"mode\": \"lines\", \"showlegend\": false, \"line\": {\"color\": \"rgb(255, 105, 97)\"}}, {\"type\": \"scatter3d\", \"x\": [0, 0.9985286026422578], \"y\": [0, -0.038700434262177556], \"z\": [0, 0.03798560376272717], \"opacity\": 0.3, \"mode\": \"lines\", \"showlegend\": false, \"line\": {\"color\": \"rgb(255, 105, 97)\"}}, {\"type\": \"scatter3d\", \"x\": [0, 0.9986468242008412], \"y\": [0, -0.035860743401103526], \"z\": [0, 0.037663345527108205], \"opacity\": 0.3, \"mode\": \"lines\", \"showlegend\": false, \"line\": {\"color\": \"rgb(255, 105, 97)\"}}, {\"type\": \"scatter3d\", \"x\": [0, 0.9987492011074239], \"y\": [0, -0.03317481287655101], \"z\": [0, 0.037409424987404], \"opacity\": 0.3, \"mode\": \"lines\", \"showlegend\": false, \"line\": {\"color\": \"rgb(255, 105, 97)\"}}, {\"type\": \"scatter3d\", \"x\": [0, 0.998838898364858], \"y\": [0, -0.030600168285484897], \"z\": [0, 0.03720866584784996], \"opacity\": 0.3, \"mode\": \"lines\", \"showlegend\": false, \"line\": {\"color\": \"rgb(255, 105, 97)\"}}, {\"type\": \"scatter3d\", \"x\": [0, 0.9989182397098687], \"y\": [0, -0.02810055300121383], \"z\": [0, 0.03705009171329105], \"opacity\": 0.3, \"mode\": \"lines\", \"showlegend\": false, \"line\": {\"color\": \"rgb(255, 105, 97)\"}}, {\"type\": \"scatter3d\", \"x\": [0, 0.9989889817471538], \"y\": [0, -0.02564214443141413], \"z\": [0, 0.036925530148438857], \"opacity\": 0.3, \"mode\": \"lines\", \"showlegend\": false, \"line\": {\"color\": \"rgb(255, 105, 97)\"}}, {\"type\": \"scatter3d\", \"x\": [0, 0.9990524843208939], \"y\": [0, -0.023190012005096326], \"z\": [0, 0.03682875120681685], \"opacity\": 0.3, \"mode\": \"lines\", \"showlegend\": false, \"line\": {\"color\": \"rgb(255, 105, 97)\"}}, {\"type\": \"scatter3d\", \"x\": [0, 0.9991098211483397], \"y\": [0, -0.020703664665205207], \"z\": [0, 0.03675491197599965], \"opacity\": 0.3, \"mode\": \"lines\", \"showlegend\": false, \"line\": {\"color\": \"rgb(255, 105, 97)\"}}, {\"type\": \"scatter3d\", \"x\": [0, 0.9991618543059954], \"y\": [0, -0.01812968010560764], \"z\": [0, 0.036700185273008945], \"opacity\": 0.3, \"mode\": \"lines\", \"showlegend\": false, \"line\": {\"color\": \"rgb(255, 105, 97)\"}}, {\"type\": \"scatter3d\", \"x\": [0, 0.9992092859228291], \"y\": [0, -0.015386262176041892], \"z\": [0, 0.036661503813130165], \"opacity\": 0.3, \"mode\": \"lines\", \"showlegend\": false, \"line\": {\"color\": \"rgb(255, 105, 97)\"}}, {\"type\": \"scatter3d\", \"x\": [0, 0.9992526949935175], \"y\": [0, -0.012321820354587672], \"z\": [0, 0.03663637934268916], \"opacity\": 0.3, \"mode\": \"lines\", \"showlegend\": false, \"line\": {\"color\": \"rgb(255, 105, 97)\"}}, {\"type\": \"scatter3d\", \"x\": [0, 0.9992925641850561], \"y\": [0, -0.008552411516454023], \"z\": [0, 0.03662277190094678], \"opacity\": 0.3, \"mode\": \"lines\", \"showlegend\": false, \"line\": {\"color\": \"rgb(255, 105, 97)\"}}, {\"type\": \"scatter3d\", \"x\": [0, 0.999329299739067], \"y\": [0, 0.0], \"z\": [0, 0.036618993473686544], \"opacity\": 0.3, \"mode\": \"lines\", \"showlegend\": false, \"line\": {\"color\": \"rgb(255, 105, 97)\"}}], {\"margin\": {\"l\": 0, \"r\": 0, \"b\": 0, \"t\": 0}, \"scene\": {\"xaxis\": {\"title\": \"Z\"}, \"yaxis\": {\"title\": \"Y\"}, \"zaxis\": {\"title\": \"X\"}}}, {\"showLink\": true, \"linkText\": \"Export to plot.ly\"})});</script>"
      ],
      "text/vnd.plotly.v1+html": [
       "<div id=\"bd827825-0554-4fe8-a727-31f230ed78b1\" style=\"height: 525px; width: 100%;\" class=\"plotly-graph-div\"></div><script type=\"text/javascript\">require([\"plotly\"], function(Plotly) { window.PLOTLYENV=window.PLOTLYENV || {};window.PLOTLYENV.BASE_URL=\"https://plot.ly\";Plotly.newPlot(\"bd827825-0554-4fe8-a727-31f230ed78b1\", [{\"type\": \"scatter3d\", \"x\": [-1.0, 1.0], \"y\": [0, 0], \"z\": [0, 0], \"mode\": \"lines\", \"showlegend\": false, \"line\": {\"color\": \"rgb(0,33,71)\", \"width\": 5}}, {\"type\": \"surface\", \"x\": [[-1.0, -1.0, -1.0, -1.0, -1.0, -1.0, -1.0, -1.0, -1.0, -1.0], [1.0, 1.0, 1.0, 1.0, 1.0, 1.0, 1.0, 1.0, 1.0, 1.0]], \"y\": [[0.0, 0.342020143325669, 0.6427876096865394, 0.8660254037844386, 0.984807753012208, 0.984807753012208, 0.8660254037844388, 0.6427876096865395, 0.342020143325669, 0.0], [0.0, 0.342020143325669, 0.6427876096865394, 0.8660254037844386, 0.984807753012208, 0.984807753012208, 0.8660254037844388, 0.6427876096865395, 0.342020143325669, 0.0]], \"z\": [[-1.0, -0.9396926207859083, -0.766044443118978, -0.5, -0.17364817766693036, 0.17364817766693036, 0.49999999999999983, 0.7660444431189779, 0.9396926207859083, 1.0], [-1.0, -0.9396926207859083, -0.766044443118978, -0.5, -0.17364817766693036, 0.17364817766693036, 0.49999999999999983, 0.7660444431189779, 0.9396926207859083, 1.0]], \"surfacecolor\": [1, 1], \"showscale\": false, \"opacity\": 0.4}, {\"type\": \"surface\", \"x\": [[-1.0, -1.0, -1.0, -1.0, -1.0, -1.0, -1.0, -1.0, -1.0, -1.0], [1.0, 1.0, 1.0, 1.0, 1.0, 1.0, 1.0, 1.0, 1.0, 1.0]], \"y\": [[-0.0, -0.342020143325669, -0.6427876096865394, -0.8660254037844386, -0.984807753012208, -0.984807753012208, -0.8660254037844388, -0.6427876096865395, -0.342020143325669, -0.0], [-0.0, -0.342020143325669, -0.6427876096865394, -0.8660254037844386, -0.984807753012208, -0.984807753012208, -0.8660254037844388, -0.6427876096865395, -0.342020143325669, -0.0]], \"z\": [[-1.0, -0.9396926207859083, -0.766044443118978, -0.5, -0.17364817766693036, 0.17364817766693036, 0.49999999999999983, 0.7660444431189779, 0.9396926207859083, 1.0], [-1.0, -0.9396926207859083, -0.766044443118978, -0.5, -0.17364817766693036, 0.17364817766693036, 0.49999999999999983, 0.7660444431189779, 0.9396926207859083, 1.0]], \"surfacecolor\": [1, 1], \"showscale\": false, \"opacity\": 0.4}, {\"type\": \"scatter3d\", \"x\": [0.0, 0.9950547536867305], \"y\": [0.0, 0.0], \"z\": [0.0, 0.09932792741943323], \"mode\": \"lines\", \"showlegend\": false, \"line\": {\"color\": \"rgb(255, 105, 97)\", \"width\": 7}}, {\"type\": \"scatter3d\", \"x\": [0.999329299739067, 0.9992925641850561, 0.9992526949935175, 0.9992092859228291, 0.9991618543059954, 0.9991098211483397, 0.9990524843208939, 0.9989889817471538, 0.9989182397098687, 0.998838898364858, 0.9987492011074239, 0.9986468242008412, 0.9985286026422578, 0.9983900643750867, 0.9982245817941475, 0.998021676294657, 0.9977631603489642, 0.9974124223998145, 0.996871650364834, 0.9950547536867305, 0.9950547536867305, 0.9921867605764334, 0.9905590511111292, 0.989084875843333, 0.9876657594483422, 0.9862644229563172, 0.9848620074470319, 0.983447359141926, 0.9820131716882766, 0.9805542909244023, 0.9790668666099106, 0.9775478868722012, 0.9759949043155917, 0.974405865902242, 0.9727790025803045, 0.9711127550688635, 0.9694057224453089, 0.9676566256221996, 0.9658642808403455, 0.9640275800758169, 0.9640275800758169, 0.9658642808403455, 0.9676566256221996, 0.9694057224453089, 0.9711127550688635, 0.9727790025803045, 0.974405865902242, 0.9759949043155917, 0.9775478868722012, 0.9790668666099106, 0.9805542909244023, 0.9820131716882766, 0.983447359141926, 0.9848620074470319, 0.9862644229563172, 0.9876657594483422, 0.989084875843333, 0.9905590511111292, 0.9921867605764334, 0.9950547536867305, 0.9950547536867305, 0.996871650364834, 0.9974124223998145, 0.9977631603489642, 0.998021676294657, 0.9982245817941475, 0.9983900643750867, 0.9985286026422578, 0.9986468242008412, 0.9987492011074239, 0.998838898364858, 0.9989182397098687, 0.9989889817471538, 0.9990524843208939, 0.9991098211483397, 0.9991618543059954, 0.9992092859228291, 0.9992526949935175, 0.9992925641850561, 0.999329299739067], \"y\": [0.0, 0.008552411516454023, 0.012321820354587672, 0.015386262176041892, 0.01812968010560764, 0.020703664665205207, 0.023190012005096326, 0.02564214443141413, 0.02810055300121383, 0.030600168285484897, 0.03317481287655101, 0.035860743401103526, 0.038700434262177556, 0.04174776261946511, 0.04507652574218313, 0.048796610656766236, 0.05308970905235481, 0.05830634407184348, 0.06534518955671943, 0.08358156890455774, 0.08358156890455774, 0.1031481623024, 0.11118100679835928, 0.1170204911262034, 0.12152587803687126, 0.12500285694502616, 0.12758162288775676, 0.12931224566387936, 0.13019811937260406, 0.13020895521997425, 0.1292847067681623, 0.1273338730515883, 0.12422650718503182, 0.11977994503233448, 0.11373169138103574, 0.10568544972937964, 0.09499089110753871, 0.08041913580766888, 0.058909886659820575, 0.0, 0.0, -0.058909886659820575, -0.08041913580766888, -0.09499089110753871, -0.10568544972937964, -0.11373169138103574, -0.11977994503233448, -0.12422650718503182, -0.1273338730515883, -0.1292847067681623, -0.13020895521997425, -0.13019811937260406, -0.12931224566387936, -0.12758162288775676, -0.12500285694502616, -0.12152587803687126, -0.1170204911262034, -0.11118100679835928, -0.1031481623024, -0.08358156890455774, -0.08358156890455774, -0.06534518955671943, -0.05830634407184348, -0.05308970905235481, -0.048796610656766236, -0.04507652574218313, -0.04174776261946511, -0.038700434262177556, -0.035860743401103526, -0.03317481287655101, -0.030600168285484897, -0.02810055300121383, -0.02564214443141413, -0.023190012005096326, -0.020703664665205207, -0.01812968010560764, -0.015386262176041892, -0.012321820354587672, -0.008552411516454023, 0.0], \"z\": [0.036618993473686544, 0.03662277190094678, 0.03663637934268916, 0.036661503813130165, 0.036700185273008945, 0.03675491197599965, 0.03682875120681685, 0.036925530148438857, 0.03705009171329105, 0.03720866584784996, 0.037409424987404, 0.037663345527108205, 0.03798560376272717, 0.03839796444316954, 0.0389331623287094, 0.039643718725856425, 0.04062214473884421, 0.04205745930878056, 0.04446255616458008, 0.053667108221823, 0.053667108221823, 0.07018467603744338, 0.08019694501115733, 0.08953944959938372, 0.09873099098407195, 0.10796654003080759, 0.11734460272517272, 0.12692373662217846, 0.13674275243159537, 0.14682952880897412, 0.15720539209111706, 0.16788750294580038, 0.17889025032853598, 0.19022611088741956, 0.2019062022684714, 0.21394065218667616, 0.2263388519386023, 0.23910963486527684, 0.2522614045994538, 0.26580222883407967, 0.26580222883407967, 0.2522614045994538, 0.23910963486527684, 0.2263388519386023, 0.21394065218667616, 0.2019062022684714, 0.19022611088741956, 0.17889025032853598, 0.16788750294580038, 0.15720539209111706, 0.14682952880897412, 0.13674275243159537, 0.12692373662217846, 0.11734460272517272, 0.10796654003080759, 0.09873099098407195, 0.08953944959938372, 0.08019694501115733, 0.07018467603744338, 0.053667108221823, 0.053667108221823, 0.04446255616458008, 0.04205745930878056, 0.04062214473884421, 0.039643718725856425, 0.0389331623287094, 0.03839796444316954, 0.03798560376272717, 0.037663345527108205, 0.037409424987404, 0.03720866584784996, 0.03705009171329105, 0.036925530148438857, 0.03682875120681685, 0.03675491197599965, 0.036700185273008945, 0.036661503813130165, 0.03663637934268916, 0.03662277190094678, 0.036618993473686544], \"mode\": \"lines\", \"showlegend\": false, \"line\": {\"color\": \"rgb(255, 105, 97)\", \"width\": 5}}, {\"type\": \"scatter3d\", \"x\": [0, 0.999329299739067], \"y\": [0, 0.0], \"z\": [0, 0.036618993473686544], \"opacity\": 0.3, \"mode\": \"lines\", \"showlegend\": false, \"line\": {\"color\": \"rgb(255, 105, 97)\"}}, {\"type\": \"scatter3d\", \"x\": [0, 0.9992925641850561], \"y\": [0, 0.008552411516454023], \"z\": [0, 0.03662277190094678], \"opacity\": 0.3, \"mode\": \"lines\", \"showlegend\": false, \"line\": {\"color\": \"rgb(255, 105, 97)\"}}, {\"type\": \"scatter3d\", \"x\": [0, 0.9992526949935175], \"y\": [0, 0.012321820354587672], \"z\": [0, 0.03663637934268916], \"opacity\": 0.3, \"mode\": \"lines\", \"showlegend\": false, \"line\": {\"color\": \"rgb(255, 105, 97)\"}}, {\"type\": \"scatter3d\", \"x\": [0, 0.9992092859228291], \"y\": [0, 0.015386262176041892], \"z\": [0, 0.036661503813130165], \"opacity\": 0.3, \"mode\": \"lines\", \"showlegend\": false, \"line\": {\"color\": \"rgb(255, 105, 97)\"}}, {\"type\": \"scatter3d\", \"x\": [0, 0.9991618543059954], \"y\": [0, 0.01812968010560764], \"z\": [0, 0.036700185273008945], \"opacity\": 0.3, \"mode\": \"lines\", \"showlegend\": false, \"line\": {\"color\": \"rgb(255, 105, 97)\"}}, {\"type\": \"scatter3d\", \"x\": [0, 0.9991098211483397], \"y\": [0, 0.020703664665205207], \"z\": [0, 0.03675491197599965], \"opacity\": 0.3, \"mode\": \"lines\", \"showlegend\": false, \"line\": {\"color\": \"rgb(255, 105, 97)\"}}, {\"type\": \"scatter3d\", \"x\": [0, 0.9990524843208939], \"y\": [0, 0.023190012005096326], \"z\": [0, 0.03682875120681685], \"opacity\": 0.3, \"mode\": \"lines\", \"showlegend\": false, \"line\": {\"color\": \"rgb(255, 105, 97)\"}}, {\"type\": \"scatter3d\", \"x\": [0, 0.9989889817471538], \"y\": [0, 0.02564214443141413], \"z\": [0, 0.036925530148438857], \"opacity\": 0.3, \"mode\": \"lines\", \"showlegend\": false, \"line\": {\"color\": \"rgb(255, 105, 97)\"}}, {\"type\": \"scatter3d\", \"x\": [0, 0.9989182397098687], \"y\": [0, 0.02810055300121383], \"z\": [0, 0.03705009171329105], \"opacity\": 0.3, \"mode\": \"lines\", \"showlegend\": false, \"line\": {\"color\": \"rgb(255, 105, 97)\"}}, {\"type\": \"scatter3d\", \"x\": [0, 0.998838898364858], \"y\": [0, 0.030600168285484897], \"z\": [0, 0.03720866584784996], \"opacity\": 0.3, \"mode\": \"lines\", \"showlegend\": false, \"line\": {\"color\": \"rgb(255, 105, 97)\"}}, {\"type\": \"scatter3d\", \"x\": [0, 0.9987492011074239], \"y\": [0, 0.03317481287655101], \"z\": [0, 0.037409424987404], \"opacity\": 0.3, \"mode\": \"lines\", \"showlegend\": false, \"line\": {\"color\": \"rgb(255, 105, 97)\"}}, {\"type\": \"scatter3d\", \"x\": [0, 0.9986468242008412], \"y\": [0, 0.035860743401103526], \"z\": [0, 0.037663345527108205], \"opacity\": 0.3, \"mode\": \"lines\", \"showlegend\": false, \"line\": {\"color\": \"rgb(255, 105, 97)\"}}, {\"type\": \"scatter3d\", \"x\": [0, 0.9985286026422578], \"y\": [0, 0.038700434262177556], \"z\": [0, 0.03798560376272717], \"opacity\": 0.3, \"mode\": \"lines\", \"showlegend\": false, \"line\": {\"color\": \"rgb(255, 105, 97)\"}}, {\"type\": \"scatter3d\", \"x\": [0, 0.9983900643750867], \"y\": [0, 0.04174776261946511], \"z\": [0, 0.03839796444316954], \"opacity\": 0.3, \"mode\": \"lines\", \"showlegend\": false, \"line\": {\"color\": \"rgb(255, 105, 97)\"}}, {\"type\": \"scatter3d\", \"x\": [0, 0.9982245817941475], \"y\": [0, 0.04507652574218313], \"z\": [0, 0.0389331623287094], \"opacity\": 0.3, \"mode\": \"lines\", \"showlegend\": false, \"line\": {\"color\": \"rgb(255, 105, 97)\"}}, {\"type\": \"scatter3d\", \"x\": [0, 0.998021676294657], \"y\": [0, 0.048796610656766236], \"z\": [0, 0.039643718725856425], \"opacity\": 0.3, \"mode\": \"lines\", \"showlegend\": false, \"line\": {\"color\": \"rgb(255, 105, 97)\"}}, {\"type\": \"scatter3d\", \"x\": [0, 0.9977631603489642], \"y\": [0, 0.05308970905235481], \"z\": [0, 0.04062214473884421], \"opacity\": 0.3, \"mode\": \"lines\", \"showlegend\": false, \"line\": {\"color\": \"rgb(255, 105, 97)\"}}, {\"type\": \"scatter3d\", \"x\": [0, 0.9974124223998145], \"y\": [0, 0.05830634407184348], \"z\": [0, 0.04205745930878056], \"opacity\": 0.3, \"mode\": \"lines\", \"showlegend\": false, \"line\": {\"color\": \"rgb(255, 105, 97)\"}}, {\"type\": \"scatter3d\", \"x\": [0, 0.996871650364834], \"y\": [0, 0.06534518955671943], \"z\": [0, 0.04446255616458008], \"opacity\": 0.3, \"mode\": \"lines\", \"showlegend\": false, \"line\": {\"color\": \"rgb(255, 105, 97)\"}}, {\"type\": \"scatter3d\", \"x\": [0, 0.9950547536867305], \"y\": [0, 0.08358156890455774], \"z\": [0, 0.053667108221823], \"opacity\": 0.3, \"mode\": \"lines\", \"showlegend\": false, \"line\": {\"color\": \"rgb(255, 105, 97)\"}}, {\"type\": \"scatter3d\", \"x\": [0, 0.9950547536867305], \"y\": [0, 0.08358156890455774], \"z\": [0, 0.053667108221823], \"opacity\": 0.3, \"mode\": \"lines\", \"showlegend\": false, \"line\": {\"color\": \"rgb(255, 105, 97)\"}}, {\"type\": \"scatter3d\", \"x\": [0, 0.9921867605764334], \"y\": [0, 0.1031481623024], \"z\": [0, 0.07018467603744338], \"opacity\": 0.3, \"mode\": \"lines\", \"showlegend\": false, \"line\": {\"color\": \"rgb(255, 105, 97)\"}}, {\"type\": \"scatter3d\", \"x\": [0, 0.9905590511111292], \"y\": [0, 0.11118100679835928], \"z\": [0, 0.08019694501115733], \"opacity\": 0.3, \"mode\": \"lines\", \"showlegend\": false, \"line\": {\"color\": \"rgb(255, 105, 97)\"}}, {\"type\": \"scatter3d\", \"x\": [0, 0.989084875843333], \"y\": [0, 0.1170204911262034], \"z\": [0, 0.08953944959938372], \"opacity\": 0.3, \"mode\": \"lines\", \"showlegend\": false, \"line\": {\"color\": \"rgb(255, 105, 97)\"}}, {\"type\": \"scatter3d\", \"x\": [0, 0.9876657594483422], \"y\": [0, 0.12152587803687126], \"z\": [0, 0.09873099098407195], \"opacity\": 0.3, \"mode\": \"lines\", \"showlegend\": false, \"line\": {\"color\": \"rgb(255, 105, 97)\"}}, {\"type\": \"scatter3d\", \"x\": [0, 0.9862644229563172], \"y\": [0, 0.12500285694502616], \"z\": [0, 0.10796654003080759], \"opacity\": 0.3, \"mode\": \"lines\", \"showlegend\": false, \"line\": {\"color\": \"rgb(255, 105, 97)\"}}, {\"type\": \"scatter3d\", \"x\": [0, 0.9848620074470319], \"y\": [0, 0.12758162288775676], \"z\": [0, 0.11734460272517272], \"opacity\": 0.3, \"mode\": \"lines\", \"showlegend\": false, \"line\": {\"color\": \"rgb(255, 105, 97)\"}}, {\"type\": \"scatter3d\", \"x\": [0, 0.983447359141926], \"y\": [0, 0.12931224566387936], \"z\": [0, 0.12692373662217846], \"opacity\": 0.3, \"mode\": \"lines\", \"showlegend\": false, \"line\": {\"color\": \"rgb(255, 105, 97)\"}}, {\"type\": \"scatter3d\", \"x\": [0, 0.9820131716882766], \"y\": [0, 0.13019811937260406], \"z\": [0, 0.13674275243159537], \"opacity\": 0.3, \"mode\": \"lines\", \"showlegend\": false, \"line\": {\"color\": \"rgb(255, 105, 97)\"}}, {\"type\": \"scatter3d\", \"x\": [0, 0.9805542909244023], \"y\": [0, 0.13020895521997425], \"z\": [0, 0.14682952880897412], \"opacity\": 0.3, \"mode\": \"lines\", \"showlegend\": false, \"line\": {\"color\": \"rgb(255, 105, 97)\"}}, {\"type\": \"scatter3d\", \"x\": [0, 0.9790668666099106], \"y\": [0, 0.1292847067681623], \"z\": [0, 0.15720539209111706], \"opacity\": 0.3, \"mode\": \"lines\", \"showlegend\": false, \"line\": {\"color\": \"rgb(255, 105, 97)\"}}, {\"type\": \"scatter3d\", \"x\": [0, 0.9775478868722012], \"y\": [0, 0.1273338730515883], \"z\": [0, 0.16788750294580038], \"opacity\": 0.3, \"mode\": \"lines\", \"showlegend\": false, \"line\": {\"color\": \"rgb(255, 105, 97)\"}}, {\"type\": \"scatter3d\", \"x\": [0, 0.9759949043155917], \"y\": [0, 0.12422650718503182], \"z\": [0, 0.17889025032853598], \"opacity\": 0.3, \"mode\": \"lines\", \"showlegend\": false, \"line\": {\"color\": \"rgb(255, 105, 97)\"}}, {\"type\": \"scatter3d\", \"x\": [0, 0.974405865902242], \"y\": [0, 0.11977994503233448], \"z\": [0, 0.19022611088741956], \"opacity\": 0.3, \"mode\": \"lines\", \"showlegend\": false, \"line\": {\"color\": \"rgb(255, 105, 97)\"}}, {\"type\": \"scatter3d\", \"x\": [0, 0.9727790025803045], \"y\": [0, 0.11373169138103574], \"z\": [0, 0.2019062022684714], \"opacity\": 0.3, \"mode\": \"lines\", \"showlegend\": false, \"line\": {\"color\": \"rgb(255, 105, 97)\"}}, {\"type\": \"scatter3d\", \"x\": [0, 0.9711127550688635], \"y\": [0, 0.10568544972937964], \"z\": [0, 0.21394065218667616], \"opacity\": 0.3, \"mode\": \"lines\", \"showlegend\": false, \"line\": {\"color\": \"rgb(255, 105, 97)\"}}, {\"type\": \"scatter3d\", \"x\": [0, 0.9694057224453089], \"y\": [0, 0.09499089110753871], \"z\": [0, 0.2263388519386023], \"opacity\": 0.3, \"mode\": \"lines\", \"showlegend\": false, \"line\": {\"color\": \"rgb(255, 105, 97)\"}}, {\"type\": \"scatter3d\", \"x\": [0, 0.9676566256221996], \"y\": [0, 0.08041913580766888], \"z\": [0, 0.23910963486527684], \"opacity\": 0.3, \"mode\": \"lines\", \"showlegend\": false, \"line\": {\"color\": \"rgb(255, 105, 97)\"}}, {\"type\": \"scatter3d\", \"x\": [0, 0.9658642808403455], \"y\": [0, 0.058909886659820575], \"z\": [0, 0.2522614045994538], \"opacity\": 0.3, \"mode\": \"lines\", \"showlegend\": false, \"line\": {\"color\": \"rgb(255, 105, 97)\"}}, {\"type\": \"scatter3d\", \"x\": [0, 0.9640275800758169], \"y\": [0, 0.0], \"z\": [0, 0.26580222883407967], \"opacity\": 0.3, \"mode\": \"lines\", \"showlegend\": false, \"line\": {\"color\": \"rgb(255, 105, 97)\"}}, {\"type\": \"scatter3d\", \"x\": [0, 0.9640275800758169], \"y\": [0, 0.0], \"z\": [0, 0.26580222883407967], \"opacity\": 0.3, \"mode\": \"lines\", \"showlegend\": false, \"line\": {\"color\": \"rgb(255, 105, 97)\"}}, {\"type\": \"scatter3d\", \"x\": [0, 0.9658642808403455], \"y\": [0, -0.058909886659820575], \"z\": [0, 0.2522614045994538], \"opacity\": 0.3, \"mode\": \"lines\", \"showlegend\": false, \"line\": {\"color\": \"rgb(255, 105, 97)\"}}, {\"type\": \"scatter3d\", \"x\": [0, 0.9676566256221996], \"y\": [0, -0.08041913580766888], \"z\": [0, 0.23910963486527684], \"opacity\": 0.3, \"mode\": \"lines\", \"showlegend\": false, \"line\": {\"color\": \"rgb(255, 105, 97)\"}}, {\"type\": \"scatter3d\", \"x\": [0, 0.9694057224453089], \"y\": [0, -0.09499089110753871], \"z\": [0, 0.2263388519386023], \"opacity\": 0.3, \"mode\": \"lines\", \"showlegend\": false, \"line\": {\"color\": \"rgb(255, 105, 97)\"}}, {\"type\": \"scatter3d\", \"x\": [0, 0.9711127550688635], \"y\": [0, -0.10568544972937964], \"z\": [0, 0.21394065218667616], \"opacity\": 0.3, \"mode\": \"lines\", \"showlegend\": false, \"line\": {\"color\": \"rgb(255, 105, 97)\"}}, {\"type\": \"scatter3d\", \"x\": [0, 0.9727790025803045], \"y\": [0, -0.11373169138103574], \"z\": [0, 0.2019062022684714], \"opacity\": 0.3, \"mode\": \"lines\", \"showlegend\": false, \"line\": {\"color\": \"rgb(255, 105, 97)\"}}, {\"type\": \"scatter3d\", \"x\": [0, 0.974405865902242], \"y\": [0, -0.11977994503233448], \"z\": [0, 0.19022611088741956], \"opacity\": 0.3, \"mode\": \"lines\", \"showlegend\": false, \"line\": {\"color\": \"rgb(255, 105, 97)\"}}, {\"type\": \"scatter3d\", \"x\": [0, 0.9759949043155917], \"y\": [0, -0.12422650718503182], \"z\": [0, 0.17889025032853598], \"opacity\": 0.3, \"mode\": \"lines\", \"showlegend\": false, \"line\": {\"color\": \"rgb(255, 105, 97)\"}}, {\"type\": \"scatter3d\", \"x\": [0, 0.9775478868722012], \"y\": [0, -0.1273338730515883], \"z\": [0, 0.16788750294580038], \"opacity\": 0.3, \"mode\": \"lines\", \"showlegend\": false, \"line\": {\"color\": \"rgb(255, 105, 97)\"}}, {\"type\": \"scatter3d\", \"x\": [0, 0.9790668666099106], \"y\": [0, -0.1292847067681623], \"z\": [0, 0.15720539209111706], \"opacity\": 0.3, \"mode\": \"lines\", \"showlegend\": false, \"line\": {\"color\": \"rgb(255, 105, 97)\"}}, {\"type\": \"scatter3d\", \"x\": [0, 0.9805542909244023], \"y\": [0, -0.13020895521997425], \"z\": [0, 0.14682952880897412], \"opacity\": 0.3, \"mode\": \"lines\", \"showlegend\": false, \"line\": {\"color\": \"rgb(255, 105, 97)\"}}, {\"type\": \"scatter3d\", \"x\": [0, 0.9820131716882766], \"y\": [0, -0.13019811937260406], \"z\": [0, 0.13674275243159537], \"opacity\": 0.3, \"mode\": \"lines\", \"showlegend\": false, \"line\": {\"color\": \"rgb(255, 105, 97)\"}}, {\"type\": \"scatter3d\", \"x\": [0, 0.983447359141926], \"y\": [0, -0.12931224566387936], \"z\": [0, 0.12692373662217846], \"opacity\": 0.3, \"mode\": \"lines\", \"showlegend\": false, \"line\": {\"color\": \"rgb(255, 105, 97)\"}}, {\"type\": \"scatter3d\", \"x\": [0, 0.9848620074470319], \"y\": [0, -0.12758162288775676], \"z\": [0, 0.11734460272517272], \"opacity\": 0.3, \"mode\": \"lines\", \"showlegend\": false, \"line\": {\"color\": \"rgb(255, 105, 97)\"}}, {\"type\": \"scatter3d\", \"x\": [0, 0.9862644229563172], \"y\": [0, -0.12500285694502616], \"z\": [0, 0.10796654003080759], \"opacity\": 0.3, \"mode\": \"lines\", \"showlegend\": false, \"line\": {\"color\": \"rgb(255, 105, 97)\"}}, {\"type\": \"scatter3d\", \"x\": [0, 0.9876657594483422], \"y\": [0, -0.12152587803687126], \"z\": [0, 0.09873099098407195], \"opacity\": 0.3, \"mode\": \"lines\", \"showlegend\": false, \"line\": {\"color\": \"rgb(255, 105, 97)\"}}, {\"type\": \"scatter3d\", \"x\": [0, 0.989084875843333], \"y\": [0, -0.1170204911262034], \"z\": [0, 0.08953944959938372], \"opacity\": 0.3, \"mode\": \"lines\", \"showlegend\": false, \"line\": {\"color\": \"rgb(255, 105, 97)\"}}, {\"type\": \"scatter3d\", \"x\": [0, 0.9905590511111292], \"y\": [0, -0.11118100679835928], \"z\": [0, 0.08019694501115733], \"opacity\": 0.3, \"mode\": \"lines\", \"showlegend\": false, \"line\": {\"color\": \"rgb(255, 105, 97)\"}}, {\"type\": \"scatter3d\", \"x\": [0, 0.9921867605764334], \"y\": [0, -0.1031481623024], \"z\": [0, 0.07018467603744338], \"opacity\": 0.3, \"mode\": \"lines\", \"showlegend\": false, \"line\": {\"color\": \"rgb(255, 105, 97)\"}}, {\"type\": \"scatter3d\", \"x\": [0, 0.9950547536867305], \"y\": [0, -0.08358156890455774], \"z\": [0, 0.053667108221823], \"opacity\": 0.3, \"mode\": \"lines\", \"showlegend\": false, \"line\": {\"color\": \"rgb(255, 105, 97)\"}}, {\"type\": \"scatter3d\", \"x\": [0, 0.9950547536867305], \"y\": [0, -0.08358156890455774], \"z\": [0, 0.053667108221823], \"opacity\": 0.3, \"mode\": \"lines\", \"showlegend\": false, \"line\": {\"color\": \"rgb(255, 105, 97)\"}}, {\"type\": \"scatter3d\", \"x\": [0, 0.996871650364834], \"y\": [0, -0.06534518955671943], \"z\": [0, 0.04446255616458008], \"opacity\": 0.3, \"mode\": \"lines\", \"showlegend\": false, \"line\": {\"color\": \"rgb(255, 105, 97)\"}}, {\"type\": \"scatter3d\", \"x\": [0, 0.9974124223998145], \"y\": [0, -0.05830634407184348], \"z\": [0, 0.04205745930878056], \"opacity\": 0.3, \"mode\": \"lines\", \"showlegend\": false, \"line\": {\"color\": \"rgb(255, 105, 97)\"}}, {\"type\": \"scatter3d\", \"x\": [0, 0.9977631603489642], \"y\": [0, -0.05308970905235481], \"z\": [0, 0.04062214473884421], \"opacity\": 0.3, \"mode\": \"lines\", \"showlegend\": false, \"line\": {\"color\": \"rgb(255, 105, 97)\"}}, {\"type\": \"scatter3d\", \"x\": [0, 0.998021676294657], \"y\": [0, -0.048796610656766236], \"z\": [0, 0.039643718725856425], \"opacity\": 0.3, \"mode\": \"lines\", \"showlegend\": false, \"line\": {\"color\": \"rgb(255, 105, 97)\"}}, {\"type\": \"scatter3d\", \"x\": [0, 0.9982245817941475], \"y\": [0, -0.04507652574218313], \"z\": [0, 0.0389331623287094], \"opacity\": 0.3, \"mode\": \"lines\", \"showlegend\": false, \"line\": {\"color\": \"rgb(255, 105, 97)\"}}, {\"type\": \"scatter3d\", \"x\": [0, 0.9983900643750867], \"y\": [0, -0.04174776261946511], \"z\": [0, 0.03839796444316954], \"opacity\": 0.3, \"mode\": \"lines\", \"showlegend\": false, \"line\": {\"color\": \"rgb(255, 105, 97)\"}}, {\"type\": \"scatter3d\", \"x\": [0, 0.9985286026422578], \"y\": [0, -0.038700434262177556], \"z\": [0, 0.03798560376272717], \"opacity\": 0.3, \"mode\": \"lines\", \"showlegend\": false, \"line\": {\"color\": \"rgb(255, 105, 97)\"}}, {\"type\": \"scatter3d\", \"x\": [0, 0.9986468242008412], \"y\": [0, -0.035860743401103526], \"z\": [0, 0.037663345527108205], \"opacity\": 0.3, \"mode\": \"lines\", \"showlegend\": false, \"line\": {\"color\": \"rgb(255, 105, 97)\"}}, {\"type\": \"scatter3d\", \"x\": [0, 0.9987492011074239], \"y\": [0, -0.03317481287655101], \"z\": [0, 0.037409424987404], \"opacity\": 0.3, \"mode\": \"lines\", \"showlegend\": false, \"line\": {\"color\": \"rgb(255, 105, 97)\"}}, {\"type\": \"scatter3d\", \"x\": [0, 0.998838898364858], \"y\": [0, -0.030600168285484897], \"z\": [0, 0.03720866584784996], \"opacity\": 0.3, \"mode\": \"lines\", \"showlegend\": false, \"line\": {\"color\": \"rgb(255, 105, 97)\"}}, {\"type\": \"scatter3d\", \"x\": [0, 0.9989182397098687], \"y\": [0, -0.02810055300121383], \"z\": [0, 0.03705009171329105], \"opacity\": 0.3, \"mode\": \"lines\", \"showlegend\": false, \"line\": {\"color\": \"rgb(255, 105, 97)\"}}, {\"type\": \"scatter3d\", \"x\": [0, 0.9989889817471538], \"y\": [0, -0.02564214443141413], \"z\": [0, 0.036925530148438857], \"opacity\": 0.3, \"mode\": \"lines\", \"showlegend\": false, \"line\": {\"color\": \"rgb(255, 105, 97)\"}}, {\"type\": \"scatter3d\", \"x\": [0, 0.9990524843208939], \"y\": [0, -0.023190012005096326], \"z\": [0, 0.03682875120681685], \"opacity\": 0.3, \"mode\": \"lines\", \"showlegend\": false, \"line\": {\"color\": \"rgb(255, 105, 97)\"}}, {\"type\": \"scatter3d\", \"x\": [0, 0.9991098211483397], \"y\": [0, -0.020703664665205207], \"z\": [0, 0.03675491197599965], \"opacity\": 0.3, \"mode\": \"lines\", \"showlegend\": false, \"line\": {\"color\": \"rgb(255, 105, 97)\"}}, {\"type\": \"scatter3d\", \"x\": [0, 0.9991618543059954], \"y\": [0, -0.01812968010560764], \"z\": [0, 0.036700185273008945], \"opacity\": 0.3, \"mode\": \"lines\", \"showlegend\": false, \"line\": {\"color\": \"rgb(255, 105, 97)\"}}, {\"type\": \"scatter3d\", \"x\": [0, 0.9992092859228291], \"y\": [0, -0.015386262176041892], \"z\": [0, 0.036661503813130165], \"opacity\": 0.3, \"mode\": \"lines\", \"showlegend\": false, \"line\": {\"color\": \"rgb(255, 105, 97)\"}}, {\"type\": \"scatter3d\", \"x\": [0, 0.9992526949935175], \"y\": [0, -0.012321820354587672], \"z\": [0, 0.03663637934268916], \"opacity\": 0.3, \"mode\": \"lines\", \"showlegend\": false, \"line\": {\"color\": \"rgb(255, 105, 97)\"}}, {\"type\": \"scatter3d\", \"x\": [0, 0.9992925641850561], \"y\": [0, -0.008552411516454023], \"z\": [0, 0.03662277190094678], \"opacity\": 0.3, \"mode\": \"lines\", \"showlegend\": false, \"line\": {\"color\": \"rgb(255, 105, 97)\"}}, {\"type\": \"scatter3d\", \"x\": [0, 0.999329299739067], \"y\": [0, 0.0], \"z\": [0, 0.036618993473686544], \"opacity\": 0.3, \"mode\": \"lines\", \"showlegend\": false, \"line\": {\"color\": \"rgb(255, 105, 97)\"}}], {\"margin\": {\"l\": 0, \"r\": 0, \"b\": 0, \"t\": 0}, \"scene\": {\"xaxis\": {\"title\": \"Z\"}, \"yaxis\": {\"title\": \"Y\"}, \"zaxis\": {\"title\": \"X\"}}}, {\"showLink\": true, \"linkText\": \"Export to plot.ly\"})});</script>"
      ]
     },
     "metadata": {},
     "output_type": "display_data"
    }
   ],
   "source": [
    "show_jet(0, 0, 1.0)\n",
    "show_jet(0, 1, 1.0)\n",
    "show_jet(0, 2, 1.0)\n",
    "show_jet(0, 3, 1.0)"
   ]
  },
  {
   "cell_type": "markdown",
   "metadata": {},
   "source": [
    "Unfortunately nbviewer does not display widgets, but the lines below should work if you download and run the notebook locally.\n",
    "\n",
    "This should give you the option to change the values of $\\phi$, $\\eta$, and $\\Delta R$ using sliders, as is shown in the preview image."
   ]
  },
  {
   "cell_type": "code",
   "execution_count": 5,
   "metadata": {
    "scrolled": false
   },
   "outputs": [
    {
     "data": {
      "application/vnd.jupyter.widget-view+json": {
       "model_id": "1885214cd54846ce928bf953f1bf94a6",
       "version_major": 2,
       "version_minor": 0
      },
      "text/html": [
       "<p>Failed to display Jupyter Widget of type <code>interactive</code>.</p>\n",
       "<p>\n",
       "  If you're reading this message in the Jupyter Notebook or JupyterLab Notebook, it may mean\n",
       "  that the widgets JavaScript is still loading. If this message persists, it\n",
       "  likely means that the widgets JavaScript library is either not installed or\n",
       "  not enabled. See the <a href=\"https://ipywidgets.readthedocs.io/en/stable/user_install.html\">Jupyter\n",
       "  Widgets Documentation</a> for setup instructions.\n",
       "</p>\n",
       "<p>\n",
       "  If you're reading this message in another frontend (for example, a static\n",
       "  rendering on GitHub or <a href=\"https://nbviewer.jupyter.org/\">NBViewer</a>),\n",
       "  it may mean that your frontend doesn't currently support widgets.\n",
       "</p>\n"
      ],
      "text/plain": [
       "interactive(children=(FloatSlider(value=0.0, description='phi', max=3.141592653589793, min=-3.141592653589793), FloatSlider(value=2.0, description='eta', max=3.0), FloatSlider(value=0.4, description='dR', max=1.0, min=0.1), Output()), _dom_classes=('widget-interact',))"
      ]
     },
     "metadata": {},
     "output_type": "display_data"
    },
    {
     "data": {
      "text/plain": [
       "<function __main__.show_jet>"
      ]
     },
     "execution_count": 5,
     "metadata": {},
     "output_type": "execute_result"
    }
   ],
   "source": [
    "import ipywidgets as widgets\n",
    "widgets.interact(show_jet, phi=widgets.FloatSlider(value=0, min=-np.pi, max=np.pi, step=0.1, description='phi'),\n",
    "                           eta=widgets.FloatSlider(value=2.0, min=0, max=3, step=0.1, description='eta'),\n",
    "                           dR=widgets.FloatSlider(value=0.4, min=0.1, max=1.0, step=0.1, description='dR'))"
   ]
  }
 ],
 "metadata": {
  "kernelspec": {
   "display_name": "Python 3",
   "language": "python",
   "name": "python3"
  },
  "language_info": {
   "codemirror_mode": {
    "name": "ipython",
    "version": 3
   },
   "file_extension": ".py",
   "mimetype": "text/x-python",
   "name": "python",
   "nbconvert_exporter": "python",
   "pygments_lexer": "ipython3",
   "version": "3.6.2"
  }
 },
 "nbformat": 4,
 "nbformat_minor": 2
}
