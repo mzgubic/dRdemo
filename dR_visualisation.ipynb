{
 "cells": [
  {
   "cell_type": "markdown",
   "metadata": {},
   "source": [
    "# Visualising $\\Delta R$\n",
    "\n",
    "The coordinate system is a modifed spherical coordinate system with the $z$ coordinate chosen along the beampipe, and the azimuthal angle $\\phi$ rotating around the plane perpendicular to the beam. In place of the usual polar angle $\\theta$ however, pseudorapidity $\\eta = -\\ln(\\tan(\\frac{\\theta}{2}))$ is used. See plot below to see how it behaves.\n",
    "\n",
    "<img width=\"200\" alt=\"preview\" src=\"https://upload.wikimedia.org/wikipedia/commons/thumb/e/ed/Pseudorapidity_plot.svg/695px-Pseudorapidity_plot.svg.png\">\n",
    "\n",
    "The angle $\\Delta R$ is defined as $\\Delta R = \\sqrt{\\Delta \\phi^2 + \\Delta \\eta^2}$. It is tricky to grasp intuitively because the angle of this conical shape changes with $\\eta$. This notebook makes it easy to play with parameters and see how the conical shape changes. "
   ]
  },
  {
   "cell_type": "markdown",
   "metadata": {},
   "source": [
    "First some imports"
   ]
  },
  {
   "cell_type": "code",
   "execution_count": 2,
   "metadata": {},
   "outputs": [
    {
     "data": {
      "text/html": [
       "<script>requirejs.config({paths: { 'plotly': ['https://cdn.plot.ly/plotly-latest.min']},});if(!window.Plotly) {{require(['plotly'],function(plotly) {window.Plotly=plotly;});}}</script>"
      ],
      "text/vnd.plotly.v1+html": [
       "<script>requirejs.config({paths: { 'plotly': ['https://cdn.plot.ly/plotly-latest.min']},});if(!window.Plotly) {{require(['plotly'],function(plotly) {window.Plotly=plotly;});}}</script>"
      ]
     },
     "metadata": {},
     "output_type": "display_data"
    }
   ],
   "source": [
    "import numpy as np\n",
    "from plotly.offline import init_notebook_mode, iplot\n",
    "import plotly.graph_objs as go\n",
    "init_notebook_mode(connected=True)"
   ]
  },
  {
   "cell_type": "markdown",
   "metadata": {},
   "source": [
    "Now define a helper function for handling the polar angle, and the function which draws the beampipe, an ATLAS-resembling cylinder, and the jet along with the conical shape around it, defined by $\\Delta R$.\n",
    "\n",
    "I am using plotly instead of matplotlib because it is faster at rendering 3D. I've interchanged x and z to get the beampipe horizontal (could have probably been done in a more elegant way). "
   ]
  },
  {
   "cell_type": "code",
   "execution_count": 3,
   "metadata": {
    "collapsed": true
   },
   "outputs": [],
   "source": [
    "def theta_from_eta(eta):\n",
    "    return 2*np.arctan(np.e**(-eta))\n",
    "    \n",
    "def show_jet(phi, eta, dR):\n",
    "    \n",
    "    # list of all primitives to draw\n",
    "    data = []\n",
    "    \n",
    "    # ::: beampipe\n",
    "    R = 1.0\n",
    "    zs = np.linspace(-R, R, 2)\n",
    "    b_xs = [0 for z in zs]\n",
    "    b_ys = [0 for z in zs]\n",
    "    beampipe = go.Scatter3d(x=zs,\n",
    "                          y=b_ys,\n",
    "                          z=b_xs,\n",
    "                          mode='lines',\n",
    "                          showlegend=False,\n",
    "                          line=dict(color='rgb(0,33,71)', width=5))\n",
    "    data.append(beampipe)\n",
    "    \n",
    "    # ::: barrel\n",
    "    phis = np.linspace(-np.pi/2., np.pi/2., 10)\n",
    "    xs = R*np.sin(phis)\n",
    "    X, Z = np.meshgrid(xs, zs)\n",
    "    Y = np.sqrt(R**2 - X**2)\n",
    "    barrel_left = go.Surface(x=Z, y=Y, z=X, surfacecolor=[1,1], showscale=False, opacity=0.4)\n",
    "    barrel_right = go.Surface(x=Z, y=-Y, z=X, surfacecolor=[1,1], showscale=False, opacity=0.4)\n",
    "    data += [barrel_left, barrel_right]\n",
    "    \n",
    "    # ::: jet direction\n",
    "    theta = theta_from_eta(eta)\n",
    "    ts = np.linspace(0, R, 2)\n",
    "    xs = ts*np.sin(theta)*np.cos(phi)\n",
    "    ys = ts*np.sin(theta)*np.sin(phi)\n",
    "    zs = ts*np.cos(theta)\n",
    "    jet = go.Scatter3d(x=zs,\n",
    "                       y=ys,\n",
    "                       z=xs,\n",
    "                       mode='lines',\n",
    "                       showlegend=False,\n",
    "                       line=dict(color='rgb(255, 105, 97)', width=7))\n",
    "    data.append(jet)\n",
    "    \n",
    "    # ::: jet cone: compute the circle at the end first, then draw the cone\n",
    "    T = 1.0\n",
    "    dphis = np.sqrt(np.linspace(0, dR**2, 20))\n",
    "    detas = np.sqrt(dR**2 - dphis**2)\n",
    "    # compute circle coordinates (reverse parts for plotting reasons)\n",
    "    phis = np.concatenate((phi+dphis, phi+dphis[::-1], phi-dphis, phi-dphis[::-1]))\n",
    "    etas = np.concatenate((eta+detas, eta-detas[::-1], eta-detas, eta+detas[::-1]))\n",
    "    # transform to x, y, z\n",
    "    thetas = theta_from_eta(etas)\n",
    "    cxs = T*np.sin(thetas)*np.cos(phis)\n",
    "    cys = T*np.sin(thetas)*np.sin(phis)\n",
    "    czs = T*np.cos(thetas)\n",
    "    cone_edge = go.Scatter3d(x=czs,\n",
    "                            y=cys,\n",
    "                            z=cxs,\n",
    "                            mode='lines',\n",
    "                            showlegend=False,\n",
    "                            line=dict(color='rgb(255, 105, 97)', width=5))\n",
    "    data.append(cone_edge)\n",
    "    \n",
    "    # draw lines from the circle to the origin\n",
    "    for x, y, z in zip(cxs, cys, czs):\n",
    "        line = go.Scatter3d(x=(0,z),\n",
    "                            y=(0,y),\n",
    "                            z=(0,x),\n",
    "                            opacity=0.3,\n",
    "                            mode='lines',\n",
    "                            showlegend=False,\n",
    "                            line=dict(color='rgb(255, 105, 97)'))\n",
    "        data.append(line)\n",
    "    \n",
    "    # cosmetics\n",
    "    layout = go.Layout(margin=dict(l=0,r=0,b=0,t=0),\n",
    "                       scene=dict(xaxis=dict(title='Z'),\n",
    "                                  yaxis=dict(title='Y'),\n",
    "                                  zaxis=dict(title='X')))\n",
    "    fig = go.Figure(data=data, layout=layout)\n",
    "    iplot(fig, filename='simple-3d-scatter')\n"
   ]
  },
  {
   "cell_type": "markdown",
   "metadata": {},
   "source": [
    "Show renders in nbviewer of $\\phi$, $\\eta$, and $\\Delta R$. Note that $\\Delta R$ is the same in all, but the cones have very different sizes depending on the $\\eta$."
   ]
  },
  {
   "cell_type": "code",
   "execution_count": 4,
   "metadata": {
    "scrolled": false
   },
   "outputs": [
    {
     "data": {
      "application/vnd.plotly.v1+json": {
       "data": [
        {
         "line": {
          "color": "rgb(0,33,71)",
          "width": 5
         },
         "mode": "lines",
         "showlegend": false,
         "type": "scatter3d",
         "x": [
          -1,
          1
         ],
         "y": [
          0,
          0
         ],
         "z": [
          0,
          0
         ]
        },
        {
         "opacity": 0.4,
         "showscale": false,
         "surfacecolor": [
          1,
          1
         ],
         "type": "surface",
         "x": [
          [
           -1,
           -1,
           -1,
           -1,
           -1,
           -1,
           -1,
           -1,
           -1,
           -1
          ],
          [
           1,
           1,
           1,
           1,
           1,
           1,
           1,
           1,
           1,
           1
          ]
         ],
         "y": [
          [
           0,
           0.342020143325669,
           0.6427876096865394,
           0.8660254037844386,
           0.984807753012208,
           0.984807753012208,
           0.8660254037844388,
           0.6427876096865395,
           0.342020143325669,
           0
          ],
          [
           0,
           0.342020143325669,
           0.6427876096865394,
           0.8660254037844386,
           0.984807753012208,
           0.984807753012208,
           0.8660254037844388,
           0.6427876096865395,
           0.342020143325669,
           0
          ]
         ],
         "z": [
          [
           -1,
           -0.9396926207859083,
           -0.766044443118978,
           -0.5,
           -0.17364817766693036,
           0.17364817766693036,
           0.49999999999999983,
           0.7660444431189779,
           0.9396926207859083,
           1
          ],
          [
           -1,
           -0.9396926207859083,
           -0.766044443118978,
           -0.5,
           -0.17364817766693036,
           0.17364817766693036,
           0.49999999999999983,
           0.7660444431189779,
           0.9396926207859083,
           1
          ]
         ]
        },
        {
         "opacity": 0.4,
         "showscale": false,
         "surfacecolor": [
          1,
          1
         ],
         "type": "surface",
         "x": [
          [
           -1,
           -1,
           -1,
           -1,
           -1,
           -1,
           -1,
           -1,
           -1,
           -1
          ],
          [
           1,
           1,
           1,
           1,
           1,
           1,
           1,
           1,
           1,
           1
          ]
         ],
         "y": [
          [
           0,
           -0.342020143325669,
           -0.6427876096865394,
           -0.8660254037844386,
           -0.984807753012208,
           -0.984807753012208,
           -0.8660254037844388,
           -0.6427876096865395,
           -0.342020143325669,
           0
          ],
          [
           0,
           -0.342020143325669,
           -0.6427876096865394,
           -0.8660254037844386,
           -0.984807753012208,
           -0.984807753012208,
           -0.8660254037844388,
           -0.6427876096865395,
           -0.342020143325669,
           0
          ]
         ],
         "z": [
          [
           -1,
           -0.9396926207859083,
           -0.766044443118978,
           -0.5,
           -0.17364817766693036,
           0.17364817766693036,
           0.49999999999999983,
           0.7660444431189779,
           0.9396926207859083,
           1
          ],
          [
           -1,
           -0.9396926207859083,
           -0.766044443118978,
           -0.5,
           -0.17364817766693036,
           0.17364817766693036,
           0.49999999999999983,
           0.7660444431189779,
           0.9396926207859083,
           1
          ]
         ]
        },
        {
         "line": {
          "color": "rgb(255, 105, 97)",
          "width": 7
         },
         "mode": "lines",
         "showlegend": false,
         "type": "scatter3d",
         "x": [
          0,
          0.7615941559557649
         ],
         "y": [
          0,
          0
         ],
         "z": [
          0,
          0.6480542736638855
         ]
        },
        {
         "line": {
          "color": "rgb(255, 105, 97)",
          "width": 5
         },
         "mode": "lines",
         "showlegend": false,
         "type": "scatter3d",
         "x": [
          0.9640275800758169,
          0.9620939596589054,
          0.9599996200617662,
          0.9577243131442403,
          0.9552440820135759,
          0.9525303168299666,
          0.9495484889945591,
          0.9462564212916691,
          0.9426018711879287,
          0.938519067084852,
          0.9339235923276625,
          0.9287045527947358,
          0.9227120515031718,
          0.9157360435411512,
          0.9074680790366705,
          0.8974254078443018,
          0.8847796065353212,
          0.8678845541030237,
          0.842409769927307,
          0.7615941559557649,
          0.7615941559557649,
          0.6472690624415961,
          0.5886234908679698,
          0.5389256760760501,
          0.49387199253629566,
          0.45184074274778485,
          0.4120255532732981,
          0.373963418767636,
          0.33736340599337616,
          0.30203084275262454,
          0.26782915091684306,
          0.23465879592327538,
          0.20244485923179512,
          0.17112930593895137,
          0.14066596997493896,
          0.11101719180227688,
          0.08215150261613617,
          0.05404199413952211,
          0.02666515060823686,
          6.123233995736766e-17,
          6.123233995736766e-17,
          0.02666515060823686,
          0.05404199413952211,
          0.08215150261613617,
          0.11101719180227688,
          0.14066596997493896,
          0.17112930593895137,
          0.20244485923179512,
          0.23465879592327538,
          0.26782915091684306,
          0.30203084275262454,
          0.33736340599337616,
          0.373963418767636,
          0.4120255532732981,
          0.45184074274778485,
          0.49387199253629566,
          0.5389256760760501,
          0.5886234908679698,
          0.6472690624415961,
          0.7615941559557649,
          0.7615941559557649,
          0.842409769927307,
          0.8678845541030237,
          0.8847796065353212,
          0.8974254078443018,
          0.9074680790366705,
          0.9157360435411512,
          0.9227120515031718,
          0.9287045527947358,
          0.9339235923276625,
          0.938519067084852,
          0.9426018711879287,
          0.9462564212916691,
          0.9495484889945591,
          0.9525303168299666,
          0.9552440820135759,
          0.9577243131442403,
          0.9599996200617662,
          0.9620939596589054,
          0.9640275800758169
         ],
         "y": [
          0,
          0.06201846365137433,
          0.08925902396586932,
          0.11133080933588038,
          0.13101835082635102,
          0.14941607430484086,
          0.16710897761317495,
          0.18447306516922912,
          0.2017867298913834,
          0.21928305007372434,
          0.23718021259974997,
          0.2557042226711039,
          0.27511146045130175,
          0.2957178756613325,
          0.3179452791600336,
          0.34240739661216596,
          0.37009727109049617,
          0.40289052989443996,
          0.4454907208605126,
          0.5453188678689158,
          0.5453188678689158,
          0.6302095080290666,
          0.6556400590095318,
          0.6689831986946349,
          0.6748818678860573,
          0.6751353041938979,
          0.6706397994892592,
          0.6618858684897782,
          0.6491373140406217,
          0.6325055464891034,
          0.6119788086009217,
          0.5874255858581267,
          0.5585764068596328,
          0.5249784658194616,
          0.4859040401236884,
          0.44016294074678747,
          0.3856770502708983,
          0.3183148995075905,
          0.2273277427840814,
          0,
          0,
          -0.2273277427840814,
          -0.3183148995075905,
          -0.3856770502708983,
          -0.44016294074678747,
          -0.4859040401236884,
          -0.5249784658194616,
          -0.5585764068596328,
          -0.5874255858581267,
          -0.6119788086009217,
          -0.6325055464891034,
          -0.6491373140406217,
          -0.6618858684897782,
          -0.6706397994892592,
          -0.6751353041938979,
          -0.6748818678860573,
          -0.6689831986946349,
          -0.6556400590095318,
          -0.6302095080290666,
          -0.5453188678689158,
          -0.5453188678689158,
          -0.4454907208605126,
          -0.40289052989443996,
          -0.37009727109049617,
          -0.34240739661216596,
          -0.3179452791600336,
          -0.2957178756613325,
          -0.27511146045130175,
          -0.2557042226711039,
          -0.23718021259974997,
          -0.21928305007372434,
          -0.2017867298913834,
          -0.18447306516922912,
          -0.16710897761317495,
          -0.14941607430484086,
          -0.13101835082635102,
          -0.11133080933588038,
          -0.08925902396586932,
          -0.06201846365137433,
          0
         ],
         "z": [
          0.26580222883407967,
          0.2655728204356982,
          0.26539321039153396,
          0.26527267274450045,
          0.26522242651175604,
          0.26525616347058506,
          0.2653907621776405,
          0.2656472725087773,
          0.26605230326527385,
          0.26664002825634353,
          0.2674551746460168,
          0.2685576365075031,
          0.2700299137857873,
          0.2719897729216072,
          0.27461333723864095,
          0.2781812576374755,
          0.283183788008018,
          0.29061249400322264,
          0.30312340252478454,
          0.3501452183882998,
          0.3501452183882998,
          0.42881084034308065,
          0.4729254687795768,
          0.5118794736363893,
          0.5482927314736679,
          0.5831228551721697,
          0.6168283414296386,
          0.6496602639204231,
          0.6817673208776406,
          0.713241967137843,
          0.7441434564266217,
          0.7745104457494909,
          0.804368371251879,
          0.8337339929945865,
          0.8626183099624576,
          0.8910284892849816,
          0.91896917440807,
          0.9464433884923581,
          0.9734531663638136,
          1,
          1,
          0.9734531663638136,
          0.9464433884923581,
          0.91896917440807,
          0.8910284892849816,
          0.8626183099624576,
          0.8337339929945865,
          0.804368371251879,
          0.7745104457494909,
          0.7441434564266217,
          0.713241967137843,
          0.6817673208776406,
          0.6496602639204231,
          0.6168283414296386,
          0.5831228551721697,
          0.5482927314736679,
          0.5118794736363893,
          0.4729254687795768,
          0.42881084034308065,
          0.3501452183882998,
          0.3501452183882998,
          0.30312340252478454,
          0.29061249400322264,
          0.283183788008018,
          0.2781812576374755,
          0.27461333723864095,
          0.2719897729216072,
          0.2700299137857873,
          0.2685576365075031,
          0.2674551746460168,
          0.26664002825634353,
          0.26605230326527385,
          0.2656472725087773,
          0.2653907621776405,
          0.26525616347058506,
          0.26522242651175604,
          0.26527267274450045,
          0.26539321039153396,
          0.2655728204356982,
          0.26580222883407967
         ]
        },
        {
         "line": {
          "color": "rgb(255, 105, 97)"
         },
         "mode": "lines",
         "opacity": 0.3,
         "showlegend": false,
         "type": "scatter3d",
         "x": [
          0,
          0.9640275800758169
         ],
         "y": [
          0,
          0
         ],
         "z": [
          0,
          0.26580222883407967
         ]
        },
        {
         "line": {
          "color": "rgb(255, 105, 97)"
         },
         "mode": "lines",
         "opacity": 0.3,
         "showlegend": false,
         "type": "scatter3d",
         "x": [
          0,
          0.9620939596589054
         ],
         "y": [
          0,
          0.06201846365137433
         ],
         "z": [
          0,
          0.2655728204356982
         ]
        },
        {
         "line": {
          "color": "rgb(255, 105, 97)"
         },
         "mode": "lines",
         "opacity": 0.3,
         "showlegend": false,
         "type": "scatter3d",
         "x": [
          0,
          0.9599996200617662
         ],
         "y": [
          0,
          0.08925902396586932
         ],
         "z": [
          0,
          0.26539321039153396
         ]
        },
        {
         "line": {
          "color": "rgb(255, 105, 97)"
         },
         "mode": "lines",
         "opacity": 0.3,
         "showlegend": false,
         "type": "scatter3d",
         "x": [
          0,
          0.9577243131442403
         ],
         "y": [
          0,
          0.11133080933588038
         ],
         "z": [
          0,
          0.26527267274450045
         ]
        },
        {
         "line": {
          "color": "rgb(255, 105, 97)"
         },
         "mode": "lines",
         "opacity": 0.3,
         "showlegend": false,
         "type": "scatter3d",
         "x": [
          0,
          0.9552440820135759
         ],
         "y": [
          0,
          0.13101835082635102
         ],
         "z": [
          0,
          0.26522242651175604
         ]
        },
        {
         "line": {
          "color": "rgb(255, 105, 97)"
         },
         "mode": "lines",
         "opacity": 0.3,
         "showlegend": false,
         "type": "scatter3d",
         "x": [
          0,
          0.9525303168299666
         ],
         "y": [
          0,
          0.14941607430484086
         ],
         "z": [
          0,
          0.26525616347058506
         ]
        },
        {
         "line": {
          "color": "rgb(255, 105, 97)"
         },
         "mode": "lines",
         "opacity": 0.3,
         "showlegend": false,
         "type": "scatter3d",
         "x": [
          0,
          0.9495484889945591
         ],
         "y": [
          0,
          0.16710897761317495
         ],
         "z": [
          0,
          0.2653907621776405
         ]
        },
        {
         "line": {
          "color": "rgb(255, 105, 97)"
         },
         "mode": "lines",
         "opacity": 0.3,
         "showlegend": false,
         "type": "scatter3d",
         "x": [
          0,
          0.9462564212916691
         ],
         "y": [
          0,
          0.18447306516922912
         ],
         "z": [
          0,
          0.2656472725087773
         ]
        },
        {
         "line": {
          "color": "rgb(255, 105, 97)"
         },
         "mode": "lines",
         "opacity": 0.3,
         "showlegend": false,
         "type": "scatter3d",
         "x": [
          0,
          0.9426018711879287
         ],
         "y": [
          0,
          0.2017867298913834
         ],
         "z": [
          0,
          0.26605230326527385
         ]
        },
        {
         "line": {
          "color": "rgb(255, 105, 97)"
         },
         "mode": "lines",
         "opacity": 0.3,
         "showlegend": false,
         "type": "scatter3d",
         "x": [
          0,
          0.938519067084852
         ],
         "y": [
          0,
          0.21928305007372434
         ],
         "z": [
          0,
          0.26664002825634353
         ]
        },
        {
         "line": {
          "color": "rgb(255, 105, 97)"
         },
         "mode": "lines",
         "opacity": 0.3,
         "showlegend": false,
         "type": "scatter3d",
         "x": [
          0,
          0.9339235923276625
         ],
         "y": [
          0,
          0.23718021259974997
         ],
         "z": [
          0,
          0.2674551746460168
         ]
        },
        {
         "line": {
          "color": "rgb(255, 105, 97)"
         },
         "mode": "lines",
         "opacity": 0.3,
         "showlegend": false,
         "type": "scatter3d",
         "x": [
          0,
          0.9287045527947358
         ],
         "y": [
          0,
          0.2557042226711039
         ],
         "z": [
          0,
          0.2685576365075031
         ]
        },
        {
         "line": {
          "color": "rgb(255, 105, 97)"
         },
         "mode": "lines",
         "opacity": 0.3,
         "showlegend": false,
         "type": "scatter3d",
         "x": [
          0,
          0.9227120515031718
         ],
         "y": [
          0,
          0.27511146045130175
         ],
         "z": [
          0,
          0.2700299137857873
         ]
        },
        {
         "line": {
          "color": "rgb(255, 105, 97)"
         },
         "mode": "lines",
         "opacity": 0.3,
         "showlegend": false,
         "type": "scatter3d",
         "x": [
          0,
          0.9157360435411512
         ],
         "y": [
          0,
          0.2957178756613325
         ],
         "z": [
          0,
          0.2719897729216072
         ]
        },
        {
         "line": {
          "color": "rgb(255, 105, 97)"
         },
         "mode": "lines",
         "opacity": 0.3,
         "showlegend": false,
         "type": "scatter3d",
         "x": [
          0,
          0.9074680790366705
         ],
         "y": [
          0,
          0.3179452791600336
         ],
         "z": [
          0,
          0.27461333723864095
         ]
        },
        {
         "line": {
          "color": "rgb(255, 105, 97)"
         },
         "mode": "lines",
         "opacity": 0.3,
         "showlegend": false,
         "type": "scatter3d",
         "x": [
          0,
          0.8974254078443018
         ],
         "y": [
          0,
          0.34240739661216596
         ],
         "z": [
          0,
          0.2781812576374755
         ]
        },
        {
         "line": {
          "color": "rgb(255, 105, 97)"
         },
         "mode": "lines",
         "opacity": 0.3,
         "showlegend": false,
         "type": "scatter3d",
         "x": [
          0,
          0.8847796065353212
         ],
         "y": [
          0,
          0.37009727109049617
         ],
         "z": [
          0,
          0.283183788008018
         ]
        },
        {
         "line": {
          "color": "rgb(255, 105, 97)"
         },
         "mode": "lines",
         "opacity": 0.3,
         "showlegend": false,
         "type": "scatter3d",
         "x": [
          0,
          0.8678845541030237
         ],
         "y": [
          0,
          0.40289052989443996
         ],
         "z": [
          0,
          0.29061249400322264
         ]
        },
        {
         "line": {
          "color": "rgb(255, 105, 97)"
         },
         "mode": "lines",
         "opacity": 0.3,
         "showlegend": false,
         "type": "scatter3d",
         "x": [
          0,
          0.842409769927307
         ],
         "y": [
          0,
          0.4454907208605126
         ],
         "z": [
          0,
          0.30312340252478454
         ]
        },
        {
         "line": {
          "color": "rgb(255, 105, 97)"
         },
         "mode": "lines",
         "opacity": 0.3,
         "showlegend": false,
         "type": "scatter3d",
         "x": [
          0,
          0.7615941559557649
         ],
         "y": [
          0,
          0.5453188678689158
         ],
         "z": [
          0,
          0.3501452183882998
         ]
        },
        {
         "line": {
          "color": "rgb(255, 105, 97)"
         },
         "mode": "lines",
         "opacity": 0.3,
         "showlegend": false,
         "type": "scatter3d",
         "x": [
          0,
          0.7615941559557649
         ],
         "y": [
          0,
          0.5453188678689158
         ],
         "z": [
          0,
          0.3501452183882998
         ]
        },
        {
         "line": {
          "color": "rgb(255, 105, 97)"
         },
         "mode": "lines",
         "opacity": 0.3,
         "showlegend": false,
         "type": "scatter3d",
         "x": [
          0,
          0.6472690624415961
         ],
         "y": [
          0,
          0.6302095080290666
         ],
         "z": [
          0,
          0.42881084034308065
         ]
        },
        {
         "line": {
          "color": "rgb(255, 105, 97)"
         },
         "mode": "lines",
         "opacity": 0.3,
         "showlegend": false,
         "type": "scatter3d",
         "x": [
          0,
          0.5886234908679698
         ],
         "y": [
          0,
          0.6556400590095318
         ],
         "z": [
          0,
          0.4729254687795768
         ]
        },
        {
         "line": {
          "color": "rgb(255, 105, 97)"
         },
         "mode": "lines",
         "opacity": 0.3,
         "showlegend": false,
         "type": "scatter3d",
         "x": [
          0,
          0.5389256760760501
         ],
         "y": [
          0,
          0.6689831986946349
         ],
         "z": [
          0,
          0.5118794736363893
         ]
        },
        {
         "line": {
          "color": "rgb(255, 105, 97)"
         },
         "mode": "lines",
         "opacity": 0.3,
         "showlegend": false,
         "type": "scatter3d",
         "x": [
          0,
          0.49387199253629566
         ],
         "y": [
          0,
          0.6748818678860573
         ],
         "z": [
          0,
          0.5482927314736679
         ]
        },
        {
         "line": {
          "color": "rgb(255, 105, 97)"
         },
         "mode": "lines",
         "opacity": 0.3,
         "showlegend": false,
         "type": "scatter3d",
         "x": [
          0,
          0.45184074274778485
         ],
         "y": [
          0,
          0.6751353041938979
         ],
         "z": [
          0,
          0.5831228551721697
         ]
        },
        {
         "line": {
          "color": "rgb(255, 105, 97)"
         },
         "mode": "lines",
         "opacity": 0.3,
         "showlegend": false,
         "type": "scatter3d",
         "x": [
          0,
          0.4120255532732981
         ],
         "y": [
          0,
          0.6706397994892592
         ],
         "z": [
          0,
          0.6168283414296386
         ]
        },
        {
         "line": {
          "color": "rgb(255, 105, 97)"
         },
         "mode": "lines",
         "opacity": 0.3,
         "showlegend": false,
         "type": "scatter3d",
         "x": [
          0,
          0.373963418767636
         ],
         "y": [
          0,
          0.6618858684897782
         ],
         "z": [
          0,
          0.6496602639204231
         ]
        },
        {
         "line": {
          "color": "rgb(255, 105, 97)"
         },
         "mode": "lines",
         "opacity": 0.3,
         "showlegend": false,
         "type": "scatter3d",
         "x": [
          0,
          0.33736340599337616
         ],
         "y": [
          0,
          0.6491373140406217
         ],
         "z": [
          0,
          0.6817673208776406
         ]
        },
        {
         "line": {
          "color": "rgb(255, 105, 97)"
         },
         "mode": "lines",
         "opacity": 0.3,
         "showlegend": false,
         "type": "scatter3d",
         "x": [
          0,
          0.30203084275262454
         ],
         "y": [
          0,
          0.6325055464891034
         ],
         "z": [
          0,
          0.713241967137843
         ]
        },
        {
         "line": {
          "color": "rgb(255, 105, 97)"
         },
         "mode": "lines",
         "opacity": 0.3,
         "showlegend": false,
         "type": "scatter3d",
         "x": [
          0,
          0.26782915091684306
         ],
         "y": [
          0,
          0.6119788086009217
         ],
         "z": [
          0,
          0.7441434564266217
         ]
        },
        {
         "line": {
          "color": "rgb(255, 105, 97)"
         },
         "mode": "lines",
         "opacity": 0.3,
         "showlegend": false,
         "type": "scatter3d",
         "x": [
          0,
          0.23465879592327538
         ],
         "y": [
          0,
          0.5874255858581267
         ],
         "z": [
          0,
          0.7745104457494909
         ]
        },
        {
         "line": {
          "color": "rgb(255, 105, 97)"
         },
         "mode": "lines",
         "opacity": 0.3,
         "showlegend": false,
         "type": "scatter3d",
         "x": [
          0,
          0.20244485923179512
         ],
         "y": [
          0,
          0.5585764068596328
         ],
         "z": [
          0,
          0.804368371251879
         ]
        },
        {
         "line": {
          "color": "rgb(255, 105, 97)"
         },
         "mode": "lines",
         "opacity": 0.3,
         "showlegend": false,
         "type": "scatter3d",
         "x": [
          0,
          0.17112930593895137
         ],
         "y": [
          0,
          0.5249784658194616
         ],
         "z": [
          0,
          0.8337339929945865
         ]
        },
        {
         "line": {
          "color": "rgb(255, 105, 97)"
         },
         "mode": "lines",
         "opacity": 0.3,
         "showlegend": false,
         "type": "scatter3d",
         "x": [
          0,
          0.14066596997493896
         ],
         "y": [
          0,
          0.4859040401236884
         ],
         "z": [
          0,
          0.8626183099624576
         ]
        },
        {
         "line": {
          "color": "rgb(255, 105, 97)"
         },
         "mode": "lines",
         "opacity": 0.3,
         "showlegend": false,
         "type": "scatter3d",
         "x": [
          0,
          0.11101719180227688
         ],
         "y": [
          0,
          0.44016294074678747
         ],
         "z": [
          0,
          0.8910284892849816
         ]
        },
        {
         "line": {
          "color": "rgb(255, 105, 97)"
         },
         "mode": "lines",
         "opacity": 0.3,
         "showlegend": false,
         "type": "scatter3d",
         "x": [
          0,
          0.08215150261613617
         ],
         "y": [
          0,
          0.3856770502708983
         ],
         "z": [
          0,
          0.91896917440807
         ]
        },
        {
         "line": {
          "color": "rgb(255, 105, 97)"
         },
         "mode": "lines",
         "opacity": 0.3,
         "showlegend": false,
         "type": "scatter3d",
         "x": [
          0,
          0.05404199413952211
         ],
         "y": [
          0,
          0.3183148995075905
         ],
         "z": [
          0,
          0.9464433884923581
         ]
        },
        {
         "line": {
          "color": "rgb(255, 105, 97)"
         },
         "mode": "lines",
         "opacity": 0.3,
         "showlegend": false,
         "type": "scatter3d",
         "x": [
          0,
          0.02666515060823686
         ],
         "y": [
          0,
          0.2273277427840814
         ],
         "z": [
          0,
          0.9734531663638136
         ]
        },
        {
         "line": {
          "color": "rgb(255, 105, 97)"
         },
         "mode": "lines",
         "opacity": 0.3,
         "showlegend": false,
         "type": "scatter3d",
         "x": [
          0,
          6.123233995736766e-17
         ],
         "y": [
          0,
          0
         ],
         "z": [
          0,
          1
         ]
        },
        {
         "line": {
          "color": "rgb(255, 105, 97)"
         },
         "mode": "lines",
         "opacity": 0.3,
         "showlegend": false,
         "type": "scatter3d",
         "x": [
          0,
          6.123233995736766e-17
         ],
         "y": [
          0,
          0
         ],
         "z": [
          0,
          1
         ]
        },
        {
         "line": {
          "color": "rgb(255, 105, 97)"
         },
         "mode": "lines",
         "opacity": 0.3,
         "showlegend": false,
         "type": "scatter3d",
         "x": [
          0,
          0.02666515060823686
         ],
         "y": [
          0,
          -0.2273277427840814
         ],
         "z": [
          0,
          0.9734531663638136
         ]
        },
        {
         "line": {
          "color": "rgb(255, 105, 97)"
         },
         "mode": "lines",
         "opacity": 0.3,
         "showlegend": false,
         "type": "scatter3d",
         "x": [
          0,
          0.05404199413952211
         ],
         "y": [
          0,
          -0.3183148995075905
         ],
         "z": [
          0,
          0.9464433884923581
         ]
        },
        {
         "line": {
          "color": "rgb(255, 105, 97)"
         },
         "mode": "lines",
         "opacity": 0.3,
         "showlegend": false,
         "type": "scatter3d",
         "x": [
          0,
          0.08215150261613617
         ],
         "y": [
          0,
          -0.3856770502708983
         ],
         "z": [
          0,
          0.91896917440807
         ]
        },
        {
         "line": {
          "color": "rgb(255, 105, 97)"
         },
         "mode": "lines",
         "opacity": 0.3,
         "showlegend": false,
         "type": "scatter3d",
         "x": [
          0,
          0.11101719180227688
         ],
         "y": [
          0,
          -0.44016294074678747
         ],
         "z": [
          0,
          0.8910284892849816
         ]
        },
        {
         "line": {
          "color": "rgb(255, 105, 97)"
         },
         "mode": "lines",
         "opacity": 0.3,
         "showlegend": false,
         "type": "scatter3d",
         "x": [
          0,
          0.14066596997493896
         ],
         "y": [
          0,
          -0.4859040401236884
         ],
         "z": [
          0,
          0.8626183099624576
         ]
        },
        {
         "line": {
          "color": "rgb(255, 105, 97)"
         },
         "mode": "lines",
         "opacity": 0.3,
         "showlegend": false,
         "type": "scatter3d",
         "x": [
          0,
          0.17112930593895137
         ],
         "y": [
          0,
          -0.5249784658194616
         ],
         "z": [
          0,
          0.8337339929945865
         ]
        },
        {
         "line": {
          "color": "rgb(255, 105, 97)"
         },
         "mode": "lines",
         "opacity": 0.3,
         "showlegend": false,
         "type": "scatter3d",
         "x": [
          0,
          0.20244485923179512
         ],
         "y": [
          0,
          -0.5585764068596328
         ],
         "z": [
          0,
          0.804368371251879
         ]
        },
        {
         "line": {
          "color": "rgb(255, 105, 97)"
         },
         "mode": "lines",
         "opacity": 0.3,
         "showlegend": false,
         "type": "scatter3d",
         "x": [
          0,
          0.23465879592327538
         ],
         "y": [
          0,
          -0.5874255858581267
         ],
         "z": [
          0,
          0.7745104457494909
         ]
        },
        {
         "line": {
          "color": "rgb(255, 105, 97)"
         },
         "mode": "lines",
         "opacity": 0.3,
         "showlegend": false,
         "type": "scatter3d",
         "x": [
          0,
          0.26782915091684306
         ],
         "y": [
          0,
          -0.6119788086009217
         ],
         "z": [
          0,
          0.7441434564266217
         ]
        },
        {
         "line": {
          "color": "rgb(255, 105, 97)"
         },
         "mode": "lines",
         "opacity": 0.3,
         "showlegend": false,
         "type": "scatter3d",
         "x": [
          0,
          0.30203084275262454
         ],
         "y": [
          0,
          -0.6325055464891034
         ],
         "z": [
          0,
          0.713241967137843
         ]
        },
        {
         "line": {
          "color": "rgb(255, 105, 97)"
         },
         "mode": "lines",
         "opacity": 0.3,
         "showlegend": false,
         "type": "scatter3d",
         "x": [
          0,
          0.33736340599337616
         ],
         "y": [
          0,
          -0.6491373140406217
         ],
         "z": [
          0,
          0.6817673208776406
         ]
        },
        {
         "line": {
          "color": "rgb(255, 105, 97)"
         },
         "mode": "lines",
         "opacity": 0.3,
         "showlegend": false,
         "type": "scatter3d",
         "x": [
          0,
          0.373963418767636
         ],
         "y": [
          0,
          -0.6618858684897782
         ],
         "z": [
          0,
          0.6496602639204231
         ]
        },
        {
         "line": {
          "color": "rgb(255, 105, 97)"
         },
         "mode": "lines",
         "opacity": 0.3,
         "showlegend": false,
         "type": "scatter3d",
         "x": [
          0,
          0.4120255532732981
         ],
         "y": [
          0,
          -0.6706397994892592
         ],
         "z": [
          0,
          0.6168283414296386
         ]
        },
        {
         "line": {
          "color": "rgb(255, 105, 97)"
         },
         "mode": "lines",
         "opacity": 0.3,
         "showlegend": false,
         "type": "scatter3d",
         "x": [
          0,
          0.45184074274778485
         ],
         "y": [
          0,
          -0.6751353041938979
         ],
         "z": [
          0,
          0.5831228551721697
         ]
        },
        {
         "line": {
          "color": "rgb(255, 105, 97)"
         },
         "mode": "lines",
         "opacity": 0.3,
         "showlegend": false,
         "type": "scatter3d",
         "x": [
          0,
          0.49387199253629566
         ],
         "y": [
          0,
          -0.6748818678860573
         ],
         "z": [
          0,
          0.5482927314736679
         ]
        },
        {
         "line": {
          "color": "rgb(255, 105, 97)"
         },
         "mode": "lines",
         "opacity": 0.3,
         "showlegend": false,
         "type": "scatter3d",
         "x": [
          0,
          0.5389256760760501
         ],
         "y": [
          0,
          -0.6689831986946349
         ],
         "z": [
          0,
          0.5118794736363893
         ]
        },
        {
         "line": {
          "color": "rgb(255, 105, 97)"
         },
         "mode": "lines",
         "opacity": 0.3,
         "showlegend": false,
         "type": "scatter3d",
         "x": [
          0,
          0.5886234908679698
         ],
         "y": [
          0,
          -0.6556400590095318
         ],
         "z": [
          0,
          0.4729254687795768
         ]
        },
        {
         "line": {
          "color": "rgb(255, 105, 97)"
         },
         "mode": "lines",
         "opacity": 0.3,
         "showlegend": false,
         "type": "scatter3d",
         "x": [
          0,
          0.6472690624415961
         ],
         "y": [
          0,
          -0.6302095080290666
         ],
         "z": [
          0,
          0.42881084034308065
         ]
        },
        {
         "line": {
          "color": "rgb(255, 105, 97)"
         },
         "mode": "lines",
         "opacity": 0.3,
         "showlegend": false,
         "type": "scatter3d",
         "x": [
          0,
          0.7615941559557649
         ],
         "y": [
          0,
          -0.5453188678689158
         ],
         "z": [
          0,
          0.3501452183882998
         ]
        },
        {
         "line": {
          "color": "rgb(255, 105, 97)"
         },
         "mode": "lines",
         "opacity": 0.3,
         "showlegend": false,
         "type": "scatter3d",
         "x": [
          0,
          0.7615941559557649
         ],
         "y": [
          0,
          -0.5453188678689158
         ],
         "z": [
          0,
          0.3501452183882998
         ]
        },
        {
         "line": {
          "color": "rgb(255, 105, 97)"
         },
         "mode": "lines",
         "opacity": 0.3,
         "showlegend": false,
         "type": "scatter3d",
         "x": [
          0,
          0.842409769927307
         ],
         "y": [
          0,
          -0.4454907208605126
         ],
         "z": [
          0,
          0.30312340252478454
         ]
        },
        {
         "line": {
          "color": "rgb(255, 105, 97)"
         },
         "mode": "lines",
         "opacity": 0.3,
         "showlegend": false,
         "type": "scatter3d",
         "x": [
          0,
          0.8678845541030237
         ],
         "y": [
          0,
          -0.40289052989443996
         ],
         "z": [
          0,
          0.29061249400322264
         ]
        },
        {
         "line": {
          "color": "rgb(255, 105, 97)"
         },
         "mode": "lines",
         "opacity": 0.3,
         "showlegend": false,
         "type": "scatter3d",
         "x": [
          0,
          0.8847796065353212
         ],
         "y": [
          0,
          -0.37009727109049617
         ],
         "z": [
          0,
          0.283183788008018
         ]
        },
        {
         "line": {
          "color": "rgb(255, 105, 97)"
         },
         "mode": "lines",
         "opacity": 0.3,
         "showlegend": false,
         "type": "scatter3d",
         "x": [
          0,
          0.8974254078443018
         ],
         "y": [
          0,
          -0.34240739661216596
         ],
         "z": [
          0,
          0.2781812576374755
         ]
        },
        {
         "line": {
          "color": "rgb(255, 105, 97)"
         },
         "mode": "lines",
         "opacity": 0.3,
         "showlegend": false,
         "type": "scatter3d",
         "x": [
          0,
          0.9074680790366705
         ],
         "y": [
          0,
          -0.3179452791600336
         ],
         "z": [
          0,
          0.27461333723864095
         ]
        },
        {
         "line": {
          "color": "rgb(255, 105, 97)"
         },
         "mode": "lines",
         "opacity": 0.3,
         "showlegend": false,
         "type": "scatter3d",
         "x": [
          0,
          0.9157360435411512
         ],
         "y": [
          0,
          -0.2957178756613325
         ],
         "z": [
          0,
          0.2719897729216072
         ]
        },
        {
         "line": {
          "color": "rgb(255, 105, 97)"
         },
         "mode": "lines",
         "opacity": 0.3,
         "showlegend": false,
         "type": "scatter3d",
         "x": [
          0,
          0.9227120515031718
         ],
         "y": [
          0,
          -0.27511146045130175
         ],
         "z": [
          0,
          0.2700299137857873
         ]
        },
        {
         "line": {
          "color": "rgb(255, 105, 97)"
         },
         "mode": "lines",
         "opacity": 0.3,
         "showlegend": false,
         "type": "scatter3d",
         "x": [
          0,
          0.9287045527947358
         ],
         "y": [
          0,
          -0.2557042226711039
         ],
         "z": [
          0,
          0.2685576365075031
         ]
        },
        {
         "line": {
          "color": "rgb(255, 105, 97)"
         },
         "mode": "lines",
         "opacity": 0.3,
         "showlegend": false,
         "type": "scatter3d",
         "x": [
          0,
          0.9339235923276625
         ],
         "y": [
          0,
          -0.23718021259974997
         ],
         "z": [
          0,
          0.2674551746460168
         ]
        },
        {
         "line": {
          "color": "rgb(255, 105, 97)"
         },
         "mode": "lines",
         "opacity": 0.3,
         "showlegend": false,
         "type": "scatter3d",
         "x": [
          0,
          0.938519067084852
         ],
         "y": [
          0,
          -0.21928305007372434
         ],
         "z": [
          0,
          0.26664002825634353
         ]
        },
        {
         "line": {
          "color": "rgb(255, 105, 97)"
         },
         "mode": "lines",
         "opacity": 0.3,
         "showlegend": false,
         "type": "scatter3d",
         "x": [
          0,
          0.9426018711879287
         ],
         "y": [
          0,
          -0.2017867298913834
         ],
         "z": [
          0,
          0.26605230326527385
         ]
        },
        {
         "line": {
          "color": "rgb(255, 105, 97)"
         },
         "mode": "lines",
         "opacity": 0.3,
         "showlegend": false,
         "type": "scatter3d",
         "x": [
          0,
          0.9462564212916691
         ],
         "y": [
          0,
          -0.18447306516922912
         ],
         "z": [
          0,
          0.2656472725087773
         ]
        },
        {
         "line": {
          "color": "rgb(255, 105, 97)"
         },
         "mode": "lines",
         "opacity": 0.3,
         "showlegend": false,
         "type": "scatter3d",
         "x": [
          0,
          0.9495484889945591
         ],
         "y": [
          0,
          -0.16710897761317495
         ],
         "z": [
          0,
          0.2653907621776405
         ]
        },
        {
         "line": {
          "color": "rgb(255, 105, 97)"
         },
         "mode": "lines",
         "opacity": 0.3,
         "showlegend": false,
         "type": "scatter3d",
         "x": [
          0,
          0.9525303168299666
         ],
         "y": [
          0,
          -0.14941607430484086
         ],
         "z": [
          0,
          0.26525616347058506
         ]
        },
        {
         "line": {
          "color": "rgb(255, 105, 97)"
         },
         "mode": "lines",
         "opacity": 0.3,
         "showlegend": false,
         "type": "scatter3d",
         "x": [
          0,
          0.9552440820135759
         ],
         "y": [
          0,
          -0.13101835082635102
         ],
         "z": [
          0,
          0.26522242651175604
         ]
        },
        {
         "line": {
          "color": "rgb(255, 105, 97)"
         },
         "mode": "lines",
         "opacity": 0.3,
         "showlegend": false,
         "type": "scatter3d",
         "x": [
          0,
          0.9577243131442403
         ],
         "y": [
          0,
          -0.11133080933588038
         ],
         "z": [
          0,
          0.26527267274450045
         ]
        },
        {
         "line": {
          "color": "rgb(255, 105, 97)"
         },
         "mode": "lines",
         "opacity": 0.3,
         "showlegend": false,
         "type": "scatter3d",
         "x": [
          0,
          0.9599996200617662
         ],
         "y": [
          0,
          -0.08925902396586932
         ],
         "z": [
          0,
          0.26539321039153396
         ]
        },
        {
         "line": {
          "color": "rgb(255, 105, 97)"
         },
         "mode": "lines",
         "opacity": 0.3,
         "showlegend": false,
         "type": "scatter3d",
         "x": [
          0,
          0.9620939596589054
         ],
         "y": [
          0,
          -0.06201846365137433
         ],
         "z": [
          0,
          0.2655728204356982
         ]
        },
        {
         "line": {
          "color": "rgb(255, 105, 97)"
         },
         "mode": "lines",
         "opacity": 0.3,
         "showlegend": false,
         "type": "scatter3d",
         "x": [
          0,
          0.9640275800758169
         ],
         "y": [
          0,
          0
         ],
         "z": [
          0,
          0.26580222883407967
         ]
        }
       ],
       "layout": {
        "margin": {
         "b": 0,
         "l": 0,
         "r": 0,
         "t": 0
        },
        "scene": {
         "xaxis": {
          "title": "Z"
         },
         "yaxis": {
          "title": "Y"
         },
         "zaxis": {
          "title": "X"
         }
        }
       }
      },
      "text/html": [
       "<div id=\"212dfccf-fa13-417b-b052-023021637620\" style=\"height: 525px; width: 100%;\" class=\"plotly-graph-div\"></div><script type=\"text/javascript\">require([\"plotly\"], function(Plotly) { window.PLOTLYENV=window.PLOTLYENV || {};window.PLOTLYENV.BASE_URL=\"https://plot.ly\";Plotly.newPlot(\"212dfccf-fa13-417b-b052-023021637620\", [{\"type\": \"scatter3d\", \"x\": [-1.0, 1.0], \"y\": [0, 0], \"z\": [0, 0], \"mode\": \"lines\", \"showlegend\": false, \"line\": {\"color\": \"rgb(0,33,71)\", \"width\": 5}}, {\"type\": \"surface\", \"x\": [[-1.0, -1.0, -1.0, -1.0, -1.0, -1.0, -1.0, -1.0, -1.0, -1.0], [1.0, 1.0, 1.0, 1.0, 1.0, 1.0, 1.0, 1.0, 1.0, 1.0]], \"y\": [[0.0, 0.342020143325669, 0.6427876096865394, 0.8660254037844386, 0.984807753012208, 0.984807753012208, 0.8660254037844388, 0.6427876096865395, 0.342020143325669, 0.0], [0.0, 0.342020143325669, 0.6427876096865394, 0.8660254037844386, 0.984807753012208, 0.984807753012208, 0.8660254037844388, 0.6427876096865395, 0.342020143325669, 0.0]], \"z\": [[-1.0, -0.9396926207859083, -0.766044443118978, -0.5, -0.17364817766693036, 0.17364817766693036, 0.49999999999999983, 0.7660444431189779, 0.9396926207859083, 1.0], [-1.0, -0.9396926207859083, -0.766044443118978, -0.5, -0.17364817766693036, 0.17364817766693036, 0.49999999999999983, 0.7660444431189779, 0.9396926207859083, 1.0]], \"surfacecolor\": [1, 1], \"showscale\": false, \"opacity\": 0.4}, {\"type\": \"surface\", \"x\": [[-1.0, -1.0, -1.0, -1.0, -1.0, -1.0, -1.0, -1.0, -1.0, -1.0], [1.0, 1.0, 1.0, 1.0, 1.0, 1.0, 1.0, 1.0, 1.0, 1.0]], \"y\": [[-0.0, -0.342020143325669, -0.6427876096865394, -0.8660254037844386, -0.984807753012208, -0.984807753012208, -0.8660254037844388, -0.6427876096865395, -0.342020143325669, -0.0], [-0.0, -0.342020143325669, -0.6427876096865394, -0.8660254037844386, -0.984807753012208, -0.984807753012208, -0.8660254037844388, -0.6427876096865395, -0.342020143325669, -0.0]], \"z\": [[-1.0, -0.9396926207859083, -0.766044443118978, -0.5, -0.17364817766693036, 0.17364817766693036, 0.49999999999999983, 0.7660444431189779, 0.9396926207859083, 1.0], [-1.0, -0.9396926207859083, -0.766044443118978, -0.5, -0.17364817766693036, 0.17364817766693036, 0.49999999999999983, 0.7660444431189779, 0.9396926207859083, 1.0]], \"surfacecolor\": [1, 1], \"showscale\": false, \"opacity\": 0.4}, {\"type\": \"scatter3d\", \"x\": [0.0, 0.7615941559557649], \"y\": [0.0, 0.0], \"z\": [0.0, 0.6480542736638855], \"mode\": \"lines\", \"showlegend\": false, \"line\": {\"color\": \"rgb(255, 105, 97)\", \"width\": 7}}, {\"type\": \"scatter3d\", \"x\": [0.9640275800758169, 0.9620939596589054, 0.9599996200617662, 0.9577243131442403, 0.9552440820135759, 0.9525303168299666, 0.9495484889945591, 0.9462564212916691, 0.9426018711879287, 0.938519067084852, 0.9339235923276625, 0.9287045527947358, 0.9227120515031718, 0.9157360435411512, 0.9074680790366705, 0.8974254078443018, 0.8847796065353212, 0.8678845541030237, 0.842409769927307, 0.7615941559557649, 0.7615941559557649, 0.6472690624415961, 0.5886234908679698, 0.5389256760760501, 0.49387199253629566, 0.45184074274778485, 0.4120255532732981, 0.373963418767636, 0.33736340599337616, 0.30203084275262454, 0.26782915091684306, 0.23465879592327538, 0.20244485923179512, 0.17112930593895137, 0.14066596997493896, 0.11101719180227688, 0.08215150261613617, 0.05404199413952211, 0.02666515060823686, 6.123233995736766e-17, 6.123233995736766e-17, 0.02666515060823686, 0.05404199413952211, 0.08215150261613617, 0.11101719180227688, 0.14066596997493896, 0.17112930593895137, 0.20244485923179512, 0.23465879592327538, 0.26782915091684306, 0.30203084275262454, 0.33736340599337616, 0.373963418767636, 0.4120255532732981, 0.45184074274778485, 0.49387199253629566, 0.5389256760760501, 0.5886234908679698, 0.6472690624415961, 0.7615941559557649, 0.7615941559557649, 0.842409769927307, 0.8678845541030237, 0.8847796065353212, 0.8974254078443018, 0.9074680790366705, 0.9157360435411512, 0.9227120515031718, 0.9287045527947358, 0.9339235923276625, 0.938519067084852, 0.9426018711879287, 0.9462564212916691, 0.9495484889945591, 0.9525303168299666, 0.9552440820135759, 0.9577243131442403, 0.9599996200617662, 0.9620939596589054, 0.9640275800758169], \"y\": [0.0, 0.06201846365137433, 0.08925902396586932, 0.11133080933588038, 0.13101835082635102, 0.14941607430484086, 0.16710897761317495, 0.18447306516922912, 0.2017867298913834, 0.21928305007372434, 0.23718021259974997, 0.2557042226711039, 0.27511146045130175, 0.2957178756613325, 0.3179452791600336, 0.34240739661216596, 0.37009727109049617, 0.40289052989443996, 0.4454907208605126, 0.5453188678689158, 0.5453188678689158, 0.6302095080290666, 0.6556400590095318, 0.6689831986946349, 0.6748818678860573, 0.6751353041938979, 0.6706397994892592, 0.6618858684897782, 0.6491373140406217, 0.6325055464891034, 0.6119788086009217, 0.5874255858581267, 0.5585764068596328, 0.5249784658194616, 0.4859040401236884, 0.44016294074678747, 0.3856770502708983, 0.3183148995075905, 0.2273277427840814, 0.0, 0.0, -0.2273277427840814, -0.3183148995075905, -0.3856770502708983, -0.44016294074678747, -0.4859040401236884, -0.5249784658194616, -0.5585764068596328, -0.5874255858581267, -0.6119788086009217, -0.6325055464891034, -0.6491373140406217, -0.6618858684897782, -0.6706397994892592, -0.6751353041938979, -0.6748818678860573, -0.6689831986946349, -0.6556400590095318, -0.6302095080290666, -0.5453188678689158, -0.5453188678689158, -0.4454907208605126, -0.40289052989443996, -0.37009727109049617, -0.34240739661216596, -0.3179452791600336, -0.2957178756613325, -0.27511146045130175, -0.2557042226711039, -0.23718021259974997, -0.21928305007372434, -0.2017867298913834, -0.18447306516922912, -0.16710897761317495, -0.14941607430484086, -0.13101835082635102, -0.11133080933588038, -0.08925902396586932, -0.06201846365137433, 0.0], \"z\": [0.26580222883407967, 0.2655728204356982, 0.26539321039153396, 0.26527267274450045, 0.26522242651175604, 0.26525616347058506, 0.2653907621776405, 0.2656472725087773, 0.26605230326527385, 0.26664002825634353, 0.2674551746460168, 0.2685576365075031, 0.2700299137857873, 0.2719897729216072, 0.27461333723864095, 0.2781812576374755, 0.283183788008018, 0.29061249400322264, 0.30312340252478454, 0.3501452183882998, 0.3501452183882998, 0.42881084034308065, 0.4729254687795768, 0.5118794736363893, 0.5482927314736679, 0.5831228551721697, 0.6168283414296386, 0.6496602639204231, 0.6817673208776406, 0.713241967137843, 0.7441434564266217, 0.7745104457494909, 0.804368371251879, 0.8337339929945865, 0.8626183099624576, 0.8910284892849816, 0.91896917440807, 0.9464433884923581, 0.9734531663638136, 1.0, 1.0, 0.9734531663638136, 0.9464433884923581, 0.91896917440807, 0.8910284892849816, 0.8626183099624576, 0.8337339929945865, 0.804368371251879, 0.7745104457494909, 0.7441434564266217, 0.713241967137843, 0.6817673208776406, 0.6496602639204231, 0.6168283414296386, 0.5831228551721697, 0.5482927314736679, 0.5118794736363893, 0.4729254687795768, 0.42881084034308065, 0.3501452183882998, 0.3501452183882998, 0.30312340252478454, 0.29061249400322264, 0.283183788008018, 0.2781812576374755, 0.27461333723864095, 0.2719897729216072, 0.2700299137857873, 0.2685576365075031, 0.2674551746460168, 0.26664002825634353, 0.26605230326527385, 0.2656472725087773, 0.2653907621776405, 0.26525616347058506, 0.26522242651175604, 0.26527267274450045, 0.26539321039153396, 0.2655728204356982, 0.26580222883407967], \"mode\": \"lines\", \"showlegend\": false, \"line\": {\"color\": \"rgb(255, 105, 97)\", \"width\": 5}}, {\"type\": \"scatter3d\", \"x\": [0, 0.9640275800758169], \"y\": [0, 0.0], \"z\": [0, 0.26580222883407967], \"opacity\": 0.3, \"mode\": \"lines\", \"showlegend\": false, \"line\": {\"color\": \"rgb(255, 105, 97)\"}}, {\"type\": \"scatter3d\", \"x\": [0, 0.9620939596589054], \"y\": [0, 0.06201846365137433], \"z\": [0, 0.2655728204356982], \"opacity\": 0.3, \"mode\": \"lines\", \"showlegend\": false, \"line\": {\"color\": \"rgb(255, 105, 97)\"}}, {\"type\": \"scatter3d\", \"x\": [0, 0.9599996200617662], \"y\": [0, 0.08925902396586932], \"z\": [0, 0.26539321039153396], \"opacity\": 0.3, \"mode\": \"lines\", \"showlegend\": false, \"line\": {\"color\": \"rgb(255, 105, 97)\"}}, {\"type\": \"scatter3d\", \"x\": [0, 0.9577243131442403], \"y\": [0, 0.11133080933588038], \"z\": [0, 0.26527267274450045], \"opacity\": 0.3, \"mode\": \"lines\", \"showlegend\": false, \"line\": {\"color\": \"rgb(255, 105, 97)\"}}, {\"type\": \"scatter3d\", \"x\": [0, 0.9552440820135759], \"y\": [0, 0.13101835082635102], \"z\": [0, 0.26522242651175604], \"opacity\": 0.3, \"mode\": \"lines\", \"showlegend\": false, \"line\": {\"color\": \"rgb(255, 105, 97)\"}}, {\"type\": \"scatter3d\", \"x\": [0, 0.9525303168299666], \"y\": [0, 0.14941607430484086], \"z\": [0, 0.26525616347058506], \"opacity\": 0.3, \"mode\": \"lines\", \"showlegend\": false, \"line\": {\"color\": \"rgb(255, 105, 97)\"}}, {\"type\": \"scatter3d\", \"x\": [0, 0.9495484889945591], \"y\": [0, 0.16710897761317495], \"z\": [0, 0.2653907621776405], \"opacity\": 0.3, \"mode\": \"lines\", \"showlegend\": false, \"line\": {\"color\": \"rgb(255, 105, 97)\"}}, {\"type\": \"scatter3d\", \"x\": [0, 0.9462564212916691], \"y\": [0, 0.18447306516922912], \"z\": [0, 0.2656472725087773], \"opacity\": 0.3, \"mode\": \"lines\", \"showlegend\": false, \"line\": {\"color\": \"rgb(255, 105, 97)\"}}, {\"type\": \"scatter3d\", \"x\": [0, 0.9426018711879287], \"y\": [0, 0.2017867298913834], \"z\": [0, 0.26605230326527385], \"opacity\": 0.3, \"mode\": \"lines\", \"showlegend\": false, \"line\": {\"color\": \"rgb(255, 105, 97)\"}}, {\"type\": \"scatter3d\", \"x\": [0, 0.938519067084852], \"y\": [0, 0.21928305007372434], \"z\": [0, 0.26664002825634353], \"opacity\": 0.3, \"mode\": \"lines\", \"showlegend\": false, \"line\": {\"color\": \"rgb(255, 105, 97)\"}}, {\"type\": \"scatter3d\", \"x\": [0, 0.9339235923276625], \"y\": [0, 0.23718021259974997], \"z\": [0, 0.2674551746460168], \"opacity\": 0.3, \"mode\": \"lines\", \"showlegend\": false, \"line\": {\"color\": \"rgb(255, 105, 97)\"}}, {\"type\": \"scatter3d\", \"x\": [0, 0.9287045527947358], \"y\": [0, 0.2557042226711039], \"z\": [0, 0.2685576365075031], \"opacity\": 0.3, \"mode\": \"lines\", \"showlegend\": false, \"line\": {\"color\": \"rgb(255, 105, 97)\"}}, {\"type\": \"scatter3d\", \"x\": [0, 0.9227120515031718], \"y\": [0, 0.27511146045130175], \"z\": [0, 0.2700299137857873], \"opacity\": 0.3, \"mode\": \"lines\", \"showlegend\": false, \"line\": {\"color\": \"rgb(255, 105, 97)\"}}, {\"type\": \"scatter3d\", \"x\": [0, 0.9157360435411512], \"y\": [0, 0.2957178756613325], \"z\": [0, 0.2719897729216072], \"opacity\": 0.3, \"mode\": \"lines\", \"showlegend\": false, \"line\": {\"color\": \"rgb(255, 105, 97)\"}}, {\"type\": \"scatter3d\", \"x\": [0, 0.9074680790366705], \"y\": [0, 0.3179452791600336], \"z\": [0, 0.27461333723864095], \"opacity\": 0.3, \"mode\": \"lines\", \"showlegend\": false, \"line\": {\"color\": \"rgb(255, 105, 97)\"}}, {\"type\": \"scatter3d\", \"x\": [0, 0.8974254078443018], \"y\": [0, 0.34240739661216596], \"z\": [0, 0.2781812576374755], \"opacity\": 0.3, \"mode\": \"lines\", \"showlegend\": false, \"line\": {\"color\": \"rgb(255, 105, 97)\"}}, {\"type\": \"scatter3d\", \"x\": [0, 0.8847796065353212], \"y\": [0, 0.37009727109049617], \"z\": [0, 0.283183788008018], \"opacity\": 0.3, \"mode\": \"lines\", \"showlegend\": false, \"line\": {\"color\": \"rgb(255, 105, 97)\"}}, {\"type\": \"scatter3d\", \"x\": [0, 0.8678845541030237], \"y\": [0, 0.40289052989443996], \"z\": [0, 0.29061249400322264], \"opacity\": 0.3, \"mode\": \"lines\", \"showlegend\": false, \"line\": {\"color\": \"rgb(255, 105, 97)\"}}, {\"type\": \"scatter3d\", \"x\": [0, 0.842409769927307], \"y\": [0, 0.4454907208605126], \"z\": [0, 0.30312340252478454], \"opacity\": 0.3, \"mode\": \"lines\", \"showlegend\": false, \"line\": {\"color\": \"rgb(255, 105, 97)\"}}, {\"type\": \"scatter3d\", \"x\": [0, 0.7615941559557649], \"y\": [0, 0.5453188678689158], \"z\": [0, 0.3501452183882998], \"opacity\": 0.3, \"mode\": \"lines\", \"showlegend\": false, \"line\": {\"color\": \"rgb(255, 105, 97)\"}}, {\"type\": \"scatter3d\", \"x\": [0, 0.7615941559557649], \"y\": [0, 0.5453188678689158], \"z\": [0, 0.3501452183882998], \"opacity\": 0.3, \"mode\": \"lines\", \"showlegend\": false, \"line\": {\"color\": \"rgb(255, 105, 97)\"}}, {\"type\": \"scatter3d\", \"x\": [0, 0.6472690624415961], \"y\": [0, 0.6302095080290666], \"z\": [0, 0.42881084034308065], \"opacity\": 0.3, \"mode\": \"lines\", \"showlegend\": false, \"line\": {\"color\": \"rgb(255, 105, 97)\"}}, {\"type\": \"scatter3d\", \"x\": [0, 0.5886234908679698], \"y\": [0, 0.6556400590095318], \"z\": [0, 0.4729254687795768], \"opacity\": 0.3, \"mode\": \"lines\", \"showlegend\": false, \"line\": {\"color\": \"rgb(255, 105, 97)\"}}, {\"type\": \"scatter3d\", \"x\": [0, 0.5389256760760501], \"y\": [0, 0.6689831986946349], \"z\": [0, 0.5118794736363893], \"opacity\": 0.3, \"mode\": \"lines\", \"showlegend\": false, \"line\": {\"color\": \"rgb(255, 105, 97)\"}}, {\"type\": \"scatter3d\", \"x\": [0, 0.49387199253629566], \"y\": [0, 0.6748818678860573], \"z\": [0, 0.5482927314736679], \"opacity\": 0.3, \"mode\": \"lines\", \"showlegend\": false, \"line\": {\"color\": \"rgb(255, 105, 97)\"}}, {\"type\": \"scatter3d\", \"x\": [0, 0.45184074274778485], \"y\": [0, 0.6751353041938979], \"z\": [0, 0.5831228551721697], \"opacity\": 0.3, \"mode\": \"lines\", \"showlegend\": false, \"line\": {\"color\": \"rgb(255, 105, 97)\"}}, {\"type\": \"scatter3d\", \"x\": [0, 0.4120255532732981], \"y\": [0, 0.6706397994892592], \"z\": [0, 0.6168283414296386], \"opacity\": 0.3, \"mode\": \"lines\", \"showlegend\": false, \"line\": {\"color\": \"rgb(255, 105, 97)\"}}, {\"type\": \"scatter3d\", \"x\": [0, 0.373963418767636], \"y\": [0, 0.6618858684897782], \"z\": [0, 0.6496602639204231], \"opacity\": 0.3, \"mode\": \"lines\", \"showlegend\": false, \"line\": {\"color\": \"rgb(255, 105, 97)\"}}, {\"type\": \"scatter3d\", \"x\": [0, 0.33736340599337616], \"y\": [0, 0.6491373140406217], \"z\": [0, 0.6817673208776406], \"opacity\": 0.3, \"mode\": \"lines\", \"showlegend\": false, \"line\": {\"color\": \"rgb(255, 105, 97)\"}}, {\"type\": \"scatter3d\", \"x\": [0, 0.30203084275262454], \"y\": [0, 0.6325055464891034], \"z\": [0, 0.713241967137843], \"opacity\": 0.3, \"mode\": \"lines\", \"showlegend\": false, \"line\": {\"color\": \"rgb(255, 105, 97)\"}}, {\"type\": \"scatter3d\", \"x\": [0, 0.26782915091684306], \"y\": [0, 0.6119788086009217], \"z\": [0, 0.7441434564266217], \"opacity\": 0.3, \"mode\": \"lines\", \"showlegend\": false, \"line\": {\"color\": \"rgb(255, 105, 97)\"}}, {\"type\": \"scatter3d\", \"x\": [0, 0.23465879592327538], \"y\": [0, 0.5874255858581267], \"z\": [0, 0.7745104457494909], \"opacity\": 0.3, \"mode\": \"lines\", \"showlegend\": false, \"line\": {\"color\": \"rgb(255, 105, 97)\"}}, {\"type\": \"scatter3d\", \"x\": [0, 0.20244485923179512], \"y\": [0, 0.5585764068596328], \"z\": [0, 0.804368371251879], \"opacity\": 0.3, \"mode\": \"lines\", \"showlegend\": false, \"line\": {\"color\": \"rgb(255, 105, 97)\"}}, {\"type\": \"scatter3d\", \"x\": [0, 0.17112930593895137], \"y\": [0, 0.5249784658194616], \"z\": [0, 0.8337339929945865], \"opacity\": 0.3, \"mode\": \"lines\", \"showlegend\": false, \"line\": {\"color\": \"rgb(255, 105, 97)\"}}, {\"type\": \"scatter3d\", \"x\": [0, 0.14066596997493896], \"y\": [0, 0.4859040401236884], \"z\": [0, 0.8626183099624576], \"opacity\": 0.3, \"mode\": \"lines\", \"showlegend\": false, \"line\": {\"color\": \"rgb(255, 105, 97)\"}}, {\"type\": \"scatter3d\", \"x\": [0, 0.11101719180227688], \"y\": [0, 0.44016294074678747], \"z\": [0, 0.8910284892849816], \"opacity\": 0.3, \"mode\": \"lines\", \"showlegend\": false, \"line\": {\"color\": \"rgb(255, 105, 97)\"}}, {\"type\": \"scatter3d\", \"x\": [0, 0.08215150261613617], \"y\": [0, 0.3856770502708983], \"z\": [0, 0.91896917440807], \"opacity\": 0.3, \"mode\": \"lines\", \"showlegend\": false, \"line\": {\"color\": \"rgb(255, 105, 97)\"}}, {\"type\": \"scatter3d\", \"x\": [0, 0.05404199413952211], \"y\": [0, 0.3183148995075905], \"z\": [0, 0.9464433884923581], \"opacity\": 0.3, \"mode\": \"lines\", \"showlegend\": false, \"line\": {\"color\": \"rgb(255, 105, 97)\"}}, {\"type\": \"scatter3d\", \"x\": [0, 0.02666515060823686], \"y\": [0, 0.2273277427840814], \"z\": [0, 0.9734531663638136], \"opacity\": 0.3, \"mode\": \"lines\", \"showlegend\": false, \"line\": {\"color\": \"rgb(255, 105, 97)\"}}, {\"type\": \"scatter3d\", \"x\": [0, 6.123233995736766e-17], \"y\": [0, 0.0], \"z\": [0, 1.0], \"opacity\": 0.3, \"mode\": \"lines\", \"showlegend\": false, \"line\": {\"color\": \"rgb(255, 105, 97)\"}}, {\"type\": \"scatter3d\", \"x\": [0, 6.123233995736766e-17], \"y\": [0, 0.0], \"z\": [0, 1.0], \"opacity\": 0.3, \"mode\": \"lines\", \"showlegend\": false, \"line\": {\"color\": \"rgb(255, 105, 97)\"}}, {\"type\": \"scatter3d\", \"x\": [0, 0.02666515060823686], \"y\": [0, -0.2273277427840814], \"z\": [0, 0.9734531663638136], \"opacity\": 0.3, \"mode\": \"lines\", \"showlegend\": false, \"line\": {\"color\": \"rgb(255, 105, 97)\"}}, {\"type\": \"scatter3d\", \"x\": [0, 0.05404199413952211], \"y\": [0, -0.3183148995075905], \"z\": [0, 0.9464433884923581], \"opacity\": 0.3, \"mode\": \"lines\", \"showlegend\": false, \"line\": {\"color\": \"rgb(255, 105, 97)\"}}, {\"type\": \"scatter3d\", \"x\": [0, 0.08215150261613617], \"y\": [0, -0.3856770502708983], \"z\": [0, 0.91896917440807], \"opacity\": 0.3, \"mode\": \"lines\", \"showlegend\": false, \"line\": {\"color\": \"rgb(255, 105, 97)\"}}, {\"type\": \"scatter3d\", \"x\": [0, 0.11101719180227688], \"y\": [0, -0.44016294074678747], \"z\": [0, 0.8910284892849816], \"opacity\": 0.3, \"mode\": \"lines\", \"showlegend\": false, \"line\": {\"color\": \"rgb(255, 105, 97)\"}}, {\"type\": \"scatter3d\", \"x\": [0, 0.14066596997493896], \"y\": [0, -0.4859040401236884], \"z\": [0, 0.8626183099624576], \"opacity\": 0.3, \"mode\": \"lines\", \"showlegend\": false, \"line\": {\"color\": \"rgb(255, 105, 97)\"}}, {\"type\": \"scatter3d\", \"x\": [0, 0.17112930593895137], \"y\": [0, -0.5249784658194616], \"z\": [0, 0.8337339929945865], \"opacity\": 0.3, \"mode\": \"lines\", \"showlegend\": false, \"line\": {\"color\": \"rgb(255, 105, 97)\"}}, {\"type\": \"scatter3d\", \"x\": [0, 0.20244485923179512], \"y\": [0, -0.5585764068596328], \"z\": [0, 0.804368371251879], \"opacity\": 0.3, \"mode\": \"lines\", \"showlegend\": false, \"line\": {\"color\": \"rgb(255, 105, 97)\"}}, {\"type\": \"scatter3d\", \"x\": [0, 0.23465879592327538], \"y\": [0, -0.5874255858581267], \"z\": [0, 0.7745104457494909], \"opacity\": 0.3, \"mode\": \"lines\", \"showlegend\": false, \"line\": {\"color\": \"rgb(255, 105, 97)\"}}, {\"type\": \"scatter3d\", \"x\": [0, 0.26782915091684306], \"y\": [0, -0.6119788086009217], \"z\": [0, 0.7441434564266217], \"opacity\": 0.3, \"mode\": \"lines\", \"showlegend\": false, \"line\": {\"color\": \"rgb(255, 105, 97)\"}}, {\"type\": \"scatter3d\", \"x\": [0, 0.30203084275262454], \"y\": [0, -0.6325055464891034], \"z\": [0, 0.713241967137843], \"opacity\": 0.3, \"mode\": \"lines\", \"showlegend\": false, \"line\": {\"color\": \"rgb(255, 105, 97)\"}}, {\"type\": \"scatter3d\", \"x\": [0, 0.33736340599337616], \"y\": [0, -0.6491373140406217], \"z\": [0, 0.6817673208776406], \"opacity\": 0.3, \"mode\": \"lines\", \"showlegend\": false, \"line\": {\"color\": \"rgb(255, 105, 97)\"}}, {\"type\": \"scatter3d\", \"x\": [0, 0.373963418767636], \"y\": [0, -0.6618858684897782], \"z\": [0, 0.6496602639204231], \"opacity\": 0.3, \"mode\": \"lines\", \"showlegend\": false, \"line\": {\"color\": \"rgb(255, 105, 97)\"}}, {\"type\": \"scatter3d\", \"x\": [0, 0.4120255532732981], \"y\": [0, -0.6706397994892592], \"z\": [0, 0.6168283414296386], \"opacity\": 0.3, \"mode\": \"lines\", \"showlegend\": false, \"line\": {\"color\": \"rgb(255, 105, 97)\"}}, {\"type\": \"scatter3d\", \"x\": [0, 0.45184074274778485], \"y\": [0, -0.6751353041938979], \"z\": [0, 0.5831228551721697], \"opacity\": 0.3, \"mode\": \"lines\", \"showlegend\": false, \"line\": {\"color\": \"rgb(255, 105, 97)\"}}, {\"type\": \"scatter3d\", \"x\": [0, 0.49387199253629566], \"y\": [0, -0.6748818678860573], \"z\": [0, 0.5482927314736679], \"opacity\": 0.3, \"mode\": \"lines\", \"showlegend\": false, \"line\": {\"color\": \"rgb(255, 105, 97)\"}}, {\"type\": \"scatter3d\", \"x\": [0, 0.5389256760760501], \"y\": [0, -0.6689831986946349], \"z\": [0, 0.5118794736363893], \"opacity\": 0.3, \"mode\": \"lines\", \"showlegend\": false, \"line\": {\"color\": \"rgb(255, 105, 97)\"}}, {\"type\": \"scatter3d\", \"x\": [0, 0.5886234908679698], \"y\": [0, -0.6556400590095318], \"z\": [0, 0.4729254687795768], \"opacity\": 0.3, \"mode\": \"lines\", \"showlegend\": false, \"line\": {\"color\": \"rgb(255, 105, 97)\"}}, {\"type\": \"scatter3d\", \"x\": [0, 0.6472690624415961], \"y\": [0, -0.6302095080290666], \"z\": [0, 0.42881084034308065], \"opacity\": 0.3, \"mode\": \"lines\", \"showlegend\": false, \"line\": {\"color\": \"rgb(255, 105, 97)\"}}, {\"type\": \"scatter3d\", \"x\": [0, 0.7615941559557649], \"y\": [0, -0.5453188678689158], \"z\": [0, 0.3501452183882998], \"opacity\": 0.3, \"mode\": \"lines\", \"showlegend\": false, \"line\": {\"color\": \"rgb(255, 105, 97)\"}}, {\"type\": \"scatter3d\", \"x\": [0, 0.7615941559557649], \"y\": [0, -0.5453188678689158], \"z\": [0, 0.3501452183882998], \"opacity\": 0.3, \"mode\": \"lines\", \"showlegend\": false, \"line\": {\"color\": \"rgb(255, 105, 97)\"}}, {\"type\": \"scatter3d\", \"x\": [0, 0.842409769927307], \"y\": [0, -0.4454907208605126], \"z\": [0, 0.30312340252478454], \"opacity\": 0.3, \"mode\": \"lines\", \"showlegend\": false, \"line\": {\"color\": \"rgb(255, 105, 97)\"}}, {\"type\": \"scatter3d\", \"x\": [0, 0.8678845541030237], \"y\": [0, -0.40289052989443996], \"z\": [0, 0.29061249400322264], \"opacity\": 0.3, \"mode\": \"lines\", \"showlegend\": false, \"line\": {\"color\": \"rgb(255, 105, 97)\"}}, {\"type\": \"scatter3d\", \"x\": [0, 0.8847796065353212], \"y\": [0, -0.37009727109049617], \"z\": [0, 0.283183788008018], \"opacity\": 0.3, \"mode\": \"lines\", \"showlegend\": false, \"line\": {\"color\": \"rgb(255, 105, 97)\"}}, {\"type\": \"scatter3d\", \"x\": [0, 0.8974254078443018], \"y\": [0, -0.34240739661216596], \"z\": [0, 0.2781812576374755], \"opacity\": 0.3, \"mode\": \"lines\", \"showlegend\": false, \"line\": {\"color\": \"rgb(255, 105, 97)\"}}, {\"type\": \"scatter3d\", \"x\": [0, 0.9074680790366705], \"y\": [0, -0.3179452791600336], \"z\": [0, 0.27461333723864095], \"opacity\": 0.3, \"mode\": \"lines\", \"showlegend\": false, \"line\": {\"color\": \"rgb(255, 105, 97)\"}}, {\"type\": \"scatter3d\", \"x\": [0, 0.9157360435411512], \"y\": [0, -0.2957178756613325], \"z\": [0, 0.2719897729216072], \"opacity\": 0.3, \"mode\": \"lines\", \"showlegend\": false, \"line\": {\"color\": \"rgb(255, 105, 97)\"}}, {\"type\": \"scatter3d\", \"x\": [0, 0.9227120515031718], \"y\": [0, -0.27511146045130175], \"z\": [0, 0.2700299137857873], \"opacity\": 0.3, \"mode\": \"lines\", \"showlegend\": false, \"line\": {\"color\": \"rgb(255, 105, 97)\"}}, {\"type\": \"scatter3d\", \"x\": [0, 0.9287045527947358], \"y\": [0, -0.2557042226711039], \"z\": [0, 0.2685576365075031], \"opacity\": 0.3, \"mode\": \"lines\", \"showlegend\": false, \"line\": {\"color\": \"rgb(255, 105, 97)\"}}, {\"type\": \"scatter3d\", \"x\": [0, 0.9339235923276625], \"y\": [0, -0.23718021259974997], \"z\": [0, 0.2674551746460168], \"opacity\": 0.3, \"mode\": \"lines\", \"showlegend\": false, \"line\": {\"color\": \"rgb(255, 105, 97)\"}}, {\"type\": \"scatter3d\", \"x\": [0, 0.938519067084852], \"y\": [0, -0.21928305007372434], \"z\": [0, 0.26664002825634353], \"opacity\": 0.3, \"mode\": \"lines\", \"showlegend\": false, \"line\": {\"color\": \"rgb(255, 105, 97)\"}}, {\"type\": \"scatter3d\", \"x\": [0, 0.9426018711879287], \"y\": [0, -0.2017867298913834], \"z\": [0, 0.26605230326527385], \"opacity\": 0.3, \"mode\": \"lines\", \"showlegend\": false, \"line\": {\"color\": \"rgb(255, 105, 97)\"}}, {\"type\": \"scatter3d\", \"x\": [0, 0.9462564212916691], \"y\": [0, -0.18447306516922912], \"z\": [0, 0.2656472725087773], \"opacity\": 0.3, \"mode\": \"lines\", \"showlegend\": false, \"line\": {\"color\": \"rgb(255, 105, 97)\"}}, {\"type\": \"scatter3d\", \"x\": [0, 0.9495484889945591], \"y\": [0, -0.16710897761317495], \"z\": [0, 0.2653907621776405], \"opacity\": 0.3, \"mode\": \"lines\", \"showlegend\": false, \"line\": {\"color\": \"rgb(255, 105, 97)\"}}, {\"type\": \"scatter3d\", \"x\": [0, 0.9525303168299666], \"y\": [0, -0.14941607430484086], \"z\": [0, 0.26525616347058506], \"opacity\": 0.3, \"mode\": \"lines\", \"showlegend\": false, \"line\": {\"color\": \"rgb(255, 105, 97)\"}}, {\"type\": \"scatter3d\", \"x\": [0, 0.9552440820135759], \"y\": [0, -0.13101835082635102], \"z\": [0, 0.26522242651175604], \"opacity\": 0.3, \"mode\": \"lines\", \"showlegend\": false, \"line\": {\"color\": \"rgb(255, 105, 97)\"}}, {\"type\": \"scatter3d\", \"x\": [0, 0.9577243131442403], \"y\": [0, -0.11133080933588038], \"z\": [0, 0.26527267274450045], \"opacity\": 0.3, \"mode\": \"lines\", \"showlegend\": false, \"line\": {\"color\": \"rgb(255, 105, 97)\"}}, {\"type\": \"scatter3d\", \"x\": [0, 0.9599996200617662], \"y\": [0, -0.08925902396586932], \"z\": [0, 0.26539321039153396], \"opacity\": 0.3, \"mode\": \"lines\", \"showlegend\": false, \"line\": {\"color\": \"rgb(255, 105, 97)\"}}, {\"type\": \"scatter3d\", \"x\": [0, 0.9620939596589054], \"y\": [0, -0.06201846365137433], \"z\": [0, 0.2655728204356982], \"opacity\": 0.3, \"mode\": \"lines\", \"showlegend\": false, \"line\": {\"color\": \"rgb(255, 105, 97)\"}}, {\"type\": \"scatter3d\", \"x\": [0, 0.9640275800758169], \"y\": [0, 0.0], \"z\": [0, 0.26580222883407967], \"opacity\": 0.3, \"mode\": \"lines\", \"showlegend\": false, \"line\": {\"color\": \"rgb(255, 105, 97)\"}}], {\"margin\": {\"l\": 0, \"r\": 0, \"b\": 0, \"t\": 0}, \"scene\": {\"xaxis\": {\"title\": \"Z\"}, \"yaxis\": {\"title\": \"Y\"}, \"zaxis\": {\"title\": \"X\"}}}, {\"showLink\": true, \"linkText\": \"Export to plot.ly\"})});</script>"
      ],
      "text/vnd.plotly.v1+html": [
       "<div id=\"212dfccf-fa13-417b-b052-023021637620\" style=\"height: 525px; width: 100%;\" class=\"plotly-graph-div\"></div><script type=\"text/javascript\">require([\"plotly\"], function(Plotly) { window.PLOTLYENV=window.PLOTLYENV || {};window.PLOTLYENV.BASE_URL=\"https://plot.ly\";Plotly.newPlot(\"212dfccf-fa13-417b-b052-023021637620\", [{\"type\": \"scatter3d\", \"x\": [-1.0, 1.0], \"y\": [0, 0], \"z\": [0, 0], \"mode\": \"lines\", \"showlegend\": false, \"line\": {\"color\": \"rgb(0,33,71)\", \"width\": 5}}, {\"type\": \"surface\", \"x\": [[-1.0, -1.0, -1.0, -1.0, -1.0, -1.0, -1.0, -1.0, -1.0, -1.0], [1.0, 1.0, 1.0, 1.0, 1.0, 1.0, 1.0, 1.0, 1.0, 1.0]], \"y\": [[0.0, 0.342020143325669, 0.6427876096865394, 0.8660254037844386, 0.984807753012208, 0.984807753012208, 0.8660254037844388, 0.6427876096865395, 0.342020143325669, 0.0], [0.0, 0.342020143325669, 0.6427876096865394, 0.8660254037844386, 0.984807753012208, 0.984807753012208, 0.8660254037844388, 0.6427876096865395, 0.342020143325669, 0.0]], \"z\": [[-1.0, -0.9396926207859083, -0.766044443118978, -0.5, -0.17364817766693036, 0.17364817766693036, 0.49999999999999983, 0.7660444431189779, 0.9396926207859083, 1.0], [-1.0, -0.9396926207859083, -0.766044443118978, -0.5, -0.17364817766693036, 0.17364817766693036, 0.49999999999999983, 0.7660444431189779, 0.9396926207859083, 1.0]], \"surfacecolor\": [1, 1], \"showscale\": false, \"opacity\": 0.4}, {\"type\": \"surface\", \"x\": [[-1.0, -1.0, -1.0, -1.0, -1.0, -1.0, -1.0, -1.0, -1.0, -1.0], [1.0, 1.0, 1.0, 1.0, 1.0, 1.0, 1.0, 1.0, 1.0, 1.0]], \"y\": [[-0.0, -0.342020143325669, -0.6427876096865394, -0.8660254037844386, -0.984807753012208, -0.984807753012208, -0.8660254037844388, -0.6427876096865395, -0.342020143325669, -0.0], [-0.0, -0.342020143325669, -0.6427876096865394, -0.8660254037844386, -0.984807753012208, -0.984807753012208, -0.8660254037844388, -0.6427876096865395, -0.342020143325669, -0.0]], \"z\": [[-1.0, -0.9396926207859083, -0.766044443118978, -0.5, -0.17364817766693036, 0.17364817766693036, 0.49999999999999983, 0.7660444431189779, 0.9396926207859083, 1.0], [-1.0, -0.9396926207859083, -0.766044443118978, -0.5, -0.17364817766693036, 0.17364817766693036, 0.49999999999999983, 0.7660444431189779, 0.9396926207859083, 1.0]], \"surfacecolor\": [1, 1], \"showscale\": false, \"opacity\": 0.4}, {\"type\": \"scatter3d\", \"x\": [0.0, 0.7615941559557649], \"y\": [0.0, 0.0], \"z\": [0.0, 0.6480542736638855], \"mode\": \"lines\", \"showlegend\": false, \"line\": {\"color\": \"rgb(255, 105, 97)\", \"width\": 7}}, {\"type\": \"scatter3d\", \"x\": [0.9640275800758169, 0.9620939596589054, 0.9599996200617662, 0.9577243131442403, 0.9552440820135759, 0.9525303168299666, 0.9495484889945591, 0.9462564212916691, 0.9426018711879287, 0.938519067084852, 0.9339235923276625, 0.9287045527947358, 0.9227120515031718, 0.9157360435411512, 0.9074680790366705, 0.8974254078443018, 0.8847796065353212, 0.8678845541030237, 0.842409769927307, 0.7615941559557649, 0.7615941559557649, 0.6472690624415961, 0.5886234908679698, 0.5389256760760501, 0.49387199253629566, 0.45184074274778485, 0.4120255532732981, 0.373963418767636, 0.33736340599337616, 0.30203084275262454, 0.26782915091684306, 0.23465879592327538, 0.20244485923179512, 0.17112930593895137, 0.14066596997493896, 0.11101719180227688, 0.08215150261613617, 0.05404199413952211, 0.02666515060823686, 6.123233995736766e-17, 6.123233995736766e-17, 0.02666515060823686, 0.05404199413952211, 0.08215150261613617, 0.11101719180227688, 0.14066596997493896, 0.17112930593895137, 0.20244485923179512, 0.23465879592327538, 0.26782915091684306, 0.30203084275262454, 0.33736340599337616, 0.373963418767636, 0.4120255532732981, 0.45184074274778485, 0.49387199253629566, 0.5389256760760501, 0.5886234908679698, 0.6472690624415961, 0.7615941559557649, 0.7615941559557649, 0.842409769927307, 0.8678845541030237, 0.8847796065353212, 0.8974254078443018, 0.9074680790366705, 0.9157360435411512, 0.9227120515031718, 0.9287045527947358, 0.9339235923276625, 0.938519067084852, 0.9426018711879287, 0.9462564212916691, 0.9495484889945591, 0.9525303168299666, 0.9552440820135759, 0.9577243131442403, 0.9599996200617662, 0.9620939596589054, 0.9640275800758169], \"y\": [0.0, 0.06201846365137433, 0.08925902396586932, 0.11133080933588038, 0.13101835082635102, 0.14941607430484086, 0.16710897761317495, 0.18447306516922912, 0.2017867298913834, 0.21928305007372434, 0.23718021259974997, 0.2557042226711039, 0.27511146045130175, 0.2957178756613325, 0.3179452791600336, 0.34240739661216596, 0.37009727109049617, 0.40289052989443996, 0.4454907208605126, 0.5453188678689158, 0.5453188678689158, 0.6302095080290666, 0.6556400590095318, 0.6689831986946349, 0.6748818678860573, 0.6751353041938979, 0.6706397994892592, 0.6618858684897782, 0.6491373140406217, 0.6325055464891034, 0.6119788086009217, 0.5874255858581267, 0.5585764068596328, 0.5249784658194616, 0.4859040401236884, 0.44016294074678747, 0.3856770502708983, 0.3183148995075905, 0.2273277427840814, 0.0, 0.0, -0.2273277427840814, -0.3183148995075905, -0.3856770502708983, -0.44016294074678747, -0.4859040401236884, -0.5249784658194616, -0.5585764068596328, -0.5874255858581267, -0.6119788086009217, -0.6325055464891034, -0.6491373140406217, -0.6618858684897782, -0.6706397994892592, -0.6751353041938979, -0.6748818678860573, -0.6689831986946349, -0.6556400590095318, -0.6302095080290666, -0.5453188678689158, -0.5453188678689158, -0.4454907208605126, -0.40289052989443996, -0.37009727109049617, -0.34240739661216596, -0.3179452791600336, -0.2957178756613325, -0.27511146045130175, -0.2557042226711039, -0.23718021259974997, -0.21928305007372434, -0.2017867298913834, -0.18447306516922912, -0.16710897761317495, -0.14941607430484086, -0.13101835082635102, -0.11133080933588038, -0.08925902396586932, -0.06201846365137433, 0.0], \"z\": [0.26580222883407967, 0.2655728204356982, 0.26539321039153396, 0.26527267274450045, 0.26522242651175604, 0.26525616347058506, 0.2653907621776405, 0.2656472725087773, 0.26605230326527385, 0.26664002825634353, 0.2674551746460168, 0.2685576365075031, 0.2700299137857873, 0.2719897729216072, 0.27461333723864095, 0.2781812576374755, 0.283183788008018, 0.29061249400322264, 0.30312340252478454, 0.3501452183882998, 0.3501452183882998, 0.42881084034308065, 0.4729254687795768, 0.5118794736363893, 0.5482927314736679, 0.5831228551721697, 0.6168283414296386, 0.6496602639204231, 0.6817673208776406, 0.713241967137843, 0.7441434564266217, 0.7745104457494909, 0.804368371251879, 0.8337339929945865, 0.8626183099624576, 0.8910284892849816, 0.91896917440807, 0.9464433884923581, 0.9734531663638136, 1.0, 1.0, 0.9734531663638136, 0.9464433884923581, 0.91896917440807, 0.8910284892849816, 0.8626183099624576, 0.8337339929945865, 0.804368371251879, 0.7745104457494909, 0.7441434564266217, 0.713241967137843, 0.6817673208776406, 0.6496602639204231, 0.6168283414296386, 0.5831228551721697, 0.5482927314736679, 0.5118794736363893, 0.4729254687795768, 0.42881084034308065, 0.3501452183882998, 0.3501452183882998, 0.30312340252478454, 0.29061249400322264, 0.283183788008018, 0.2781812576374755, 0.27461333723864095, 0.2719897729216072, 0.2700299137857873, 0.2685576365075031, 0.2674551746460168, 0.26664002825634353, 0.26605230326527385, 0.2656472725087773, 0.2653907621776405, 0.26525616347058506, 0.26522242651175604, 0.26527267274450045, 0.26539321039153396, 0.2655728204356982, 0.26580222883407967], \"mode\": \"lines\", \"showlegend\": false, \"line\": {\"color\": \"rgb(255, 105, 97)\", \"width\": 5}}, {\"type\": \"scatter3d\", \"x\": [0, 0.9640275800758169], \"y\": [0, 0.0], \"z\": [0, 0.26580222883407967], \"opacity\": 0.3, \"mode\": \"lines\", \"showlegend\": false, \"line\": {\"color\": \"rgb(255, 105, 97)\"}}, {\"type\": \"scatter3d\", \"x\": [0, 0.9620939596589054], \"y\": [0, 0.06201846365137433], \"z\": [0, 0.2655728204356982], \"opacity\": 0.3, \"mode\": \"lines\", \"showlegend\": false, \"line\": {\"color\": \"rgb(255, 105, 97)\"}}, {\"type\": \"scatter3d\", \"x\": [0, 0.9599996200617662], \"y\": [0, 0.08925902396586932], \"z\": [0, 0.26539321039153396], \"opacity\": 0.3, \"mode\": \"lines\", \"showlegend\": false, \"line\": {\"color\": \"rgb(255, 105, 97)\"}}, {\"type\": \"scatter3d\", \"x\": [0, 0.9577243131442403], \"y\": [0, 0.11133080933588038], \"z\": [0, 0.26527267274450045], \"opacity\": 0.3, \"mode\": \"lines\", \"showlegend\": false, \"line\": {\"color\": \"rgb(255, 105, 97)\"}}, {\"type\": \"scatter3d\", \"x\": [0, 0.9552440820135759], \"y\": [0, 0.13101835082635102], \"z\": [0, 0.26522242651175604], \"opacity\": 0.3, \"mode\": \"lines\", \"showlegend\": false, \"line\": {\"color\": \"rgb(255, 105, 97)\"}}, {\"type\": \"scatter3d\", \"x\": [0, 0.9525303168299666], \"y\": [0, 0.14941607430484086], \"z\": [0, 0.26525616347058506], \"opacity\": 0.3, \"mode\": \"lines\", \"showlegend\": false, \"line\": {\"color\": \"rgb(255, 105, 97)\"}}, {\"type\": \"scatter3d\", \"x\": [0, 0.9495484889945591], \"y\": [0, 0.16710897761317495], \"z\": [0, 0.2653907621776405], \"opacity\": 0.3, \"mode\": \"lines\", \"showlegend\": false, \"line\": {\"color\": \"rgb(255, 105, 97)\"}}, {\"type\": \"scatter3d\", \"x\": [0, 0.9462564212916691], \"y\": [0, 0.18447306516922912], \"z\": [0, 0.2656472725087773], \"opacity\": 0.3, \"mode\": \"lines\", \"showlegend\": false, \"line\": {\"color\": \"rgb(255, 105, 97)\"}}, {\"type\": \"scatter3d\", \"x\": [0, 0.9426018711879287], \"y\": [0, 0.2017867298913834], \"z\": [0, 0.26605230326527385], \"opacity\": 0.3, \"mode\": \"lines\", \"showlegend\": false, \"line\": {\"color\": \"rgb(255, 105, 97)\"}}, {\"type\": \"scatter3d\", \"x\": [0, 0.938519067084852], \"y\": [0, 0.21928305007372434], \"z\": [0, 0.26664002825634353], \"opacity\": 0.3, \"mode\": \"lines\", \"showlegend\": false, \"line\": {\"color\": \"rgb(255, 105, 97)\"}}, {\"type\": \"scatter3d\", \"x\": [0, 0.9339235923276625], \"y\": [0, 0.23718021259974997], \"z\": [0, 0.2674551746460168], \"opacity\": 0.3, \"mode\": \"lines\", \"showlegend\": false, \"line\": {\"color\": \"rgb(255, 105, 97)\"}}, {\"type\": \"scatter3d\", \"x\": [0, 0.9287045527947358], \"y\": [0, 0.2557042226711039], \"z\": [0, 0.2685576365075031], \"opacity\": 0.3, \"mode\": \"lines\", \"showlegend\": false, \"line\": {\"color\": \"rgb(255, 105, 97)\"}}, {\"type\": \"scatter3d\", \"x\": [0, 0.9227120515031718], \"y\": [0, 0.27511146045130175], \"z\": [0, 0.2700299137857873], \"opacity\": 0.3, \"mode\": \"lines\", \"showlegend\": false, \"line\": {\"color\": \"rgb(255, 105, 97)\"}}, {\"type\": \"scatter3d\", \"x\": [0, 0.9157360435411512], \"y\": [0, 0.2957178756613325], \"z\": [0, 0.2719897729216072], \"opacity\": 0.3, \"mode\": \"lines\", \"showlegend\": false, \"line\": {\"color\": \"rgb(255, 105, 97)\"}}, {\"type\": \"scatter3d\", \"x\": [0, 0.9074680790366705], \"y\": [0, 0.3179452791600336], \"z\": [0, 0.27461333723864095], \"opacity\": 0.3, \"mode\": \"lines\", \"showlegend\": false, \"line\": {\"color\": \"rgb(255, 105, 97)\"}}, {\"type\": \"scatter3d\", \"x\": [0, 0.8974254078443018], \"y\": [0, 0.34240739661216596], \"z\": [0, 0.2781812576374755], \"opacity\": 0.3, \"mode\": \"lines\", \"showlegend\": false, \"line\": {\"color\": \"rgb(255, 105, 97)\"}}, {\"type\": \"scatter3d\", \"x\": [0, 0.8847796065353212], \"y\": [0, 0.37009727109049617], \"z\": [0, 0.283183788008018], \"opacity\": 0.3, \"mode\": \"lines\", \"showlegend\": false, \"line\": {\"color\": \"rgb(255, 105, 97)\"}}, {\"type\": \"scatter3d\", \"x\": [0, 0.8678845541030237], \"y\": [0, 0.40289052989443996], \"z\": [0, 0.29061249400322264], \"opacity\": 0.3, \"mode\": \"lines\", \"showlegend\": false, \"line\": {\"color\": \"rgb(255, 105, 97)\"}}, {\"type\": \"scatter3d\", \"x\": [0, 0.842409769927307], \"y\": [0, 0.4454907208605126], \"z\": [0, 0.30312340252478454], \"opacity\": 0.3, \"mode\": \"lines\", \"showlegend\": false, \"line\": {\"color\": \"rgb(255, 105, 97)\"}}, {\"type\": \"scatter3d\", \"x\": [0, 0.7615941559557649], \"y\": [0, 0.5453188678689158], \"z\": [0, 0.3501452183882998], \"opacity\": 0.3, \"mode\": \"lines\", \"showlegend\": false, \"line\": {\"color\": \"rgb(255, 105, 97)\"}}, {\"type\": \"scatter3d\", \"x\": [0, 0.7615941559557649], \"y\": [0, 0.5453188678689158], \"z\": [0, 0.3501452183882998], \"opacity\": 0.3, \"mode\": \"lines\", \"showlegend\": false, \"line\": {\"color\": \"rgb(255, 105, 97)\"}}, {\"type\": \"scatter3d\", \"x\": [0, 0.6472690624415961], \"y\": [0, 0.6302095080290666], \"z\": [0, 0.42881084034308065], \"opacity\": 0.3, \"mode\": \"lines\", \"showlegend\": false, \"line\": {\"color\": \"rgb(255, 105, 97)\"}}, {\"type\": \"scatter3d\", \"x\": [0, 0.5886234908679698], \"y\": [0, 0.6556400590095318], \"z\": [0, 0.4729254687795768], \"opacity\": 0.3, \"mode\": \"lines\", \"showlegend\": false, \"line\": {\"color\": \"rgb(255, 105, 97)\"}}, {\"type\": \"scatter3d\", \"x\": [0, 0.5389256760760501], \"y\": [0, 0.6689831986946349], \"z\": [0, 0.5118794736363893], \"opacity\": 0.3, \"mode\": \"lines\", \"showlegend\": false, \"line\": {\"color\": \"rgb(255, 105, 97)\"}}, {\"type\": \"scatter3d\", \"x\": [0, 0.49387199253629566], \"y\": [0, 0.6748818678860573], \"z\": [0, 0.5482927314736679], \"opacity\": 0.3, \"mode\": \"lines\", \"showlegend\": false, \"line\": {\"color\": \"rgb(255, 105, 97)\"}}, {\"type\": \"scatter3d\", \"x\": [0, 0.45184074274778485], \"y\": [0, 0.6751353041938979], \"z\": [0, 0.5831228551721697], \"opacity\": 0.3, \"mode\": \"lines\", \"showlegend\": false, \"line\": {\"color\": \"rgb(255, 105, 97)\"}}, {\"type\": \"scatter3d\", \"x\": [0, 0.4120255532732981], \"y\": [0, 0.6706397994892592], \"z\": [0, 0.6168283414296386], \"opacity\": 0.3, \"mode\": \"lines\", \"showlegend\": false, \"line\": {\"color\": \"rgb(255, 105, 97)\"}}, {\"type\": \"scatter3d\", \"x\": [0, 0.373963418767636], \"y\": [0, 0.6618858684897782], \"z\": [0, 0.6496602639204231], \"opacity\": 0.3, \"mode\": \"lines\", \"showlegend\": false, \"line\": {\"color\": \"rgb(255, 105, 97)\"}}, {\"type\": \"scatter3d\", \"x\": [0, 0.33736340599337616], \"y\": [0, 0.6491373140406217], \"z\": [0, 0.6817673208776406], \"opacity\": 0.3, \"mode\": \"lines\", \"showlegend\": false, \"line\": {\"color\": \"rgb(255, 105, 97)\"}}, {\"type\": \"scatter3d\", \"x\": [0, 0.30203084275262454], \"y\": [0, 0.6325055464891034], \"z\": [0, 0.713241967137843], \"opacity\": 0.3, \"mode\": \"lines\", \"showlegend\": false, \"line\": {\"color\": \"rgb(255, 105, 97)\"}}, {\"type\": \"scatter3d\", \"x\": [0, 0.26782915091684306], \"y\": [0, 0.6119788086009217], \"z\": [0, 0.7441434564266217], \"opacity\": 0.3, \"mode\": \"lines\", \"showlegend\": false, \"line\": {\"color\": \"rgb(255, 105, 97)\"}}, {\"type\": \"scatter3d\", \"x\": [0, 0.23465879592327538], \"y\": [0, 0.5874255858581267], \"z\": [0, 0.7745104457494909], \"opacity\": 0.3, \"mode\": \"lines\", \"showlegend\": false, \"line\": {\"color\": \"rgb(255, 105, 97)\"}}, {\"type\": \"scatter3d\", \"x\": [0, 0.20244485923179512], \"y\": [0, 0.5585764068596328], \"z\": [0, 0.804368371251879], \"opacity\": 0.3, \"mode\": \"lines\", \"showlegend\": false, \"line\": {\"color\": \"rgb(255, 105, 97)\"}}, {\"type\": \"scatter3d\", \"x\": [0, 0.17112930593895137], \"y\": [0, 0.5249784658194616], \"z\": [0, 0.8337339929945865], \"opacity\": 0.3, \"mode\": \"lines\", \"showlegend\": false, \"line\": {\"color\": \"rgb(255, 105, 97)\"}}, {\"type\": \"scatter3d\", \"x\": [0, 0.14066596997493896], \"y\": [0, 0.4859040401236884], \"z\": [0, 0.8626183099624576], \"opacity\": 0.3, \"mode\": \"lines\", \"showlegend\": false, \"line\": {\"color\": \"rgb(255, 105, 97)\"}}, {\"type\": \"scatter3d\", \"x\": [0, 0.11101719180227688], \"y\": [0, 0.44016294074678747], \"z\": [0, 0.8910284892849816], \"opacity\": 0.3, \"mode\": \"lines\", \"showlegend\": false, \"line\": {\"color\": \"rgb(255, 105, 97)\"}}, {\"type\": \"scatter3d\", \"x\": [0, 0.08215150261613617], \"y\": [0, 0.3856770502708983], \"z\": [0, 0.91896917440807], \"opacity\": 0.3, \"mode\": \"lines\", \"showlegend\": false, \"line\": {\"color\": \"rgb(255, 105, 97)\"}}, {\"type\": \"scatter3d\", \"x\": [0, 0.05404199413952211], \"y\": [0, 0.3183148995075905], \"z\": [0, 0.9464433884923581], \"opacity\": 0.3, \"mode\": \"lines\", \"showlegend\": false, \"line\": {\"color\": \"rgb(255, 105, 97)\"}}, {\"type\": \"scatter3d\", \"x\": [0, 0.02666515060823686], \"y\": [0, 0.2273277427840814], \"z\": [0, 0.9734531663638136], \"opacity\": 0.3, \"mode\": \"lines\", \"showlegend\": false, \"line\": {\"color\": \"rgb(255, 105, 97)\"}}, {\"type\": \"scatter3d\", \"x\": [0, 6.123233995736766e-17], \"y\": [0, 0.0], \"z\": [0, 1.0], \"opacity\": 0.3, \"mode\": \"lines\", \"showlegend\": false, \"line\": {\"color\": \"rgb(255, 105, 97)\"}}, {\"type\": \"scatter3d\", \"x\": [0, 6.123233995736766e-17], \"y\": [0, 0.0], \"z\": [0, 1.0], \"opacity\": 0.3, \"mode\": \"lines\", \"showlegend\": false, \"line\": {\"color\": \"rgb(255, 105, 97)\"}}, {\"type\": \"scatter3d\", \"x\": [0, 0.02666515060823686], \"y\": [0, -0.2273277427840814], \"z\": [0, 0.9734531663638136], \"opacity\": 0.3, \"mode\": \"lines\", \"showlegend\": false, \"line\": {\"color\": \"rgb(255, 105, 97)\"}}, {\"type\": \"scatter3d\", \"x\": [0, 0.05404199413952211], \"y\": [0, -0.3183148995075905], \"z\": [0, 0.9464433884923581], \"opacity\": 0.3, \"mode\": \"lines\", \"showlegend\": false, \"line\": {\"color\": \"rgb(255, 105, 97)\"}}, {\"type\": \"scatter3d\", \"x\": [0, 0.08215150261613617], \"y\": [0, -0.3856770502708983], \"z\": [0, 0.91896917440807], \"opacity\": 0.3, \"mode\": \"lines\", \"showlegend\": false, \"line\": {\"color\": \"rgb(255, 105, 97)\"}}, {\"type\": \"scatter3d\", \"x\": [0, 0.11101719180227688], \"y\": [0, -0.44016294074678747], \"z\": [0, 0.8910284892849816], \"opacity\": 0.3, \"mode\": \"lines\", \"showlegend\": false, \"line\": {\"color\": \"rgb(255, 105, 97)\"}}, {\"type\": \"scatter3d\", \"x\": [0, 0.14066596997493896], \"y\": [0, -0.4859040401236884], \"z\": [0, 0.8626183099624576], \"opacity\": 0.3, \"mode\": \"lines\", \"showlegend\": false, \"line\": {\"color\": \"rgb(255, 105, 97)\"}}, {\"type\": \"scatter3d\", \"x\": [0, 0.17112930593895137], \"y\": [0, -0.5249784658194616], \"z\": [0, 0.8337339929945865], \"opacity\": 0.3, \"mode\": \"lines\", \"showlegend\": false, \"line\": {\"color\": \"rgb(255, 105, 97)\"}}, {\"type\": \"scatter3d\", \"x\": [0, 0.20244485923179512], \"y\": [0, -0.5585764068596328], \"z\": [0, 0.804368371251879], \"opacity\": 0.3, \"mode\": \"lines\", \"showlegend\": false, \"line\": {\"color\": \"rgb(255, 105, 97)\"}}, {\"type\": \"scatter3d\", \"x\": [0, 0.23465879592327538], \"y\": [0, -0.5874255858581267], \"z\": [0, 0.7745104457494909], \"opacity\": 0.3, \"mode\": \"lines\", \"showlegend\": false, \"line\": {\"color\": \"rgb(255, 105, 97)\"}}, {\"type\": \"scatter3d\", \"x\": [0, 0.26782915091684306], \"y\": [0, -0.6119788086009217], \"z\": [0, 0.7441434564266217], \"opacity\": 0.3, \"mode\": \"lines\", \"showlegend\": false, \"line\": {\"color\": \"rgb(255, 105, 97)\"}}, {\"type\": \"scatter3d\", \"x\": [0, 0.30203084275262454], \"y\": [0, -0.6325055464891034], \"z\": [0, 0.713241967137843], \"opacity\": 0.3, \"mode\": \"lines\", \"showlegend\": false, \"line\": {\"color\": \"rgb(255, 105, 97)\"}}, {\"type\": \"scatter3d\", \"x\": [0, 0.33736340599337616], \"y\": [0, -0.6491373140406217], \"z\": [0, 0.6817673208776406], \"opacity\": 0.3, \"mode\": \"lines\", \"showlegend\": false, \"line\": {\"color\": \"rgb(255, 105, 97)\"}}, {\"type\": \"scatter3d\", \"x\": [0, 0.373963418767636], \"y\": [0, -0.6618858684897782], \"z\": [0, 0.6496602639204231], \"opacity\": 0.3, \"mode\": \"lines\", \"showlegend\": false, \"line\": {\"color\": \"rgb(255, 105, 97)\"}}, {\"type\": \"scatter3d\", \"x\": [0, 0.4120255532732981], \"y\": [0, -0.6706397994892592], \"z\": [0, 0.6168283414296386], \"opacity\": 0.3, \"mode\": \"lines\", \"showlegend\": false, \"line\": {\"color\": \"rgb(255, 105, 97)\"}}, {\"type\": \"scatter3d\", \"x\": [0, 0.45184074274778485], \"y\": [0, -0.6751353041938979], \"z\": [0, 0.5831228551721697], \"opacity\": 0.3, \"mode\": \"lines\", \"showlegend\": false, \"line\": {\"color\": \"rgb(255, 105, 97)\"}}, {\"type\": \"scatter3d\", \"x\": [0, 0.49387199253629566], \"y\": [0, -0.6748818678860573], \"z\": [0, 0.5482927314736679], \"opacity\": 0.3, \"mode\": \"lines\", \"showlegend\": false, \"line\": {\"color\": \"rgb(255, 105, 97)\"}}, {\"type\": \"scatter3d\", \"x\": [0, 0.5389256760760501], \"y\": [0, -0.6689831986946349], \"z\": [0, 0.5118794736363893], \"opacity\": 0.3, \"mode\": \"lines\", \"showlegend\": false, \"line\": {\"color\": \"rgb(255, 105, 97)\"}}, {\"type\": \"scatter3d\", \"x\": [0, 0.5886234908679698], \"y\": [0, -0.6556400590095318], \"z\": [0, 0.4729254687795768], \"opacity\": 0.3, \"mode\": \"lines\", \"showlegend\": false, \"line\": {\"color\": \"rgb(255, 105, 97)\"}}, {\"type\": \"scatter3d\", \"x\": [0, 0.6472690624415961], \"y\": [0, -0.6302095080290666], \"z\": [0, 0.42881084034308065], \"opacity\": 0.3, \"mode\": \"lines\", \"showlegend\": false, \"line\": {\"color\": \"rgb(255, 105, 97)\"}}, {\"type\": \"scatter3d\", \"x\": [0, 0.7615941559557649], \"y\": [0, -0.5453188678689158], \"z\": [0, 0.3501452183882998], \"opacity\": 0.3, \"mode\": \"lines\", \"showlegend\": false, \"line\": {\"color\": \"rgb(255, 105, 97)\"}}, {\"type\": \"scatter3d\", \"x\": [0, 0.7615941559557649], \"y\": [0, -0.5453188678689158], \"z\": [0, 0.3501452183882998], \"opacity\": 0.3, \"mode\": \"lines\", \"showlegend\": false, \"line\": {\"color\": \"rgb(255, 105, 97)\"}}, {\"type\": \"scatter3d\", \"x\": [0, 0.842409769927307], \"y\": [0, -0.4454907208605126], \"z\": [0, 0.30312340252478454], \"opacity\": 0.3, \"mode\": \"lines\", \"showlegend\": false, \"line\": {\"color\": \"rgb(255, 105, 97)\"}}, {\"type\": \"scatter3d\", \"x\": [0, 0.8678845541030237], \"y\": [0, -0.40289052989443996], \"z\": [0, 0.29061249400322264], \"opacity\": 0.3, \"mode\": \"lines\", \"showlegend\": false, \"line\": {\"color\": \"rgb(255, 105, 97)\"}}, {\"type\": \"scatter3d\", \"x\": [0, 0.8847796065353212], \"y\": [0, -0.37009727109049617], \"z\": [0, 0.283183788008018], \"opacity\": 0.3, \"mode\": \"lines\", \"showlegend\": false, \"line\": {\"color\": \"rgb(255, 105, 97)\"}}, {\"type\": \"scatter3d\", \"x\": [0, 0.8974254078443018], \"y\": [0, -0.34240739661216596], \"z\": [0, 0.2781812576374755], \"opacity\": 0.3, \"mode\": \"lines\", \"showlegend\": false, \"line\": {\"color\": \"rgb(255, 105, 97)\"}}, {\"type\": \"scatter3d\", \"x\": [0, 0.9074680790366705], \"y\": [0, -0.3179452791600336], \"z\": [0, 0.27461333723864095], \"opacity\": 0.3, \"mode\": \"lines\", \"showlegend\": false, \"line\": {\"color\": \"rgb(255, 105, 97)\"}}, {\"type\": \"scatter3d\", \"x\": [0, 0.9157360435411512], \"y\": [0, -0.2957178756613325], \"z\": [0, 0.2719897729216072], \"opacity\": 0.3, \"mode\": \"lines\", \"showlegend\": false, \"line\": {\"color\": \"rgb(255, 105, 97)\"}}, {\"type\": \"scatter3d\", \"x\": [0, 0.9227120515031718], \"y\": [0, -0.27511146045130175], \"z\": [0, 0.2700299137857873], \"opacity\": 0.3, \"mode\": \"lines\", \"showlegend\": false, \"line\": {\"color\": \"rgb(255, 105, 97)\"}}, {\"type\": \"scatter3d\", \"x\": [0, 0.9287045527947358], \"y\": [0, -0.2557042226711039], \"z\": [0, 0.2685576365075031], \"opacity\": 0.3, \"mode\": \"lines\", \"showlegend\": false, \"line\": {\"color\": \"rgb(255, 105, 97)\"}}, {\"type\": \"scatter3d\", \"x\": [0, 0.9339235923276625], \"y\": [0, -0.23718021259974997], \"z\": [0, 0.2674551746460168], \"opacity\": 0.3, \"mode\": \"lines\", \"showlegend\": false, \"line\": {\"color\": \"rgb(255, 105, 97)\"}}, {\"type\": \"scatter3d\", \"x\": [0, 0.938519067084852], \"y\": [0, -0.21928305007372434], \"z\": [0, 0.26664002825634353], \"opacity\": 0.3, \"mode\": \"lines\", \"showlegend\": false, \"line\": {\"color\": \"rgb(255, 105, 97)\"}}, {\"type\": \"scatter3d\", \"x\": [0, 0.9426018711879287], \"y\": [0, -0.2017867298913834], \"z\": [0, 0.26605230326527385], \"opacity\": 0.3, \"mode\": \"lines\", \"showlegend\": false, \"line\": {\"color\": \"rgb(255, 105, 97)\"}}, {\"type\": \"scatter3d\", \"x\": [0, 0.9462564212916691], \"y\": [0, -0.18447306516922912], \"z\": [0, 0.2656472725087773], \"opacity\": 0.3, \"mode\": \"lines\", \"showlegend\": false, \"line\": {\"color\": \"rgb(255, 105, 97)\"}}, {\"type\": \"scatter3d\", \"x\": [0, 0.9495484889945591], \"y\": [0, -0.16710897761317495], \"z\": [0, 0.2653907621776405], \"opacity\": 0.3, \"mode\": \"lines\", \"showlegend\": false, \"line\": {\"color\": \"rgb(255, 105, 97)\"}}, {\"type\": \"scatter3d\", \"x\": [0, 0.9525303168299666], \"y\": [0, -0.14941607430484086], \"z\": [0, 0.26525616347058506], \"opacity\": 0.3, \"mode\": \"lines\", \"showlegend\": false, \"line\": {\"color\": \"rgb(255, 105, 97)\"}}, {\"type\": \"scatter3d\", \"x\": [0, 0.9552440820135759], \"y\": [0, -0.13101835082635102], \"z\": [0, 0.26522242651175604], \"opacity\": 0.3, \"mode\": \"lines\", \"showlegend\": false, \"line\": {\"color\": \"rgb(255, 105, 97)\"}}, {\"type\": \"scatter3d\", \"x\": [0, 0.9577243131442403], \"y\": [0, -0.11133080933588038], \"z\": [0, 0.26527267274450045], \"opacity\": 0.3, \"mode\": \"lines\", \"showlegend\": false, \"line\": {\"color\": \"rgb(255, 105, 97)\"}}, {\"type\": \"scatter3d\", \"x\": [0, 0.9599996200617662], \"y\": [0, -0.08925902396586932], \"z\": [0, 0.26539321039153396], \"opacity\": 0.3, \"mode\": \"lines\", \"showlegend\": false, \"line\": {\"color\": \"rgb(255, 105, 97)\"}}, {\"type\": \"scatter3d\", \"x\": [0, 0.9620939596589054], \"y\": [0, -0.06201846365137433], \"z\": [0, 0.2655728204356982], \"opacity\": 0.3, \"mode\": \"lines\", \"showlegend\": false, \"line\": {\"color\": \"rgb(255, 105, 97)\"}}, {\"type\": \"scatter3d\", \"x\": [0, 0.9640275800758169], \"y\": [0, 0.0], \"z\": [0, 0.26580222883407967], \"opacity\": 0.3, \"mode\": \"lines\", \"showlegend\": false, \"line\": {\"color\": \"rgb(255, 105, 97)\"}}], {\"margin\": {\"l\": 0, \"r\": 0, \"b\": 0, \"t\": 0}, \"scene\": {\"xaxis\": {\"title\": \"Z\"}, \"yaxis\": {\"title\": \"Y\"}, \"zaxis\": {\"title\": \"X\"}}}, {\"showLink\": true, \"linkText\": \"Export to plot.ly\"})});</script>"
      ]
     },
     "metadata": {},
     "output_type": "display_data"
    },
    {
     "data": {
      "application/vnd.plotly.v1+json": {
       "data": [
        {
         "line": {
          "color": "rgb(0,33,71)",
          "width": 5
         },
         "mode": "lines",
         "showlegend": false,
         "type": "scatter3d",
         "x": [
          -1,
          1
         ],
         "y": [
          0,
          0
         ],
         "z": [
          0,
          0
         ]
        },
        {
         "opacity": 0.4,
         "showscale": false,
         "surfacecolor": [
          1,
          1
         ],
         "type": "surface",
         "x": [
          [
           -1,
           -1,
           -1,
           -1,
           -1,
           -1,
           -1,
           -1,
           -1,
           -1
          ],
          [
           1,
           1,
           1,
           1,
           1,
           1,
           1,
           1,
           1,
           1
          ]
         ],
         "y": [
          [
           0,
           0.342020143325669,
           0.6427876096865394,
           0.8660254037844386,
           0.984807753012208,
           0.984807753012208,
           0.8660254037844388,
           0.6427876096865395,
           0.342020143325669,
           0
          ],
          [
           0,
           0.342020143325669,
           0.6427876096865394,
           0.8660254037844386,
           0.984807753012208,
           0.984807753012208,
           0.8660254037844388,
           0.6427876096865395,
           0.342020143325669,
           0
          ]
         ],
         "z": [
          [
           -1,
           -0.9396926207859083,
           -0.766044443118978,
           -0.5,
           -0.17364817766693036,
           0.17364817766693036,
           0.49999999999999983,
           0.7660444431189779,
           0.9396926207859083,
           1
          ],
          [
           -1,
           -0.9396926207859083,
           -0.766044443118978,
           -0.5,
           -0.17364817766693036,
           0.17364817766693036,
           0.49999999999999983,
           0.7660444431189779,
           0.9396926207859083,
           1
          ]
         ]
        },
        {
         "opacity": 0.4,
         "showscale": false,
         "surfacecolor": [
          1,
          1
         ],
         "type": "surface",
         "x": [
          [
           -1,
           -1,
           -1,
           -1,
           -1,
           -1,
           -1,
           -1,
           -1,
           -1
          ],
          [
           1,
           1,
           1,
           1,
           1,
           1,
           1,
           1,
           1,
           1
          ]
         ],
         "y": [
          [
           0,
           -0.342020143325669,
           -0.6427876096865394,
           -0.8660254037844386,
           -0.984807753012208,
           -0.984807753012208,
           -0.8660254037844388,
           -0.6427876096865395,
           -0.342020143325669,
           0
          ],
          [
           0,
           -0.342020143325669,
           -0.6427876096865394,
           -0.8660254037844386,
           -0.984807753012208,
           -0.984807753012208,
           -0.8660254037844388,
           -0.6427876096865395,
           -0.342020143325669,
           0
          ]
         ],
         "z": [
          [
           -1,
           -0.9396926207859083,
           -0.766044443118978,
           -0.5,
           -0.17364817766693036,
           0.17364817766693036,
           0.49999999999999983,
           0.7660444431189779,
           0.9396926207859083,
           1
          ],
          [
           -1,
           -0.9396926207859083,
           -0.766044443118978,
           -0.5,
           -0.17364817766693036,
           0.17364817766693036,
           0.49999999999999983,
           0.7660444431189779,
           0.9396926207859083,
           1
          ]
         ]
        },
        {
         "line": {
          "color": "rgb(255, 105, 97)",
          "width": 7
         },
         "mode": "lines",
         "showlegend": false,
         "type": "scatter3d",
         "x": [
          0,
          0.9950547536867305
         ],
         "y": [
          0,
          0
         ],
         "z": [
          0,
          0.09932792741943323
         ]
        },
        {
         "line": {
          "color": "rgb(255, 105, 97)",
          "width": 5
         },
         "mode": "lines",
         "showlegend": false,
         "type": "scatter3d",
         "x": [
          0.999329299739067,
          0.9992925641850561,
          0.9992526949935175,
          0.9992092859228291,
          0.9991618543059954,
          0.9991098211483397,
          0.9990524843208939,
          0.9989889817471538,
          0.9989182397098687,
          0.998838898364858,
          0.9987492011074239,
          0.9986468242008412,
          0.9985286026422578,
          0.9983900643750867,
          0.9982245817941475,
          0.998021676294657,
          0.9977631603489642,
          0.9974124223998145,
          0.996871650364834,
          0.9950547536867305,
          0.9950547536867305,
          0.9921867605764334,
          0.9905590511111292,
          0.989084875843333,
          0.9876657594483422,
          0.9862644229563172,
          0.9848620074470319,
          0.983447359141926,
          0.9820131716882766,
          0.9805542909244023,
          0.9790668666099106,
          0.9775478868722012,
          0.9759949043155917,
          0.974405865902242,
          0.9727790025803045,
          0.9711127550688635,
          0.9694057224453089,
          0.9676566256221996,
          0.9658642808403455,
          0.9640275800758169,
          0.9640275800758169,
          0.9658642808403455,
          0.9676566256221996,
          0.9694057224453089,
          0.9711127550688635,
          0.9727790025803045,
          0.974405865902242,
          0.9759949043155917,
          0.9775478868722012,
          0.9790668666099106,
          0.9805542909244023,
          0.9820131716882766,
          0.983447359141926,
          0.9848620074470319,
          0.9862644229563172,
          0.9876657594483422,
          0.989084875843333,
          0.9905590511111292,
          0.9921867605764334,
          0.9950547536867305,
          0.9950547536867305,
          0.996871650364834,
          0.9974124223998145,
          0.9977631603489642,
          0.998021676294657,
          0.9982245817941475,
          0.9983900643750867,
          0.9985286026422578,
          0.9986468242008412,
          0.9987492011074239,
          0.998838898364858,
          0.9989182397098687,
          0.9989889817471538,
          0.9990524843208939,
          0.9991098211483397,
          0.9991618543059954,
          0.9992092859228291,
          0.9992526949935175,
          0.9992925641850561,
          0.999329299739067
         ],
         "y": [
          0,
          0.008552411516454023,
          0.012321820354587672,
          0.015386262176041892,
          0.01812968010560764,
          0.020703664665205207,
          0.023190012005096326,
          0.02564214443141413,
          0.02810055300121383,
          0.030600168285484897,
          0.03317481287655101,
          0.035860743401103526,
          0.038700434262177556,
          0.04174776261946511,
          0.04507652574218313,
          0.048796610656766236,
          0.05308970905235481,
          0.05830634407184348,
          0.06534518955671943,
          0.08358156890455774,
          0.08358156890455774,
          0.1031481623024,
          0.11118100679835928,
          0.1170204911262034,
          0.12152587803687126,
          0.12500285694502616,
          0.12758162288775676,
          0.12931224566387936,
          0.13019811937260406,
          0.13020895521997425,
          0.1292847067681623,
          0.1273338730515883,
          0.12422650718503182,
          0.11977994503233448,
          0.11373169138103574,
          0.10568544972937964,
          0.09499089110753871,
          0.08041913580766888,
          0.058909886659820575,
          0,
          0,
          -0.058909886659820575,
          -0.08041913580766888,
          -0.09499089110753871,
          -0.10568544972937964,
          -0.11373169138103574,
          -0.11977994503233448,
          -0.12422650718503182,
          -0.1273338730515883,
          -0.1292847067681623,
          -0.13020895521997425,
          -0.13019811937260406,
          -0.12931224566387936,
          -0.12758162288775676,
          -0.12500285694502616,
          -0.12152587803687126,
          -0.1170204911262034,
          -0.11118100679835928,
          -0.1031481623024,
          -0.08358156890455774,
          -0.08358156890455774,
          -0.06534518955671943,
          -0.05830634407184348,
          -0.05308970905235481,
          -0.048796610656766236,
          -0.04507652574218313,
          -0.04174776261946511,
          -0.038700434262177556,
          -0.035860743401103526,
          -0.03317481287655101,
          -0.030600168285484897,
          -0.02810055300121383,
          -0.02564214443141413,
          -0.023190012005096326,
          -0.020703664665205207,
          -0.01812968010560764,
          -0.015386262176041892,
          -0.012321820354587672,
          -0.008552411516454023,
          0
         ],
         "z": [
          0.036618993473686544,
          0.03662277190094678,
          0.03663637934268916,
          0.036661503813130165,
          0.036700185273008945,
          0.03675491197599965,
          0.03682875120681685,
          0.036925530148438857,
          0.03705009171329105,
          0.03720866584784996,
          0.037409424987404,
          0.037663345527108205,
          0.03798560376272717,
          0.03839796444316954,
          0.0389331623287094,
          0.039643718725856425,
          0.04062214473884421,
          0.04205745930878056,
          0.04446255616458008,
          0.053667108221823,
          0.053667108221823,
          0.07018467603744338,
          0.08019694501115733,
          0.08953944959938372,
          0.09873099098407195,
          0.10796654003080759,
          0.11734460272517272,
          0.12692373662217846,
          0.13674275243159537,
          0.14682952880897412,
          0.15720539209111706,
          0.16788750294580038,
          0.17889025032853598,
          0.19022611088741956,
          0.2019062022684714,
          0.21394065218667616,
          0.2263388519386023,
          0.23910963486527684,
          0.2522614045994538,
          0.26580222883407967,
          0.26580222883407967,
          0.2522614045994538,
          0.23910963486527684,
          0.2263388519386023,
          0.21394065218667616,
          0.2019062022684714,
          0.19022611088741956,
          0.17889025032853598,
          0.16788750294580038,
          0.15720539209111706,
          0.14682952880897412,
          0.13674275243159537,
          0.12692373662217846,
          0.11734460272517272,
          0.10796654003080759,
          0.09873099098407195,
          0.08953944959938372,
          0.08019694501115733,
          0.07018467603744338,
          0.053667108221823,
          0.053667108221823,
          0.04446255616458008,
          0.04205745930878056,
          0.04062214473884421,
          0.039643718725856425,
          0.0389331623287094,
          0.03839796444316954,
          0.03798560376272717,
          0.037663345527108205,
          0.037409424987404,
          0.03720866584784996,
          0.03705009171329105,
          0.036925530148438857,
          0.03682875120681685,
          0.03675491197599965,
          0.036700185273008945,
          0.036661503813130165,
          0.03663637934268916,
          0.03662277190094678,
          0.036618993473686544
         ]
        },
        {
         "line": {
          "color": "rgb(255, 105, 97)"
         },
         "mode": "lines",
         "opacity": 0.3,
         "showlegend": false,
         "type": "scatter3d",
         "x": [
          0,
          0.999329299739067
         ],
         "y": [
          0,
          0
         ],
         "z": [
          0,
          0.036618993473686544
         ]
        },
        {
         "line": {
          "color": "rgb(255, 105, 97)"
         },
         "mode": "lines",
         "opacity": 0.3,
         "showlegend": false,
         "type": "scatter3d",
         "x": [
          0,
          0.9992925641850561
         ],
         "y": [
          0,
          0.008552411516454023
         ],
         "z": [
          0,
          0.03662277190094678
         ]
        },
        {
         "line": {
          "color": "rgb(255, 105, 97)"
         },
         "mode": "lines",
         "opacity": 0.3,
         "showlegend": false,
         "type": "scatter3d",
         "x": [
          0,
          0.9992526949935175
         ],
         "y": [
          0,
          0.012321820354587672
         ],
         "z": [
          0,
          0.03663637934268916
         ]
        },
        {
         "line": {
          "color": "rgb(255, 105, 97)"
         },
         "mode": "lines",
         "opacity": 0.3,
         "showlegend": false,
         "type": "scatter3d",
         "x": [
          0,
          0.9992092859228291
         ],
         "y": [
          0,
          0.015386262176041892
         ],
         "z": [
          0,
          0.036661503813130165
         ]
        },
        {
         "line": {
          "color": "rgb(255, 105, 97)"
         },
         "mode": "lines",
         "opacity": 0.3,
         "showlegend": false,
         "type": "scatter3d",
         "x": [
          0,
          0.9991618543059954
         ],
         "y": [
          0,
          0.01812968010560764
         ],
         "z": [
          0,
          0.036700185273008945
         ]
        },
        {
         "line": {
          "color": "rgb(255, 105, 97)"
         },
         "mode": "lines",
         "opacity": 0.3,
         "showlegend": false,
         "type": "scatter3d",
         "x": [
          0,
          0.9991098211483397
         ],
         "y": [
          0,
          0.020703664665205207
         ],
         "z": [
          0,
          0.03675491197599965
         ]
        },
        {
         "line": {
          "color": "rgb(255, 105, 97)"
         },
         "mode": "lines",
         "opacity": 0.3,
         "showlegend": false,
         "type": "scatter3d",
         "x": [
          0,
          0.9990524843208939
         ],
         "y": [
          0,
          0.023190012005096326
         ],
         "z": [
          0,
          0.03682875120681685
         ]
        },
        {
         "line": {
          "color": "rgb(255, 105, 97)"
         },
         "mode": "lines",
         "opacity": 0.3,
         "showlegend": false,
         "type": "scatter3d",
         "x": [
          0,
          0.9989889817471538
         ],
         "y": [
          0,
          0.02564214443141413
         ],
         "z": [
          0,
          0.036925530148438857
         ]
        },
        {
         "line": {
          "color": "rgb(255, 105, 97)"
         },
         "mode": "lines",
         "opacity": 0.3,
         "showlegend": false,
         "type": "scatter3d",
         "x": [
          0,
          0.9989182397098687
         ],
         "y": [
          0,
          0.02810055300121383
         ],
         "z": [
          0,
          0.03705009171329105
         ]
        },
        {
         "line": {
          "color": "rgb(255, 105, 97)"
         },
         "mode": "lines",
         "opacity": 0.3,
         "showlegend": false,
         "type": "scatter3d",
         "x": [
          0,
          0.998838898364858
         ],
         "y": [
          0,
          0.030600168285484897
         ],
         "z": [
          0,
          0.03720866584784996
         ]
        },
        {
         "line": {
          "color": "rgb(255, 105, 97)"
         },
         "mode": "lines",
         "opacity": 0.3,
         "showlegend": false,
         "type": "scatter3d",
         "x": [
          0,
          0.9987492011074239
         ],
         "y": [
          0,
          0.03317481287655101
         ],
         "z": [
          0,
          0.037409424987404
         ]
        },
        {
         "line": {
          "color": "rgb(255, 105, 97)"
         },
         "mode": "lines",
         "opacity": 0.3,
         "showlegend": false,
         "type": "scatter3d",
         "x": [
          0,
          0.9986468242008412
         ],
         "y": [
          0,
          0.035860743401103526
         ],
         "z": [
          0,
          0.037663345527108205
         ]
        },
        {
         "line": {
          "color": "rgb(255, 105, 97)"
         },
         "mode": "lines",
         "opacity": 0.3,
         "showlegend": false,
         "type": "scatter3d",
         "x": [
          0,
          0.9985286026422578
         ],
         "y": [
          0,
          0.038700434262177556
         ],
         "z": [
          0,
          0.03798560376272717
         ]
        },
        {
         "line": {
          "color": "rgb(255, 105, 97)"
         },
         "mode": "lines",
         "opacity": 0.3,
         "showlegend": false,
         "type": "scatter3d",
         "x": [
          0,
          0.9983900643750867
         ],
         "y": [
          0,
          0.04174776261946511
         ],
         "z": [
          0,
          0.03839796444316954
         ]
        },
        {
         "line": {
          "color": "rgb(255, 105, 97)"
         },
         "mode": "lines",
         "opacity": 0.3,
         "showlegend": false,
         "type": "scatter3d",
         "x": [
          0,
          0.9982245817941475
         ],
         "y": [
          0,
          0.04507652574218313
         ],
         "z": [
          0,
          0.0389331623287094
         ]
        },
        {
         "line": {
          "color": "rgb(255, 105, 97)"
         },
         "mode": "lines",
         "opacity": 0.3,
         "showlegend": false,
         "type": "scatter3d",
         "x": [
          0,
          0.998021676294657
         ],
         "y": [
          0,
          0.048796610656766236
         ],
         "z": [
          0,
          0.039643718725856425
         ]
        },
        {
         "line": {
          "color": "rgb(255, 105, 97)"
         },
         "mode": "lines",
         "opacity": 0.3,
         "showlegend": false,
         "type": "scatter3d",
         "x": [
          0,
          0.9977631603489642
         ],
         "y": [
          0,
          0.05308970905235481
         ],
         "z": [
          0,
          0.04062214473884421
         ]
        },
        {
         "line": {
          "color": "rgb(255, 105, 97)"
         },
         "mode": "lines",
         "opacity": 0.3,
         "showlegend": false,
         "type": "scatter3d",
         "x": [
          0,
          0.9974124223998145
         ],
         "y": [
          0,
          0.05830634407184348
         ],
         "z": [
          0,
          0.04205745930878056
         ]
        },
        {
         "line": {
          "color": "rgb(255, 105, 97)"
         },
         "mode": "lines",
         "opacity": 0.3,
         "showlegend": false,
         "type": "scatter3d",
         "x": [
          0,
          0.996871650364834
         ],
         "y": [
          0,
          0.06534518955671943
         ],
         "z": [
          0,
          0.04446255616458008
         ]
        },
        {
         "line": {
          "color": "rgb(255, 105, 97)"
         },
         "mode": "lines",
         "opacity": 0.3,
         "showlegend": false,
         "type": "scatter3d",
         "x": [
          0,
          0.9950547536867305
         ],
         "y": [
          0,
          0.08358156890455774
         ],
         "z": [
          0,
          0.053667108221823
         ]
        },
        {
         "line": {
          "color": "rgb(255, 105, 97)"
         },
         "mode": "lines",
         "opacity": 0.3,
         "showlegend": false,
         "type": "scatter3d",
         "x": [
          0,
          0.9950547536867305
         ],
         "y": [
          0,
          0.08358156890455774
         ],
         "z": [
          0,
          0.053667108221823
         ]
        },
        {
         "line": {
          "color": "rgb(255, 105, 97)"
         },
         "mode": "lines",
         "opacity": 0.3,
         "showlegend": false,
         "type": "scatter3d",
         "x": [
          0,
          0.9921867605764334
         ],
         "y": [
          0,
          0.1031481623024
         ],
         "z": [
          0,
          0.07018467603744338
         ]
        },
        {
         "line": {
          "color": "rgb(255, 105, 97)"
         },
         "mode": "lines",
         "opacity": 0.3,
         "showlegend": false,
         "type": "scatter3d",
         "x": [
          0,
          0.9905590511111292
         ],
         "y": [
          0,
          0.11118100679835928
         ],
         "z": [
          0,
          0.08019694501115733
         ]
        },
        {
         "line": {
          "color": "rgb(255, 105, 97)"
         },
         "mode": "lines",
         "opacity": 0.3,
         "showlegend": false,
         "type": "scatter3d",
         "x": [
          0,
          0.989084875843333
         ],
         "y": [
          0,
          0.1170204911262034
         ],
         "z": [
          0,
          0.08953944959938372
         ]
        },
        {
         "line": {
          "color": "rgb(255, 105, 97)"
         },
         "mode": "lines",
         "opacity": 0.3,
         "showlegend": false,
         "type": "scatter3d",
         "x": [
          0,
          0.9876657594483422
         ],
         "y": [
          0,
          0.12152587803687126
         ],
         "z": [
          0,
          0.09873099098407195
         ]
        },
        {
         "line": {
          "color": "rgb(255, 105, 97)"
         },
         "mode": "lines",
         "opacity": 0.3,
         "showlegend": false,
         "type": "scatter3d",
         "x": [
          0,
          0.9862644229563172
         ],
         "y": [
          0,
          0.12500285694502616
         ],
         "z": [
          0,
          0.10796654003080759
         ]
        },
        {
         "line": {
          "color": "rgb(255, 105, 97)"
         },
         "mode": "lines",
         "opacity": 0.3,
         "showlegend": false,
         "type": "scatter3d",
         "x": [
          0,
          0.9848620074470319
         ],
         "y": [
          0,
          0.12758162288775676
         ],
         "z": [
          0,
          0.11734460272517272
         ]
        },
        {
         "line": {
          "color": "rgb(255, 105, 97)"
         },
         "mode": "lines",
         "opacity": 0.3,
         "showlegend": false,
         "type": "scatter3d",
         "x": [
          0,
          0.983447359141926
         ],
         "y": [
          0,
          0.12931224566387936
         ],
         "z": [
          0,
          0.12692373662217846
         ]
        },
        {
         "line": {
          "color": "rgb(255, 105, 97)"
         },
         "mode": "lines",
         "opacity": 0.3,
         "showlegend": false,
         "type": "scatter3d",
         "x": [
          0,
          0.9820131716882766
         ],
         "y": [
          0,
          0.13019811937260406
         ],
         "z": [
          0,
          0.13674275243159537
         ]
        },
        {
         "line": {
          "color": "rgb(255, 105, 97)"
         },
         "mode": "lines",
         "opacity": 0.3,
         "showlegend": false,
         "type": "scatter3d",
         "x": [
          0,
          0.9805542909244023
         ],
         "y": [
          0,
          0.13020895521997425
         ],
         "z": [
          0,
          0.14682952880897412
         ]
        },
        {
         "line": {
          "color": "rgb(255, 105, 97)"
         },
         "mode": "lines",
         "opacity": 0.3,
         "showlegend": false,
         "type": "scatter3d",
         "x": [
          0,
          0.9790668666099106
         ],
         "y": [
          0,
          0.1292847067681623
         ],
         "z": [
          0,
          0.15720539209111706
         ]
        },
        {
         "line": {
          "color": "rgb(255, 105, 97)"
         },
         "mode": "lines",
         "opacity": 0.3,
         "showlegend": false,
         "type": "scatter3d",
         "x": [
          0,
          0.9775478868722012
         ],
         "y": [
          0,
          0.1273338730515883
         ],
         "z": [
          0,
          0.16788750294580038
         ]
        },
        {
         "line": {
          "color": "rgb(255, 105, 97)"
         },
         "mode": "lines",
         "opacity": 0.3,
         "showlegend": false,
         "type": "scatter3d",
         "x": [
          0,
          0.9759949043155917
         ],
         "y": [
          0,
          0.12422650718503182
         ],
         "z": [
          0,
          0.17889025032853598
         ]
        },
        {
         "line": {
          "color": "rgb(255, 105, 97)"
         },
         "mode": "lines",
         "opacity": 0.3,
         "showlegend": false,
         "type": "scatter3d",
         "x": [
          0,
          0.974405865902242
         ],
         "y": [
          0,
          0.11977994503233448
         ],
         "z": [
          0,
          0.19022611088741956
         ]
        },
        {
         "line": {
          "color": "rgb(255, 105, 97)"
         },
         "mode": "lines",
         "opacity": 0.3,
         "showlegend": false,
         "type": "scatter3d",
         "x": [
          0,
          0.9727790025803045
         ],
         "y": [
          0,
          0.11373169138103574
         ],
         "z": [
          0,
          0.2019062022684714
         ]
        },
        {
         "line": {
          "color": "rgb(255, 105, 97)"
         },
         "mode": "lines",
         "opacity": 0.3,
         "showlegend": false,
         "type": "scatter3d",
         "x": [
          0,
          0.9711127550688635
         ],
         "y": [
          0,
          0.10568544972937964
         ],
         "z": [
          0,
          0.21394065218667616
         ]
        },
        {
         "line": {
          "color": "rgb(255, 105, 97)"
         },
         "mode": "lines",
         "opacity": 0.3,
         "showlegend": false,
         "type": "scatter3d",
         "x": [
          0,
          0.9694057224453089
         ],
         "y": [
          0,
          0.09499089110753871
         ],
         "z": [
          0,
          0.2263388519386023
         ]
        },
        {
         "line": {
          "color": "rgb(255, 105, 97)"
         },
         "mode": "lines",
         "opacity": 0.3,
         "showlegend": false,
         "type": "scatter3d",
         "x": [
          0,
          0.9676566256221996
         ],
         "y": [
          0,
          0.08041913580766888
         ],
         "z": [
          0,
          0.23910963486527684
         ]
        },
        {
         "line": {
          "color": "rgb(255, 105, 97)"
         },
         "mode": "lines",
         "opacity": 0.3,
         "showlegend": false,
         "type": "scatter3d",
         "x": [
          0,
          0.9658642808403455
         ],
         "y": [
          0,
          0.058909886659820575
         ],
         "z": [
          0,
          0.2522614045994538
         ]
        },
        {
         "line": {
          "color": "rgb(255, 105, 97)"
         },
         "mode": "lines",
         "opacity": 0.3,
         "showlegend": false,
         "type": "scatter3d",
         "x": [
          0,
          0.9640275800758169
         ],
         "y": [
          0,
          0
         ],
         "z": [
          0,
          0.26580222883407967
         ]
        },
        {
         "line": {
          "color": "rgb(255, 105, 97)"
         },
         "mode": "lines",
         "opacity": 0.3,
         "showlegend": false,
         "type": "scatter3d",
         "x": [
          0,
          0.9640275800758169
         ],
         "y": [
          0,
          0
         ],
         "z": [
          0,
          0.26580222883407967
         ]
        },
        {
         "line": {
          "color": "rgb(255, 105, 97)"
         },
         "mode": "lines",
         "opacity": 0.3,
         "showlegend": false,
         "type": "scatter3d",
         "x": [
          0,
          0.9658642808403455
         ],
         "y": [
          0,
          -0.058909886659820575
         ],
         "z": [
          0,
          0.2522614045994538
         ]
        },
        {
         "line": {
          "color": "rgb(255, 105, 97)"
         },
         "mode": "lines",
         "opacity": 0.3,
         "showlegend": false,
         "type": "scatter3d",
         "x": [
          0,
          0.9676566256221996
         ],
         "y": [
          0,
          -0.08041913580766888
         ],
         "z": [
          0,
          0.23910963486527684
         ]
        },
        {
         "line": {
          "color": "rgb(255, 105, 97)"
         },
         "mode": "lines",
         "opacity": 0.3,
         "showlegend": false,
         "type": "scatter3d",
         "x": [
          0,
          0.9694057224453089
         ],
         "y": [
          0,
          -0.09499089110753871
         ],
         "z": [
          0,
          0.2263388519386023
         ]
        },
        {
         "line": {
          "color": "rgb(255, 105, 97)"
         },
         "mode": "lines",
         "opacity": 0.3,
         "showlegend": false,
         "type": "scatter3d",
         "x": [
          0,
          0.9711127550688635
         ],
         "y": [
          0,
          -0.10568544972937964
         ],
         "z": [
          0,
          0.21394065218667616
         ]
        },
        {
         "line": {
          "color": "rgb(255, 105, 97)"
         },
         "mode": "lines",
         "opacity": 0.3,
         "showlegend": false,
         "type": "scatter3d",
         "x": [
          0,
          0.9727790025803045
         ],
         "y": [
          0,
          -0.11373169138103574
         ],
         "z": [
          0,
          0.2019062022684714
         ]
        },
        {
         "line": {
          "color": "rgb(255, 105, 97)"
         },
         "mode": "lines",
         "opacity": 0.3,
         "showlegend": false,
         "type": "scatter3d",
         "x": [
          0,
          0.974405865902242
         ],
         "y": [
          0,
          -0.11977994503233448
         ],
         "z": [
          0,
          0.19022611088741956
         ]
        },
        {
         "line": {
          "color": "rgb(255, 105, 97)"
         },
         "mode": "lines",
         "opacity": 0.3,
         "showlegend": false,
         "type": "scatter3d",
         "x": [
          0,
          0.9759949043155917
         ],
         "y": [
          0,
          -0.12422650718503182
         ],
         "z": [
          0,
          0.17889025032853598
         ]
        },
        {
         "line": {
          "color": "rgb(255, 105, 97)"
         },
         "mode": "lines",
         "opacity": 0.3,
         "showlegend": false,
         "type": "scatter3d",
         "x": [
          0,
          0.9775478868722012
         ],
         "y": [
          0,
          -0.1273338730515883
         ],
         "z": [
          0,
          0.16788750294580038
         ]
        },
        {
         "line": {
          "color": "rgb(255, 105, 97)"
         },
         "mode": "lines",
         "opacity": 0.3,
         "showlegend": false,
         "type": "scatter3d",
         "x": [
          0,
          0.9790668666099106
         ],
         "y": [
          0,
          -0.1292847067681623
         ],
         "z": [
          0,
          0.15720539209111706
         ]
        },
        {
         "line": {
          "color": "rgb(255, 105, 97)"
         },
         "mode": "lines",
         "opacity": 0.3,
         "showlegend": false,
         "type": "scatter3d",
         "x": [
          0,
          0.9805542909244023
         ],
         "y": [
          0,
          -0.13020895521997425
         ],
         "z": [
          0,
          0.14682952880897412
         ]
        },
        {
         "line": {
          "color": "rgb(255, 105, 97)"
         },
         "mode": "lines",
         "opacity": 0.3,
         "showlegend": false,
         "type": "scatter3d",
         "x": [
          0,
          0.9820131716882766
         ],
         "y": [
          0,
          -0.13019811937260406
         ],
         "z": [
          0,
          0.13674275243159537
         ]
        },
        {
         "line": {
          "color": "rgb(255, 105, 97)"
         },
         "mode": "lines",
         "opacity": 0.3,
         "showlegend": false,
         "type": "scatter3d",
         "x": [
          0,
          0.983447359141926
         ],
         "y": [
          0,
          -0.12931224566387936
         ],
         "z": [
          0,
          0.12692373662217846
         ]
        },
        {
         "line": {
          "color": "rgb(255, 105, 97)"
         },
         "mode": "lines",
         "opacity": 0.3,
         "showlegend": false,
         "type": "scatter3d",
         "x": [
          0,
          0.9848620074470319
         ],
         "y": [
          0,
          -0.12758162288775676
         ],
         "z": [
          0,
          0.11734460272517272
         ]
        },
        {
         "line": {
          "color": "rgb(255, 105, 97)"
         },
         "mode": "lines",
         "opacity": 0.3,
         "showlegend": false,
         "type": "scatter3d",
         "x": [
          0,
          0.9862644229563172
         ],
         "y": [
          0,
          -0.12500285694502616
         ],
         "z": [
          0,
          0.10796654003080759
         ]
        },
        {
         "line": {
          "color": "rgb(255, 105, 97)"
         },
         "mode": "lines",
         "opacity": 0.3,
         "showlegend": false,
         "type": "scatter3d",
         "x": [
          0,
          0.9876657594483422
         ],
         "y": [
          0,
          -0.12152587803687126
         ],
         "z": [
          0,
          0.09873099098407195
         ]
        },
        {
         "line": {
          "color": "rgb(255, 105, 97)"
         },
         "mode": "lines",
         "opacity": 0.3,
         "showlegend": false,
         "type": "scatter3d",
         "x": [
          0,
          0.989084875843333
         ],
         "y": [
          0,
          -0.1170204911262034
         ],
         "z": [
          0,
          0.08953944959938372
         ]
        },
        {
         "line": {
          "color": "rgb(255, 105, 97)"
         },
         "mode": "lines",
         "opacity": 0.3,
         "showlegend": false,
         "type": "scatter3d",
         "x": [
          0,
          0.9905590511111292
         ],
         "y": [
          0,
          -0.11118100679835928
         ],
         "z": [
          0,
          0.08019694501115733
         ]
        },
        {
         "line": {
          "color": "rgb(255, 105, 97)"
         },
         "mode": "lines",
         "opacity": 0.3,
         "showlegend": false,
         "type": "scatter3d",
         "x": [
          0,
          0.9921867605764334
         ],
         "y": [
          0,
          -0.1031481623024
         ],
         "z": [
          0,
          0.07018467603744338
         ]
        },
        {
         "line": {
          "color": "rgb(255, 105, 97)"
         },
         "mode": "lines",
         "opacity": 0.3,
         "showlegend": false,
         "type": "scatter3d",
         "x": [
          0,
          0.9950547536867305
         ],
         "y": [
          0,
          -0.08358156890455774
         ],
         "z": [
          0,
          0.053667108221823
         ]
        },
        {
         "line": {
          "color": "rgb(255, 105, 97)"
         },
         "mode": "lines",
         "opacity": 0.3,
         "showlegend": false,
         "type": "scatter3d",
         "x": [
          0,
          0.9950547536867305
         ],
         "y": [
          0,
          -0.08358156890455774
         ],
         "z": [
          0,
          0.053667108221823
         ]
        },
        {
         "line": {
          "color": "rgb(255, 105, 97)"
         },
         "mode": "lines",
         "opacity": 0.3,
         "showlegend": false,
         "type": "scatter3d",
         "x": [
          0,
          0.996871650364834
         ],
         "y": [
          0,
          -0.06534518955671943
         ],
         "z": [
          0,
          0.04446255616458008
         ]
        },
        {
         "line": {
          "color": "rgb(255, 105, 97)"
         },
         "mode": "lines",
         "opacity": 0.3,
         "showlegend": false,
         "type": "scatter3d",
         "x": [
          0,
          0.9974124223998145
         ],
         "y": [
          0,
          -0.05830634407184348
         ],
         "z": [
          0,
          0.04205745930878056
         ]
        },
        {
         "line": {
          "color": "rgb(255, 105, 97)"
         },
         "mode": "lines",
         "opacity": 0.3,
         "showlegend": false,
         "type": "scatter3d",
         "x": [
          0,
          0.9977631603489642
         ],
         "y": [
          0,
          -0.05308970905235481
         ],
         "z": [
          0,
          0.04062214473884421
         ]
        },
        {
         "line": {
          "color": "rgb(255, 105, 97)"
         },
         "mode": "lines",
         "opacity": 0.3,
         "showlegend": false,
         "type": "scatter3d",
         "x": [
          0,
          0.998021676294657
         ],
         "y": [
          0,
          -0.048796610656766236
         ],
         "z": [
          0,
          0.039643718725856425
         ]
        },
        {
         "line": {
          "color": "rgb(255, 105, 97)"
         },
         "mode": "lines",
         "opacity": 0.3,
         "showlegend": false,
         "type": "scatter3d",
         "x": [
          0,
          0.9982245817941475
         ],
         "y": [
          0,
          -0.04507652574218313
         ],
         "z": [
          0,
          0.0389331623287094
         ]
        },
        {
         "line": {
          "color": "rgb(255, 105, 97)"
         },
         "mode": "lines",
         "opacity": 0.3,
         "showlegend": false,
         "type": "scatter3d",
         "x": [
          0,
          0.9983900643750867
         ],
         "y": [
          0,
          -0.04174776261946511
         ],
         "z": [
          0,
          0.03839796444316954
         ]
        },
        {
         "line": {
          "color": "rgb(255, 105, 97)"
         },
         "mode": "lines",
         "opacity": 0.3,
         "showlegend": false,
         "type": "scatter3d",
         "x": [
          0,
          0.9985286026422578
         ],
         "y": [
          0,
          -0.038700434262177556
         ],
         "z": [
          0,
          0.03798560376272717
         ]
        },
        {
         "line": {
          "color": "rgb(255, 105, 97)"
         },
         "mode": "lines",
         "opacity": 0.3,
         "showlegend": false,
         "type": "scatter3d",
         "x": [
          0,
          0.9986468242008412
         ],
         "y": [
          0,
          -0.035860743401103526
         ],
         "z": [
          0,
          0.037663345527108205
         ]
        },
        {
         "line": {
          "color": "rgb(255, 105, 97)"
         },
         "mode": "lines",
         "opacity": 0.3,
         "showlegend": false,
         "type": "scatter3d",
         "x": [
          0,
          0.9987492011074239
         ],
         "y": [
          0,
          -0.03317481287655101
         ],
         "z": [
          0,
          0.037409424987404
         ]
        },
        {
         "line": {
          "color": "rgb(255, 105, 97)"
         },
         "mode": "lines",
         "opacity": 0.3,
         "showlegend": false,
         "type": "scatter3d",
         "x": [
          0,
          0.998838898364858
         ],
         "y": [
          0,
          -0.030600168285484897
         ],
         "z": [
          0,
          0.03720866584784996
         ]
        },
        {
         "line": {
          "color": "rgb(255, 105, 97)"
         },
         "mode": "lines",
         "opacity": 0.3,
         "showlegend": false,
         "type": "scatter3d",
         "x": [
          0,
          0.9989182397098687
         ],
         "y": [
          0,
          -0.02810055300121383
         ],
         "z": [
          0,
          0.03705009171329105
         ]
        },
        {
         "line": {
          "color": "rgb(255, 105, 97)"
         },
         "mode": "lines",
         "opacity": 0.3,
         "showlegend": false,
         "type": "scatter3d",
         "x": [
          0,
          0.9989889817471538
         ],
         "y": [
          0,
          -0.02564214443141413
         ],
         "z": [
          0,
          0.036925530148438857
         ]
        },
        {
         "line": {
          "color": "rgb(255, 105, 97)"
         },
         "mode": "lines",
         "opacity": 0.3,
         "showlegend": false,
         "type": "scatter3d",
         "x": [
          0,
          0.9990524843208939
         ],
         "y": [
          0,
          -0.023190012005096326
         ],
         "z": [
          0,
          0.03682875120681685
         ]
        },
        {
         "line": {
          "color": "rgb(255, 105, 97)"
         },
         "mode": "lines",
         "opacity": 0.3,
         "showlegend": false,
         "type": "scatter3d",
         "x": [
          0,
          0.9991098211483397
         ],
         "y": [
          0,
          -0.020703664665205207
         ],
         "z": [
          0,
          0.03675491197599965
         ]
        },
        {
         "line": {
          "color": "rgb(255, 105, 97)"
         },
         "mode": "lines",
         "opacity": 0.3,
         "showlegend": false,
         "type": "scatter3d",
         "x": [
          0,
          0.9991618543059954
         ],
         "y": [
          0,
          -0.01812968010560764
         ],
         "z": [
          0,
          0.036700185273008945
         ]
        },
        {
         "line": {
          "color": "rgb(255, 105, 97)"
         },
         "mode": "lines",
         "opacity": 0.3,
         "showlegend": false,
         "type": "scatter3d",
         "x": [
          0,
          0.9992092859228291
         ],
         "y": [
          0,
          -0.015386262176041892
         ],
         "z": [
          0,
          0.036661503813130165
         ]
        },
        {
         "line": {
          "color": "rgb(255, 105, 97)"
         },
         "mode": "lines",
         "opacity": 0.3,
         "showlegend": false,
         "type": "scatter3d",
         "x": [
          0,
          0.9992526949935175
         ],
         "y": [
          0,
          -0.012321820354587672
         ],
         "z": [
          0,
          0.03663637934268916
         ]
        },
        {
         "line": {
          "color": "rgb(255, 105, 97)"
         },
         "mode": "lines",
         "opacity": 0.3,
         "showlegend": false,
         "type": "scatter3d",
         "x": [
          0,
          0.9992925641850561
         ],
         "y": [
          0,
          -0.008552411516454023
         ],
         "z": [
          0,
          0.03662277190094678
         ]
        },
        {
         "line": {
          "color": "rgb(255, 105, 97)"
         },
         "mode": "lines",
         "opacity": 0.3,
         "showlegend": false,
         "type": "scatter3d",
         "x": [
          0,
          0.999329299739067
         ],
         "y": [
          0,
          0
         ],
         "z": [
          0,
          0.036618993473686544
         ]
        }
       ],
       "layout": {
        "margin": {
         "b": 0,
         "l": 0,
         "r": 0,
         "t": 0
        },
        "scene": {
         "xaxis": {
          "title": "Z"
         },
         "yaxis": {
          "title": "Y"
         },
         "zaxis": {
          "title": "X"
         }
        }
       }
      },
      "text/html": [
       "<div id=\"1d7539bb-1666-40e5-b948-6c92a29e7e92\" style=\"height: 525px; width: 100%;\" class=\"plotly-graph-div\"></div><script type=\"text/javascript\">require([\"plotly\"], function(Plotly) { window.PLOTLYENV=window.PLOTLYENV || {};window.PLOTLYENV.BASE_URL=\"https://plot.ly\";Plotly.newPlot(\"1d7539bb-1666-40e5-b948-6c92a29e7e92\", [{\"type\": \"scatter3d\", \"x\": [-1.0, 1.0], \"y\": [0, 0], \"z\": [0, 0], \"mode\": \"lines\", \"showlegend\": false, \"line\": {\"color\": \"rgb(0,33,71)\", \"width\": 5}}, {\"type\": \"surface\", \"x\": [[-1.0, -1.0, -1.0, -1.0, -1.0, -1.0, -1.0, -1.0, -1.0, -1.0], [1.0, 1.0, 1.0, 1.0, 1.0, 1.0, 1.0, 1.0, 1.0, 1.0]], \"y\": [[0.0, 0.342020143325669, 0.6427876096865394, 0.8660254037844386, 0.984807753012208, 0.984807753012208, 0.8660254037844388, 0.6427876096865395, 0.342020143325669, 0.0], [0.0, 0.342020143325669, 0.6427876096865394, 0.8660254037844386, 0.984807753012208, 0.984807753012208, 0.8660254037844388, 0.6427876096865395, 0.342020143325669, 0.0]], \"z\": [[-1.0, -0.9396926207859083, -0.766044443118978, -0.5, -0.17364817766693036, 0.17364817766693036, 0.49999999999999983, 0.7660444431189779, 0.9396926207859083, 1.0], [-1.0, -0.9396926207859083, -0.766044443118978, -0.5, -0.17364817766693036, 0.17364817766693036, 0.49999999999999983, 0.7660444431189779, 0.9396926207859083, 1.0]], \"surfacecolor\": [1, 1], \"showscale\": false, \"opacity\": 0.4}, {\"type\": \"surface\", \"x\": [[-1.0, -1.0, -1.0, -1.0, -1.0, -1.0, -1.0, -1.0, -1.0, -1.0], [1.0, 1.0, 1.0, 1.0, 1.0, 1.0, 1.0, 1.0, 1.0, 1.0]], \"y\": [[-0.0, -0.342020143325669, -0.6427876096865394, -0.8660254037844386, -0.984807753012208, -0.984807753012208, -0.8660254037844388, -0.6427876096865395, -0.342020143325669, -0.0], [-0.0, -0.342020143325669, -0.6427876096865394, -0.8660254037844386, -0.984807753012208, -0.984807753012208, -0.8660254037844388, -0.6427876096865395, -0.342020143325669, -0.0]], \"z\": [[-1.0, -0.9396926207859083, -0.766044443118978, -0.5, -0.17364817766693036, 0.17364817766693036, 0.49999999999999983, 0.7660444431189779, 0.9396926207859083, 1.0], [-1.0, -0.9396926207859083, -0.766044443118978, -0.5, -0.17364817766693036, 0.17364817766693036, 0.49999999999999983, 0.7660444431189779, 0.9396926207859083, 1.0]], \"surfacecolor\": [1, 1], \"showscale\": false, \"opacity\": 0.4}, {\"type\": \"scatter3d\", \"x\": [0.0, 0.9950547536867305], \"y\": [0.0, 0.0], \"z\": [0.0, 0.09932792741943323], \"mode\": \"lines\", \"showlegend\": false, \"line\": {\"color\": \"rgb(255, 105, 97)\", \"width\": 7}}, {\"type\": \"scatter3d\", \"x\": [0.999329299739067, 0.9992925641850561, 0.9992526949935175, 0.9992092859228291, 0.9991618543059954, 0.9991098211483397, 0.9990524843208939, 0.9989889817471538, 0.9989182397098687, 0.998838898364858, 0.9987492011074239, 0.9986468242008412, 0.9985286026422578, 0.9983900643750867, 0.9982245817941475, 0.998021676294657, 0.9977631603489642, 0.9974124223998145, 0.996871650364834, 0.9950547536867305, 0.9950547536867305, 0.9921867605764334, 0.9905590511111292, 0.989084875843333, 0.9876657594483422, 0.9862644229563172, 0.9848620074470319, 0.983447359141926, 0.9820131716882766, 0.9805542909244023, 0.9790668666099106, 0.9775478868722012, 0.9759949043155917, 0.974405865902242, 0.9727790025803045, 0.9711127550688635, 0.9694057224453089, 0.9676566256221996, 0.9658642808403455, 0.9640275800758169, 0.9640275800758169, 0.9658642808403455, 0.9676566256221996, 0.9694057224453089, 0.9711127550688635, 0.9727790025803045, 0.974405865902242, 0.9759949043155917, 0.9775478868722012, 0.9790668666099106, 0.9805542909244023, 0.9820131716882766, 0.983447359141926, 0.9848620074470319, 0.9862644229563172, 0.9876657594483422, 0.989084875843333, 0.9905590511111292, 0.9921867605764334, 0.9950547536867305, 0.9950547536867305, 0.996871650364834, 0.9974124223998145, 0.9977631603489642, 0.998021676294657, 0.9982245817941475, 0.9983900643750867, 0.9985286026422578, 0.9986468242008412, 0.9987492011074239, 0.998838898364858, 0.9989182397098687, 0.9989889817471538, 0.9990524843208939, 0.9991098211483397, 0.9991618543059954, 0.9992092859228291, 0.9992526949935175, 0.9992925641850561, 0.999329299739067], \"y\": [0.0, 0.008552411516454023, 0.012321820354587672, 0.015386262176041892, 0.01812968010560764, 0.020703664665205207, 0.023190012005096326, 0.02564214443141413, 0.02810055300121383, 0.030600168285484897, 0.03317481287655101, 0.035860743401103526, 0.038700434262177556, 0.04174776261946511, 0.04507652574218313, 0.048796610656766236, 0.05308970905235481, 0.05830634407184348, 0.06534518955671943, 0.08358156890455774, 0.08358156890455774, 0.1031481623024, 0.11118100679835928, 0.1170204911262034, 0.12152587803687126, 0.12500285694502616, 0.12758162288775676, 0.12931224566387936, 0.13019811937260406, 0.13020895521997425, 0.1292847067681623, 0.1273338730515883, 0.12422650718503182, 0.11977994503233448, 0.11373169138103574, 0.10568544972937964, 0.09499089110753871, 0.08041913580766888, 0.058909886659820575, 0.0, 0.0, -0.058909886659820575, -0.08041913580766888, -0.09499089110753871, -0.10568544972937964, -0.11373169138103574, -0.11977994503233448, -0.12422650718503182, -0.1273338730515883, -0.1292847067681623, -0.13020895521997425, -0.13019811937260406, -0.12931224566387936, -0.12758162288775676, -0.12500285694502616, -0.12152587803687126, -0.1170204911262034, -0.11118100679835928, -0.1031481623024, -0.08358156890455774, -0.08358156890455774, -0.06534518955671943, -0.05830634407184348, -0.05308970905235481, -0.048796610656766236, -0.04507652574218313, -0.04174776261946511, -0.038700434262177556, -0.035860743401103526, -0.03317481287655101, -0.030600168285484897, -0.02810055300121383, -0.02564214443141413, -0.023190012005096326, -0.020703664665205207, -0.01812968010560764, -0.015386262176041892, -0.012321820354587672, -0.008552411516454023, 0.0], \"z\": [0.036618993473686544, 0.03662277190094678, 0.03663637934268916, 0.036661503813130165, 0.036700185273008945, 0.03675491197599965, 0.03682875120681685, 0.036925530148438857, 0.03705009171329105, 0.03720866584784996, 0.037409424987404, 0.037663345527108205, 0.03798560376272717, 0.03839796444316954, 0.0389331623287094, 0.039643718725856425, 0.04062214473884421, 0.04205745930878056, 0.04446255616458008, 0.053667108221823, 0.053667108221823, 0.07018467603744338, 0.08019694501115733, 0.08953944959938372, 0.09873099098407195, 0.10796654003080759, 0.11734460272517272, 0.12692373662217846, 0.13674275243159537, 0.14682952880897412, 0.15720539209111706, 0.16788750294580038, 0.17889025032853598, 0.19022611088741956, 0.2019062022684714, 0.21394065218667616, 0.2263388519386023, 0.23910963486527684, 0.2522614045994538, 0.26580222883407967, 0.26580222883407967, 0.2522614045994538, 0.23910963486527684, 0.2263388519386023, 0.21394065218667616, 0.2019062022684714, 0.19022611088741956, 0.17889025032853598, 0.16788750294580038, 0.15720539209111706, 0.14682952880897412, 0.13674275243159537, 0.12692373662217846, 0.11734460272517272, 0.10796654003080759, 0.09873099098407195, 0.08953944959938372, 0.08019694501115733, 0.07018467603744338, 0.053667108221823, 0.053667108221823, 0.04446255616458008, 0.04205745930878056, 0.04062214473884421, 0.039643718725856425, 0.0389331623287094, 0.03839796444316954, 0.03798560376272717, 0.037663345527108205, 0.037409424987404, 0.03720866584784996, 0.03705009171329105, 0.036925530148438857, 0.03682875120681685, 0.03675491197599965, 0.036700185273008945, 0.036661503813130165, 0.03663637934268916, 0.03662277190094678, 0.036618993473686544], \"mode\": \"lines\", \"showlegend\": false, \"line\": {\"color\": \"rgb(255, 105, 97)\", \"width\": 5}}, {\"type\": \"scatter3d\", \"x\": [0, 0.999329299739067], \"y\": [0, 0.0], \"z\": [0, 0.036618993473686544], \"opacity\": 0.3, \"mode\": \"lines\", \"showlegend\": false, \"line\": {\"color\": \"rgb(255, 105, 97)\"}}, {\"type\": \"scatter3d\", \"x\": [0, 0.9992925641850561], \"y\": [0, 0.008552411516454023], \"z\": [0, 0.03662277190094678], \"opacity\": 0.3, \"mode\": \"lines\", \"showlegend\": false, \"line\": {\"color\": \"rgb(255, 105, 97)\"}}, {\"type\": \"scatter3d\", \"x\": [0, 0.9992526949935175], \"y\": [0, 0.012321820354587672], \"z\": [0, 0.03663637934268916], \"opacity\": 0.3, \"mode\": \"lines\", \"showlegend\": false, \"line\": {\"color\": \"rgb(255, 105, 97)\"}}, {\"type\": \"scatter3d\", \"x\": [0, 0.9992092859228291], \"y\": [0, 0.015386262176041892], \"z\": [0, 0.036661503813130165], \"opacity\": 0.3, \"mode\": \"lines\", \"showlegend\": false, \"line\": {\"color\": \"rgb(255, 105, 97)\"}}, {\"type\": \"scatter3d\", \"x\": [0, 0.9991618543059954], \"y\": [0, 0.01812968010560764], \"z\": [0, 0.036700185273008945], \"opacity\": 0.3, \"mode\": \"lines\", \"showlegend\": false, \"line\": {\"color\": \"rgb(255, 105, 97)\"}}, {\"type\": \"scatter3d\", \"x\": [0, 0.9991098211483397], \"y\": [0, 0.020703664665205207], \"z\": [0, 0.03675491197599965], \"opacity\": 0.3, \"mode\": \"lines\", \"showlegend\": false, \"line\": {\"color\": \"rgb(255, 105, 97)\"}}, {\"type\": \"scatter3d\", \"x\": [0, 0.9990524843208939], \"y\": [0, 0.023190012005096326], \"z\": [0, 0.03682875120681685], \"opacity\": 0.3, \"mode\": \"lines\", \"showlegend\": false, \"line\": {\"color\": \"rgb(255, 105, 97)\"}}, {\"type\": \"scatter3d\", \"x\": [0, 0.9989889817471538], \"y\": [0, 0.02564214443141413], \"z\": [0, 0.036925530148438857], \"opacity\": 0.3, \"mode\": \"lines\", \"showlegend\": false, \"line\": {\"color\": \"rgb(255, 105, 97)\"}}, {\"type\": \"scatter3d\", \"x\": [0, 0.9989182397098687], \"y\": [0, 0.02810055300121383], \"z\": [0, 0.03705009171329105], \"opacity\": 0.3, \"mode\": \"lines\", \"showlegend\": false, \"line\": {\"color\": \"rgb(255, 105, 97)\"}}, {\"type\": \"scatter3d\", \"x\": [0, 0.998838898364858], \"y\": [0, 0.030600168285484897], \"z\": [0, 0.03720866584784996], \"opacity\": 0.3, \"mode\": \"lines\", \"showlegend\": false, \"line\": {\"color\": \"rgb(255, 105, 97)\"}}, {\"type\": \"scatter3d\", \"x\": [0, 0.9987492011074239], \"y\": [0, 0.03317481287655101], \"z\": [0, 0.037409424987404], \"opacity\": 0.3, \"mode\": \"lines\", \"showlegend\": false, \"line\": {\"color\": \"rgb(255, 105, 97)\"}}, {\"type\": \"scatter3d\", \"x\": [0, 0.9986468242008412], \"y\": [0, 0.035860743401103526], \"z\": [0, 0.037663345527108205], \"opacity\": 0.3, \"mode\": \"lines\", \"showlegend\": false, \"line\": {\"color\": \"rgb(255, 105, 97)\"}}, {\"type\": \"scatter3d\", \"x\": [0, 0.9985286026422578], \"y\": [0, 0.038700434262177556], \"z\": [0, 0.03798560376272717], \"opacity\": 0.3, \"mode\": \"lines\", \"showlegend\": false, \"line\": {\"color\": \"rgb(255, 105, 97)\"}}, {\"type\": \"scatter3d\", \"x\": [0, 0.9983900643750867], \"y\": [0, 0.04174776261946511], \"z\": [0, 0.03839796444316954], \"opacity\": 0.3, \"mode\": \"lines\", \"showlegend\": false, \"line\": {\"color\": \"rgb(255, 105, 97)\"}}, {\"type\": \"scatter3d\", \"x\": [0, 0.9982245817941475], \"y\": [0, 0.04507652574218313], \"z\": [0, 0.0389331623287094], \"opacity\": 0.3, \"mode\": \"lines\", \"showlegend\": false, \"line\": {\"color\": \"rgb(255, 105, 97)\"}}, {\"type\": \"scatter3d\", \"x\": [0, 0.998021676294657], \"y\": [0, 0.048796610656766236], \"z\": [0, 0.039643718725856425], \"opacity\": 0.3, \"mode\": \"lines\", \"showlegend\": false, \"line\": {\"color\": \"rgb(255, 105, 97)\"}}, {\"type\": \"scatter3d\", \"x\": [0, 0.9977631603489642], \"y\": [0, 0.05308970905235481], \"z\": [0, 0.04062214473884421], \"opacity\": 0.3, \"mode\": \"lines\", \"showlegend\": false, \"line\": {\"color\": \"rgb(255, 105, 97)\"}}, {\"type\": \"scatter3d\", \"x\": [0, 0.9974124223998145], \"y\": [0, 0.05830634407184348], \"z\": [0, 0.04205745930878056], \"opacity\": 0.3, \"mode\": \"lines\", \"showlegend\": false, \"line\": {\"color\": \"rgb(255, 105, 97)\"}}, {\"type\": \"scatter3d\", \"x\": [0, 0.996871650364834], \"y\": [0, 0.06534518955671943], \"z\": [0, 0.04446255616458008], \"opacity\": 0.3, \"mode\": \"lines\", \"showlegend\": false, \"line\": {\"color\": \"rgb(255, 105, 97)\"}}, {\"type\": \"scatter3d\", \"x\": [0, 0.9950547536867305], \"y\": [0, 0.08358156890455774], \"z\": [0, 0.053667108221823], \"opacity\": 0.3, \"mode\": \"lines\", \"showlegend\": false, \"line\": {\"color\": \"rgb(255, 105, 97)\"}}, {\"type\": \"scatter3d\", \"x\": [0, 0.9950547536867305], \"y\": [0, 0.08358156890455774], \"z\": [0, 0.053667108221823], \"opacity\": 0.3, \"mode\": \"lines\", \"showlegend\": false, \"line\": {\"color\": \"rgb(255, 105, 97)\"}}, {\"type\": \"scatter3d\", \"x\": [0, 0.9921867605764334], \"y\": [0, 0.1031481623024], \"z\": [0, 0.07018467603744338], \"opacity\": 0.3, \"mode\": \"lines\", \"showlegend\": false, \"line\": {\"color\": \"rgb(255, 105, 97)\"}}, {\"type\": \"scatter3d\", \"x\": [0, 0.9905590511111292], \"y\": [0, 0.11118100679835928], \"z\": [0, 0.08019694501115733], \"opacity\": 0.3, \"mode\": \"lines\", \"showlegend\": false, \"line\": {\"color\": \"rgb(255, 105, 97)\"}}, {\"type\": \"scatter3d\", \"x\": [0, 0.989084875843333], \"y\": [0, 0.1170204911262034], \"z\": [0, 0.08953944959938372], \"opacity\": 0.3, \"mode\": \"lines\", \"showlegend\": false, \"line\": {\"color\": \"rgb(255, 105, 97)\"}}, {\"type\": \"scatter3d\", \"x\": [0, 0.9876657594483422], \"y\": [0, 0.12152587803687126], \"z\": [0, 0.09873099098407195], \"opacity\": 0.3, \"mode\": \"lines\", \"showlegend\": false, \"line\": {\"color\": \"rgb(255, 105, 97)\"}}, {\"type\": \"scatter3d\", \"x\": [0, 0.9862644229563172], \"y\": [0, 0.12500285694502616], \"z\": [0, 0.10796654003080759], \"opacity\": 0.3, \"mode\": \"lines\", \"showlegend\": false, \"line\": {\"color\": \"rgb(255, 105, 97)\"}}, {\"type\": \"scatter3d\", \"x\": [0, 0.9848620074470319], \"y\": [0, 0.12758162288775676], \"z\": [0, 0.11734460272517272], \"opacity\": 0.3, \"mode\": \"lines\", \"showlegend\": false, \"line\": {\"color\": \"rgb(255, 105, 97)\"}}, {\"type\": \"scatter3d\", \"x\": [0, 0.983447359141926], \"y\": [0, 0.12931224566387936], \"z\": [0, 0.12692373662217846], \"opacity\": 0.3, \"mode\": \"lines\", \"showlegend\": false, \"line\": {\"color\": \"rgb(255, 105, 97)\"}}, {\"type\": \"scatter3d\", \"x\": [0, 0.9820131716882766], \"y\": [0, 0.13019811937260406], \"z\": [0, 0.13674275243159537], \"opacity\": 0.3, \"mode\": \"lines\", \"showlegend\": false, \"line\": {\"color\": \"rgb(255, 105, 97)\"}}, {\"type\": \"scatter3d\", \"x\": [0, 0.9805542909244023], \"y\": [0, 0.13020895521997425], \"z\": [0, 0.14682952880897412], \"opacity\": 0.3, \"mode\": \"lines\", \"showlegend\": false, \"line\": {\"color\": \"rgb(255, 105, 97)\"}}, {\"type\": \"scatter3d\", \"x\": [0, 0.9790668666099106], \"y\": [0, 0.1292847067681623], \"z\": [0, 0.15720539209111706], \"opacity\": 0.3, \"mode\": \"lines\", \"showlegend\": false, \"line\": {\"color\": \"rgb(255, 105, 97)\"}}, {\"type\": \"scatter3d\", \"x\": [0, 0.9775478868722012], \"y\": [0, 0.1273338730515883], \"z\": [0, 0.16788750294580038], \"opacity\": 0.3, \"mode\": \"lines\", \"showlegend\": false, \"line\": {\"color\": \"rgb(255, 105, 97)\"}}, {\"type\": \"scatter3d\", \"x\": [0, 0.9759949043155917], \"y\": [0, 0.12422650718503182], \"z\": [0, 0.17889025032853598], \"opacity\": 0.3, \"mode\": \"lines\", \"showlegend\": false, \"line\": {\"color\": \"rgb(255, 105, 97)\"}}, {\"type\": \"scatter3d\", \"x\": [0, 0.974405865902242], \"y\": [0, 0.11977994503233448], \"z\": [0, 0.19022611088741956], \"opacity\": 0.3, \"mode\": \"lines\", \"showlegend\": false, \"line\": {\"color\": \"rgb(255, 105, 97)\"}}, {\"type\": \"scatter3d\", \"x\": [0, 0.9727790025803045], \"y\": [0, 0.11373169138103574], \"z\": [0, 0.2019062022684714], \"opacity\": 0.3, \"mode\": \"lines\", \"showlegend\": false, \"line\": {\"color\": \"rgb(255, 105, 97)\"}}, {\"type\": \"scatter3d\", \"x\": [0, 0.9711127550688635], \"y\": [0, 0.10568544972937964], \"z\": [0, 0.21394065218667616], \"opacity\": 0.3, \"mode\": \"lines\", \"showlegend\": false, \"line\": {\"color\": \"rgb(255, 105, 97)\"}}, {\"type\": \"scatter3d\", \"x\": [0, 0.9694057224453089], \"y\": [0, 0.09499089110753871], \"z\": [0, 0.2263388519386023], \"opacity\": 0.3, \"mode\": \"lines\", \"showlegend\": false, \"line\": {\"color\": \"rgb(255, 105, 97)\"}}, {\"type\": \"scatter3d\", \"x\": [0, 0.9676566256221996], \"y\": [0, 0.08041913580766888], \"z\": [0, 0.23910963486527684], \"opacity\": 0.3, \"mode\": \"lines\", \"showlegend\": false, \"line\": {\"color\": \"rgb(255, 105, 97)\"}}, {\"type\": \"scatter3d\", \"x\": [0, 0.9658642808403455], \"y\": [0, 0.058909886659820575], \"z\": [0, 0.2522614045994538], \"opacity\": 0.3, \"mode\": \"lines\", \"showlegend\": false, \"line\": {\"color\": \"rgb(255, 105, 97)\"}}, {\"type\": \"scatter3d\", \"x\": [0, 0.9640275800758169], \"y\": [0, 0.0], \"z\": [0, 0.26580222883407967], \"opacity\": 0.3, \"mode\": \"lines\", \"showlegend\": false, \"line\": {\"color\": \"rgb(255, 105, 97)\"}}, {\"type\": \"scatter3d\", \"x\": [0, 0.9640275800758169], \"y\": [0, 0.0], \"z\": [0, 0.26580222883407967], \"opacity\": 0.3, \"mode\": \"lines\", \"showlegend\": false, \"line\": {\"color\": \"rgb(255, 105, 97)\"}}, {\"type\": \"scatter3d\", \"x\": [0, 0.9658642808403455], \"y\": [0, -0.058909886659820575], \"z\": [0, 0.2522614045994538], \"opacity\": 0.3, \"mode\": \"lines\", \"showlegend\": false, \"line\": {\"color\": \"rgb(255, 105, 97)\"}}, {\"type\": \"scatter3d\", \"x\": [0, 0.9676566256221996], \"y\": [0, -0.08041913580766888], \"z\": [0, 0.23910963486527684], \"opacity\": 0.3, \"mode\": \"lines\", \"showlegend\": false, \"line\": {\"color\": \"rgb(255, 105, 97)\"}}, {\"type\": \"scatter3d\", \"x\": [0, 0.9694057224453089], \"y\": [0, -0.09499089110753871], \"z\": [0, 0.2263388519386023], \"opacity\": 0.3, \"mode\": \"lines\", \"showlegend\": false, \"line\": {\"color\": \"rgb(255, 105, 97)\"}}, {\"type\": \"scatter3d\", \"x\": [0, 0.9711127550688635], \"y\": [0, -0.10568544972937964], \"z\": [0, 0.21394065218667616], \"opacity\": 0.3, \"mode\": \"lines\", \"showlegend\": false, \"line\": {\"color\": \"rgb(255, 105, 97)\"}}, {\"type\": \"scatter3d\", \"x\": [0, 0.9727790025803045], \"y\": [0, -0.11373169138103574], \"z\": [0, 0.2019062022684714], \"opacity\": 0.3, \"mode\": \"lines\", \"showlegend\": false, \"line\": {\"color\": \"rgb(255, 105, 97)\"}}, {\"type\": \"scatter3d\", \"x\": [0, 0.974405865902242], \"y\": [0, -0.11977994503233448], \"z\": [0, 0.19022611088741956], \"opacity\": 0.3, \"mode\": \"lines\", \"showlegend\": false, \"line\": {\"color\": \"rgb(255, 105, 97)\"}}, {\"type\": \"scatter3d\", \"x\": [0, 0.9759949043155917], \"y\": [0, -0.12422650718503182], \"z\": [0, 0.17889025032853598], \"opacity\": 0.3, \"mode\": \"lines\", \"showlegend\": false, \"line\": {\"color\": \"rgb(255, 105, 97)\"}}, {\"type\": \"scatter3d\", \"x\": [0, 0.9775478868722012], \"y\": [0, -0.1273338730515883], \"z\": [0, 0.16788750294580038], \"opacity\": 0.3, \"mode\": \"lines\", \"showlegend\": false, \"line\": {\"color\": \"rgb(255, 105, 97)\"}}, {\"type\": \"scatter3d\", \"x\": [0, 0.9790668666099106], \"y\": [0, -0.1292847067681623], \"z\": [0, 0.15720539209111706], \"opacity\": 0.3, \"mode\": \"lines\", \"showlegend\": false, \"line\": {\"color\": \"rgb(255, 105, 97)\"}}, {\"type\": \"scatter3d\", \"x\": [0, 0.9805542909244023], \"y\": [0, -0.13020895521997425], \"z\": [0, 0.14682952880897412], \"opacity\": 0.3, \"mode\": \"lines\", \"showlegend\": false, \"line\": {\"color\": \"rgb(255, 105, 97)\"}}, {\"type\": \"scatter3d\", \"x\": [0, 0.9820131716882766], \"y\": [0, -0.13019811937260406], \"z\": [0, 0.13674275243159537], \"opacity\": 0.3, \"mode\": \"lines\", \"showlegend\": false, \"line\": {\"color\": \"rgb(255, 105, 97)\"}}, {\"type\": \"scatter3d\", \"x\": [0, 0.983447359141926], \"y\": [0, -0.12931224566387936], \"z\": [0, 0.12692373662217846], \"opacity\": 0.3, \"mode\": \"lines\", \"showlegend\": false, \"line\": {\"color\": \"rgb(255, 105, 97)\"}}, {\"type\": \"scatter3d\", \"x\": [0, 0.9848620074470319], \"y\": [0, -0.12758162288775676], \"z\": [0, 0.11734460272517272], \"opacity\": 0.3, \"mode\": \"lines\", \"showlegend\": false, \"line\": {\"color\": \"rgb(255, 105, 97)\"}}, {\"type\": \"scatter3d\", \"x\": [0, 0.9862644229563172], \"y\": [0, -0.12500285694502616], \"z\": [0, 0.10796654003080759], \"opacity\": 0.3, \"mode\": \"lines\", \"showlegend\": false, \"line\": {\"color\": \"rgb(255, 105, 97)\"}}, {\"type\": \"scatter3d\", \"x\": [0, 0.9876657594483422], \"y\": [0, -0.12152587803687126], \"z\": [0, 0.09873099098407195], \"opacity\": 0.3, \"mode\": \"lines\", \"showlegend\": false, \"line\": {\"color\": \"rgb(255, 105, 97)\"}}, {\"type\": \"scatter3d\", \"x\": [0, 0.989084875843333], \"y\": [0, -0.1170204911262034], \"z\": [0, 0.08953944959938372], \"opacity\": 0.3, \"mode\": \"lines\", \"showlegend\": false, \"line\": {\"color\": \"rgb(255, 105, 97)\"}}, {\"type\": \"scatter3d\", \"x\": [0, 0.9905590511111292], \"y\": [0, -0.11118100679835928], \"z\": [0, 0.08019694501115733], \"opacity\": 0.3, \"mode\": \"lines\", \"showlegend\": false, \"line\": {\"color\": \"rgb(255, 105, 97)\"}}, {\"type\": \"scatter3d\", \"x\": [0, 0.9921867605764334], \"y\": [0, -0.1031481623024], \"z\": [0, 0.07018467603744338], \"opacity\": 0.3, \"mode\": \"lines\", \"showlegend\": false, \"line\": {\"color\": \"rgb(255, 105, 97)\"}}, {\"type\": \"scatter3d\", \"x\": [0, 0.9950547536867305], \"y\": [0, -0.08358156890455774], \"z\": [0, 0.053667108221823], \"opacity\": 0.3, \"mode\": \"lines\", \"showlegend\": false, \"line\": {\"color\": \"rgb(255, 105, 97)\"}}, {\"type\": \"scatter3d\", \"x\": [0, 0.9950547536867305], \"y\": [0, -0.08358156890455774], \"z\": [0, 0.053667108221823], \"opacity\": 0.3, \"mode\": \"lines\", \"showlegend\": false, \"line\": {\"color\": \"rgb(255, 105, 97)\"}}, {\"type\": \"scatter3d\", \"x\": [0, 0.996871650364834], \"y\": [0, -0.06534518955671943], \"z\": [0, 0.04446255616458008], \"opacity\": 0.3, \"mode\": \"lines\", \"showlegend\": false, \"line\": {\"color\": \"rgb(255, 105, 97)\"}}, {\"type\": \"scatter3d\", \"x\": [0, 0.9974124223998145], \"y\": [0, -0.05830634407184348], \"z\": [0, 0.04205745930878056], \"opacity\": 0.3, \"mode\": \"lines\", \"showlegend\": false, \"line\": {\"color\": \"rgb(255, 105, 97)\"}}, {\"type\": \"scatter3d\", \"x\": [0, 0.9977631603489642], \"y\": [0, -0.05308970905235481], \"z\": [0, 0.04062214473884421], \"opacity\": 0.3, \"mode\": \"lines\", \"showlegend\": false, \"line\": {\"color\": \"rgb(255, 105, 97)\"}}, {\"type\": \"scatter3d\", \"x\": [0, 0.998021676294657], \"y\": [0, -0.048796610656766236], \"z\": [0, 0.039643718725856425], \"opacity\": 0.3, \"mode\": \"lines\", \"showlegend\": false, \"line\": {\"color\": \"rgb(255, 105, 97)\"}}, {\"type\": \"scatter3d\", \"x\": [0, 0.9982245817941475], \"y\": [0, -0.04507652574218313], \"z\": [0, 0.0389331623287094], \"opacity\": 0.3, \"mode\": \"lines\", \"showlegend\": false, \"line\": {\"color\": \"rgb(255, 105, 97)\"}}, {\"type\": \"scatter3d\", \"x\": [0, 0.9983900643750867], \"y\": [0, -0.04174776261946511], \"z\": [0, 0.03839796444316954], \"opacity\": 0.3, \"mode\": \"lines\", \"showlegend\": false, \"line\": {\"color\": \"rgb(255, 105, 97)\"}}, {\"type\": \"scatter3d\", \"x\": [0, 0.9985286026422578], \"y\": [0, -0.038700434262177556], \"z\": [0, 0.03798560376272717], \"opacity\": 0.3, \"mode\": \"lines\", \"showlegend\": false, \"line\": {\"color\": \"rgb(255, 105, 97)\"}}, {\"type\": \"scatter3d\", \"x\": [0, 0.9986468242008412], \"y\": [0, -0.035860743401103526], \"z\": [0, 0.037663345527108205], \"opacity\": 0.3, \"mode\": \"lines\", \"showlegend\": false, \"line\": {\"color\": \"rgb(255, 105, 97)\"}}, {\"type\": \"scatter3d\", \"x\": [0, 0.9987492011074239], \"y\": [0, -0.03317481287655101], \"z\": [0, 0.037409424987404], \"opacity\": 0.3, \"mode\": \"lines\", \"showlegend\": false, \"line\": {\"color\": \"rgb(255, 105, 97)\"}}, {\"type\": \"scatter3d\", \"x\": [0, 0.998838898364858], \"y\": [0, -0.030600168285484897], \"z\": [0, 0.03720866584784996], \"opacity\": 0.3, \"mode\": \"lines\", \"showlegend\": false, \"line\": {\"color\": \"rgb(255, 105, 97)\"}}, {\"type\": \"scatter3d\", \"x\": [0, 0.9989182397098687], \"y\": [0, -0.02810055300121383], \"z\": [0, 0.03705009171329105], \"opacity\": 0.3, \"mode\": \"lines\", \"showlegend\": false, \"line\": {\"color\": \"rgb(255, 105, 97)\"}}, {\"type\": \"scatter3d\", \"x\": [0, 0.9989889817471538], \"y\": [0, -0.02564214443141413], \"z\": [0, 0.036925530148438857], \"opacity\": 0.3, \"mode\": \"lines\", \"showlegend\": false, \"line\": {\"color\": \"rgb(255, 105, 97)\"}}, {\"type\": \"scatter3d\", \"x\": [0, 0.9990524843208939], \"y\": [0, -0.023190012005096326], \"z\": [0, 0.03682875120681685], \"opacity\": 0.3, \"mode\": \"lines\", \"showlegend\": false, \"line\": {\"color\": \"rgb(255, 105, 97)\"}}, {\"type\": \"scatter3d\", \"x\": [0, 0.9991098211483397], \"y\": [0, -0.020703664665205207], \"z\": [0, 0.03675491197599965], \"opacity\": 0.3, \"mode\": \"lines\", \"showlegend\": false, \"line\": {\"color\": \"rgb(255, 105, 97)\"}}, {\"type\": \"scatter3d\", \"x\": [0, 0.9991618543059954], \"y\": [0, -0.01812968010560764], \"z\": [0, 0.036700185273008945], \"opacity\": 0.3, \"mode\": \"lines\", \"showlegend\": false, \"line\": {\"color\": \"rgb(255, 105, 97)\"}}, {\"type\": \"scatter3d\", \"x\": [0, 0.9992092859228291], \"y\": [0, -0.015386262176041892], \"z\": [0, 0.036661503813130165], \"opacity\": 0.3, \"mode\": \"lines\", \"showlegend\": false, \"line\": {\"color\": \"rgb(255, 105, 97)\"}}, {\"type\": \"scatter3d\", \"x\": [0, 0.9992526949935175], \"y\": [0, -0.012321820354587672], \"z\": [0, 0.03663637934268916], \"opacity\": 0.3, \"mode\": \"lines\", \"showlegend\": false, \"line\": {\"color\": \"rgb(255, 105, 97)\"}}, {\"type\": \"scatter3d\", \"x\": [0, 0.9992925641850561], \"y\": [0, -0.008552411516454023], \"z\": [0, 0.03662277190094678], \"opacity\": 0.3, \"mode\": \"lines\", \"showlegend\": false, \"line\": {\"color\": \"rgb(255, 105, 97)\"}}, {\"type\": \"scatter3d\", \"x\": [0, 0.999329299739067], \"y\": [0, 0.0], \"z\": [0, 0.036618993473686544], \"opacity\": 0.3, \"mode\": \"lines\", \"showlegend\": false, \"line\": {\"color\": \"rgb(255, 105, 97)\"}}], {\"margin\": {\"l\": 0, \"r\": 0, \"b\": 0, \"t\": 0}, \"scene\": {\"xaxis\": {\"title\": \"Z\"}, \"yaxis\": {\"title\": \"Y\"}, \"zaxis\": {\"title\": \"X\"}}}, {\"showLink\": true, \"linkText\": \"Export to plot.ly\"})});</script>"
      ],
      "text/vnd.plotly.v1+html": [
       "<div id=\"1d7539bb-1666-40e5-b948-6c92a29e7e92\" style=\"height: 525px; width: 100%;\" class=\"plotly-graph-div\"></div><script type=\"text/javascript\">require([\"plotly\"], function(Plotly) { window.PLOTLYENV=window.PLOTLYENV || {};window.PLOTLYENV.BASE_URL=\"https://plot.ly\";Plotly.newPlot(\"1d7539bb-1666-40e5-b948-6c92a29e7e92\", [{\"type\": \"scatter3d\", \"x\": [-1.0, 1.0], \"y\": [0, 0], \"z\": [0, 0], \"mode\": \"lines\", \"showlegend\": false, \"line\": {\"color\": \"rgb(0,33,71)\", \"width\": 5}}, {\"type\": \"surface\", \"x\": [[-1.0, -1.0, -1.0, -1.0, -1.0, -1.0, -1.0, -1.0, -1.0, -1.0], [1.0, 1.0, 1.0, 1.0, 1.0, 1.0, 1.0, 1.0, 1.0, 1.0]], \"y\": [[0.0, 0.342020143325669, 0.6427876096865394, 0.8660254037844386, 0.984807753012208, 0.984807753012208, 0.8660254037844388, 0.6427876096865395, 0.342020143325669, 0.0], [0.0, 0.342020143325669, 0.6427876096865394, 0.8660254037844386, 0.984807753012208, 0.984807753012208, 0.8660254037844388, 0.6427876096865395, 0.342020143325669, 0.0]], \"z\": [[-1.0, -0.9396926207859083, -0.766044443118978, -0.5, -0.17364817766693036, 0.17364817766693036, 0.49999999999999983, 0.7660444431189779, 0.9396926207859083, 1.0], [-1.0, -0.9396926207859083, -0.766044443118978, -0.5, -0.17364817766693036, 0.17364817766693036, 0.49999999999999983, 0.7660444431189779, 0.9396926207859083, 1.0]], \"surfacecolor\": [1, 1], \"showscale\": false, \"opacity\": 0.4}, {\"type\": \"surface\", \"x\": [[-1.0, -1.0, -1.0, -1.0, -1.0, -1.0, -1.0, -1.0, -1.0, -1.0], [1.0, 1.0, 1.0, 1.0, 1.0, 1.0, 1.0, 1.0, 1.0, 1.0]], \"y\": [[-0.0, -0.342020143325669, -0.6427876096865394, -0.8660254037844386, -0.984807753012208, -0.984807753012208, -0.8660254037844388, -0.6427876096865395, -0.342020143325669, -0.0], [-0.0, -0.342020143325669, -0.6427876096865394, -0.8660254037844386, -0.984807753012208, -0.984807753012208, -0.8660254037844388, -0.6427876096865395, -0.342020143325669, -0.0]], \"z\": [[-1.0, -0.9396926207859083, -0.766044443118978, -0.5, -0.17364817766693036, 0.17364817766693036, 0.49999999999999983, 0.7660444431189779, 0.9396926207859083, 1.0], [-1.0, -0.9396926207859083, -0.766044443118978, -0.5, -0.17364817766693036, 0.17364817766693036, 0.49999999999999983, 0.7660444431189779, 0.9396926207859083, 1.0]], \"surfacecolor\": [1, 1], \"showscale\": false, \"opacity\": 0.4}, {\"type\": \"scatter3d\", \"x\": [0.0, 0.9950547536867305], \"y\": [0.0, 0.0], \"z\": [0.0, 0.09932792741943323], \"mode\": \"lines\", \"showlegend\": false, \"line\": {\"color\": \"rgb(255, 105, 97)\", \"width\": 7}}, {\"type\": \"scatter3d\", \"x\": [0.999329299739067, 0.9992925641850561, 0.9992526949935175, 0.9992092859228291, 0.9991618543059954, 0.9991098211483397, 0.9990524843208939, 0.9989889817471538, 0.9989182397098687, 0.998838898364858, 0.9987492011074239, 0.9986468242008412, 0.9985286026422578, 0.9983900643750867, 0.9982245817941475, 0.998021676294657, 0.9977631603489642, 0.9974124223998145, 0.996871650364834, 0.9950547536867305, 0.9950547536867305, 0.9921867605764334, 0.9905590511111292, 0.989084875843333, 0.9876657594483422, 0.9862644229563172, 0.9848620074470319, 0.983447359141926, 0.9820131716882766, 0.9805542909244023, 0.9790668666099106, 0.9775478868722012, 0.9759949043155917, 0.974405865902242, 0.9727790025803045, 0.9711127550688635, 0.9694057224453089, 0.9676566256221996, 0.9658642808403455, 0.9640275800758169, 0.9640275800758169, 0.9658642808403455, 0.9676566256221996, 0.9694057224453089, 0.9711127550688635, 0.9727790025803045, 0.974405865902242, 0.9759949043155917, 0.9775478868722012, 0.9790668666099106, 0.9805542909244023, 0.9820131716882766, 0.983447359141926, 0.9848620074470319, 0.9862644229563172, 0.9876657594483422, 0.989084875843333, 0.9905590511111292, 0.9921867605764334, 0.9950547536867305, 0.9950547536867305, 0.996871650364834, 0.9974124223998145, 0.9977631603489642, 0.998021676294657, 0.9982245817941475, 0.9983900643750867, 0.9985286026422578, 0.9986468242008412, 0.9987492011074239, 0.998838898364858, 0.9989182397098687, 0.9989889817471538, 0.9990524843208939, 0.9991098211483397, 0.9991618543059954, 0.9992092859228291, 0.9992526949935175, 0.9992925641850561, 0.999329299739067], \"y\": [0.0, 0.008552411516454023, 0.012321820354587672, 0.015386262176041892, 0.01812968010560764, 0.020703664665205207, 0.023190012005096326, 0.02564214443141413, 0.02810055300121383, 0.030600168285484897, 0.03317481287655101, 0.035860743401103526, 0.038700434262177556, 0.04174776261946511, 0.04507652574218313, 0.048796610656766236, 0.05308970905235481, 0.05830634407184348, 0.06534518955671943, 0.08358156890455774, 0.08358156890455774, 0.1031481623024, 0.11118100679835928, 0.1170204911262034, 0.12152587803687126, 0.12500285694502616, 0.12758162288775676, 0.12931224566387936, 0.13019811937260406, 0.13020895521997425, 0.1292847067681623, 0.1273338730515883, 0.12422650718503182, 0.11977994503233448, 0.11373169138103574, 0.10568544972937964, 0.09499089110753871, 0.08041913580766888, 0.058909886659820575, 0.0, 0.0, -0.058909886659820575, -0.08041913580766888, -0.09499089110753871, -0.10568544972937964, -0.11373169138103574, -0.11977994503233448, -0.12422650718503182, -0.1273338730515883, -0.1292847067681623, -0.13020895521997425, -0.13019811937260406, -0.12931224566387936, -0.12758162288775676, -0.12500285694502616, -0.12152587803687126, -0.1170204911262034, -0.11118100679835928, -0.1031481623024, -0.08358156890455774, -0.08358156890455774, -0.06534518955671943, -0.05830634407184348, -0.05308970905235481, -0.048796610656766236, -0.04507652574218313, -0.04174776261946511, -0.038700434262177556, -0.035860743401103526, -0.03317481287655101, -0.030600168285484897, -0.02810055300121383, -0.02564214443141413, -0.023190012005096326, -0.020703664665205207, -0.01812968010560764, -0.015386262176041892, -0.012321820354587672, -0.008552411516454023, 0.0], \"z\": [0.036618993473686544, 0.03662277190094678, 0.03663637934268916, 0.036661503813130165, 0.036700185273008945, 0.03675491197599965, 0.03682875120681685, 0.036925530148438857, 0.03705009171329105, 0.03720866584784996, 0.037409424987404, 0.037663345527108205, 0.03798560376272717, 0.03839796444316954, 0.0389331623287094, 0.039643718725856425, 0.04062214473884421, 0.04205745930878056, 0.04446255616458008, 0.053667108221823, 0.053667108221823, 0.07018467603744338, 0.08019694501115733, 0.08953944959938372, 0.09873099098407195, 0.10796654003080759, 0.11734460272517272, 0.12692373662217846, 0.13674275243159537, 0.14682952880897412, 0.15720539209111706, 0.16788750294580038, 0.17889025032853598, 0.19022611088741956, 0.2019062022684714, 0.21394065218667616, 0.2263388519386023, 0.23910963486527684, 0.2522614045994538, 0.26580222883407967, 0.26580222883407967, 0.2522614045994538, 0.23910963486527684, 0.2263388519386023, 0.21394065218667616, 0.2019062022684714, 0.19022611088741956, 0.17889025032853598, 0.16788750294580038, 0.15720539209111706, 0.14682952880897412, 0.13674275243159537, 0.12692373662217846, 0.11734460272517272, 0.10796654003080759, 0.09873099098407195, 0.08953944959938372, 0.08019694501115733, 0.07018467603744338, 0.053667108221823, 0.053667108221823, 0.04446255616458008, 0.04205745930878056, 0.04062214473884421, 0.039643718725856425, 0.0389331623287094, 0.03839796444316954, 0.03798560376272717, 0.037663345527108205, 0.037409424987404, 0.03720866584784996, 0.03705009171329105, 0.036925530148438857, 0.03682875120681685, 0.03675491197599965, 0.036700185273008945, 0.036661503813130165, 0.03663637934268916, 0.03662277190094678, 0.036618993473686544], \"mode\": \"lines\", \"showlegend\": false, \"line\": {\"color\": \"rgb(255, 105, 97)\", \"width\": 5}}, {\"type\": \"scatter3d\", \"x\": [0, 0.999329299739067], \"y\": [0, 0.0], \"z\": [0, 0.036618993473686544], \"opacity\": 0.3, \"mode\": \"lines\", \"showlegend\": false, \"line\": {\"color\": \"rgb(255, 105, 97)\"}}, {\"type\": \"scatter3d\", \"x\": [0, 0.9992925641850561], \"y\": [0, 0.008552411516454023], \"z\": [0, 0.03662277190094678], \"opacity\": 0.3, \"mode\": \"lines\", \"showlegend\": false, \"line\": {\"color\": \"rgb(255, 105, 97)\"}}, {\"type\": \"scatter3d\", \"x\": [0, 0.9992526949935175], \"y\": [0, 0.012321820354587672], \"z\": [0, 0.03663637934268916], \"opacity\": 0.3, \"mode\": \"lines\", \"showlegend\": false, \"line\": {\"color\": \"rgb(255, 105, 97)\"}}, {\"type\": \"scatter3d\", \"x\": [0, 0.9992092859228291], \"y\": [0, 0.015386262176041892], \"z\": [0, 0.036661503813130165], \"opacity\": 0.3, \"mode\": \"lines\", \"showlegend\": false, \"line\": {\"color\": \"rgb(255, 105, 97)\"}}, {\"type\": \"scatter3d\", \"x\": [0, 0.9991618543059954], \"y\": [0, 0.01812968010560764], \"z\": [0, 0.036700185273008945], \"opacity\": 0.3, \"mode\": \"lines\", \"showlegend\": false, \"line\": {\"color\": \"rgb(255, 105, 97)\"}}, {\"type\": \"scatter3d\", \"x\": [0, 0.9991098211483397], \"y\": [0, 0.020703664665205207], \"z\": [0, 0.03675491197599965], \"opacity\": 0.3, \"mode\": \"lines\", \"showlegend\": false, \"line\": {\"color\": \"rgb(255, 105, 97)\"}}, {\"type\": \"scatter3d\", \"x\": [0, 0.9990524843208939], \"y\": [0, 0.023190012005096326], \"z\": [0, 0.03682875120681685], \"opacity\": 0.3, \"mode\": \"lines\", \"showlegend\": false, \"line\": {\"color\": \"rgb(255, 105, 97)\"}}, {\"type\": \"scatter3d\", \"x\": [0, 0.9989889817471538], \"y\": [0, 0.02564214443141413], \"z\": [0, 0.036925530148438857], \"opacity\": 0.3, \"mode\": \"lines\", \"showlegend\": false, \"line\": {\"color\": \"rgb(255, 105, 97)\"}}, {\"type\": \"scatter3d\", \"x\": [0, 0.9989182397098687], \"y\": [0, 0.02810055300121383], \"z\": [0, 0.03705009171329105], \"opacity\": 0.3, \"mode\": \"lines\", \"showlegend\": false, \"line\": {\"color\": \"rgb(255, 105, 97)\"}}, {\"type\": \"scatter3d\", \"x\": [0, 0.998838898364858], \"y\": [0, 0.030600168285484897], \"z\": [0, 0.03720866584784996], \"opacity\": 0.3, \"mode\": \"lines\", \"showlegend\": false, \"line\": {\"color\": \"rgb(255, 105, 97)\"}}, {\"type\": \"scatter3d\", \"x\": [0, 0.9987492011074239], \"y\": [0, 0.03317481287655101], \"z\": [0, 0.037409424987404], \"opacity\": 0.3, \"mode\": \"lines\", \"showlegend\": false, \"line\": {\"color\": \"rgb(255, 105, 97)\"}}, {\"type\": \"scatter3d\", \"x\": [0, 0.9986468242008412], \"y\": [0, 0.035860743401103526], \"z\": [0, 0.037663345527108205], \"opacity\": 0.3, \"mode\": \"lines\", \"showlegend\": false, \"line\": {\"color\": \"rgb(255, 105, 97)\"}}, {\"type\": \"scatter3d\", \"x\": [0, 0.9985286026422578], \"y\": [0, 0.038700434262177556], \"z\": [0, 0.03798560376272717], \"opacity\": 0.3, \"mode\": \"lines\", \"showlegend\": false, \"line\": {\"color\": \"rgb(255, 105, 97)\"}}, {\"type\": \"scatter3d\", \"x\": [0, 0.9983900643750867], \"y\": [0, 0.04174776261946511], \"z\": [0, 0.03839796444316954], \"opacity\": 0.3, \"mode\": \"lines\", \"showlegend\": false, \"line\": {\"color\": \"rgb(255, 105, 97)\"}}, {\"type\": \"scatter3d\", \"x\": [0, 0.9982245817941475], \"y\": [0, 0.04507652574218313], \"z\": [0, 0.0389331623287094], \"opacity\": 0.3, \"mode\": \"lines\", \"showlegend\": false, \"line\": {\"color\": \"rgb(255, 105, 97)\"}}, {\"type\": \"scatter3d\", \"x\": [0, 0.998021676294657], \"y\": [0, 0.048796610656766236], \"z\": [0, 0.039643718725856425], \"opacity\": 0.3, \"mode\": \"lines\", \"showlegend\": false, \"line\": {\"color\": \"rgb(255, 105, 97)\"}}, {\"type\": \"scatter3d\", \"x\": [0, 0.9977631603489642], \"y\": [0, 0.05308970905235481], \"z\": [0, 0.04062214473884421], \"opacity\": 0.3, \"mode\": \"lines\", \"showlegend\": false, \"line\": {\"color\": \"rgb(255, 105, 97)\"}}, {\"type\": \"scatter3d\", \"x\": [0, 0.9974124223998145], \"y\": [0, 0.05830634407184348], \"z\": [0, 0.04205745930878056], \"opacity\": 0.3, \"mode\": \"lines\", \"showlegend\": false, \"line\": {\"color\": \"rgb(255, 105, 97)\"}}, {\"type\": \"scatter3d\", \"x\": [0, 0.996871650364834], \"y\": [0, 0.06534518955671943], \"z\": [0, 0.04446255616458008], \"opacity\": 0.3, \"mode\": \"lines\", \"showlegend\": false, \"line\": {\"color\": \"rgb(255, 105, 97)\"}}, {\"type\": \"scatter3d\", \"x\": [0, 0.9950547536867305], \"y\": [0, 0.08358156890455774], \"z\": [0, 0.053667108221823], \"opacity\": 0.3, \"mode\": \"lines\", \"showlegend\": false, \"line\": {\"color\": \"rgb(255, 105, 97)\"}}, {\"type\": \"scatter3d\", \"x\": [0, 0.9950547536867305], \"y\": [0, 0.08358156890455774], \"z\": [0, 0.053667108221823], \"opacity\": 0.3, \"mode\": \"lines\", \"showlegend\": false, \"line\": {\"color\": \"rgb(255, 105, 97)\"}}, {\"type\": \"scatter3d\", \"x\": [0, 0.9921867605764334], \"y\": [0, 0.1031481623024], \"z\": [0, 0.07018467603744338], \"opacity\": 0.3, \"mode\": \"lines\", \"showlegend\": false, \"line\": {\"color\": \"rgb(255, 105, 97)\"}}, {\"type\": \"scatter3d\", \"x\": [0, 0.9905590511111292], \"y\": [0, 0.11118100679835928], \"z\": [0, 0.08019694501115733], \"opacity\": 0.3, \"mode\": \"lines\", \"showlegend\": false, \"line\": {\"color\": \"rgb(255, 105, 97)\"}}, {\"type\": \"scatter3d\", \"x\": [0, 0.989084875843333], \"y\": [0, 0.1170204911262034], \"z\": [0, 0.08953944959938372], \"opacity\": 0.3, \"mode\": \"lines\", \"showlegend\": false, \"line\": {\"color\": \"rgb(255, 105, 97)\"}}, {\"type\": \"scatter3d\", \"x\": [0, 0.9876657594483422], \"y\": [0, 0.12152587803687126], \"z\": [0, 0.09873099098407195], \"opacity\": 0.3, \"mode\": \"lines\", \"showlegend\": false, \"line\": {\"color\": \"rgb(255, 105, 97)\"}}, {\"type\": \"scatter3d\", \"x\": [0, 0.9862644229563172], \"y\": [0, 0.12500285694502616], \"z\": [0, 0.10796654003080759], \"opacity\": 0.3, \"mode\": \"lines\", \"showlegend\": false, \"line\": {\"color\": \"rgb(255, 105, 97)\"}}, {\"type\": \"scatter3d\", \"x\": [0, 0.9848620074470319], \"y\": [0, 0.12758162288775676], \"z\": [0, 0.11734460272517272], \"opacity\": 0.3, \"mode\": \"lines\", \"showlegend\": false, \"line\": {\"color\": \"rgb(255, 105, 97)\"}}, {\"type\": \"scatter3d\", \"x\": [0, 0.983447359141926], \"y\": [0, 0.12931224566387936], \"z\": [0, 0.12692373662217846], \"opacity\": 0.3, \"mode\": \"lines\", \"showlegend\": false, \"line\": {\"color\": \"rgb(255, 105, 97)\"}}, {\"type\": \"scatter3d\", \"x\": [0, 0.9820131716882766], \"y\": [0, 0.13019811937260406], \"z\": [0, 0.13674275243159537], \"opacity\": 0.3, \"mode\": \"lines\", \"showlegend\": false, \"line\": {\"color\": \"rgb(255, 105, 97)\"}}, {\"type\": \"scatter3d\", \"x\": [0, 0.9805542909244023], \"y\": [0, 0.13020895521997425], \"z\": [0, 0.14682952880897412], \"opacity\": 0.3, \"mode\": \"lines\", \"showlegend\": false, \"line\": {\"color\": \"rgb(255, 105, 97)\"}}, {\"type\": \"scatter3d\", \"x\": [0, 0.9790668666099106], \"y\": [0, 0.1292847067681623], \"z\": [0, 0.15720539209111706], \"opacity\": 0.3, \"mode\": \"lines\", \"showlegend\": false, \"line\": {\"color\": \"rgb(255, 105, 97)\"}}, {\"type\": \"scatter3d\", \"x\": [0, 0.9775478868722012], \"y\": [0, 0.1273338730515883], \"z\": [0, 0.16788750294580038], \"opacity\": 0.3, \"mode\": \"lines\", \"showlegend\": false, \"line\": {\"color\": \"rgb(255, 105, 97)\"}}, {\"type\": \"scatter3d\", \"x\": [0, 0.9759949043155917], \"y\": [0, 0.12422650718503182], \"z\": [0, 0.17889025032853598], \"opacity\": 0.3, \"mode\": \"lines\", \"showlegend\": false, \"line\": {\"color\": \"rgb(255, 105, 97)\"}}, {\"type\": \"scatter3d\", \"x\": [0, 0.974405865902242], \"y\": [0, 0.11977994503233448], \"z\": [0, 0.19022611088741956], \"opacity\": 0.3, \"mode\": \"lines\", \"showlegend\": false, \"line\": {\"color\": \"rgb(255, 105, 97)\"}}, {\"type\": \"scatter3d\", \"x\": [0, 0.9727790025803045], \"y\": [0, 0.11373169138103574], \"z\": [0, 0.2019062022684714], \"opacity\": 0.3, \"mode\": \"lines\", \"showlegend\": false, \"line\": {\"color\": \"rgb(255, 105, 97)\"}}, {\"type\": \"scatter3d\", \"x\": [0, 0.9711127550688635], \"y\": [0, 0.10568544972937964], \"z\": [0, 0.21394065218667616], \"opacity\": 0.3, \"mode\": \"lines\", \"showlegend\": false, \"line\": {\"color\": \"rgb(255, 105, 97)\"}}, {\"type\": \"scatter3d\", \"x\": [0, 0.9694057224453089], \"y\": [0, 0.09499089110753871], \"z\": [0, 0.2263388519386023], \"opacity\": 0.3, \"mode\": \"lines\", \"showlegend\": false, \"line\": {\"color\": \"rgb(255, 105, 97)\"}}, {\"type\": \"scatter3d\", \"x\": [0, 0.9676566256221996], \"y\": [0, 0.08041913580766888], \"z\": [0, 0.23910963486527684], \"opacity\": 0.3, \"mode\": \"lines\", \"showlegend\": false, \"line\": {\"color\": \"rgb(255, 105, 97)\"}}, {\"type\": \"scatter3d\", \"x\": [0, 0.9658642808403455], \"y\": [0, 0.058909886659820575], \"z\": [0, 0.2522614045994538], \"opacity\": 0.3, \"mode\": \"lines\", \"showlegend\": false, \"line\": {\"color\": \"rgb(255, 105, 97)\"}}, {\"type\": \"scatter3d\", \"x\": [0, 0.9640275800758169], \"y\": [0, 0.0], \"z\": [0, 0.26580222883407967], \"opacity\": 0.3, \"mode\": \"lines\", \"showlegend\": false, \"line\": {\"color\": \"rgb(255, 105, 97)\"}}, {\"type\": \"scatter3d\", \"x\": [0, 0.9640275800758169], \"y\": [0, 0.0], \"z\": [0, 0.26580222883407967], \"opacity\": 0.3, \"mode\": \"lines\", \"showlegend\": false, \"line\": {\"color\": \"rgb(255, 105, 97)\"}}, {\"type\": \"scatter3d\", \"x\": [0, 0.9658642808403455], \"y\": [0, -0.058909886659820575], \"z\": [0, 0.2522614045994538], \"opacity\": 0.3, \"mode\": \"lines\", \"showlegend\": false, \"line\": {\"color\": \"rgb(255, 105, 97)\"}}, {\"type\": \"scatter3d\", \"x\": [0, 0.9676566256221996], \"y\": [0, -0.08041913580766888], \"z\": [0, 0.23910963486527684], \"opacity\": 0.3, \"mode\": \"lines\", \"showlegend\": false, \"line\": {\"color\": \"rgb(255, 105, 97)\"}}, {\"type\": \"scatter3d\", \"x\": [0, 0.9694057224453089], \"y\": [0, -0.09499089110753871], \"z\": [0, 0.2263388519386023], \"opacity\": 0.3, \"mode\": \"lines\", \"showlegend\": false, \"line\": {\"color\": \"rgb(255, 105, 97)\"}}, {\"type\": \"scatter3d\", \"x\": [0, 0.9711127550688635], \"y\": [0, -0.10568544972937964], \"z\": [0, 0.21394065218667616], \"opacity\": 0.3, \"mode\": \"lines\", \"showlegend\": false, \"line\": {\"color\": \"rgb(255, 105, 97)\"}}, {\"type\": \"scatter3d\", \"x\": [0, 0.9727790025803045], \"y\": [0, -0.11373169138103574], \"z\": [0, 0.2019062022684714], \"opacity\": 0.3, \"mode\": \"lines\", \"showlegend\": false, \"line\": {\"color\": \"rgb(255, 105, 97)\"}}, {\"type\": \"scatter3d\", \"x\": [0, 0.974405865902242], \"y\": [0, -0.11977994503233448], \"z\": [0, 0.19022611088741956], \"opacity\": 0.3, \"mode\": \"lines\", \"showlegend\": false, \"line\": {\"color\": \"rgb(255, 105, 97)\"}}, {\"type\": \"scatter3d\", \"x\": [0, 0.9759949043155917], \"y\": [0, -0.12422650718503182], \"z\": [0, 0.17889025032853598], \"opacity\": 0.3, \"mode\": \"lines\", \"showlegend\": false, \"line\": {\"color\": \"rgb(255, 105, 97)\"}}, {\"type\": \"scatter3d\", \"x\": [0, 0.9775478868722012], \"y\": [0, -0.1273338730515883], \"z\": [0, 0.16788750294580038], \"opacity\": 0.3, \"mode\": \"lines\", \"showlegend\": false, \"line\": {\"color\": \"rgb(255, 105, 97)\"}}, {\"type\": \"scatter3d\", \"x\": [0, 0.9790668666099106], \"y\": [0, -0.1292847067681623], \"z\": [0, 0.15720539209111706], \"opacity\": 0.3, \"mode\": \"lines\", \"showlegend\": false, \"line\": {\"color\": \"rgb(255, 105, 97)\"}}, {\"type\": \"scatter3d\", \"x\": [0, 0.9805542909244023], \"y\": [0, -0.13020895521997425], \"z\": [0, 0.14682952880897412], \"opacity\": 0.3, \"mode\": \"lines\", \"showlegend\": false, \"line\": {\"color\": \"rgb(255, 105, 97)\"}}, {\"type\": \"scatter3d\", \"x\": [0, 0.9820131716882766], \"y\": [0, -0.13019811937260406], \"z\": [0, 0.13674275243159537], \"opacity\": 0.3, \"mode\": \"lines\", \"showlegend\": false, \"line\": {\"color\": \"rgb(255, 105, 97)\"}}, {\"type\": \"scatter3d\", \"x\": [0, 0.983447359141926], \"y\": [0, -0.12931224566387936], \"z\": [0, 0.12692373662217846], \"opacity\": 0.3, \"mode\": \"lines\", \"showlegend\": false, \"line\": {\"color\": \"rgb(255, 105, 97)\"}}, {\"type\": \"scatter3d\", \"x\": [0, 0.9848620074470319], \"y\": [0, -0.12758162288775676], \"z\": [0, 0.11734460272517272], \"opacity\": 0.3, \"mode\": \"lines\", \"showlegend\": false, \"line\": {\"color\": \"rgb(255, 105, 97)\"}}, {\"type\": \"scatter3d\", \"x\": [0, 0.9862644229563172], \"y\": [0, -0.12500285694502616], \"z\": [0, 0.10796654003080759], \"opacity\": 0.3, \"mode\": \"lines\", \"showlegend\": false, \"line\": {\"color\": \"rgb(255, 105, 97)\"}}, {\"type\": \"scatter3d\", \"x\": [0, 0.9876657594483422], \"y\": [0, -0.12152587803687126], \"z\": [0, 0.09873099098407195], \"opacity\": 0.3, \"mode\": \"lines\", \"showlegend\": false, \"line\": {\"color\": \"rgb(255, 105, 97)\"}}, {\"type\": \"scatter3d\", \"x\": [0, 0.989084875843333], \"y\": [0, -0.1170204911262034], \"z\": [0, 0.08953944959938372], \"opacity\": 0.3, \"mode\": \"lines\", \"showlegend\": false, \"line\": {\"color\": \"rgb(255, 105, 97)\"}}, {\"type\": \"scatter3d\", \"x\": [0, 0.9905590511111292], \"y\": [0, -0.11118100679835928], \"z\": [0, 0.08019694501115733], \"opacity\": 0.3, \"mode\": \"lines\", \"showlegend\": false, \"line\": {\"color\": \"rgb(255, 105, 97)\"}}, {\"type\": \"scatter3d\", \"x\": [0, 0.9921867605764334], \"y\": [0, -0.1031481623024], \"z\": [0, 0.07018467603744338], \"opacity\": 0.3, \"mode\": \"lines\", \"showlegend\": false, \"line\": {\"color\": \"rgb(255, 105, 97)\"}}, {\"type\": \"scatter3d\", \"x\": [0, 0.9950547536867305], \"y\": [0, -0.08358156890455774], \"z\": [0, 0.053667108221823], \"opacity\": 0.3, \"mode\": \"lines\", \"showlegend\": false, \"line\": {\"color\": \"rgb(255, 105, 97)\"}}, {\"type\": \"scatter3d\", \"x\": [0, 0.9950547536867305], \"y\": [0, -0.08358156890455774], \"z\": [0, 0.053667108221823], \"opacity\": 0.3, \"mode\": \"lines\", \"showlegend\": false, \"line\": {\"color\": \"rgb(255, 105, 97)\"}}, {\"type\": \"scatter3d\", \"x\": [0, 0.996871650364834], \"y\": [0, -0.06534518955671943], \"z\": [0, 0.04446255616458008], \"opacity\": 0.3, \"mode\": \"lines\", \"showlegend\": false, \"line\": {\"color\": \"rgb(255, 105, 97)\"}}, {\"type\": \"scatter3d\", \"x\": [0, 0.9974124223998145], \"y\": [0, -0.05830634407184348], \"z\": [0, 0.04205745930878056], \"opacity\": 0.3, \"mode\": \"lines\", \"showlegend\": false, \"line\": {\"color\": \"rgb(255, 105, 97)\"}}, {\"type\": \"scatter3d\", \"x\": [0, 0.9977631603489642], \"y\": [0, -0.05308970905235481], \"z\": [0, 0.04062214473884421], \"opacity\": 0.3, \"mode\": \"lines\", \"showlegend\": false, \"line\": {\"color\": \"rgb(255, 105, 97)\"}}, {\"type\": \"scatter3d\", \"x\": [0, 0.998021676294657], \"y\": [0, -0.048796610656766236], \"z\": [0, 0.039643718725856425], \"opacity\": 0.3, \"mode\": \"lines\", \"showlegend\": false, \"line\": {\"color\": \"rgb(255, 105, 97)\"}}, {\"type\": \"scatter3d\", \"x\": [0, 0.9982245817941475], \"y\": [0, -0.04507652574218313], \"z\": [0, 0.0389331623287094], \"opacity\": 0.3, \"mode\": \"lines\", \"showlegend\": false, \"line\": {\"color\": \"rgb(255, 105, 97)\"}}, {\"type\": \"scatter3d\", \"x\": [0, 0.9983900643750867], \"y\": [0, -0.04174776261946511], \"z\": [0, 0.03839796444316954], \"opacity\": 0.3, \"mode\": \"lines\", \"showlegend\": false, \"line\": {\"color\": \"rgb(255, 105, 97)\"}}, {\"type\": \"scatter3d\", \"x\": [0, 0.9985286026422578], \"y\": [0, -0.038700434262177556], \"z\": [0, 0.03798560376272717], \"opacity\": 0.3, \"mode\": \"lines\", \"showlegend\": false, \"line\": {\"color\": \"rgb(255, 105, 97)\"}}, {\"type\": \"scatter3d\", \"x\": [0, 0.9986468242008412], \"y\": [0, -0.035860743401103526], \"z\": [0, 0.037663345527108205], \"opacity\": 0.3, \"mode\": \"lines\", \"showlegend\": false, \"line\": {\"color\": \"rgb(255, 105, 97)\"}}, {\"type\": \"scatter3d\", \"x\": [0, 0.9987492011074239], \"y\": [0, -0.03317481287655101], \"z\": [0, 0.037409424987404], \"opacity\": 0.3, \"mode\": \"lines\", \"showlegend\": false, \"line\": {\"color\": \"rgb(255, 105, 97)\"}}, {\"type\": \"scatter3d\", \"x\": [0, 0.998838898364858], \"y\": [0, -0.030600168285484897], \"z\": [0, 0.03720866584784996], \"opacity\": 0.3, \"mode\": \"lines\", \"showlegend\": false, \"line\": {\"color\": \"rgb(255, 105, 97)\"}}, {\"type\": \"scatter3d\", \"x\": [0, 0.9989182397098687], \"y\": [0, -0.02810055300121383], \"z\": [0, 0.03705009171329105], \"opacity\": 0.3, \"mode\": \"lines\", \"showlegend\": false, \"line\": {\"color\": \"rgb(255, 105, 97)\"}}, {\"type\": \"scatter3d\", \"x\": [0, 0.9989889817471538], \"y\": [0, -0.02564214443141413], \"z\": [0, 0.036925530148438857], \"opacity\": 0.3, \"mode\": \"lines\", \"showlegend\": false, \"line\": {\"color\": \"rgb(255, 105, 97)\"}}, {\"type\": \"scatter3d\", \"x\": [0, 0.9990524843208939], \"y\": [0, -0.023190012005096326], \"z\": [0, 0.03682875120681685], \"opacity\": 0.3, \"mode\": \"lines\", \"showlegend\": false, \"line\": {\"color\": \"rgb(255, 105, 97)\"}}, {\"type\": \"scatter3d\", \"x\": [0, 0.9991098211483397], \"y\": [0, -0.020703664665205207], \"z\": [0, 0.03675491197599965], \"opacity\": 0.3, \"mode\": \"lines\", \"showlegend\": false, \"line\": {\"color\": \"rgb(255, 105, 97)\"}}, {\"type\": \"scatter3d\", \"x\": [0, 0.9991618543059954], \"y\": [0, -0.01812968010560764], \"z\": [0, 0.036700185273008945], \"opacity\": 0.3, \"mode\": \"lines\", \"showlegend\": false, \"line\": {\"color\": \"rgb(255, 105, 97)\"}}, {\"type\": \"scatter3d\", \"x\": [0, 0.9992092859228291], \"y\": [0, -0.015386262176041892], \"z\": [0, 0.036661503813130165], \"opacity\": 0.3, \"mode\": \"lines\", \"showlegend\": false, \"line\": {\"color\": \"rgb(255, 105, 97)\"}}, {\"type\": \"scatter3d\", \"x\": [0, 0.9992526949935175], \"y\": [0, -0.012321820354587672], \"z\": [0, 0.03663637934268916], \"opacity\": 0.3, \"mode\": \"lines\", \"showlegend\": false, \"line\": {\"color\": \"rgb(255, 105, 97)\"}}, {\"type\": \"scatter3d\", \"x\": [0, 0.9992925641850561], \"y\": [0, -0.008552411516454023], \"z\": [0, 0.03662277190094678], \"opacity\": 0.3, \"mode\": \"lines\", \"showlegend\": false, \"line\": {\"color\": \"rgb(255, 105, 97)\"}}, {\"type\": \"scatter3d\", \"x\": [0, 0.999329299739067], \"y\": [0, 0.0], \"z\": [0, 0.036618993473686544], \"opacity\": 0.3, \"mode\": \"lines\", \"showlegend\": false, \"line\": {\"color\": \"rgb(255, 105, 97)\"}}], {\"margin\": {\"l\": 0, \"r\": 0, \"b\": 0, \"t\": 0}, \"scene\": {\"xaxis\": {\"title\": \"Z\"}, \"yaxis\": {\"title\": \"Y\"}, \"zaxis\": {\"title\": \"X\"}}}, {\"showLink\": true, \"linkText\": \"Export to plot.ly\"})});</script>"
      ]
     },
     "metadata": {},
     "output_type": "display_data"
    }
   ],
   "source": [
    "show_jet(0, 1, 1.0)\n",
    "show_jet(0, 3, 1.0)"
   ]
  },
  {
   "cell_type": "markdown",
   "metadata": {},
   "source": [
    "Unfortunately nbviewer does not display widgets, but the lines below should work if you download and run the notebook locally.\n",
    "\n",
    "This should give you the option to change the values of $\\phi$, $\\eta$, and $\\Delta R$ using sliders, as is shown in the preview image."
   ]
  },
  {
   "cell_type": "code",
   "execution_count": 5,
   "metadata": {
    "scrolled": false
   },
   "outputs": [
    {
     "data": {
      "application/vnd.jupyter.widget-view+json": {
       "model_id": "c154418d01af4f81b60827d43a98034a",
       "version_major": 2,
       "version_minor": 0
      },
      "text/html": [
       "<p>Failed to display Jupyter Widget of type <code>interactive</code>.</p>\n",
       "<p>\n",
       "  If you're reading this message in the Jupyter Notebook or JupyterLab Notebook, it may mean\n",
       "  that the widgets JavaScript is still loading. If this message persists, it\n",
       "  likely means that the widgets JavaScript library is either not installed or\n",
       "  not enabled. See the <a href=\"https://ipywidgets.readthedocs.io/en/stable/user_install.html\">Jupyter\n",
       "  Widgets Documentation</a> for setup instructions.\n",
       "</p>\n",
       "<p>\n",
       "  If you're reading this message in another frontend (for example, a static\n",
       "  rendering on GitHub or <a href=\"https://nbviewer.jupyter.org/\">NBViewer</a>),\n",
       "  it may mean that your frontend doesn't currently support widgets.\n",
       "</p>\n"
      ],
      "text/plain": [
       "interactive(children=(FloatSlider(value=0.0, description='phi', max=3.141592653589793, min=-3.141592653589793), FloatSlider(value=2.0, description='eta', max=3.0), FloatSlider(value=0.4, description='dR', max=1.0, min=0.1), Output()), _dom_classes=('widget-interact',))"
      ]
     },
     "metadata": {},
     "output_type": "display_data"
    },
    {
     "data": {
      "text/plain": [
       "<function __main__.show_jet>"
      ]
     },
     "execution_count": 5,
     "metadata": {},
     "output_type": "execute_result"
    }
   ],
   "source": [
    "import ipywidgets as widgets\n",
    "widgets.interact(show_jet, phi=widgets.FloatSlider(value=0, min=-np.pi, max=np.pi, step=0.1, description='phi'),\n",
    "                           eta=widgets.FloatSlider(value=2.0, min=0, max=3, step=0.1, description='eta'),\n",
    "                           dR=widgets.FloatSlider(value=0.4, min=0.1, max=1.0, step=0.1, description='dR'))"
   ]
  }
 ],
 "metadata": {
  "kernelspec": {
   "display_name": "Python 3",
   "language": "python",
   "name": "python3"
  },
  "language_info": {
   "codemirror_mode": {
    "name": "ipython",
    "version": 3
   },
   "file_extension": ".py",
   "mimetype": "text/x-python",
   "name": "python",
   "nbconvert_exporter": "python",
   "pygments_lexer": "ipython3",
   "version": "3.6.2"
  }
 },
 "nbformat": 4,
 "nbformat_minor": 2
}
