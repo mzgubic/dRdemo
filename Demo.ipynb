{
 "cells": [
  {
   "cell_type": "code",
   "execution_count": 1,
   "metadata": {
    "collapsed": true,
    "scrolled": false
   },
   "outputs": [],
   "source": [
    "import ipywidgets as widgets\n",
    "import matplotlib.pyplot as plt\n",
    "from mpl_toolkits.mplot3d import Axes3D\n",
    "import numpy as np\n",
    "\n",
    "%matplotlib notebook"
   ]
  },
  {
   "cell_type": "code",
   "execution_count": 2,
   "metadata": {},
   "outputs": [],
   "source": [
    "def theta_from_eta(eta):\n",
    "    return 2*np.arctan(np.e**(-eta))\n",
    "\n",
    "def plot_all(phi, eta, dR):\n",
    "    \n",
    "    # prepare the plot\n",
    "    fig = plt.figure(figsize=(10,8))\n",
    "    ax = fig.gca(projection='3d')\n",
    "    \n",
    "    # ATLAS beampipe\n",
    "    R = 1.0\n",
    "    zs = np.linspace(-R, R, 100)\n",
    "    b_xs = [0 for z in zs]\n",
    "    b_ys = [0 for z in zs]\n",
    "    ax.plot(zs, b_xs, b_ys, c='k')\n",
    "    \n",
    "    # ATLAS cylinder\n",
    "    xs = np.linspace(-R, R, 100)\n",
    "    X, Z = np.meshgrid(xs, zs)\n",
    "    Y = np.sqrt(R**2 - X**2)\n",
    "    ax.plot_surface(Z, X, Y, alpha=0.2, color='k')\n",
    "    ax.plot_surface(Z, X, -Y, alpha=0.2, color='k')\n",
    "    \n",
    "    # line\n",
    "    theta = theta_from_eta(eta)\n",
    "    ts = np.linspace(0, R, 100)\n",
    "    xs = ts*np.sin(theta)*np.cos(phi)\n",
    "    ys = ts*np.sin(theta)*np.sin(phi)\n",
    "    zs = ts*np.cos(theta)\n",
    "    ax.plot(zs, xs, ys, c='r')\n",
    "    \n",
    "    # cone end circle\n",
    "    T = 1.0\n",
    "    dphis = np.sqrt(np.linspace(0, dR**2, 50))\n",
    "    detas = np.sqrt(dR**2 - dphis**2)\n",
    "    # compute circle coordinates (reverse parts for plotting reasons)\n",
    "    phis = np.concatenate((phi+dphis, phi+dphis[::-1], phi-dphis, phi-dphis[::-1]))\n",
    "    etas = np.concatenate((eta+detas, eta-detas[::-1], eta-detas, eta+detas[::-1]))\n",
    "    # transform to x, y, z\n",
    "    thetas = theta_from_eta(etas)\n",
    "    cxs = T*np.sin(thetas)*np.cos(phis)\n",
    "    cys = T*np.sin(thetas)*np.sin(phis)\n",
    "    czs = T*np.cos(thetas)\n",
    "    ax.plot(czs, cxs, cys, c='r')\n",
    "    # and draw lines from each point to the origin\n",
    "    for x, y, z in zip(cxs, cys, czs):\n",
    "        ax.plot((0,z), (0,x), (0,y), alpha=0.05, c='r')\n",
    "\n",
    "    # finish\n",
    "    ax.set_xlabel(\"Z\")\n",
    "    ax.set_ylabel(\"X\")\n",
    "    ax.set_zlabel(\"Y\")\n",
    "    plt.show()\n"
   ]
  },
  {
   "cell_type": "code",
   "execution_count": 3,
   "metadata": {},
   "outputs": [
    {
     "data": {
      "application/vnd.jupyter.widget-view+json": {
       "model_id": "071dcb62cba34ad08f689c7d15b356c4",
       "version_major": 2,
       "version_minor": 0
      },
      "text/plain": [
       "A Jupyter Widget"
      ]
     },
     "metadata": {},
     "output_type": "display_data"
    },
    {
     "data": {
      "text/plain": [
       "<function __main__.plot_all>"
      ]
     },
     "execution_count": 3,
     "metadata": {},
     "output_type": "execute_result"
    }
   ],
   "source": [
    "widgets.interact(plot_all, phi=widgets.FloatSlider(value=3.14/2.0, min=-np.pi, max=np.pi, step=0.1, description='phi'),\n",
    "                           eta=widgets.FloatSlider(value=3.0, min=-5, max=5, step=0.1, description='eta'),\n",
    "                           dR=widgets.FloatSlider(value=1.0, min=0.1, max=1.0, step=0.1, description='dR'))"
   ]
  }
 ],
 "metadata": {
  "kernelspec": {
   "display_name": "Python 3",
   "language": "python",
   "name": "python3"
  },
  "language_info": {
   "codemirror_mode": {
    "name": "ipython",
    "version": 3
   },
   "file_extension": ".py",
   "mimetype": "text/x-python",
   "name": "python",
   "nbconvert_exporter": "python",
   "pygments_lexer": "ipython3",
   "version": "3.6.2"
  }
 },
 "nbformat": 4,
 "nbformat_minor": 2
}
