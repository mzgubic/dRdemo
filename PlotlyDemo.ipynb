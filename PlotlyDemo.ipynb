{
 "cells": [
  {
   "cell_type": "markdown",
   "metadata": {},
   "source": [
    "# Visualising $\\Delta R$\n",
    "\n",
    "The coordinate system is a modifed spherical coordinate system with the $z$ coordinate chosen along the beampipe, and the azimuthal angle $\\phi$ rotating around the plane perpendicular to the beam. In place of the usual polar angle $\\theta$ however, pseudorapidity $\\eta = -\\ln(\\tan(\\frac{\\theta}{2}))$ is used. See plot below to see how it behaves.\n",
    "\n",
    "<img width=\"200\" alt=\"preview\" src=\"https://upload.wikimedia.org/wikipedia/commons/thumb/e/ed/Pseudorapidity_plot.svg/695px-Pseudorapidity_plot.svg.png\">\n",
    "\n",
    "The angle $\\Delta R$ is defined as $\\Delta R = \\sqrt{\\Delta \\phi^2 + \\Delta \\eta^2}$. It is tricky to grasp intuitively because the angle of this conical shape changes with $\\eta$. This notebook makes it easy to play with parameters and see how the conical shape changes. "
   ]
  },
  {
   "cell_type": "markdown",
   "metadata": {},
   "source": [
    "First some imports"
   ]
  },
  {
   "cell_type": "code",
   "execution_count": 1,
   "metadata": {},
   "outputs": [
    {
     "data": {
      "text/html": [
       "<script>requirejs.config({paths: { 'plotly': ['https://cdn.plot.ly/plotly-latest.min']},});if(!window.Plotly) {{require(['plotly'],function(plotly) {window.Plotly=plotly;});}}</script>"
      ],
      "text/vnd.plotly.v1+html": [
       "<script>requirejs.config({paths: { 'plotly': ['https://cdn.plot.ly/plotly-latest.min']},});if(!window.Plotly) {{require(['plotly'],function(plotly) {window.Plotly=plotly;});}}</script>"
      ]
     },
     "metadata": {},
     "output_type": "display_data"
    }
   ],
   "source": [
    "import numpy as np\n",
    "from plotly.offline import init_notebook_mode, iplot\n",
    "import plotly.graph_objs as go\n",
    "init_notebook_mode(connected=True)"
   ]
  },
  {
   "cell_type": "markdown",
   "metadata": {},
   "source": [
    "Now define a helper function for handling the polar angle, and the function which draws the beampipe, an ATLAS-resembling cylinder, and the jet along with the conical shape around it, defined by $\\Delta R$.\n",
    "\n",
    "I am using plotly instead of matplotlib because it is faster at rendering 3D. I've interchanged x and z to get the beampipe horizontal (could have probably been done in a more elegant way). "
   ]
  },
  {
   "cell_type": "code",
   "execution_count": 2,
   "metadata": {
    "collapsed": true
   },
   "outputs": [],
   "source": [
    "def theta_from_eta(eta):\n",
    "    return 2*np.arctan(np.e**(-eta))\n",
    "    \n",
    "def show_jet(phi, eta, dR):\n",
    "    \n",
    "    # list of all primitives to draw\n",
    "    data = []\n",
    "    \n",
    "    # ::: beampipe\n",
    "    R = 1.0\n",
    "    zs = np.linspace(-R, R, 2)\n",
    "    b_xs = [0 for z in zs]\n",
    "    b_ys = [0 for z in zs]\n",
    "    beampipe = go.Scatter3d(x=zs,\n",
    "                          y=b_ys,\n",
    "                          z=b_xs,\n",
    "                          mode='lines',\n",
    "                          showlegend=False,\n",
    "                          line=dict(color='rgb(0,33,71)', width=5))\n",
    "    data.append(beampipe)\n",
    "    \n",
    "    # ::: barrel\n",
    "    phis = np.linspace(-np.pi/2., np.pi/2., 10)\n",
    "    xs = R*np.sin(phis)\n",
    "    X, Z = np.meshgrid(xs, zs)\n",
    "    Y = np.sqrt(R**2 - X**2)\n",
    "    barrel_left = go.Surface(x=Z, y=Y, z=X, surfacecolor=[1,1], showscale=False, opacity=0.4)\n",
    "    barrel_right = go.Surface(x=Z, y=-Y, z=X, surfacecolor=[1,1], showscale=False, opacity=0.4)\n",
    "    data += [barrel_left, barrel_right]\n",
    "    \n",
    "    # ::: jet direction\n",
    "    theta = theta_from_eta(eta)\n",
    "    ts = np.linspace(0, R, 2)\n",
    "    xs = ts*np.sin(theta)*np.cos(phi)\n",
    "    ys = ts*np.sin(theta)*np.sin(phi)\n",
    "    zs = ts*np.cos(theta)\n",
    "    jet = go.Scatter3d(x=zs,\n",
    "                       y=ys,\n",
    "                       z=xs,\n",
    "                       mode='lines',\n",
    "                       showlegend=False,\n",
    "                       line=dict(color='rgb(255, 105, 97)', width=7))\n",
    "    data.append(jet)\n",
    "    \n",
    "    # ::: jet cone: compute the circle at the end first, then draw the cone\n",
    "    T = 1.0\n",
    "    dphis = np.sqrt(np.linspace(0, dR**2, 20))\n",
    "    detas = np.sqrt(dR**2 - dphis**2)\n",
    "    # compute circle coordinates (reverse parts for plotting reasons)\n",
    "    phis = np.concatenate((phi+dphis, phi+dphis[::-1], phi-dphis, phi-dphis[::-1]))\n",
    "    etas = np.concatenate((eta+detas, eta-detas[::-1], eta-detas, eta+detas[::-1]))\n",
    "    # transform to x, y, z\n",
    "    thetas = theta_from_eta(etas)\n",
    "    cxs = T*np.sin(thetas)*np.cos(phis)\n",
    "    cys = T*np.sin(thetas)*np.sin(phis)\n",
    "    czs = T*np.cos(thetas)\n",
    "    cone_edge = go.Scatter3d(x=czs,\n",
    "                            y=cys,\n",
    "                            z=cxs,\n",
    "                            mode='lines',\n",
    "                            showlegend=False,\n",
    "                            line=dict(color='rgb(255, 105, 97)', width=5))\n",
    "    data.append(cone_edge)\n",
    "    \n",
    "    # draw lines from the circle to the origin\n",
    "    for x, y, z in zip(cxs, cys, czs):\n",
    "        line = go.Scatter3d(x=(0,z),\n",
    "                            y=(0,y),\n",
    "                            z=(0,x),\n",
    "                            opacity=0.3,\n",
    "                            mode='lines',\n",
    "                            showlegend=False,\n",
    "                            line=dict(color='rgb(255, 105, 97)'))\n",
    "        data.append(line)\n",
    "    \n",
    "    # cosmetics\n",
    "    layout = go.Layout(margin=dict(l=0,r=0,b=0,t=0),\n",
    "                       scene=dict(xaxis=dict(title='Z'),\n",
    "                                  yaxis=dict(title='Y'),\n",
    "                                  zaxis=dict(title='X')))\n",
    "    fig = go.Figure(data=data, layout=layout)\n",
    "    iplot(fig, filename='simple-3d-scatter')\n"
   ]
  },
  {
   "cell_type": "markdown",
   "metadata": {},
   "source": [
    "Show two renders in nbviewer of $\\phi$, $\\eta$, and $\\Delta R$. Note that $\\Delta R$ is the same in both, but the cones have very different sizes depending on the $\\eta$."
   ]
  },
  {
   "cell_type": "code",
   "execution_count": 3,
   "metadata": {},
   "outputs": [
    {
     "data": {
      "application/vnd.plotly.v1+json": {
       "data": [
        {
         "line": {
          "color": "rgb(0,33,71)",
          "width": 5
         },
         "mode": "lines",
         "showlegend": false,
         "type": "scatter3d",
         "x": [
          -1,
          1
         ],
         "y": [
          0,
          0
         ],
         "z": [
          0,
          0
         ]
        },
        {
         "opacity": 0.4,
         "showscale": false,
         "surfacecolor": [
          1,
          1
         ],
         "type": "surface",
         "x": [
          [
           -1,
           -1,
           -1,
           -1,
           -1,
           -1,
           -1,
           -1,
           -1,
           -1
          ],
          [
           1,
           1,
           1,
           1,
           1,
           1,
           1,
           1,
           1,
           1
          ]
         ],
         "y": [
          [
           0,
           0.342020143325669,
           0.6427876096865394,
           0.8660254037844386,
           0.984807753012208,
           0.984807753012208,
           0.8660254037844388,
           0.6427876096865395,
           0.342020143325669,
           0
          ],
          [
           0,
           0.342020143325669,
           0.6427876096865394,
           0.8660254037844386,
           0.984807753012208,
           0.984807753012208,
           0.8660254037844388,
           0.6427876096865395,
           0.342020143325669,
           0
          ]
         ],
         "z": [
          [
           -1,
           -0.9396926207859083,
           -0.766044443118978,
           -0.5,
           -0.17364817766693036,
           0.17364817766693036,
           0.49999999999999983,
           0.7660444431189779,
           0.9396926207859083,
           1
          ],
          [
           -1,
           -0.9396926207859083,
           -0.766044443118978,
           -0.5,
           -0.17364817766693036,
           0.17364817766693036,
           0.49999999999999983,
           0.7660444431189779,
           0.9396926207859083,
           1
          ]
         ]
        },
        {
         "opacity": 0.4,
         "showscale": false,
         "surfacecolor": [
          1,
          1
         ],
         "type": "surface",
         "x": [
          [
           -1,
           -1,
           -1,
           -1,
           -1,
           -1,
           -1,
           -1,
           -1,
           -1
          ],
          [
           1,
           1,
           1,
           1,
           1,
           1,
           1,
           1,
           1,
           1
          ]
         ],
         "y": [
          [
           0,
           -0.342020143325669,
           -0.6427876096865394,
           -0.8660254037844386,
           -0.984807753012208,
           -0.984807753012208,
           -0.8660254037844388,
           -0.6427876096865395,
           -0.342020143325669,
           0
          ],
          [
           0,
           -0.342020143325669,
           -0.6427876096865394,
           -0.8660254037844386,
           -0.984807753012208,
           -0.984807753012208,
           -0.8660254037844388,
           -0.6427876096865395,
           -0.342020143325669,
           0
          ]
         ],
         "z": [
          [
           -1,
           -0.9396926207859083,
           -0.766044443118978,
           -0.5,
           -0.17364817766693036,
           0.17364817766693036,
           0.49999999999999983,
           0.7660444431189779,
           0.9396926207859083,
           1
          ],
          [
           -1,
           -0.9396926207859083,
           -0.766044443118978,
           -0.5,
           -0.17364817766693036,
           0.17364817766693036,
           0.49999999999999983,
           0.7660444431189779,
           0.9396926207859083,
           1
          ]
         ]
        },
        {
         "line": {
          "color": "rgb(255, 105, 97)",
          "width": 7
         },
         "mode": "lines",
         "showlegend": false,
         "type": "scatter3d",
         "x": [
          0,
          0.9950547536867305
         ],
         "y": [
          0,
          0
         ],
         "z": [
          0,
          0.09932792741943323
         ]
        },
        {
         "line": {
          "color": "rgb(255, 105, 97)",
          "width": 5
         },
         "mode": "lines",
         "showlegend": false,
         "type": "scatter3d",
         "x": [
          0.999329299739067,
          0.9992925641850561,
          0.9992526949935175,
          0.9992092859228291,
          0.9991618543059954,
          0.9991098211483397,
          0.9990524843208939,
          0.9989889817471538,
          0.9989182397098687,
          0.998838898364858,
          0.9987492011074239,
          0.9986468242008412,
          0.9985286026422578,
          0.9983900643750867,
          0.9982245817941475,
          0.998021676294657,
          0.9977631603489642,
          0.9974124223998145,
          0.996871650364834,
          0.9950547536867305,
          0.9950547536867305,
          0.9921867605764334,
          0.9905590511111292,
          0.989084875843333,
          0.9876657594483422,
          0.9862644229563172,
          0.9848620074470319,
          0.983447359141926,
          0.9820131716882766,
          0.9805542909244023,
          0.9790668666099106,
          0.9775478868722012,
          0.9759949043155917,
          0.974405865902242,
          0.9727790025803045,
          0.9711127550688635,
          0.9694057224453089,
          0.9676566256221996,
          0.9658642808403455,
          0.9640275800758169,
          0.9640275800758169,
          0.9658642808403455,
          0.9676566256221996,
          0.9694057224453089,
          0.9711127550688635,
          0.9727790025803045,
          0.974405865902242,
          0.9759949043155917,
          0.9775478868722012,
          0.9790668666099106,
          0.9805542909244023,
          0.9820131716882766,
          0.983447359141926,
          0.9848620074470319,
          0.9862644229563172,
          0.9876657594483422,
          0.989084875843333,
          0.9905590511111292,
          0.9921867605764334,
          0.9950547536867305,
          0.9950547536867305,
          0.996871650364834,
          0.9974124223998145,
          0.9977631603489642,
          0.998021676294657,
          0.9982245817941475,
          0.9983900643750867,
          0.9985286026422578,
          0.9986468242008412,
          0.9987492011074239,
          0.998838898364858,
          0.9989182397098687,
          0.9989889817471538,
          0.9990524843208939,
          0.9991098211483397,
          0.9991618543059954,
          0.9992092859228291,
          0.9992526949935175,
          0.9992925641850561,
          0.999329299739067
         ],
         "y": [
          0,
          0.008552411516454023,
          0.012321820354587672,
          0.015386262176041892,
          0.01812968010560764,
          0.020703664665205207,
          0.023190012005096326,
          0.02564214443141413,
          0.02810055300121383,
          0.030600168285484897,
          0.03317481287655101,
          0.035860743401103526,
          0.038700434262177556,
          0.04174776261946511,
          0.04507652574218313,
          0.048796610656766236,
          0.05308970905235481,
          0.05830634407184348,
          0.06534518955671943,
          0.08358156890455774,
          0.08358156890455774,
          0.1031481623024,
          0.11118100679835928,
          0.1170204911262034,
          0.12152587803687126,
          0.12500285694502616,
          0.12758162288775676,
          0.12931224566387936,
          0.13019811937260406,
          0.13020895521997425,
          0.1292847067681623,
          0.1273338730515883,
          0.12422650718503182,
          0.11977994503233448,
          0.11373169138103574,
          0.10568544972937964,
          0.09499089110753871,
          0.08041913580766888,
          0.058909886659820575,
          0,
          0,
          -0.058909886659820575,
          -0.08041913580766888,
          -0.09499089110753871,
          -0.10568544972937964,
          -0.11373169138103574,
          -0.11977994503233448,
          -0.12422650718503182,
          -0.1273338730515883,
          -0.1292847067681623,
          -0.13020895521997425,
          -0.13019811937260406,
          -0.12931224566387936,
          -0.12758162288775676,
          -0.12500285694502616,
          -0.12152587803687126,
          -0.1170204911262034,
          -0.11118100679835928,
          -0.1031481623024,
          -0.08358156890455774,
          -0.08358156890455774,
          -0.06534518955671943,
          -0.05830634407184348,
          -0.05308970905235481,
          -0.048796610656766236,
          -0.04507652574218313,
          -0.04174776261946511,
          -0.038700434262177556,
          -0.035860743401103526,
          -0.03317481287655101,
          -0.030600168285484897,
          -0.02810055300121383,
          -0.02564214443141413,
          -0.023190012005096326,
          -0.020703664665205207,
          -0.01812968010560764,
          -0.015386262176041892,
          -0.012321820354587672,
          -0.008552411516454023,
          0
         ],
         "z": [
          0.036618993473686544,
          0.03662277190094678,
          0.03663637934268916,
          0.036661503813130165,
          0.036700185273008945,
          0.03675491197599965,
          0.03682875120681685,
          0.036925530148438857,
          0.03705009171329105,
          0.03720866584784996,
          0.037409424987404,
          0.037663345527108205,
          0.03798560376272717,
          0.03839796444316954,
          0.0389331623287094,
          0.039643718725856425,
          0.04062214473884421,
          0.04205745930878056,
          0.04446255616458008,
          0.053667108221823,
          0.053667108221823,
          0.07018467603744338,
          0.08019694501115733,
          0.08953944959938372,
          0.09873099098407195,
          0.10796654003080759,
          0.11734460272517272,
          0.12692373662217846,
          0.13674275243159537,
          0.14682952880897412,
          0.15720539209111706,
          0.16788750294580038,
          0.17889025032853598,
          0.19022611088741956,
          0.2019062022684714,
          0.21394065218667616,
          0.2263388519386023,
          0.23910963486527684,
          0.2522614045994538,
          0.26580222883407967,
          0.26580222883407967,
          0.2522614045994538,
          0.23910963486527684,
          0.2263388519386023,
          0.21394065218667616,
          0.2019062022684714,
          0.19022611088741956,
          0.17889025032853598,
          0.16788750294580038,
          0.15720539209111706,
          0.14682952880897412,
          0.13674275243159537,
          0.12692373662217846,
          0.11734460272517272,
          0.10796654003080759,
          0.09873099098407195,
          0.08953944959938372,
          0.08019694501115733,
          0.07018467603744338,
          0.053667108221823,
          0.053667108221823,
          0.04446255616458008,
          0.04205745930878056,
          0.04062214473884421,
          0.039643718725856425,
          0.0389331623287094,
          0.03839796444316954,
          0.03798560376272717,
          0.037663345527108205,
          0.037409424987404,
          0.03720866584784996,
          0.03705009171329105,
          0.036925530148438857,
          0.03682875120681685,
          0.03675491197599965,
          0.036700185273008945,
          0.036661503813130165,
          0.03663637934268916,
          0.03662277190094678,
          0.036618993473686544
         ]
        },
        {
         "line": {
          "color": "rgb(255, 105, 97)"
         },
         "mode": "lines",
         "opacity": 0.3,
         "showlegend": false,
         "type": "scatter3d",
         "x": [
          0,
          0.999329299739067
         ],
         "y": [
          0,
          0
         ],
         "z": [
          0,
          0.036618993473686544
         ]
        },
        {
         "line": {
          "color": "rgb(255, 105, 97)"
         },
         "mode": "lines",
         "opacity": 0.3,
         "showlegend": false,
         "type": "scatter3d",
         "x": [
          0,
          0.9992925641850561
         ],
         "y": [
          0,
          0.008552411516454023
         ],
         "z": [
          0,
          0.03662277190094678
         ]
        },
        {
         "line": {
          "color": "rgb(255, 105, 97)"
         },
         "mode": "lines",
         "opacity": 0.3,
         "showlegend": false,
         "type": "scatter3d",
         "x": [
          0,
          0.9992526949935175
         ],
         "y": [
          0,
          0.012321820354587672
         ],
         "z": [
          0,
          0.03663637934268916
         ]
        },
        {
         "line": {
          "color": "rgb(255, 105, 97)"
         },
         "mode": "lines",
         "opacity": 0.3,
         "showlegend": false,
         "type": "scatter3d",
         "x": [
          0,
          0.9992092859228291
         ],
         "y": [
          0,
          0.015386262176041892
         ],
         "z": [
          0,
          0.036661503813130165
         ]
        },
        {
         "line": {
          "color": "rgb(255, 105, 97)"
         },
         "mode": "lines",
         "opacity": 0.3,
         "showlegend": false,
         "type": "scatter3d",
         "x": [
          0,
          0.9991618543059954
         ],
         "y": [
          0,
          0.01812968010560764
         ],
         "z": [
          0,
          0.036700185273008945
         ]
        },
        {
         "line": {
          "color": "rgb(255, 105, 97)"
         },
         "mode": "lines",
         "opacity": 0.3,
         "showlegend": false,
         "type": "scatter3d",
         "x": [
          0,
          0.9991098211483397
         ],
         "y": [
          0,
          0.020703664665205207
         ],
         "z": [
          0,
          0.03675491197599965
         ]
        },
        {
         "line": {
          "color": "rgb(255, 105, 97)"
         },
         "mode": "lines",
         "opacity": 0.3,
         "showlegend": false,
         "type": "scatter3d",
         "x": [
          0,
          0.9990524843208939
         ],
         "y": [
          0,
          0.023190012005096326
         ],
         "z": [
          0,
          0.03682875120681685
         ]
        },
        {
         "line": {
          "color": "rgb(255, 105, 97)"
         },
         "mode": "lines",
         "opacity": 0.3,
         "showlegend": false,
         "type": "scatter3d",
         "x": [
          0,
          0.9989889817471538
         ],
         "y": [
          0,
          0.02564214443141413
         ],
         "z": [
          0,
          0.036925530148438857
         ]
        },
        {
         "line": {
          "color": "rgb(255, 105, 97)"
         },
         "mode": "lines",
         "opacity": 0.3,
         "showlegend": false,
         "type": "scatter3d",
         "x": [
          0,
          0.9989182397098687
         ],
         "y": [
          0,
          0.02810055300121383
         ],
         "z": [
          0,
          0.03705009171329105
         ]
        },
        {
         "line": {
          "color": "rgb(255, 105, 97)"
         },
         "mode": "lines",
         "opacity": 0.3,
         "showlegend": false,
         "type": "scatter3d",
         "x": [
          0,
          0.998838898364858
         ],
         "y": [
          0,
          0.030600168285484897
         ],
         "z": [
          0,
          0.03720866584784996
         ]
        },
        {
         "line": {
          "color": "rgb(255, 105, 97)"
         },
         "mode": "lines",
         "opacity": 0.3,
         "showlegend": false,
         "type": "scatter3d",
         "x": [
          0,
          0.9987492011074239
         ],
         "y": [
          0,
          0.03317481287655101
         ],
         "z": [
          0,
          0.037409424987404
         ]
        },
        {
         "line": {
          "color": "rgb(255, 105, 97)"
         },
         "mode": "lines",
         "opacity": 0.3,
         "showlegend": false,
         "type": "scatter3d",
         "x": [
          0,
          0.9986468242008412
         ],
         "y": [
          0,
          0.035860743401103526
         ],
         "z": [
          0,
          0.037663345527108205
         ]
        },
        {
         "line": {
          "color": "rgb(255, 105, 97)"
         },
         "mode": "lines",
         "opacity": 0.3,
         "showlegend": false,
         "type": "scatter3d",
         "x": [
          0,
          0.9985286026422578
         ],
         "y": [
          0,
          0.038700434262177556
         ],
         "z": [
          0,
          0.03798560376272717
         ]
        },
        {
         "line": {
          "color": "rgb(255, 105, 97)"
         },
         "mode": "lines",
         "opacity": 0.3,
         "showlegend": false,
         "type": "scatter3d",
         "x": [
          0,
          0.9983900643750867
         ],
         "y": [
          0,
          0.04174776261946511
         ],
         "z": [
          0,
          0.03839796444316954
         ]
        },
        {
         "line": {
          "color": "rgb(255, 105, 97)"
         },
         "mode": "lines",
         "opacity": 0.3,
         "showlegend": false,
         "type": "scatter3d",
         "x": [
          0,
          0.9982245817941475
         ],
         "y": [
          0,
          0.04507652574218313
         ],
         "z": [
          0,
          0.0389331623287094
         ]
        },
        {
         "line": {
          "color": "rgb(255, 105, 97)"
         },
         "mode": "lines",
         "opacity": 0.3,
         "showlegend": false,
         "type": "scatter3d",
         "x": [
          0,
          0.998021676294657
         ],
         "y": [
          0,
          0.048796610656766236
         ],
         "z": [
          0,
          0.039643718725856425
         ]
        },
        {
         "line": {
          "color": "rgb(255, 105, 97)"
         },
         "mode": "lines",
         "opacity": 0.3,
         "showlegend": false,
         "type": "scatter3d",
         "x": [
          0,
          0.9977631603489642
         ],
         "y": [
          0,
          0.05308970905235481
         ],
         "z": [
          0,
          0.04062214473884421
         ]
        },
        {
         "line": {
          "color": "rgb(255, 105, 97)"
         },
         "mode": "lines",
         "opacity": 0.3,
         "showlegend": false,
         "type": "scatter3d",
         "x": [
          0,
          0.9974124223998145
         ],
         "y": [
          0,
          0.05830634407184348
         ],
         "z": [
          0,
          0.04205745930878056
         ]
        },
        {
         "line": {
          "color": "rgb(255, 105, 97)"
         },
         "mode": "lines",
         "opacity": 0.3,
         "showlegend": false,
         "type": "scatter3d",
         "x": [
          0,
          0.996871650364834
         ],
         "y": [
          0,
          0.06534518955671943
         ],
         "z": [
          0,
          0.04446255616458008
         ]
        },
        {
         "line": {
          "color": "rgb(255, 105, 97)"
         },
         "mode": "lines",
         "opacity": 0.3,
         "showlegend": false,
         "type": "scatter3d",
         "x": [
          0,
          0.9950547536867305
         ],
         "y": [
          0,
          0.08358156890455774
         ],
         "z": [
          0,
          0.053667108221823
         ]
        },
        {
         "line": {
          "color": "rgb(255, 105, 97)"
         },
         "mode": "lines",
         "opacity": 0.3,
         "showlegend": false,
         "type": "scatter3d",
         "x": [
          0,
          0.9950547536867305
         ],
         "y": [
          0,
          0.08358156890455774
         ],
         "z": [
          0,
          0.053667108221823
         ]
        },
        {
         "line": {
          "color": "rgb(255, 105, 97)"
         },
         "mode": "lines",
         "opacity": 0.3,
         "showlegend": false,
         "type": "scatter3d",
         "x": [
          0,
          0.9921867605764334
         ],
         "y": [
          0,
          0.1031481623024
         ],
         "z": [
          0,
          0.07018467603744338
         ]
        },
        {
         "line": {
          "color": "rgb(255, 105, 97)"
         },
         "mode": "lines",
         "opacity": 0.3,
         "showlegend": false,
         "type": "scatter3d",
         "x": [
          0,
          0.9905590511111292
         ],
         "y": [
          0,
          0.11118100679835928
         ],
         "z": [
          0,
          0.08019694501115733
         ]
        },
        {
         "line": {
          "color": "rgb(255, 105, 97)"
         },
         "mode": "lines",
         "opacity": 0.3,
         "showlegend": false,
         "type": "scatter3d",
         "x": [
          0,
          0.989084875843333
         ],
         "y": [
          0,
          0.1170204911262034
         ],
         "z": [
          0,
          0.08953944959938372
         ]
        },
        {
         "line": {
          "color": "rgb(255, 105, 97)"
         },
         "mode": "lines",
         "opacity": 0.3,
         "showlegend": false,
         "type": "scatter3d",
         "x": [
          0,
          0.9876657594483422
         ],
         "y": [
          0,
          0.12152587803687126
         ],
         "z": [
          0,
          0.09873099098407195
         ]
        },
        {
         "line": {
          "color": "rgb(255, 105, 97)"
         },
         "mode": "lines",
         "opacity": 0.3,
         "showlegend": false,
         "type": "scatter3d",
         "x": [
          0,
          0.9862644229563172
         ],
         "y": [
          0,
          0.12500285694502616
         ],
         "z": [
          0,
          0.10796654003080759
         ]
        },
        {
         "line": {
          "color": "rgb(255, 105, 97)"
         },
         "mode": "lines",
         "opacity": 0.3,
         "showlegend": false,
         "type": "scatter3d",
         "x": [
          0,
          0.9848620074470319
         ],
         "y": [
          0,
          0.12758162288775676
         ],
         "z": [
          0,
          0.11734460272517272
         ]
        },
        {
         "line": {
          "color": "rgb(255, 105, 97)"
         },
         "mode": "lines",
         "opacity": 0.3,
         "showlegend": false,
         "type": "scatter3d",
         "x": [
          0,
          0.983447359141926
         ],
         "y": [
          0,
          0.12931224566387936
         ],
         "z": [
          0,
          0.12692373662217846
         ]
        },
        {
         "line": {
          "color": "rgb(255, 105, 97)"
         },
         "mode": "lines",
         "opacity": 0.3,
         "showlegend": false,
         "type": "scatter3d",
         "x": [
          0,
          0.9820131716882766
         ],
         "y": [
          0,
          0.13019811937260406
         ],
         "z": [
          0,
          0.13674275243159537
         ]
        },
        {
         "line": {
          "color": "rgb(255, 105, 97)"
         },
         "mode": "lines",
         "opacity": 0.3,
         "showlegend": false,
         "type": "scatter3d",
         "x": [
          0,
          0.9805542909244023
         ],
         "y": [
          0,
          0.13020895521997425
         ],
         "z": [
          0,
          0.14682952880897412
         ]
        },
        {
         "line": {
          "color": "rgb(255, 105, 97)"
         },
         "mode": "lines",
         "opacity": 0.3,
         "showlegend": false,
         "type": "scatter3d",
         "x": [
          0,
          0.9790668666099106
         ],
         "y": [
          0,
          0.1292847067681623
         ],
         "z": [
          0,
          0.15720539209111706
         ]
        },
        {
         "line": {
          "color": "rgb(255, 105, 97)"
         },
         "mode": "lines",
         "opacity": 0.3,
         "showlegend": false,
         "type": "scatter3d",
         "x": [
          0,
          0.9775478868722012
         ],
         "y": [
          0,
          0.1273338730515883
         ],
         "z": [
          0,
          0.16788750294580038
         ]
        },
        {
         "line": {
          "color": "rgb(255, 105, 97)"
         },
         "mode": "lines",
         "opacity": 0.3,
         "showlegend": false,
         "type": "scatter3d",
         "x": [
          0,
          0.9759949043155917
         ],
         "y": [
          0,
          0.12422650718503182
         ],
         "z": [
          0,
          0.17889025032853598
         ]
        },
        {
         "line": {
          "color": "rgb(255, 105, 97)"
         },
         "mode": "lines",
         "opacity": 0.3,
         "showlegend": false,
         "type": "scatter3d",
         "x": [
          0,
          0.974405865902242
         ],
         "y": [
          0,
          0.11977994503233448
         ],
         "z": [
          0,
          0.19022611088741956
         ]
        },
        {
         "line": {
          "color": "rgb(255, 105, 97)"
         },
         "mode": "lines",
         "opacity": 0.3,
         "showlegend": false,
         "type": "scatter3d",
         "x": [
          0,
          0.9727790025803045
         ],
         "y": [
          0,
          0.11373169138103574
         ],
         "z": [
          0,
          0.2019062022684714
         ]
        },
        {
         "line": {
          "color": "rgb(255, 105, 97)"
         },
         "mode": "lines",
         "opacity": 0.3,
         "showlegend": false,
         "type": "scatter3d",
         "x": [
          0,
          0.9711127550688635
         ],
         "y": [
          0,
          0.10568544972937964
         ],
         "z": [
          0,
          0.21394065218667616
         ]
        },
        {
         "line": {
          "color": "rgb(255, 105, 97)"
         },
         "mode": "lines",
         "opacity": 0.3,
         "showlegend": false,
         "type": "scatter3d",
         "x": [
          0,
          0.9694057224453089
         ],
         "y": [
          0,
          0.09499089110753871
         ],
         "z": [
          0,
          0.2263388519386023
         ]
        },
        {
         "line": {
          "color": "rgb(255, 105, 97)"
         },
         "mode": "lines",
         "opacity": 0.3,
         "showlegend": false,
         "type": "scatter3d",
         "x": [
          0,
          0.9676566256221996
         ],
         "y": [
          0,
          0.08041913580766888
         ],
         "z": [
          0,
          0.23910963486527684
         ]
        },
        {
         "line": {
          "color": "rgb(255, 105, 97)"
         },
         "mode": "lines",
         "opacity": 0.3,
         "showlegend": false,
         "type": "scatter3d",
         "x": [
          0,
          0.9658642808403455
         ],
         "y": [
          0,
          0.058909886659820575
         ],
         "z": [
          0,
          0.2522614045994538
         ]
        },
        {
         "line": {
          "color": "rgb(255, 105, 97)"
         },
         "mode": "lines",
         "opacity": 0.3,
         "showlegend": false,
         "type": "scatter3d",
         "x": [
          0,
          0.9640275800758169
         ],
         "y": [
          0,
          0
         ],
         "z": [
          0,
          0.26580222883407967
         ]
        },
        {
         "line": {
          "color": "rgb(255, 105, 97)"
         },
         "mode": "lines",
         "opacity": 0.3,
         "showlegend": false,
         "type": "scatter3d",
         "x": [
          0,
          0.9640275800758169
         ],
         "y": [
          0,
          0
         ],
         "z": [
          0,
          0.26580222883407967
         ]
        },
        {
         "line": {
          "color": "rgb(255, 105, 97)"
         },
         "mode": "lines",
         "opacity": 0.3,
         "showlegend": false,
         "type": "scatter3d",
         "x": [
          0,
          0.9658642808403455
         ],
         "y": [
          0,
          -0.058909886659820575
         ],
         "z": [
          0,
          0.2522614045994538
         ]
        },
        {
         "line": {
          "color": "rgb(255, 105, 97)"
         },
         "mode": "lines",
         "opacity": 0.3,
         "showlegend": false,
         "type": "scatter3d",
         "x": [
          0,
          0.9676566256221996
         ],
         "y": [
          0,
          -0.08041913580766888
         ],
         "z": [
          0,
          0.23910963486527684
         ]
        },
        {
         "line": {
          "color": "rgb(255, 105, 97)"
         },
         "mode": "lines",
         "opacity": 0.3,
         "showlegend": false,
         "type": "scatter3d",
         "x": [
          0,
          0.9694057224453089
         ],
         "y": [
          0,
          -0.09499089110753871
         ],
         "z": [
          0,
          0.2263388519386023
         ]
        },
        {
         "line": {
          "color": "rgb(255, 105, 97)"
         },
         "mode": "lines",
         "opacity": 0.3,
         "showlegend": false,
         "type": "scatter3d",
         "x": [
          0,
          0.9711127550688635
         ],
         "y": [
          0,
          -0.10568544972937964
         ],
         "z": [
          0,
          0.21394065218667616
         ]
        },
        {
         "line": {
          "color": "rgb(255, 105, 97)"
         },
         "mode": "lines",
         "opacity": 0.3,
         "showlegend": false,
         "type": "scatter3d",
         "x": [
          0,
          0.9727790025803045
         ],
         "y": [
          0,
          -0.11373169138103574
         ],
         "z": [
          0,
          0.2019062022684714
         ]
        },
        {
         "line": {
          "color": "rgb(255, 105, 97)"
         },
         "mode": "lines",
         "opacity": 0.3,
         "showlegend": false,
         "type": "scatter3d",
         "x": [
          0,
          0.974405865902242
         ],
         "y": [
          0,
          -0.11977994503233448
         ],
         "z": [
          0,
          0.19022611088741956
         ]
        },
        {
         "line": {
          "color": "rgb(255, 105, 97)"
         },
         "mode": "lines",
         "opacity": 0.3,
         "showlegend": false,
         "type": "scatter3d",
         "x": [
          0,
          0.9759949043155917
         ],
         "y": [
          0,
          -0.12422650718503182
         ],
         "z": [
          0,
          0.17889025032853598
         ]
        },
        {
         "line": {
          "color": "rgb(255, 105, 97)"
         },
         "mode": "lines",
         "opacity": 0.3,
         "showlegend": false,
         "type": "scatter3d",
         "x": [
          0,
          0.9775478868722012
         ],
         "y": [
          0,
          -0.1273338730515883
         ],
         "z": [
          0,
          0.16788750294580038
         ]
        },
        {
         "line": {
          "color": "rgb(255, 105, 97)"
         },
         "mode": "lines",
         "opacity": 0.3,
         "showlegend": false,
         "type": "scatter3d",
         "x": [
          0,
          0.9790668666099106
         ],
         "y": [
          0,
          -0.1292847067681623
         ],
         "z": [
          0,
          0.15720539209111706
         ]
        },
        {
         "line": {
          "color": "rgb(255, 105, 97)"
         },
         "mode": "lines",
         "opacity": 0.3,
         "showlegend": false,
         "type": "scatter3d",
         "x": [
          0,
          0.9805542909244023
         ],
         "y": [
          0,
          -0.13020895521997425
         ],
         "z": [
          0,
          0.14682952880897412
         ]
        },
        {
         "line": {
          "color": "rgb(255, 105, 97)"
         },
         "mode": "lines",
         "opacity": 0.3,
         "showlegend": false,
         "type": "scatter3d",
         "x": [
          0,
          0.9820131716882766
         ],
         "y": [
          0,
          -0.13019811937260406
         ],
         "z": [
          0,
          0.13674275243159537
         ]
        },
        {
         "line": {
          "color": "rgb(255, 105, 97)"
         },
         "mode": "lines",
         "opacity": 0.3,
         "showlegend": false,
         "type": "scatter3d",
         "x": [
          0,
          0.983447359141926
         ],
         "y": [
          0,
          -0.12931224566387936
         ],
         "z": [
          0,
          0.12692373662217846
         ]
        },
        {
         "line": {
          "color": "rgb(255, 105, 97)"
         },
         "mode": "lines",
         "opacity": 0.3,
         "showlegend": false,
         "type": "scatter3d",
         "x": [
          0,
          0.9848620074470319
         ],
         "y": [
          0,
          -0.12758162288775676
         ],
         "z": [
          0,
          0.11734460272517272
         ]
        },
        {
         "line": {
          "color": "rgb(255, 105, 97)"
         },
         "mode": "lines",
         "opacity": 0.3,
         "showlegend": false,
         "type": "scatter3d",
         "x": [
          0,
          0.9862644229563172
         ],
         "y": [
          0,
          -0.12500285694502616
         ],
         "z": [
          0,
          0.10796654003080759
         ]
        },
        {
         "line": {
          "color": "rgb(255, 105, 97)"
         },
         "mode": "lines",
         "opacity": 0.3,
         "showlegend": false,
         "type": "scatter3d",
         "x": [
          0,
          0.9876657594483422
         ],
         "y": [
          0,
          -0.12152587803687126
         ],
         "z": [
          0,
          0.09873099098407195
         ]
        },
        {
         "line": {
          "color": "rgb(255, 105, 97)"
         },
         "mode": "lines",
         "opacity": 0.3,
         "showlegend": false,
         "type": "scatter3d",
         "x": [
          0,
          0.989084875843333
         ],
         "y": [
          0,
          -0.1170204911262034
         ],
         "z": [
          0,
          0.08953944959938372
         ]
        },
        {
         "line": {
          "color": "rgb(255, 105, 97)"
         },
         "mode": "lines",
         "opacity": 0.3,
         "showlegend": false,
         "type": "scatter3d",
         "x": [
          0,
          0.9905590511111292
         ],
         "y": [
          0,
          -0.11118100679835928
         ],
         "z": [
          0,
          0.08019694501115733
         ]
        },
        {
         "line": {
          "color": "rgb(255, 105, 97)"
         },
         "mode": "lines",
         "opacity": 0.3,
         "showlegend": false,
         "type": "scatter3d",
         "x": [
          0,
          0.9921867605764334
         ],
         "y": [
          0,
          -0.1031481623024
         ],
         "z": [
          0,
          0.07018467603744338
         ]
        },
        {
         "line": {
          "color": "rgb(255, 105, 97)"
         },
         "mode": "lines",
         "opacity": 0.3,
         "showlegend": false,
         "type": "scatter3d",
         "x": [
          0,
          0.9950547536867305
         ],
         "y": [
          0,
          -0.08358156890455774
         ],
         "z": [
          0,
          0.053667108221823
         ]
        },
        {
         "line": {
          "color": "rgb(255, 105, 97)"
         },
         "mode": "lines",
         "opacity": 0.3,
         "showlegend": false,
         "type": "scatter3d",
         "x": [
          0,
          0.9950547536867305
         ],
         "y": [
          0,
          -0.08358156890455774
         ],
         "z": [
          0,
          0.053667108221823
         ]
        },
        {
         "line": {
          "color": "rgb(255, 105, 97)"
         },
         "mode": "lines",
         "opacity": 0.3,
         "showlegend": false,
         "type": "scatter3d",
         "x": [
          0,
          0.996871650364834
         ],
         "y": [
          0,
          -0.06534518955671943
         ],
         "z": [
          0,
          0.04446255616458008
         ]
        },
        {
         "line": {
          "color": "rgb(255, 105, 97)"
         },
         "mode": "lines",
         "opacity": 0.3,
         "showlegend": false,
         "type": "scatter3d",
         "x": [
          0,
          0.9974124223998145
         ],
         "y": [
          0,
          -0.05830634407184348
         ],
         "z": [
          0,
          0.04205745930878056
         ]
        },
        {
         "line": {
          "color": "rgb(255, 105, 97)"
         },
         "mode": "lines",
         "opacity": 0.3,
         "showlegend": false,
         "type": "scatter3d",
         "x": [
          0,
          0.9977631603489642
         ],
         "y": [
          0,
          -0.05308970905235481
         ],
         "z": [
          0,
          0.04062214473884421
         ]
        },
        {
         "line": {
          "color": "rgb(255, 105, 97)"
         },
         "mode": "lines",
         "opacity": 0.3,
         "showlegend": false,
         "type": "scatter3d",
         "x": [
          0,
          0.998021676294657
         ],
         "y": [
          0,
          -0.048796610656766236
         ],
         "z": [
          0,
          0.039643718725856425
         ]
        },
        {
         "line": {
          "color": "rgb(255, 105, 97)"
         },
         "mode": "lines",
         "opacity": 0.3,
         "showlegend": false,
         "type": "scatter3d",
         "x": [
          0,
          0.9982245817941475
         ],
         "y": [
          0,
          -0.04507652574218313
         ],
         "z": [
          0,
          0.0389331623287094
         ]
        },
        {
         "line": {
          "color": "rgb(255, 105, 97)"
         },
         "mode": "lines",
         "opacity": 0.3,
         "showlegend": false,
         "type": "scatter3d",
         "x": [
          0,
          0.9983900643750867
         ],
         "y": [
          0,
          -0.04174776261946511
         ],
         "z": [
          0,
          0.03839796444316954
         ]
        },
        {
         "line": {
          "color": "rgb(255, 105, 97)"
         },
         "mode": "lines",
         "opacity": 0.3,
         "showlegend": false,
         "type": "scatter3d",
         "x": [
          0,
          0.9985286026422578
         ],
         "y": [
          0,
          -0.038700434262177556
         ],
         "z": [
          0,
          0.03798560376272717
         ]
        },
        {
         "line": {
          "color": "rgb(255, 105, 97)"
         },
         "mode": "lines",
         "opacity": 0.3,
         "showlegend": false,
         "type": "scatter3d",
         "x": [
          0,
          0.9986468242008412
         ],
         "y": [
          0,
          -0.035860743401103526
         ],
         "z": [
          0,
          0.037663345527108205
         ]
        },
        {
         "line": {
          "color": "rgb(255, 105, 97)"
         },
         "mode": "lines",
         "opacity": 0.3,
         "showlegend": false,
         "type": "scatter3d",
         "x": [
          0,
          0.9987492011074239
         ],
         "y": [
          0,
          -0.03317481287655101
         ],
         "z": [
          0,
          0.037409424987404
         ]
        },
        {
         "line": {
          "color": "rgb(255, 105, 97)"
         },
         "mode": "lines",
         "opacity": 0.3,
         "showlegend": false,
         "type": "scatter3d",
         "x": [
          0,
          0.998838898364858
         ],
         "y": [
          0,
          -0.030600168285484897
         ],
         "z": [
          0,
          0.03720866584784996
         ]
        },
        {
         "line": {
          "color": "rgb(255, 105, 97)"
         },
         "mode": "lines",
         "opacity": 0.3,
         "showlegend": false,
         "type": "scatter3d",
         "x": [
          0,
          0.9989182397098687
         ],
         "y": [
          0,
          -0.02810055300121383
         ],
         "z": [
          0,
          0.03705009171329105
         ]
        },
        {
         "line": {
          "color": "rgb(255, 105, 97)"
         },
         "mode": "lines",
         "opacity": 0.3,
         "showlegend": false,
         "type": "scatter3d",
         "x": [
          0,
          0.9989889817471538
         ],
         "y": [
          0,
          -0.02564214443141413
         ],
         "z": [
          0,
          0.036925530148438857
         ]
        },
        {
         "line": {
          "color": "rgb(255, 105, 97)"
         },
         "mode": "lines",
         "opacity": 0.3,
         "showlegend": false,
         "type": "scatter3d",
         "x": [
          0,
          0.9990524843208939
         ],
         "y": [
          0,
          -0.023190012005096326
         ],
         "z": [
          0,
          0.03682875120681685
         ]
        },
        {
         "line": {
          "color": "rgb(255, 105, 97)"
         },
         "mode": "lines",
         "opacity": 0.3,
         "showlegend": false,
         "type": "scatter3d",
         "x": [
          0,
          0.9991098211483397
         ],
         "y": [
          0,
          -0.020703664665205207
         ],
         "z": [
          0,
          0.03675491197599965
         ]
        },
        {
         "line": {
          "color": "rgb(255, 105, 97)"
         },
         "mode": "lines",
         "opacity": 0.3,
         "showlegend": false,
         "type": "scatter3d",
         "x": [
          0,
          0.9991618543059954
         ],
         "y": [
          0,
          -0.01812968010560764
         ],
         "z": [
          0,
          0.036700185273008945
         ]
        },
        {
         "line": {
          "color": "rgb(255, 105, 97)"
         },
         "mode": "lines",
         "opacity": 0.3,
         "showlegend": false,
         "type": "scatter3d",
         "x": [
          0,
          0.9992092859228291
         ],
         "y": [
          0,
          -0.015386262176041892
         ],
         "z": [
          0,
          0.036661503813130165
         ]
        },
        {
         "line": {
          "color": "rgb(255, 105, 97)"
         },
         "mode": "lines",
         "opacity": 0.3,
         "showlegend": false,
         "type": "scatter3d",
         "x": [
          0,
          0.9992526949935175
         ],
         "y": [
          0,
          -0.012321820354587672
         ],
         "z": [
          0,
          0.03663637934268916
         ]
        },
        {
         "line": {
          "color": "rgb(255, 105, 97)"
         },
         "mode": "lines",
         "opacity": 0.3,
         "showlegend": false,
         "type": "scatter3d",
         "x": [
          0,
          0.9992925641850561
         ],
         "y": [
          0,
          -0.008552411516454023
         ],
         "z": [
          0,
          0.03662277190094678
         ]
        },
        {
         "line": {
          "color": "rgb(255, 105, 97)"
         },
         "mode": "lines",
         "opacity": 0.3,
         "showlegend": false,
         "type": "scatter3d",
         "x": [
          0,
          0.999329299739067
         ],
         "y": [
          0,
          0
         ],
         "z": [
          0,
          0.036618993473686544
         ]
        }
       ],
       "layout": {
        "margin": {
         "b": 0,
         "l": 0,
         "r": 0,
         "t": 0
        },
        "scene": {
         "xaxis": {
          "title": "Z"
         },
         "yaxis": {
          "title": "Y"
         },
         "zaxis": {
          "title": "X"
         }
        }
       }
      },
      "text/html": [
       "<div id=\"000fd369-d3da-4f0d-a05b-d9337d1f497e\" style=\"height: 525px; width: 100%;\" class=\"plotly-graph-div\"></div><script type=\"text/javascript\">require([\"plotly\"], function(Plotly) { window.PLOTLYENV=window.PLOTLYENV || {};window.PLOTLYENV.BASE_URL=\"https://plot.ly\";Plotly.newPlot(\"000fd369-d3da-4f0d-a05b-d9337d1f497e\", [{\"type\": \"scatter3d\", \"x\": [-1.0, 1.0], \"y\": [0, 0], \"z\": [0, 0], \"mode\": \"lines\", \"showlegend\": false, \"line\": {\"color\": \"rgb(0,33,71)\", \"width\": 5}}, {\"type\": \"surface\", \"x\": [[-1.0, -1.0, -1.0, -1.0, -1.0, -1.0, -1.0, -1.0, -1.0, -1.0], [1.0, 1.0, 1.0, 1.0, 1.0, 1.0, 1.0, 1.0, 1.0, 1.0]], \"y\": [[0.0, 0.342020143325669, 0.6427876096865394, 0.8660254037844386, 0.984807753012208, 0.984807753012208, 0.8660254037844388, 0.6427876096865395, 0.342020143325669, 0.0], [0.0, 0.342020143325669, 0.6427876096865394, 0.8660254037844386, 0.984807753012208, 0.984807753012208, 0.8660254037844388, 0.6427876096865395, 0.342020143325669, 0.0]], \"z\": [[-1.0, -0.9396926207859083, -0.766044443118978, -0.5, -0.17364817766693036, 0.17364817766693036, 0.49999999999999983, 0.7660444431189779, 0.9396926207859083, 1.0], [-1.0, -0.9396926207859083, -0.766044443118978, -0.5, -0.17364817766693036, 0.17364817766693036, 0.49999999999999983, 0.7660444431189779, 0.9396926207859083, 1.0]], \"surfacecolor\": [1, 1], \"showscale\": false, \"opacity\": 0.4}, {\"type\": \"surface\", \"x\": [[-1.0, -1.0, -1.0, -1.0, -1.0, -1.0, -1.0, -1.0, -1.0, -1.0], [1.0, 1.0, 1.0, 1.0, 1.0, 1.0, 1.0, 1.0, 1.0, 1.0]], \"y\": [[-0.0, -0.342020143325669, -0.6427876096865394, -0.8660254037844386, -0.984807753012208, -0.984807753012208, -0.8660254037844388, -0.6427876096865395, -0.342020143325669, -0.0], [-0.0, -0.342020143325669, -0.6427876096865394, -0.8660254037844386, -0.984807753012208, -0.984807753012208, -0.8660254037844388, -0.6427876096865395, -0.342020143325669, -0.0]], \"z\": [[-1.0, -0.9396926207859083, -0.766044443118978, -0.5, -0.17364817766693036, 0.17364817766693036, 0.49999999999999983, 0.7660444431189779, 0.9396926207859083, 1.0], [-1.0, -0.9396926207859083, -0.766044443118978, -0.5, -0.17364817766693036, 0.17364817766693036, 0.49999999999999983, 0.7660444431189779, 0.9396926207859083, 1.0]], \"surfacecolor\": [1, 1], \"showscale\": false, \"opacity\": 0.4}, {\"type\": \"scatter3d\", \"x\": [0.0, 0.9950547536867305], \"y\": [0.0, 0.0], \"z\": [0.0, 0.09932792741943323], \"mode\": \"lines\", \"showlegend\": false, \"line\": {\"color\": \"rgb(255, 105, 97)\", \"width\": 7}}, {\"type\": \"scatter3d\", \"x\": [0.999329299739067, 0.9992925641850561, 0.9992526949935175, 0.9992092859228291, 0.9991618543059954, 0.9991098211483397, 0.9990524843208939, 0.9989889817471538, 0.9989182397098687, 0.998838898364858, 0.9987492011074239, 0.9986468242008412, 0.9985286026422578, 0.9983900643750867, 0.9982245817941475, 0.998021676294657, 0.9977631603489642, 0.9974124223998145, 0.996871650364834, 0.9950547536867305, 0.9950547536867305, 0.9921867605764334, 0.9905590511111292, 0.989084875843333, 0.9876657594483422, 0.9862644229563172, 0.9848620074470319, 0.983447359141926, 0.9820131716882766, 0.9805542909244023, 0.9790668666099106, 0.9775478868722012, 0.9759949043155917, 0.974405865902242, 0.9727790025803045, 0.9711127550688635, 0.9694057224453089, 0.9676566256221996, 0.9658642808403455, 0.9640275800758169, 0.9640275800758169, 0.9658642808403455, 0.9676566256221996, 0.9694057224453089, 0.9711127550688635, 0.9727790025803045, 0.974405865902242, 0.9759949043155917, 0.9775478868722012, 0.9790668666099106, 0.9805542909244023, 0.9820131716882766, 0.983447359141926, 0.9848620074470319, 0.9862644229563172, 0.9876657594483422, 0.989084875843333, 0.9905590511111292, 0.9921867605764334, 0.9950547536867305, 0.9950547536867305, 0.996871650364834, 0.9974124223998145, 0.9977631603489642, 0.998021676294657, 0.9982245817941475, 0.9983900643750867, 0.9985286026422578, 0.9986468242008412, 0.9987492011074239, 0.998838898364858, 0.9989182397098687, 0.9989889817471538, 0.9990524843208939, 0.9991098211483397, 0.9991618543059954, 0.9992092859228291, 0.9992526949935175, 0.9992925641850561, 0.999329299739067], \"y\": [0.0, 0.008552411516454023, 0.012321820354587672, 0.015386262176041892, 0.01812968010560764, 0.020703664665205207, 0.023190012005096326, 0.02564214443141413, 0.02810055300121383, 0.030600168285484897, 0.03317481287655101, 0.035860743401103526, 0.038700434262177556, 0.04174776261946511, 0.04507652574218313, 0.048796610656766236, 0.05308970905235481, 0.05830634407184348, 0.06534518955671943, 0.08358156890455774, 0.08358156890455774, 0.1031481623024, 0.11118100679835928, 0.1170204911262034, 0.12152587803687126, 0.12500285694502616, 0.12758162288775676, 0.12931224566387936, 0.13019811937260406, 0.13020895521997425, 0.1292847067681623, 0.1273338730515883, 0.12422650718503182, 0.11977994503233448, 0.11373169138103574, 0.10568544972937964, 0.09499089110753871, 0.08041913580766888, 0.058909886659820575, 0.0, 0.0, -0.058909886659820575, -0.08041913580766888, -0.09499089110753871, -0.10568544972937964, -0.11373169138103574, -0.11977994503233448, -0.12422650718503182, -0.1273338730515883, -0.1292847067681623, -0.13020895521997425, -0.13019811937260406, -0.12931224566387936, -0.12758162288775676, -0.12500285694502616, -0.12152587803687126, -0.1170204911262034, -0.11118100679835928, -0.1031481623024, -0.08358156890455774, -0.08358156890455774, -0.06534518955671943, -0.05830634407184348, -0.05308970905235481, -0.048796610656766236, -0.04507652574218313, -0.04174776261946511, -0.038700434262177556, -0.035860743401103526, -0.03317481287655101, -0.030600168285484897, -0.02810055300121383, -0.02564214443141413, -0.023190012005096326, -0.020703664665205207, -0.01812968010560764, -0.015386262176041892, -0.012321820354587672, -0.008552411516454023, 0.0], \"z\": [0.036618993473686544, 0.03662277190094678, 0.03663637934268916, 0.036661503813130165, 0.036700185273008945, 0.03675491197599965, 0.03682875120681685, 0.036925530148438857, 0.03705009171329105, 0.03720866584784996, 0.037409424987404, 0.037663345527108205, 0.03798560376272717, 0.03839796444316954, 0.0389331623287094, 0.039643718725856425, 0.04062214473884421, 0.04205745930878056, 0.04446255616458008, 0.053667108221823, 0.053667108221823, 0.07018467603744338, 0.08019694501115733, 0.08953944959938372, 0.09873099098407195, 0.10796654003080759, 0.11734460272517272, 0.12692373662217846, 0.13674275243159537, 0.14682952880897412, 0.15720539209111706, 0.16788750294580038, 0.17889025032853598, 0.19022611088741956, 0.2019062022684714, 0.21394065218667616, 0.2263388519386023, 0.23910963486527684, 0.2522614045994538, 0.26580222883407967, 0.26580222883407967, 0.2522614045994538, 0.23910963486527684, 0.2263388519386023, 0.21394065218667616, 0.2019062022684714, 0.19022611088741956, 0.17889025032853598, 0.16788750294580038, 0.15720539209111706, 0.14682952880897412, 0.13674275243159537, 0.12692373662217846, 0.11734460272517272, 0.10796654003080759, 0.09873099098407195, 0.08953944959938372, 0.08019694501115733, 0.07018467603744338, 0.053667108221823, 0.053667108221823, 0.04446255616458008, 0.04205745930878056, 0.04062214473884421, 0.039643718725856425, 0.0389331623287094, 0.03839796444316954, 0.03798560376272717, 0.037663345527108205, 0.037409424987404, 0.03720866584784996, 0.03705009171329105, 0.036925530148438857, 0.03682875120681685, 0.03675491197599965, 0.036700185273008945, 0.036661503813130165, 0.03663637934268916, 0.03662277190094678, 0.036618993473686544], \"mode\": \"lines\", \"showlegend\": false, \"line\": {\"color\": \"rgb(255, 105, 97)\", \"width\": 5}}, {\"type\": \"scatter3d\", \"x\": [0, 0.999329299739067], \"y\": [0, 0.0], \"z\": [0, 0.036618993473686544], \"opacity\": 0.3, \"mode\": \"lines\", \"showlegend\": false, \"line\": {\"color\": \"rgb(255, 105, 97)\"}}, {\"type\": \"scatter3d\", \"x\": [0, 0.9992925641850561], \"y\": [0, 0.008552411516454023], \"z\": [0, 0.03662277190094678], \"opacity\": 0.3, \"mode\": \"lines\", \"showlegend\": false, \"line\": {\"color\": \"rgb(255, 105, 97)\"}}, {\"type\": \"scatter3d\", \"x\": [0, 0.9992526949935175], \"y\": [0, 0.012321820354587672], \"z\": [0, 0.03663637934268916], \"opacity\": 0.3, \"mode\": \"lines\", \"showlegend\": false, \"line\": {\"color\": \"rgb(255, 105, 97)\"}}, {\"type\": \"scatter3d\", \"x\": [0, 0.9992092859228291], \"y\": [0, 0.015386262176041892], \"z\": [0, 0.036661503813130165], \"opacity\": 0.3, \"mode\": \"lines\", \"showlegend\": false, \"line\": {\"color\": \"rgb(255, 105, 97)\"}}, {\"type\": \"scatter3d\", \"x\": [0, 0.9991618543059954], \"y\": [0, 0.01812968010560764], \"z\": [0, 0.036700185273008945], \"opacity\": 0.3, \"mode\": \"lines\", \"showlegend\": false, \"line\": {\"color\": \"rgb(255, 105, 97)\"}}, {\"type\": \"scatter3d\", \"x\": [0, 0.9991098211483397], \"y\": [0, 0.020703664665205207], \"z\": [0, 0.03675491197599965], \"opacity\": 0.3, \"mode\": \"lines\", \"showlegend\": false, \"line\": {\"color\": \"rgb(255, 105, 97)\"}}, {\"type\": \"scatter3d\", \"x\": [0, 0.9990524843208939], \"y\": [0, 0.023190012005096326], \"z\": [0, 0.03682875120681685], \"opacity\": 0.3, \"mode\": \"lines\", \"showlegend\": false, \"line\": {\"color\": \"rgb(255, 105, 97)\"}}, {\"type\": \"scatter3d\", \"x\": [0, 0.9989889817471538], \"y\": [0, 0.02564214443141413], \"z\": [0, 0.036925530148438857], \"opacity\": 0.3, \"mode\": \"lines\", \"showlegend\": false, \"line\": {\"color\": \"rgb(255, 105, 97)\"}}, {\"type\": \"scatter3d\", \"x\": [0, 0.9989182397098687], \"y\": [0, 0.02810055300121383], \"z\": [0, 0.03705009171329105], \"opacity\": 0.3, \"mode\": \"lines\", \"showlegend\": false, \"line\": {\"color\": \"rgb(255, 105, 97)\"}}, {\"type\": \"scatter3d\", \"x\": [0, 0.998838898364858], \"y\": [0, 0.030600168285484897], \"z\": [0, 0.03720866584784996], \"opacity\": 0.3, \"mode\": \"lines\", \"showlegend\": false, \"line\": {\"color\": \"rgb(255, 105, 97)\"}}, {\"type\": \"scatter3d\", \"x\": [0, 0.9987492011074239], \"y\": [0, 0.03317481287655101], \"z\": [0, 0.037409424987404], \"opacity\": 0.3, \"mode\": \"lines\", \"showlegend\": false, \"line\": {\"color\": \"rgb(255, 105, 97)\"}}, {\"type\": \"scatter3d\", \"x\": [0, 0.9986468242008412], \"y\": [0, 0.035860743401103526], \"z\": [0, 0.037663345527108205], \"opacity\": 0.3, \"mode\": \"lines\", \"showlegend\": false, \"line\": {\"color\": \"rgb(255, 105, 97)\"}}, {\"type\": \"scatter3d\", \"x\": [0, 0.9985286026422578], \"y\": [0, 0.038700434262177556], \"z\": [0, 0.03798560376272717], \"opacity\": 0.3, \"mode\": \"lines\", \"showlegend\": false, \"line\": {\"color\": \"rgb(255, 105, 97)\"}}, {\"type\": \"scatter3d\", \"x\": [0, 0.9983900643750867], \"y\": [0, 0.04174776261946511], \"z\": [0, 0.03839796444316954], \"opacity\": 0.3, \"mode\": \"lines\", \"showlegend\": false, \"line\": {\"color\": \"rgb(255, 105, 97)\"}}, {\"type\": \"scatter3d\", \"x\": [0, 0.9982245817941475], \"y\": [0, 0.04507652574218313], \"z\": [0, 0.0389331623287094], \"opacity\": 0.3, \"mode\": \"lines\", \"showlegend\": false, \"line\": {\"color\": \"rgb(255, 105, 97)\"}}, {\"type\": \"scatter3d\", \"x\": [0, 0.998021676294657], \"y\": [0, 0.048796610656766236], \"z\": [0, 0.039643718725856425], \"opacity\": 0.3, \"mode\": \"lines\", \"showlegend\": false, \"line\": {\"color\": \"rgb(255, 105, 97)\"}}, {\"type\": \"scatter3d\", \"x\": [0, 0.9977631603489642], \"y\": [0, 0.05308970905235481], \"z\": [0, 0.04062214473884421], \"opacity\": 0.3, \"mode\": \"lines\", \"showlegend\": false, \"line\": {\"color\": \"rgb(255, 105, 97)\"}}, {\"type\": \"scatter3d\", \"x\": [0, 0.9974124223998145], \"y\": [0, 0.05830634407184348], \"z\": [0, 0.04205745930878056], \"opacity\": 0.3, \"mode\": \"lines\", \"showlegend\": false, \"line\": {\"color\": \"rgb(255, 105, 97)\"}}, {\"type\": \"scatter3d\", \"x\": [0, 0.996871650364834], \"y\": [0, 0.06534518955671943], \"z\": [0, 0.04446255616458008], \"opacity\": 0.3, \"mode\": \"lines\", \"showlegend\": false, \"line\": {\"color\": \"rgb(255, 105, 97)\"}}, {\"type\": \"scatter3d\", \"x\": [0, 0.9950547536867305], \"y\": [0, 0.08358156890455774], \"z\": [0, 0.053667108221823], \"opacity\": 0.3, \"mode\": \"lines\", \"showlegend\": false, \"line\": {\"color\": \"rgb(255, 105, 97)\"}}, {\"type\": \"scatter3d\", \"x\": [0, 0.9950547536867305], \"y\": [0, 0.08358156890455774], \"z\": [0, 0.053667108221823], \"opacity\": 0.3, \"mode\": \"lines\", \"showlegend\": false, \"line\": {\"color\": \"rgb(255, 105, 97)\"}}, {\"type\": \"scatter3d\", \"x\": [0, 0.9921867605764334], \"y\": [0, 0.1031481623024], \"z\": [0, 0.07018467603744338], \"opacity\": 0.3, \"mode\": \"lines\", \"showlegend\": false, \"line\": {\"color\": \"rgb(255, 105, 97)\"}}, {\"type\": \"scatter3d\", \"x\": [0, 0.9905590511111292], \"y\": [0, 0.11118100679835928], \"z\": [0, 0.08019694501115733], \"opacity\": 0.3, \"mode\": \"lines\", \"showlegend\": false, \"line\": {\"color\": \"rgb(255, 105, 97)\"}}, {\"type\": \"scatter3d\", \"x\": [0, 0.989084875843333], \"y\": [0, 0.1170204911262034], \"z\": [0, 0.08953944959938372], \"opacity\": 0.3, \"mode\": \"lines\", \"showlegend\": false, \"line\": {\"color\": \"rgb(255, 105, 97)\"}}, {\"type\": \"scatter3d\", \"x\": [0, 0.9876657594483422], \"y\": [0, 0.12152587803687126], \"z\": [0, 0.09873099098407195], \"opacity\": 0.3, \"mode\": \"lines\", \"showlegend\": false, \"line\": {\"color\": \"rgb(255, 105, 97)\"}}, {\"type\": \"scatter3d\", \"x\": [0, 0.9862644229563172], \"y\": [0, 0.12500285694502616], \"z\": [0, 0.10796654003080759], \"opacity\": 0.3, \"mode\": \"lines\", \"showlegend\": false, \"line\": {\"color\": \"rgb(255, 105, 97)\"}}, {\"type\": \"scatter3d\", \"x\": [0, 0.9848620074470319], \"y\": [0, 0.12758162288775676], \"z\": [0, 0.11734460272517272], \"opacity\": 0.3, \"mode\": \"lines\", \"showlegend\": false, \"line\": {\"color\": \"rgb(255, 105, 97)\"}}, {\"type\": \"scatter3d\", \"x\": [0, 0.983447359141926], \"y\": [0, 0.12931224566387936], \"z\": [0, 0.12692373662217846], \"opacity\": 0.3, \"mode\": \"lines\", \"showlegend\": false, \"line\": {\"color\": \"rgb(255, 105, 97)\"}}, {\"type\": \"scatter3d\", \"x\": [0, 0.9820131716882766], \"y\": [0, 0.13019811937260406], \"z\": [0, 0.13674275243159537], \"opacity\": 0.3, \"mode\": \"lines\", \"showlegend\": false, \"line\": {\"color\": \"rgb(255, 105, 97)\"}}, {\"type\": \"scatter3d\", \"x\": [0, 0.9805542909244023], \"y\": [0, 0.13020895521997425], \"z\": [0, 0.14682952880897412], \"opacity\": 0.3, \"mode\": \"lines\", \"showlegend\": false, \"line\": {\"color\": \"rgb(255, 105, 97)\"}}, {\"type\": \"scatter3d\", \"x\": [0, 0.9790668666099106], \"y\": [0, 0.1292847067681623], \"z\": [0, 0.15720539209111706], \"opacity\": 0.3, \"mode\": \"lines\", \"showlegend\": false, \"line\": {\"color\": \"rgb(255, 105, 97)\"}}, {\"type\": \"scatter3d\", \"x\": [0, 0.9775478868722012], \"y\": [0, 0.1273338730515883], \"z\": [0, 0.16788750294580038], \"opacity\": 0.3, \"mode\": \"lines\", \"showlegend\": false, \"line\": {\"color\": \"rgb(255, 105, 97)\"}}, {\"type\": \"scatter3d\", \"x\": [0, 0.9759949043155917], \"y\": [0, 0.12422650718503182], \"z\": [0, 0.17889025032853598], \"opacity\": 0.3, \"mode\": \"lines\", \"showlegend\": false, \"line\": {\"color\": \"rgb(255, 105, 97)\"}}, {\"type\": \"scatter3d\", \"x\": [0, 0.974405865902242], \"y\": [0, 0.11977994503233448], \"z\": [0, 0.19022611088741956], \"opacity\": 0.3, \"mode\": \"lines\", \"showlegend\": false, \"line\": {\"color\": \"rgb(255, 105, 97)\"}}, {\"type\": \"scatter3d\", \"x\": [0, 0.9727790025803045], \"y\": [0, 0.11373169138103574], \"z\": [0, 0.2019062022684714], \"opacity\": 0.3, \"mode\": \"lines\", \"showlegend\": false, \"line\": {\"color\": \"rgb(255, 105, 97)\"}}, {\"type\": \"scatter3d\", \"x\": [0, 0.9711127550688635], \"y\": [0, 0.10568544972937964], \"z\": [0, 0.21394065218667616], \"opacity\": 0.3, \"mode\": \"lines\", \"showlegend\": false, \"line\": {\"color\": \"rgb(255, 105, 97)\"}}, {\"type\": \"scatter3d\", \"x\": [0, 0.9694057224453089], \"y\": [0, 0.09499089110753871], \"z\": [0, 0.2263388519386023], \"opacity\": 0.3, \"mode\": \"lines\", \"showlegend\": false, \"line\": {\"color\": \"rgb(255, 105, 97)\"}}, {\"type\": \"scatter3d\", \"x\": [0, 0.9676566256221996], \"y\": [0, 0.08041913580766888], \"z\": [0, 0.23910963486527684], \"opacity\": 0.3, \"mode\": \"lines\", \"showlegend\": false, \"line\": {\"color\": \"rgb(255, 105, 97)\"}}, {\"type\": \"scatter3d\", \"x\": [0, 0.9658642808403455], \"y\": [0, 0.058909886659820575], \"z\": [0, 0.2522614045994538], \"opacity\": 0.3, \"mode\": \"lines\", \"showlegend\": false, \"line\": {\"color\": \"rgb(255, 105, 97)\"}}, {\"type\": \"scatter3d\", \"x\": [0, 0.9640275800758169], \"y\": [0, 0.0], \"z\": [0, 0.26580222883407967], \"opacity\": 0.3, \"mode\": \"lines\", \"showlegend\": false, \"line\": {\"color\": \"rgb(255, 105, 97)\"}}, {\"type\": \"scatter3d\", \"x\": [0, 0.9640275800758169], \"y\": [0, 0.0], \"z\": [0, 0.26580222883407967], \"opacity\": 0.3, \"mode\": \"lines\", \"showlegend\": false, \"line\": {\"color\": \"rgb(255, 105, 97)\"}}, {\"type\": \"scatter3d\", \"x\": [0, 0.9658642808403455], \"y\": [0, -0.058909886659820575], \"z\": [0, 0.2522614045994538], \"opacity\": 0.3, \"mode\": \"lines\", \"showlegend\": false, \"line\": {\"color\": \"rgb(255, 105, 97)\"}}, {\"type\": \"scatter3d\", \"x\": [0, 0.9676566256221996], \"y\": [0, -0.08041913580766888], \"z\": [0, 0.23910963486527684], \"opacity\": 0.3, \"mode\": \"lines\", \"showlegend\": false, \"line\": {\"color\": \"rgb(255, 105, 97)\"}}, {\"type\": \"scatter3d\", \"x\": [0, 0.9694057224453089], \"y\": [0, -0.09499089110753871], \"z\": [0, 0.2263388519386023], \"opacity\": 0.3, \"mode\": \"lines\", \"showlegend\": false, \"line\": {\"color\": \"rgb(255, 105, 97)\"}}, {\"type\": \"scatter3d\", \"x\": [0, 0.9711127550688635], \"y\": [0, -0.10568544972937964], \"z\": [0, 0.21394065218667616], \"opacity\": 0.3, \"mode\": \"lines\", \"showlegend\": false, \"line\": {\"color\": \"rgb(255, 105, 97)\"}}, {\"type\": \"scatter3d\", \"x\": [0, 0.9727790025803045], \"y\": [0, -0.11373169138103574], \"z\": [0, 0.2019062022684714], \"opacity\": 0.3, \"mode\": \"lines\", \"showlegend\": false, \"line\": {\"color\": \"rgb(255, 105, 97)\"}}, {\"type\": \"scatter3d\", \"x\": [0, 0.974405865902242], \"y\": [0, -0.11977994503233448], \"z\": [0, 0.19022611088741956], \"opacity\": 0.3, \"mode\": \"lines\", \"showlegend\": false, \"line\": {\"color\": \"rgb(255, 105, 97)\"}}, {\"type\": \"scatter3d\", \"x\": [0, 0.9759949043155917], \"y\": [0, -0.12422650718503182], \"z\": [0, 0.17889025032853598], \"opacity\": 0.3, \"mode\": \"lines\", \"showlegend\": false, \"line\": {\"color\": \"rgb(255, 105, 97)\"}}, {\"type\": \"scatter3d\", \"x\": [0, 0.9775478868722012], \"y\": [0, -0.1273338730515883], \"z\": [0, 0.16788750294580038], \"opacity\": 0.3, \"mode\": \"lines\", \"showlegend\": false, \"line\": {\"color\": \"rgb(255, 105, 97)\"}}, {\"type\": \"scatter3d\", \"x\": [0, 0.9790668666099106], \"y\": [0, -0.1292847067681623], \"z\": [0, 0.15720539209111706], \"opacity\": 0.3, \"mode\": \"lines\", \"showlegend\": false, \"line\": {\"color\": \"rgb(255, 105, 97)\"}}, {\"type\": \"scatter3d\", \"x\": [0, 0.9805542909244023], \"y\": [0, -0.13020895521997425], \"z\": [0, 0.14682952880897412], \"opacity\": 0.3, \"mode\": \"lines\", \"showlegend\": false, \"line\": {\"color\": \"rgb(255, 105, 97)\"}}, {\"type\": \"scatter3d\", \"x\": [0, 0.9820131716882766], \"y\": [0, -0.13019811937260406], \"z\": [0, 0.13674275243159537], \"opacity\": 0.3, \"mode\": \"lines\", \"showlegend\": false, \"line\": {\"color\": \"rgb(255, 105, 97)\"}}, {\"type\": \"scatter3d\", \"x\": [0, 0.983447359141926], \"y\": [0, -0.12931224566387936], \"z\": [0, 0.12692373662217846], \"opacity\": 0.3, \"mode\": \"lines\", \"showlegend\": false, \"line\": {\"color\": \"rgb(255, 105, 97)\"}}, {\"type\": \"scatter3d\", \"x\": [0, 0.9848620074470319], \"y\": [0, -0.12758162288775676], \"z\": [0, 0.11734460272517272], \"opacity\": 0.3, \"mode\": \"lines\", \"showlegend\": false, \"line\": {\"color\": \"rgb(255, 105, 97)\"}}, {\"type\": \"scatter3d\", \"x\": [0, 0.9862644229563172], \"y\": [0, -0.12500285694502616], \"z\": [0, 0.10796654003080759], \"opacity\": 0.3, \"mode\": \"lines\", \"showlegend\": false, \"line\": {\"color\": \"rgb(255, 105, 97)\"}}, {\"type\": \"scatter3d\", \"x\": [0, 0.9876657594483422], \"y\": [0, -0.12152587803687126], \"z\": [0, 0.09873099098407195], \"opacity\": 0.3, \"mode\": \"lines\", \"showlegend\": false, \"line\": {\"color\": \"rgb(255, 105, 97)\"}}, {\"type\": \"scatter3d\", \"x\": [0, 0.989084875843333], \"y\": [0, -0.1170204911262034], \"z\": [0, 0.08953944959938372], \"opacity\": 0.3, \"mode\": \"lines\", \"showlegend\": false, \"line\": {\"color\": \"rgb(255, 105, 97)\"}}, {\"type\": \"scatter3d\", \"x\": [0, 0.9905590511111292], \"y\": [0, -0.11118100679835928], \"z\": [0, 0.08019694501115733], \"opacity\": 0.3, \"mode\": \"lines\", \"showlegend\": false, \"line\": {\"color\": \"rgb(255, 105, 97)\"}}, {\"type\": \"scatter3d\", \"x\": [0, 0.9921867605764334], \"y\": [0, -0.1031481623024], \"z\": [0, 0.07018467603744338], \"opacity\": 0.3, \"mode\": \"lines\", \"showlegend\": false, \"line\": {\"color\": \"rgb(255, 105, 97)\"}}, {\"type\": \"scatter3d\", \"x\": [0, 0.9950547536867305], \"y\": [0, -0.08358156890455774], \"z\": [0, 0.053667108221823], \"opacity\": 0.3, \"mode\": \"lines\", \"showlegend\": false, \"line\": {\"color\": \"rgb(255, 105, 97)\"}}, {\"type\": \"scatter3d\", \"x\": [0, 0.9950547536867305], \"y\": [0, -0.08358156890455774], \"z\": [0, 0.053667108221823], \"opacity\": 0.3, \"mode\": \"lines\", \"showlegend\": false, \"line\": {\"color\": \"rgb(255, 105, 97)\"}}, {\"type\": \"scatter3d\", \"x\": [0, 0.996871650364834], \"y\": [0, -0.06534518955671943], \"z\": [0, 0.04446255616458008], \"opacity\": 0.3, \"mode\": \"lines\", \"showlegend\": false, \"line\": {\"color\": \"rgb(255, 105, 97)\"}}, {\"type\": \"scatter3d\", \"x\": [0, 0.9974124223998145], \"y\": [0, -0.05830634407184348], \"z\": [0, 0.04205745930878056], \"opacity\": 0.3, \"mode\": \"lines\", \"showlegend\": false, \"line\": {\"color\": \"rgb(255, 105, 97)\"}}, {\"type\": \"scatter3d\", \"x\": [0, 0.9977631603489642], \"y\": [0, -0.05308970905235481], \"z\": [0, 0.04062214473884421], \"opacity\": 0.3, \"mode\": \"lines\", \"showlegend\": false, \"line\": {\"color\": \"rgb(255, 105, 97)\"}}, {\"type\": \"scatter3d\", \"x\": [0, 0.998021676294657], \"y\": [0, -0.048796610656766236], \"z\": [0, 0.039643718725856425], \"opacity\": 0.3, \"mode\": \"lines\", \"showlegend\": false, \"line\": {\"color\": \"rgb(255, 105, 97)\"}}, {\"type\": \"scatter3d\", \"x\": [0, 0.9982245817941475], \"y\": [0, -0.04507652574218313], \"z\": [0, 0.0389331623287094], \"opacity\": 0.3, \"mode\": \"lines\", \"showlegend\": false, \"line\": {\"color\": \"rgb(255, 105, 97)\"}}, {\"type\": \"scatter3d\", \"x\": [0, 0.9983900643750867], \"y\": [0, -0.04174776261946511], \"z\": [0, 0.03839796444316954], \"opacity\": 0.3, \"mode\": \"lines\", \"showlegend\": false, \"line\": {\"color\": \"rgb(255, 105, 97)\"}}, {\"type\": \"scatter3d\", \"x\": [0, 0.9985286026422578], \"y\": [0, -0.038700434262177556], \"z\": [0, 0.03798560376272717], \"opacity\": 0.3, \"mode\": \"lines\", \"showlegend\": false, \"line\": {\"color\": \"rgb(255, 105, 97)\"}}, {\"type\": \"scatter3d\", \"x\": [0, 0.9986468242008412], \"y\": [0, -0.035860743401103526], \"z\": [0, 0.037663345527108205], \"opacity\": 0.3, \"mode\": \"lines\", \"showlegend\": false, \"line\": {\"color\": \"rgb(255, 105, 97)\"}}, {\"type\": \"scatter3d\", \"x\": [0, 0.9987492011074239], \"y\": [0, -0.03317481287655101], \"z\": [0, 0.037409424987404], \"opacity\": 0.3, \"mode\": \"lines\", \"showlegend\": false, \"line\": {\"color\": \"rgb(255, 105, 97)\"}}, {\"type\": \"scatter3d\", \"x\": [0, 0.998838898364858], \"y\": [0, -0.030600168285484897], \"z\": [0, 0.03720866584784996], \"opacity\": 0.3, \"mode\": \"lines\", \"showlegend\": false, \"line\": {\"color\": \"rgb(255, 105, 97)\"}}, {\"type\": \"scatter3d\", \"x\": [0, 0.9989182397098687], \"y\": [0, -0.02810055300121383], \"z\": [0, 0.03705009171329105], \"opacity\": 0.3, \"mode\": \"lines\", \"showlegend\": false, \"line\": {\"color\": \"rgb(255, 105, 97)\"}}, {\"type\": \"scatter3d\", \"x\": [0, 0.9989889817471538], \"y\": [0, -0.02564214443141413], \"z\": [0, 0.036925530148438857], \"opacity\": 0.3, \"mode\": \"lines\", \"showlegend\": false, \"line\": {\"color\": \"rgb(255, 105, 97)\"}}, {\"type\": \"scatter3d\", \"x\": [0, 0.9990524843208939], \"y\": [0, -0.023190012005096326], \"z\": [0, 0.03682875120681685], \"opacity\": 0.3, \"mode\": \"lines\", \"showlegend\": false, \"line\": {\"color\": \"rgb(255, 105, 97)\"}}, {\"type\": \"scatter3d\", \"x\": [0, 0.9991098211483397], \"y\": [0, -0.020703664665205207], \"z\": [0, 0.03675491197599965], \"opacity\": 0.3, \"mode\": \"lines\", \"showlegend\": false, \"line\": {\"color\": \"rgb(255, 105, 97)\"}}, {\"type\": \"scatter3d\", \"x\": [0, 0.9991618543059954], \"y\": [0, -0.01812968010560764], \"z\": [0, 0.036700185273008945], \"opacity\": 0.3, \"mode\": \"lines\", \"showlegend\": false, \"line\": {\"color\": \"rgb(255, 105, 97)\"}}, {\"type\": \"scatter3d\", \"x\": [0, 0.9992092859228291], \"y\": [0, -0.015386262176041892], \"z\": [0, 0.036661503813130165], \"opacity\": 0.3, \"mode\": \"lines\", \"showlegend\": false, \"line\": {\"color\": \"rgb(255, 105, 97)\"}}, {\"type\": \"scatter3d\", \"x\": [0, 0.9992526949935175], \"y\": [0, -0.012321820354587672], \"z\": [0, 0.03663637934268916], \"opacity\": 0.3, \"mode\": \"lines\", \"showlegend\": false, \"line\": {\"color\": \"rgb(255, 105, 97)\"}}, {\"type\": \"scatter3d\", \"x\": [0, 0.9992925641850561], \"y\": [0, -0.008552411516454023], \"z\": [0, 0.03662277190094678], \"opacity\": 0.3, \"mode\": \"lines\", \"showlegend\": false, \"line\": {\"color\": \"rgb(255, 105, 97)\"}}, {\"type\": \"scatter3d\", \"x\": [0, 0.999329299739067], \"y\": [0, 0.0], \"z\": [0, 0.036618993473686544], \"opacity\": 0.3, \"mode\": \"lines\", \"showlegend\": false, \"line\": {\"color\": \"rgb(255, 105, 97)\"}}], {\"margin\": {\"l\": 0, \"r\": 0, \"b\": 0, \"t\": 0}, \"scene\": {\"xaxis\": {\"title\": \"Z\"}, \"yaxis\": {\"title\": \"Y\"}, \"zaxis\": {\"title\": \"X\"}}}, {\"showLink\": true, \"linkText\": \"Export to plot.ly\"})});</script>"
      ],
      "text/vnd.plotly.v1+html": [
       "<div id=\"000fd369-d3da-4f0d-a05b-d9337d1f497e\" style=\"height: 525px; width: 100%;\" class=\"plotly-graph-div\"></div><script type=\"text/javascript\">require([\"plotly\"], function(Plotly) { window.PLOTLYENV=window.PLOTLYENV || {};window.PLOTLYENV.BASE_URL=\"https://plot.ly\";Plotly.newPlot(\"000fd369-d3da-4f0d-a05b-d9337d1f497e\", [{\"type\": \"scatter3d\", \"x\": [-1.0, 1.0], \"y\": [0, 0], \"z\": [0, 0], \"mode\": \"lines\", \"showlegend\": false, \"line\": {\"color\": \"rgb(0,33,71)\", \"width\": 5}}, {\"type\": \"surface\", \"x\": [[-1.0, -1.0, -1.0, -1.0, -1.0, -1.0, -1.0, -1.0, -1.0, -1.0], [1.0, 1.0, 1.0, 1.0, 1.0, 1.0, 1.0, 1.0, 1.0, 1.0]], \"y\": [[0.0, 0.342020143325669, 0.6427876096865394, 0.8660254037844386, 0.984807753012208, 0.984807753012208, 0.8660254037844388, 0.6427876096865395, 0.342020143325669, 0.0], [0.0, 0.342020143325669, 0.6427876096865394, 0.8660254037844386, 0.984807753012208, 0.984807753012208, 0.8660254037844388, 0.6427876096865395, 0.342020143325669, 0.0]], \"z\": [[-1.0, -0.9396926207859083, -0.766044443118978, -0.5, -0.17364817766693036, 0.17364817766693036, 0.49999999999999983, 0.7660444431189779, 0.9396926207859083, 1.0], [-1.0, -0.9396926207859083, -0.766044443118978, -0.5, -0.17364817766693036, 0.17364817766693036, 0.49999999999999983, 0.7660444431189779, 0.9396926207859083, 1.0]], \"surfacecolor\": [1, 1], \"showscale\": false, \"opacity\": 0.4}, {\"type\": \"surface\", \"x\": [[-1.0, -1.0, -1.0, -1.0, -1.0, -1.0, -1.0, -1.0, -1.0, -1.0], [1.0, 1.0, 1.0, 1.0, 1.0, 1.0, 1.0, 1.0, 1.0, 1.0]], \"y\": [[-0.0, -0.342020143325669, -0.6427876096865394, -0.8660254037844386, -0.984807753012208, -0.984807753012208, -0.8660254037844388, -0.6427876096865395, -0.342020143325669, -0.0], [-0.0, -0.342020143325669, -0.6427876096865394, -0.8660254037844386, -0.984807753012208, -0.984807753012208, -0.8660254037844388, -0.6427876096865395, -0.342020143325669, -0.0]], \"z\": [[-1.0, -0.9396926207859083, -0.766044443118978, -0.5, -0.17364817766693036, 0.17364817766693036, 0.49999999999999983, 0.7660444431189779, 0.9396926207859083, 1.0], [-1.0, -0.9396926207859083, -0.766044443118978, -0.5, -0.17364817766693036, 0.17364817766693036, 0.49999999999999983, 0.7660444431189779, 0.9396926207859083, 1.0]], \"surfacecolor\": [1, 1], \"showscale\": false, \"opacity\": 0.4}, {\"type\": \"scatter3d\", \"x\": [0.0, 0.9950547536867305], \"y\": [0.0, 0.0], \"z\": [0.0, 0.09932792741943323], \"mode\": \"lines\", \"showlegend\": false, \"line\": {\"color\": \"rgb(255, 105, 97)\", \"width\": 7}}, {\"type\": \"scatter3d\", \"x\": [0.999329299739067, 0.9992925641850561, 0.9992526949935175, 0.9992092859228291, 0.9991618543059954, 0.9991098211483397, 0.9990524843208939, 0.9989889817471538, 0.9989182397098687, 0.998838898364858, 0.9987492011074239, 0.9986468242008412, 0.9985286026422578, 0.9983900643750867, 0.9982245817941475, 0.998021676294657, 0.9977631603489642, 0.9974124223998145, 0.996871650364834, 0.9950547536867305, 0.9950547536867305, 0.9921867605764334, 0.9905590511111292, 0.989084875843333, 0.9876657594483422, 0.9862644229563172, 0.9848620074470319, 0.983447359141926, 0.9820131716882766, 0.9805542909244023, 0.9790668666099106, 0.9775478868722012, 0.9759949043155917, 0.974405865902242, 0.9727790025803045, 0.9711127550688635, 0.9694057224453089, 0.9676566256221996, 0.9658642808403455, 0.9640275800758169, 0.9640275800758169, 0.9658642808403455, 0.9676566256221996, 0.9694057224453089, 0.9711127550688635, 0.9727790025803045, 0.974405865902242, 0.9759949043155917, 0.9775478868722012, 0.9790668666099106, 0.9805542909244023, 0.9820131716882766, 0.983447359141926, 0.9848620074470319, 0.9862644229563172, 0.9876657594483422, 0.989084875843333, 0.9905590511111292, 0.9921867605764334, 0.9950547536867305, 0.9950547536867305, 0.996871650364834, 0.9974124223998145, 0.9977631603489642, 0.998021676294657, 0.9982245817941475, 0.9983900643750867, 0.9985286026422578, 0.9986468242008412, 0.9987492011074239, 0.998838898364858, 0.9989182397098687, 0.9989889817471538, 0.9990524843208939, 0.9991098211483397, 0.9991618543059954, 0.9992092859228291, 0.9992526949935175, 0.9992925641850561, 0.999329299739067], \"y\": [0.0, 0.008552411516454023, 0.012321820354587672, 0.015386262176041892, 0.01812968010560764, 0.020703664665205207, 0.023190012005096326, 0.02564214443141413, 0.02810055300121383, 0.030600168285484897, 0.03317481287655101, 0.035860743401103526, 0.038700434262177556, 0.04174776261946511, 0.04507652574218313, 0.048796610656766236, 0.05308970905235481, 0.05830634407184348, 0.06534518955671943, 0.08358156890455774, 0.08358156890455774, 0.1031481623024, 0.11118100679835928, 0.1170204911262034, 0.12152587803687126, 0.12500285694502616, 0.12758162288775676, 0.12931224566387936, 0.13019811937260406, 0.13020895521997425, 0.1292847067681623, 0.1273338730515883, 0.12422650718503182, 0.11977994503233448, 0.11373169138103574, 0.10568544972937964, 0.09499089110753871, 0.08041913580766888, 0.058909886659820575, 0.0, 0.0, -0.058909886659820575, -0.08041913580766888, -0.09499089110753871, -0.10568544972937964, -0.11373169138103574, -0.11977994503233448, -0.12422650718503182, -0.1273338730515883, -0.1292847067681623, -0.13020895521997425, -0.13019811937260406, -0.12931224566387936, -0.12758162288775676, -0.12500285694502616, -0.12152587803687126, -0.1170204911262034, -0.11118100679835928, -0.1031481623024, -0.08358156890455774, -0.08358156890455774, -0.06534518955671943, -0.05830634407184348, -0.05308970905235481, -0.048796610656766236, -0.04507652574218313, -0.04174776261946511, -0.038700434262177556, -0.035860743401103526, -0.03317481287655101, -0.030600168285484897, -0.02810055300121383, -0.02564214443141413, -0.023190012005096326, -0.020703664665205207, -0.01812968010560764, -0.015386262176041892, -0.012321820354587672, -0.008552411516454023, 0.0], \"z\": [0.036618993473686544, 0.03662277190094678, 0.03663637934268916, 0.036661503813130165, 0.036700185273008945, 0.03675491197599965, 0.03682875120681685, 0.036925530148438857, 0.03705009171329105, 0.03720866584784996, 0.037409424987404, 0.037663345527108205, 0.03798560376272717, 0.03839796444316954, 0.0389331623287094, 0.039643718725856425, 0.04062214473884421, 0.04205745930878056, 0.04446255616458008, 0.053667108221823, 0.053667108221823, 0.07018467603744338, 0.08019694501115733, 0.08953944959938372, 0.09873099098407195, 0.10796654003080759, 0.11734460272517272, 0.12692373662217846, 0.13674275243159537, 0.14682952880897412, 0.15720539209111706, 0.16788750294580038, 0.17889025032853598, 0.19022611088741956, 0.2019062022684714, 0.21394065218667616, 0.2263388519386023, 0.23910963486527684, 0.2522614045994538, 0.26580222883407967, 0.26580222883407967, 0.2522614045994538, 0.23910963486527684, 0.2263388519386023, 0.21394065218667616, 0.2019062022684714, 0.19022611088741956, 0.17889025032853598, 0.16788750294580038, 0.15720539209111706, 0.14682952880897412, 0.13674275243159537, 0.12692373662217846, 0.11734460272517272, 0.10796654003080759, 0.09873099098407195, 0.08953944959938372, 0.08019694501115733, 0.07018467603744338, 0.053667108221823, 0.053667108221823, 0.04446255616458008, 0.04205745930878056, 0.04062214473884421, 0.039643718725856425, 0.0389331623287094, 0.03839796444316954, 0.03798560376272717, 0.037663345527108205, 0.037409424987404, 0.03720866584784996, 0.03705009171329105, 0.036925530148438857, 0.03682875120681685, 0.03675491197599965, 0.036700185273008945, 0.036661503813130165, 0.03663637934268916, 0.03662277190094678, 0.036618993473686544], \"mode\": \"lines\", \"showlegend\": false, \"line\": {\"color\": \"rgb(255, 105, 97)\", \"width\": 5}}, {\"type\": \"scatter3d\", \"x\": [0, 0.999329299739067], \"y\": [0, 0.0], \"z\": [0, 0.036618993473686544], \"opacity\": 0.3, \"mode\": \"lines\", \"showlegend\": false, \"line\": {\"color\": \"rgb(255, 105, 97)\"}}, {\"type\": \"scatter3d\", \"x\": [0, 0.9992925641850561], \"y\": [0, 0.008552411516454023], \"z\": [0, 0.03662277190094678], \"opacity\": 0.3, \"mode\": \"lines\", \"showlegend\": false, \"line\": {\"color\": \"rgb(255, 105, 97)\"}}, {\"type\": \"scatter3d\", \"x\": [0, 0.9992526949935175], \"y\": [0, 0.012321820354587672], \"z\": [0, 0.03663637934268916], \"opacity\": 0.3, \"mode\": \"lines\", \"showlegend\": false, \"line\": {\"color\": \"rgb(255, 105, 97)\"}}, {\"type\": \"scatter3d\", \"x\": [0, 0.9992092859228291], \"y\": [0, 0.015386262176041892], \"z\": [0, 0.036661503813130165], \"opacity\": 0.3, \"mode\": \"lines\", \"showlegend\": false, \"line\": {\"color\": \"rgb(255, 105, 97)\"}}, {\"type\": \"scatter3d\", \"x\": [0, 0.9991618543059954], \"y\": [0, 0.01812968010560764], \"z\": [0, 0.036700185273008945], \"opacity\": 0.3, \"mode\": \"lines\", \"showlegend\": false, \"line\": {\"color\": \"rgb(255, 105, 97)\"}}, {\"type\": \"scatter3d\", \"x\": [0, 0.9991098211483397], \"y\": [0, 0.020703664665205207], \"z\": [0, 0.03675491197599965], \"opacity\": 0.3, \"mode\": \"lines\", \"showlegend\": false, \"line\": {\"color\": \"rgb(255, 105, 97)\"}}, {\"type\": \"scatter3d\", \"x\": [0, 0.9990524843208939], \"y\": [0, 0.023190012005096326], \"z\": [0, 0.03682875120681685], \"opacity\": 0.3, \"mode\": \"lines\", \"showlegend\": false, \"line\": {\"color\": \"rgb(255, 105, 97)\"}}, {\"type\": \"scatter3d\", \"x\": [0, 0.9989889817471538], \"y\": [0, 0.02564214443141413], \"z\": [0, 0.036925530148438857], \"opacity\": 0.3, \"mode\": \"lines\", \"showlegend\": false, \"line\": {\"color\": \"rgb(255, 105, 97)\"}}, {\"type\": \"scatter3d\", \"x\": [0, 0.9989182397098687], \"y\": [0, 0.02810055300121383], \"z\": [0, 0.03705009171329105], \"opacity\": 0.3, \"mode\": \"lines\", \"showlegend\": false, \"line\": {\"color\": \"rgb(255, 105, 97)\"}}, {\"type\": \"scatter3d\", \"x\": [0, 0.998838898364858], \"y\": [0, 0.030600168285484897], \"z\": [0, 0.03720866584784996], \"opacity\": 0.3, \"mode\": \"lines\", \"showlegend\": false, \"line\": {\"color\": \"rgb(255, 105, 97)\"}}, {\"type\": \"scatter3d\", \"x\": [0, 0.9987492011074239], \"y\": [0, 0.03317481287655101], \"z\": [0, 0.037409424987404], \"opacity\": 0.3, \"mode\": \"lines\", \"showlegend\": false, \"line\": {\"color\": \"rgb(255, 105, 97)\"}}, {\"type\": \"scatter3d\", \"x\": [0, 0.9986468242008412], \"y\": [0, 0.035860743401103526], \"z\": [0, 0.037663345527108205], \"opacity\": 0.3, \"mode\": \"lines\", \"showlegend\": false, \"line\": {\"color\": \"rgb(255, 105, 97)\"}}, {\"type\": \"scatter3d\", \"x\": [0, 0.9985286026422578], \"y\": [0, 0.038700434262177556], \"z\": [0, 0.03798560376272717], \"opacity\": 0.3, \"mode\": \"lines\", \"showlegend\": false, \"line\": {\"color\": \"rgb(255, 105, 97)\"}}, {\"type\": \"scatter3d\", \"x\": [0, 0.9983900643750867], \"y\": [0, 0.04174776261946511], \"z\": [0, 0.03839796444316954], \"opacity\": 0.3, \"mode\": \"lines\", \"showlegend\": false, \"line\": {\"color\": \"rgb(255, 105, 97)\"}}, {\"type\": \"scatter3d\", \"x\": [0, 0.9982245817941475], \"y\": [0, 0.04507652574218313], \"z\": [0, 0.0389331623287094], \"opacity\": 0.3, \"mode\": \"lines\", \"showlegend\": false, \"line\": {\"color\": \"rgb(255, 105, 97)\"}}, {\"type\": \"scatter3d\", \"x\": [0, 0.998021676294657], \"y\": [0, 0.048796610656766236], \"z\": [0, 0.039643718725856425], \"opacity\": 0.3, \"mode\": \"lines\", \"showlegend\": false, \"line\": {\"color\": \"rgb(255, 105, 97)\"}}, {\"type\": \"scatter3d\", \"x\": [0, 0.9977631603489642], \"y\": [0, 0.05308970905235481], \"z\": [0, 0.04062214473884421], \"opacity\": 0.3, \"mode\": \"lines\", \"showlegend\": false, \"line\": {\"color\": \"rgb(255, 105, 97)\"}}, {\"type\": \"scatter3d\", \"x\": [0, 0.9974124223998145], \"y\": [0, 0.05830634407184348], \"z\": [0, 0.04205745930878056], \"opacity\": 0.3, \"mode\": \"lines\", \"showlegend\": false, \"line\": {\"color\": \"rgb(255, 105, 97)\"}}, {\"type\": \"scatter3d\", \"x\": [0, 0.996871650364834], \"y\": [0, 0.06534518955671943], \"z\": [0, 0.04446255616458008], \"opacity\": 0.3, \"mode\": \"lines\", \"showlegend\": false, \"line\": {\"color\": \"rgb(255, 105, 97)\"}}, {\"type\": \"scatter3d\", \"x\": [0, 0.9950547536867305], \"y\": [0, 0.08358156890455774], \"z\": [0, 0.053667108221823], \"opacity\": 0.3, \"mode\": \"lines\", \"showlegend\": false, \"line\": {\"color\": \"rgb(255, 105, 97)\"}}, {\"type\": \"scatter3d\", \"x\": [0, 0.9950547536867305], \"y\": [0, 0.08358156890455774], \"z\": [0, 0.053667108221823], \"opacity\": 0.3, \"mode\": \"lines\", \"showlegend\": false, \"line\": {\"color\": \"rgb(255, 105, 97)\"}}, {\"type\": \"scatter3d\", \"x\": [0, 0.9921867605764334], \"y\": [0, 0.1031481623024], \"z\": [0, 0.07018467603744338], \"opacity\": 0.3, \"mode\": \"lines\", \"showlegend\": false, \"line\": {\"color\": \"rgb(255, 105, 97)\"}}, {\"type\": \"scatter3d\", \"x\": [0, 0.9905590511111292], \"y\": [0, 0.11118100679835928], \"z\": [0, 0.08019694501115733], \"opacity\": 0.3, \"mode\": \"lines\", \"showlegend\": false, \"line\": {\"color\": \"rgb(255, 105, 97)\"}}, {\"type\": \"scatter3d\", \"x\": [0, 0.989084875843333], \"y\": [0, 0.1170204911262034], \"z\": [0, 0.08953944959938372], \"opacity\": 0.3, \"mode\": \"lines\", \"showlegend\": false, \"line\": {\"color\": \"rgb(255, 105, 97)\"}}, {\"type\": \"scatter3d\", \"x\": [0, 0.9876657594483422], \"y\": [0, 0.12152587803687126], \"z\": [0, 0.09873099098407195], \"opacity\": 0.3, \"mode\": \"lines\", \"showlegend\": false, \"line\": {\"color\": \"rgb(255, 105, 97)\"}}, {\"type\": \"scatter3d\", \"x\": [0, 0.9862644229563172], \"y\": [0, 0.12500285694502616], \"z\": [0, 0.10796654003080759], \"opacity\": 0.3, \"mode\": \"lines\", \"showlegend\": false, \"line\": {\"color\": \"rgb(255, 105, 97)\"}}, {\"type\": \"scatter3d\", \"x\": [0, 0.9848620074470319], \"y\": [0, 0.12758162288775676], \"z\": [0, 0.11734460272517272], \"opacity\": 0.3, \"mode\": \"lines\", \"showlegend\": false, \"line\": {\"color\": \"rgb(255, 105, 97)\"}}, {\"type\": \"scatter3d\", \"x\": [0, 0.983447359141926], \"y\": [0, 0.12931224566387936], \"z\": [0, 0.12692373662217846], \"opacity\": 0.3, \"mode\": \"lines\", \"showlegend\": false, \"line\": {\"color\": \"rgb(255, 105, 97)\"}}, {\"type\": \"scatter3d\", \"x\": [0, 0.9820131716882766], \"y\": [0, 0.13019811937260406], \"z\": [0, 0.13674275243159537], \"opacity\": 0.3, \"mode\": \"lines\", \"showlegend\": false, \"line\": {\"color\": \"rgb(255, 105, 97)\"}}, {\"type\": \"scatter3d\", \"x\": [0, 0.9805542909244023], \"y\": [0, 0.13020895521997425], \"z\": [0, 0.14682952880897412], \"opacity\": 0.3, \"mode\": \"lines\", \"showlegend\": false, \"line\": {\"color\": \"rgb(255, 105, 97)\"}}, {\"type\": \"scatter3d\", \"x\": [0, 0.9790668666099106], \"y\": [0, 0.1292847067681623], \"z\": [0, 0.15720539209111706], \"opacity\": 0.3, \"mode\": \"lines\", \"showlegend\": false, \"line\": {\"color\": \"rgb(255, 105, 97)\"}}, {\"type\": \"scatter3d\", \"x\": [0, 0.9775478868722012], \"y\": [0, 0.1273338730515883], \"z\": [0, 0.16788750294580038], \"opacity\": 0.3, \"mode\": \"lines\", \"showlegend\": false, \"line\": {\"color\": \"rgb(255, 105, 97)\"}}, {\"type\": \"scatter3d\", \"x\": [0, 0.9759949043155917], \"y\": [0, 0.12422650718503182], \"z\": [0, 0.17889025032853598], \"opacity\": 0.3, \"mode\": \"lines\", \"showlegend\": false, \"line\": {\"color\": \"rgb(255, 105, 97)\"}}, {\"type\": \"scatter3d\", \"x\": [0, 0.974405865902242], \"y\": [0, 0.11977994503233448], \"z\": [0, 0.19022611088741956], \"opacity\": 0.3, \"mode\": \"lines\", \"showlegend\": false, \"line\": {\"color\": \"rgb(255, 105, 97)\"}}, {\"type\": \"scatter3d\", \"x\": [0, 0.9727790025803045], \"y\": [0, 0.11373169138103574], \"z\": [0, 0.2019062022684714], \"opacity\": 0.3, \"mode\": \"lines\", \"showlegend\": false, \"line\": {\"color\": \"rgb(255, 105, 97)\"}}, {\"type\": \"scatter3d\", \"x\": [0, 0.9711127550688635], \"y\": [0, 0.10568544972937964], \"z\": [0, 0.21394065218667616], \"opacity\": 0.3, \"mode\": \"lines\", \"showlegend\": false, \"line\": {\"color\": \"rgb(255, 105, 97)\"}}, {\"type\": \"scatter3d\", \"x\": [0, 0.9694057224453089], \"y\": [0, 0.09499089110753871], \"z\": [0, 0.2263388519386023], \"opacity\": 0.3, \"mode\": \"lines\", \"showlegend\": false, \"line\": {\"color\": \"rgb(255, 105, 97)\"}}, {\"type\": \"scatter3d\", \"x\": [0, 0.9676566256221996], \"y\": [0, 0.08041913580766888], \"z\": [0, 0.23910963486527684], \"opacity\": 0.3, \"mode\": \"lines\", \"showlegend\": false, \"line\": {\"color\": \"rgb(255, 105, 97)\"}}, {\"type\": \"scatter3d\", \"x\": [0, 0.9658642808403455], \"y\": [0, 0.058909886659820575], \"z\": [0, 0.2522614045994538], \"opacity\": 0.3, \"mode\": \"lines\", \"showlegend\": false, \"line\": {\"color\": \"rgb(255, 105, 97)\"}}, {\"type\": \"scatter3d\", \"x\": [0, 0.9640275800758169], \"y\": [0, 0.0], \"z\": [0, 0.26580222883407967], \"opacity\": 0.3, \"mode\": \"lines\", \"showlegend\": false, \"line\": {\"color\": \"rgb(255, 105, 97)\"}}, {\"type\": \"scatter3d\", \"x\": [0, 0.9640275800758169], \"y\": [0, 0.0], \"z\": [0, 0.26580222883407967], \"opacity\": 0.3, \"mode\": \"lines\", \"showlegend\": false, \"line\": {\"color\": \"rgb(255, 105, 97)\"}}, {\"type\": \"scatter3d\", \"x\": [0, 0.9658642808403455], \"y\": [0, -0.058909886659820575], \"z\": [0, 0.2522614045994538], \"opacity\": 0.3, \"mode\": \"lines\", \"showlegend\": false, \"line\": {\"color\": \"rgb(255, 105, 97)\"}}, {\"type\": \"scatter3d\", \"x\": [0, 0.9676566256221996], \"y\": [0, -0.08041913580766888], \"z\": [0, 0.23910963486527684], \"opacity\": 0.3, \"mode\": \"lines\", \"showlegend\": false, \"line\": {\"color\": \"rgb(255, 105, 97)\"}}, {\"type\": \"scatter3d\", \"x\": [0, 0.9694057224453089], \"y\": [0, -0.09499089110753871], \"z\": [0, 0.2263388519386023], \"opacity\": 0.3, \"mode\": \"lines\", \"showlegend\": false, \"line\": {\"color\": \"rgb(255, 105, 97)\"}}, {\"type\": \"scatter3d\", \"x\": [0, 0.9711127550688635], \"y\": [0, -0.10568544972937964], \"z\": [0, 0.21394065218667616], \"opacity\": 0.3, \"mode\": \"lines\", \"showlegend\": false, \"line\": {\"color\": \"rgb(255, 105, 97)\"}}, {\"type\": \"scatter3d\", \"x\": [0, 0.9727790025803045], \"y\": [0, -0.11373169138103574], \"z\": [0, 0.2019062022684714], \"opacity\": 0.3, \"mode\": \"lines\", \"showlegend\": false, \"line\": {\"color\": \"rgb(255, 105, 97)\"}}, {\"type\": \"scatter3d\", \"x\": [0, 0.974405865902242], \"y\": [0, -0.11977994503233448], \"z\": [0, 0.19022611088741956], \"opacity\": 0.3, \"mode\": \"lines\", \"showlegend\": false, \"line\": {\"color\": \"rgb(255, 105, 97)\"}}, {\"type\": \"scatter3d\", \"x\": [0, 0.9759949043155917], \"y\": [0, -0.12422650718503182], \"z\": [0, 0.17889025032853598], \"opacity\": 0.3, \"mode\": \"lines\", \"showlegend\": false, \"line\": {\"color\": \"rgb(255, 105, 97)\"}}, {\"type\": \"scatter3d\", \"x\": [0, 0.9775478868722012], \"y\": [0, -0.1273338730515883], \"z\": [0, 0.16788750294580038], \"opacity\": 0.3, \"mode\": \"lines\", \"showlegend\": false, \"line\": {\"color\": \"rgb(255, 105, 97)\"}}, {\"type\": \"scatter3d\", \"x\": [0, 0.9790668666099106], \"y\": [0, -0.1292847067681623], \"z\": [0, 0.15720539209111706], \"opacity\": 0.3, \"mode\": \"lines\", \"showlegend\": false, \"line\": {\"color\": \"rgb(255, 105, 97)\"}}, {\"type\": \"scatter3d\", \"x\": [0, 0.9805542909244023], \"y\": [0, -0.13020895521997425], \"z\": [0, 0.14682952880897412], \"opacity\": 0.3, \"mode\": \"lines\", \"showlegend\": false, \"line\": {\"color\": \"rgb(255, 105, 97)\"}}, {\"type\": \"scatter3d\", \"x\": [0, 0.9820131716882766], \"y\": [0, -0.13019811937260406], \"z\": [0, 0.13674275243159537], \"opacity\": 0.3, \"mode\": \"lines\", \"showlegend\": false, \"line\": {\"color\": \"rgb(255, 105, 97)\"}}, {\"type\": \"scatter3d\", \"x\": [0, 0.983447359141926], \"y\": [0, -0.12931224566387936], \"z\": [0, 0.12692373662217846], \"opacity\": 0.3, \"mode\": \"lines\", \"showlegend\": false, \"line\": {\"color\": \"rgb(255, 105, 97)\"}}, {\"type\": \"scatter3d\", \"x\": [0, 0.9848620074470319], \"y\": [0, -0.12758162288775676], \"z\": [0, 0.11734460272517272], \"opacity\": 0.3, \"mode\": \"lines\", \"showlegend\": false, \"line\": {\"color\": \"rgb(255, 105, 97)\"}}, {\"type\": \"scatter3d\", \"x\": [0, 0.9862644229563172], \"y\": [0, -0.12500285694502616], \"z\": [0, 0.10796654003080759], \"opacity\": 0.3, \"mode\": \"lines\", \"showlegend\": false, \"line\": {\"color\": \"rgb(255, 105, 97)\"}}, {\"type\": \"scatter3d\", \"x\": [0, 0.9876657594483422], \"y\": [0, -0.12152587803687126], \"z\": [0, 0.09873099098407195], \"opacity\": 0.3, \"mode\": \"lines\", \"showlegend\": false, \"line\": {\"color\": \"rgb(255, 105, 97)\"}}, {\"type\": \"scatter3d\", \"x\": [0, 0.989084875843333], \"y\": [0, -0.1170204911262034], \"z\": [0, 0.08953944959938372], \"opacity\": 0.3, \"mode\": \"lines\", \"showlegend\": false, \"line\": {\"color\": \"rgb(255, 105, 97)\"}}, {\"type\": \"scatter3d\", \"x\": [0, 0.9905590511111292], \"y\": [0, -0.11118100679835928], \"z\": [0, 0.08019694501115733], \"opacity\": 0.3, \"mode\": \"lines\", \"showlegend\": false, \"line\": {\"color\": \"rgb(255, 105, 97)\"}}, {\"type\": \"scatter3d\", \"x\": [0, 0.9921867605764334], \"y\": [0, -0.1031481623024], \"z\": [0, 0.07018467603744338], \"opacity\": 0.3, \"mode\": \"lines\", \"showlegend\": false, \"line\": {\"color\": \"rgb(255, 105, 97)\"}}, {\"type\": \"scatter3d\", \"x\": [0, 0.9950547536867305], \"y\": [0, -0.08358156890455774], \"z\": [0, 0.053667108221823], \"opacity\": 0.3, \"mode\": \"lines\", \"showlegend\": false, \"line\": {\"color\": \"rgb(255, 105, 97)\"}}, {\"type\": \"scatter3d\", \"x\": [0, 0.9950547536867305], \"y\": [0, -0.08358156890455774], \"z\": [0, 0.053667108221823], \"opacity\": 0.3, \"mode\": \"lines\", \"showlegend\": false, \"line\": {\"color\": \"rgb(255, 105, 97)\"}}, {\"type\": \"scatter3d\", \"x\": [0, 0.996871650364834], \"y\": [0, -0.06534518955671943], \"z\": [0, 0.04446255616458008], \"opacity\": 0.3, \"mode\": \"lines\", \"showlegend\": false, \"line\": {\"color\": \"rgb(255, 105, 97)\"}}, {\"type\": \"scatter3d\", \"x\": [0, 0.9974124223998145], \"y\": [0, -0.05830634407184348], \"z\": [0, 0.04205745930878056], \"opacity\": 0.3, \"mode\": \"lines\", \"showlegend\": false, \"line\": {\"color\": \"rgb(255, 105, 97)\"}}, {\"type\": \"scatter3d\", \"x\": [0, 0.9977631603489642], \"y\": [0, -0.05308970905235481], \"z\": [0, 0.04062214473884421], \"opacity\": 0.3, \"mode\": \"lines\", \"showlegend\": false, \"line\": {\"color\": \"rgb(255, 105, 97)\"}}, {\"type\": \"scatter3d\", \"x\": [0, 0.998021676294657], \"y\": [0, -0.048796610656766236], \"z\": [0, 0.039643718725856425], \"opacity\": 0.3, \"mode\": \"lines\", \"showlegend\": false, \"line\": {\"color\": \"rgb(255, 105, 97)\"}}, {\"type\": \"scatter3d\", \"x\": [0, 0.9982245817941475], \"y\": [0, -0.04507652574218313], \"z\": [0, 0.0389331623287094], \"opacity\": 0.3, \"mode\": \"lines\", \"showlegend\": false, \"line\": {\"color\": \"rgb(255, 105, 97)\"}}, {\"type\": \"scatter3d\", \"x\": [0, 0.9983900643750867], \"y\": [0, -0.04174776261946511], \"z\": [0, 0.03839796444316954], \"opacity\": 0.3, \"mode\": \"lines\", \"showlegend\": false, \"line\": {\"color\": \"rgb(255, 105, 97)\"}}, {\"type\": \"scatter3d\", \"x\": [0, 0.9985286026422578], \"y\": [0, -0.038700434262177556], \"z\": [0, 0.03798560376272717], \"opacity\": 0.3, \"mode\": \"lines\", \"showlegend\": false, \"line\": {\"color\": \"rgb(255, 105, 97)\"}}, {\"type\": \"scatter3d\", \"x\": [0, 0.9986468242008412], \"y\": [0, -0.035860743401103526], \"z\": [0, 0.037663345527108205], \"opacity\": 0.3, \"mode\": \"lines\", \"showlegend\": false, \"line\": {\"color\": \"rgb(255, 105, 97)\"}}, {\"type\": \"scatter3d\", \"x\": [0, 0.9987492011074239], \"y\": [0, -0.03317481287655101], \"z\": [0, 0.037409424987404], \"opacity\": 0.3, \"mode\": \"lines\", \"showlegend\": false, \"line\": {\"color\": \"rgb(255, 105, 97)\"}}, {\"type\": \"scatter3d\", \"x\": [0, 0.998838898364858], \"y\": [0, -0.030600168285484897], \"z\": [0, 0.03720866584784996], \"opacity\": 0.3, \"mode\": \"lines\", \"showlegend\": false, \"line\": {\"color\": \"rgb(255, 105, 97)\"}}, {\"type\": \"scatter3d\", \"x\": [0, 0.9989182397098687], \"y\": [0, -0.02810055300121383], \"z\": [0, 0.03705009171329105], \"opacity\": 0.3, \"mode\": \"lines\", \"showlegend\": false, \"line\": {\"color\": \"rgb(255, 105, 97)\"}}, {\"type\": \"scatter3d\", \"x\": [0, 0.9989889817471538], \"y\": [0, -0.02564214443141413], \"z\": [0, 0.036925530148438857], \"opacity\": 0.3, \"mode\": \"lines\", \"showlegend\": false, \"line\": {\"color\": \"rgb(255, 105, 97)\"}}, {\"type\": \"scatter3d\", \"x\": [0, 0.9990524843208939], \"y\": [0, -0.023190012005096326], \"z\": [0, 0.03682875120681685], \"opacity\": 0.3, \"mode\": \"lines\", \"showlegend\": false, \"line\": {\"color\": \"rgb(255, 105, 97)\"}}, {\"type\": \"scatter3d\", \"x\": [0, 0.9991098211483397], \"y\": [0, -0.020703664665205207], \"z\": [0, 0.03675491197599965], \"opacity\": 0.3, \"mode\": \"lines\", \"showlegend\": false, \"line\": {\"color\": \"rgb(255, 105, 97)\"}}, {\"type\": \"scatter3d\", \"x\": [0, 0.9991618543059954], \"y\": [0, -0.01812968010560764], \"z\": [0, 0.036700185273008945], \"opacity\": 0.3, \"mode\": \"lines\", \"showlegend\": false, \"line\": {\"color\": \"rgb(255, 105, 97)\"}}, {\"type\": \"scatter3d\", \"x\": [0, 0.9992092859228291], \"y\": [0, -0.015386262176041892], \"z\": [0, 0.036661503813130165], \"opacity\": 0.3, \"mode\": \"lines\", \"showlegend\": false, \"line\": {\"color\": \"rgb(255, 105, 97)\"}}, {\"type\": \"scatter3d\", \"x\": [0, 0.9992526949935175], \"y\": [0, -0.012321820354587672], \"z\": [0, 0.03663637934268916], \"opacity\": 0.3, \"mode\": \"lines\", \"showlegend\": false, \"line\": {\"color\": \"rgb(255, 105, 97)\"}}, {\"type\": \"scatter3d\", \"x\": [0, 0.9992925641850561], \"y\": [0, -0.008552411516454023], \"z\": [0, 0.03662277190094678], \"opacity\": 0.3, \"mode\": \"lines\", \"showlegend\": false, \"line\": {\"color\": \"rgb(255, 105, 97)\"}}, {\"type\": \"scatter3d\", \"x\": [0, 0.999329299739067], \"y\": [0, 0.0], \"z\": [0, 0.036618993473686544], \"opacity\": 0.3, \"mode\": \"lines\", \"showlegend\": false, \"line\": {\"color\": \"rgb(255, 105, 97)\"}}], {\"margin\": {\"l\": 0, \"r\": 0, \"b\": 0, \"t\": 0}, \"scene\": {\"xaxis\": {\"title\": \"Z\"}, \"yaxis\": {\"title\": \"Y\"}, \"zaxis\": {\"title\": \"X\"}}}, {\"showLink\": true, \"linkText\": \"Export to plot.ly\"})});</script>"
      ]
     },
     "metadata": {},
     "output_type": "display_data"
    },
    {
     "data": {
      "application/vnd.plotly.v1+json": {
       "data": [
        {
         "line": {
          "color": "rgb(0,33,71)",
          "width": 5
         },
         "mode": "lines",
         "showlegend": false,
         "type": "scatter3d",
         "x": [
          -1,
          1
         ],
         "y": [
          0,
          0
         ],
         "z": [
          0,
          0
         ]
        },
        {
         "opacity": 0.4,
         "showscale": false,
         "surfacecolor": [
          1,
          1
         ],
         "type": "surface",
         "x": [
          [
           -1,
           -1,
           -1,
           -1,
           -1,
           -1,
           -1,
           -1,
           -1,
           -1
          ],
          [
           1,
           1,
           1,
           1,
           1,
           1,
           1,
           1,
           1,
           1
          ]
         ],
         "y": [
          [
           0,
           0.342020143325669,
           0.6427876096865394,
           0.8660254037844386,
           0.984807753012208,
           0.984807753012208,
           0.8660254037844388,
           0.6427876096865395,
           0.342020143325669,
           0
          ],
          [
           0,
           0.342020143325669,
           0.6427876096865394,
           0.8660254037844386,
           0.984807753012208,
           0.984807753012208,
           0.8660254037844388,
           0.6427876096865395,
           0.342020143325669,
           0
          ]
         ],
         "z": [
          [
           -1,
           -0.9396926207859083,
           -0.766044443118978,
           -0.5,
           -0.17364817766693036,
           0.17364817766693036,
           0.49999999999999983,
           0.7660444431189779,
           0.9396926207859083,
           1
          ],
          [
           -1,
           -0.9396926207859083,
           -0.766044443118978,
           -0.5,
           -0.17364817766693036,
           0.17364817766693036,
           0.49999999999999983,
           0.7660444431189779,
           0.9396926207859083,
           1
          ]
         ]
        },
        {
         "opacity": 0.4,
         "showscale": false,
         "surfacecolor": [
          1,
          1
         ],
         "type": "surface",
         "x": [
          [
           -1,
           -1,
           -1,
           -1,
           -1,
           -1,
           -1,
           -1,
           -1,
           -1
          ],
          [
           1,
           1,
           1,
           1,
           1,
           1,
           1,
           1,
           1,
           1
          ]
         ],
         "y": [
          [
           0,
           -0.342020143325669,
           -0.6427876096865394,
           -0.8660254037844386,
           -0.984807753012208,
           -0.984807753012208,
           -0.8660254037844388,
           -0.6427876096865395,
           -0.342020143325669,
           0
          ],
          [
           0,
           -0.342020143325669,
           -0.6427876096865394,
           -0.8660254037844386,
           -0.984807753012208,
           -0.984807753012208,
           -0.8660254037844388,
           -0.6427876096865395,
           -0.342020143325669,
           0
          ]
         ],
         "z": [
          [
           -1,
           -0.9396926207859083,
           -0.766044443118978,
           -0.5,
           -0.17364817766693036,
           0.17364817766693036,
           0.49999999999999983,
           0.7660444431189779,
           0.9396926207859083,
           1
          ],
          [
           -1,
           -0.9396926207859083,
           -0.766044443118978,
           -0.5,
           -0.17364817766693036,
           0.17364817766693036,
           0.49999999999999983,
           0.7660444431189779,
           0.9396926207859083,
           1
          ]
         ]
        },
        {
         "line": {
          "color": "rgb(255, 105, 97)",
          "width": 7
         },
         "mode": "lines",
         "showlegend": false,
         "type": "scatter3d",
         "x": [
          0,
          6.123233995736766e-17
         ],
         "y": [
          0,
          0
         ],
         "z": [
          0,
          1
         ]
        },
        {
         "line": {
          "color": "rgb(255, 105, 97)",
          "width": 5
         },
         "mode": "lines",
         "showlegend": false,
         "type": "scatter3d",
         "x": [
          0.7615941559557649,
          0.7501633396051502,
          0.7379236737573273,
          0.7247899360722031,
          0.7106636034397795,
          0.6954298506091808,
          0.6789536063359859,
          0.6610742710327009,
          0.6415984840062257,
          0.6202899628213892,
          0.5968547917725454,
          0.570919338350225,
          0.5419956168461716,
          0.5094239203063663,
          0.47227094594266344,
          0.42913134694848204,
          0.3776875619311621,
          0.31351862062397406,
          0.22547386245080886,
          6.123233995736766e-17,
          6.123233995736766e-17,
          -0.22547386245080897,
          -0.3135186206239742,
          -0.3776875619311622,
          -0.42913134694848215,
          -0.47227094594266333,
          -0.509423920306366,
          -0.5419956168461715,
          -0.570919338350225,
          -0.5968547917725454,
          -0.620289962821389,
          -0.6415984840062254,
          -0.6610742710327008,
          -0.6789536063359858,
          -0.6954298506091805,
          -0.7106636034397797,
          -0.7247899360722032,
          -0.737923673757327,
          -0.7501633396051501,
          -0.761594155955765,
          -0.761594155955765,
          -0.7501633396051501,
          -0.737923673757327,
          -0.7247899360722032,
          -0.7106636034397797,
          -0.6954298506091805,
          -0.6789536063359858,
          -0.6610742710327008,
          -0.6415984840062254,
          -0.620289962821389,
          -0.5968547917725454,
          -0.570919338350225,
          -0.5419956168461715,
          -0.509423920306366,
          -0.47227094594266333,
          -0.42913134694848215,
          -0.3776875619311622,
          -0.3135186206239742,
          -0.22547386245080897,
          6.123233995736766e-17,
          6.123233995736766e-17,
          0.22547386245080886,
          0.31351862062397406,
          0.3776875619311621,
          0.42913134694848204,
          0.47227094594266344,
          0.5094239203063663,
          0.5419956168461716,
          0.570919338350225,
          0.5968547917725454,
          0.6202899628213892,
          0.6415984840062257,
          0.6610742710327009,
          0.6789536063359859,
          0.6954298506091808,
          0.7106636034397795,
          0.7247899360722031,
          0.7379236737573273,
          0.7501633396051502,
          0.7615941559557649
         ],
         "y": [
          0,
          0.15037452451667582,
          0.21514008083961841,
          0.26662110451455856,
          0.3115948317454929,
          0.3526743244222776,
          0.39120006506404875,
          0.42797306672365115,
          0.4635218634957364,
          0.4982212073839764,
          0.5323521964525514,
          0.5661357264016289,
          0.5997524835703508,
          0.6333556037117642,
          0.667079087052105,
          0.7010436389636596,
          0.7353608898885642,
          0.7701365658948324,
          0.8054729669339397,
          0.8414709848078965,
          0.8414709848078965,
          0.8054729669339397,
          0.7701365658948324,
          0.7353608898885642,
          0.7010436389636595,
          0.6670790870521051,
          0.6333556037117645,
          0.5997524835703508,
          0.5661357264016289,
          0.5323521964525514,
          0.49822120738397646,
          0.4635218634957365,
          0.4279730667236512,
          0.39120006506404875,
          0.35267432442227775,
          0.3115948317454929,
          0.26662110451455856,
          0.21514008083961847,
          0.15037452451667585,
          0,
          0,
          -0.15037452451667585,
          -0.21514008083961847,
          -0.26662110451455856,
          -0.3115948317454929,
          -0.35267432442227775,
          -0.39120006506404875,
          -0.4279730667236512,
          -0.4635218634957365,
          -0.49822120738397646,
          -0.5323521964525514,
          -0.5661357264016289,
          -0.5997524835703508,
          -0.6333556037117645,
          -0.6670790870521051,
          -0.7010436389636595,
          -0.7353608898885642,
          -0.7701365658948324,
          -0.8054729669339397,
          -0.8414709848078965,
          -0.8414709848078965,
          -0.8054729669339397,
          -0.7701365658948324,
          -0.7353608898885642,
          -0.7010436389636596,
          -0.667079087052105,
          -0.6333556037117642,
          -0.5997524835703508,
          -0.5661357264016289,
          -0.5323521964525514,
          -0.4982212073839764,
          -0.4635218634957364,
          -0.42797306672365115,
          -0.39120006506404875,
          -0.3526743244222776,
          -0.3115948317454929,
          -0.26662110451455856,
          -0.21514008083961841,
          -0.15037452451667582,
          0
         ],
         "z": [
          0.6480542736638855,
          0.6439273765641834,
          0.639674446359093,
          0.6352894892849155,
          0.6307661243087533,
          0.6260975513248574,
          0.6212765161642947,
          0.6162952720390903,
          0.6111455369896379,
          0.605818446843518,
          0.6003045031234527,
          0.5945935152601659,
          0.5886745363702544,
          0.5825357917472536,
          0.5761645990827206,
          0.5695472792795798,
          0.562669056537494,
          0.5555139461739509,
          0.5480646283880672,
          0.5403023058681398,
          0.5403023058681398,
          0.5480646283880672,
          0.5555139461739508,
          0.562669056537494,
          0.5695472792795797,
          0.5761645990827206,
          0.5825357917472538,
          0.5886745363702545,
          0.5945935152601659,
          0.6003045031234527,
          0.605818446843518,
          0.611145536989638,
          0.6162952720390904,
          0.6212765161642947,
          0.6260975513248578,
          0.6307661243087532,
          0.6352894892849154,
          0.6396744463590932,
          0.6439273765641835,
          0.6480542736638853,
          0.6480542736638853,
          0.6439273765641835,
          0.6396744463590932,
          0.6352894892849154,
          0.6307661243087532,
          0.6260975513248578,
          0.6212765161642947,
          0.6162952720390904,
          0.611145536989638,
          0.605818446843518,
          0.6003045031234527,
          0.5945935152601659,
          0.5886745363702545,
          0.5825357917472538,
          0.5761645990827206,
          0.5695472792795797,
          0.562669056537494,
          0.5555139461739508,
          0.5480646283880672,
          0.5403023058681398,
          0.5403023058681398,
          0.5480646283880672,
          0.5555139461739509,
          0.562669056537494,
          0.5695472792795798,
          0.5761645990827206,
          0.5825357917472536,
          0.5886745363702544,
          0.5945935152601659,
          0.6003045031234527,
          0.605818446843518,
          0.6111455369896379,
          0.6162952720390903,
          0.6212765161642947,
          0.6260975513248574,
          0.6307661243087533,
          0.6352894892849155,
          0.639674446359093,
          0.6439273765641834,
          0.6480542736638855
         ]
        },
        {
         "line": {
          "color": "rgb(255, 105, 97)"
         },
         "mode": "lines",
         "opacity": 0.3,
         "showlegend": false,
         "type": "scatter3d",
         "x": [
          0,
          0.7615941559557649
         ],
         "y": [
          0,
          0
         ],
         "z": [
          0,
          0.6480542736638855
         ]
        },
        {
         "line": {
          "color": "rgb(255, 105, 97)"
         },
         "mode": "lines",
         "opacity": 0.3,
         "showlegend": false,
         "type": "scatter3d",
         "x": [
          0,
          0.7501633396051502
         ],
         "y": [
          0,
          0.15037452451667582
         ],
         "z": [
          0,
          0.6439273765641834
         ]
        },
        {
         "line": {
          "color": "rgb(255, 105, 97)"
         },
         "mode": "lines",
         "opacity": 0.3,
         "showlegend": false,
         "type": "scatter3d",
         "x": [
          0,
          0.7379236737573273
         ],
         "y": [
          0,
          0.21514008083961841
         ],
         "z": [
          0,
          0.639674446359093
         ]
        },
        {
         "line": {
          "color": "rgb(255, 105, 97)"
         },
         "mode": "lines",
         "opacity": 0.3,
         "showlegend": false,
         "type": "scatter3d",
         "x": [
          0,
          0.7247899360722031
         ],
         "y": [
          0,
          0.26662110451455856
         ],
         "z": [
          0,
          0.6352894892849155
         ]
        },
        {
         "line": {
          "color": "rgb(255, 105, 97)"
         },
         "mode": "lines",
         "opacity": 0.3,
         "showlegend": false,
         "type": "scatter3d",
         "x": [
          0,
          0.7106636034397795
         ],
         "y": [
          0,
          0.3115948317454929
         ],
         "z": [
          0,
          0.6307661243087533
         ]
        },
        {
         "line": {
          "color": "rgb(255, 105, 97)"
         },
         "mode": "lines",
         "opacity": 0.3,
         "showlegend": false,
         "type": "scatter3d",
         "x": [
          0,
          0.6954298506091808
         ],
         "y": [
          0,
          0.3526743244222776
         ],
         "z": [
          0,
          0.6260975513248574
         ]
        },
        {
         "line": {
          "color": "rgb(255, 105, 97)"
         },
         "mode": "lines",
         "opacity": 0.3,
         "showlegend": false,
         "type": "scatter3d",
         "x": [
          0,
          0.6789536063359859
         ],
         "y": [
          0,
          0.39120006506404875
         ],
         "z": [
          0,
          0.6212765161642947
         ]
        },
        {
         "line": {
          "color": "rgb(255, 105, 97)"
         },
         "mode": "lines",
         "opacity": 0.3,
         "showlegend": false,
         "type": "scatter3d",
         "x": [
          0,
          0.6610742710327009
         ],
         "y": [
          0,
          0.42797306672365115
         ],
         "z": [
          0,
          0.6162952720390903
         ]
        },
        {
         "line": {
          "color": "rgb(255, 105, 97)"
         },
         "mode": "lines",
         "opacity": 0.3,
         "showlegend": false,
         "type": "scatter3d",
         "x": [
          0,
          0.6415984840062257
         ],
         "y": [
          0,
          0.4635218634957364
         ],
         "z": [
          0,
          0.6111455369896379
         ]
        },
        {
         "line": {
          "color": "rgb(255, 105, 97)"
         },
         "mode": "lines",
         "opacity": 0.3,
         "showlegend": false,
         "type": "scatter3d",
         "x": [
          0,
          0.6202899628213892
         ],
         "y": [
          0,
          0.4982212073839764
         ],
         "z": [
          0,
          0.605818446843518
         ]
        },
        {
         "line": {
          "color": "rgb(255, 105, 97)"
         },
         "mode": "lines",
         "opacity": 0.3,
         "showlegend": false,
         "type": "scatter3d",
         "x": [
          0,
          0.5968547917725454
         ],
         "y": [
          0,
          0.5323521964525514
         ],
         "z": [
          0,
          0.6003045031234527
         ]
        },
        {
         "line": {
          "color": "rgb(255, 105, 97)"
         },
         "mode": "lines",
         "opacity": 0.3,
         "showlegend": false,
         "type": "scatter3d",
         "x": [
          0,
          0.570919338350225
         ],
         "y": [
          0,
          0.5661357264016289
         ],
         "z": [
          0,
          0.5945935152601659
         ]
        },
        {
         "line": {
          "color": "rgb(255, 105, 97)"
         },
         "mode": "lines",
         "opacity": 0.3,
         "showlegend": false,
         "type": "scatter3d",
         "x": [
          0,
          0.5419956168461716
         ],
         "y": [
          0,
          0.5997524835703508
         ],
         "z": [
          0,
          0.5886745363702544
         ]
        },
        {
         "line": {
          "color": "rgb(255, 105, 97)"
         },
         "mode": "lines",
         "opacity": 0.3,
         "showlegend": false,
         "type": "scatter3d",
         "x": [
          0,
          0.5094239203063663
         ],
         "y": [
          0,
          0.6333556037117642
         ],
         "z": [
          0,
          0.5825357917472536
         ]
        },
        {
         "line": {
          "color": "rgb(255, 105, 97)"
         },
         "mode": "lines",
         "opacity": 0.3,
         "showlegend": false,
         "type": "scatter3d",
         "x": [
          0,
          0.47227094594266344
         ],
         "y": [
          0,
          0.667079087052105
         ],
         "z": [
          0,
          0.5761645990827206
         ]
        },
        {
         "line": {
          "color": "rgb(255, 105, 97)"
         },
         "mode": "lines",
         "opacity": 0.3,
         "showlegend": false,
         "type": "scatter3d",
         "x": [
          0,
          0.42913134694848204
         ],
         "y": [
          0,
          0.7010436389636596
         ],
         "z": [
          0,
          0.5695472792795798
         ]
        },
        {
         "line": {
          "color": "rgb(255, 105, 97)"
         },
         "mode": "lines",
         "opacity": 0.3,
         "showlegend": false,
         "type": "scatter3d",
         "x": [
          0,
          0.3776875619311621
         ],
         "y": [
          0,
          0.7353608898885642
         ],
         "z": [
          0,
          0.562669056537494
         ]
        },
        {
         "line": {
          "color": "rgb(255, 105, 97)"
         },
         "mode": "lines",
         "opacity": 0.3,
         "showlegend": false,
         "type": "scatter3d",
         "x": [
          0,
          0.31351862062397406
         ],
         "y": [
          0,
          0.7701365658948324
         ],
         "z": [
          0,
          0.5555139461739509
         ]
        },
        {
         "line": {
          "color": "rgb(255, 105, 97)"
         },
         "mode": "lines",
         "opacity": 0.3,
         "showlegend": false,
         "type": "scatter3d",
         "x": [
          0,
          0.22547386245080886
         ],
         "y": [
          0,
          0.8054729669339397
         ],
         "z": [
          0,
          0.5480646283880672
         ]
        },
        {
         "line": {
          "color": "rgb(255, 105, 97)"
         },
         "mode": "lines",
         "opacity": 0.3,
         "showlegend": false,
         "type": "scatter3d",
         "x": [
          0,
          6.123233995736766e-17
         ],
         "y": [
          0,
          0.8414709848078965
         ],
         "z": [
          0,
          0.5403023058681398
         ]
        },
        {
         "line": {
          "color": "rgb(255, 105, 97)"
         },
         "mode": "lines",
         "opacity": 0.3,
         "showlegend": false,
         "type": "scatter3d",
         "x": [
          0,
          6.123233995736766e-17
         ],
         "y": [
          0,
          0.8414709848078965
         ],
         "z": [
          0,
          0.5403023058681398
         ]
        },
        {
         "line": {
          "color": "rgb(255, 105, 97)"
         },
         "mode": "lines",
         "opacity": 0.3,
         "showlegend": false,
         "type": "scatter3d",
         "x": [
          0,
          -0.22547386245080897
         ],
         "y": [
          0,
          0.8054729669339397
         ],
         "z": [
          0,
          0.5480646283880672
         ]
        },
        {
         "line": {
          "color": "rgb(255, 105, 97)"
         },
         "mode": "lines",
         "opacity": 0.3,
         "showlegend": false,
         "type": "scatter3d",
         "x": [
          0,
          -0.3135186206239742
         ],
         "y": [
          0,
          0.7701365658948324
         ],
         "z": [
          0,
          0.5555139461739508
         ]
        },
        {
         "line": {
          "color": "rgb(255, 105, 97)"
         },
         "mode": "lines",
         "opacity": 0.3,
         "showlegend": false,
         "type": "scatter3d",
         "x": [
          0,
          -0.3776875619311622
         ],
         "y": [
          0,
          0.7353608898885642
         ],
         "z": [
          0,
          0.562669056537494
         ]
        },
        {
         "line": {
          "color": "rgb(255, 105, 97)"
         },
         "mode": "lines",
         "opacity": 0.3,
         "showlegend": false,
         "type": "scatter3d",
         "x": [
          0,
          -0.42913134694848215
         ],
         "y": [
          0,
          0.7010436389636595
         ],
         "z": [
          0,
          0.5695472792795797
         ]
        },
        {
         "line": {
          "color": "rgb(255, 105, 97)"
         },
         "mode": "lines",
         "opacity": 0.3,
         "showlegend": false,
         "type": "scatter3d",
         "x": [
          0,
          -0.47227094594266333
         ],
         "y": [
          0,
          0.6670790870521051
         ],
         "z": [
          0,
          0.5761645990827206
         ]
        },
        {
         "line": {
          "color": "rgb(255, 105, 97)"
         },
         "mode": "lines",
         "opacity": 0.3,
         "showlegend": false,
         "type": "scatter3d",
         "x": [
          0,
          -0.509423920306366
         ],
         "y": [
          0,
          0.6333556037117645
         ],
         "z": [
          0,
          0.5825357917472538
         ]
        },
        {
         "line": {
          "color": "rgb(255, 105, 97)"
         },
         "mode": "lines",
         "opacity": 0.3,
         "showlegend": false,
         "type": "scatter3d",
         "x": [
          0,
          -0.5419956168461715
         ],
         "y": [
          0,
          0.5997524835703508
         ],
         "z": [
          0,
          0.5886745363702545
         ]
        },
        {
         "line": {
          "color": "rgb(255, 105, 97)"
         },
         "mode": "lines",
         "opacity": 0.3,
         "showlegend": false,
         "type": "scatter3d",
         "x": [
          0,
          -0.570919338350225
         ],
         "y": [
          0,
          0.5661357264016289
         ],
         "z": [
          0,
          0.5945935152601659
         ]
        },
        {
         "line": {
          "color": "rgb(255, 105, 97)"
         },
         "mode": "lines",
         "opacity": 0.3,
         "showlegend": false,
         "type": "scatter3d",
         "x": [
          0,
          -0.5968547917725454
         ],
         "y": [
          0,
          0.5323521964525514
         ],
         "z": [
          0,
          0.6003045031234527
         ]
        },
        {
         "line": {
          "color": "rgb(255, 105, 97)"
         },
         "mode": "lines",
         "opacity": 0.3,
         "showlegend": false,
         "type": "scatter3d",
         "x": [
          0,
          -0.620289962821389
         ],
         "y": [
          0,
          0.49822120738397646
         ],
         "z": [
          0,
          0.605818446843518
         ]
        },
        {
         "line": {
          "color": "rgb(255, 105, 97)"
         },
         "mode": "lines",
         "opacity": 0.3,
         "showlegend": false,
         "type": "scatter3d",
         "x": [
          0,
          -0.6415984840062254
         ],
         "y": [
          0,
          0.4635218634957365
         ],
         "z": [
          0,
          0.611145536989638
         ]
        },
        {
         "line": {
          "color": "rgb(255, 105, 97)"
         },
         "mode": "lines",
         "opacity": 0.3,
         "showlegend": false,
         "type": "scatter3d",
         "x": [
          0,
          -0.6610742710327008
         ],
         "y": [
          0,
          0.4279730667236512
         ],
         "z": [
          0,
          0.6162952720390904
         ]
        },
        {
         "line": {
          "color": "rgb(255, 105, 97)"
         },
         "mode": "lines",
         "opacity": 0.3,
         "showlegend": false,
         "type": "scatter3d",
         "x": [
          0,
          -0.6789536063359858
         ],
         "y": [
          0,
          0.39120006506404875
         ],
         "z": [
          0,
          0.6212765161642947
         ]
        },
        {
         "line": {
          "color": "rgb(255, 105, 97)"
         },
         "mode": "lines",
         "opacity": 0.3,
         "showlegend": false,
         "type": "scatter3d",
         "x": [
          0,
          -0.6954298506091805
         ],
         "y": [
          0,
          0.35267432442227775
         ],
         "z": [
          0,
          0.6260975513248578
         ]
        },
        {
         "line": {
          "color": "rgb(255, 105, 97)"
         },
         "mode": "lines",
         "opacity": 0.3,
         "showlegend": false,
         "type": "scatter3d",
         "x": [
          0,
          -0.7106636034397797
         ],
         "y": [
          0,
          0.3115948317454929
         ],
         "z": [
          0,
          0.6307661243087532
         ]
        },
        {
         "line": {
          "color": "rgb(255, 105, 97)"
         },
         "mode": "lines",
         "opacity": 0.3,
         "showlegend": false,
         "type": "scatter3d",
         "x": [
          0,
          -0.7247899360722032
         ],
         "y": [
          0,
          0.26662110451455856
         ],
         "z": [
          0,
          0.6352894892849154
         ]
        },
        {
         "line": {
          "color": "rgb(255, 105, 97)"
         },
         "mode": "lines",
         "opacity": 0.3,
         "showlegend": false,
         "type": "scatter3d",
         "x": [
          0,
          -0.737923673757327
         ],
         "y": [
          0,
          0.21514008083961847
         ],
         "z": [
          0,
          0.6396744463590932
         ]
        },
        {
         "line": {
          "color": "rgb(255, 105, 97)"
         },
         "mode": "lines",
         "opacity": 0.3,
         "showlegend": false,
         "type": "scatter3d",
         "x": [
          0,
          -0.7501633396051501
         ],
         "y": [
          0,
          0.15037452451667585
         ],
         "z": [
          0,
          0.6439273765641835
         ]
        },
        {
         "line": {
          "color": "rgb(255, 105, 97)"
         },
         "mode": "lines",
         "opacity": 0.3,
         "showlegend": false,
         "type": "scatter3d",
         "x": [
          0,
          -0.761594155955765
         ],
         "y": [
          0,
          0
         ],
         "z": [
          0,
          0.6480542736638853
         ]
        },
        {
         "line": {
          "color": "rgb(255, 105, 97)"
         },
         "mode": "lines",
         "opacity": 0.3,
         "showlegend": false,
         "type": "scatter3d",
         "x": [
          0,
          -0.761594155955765
         ],
         "y": [
          0,
          0
         ],
         "z": [
          0,
          0.6480542736638853
         ]
        },
        {
         "line": {
          "color": "rgb(255, 105, 97)"
         },
         "mode": "lines",
         "opacity": 0.3,
         "showlegend": false,
         "type": "scatter3d",
         "x": [
          0,
          -0.7501633396051501
         ],
         "y": [
          0,
          -0.15037452451667585
         ],
         "z": [
          0,
          0.6439273765641835
         ]
        },
        {
         "line": {
          "color": "rgb(255, 105, 97)"
         },
         "mode": "lines",
         "opacity": 0.3,
         "showlegend": false,
         "type": "scatter3d",
         "x": [
          0,
          -0.737923673757327
         ],
         "y": [
          0,
          -0.21514008083961847
         ],
         "z": [
          0,
          0.6396744463590932
         ]
        },
        {
         "line": {
          "color": "rgb(255, 105, 97)"
         },
         "mode": "lines",
         "opacity": 0.3,
         "showlegend": false,
         "type": "scatter3d",
         "x": [
          0,
          -0.7247899360722032
         ],
         "y": [
          0,
          -0.26662110451455856
         ],
         "z": [
          0,
          0.6352894892849154
         ]
        },
        {
         "line": {
          "color": "rgb(255, 105, 97)"
         },
         "mode": "lines",
         "opacity": 0.3,
         "showlegend": false,
         "type": "scatter3d",
         "x": [
          0,
          -0.7106636034397797
         ],
         "y": [
          0,
          -0.3115948317454929
         ],
         "z": [
          0,
          0.6307661243087532
         ]
        },
        {
         "line": {
          "color": "rgb(255, 105, 97)"
         },
         "mode": "lines",
         "opacity": 0.3,
         "showlegend": false,
         "type": "scatter3d",
         "x": [
          0,
          -0.6954298506091805
         ],
         "y": [
          0,
          -0.35267432442227775
         ],
         "z": [
          0,
          0.6260975513248578
         ]
        },
        {
         "line": {
          "color": "rgb(255, 105, 97)"
         },
         "mode": "lines",
         "opacity": 0.3,
         "showlegend": false,
         "type": "scatter3d",
         "x": [
          0,
          -0.6789536063359858
         ],
         "y": [
          0,
          -0.39120006506404875
         ],
         "z": [
          0,
          0.6212765161642947
         ]
        },
        {
         "line": {
          "color": "rgb(255, 105, 97)"
         },
         "mode": "lines",
         "opacity": 0.3,
         "showlegend": false,
         "type": "scatter3d",
         "x": [
          0,
          -0.6610742710327008
         ],
         "y": [
          0,
          -0.4279730667236512
         ],
         "z": [
          0,
          0.6162952720390904
         ]
        },
        {
         "line": {
          "color": "rgb(255, 105, 97)"
         },
         "mode": "lines",
         "opacity": 0.3,
         "showlegend": false,
         "type": "scatter3d",
         "x": [
          0,
          -0.6415984840062254
         ],
         "y": [
          0,
          -0.4635218634957365
         ],
         "z": [
          0,
          0.611145536989638
         ]
        },
        {
         "line": {
          "color": "rgb(255, 105, 97)"
         },
         "mode": "lines",
         "opacity": 0.3,
         "showlegend": false,
         "type": "scatter3d",
         "x": [
          0,
          -0.620289962821389
         ],
         "y": [
          0,
          -0.49822120738397646
         ],
         "z": [
          0,
          0.605818446843518
         ]
        },
        {
         "line": {
          "color": "rgb(255, 105, 97)"
         },
         "mode": "lines",
         "opacity": 0.3,
         "showlegend": false,
         "type": "scatter3d",
         "x": [
          0,
          -0.5968547917725454
         ],
         "y": [
          0,
          -0.5323521964525514
         ],
         "z": [
          0,
          0.6003045031234527
         ]
        },
        {
         "line": {
          "color": "rgb(255, 105, 97)"
         },
         "mode": "lines",
         "opacity": 0.3,
         "showlegend": false,
         "type": "scatter3d",
         "x": [
          0,
          -0.570919338350225
         ],
         "y": [
          0,
          -0.5661357264016289
         ],
         "z": [
          0,
          0.5945935152601659
         ]
        },
        {
         "line": {
          "color": "rgb(255, 105, 97)"
         },
         "mode": "lines",
         "opacity": 0.3,
         "showlegend": false,
         "type": "scatter3d",
         "x": [
          0,
          -0.5419956168461715
         ],
         "y": [
          0,
          -0.5997524835703508
         ],
         "z": [
          0,
          0.5886745363702545
         ]
        },
        {
         "line": {
          "color": "rgb(255, 105, 97)"
         },
         "mode": "lines",
         "opacity": 0.3,
         "showlegend": false,
         "type": "scatter3d",
         "x": [
          0,
          -0.509423920306366
         ],
         "y": [
          0,
          -0.6333556037117645
         ],
         "z": [
          0,
          0.5825357917472538
         ]
        },
        {
         "line": {
          "color": "rgb(255, 105, 97)"
         },
         "mode": "lines",
         "opacity": 0.3,
         "showlegend": false,
         "type": "scatter3d",
         "x": [
          0,
          -0.47227094594266333
         ],
         "y": [
          0,
          -0.6670790870521051
         ],
         "z": [
          0,
          0.5761645990827206
         ]
        },
        {
         "line": {
          "color": "rgb(255, 105, 97)"
         },
         "mode": "lines",
         "opacity": 0.3,
         "showlegend": false,
         "type": "scatter3d",
         "x": [
          0,
          -0.42913134694848215
         ],
         "y": [
          0,
          -0.7010436389636595
         ],
         "z": [
          0,
          0.5695472792795797
         ]
        },
        {
         "line": {
          "color": "rgb(255, 105, 97)"
         },
         "mode": "lines",
         "opacity": 0.3,
         "showlegend": false,
         "type": "scatter3d",
         "x": [
          0,
          -0.3776875619311622
         ],
         "y": [
          0,
          -0.7353608898885642
         ],
         "z": [
          0,
          0.562669056537494
         ]
        },
        {
         "line": {
          "color": "rgb(255, 105, 97)"
         },
         "mode": "lines",
         "opacity": 0.3,
         "showlegend": false,
         "type": "scatter3d",
         "x": [
          0,
          -0.3135186206239742
         ],
         "y": [
          0,
          -0.7701365658948324
         ],
         "z": [
          0,
          0.5555139461739508
         ]
        },
        {
         "line": {
          "color": "rgb(255, 105, 97)"
         },
         "mode": "lines",
         "opacity": 0.3,
         "showlegend": false,
         "type": "scatter3d",
         "x": [
          0,
          -0.22547386245080897
         ],
         "y": [
          0,
          -0.8054729669339397
         ],
         "z": [
          0,
          0.5480646283880672
         ]
        },
        {
         "line": {
          "color": "rgb(255, 105, 97)"
         },
         "mode": "lines",
         "opacity": 0.3,
         "showlegend": false,
         "type": "scatter3d",
         "x": [
          0,
          6.123233995736766e-17
         ],
         "y": [
          0,
          -0.8414709848078965
         ],
         "z": [
          0,
          0.5403023058681398
         ]
        },
        {
         "line": {
          "color": "rgb(255, 105, 97)"
         },
         "mode": "lines",
         "opacity": 0.3,
         "showlegend": false,
         "type": "scatter3d",
         "x": [
          0,
          6.123233995736766e-17
         ],
         "y": [
          0,
          -0.8414709848078965
         ],
         "z": [
          0,
          0.5403023058681398
         ]
        },
        {
         "line": {
          "color": "rgb(255, 105, 97)"
         },
         "mode": "lines",
         "opacity": 0.3,
         "showlegend": false,
         "type": "scatter3d",
         "x": [
          0,
          0.22547386245080886
         ],
         "y": [
          0,
          -0.8054729669339397
         ],
         "z": [
          0,
          0.5480646283880672
         ]
        },
        {
         "line": {
          "color": "rgb(255, 105, 97)"
         },
         "mode": "lines",
         "opacity": 0.3,
         "showlegend": false,
         "type": "scatter3d",
         "x": [
          0,
          0.31351862062397406
         ],
         "y": [
          0,
          -0.7701365658948324
         ],
         "z": [
          0,
          0.5555139461739509
         ]
        },
        {
         "line": {
          "color": "rgb(255, 105, 97)"
         },
         "mode": "lines",
         "opacity": 0.3,
         "showlegend": false,
         "type": "scatter3d",
         "x": [
          0,
          0.3776875619311621
         ],
         "y": [
          0,
          -0.7353608898885642
         ],
         "z": [
          0,
          0.562669056537494
         ]
        },
        {
         "line": {
          "color": "rgb(255, 105, 97)"
         },
         "mode": "lines",
         "opacity": 0.3,
         "showlegend": false,
         "type": "scatter3d",
         "x": [
          0,
          0.42913134694848204
         ],
         "y": [
          0,
          -0.7010436389636596
         ],
         "z": [
          0,
          0.5695472792795798
         ]
        },
        {
         "line": {
          "color": "rgb(255, 105, 97)"
         },
         "mode": "lines",
         "opacity": 0.3,
         "showlegend": false,
         "type": "scatter3d",
         "x": [
          0,
          0.47227094594266344
         ],
         "y": [
          0,
          -0.667079087052105
         ],
         "z": [
          0,
          0.5761645990827206
         ]
        },
        {
         "line": {
          "color": "rgb(255, 105, 97)"
         },
         "mode": "lines",
         "opacity": 0.3,
         "showlegend": false,
         "type": "scatter3d",
         "x": [
          0,
          0.5094239203063663
         ],
         "y": [
          0,
          -0.6333556037117642
         ],
         "z": [
          0,
          0.5825357917472536
         ]
        },
        {
         "line": {
          "color": "rgb(255, 105, 97)"
         },
         "mode": "lines",
         "opacity": 0.3,
         "showlegend": false,
         "type": "scatter3d",
         "x": [
          0,
          0.5419956168461716
         ],
         "y": [
          0,
          -0.5997524835703508
         ],
         "z": [
          0,
          0.5886745363702544
         ]
        },
        {
         "line": {
          "color": "rgb(255, 105, 97)"
         },
         "mode": "lines",
         "opacity": 0.3,
         "showlegend": false,
         "type": "scatter3d",
         "x": [
          0,
          0.570919338350225
         ],
         "y": [
          0,
          -0.5661357264016289
         ],
         "z": [
          0,
          0.5945935152601659
         ]
        },
        {
         "line": {
          "color": "rgb(255, 105, 97)"
         },
         "mode": "lines",
         "opacity": 0.3,
         "showlegend": false,
         "type": "scatter3d",
         "x": [
          0,
          0.5968547917725454
         ],
         "y": [
          0,
          -0.5323521964525514
         ],
         "z": [
          0,
          0.6003045031234527
         ]
        },
        {
         "line": {
          "color": "rgb(255, 105, 97)"
         },
         "mode": "lines",
         "opacity": 0.3,
         "showlegend": false,
         "type": "scatter3d",
         "x": [
          0,
          0.6202899628213892
         ],
         "y": [
          0,
          -0.4982212073839764
         ],
         "z": [
          0,
          0.605818446843518
         ]
        },
        {
         "line": {
          "color": "rgb(255, 105, 97)"
         },
         "mode": "lines",
         "opacity": 0.3,
         "showlegend": false,
         "type": "scatter3d",
         "x": [
          0,
          0.6415984840062257
         ],
         "y": [
          0,
          -0.4635218634957364
         ],
         "z": [
          0,
          0.6111455369896379
         ]
        },
        {
         "line": {
          "color": "rgb(255, 105, 97)"
         },
         "mode": "lines",
         "opacity": 0.3,
         "showlegend": false,
         "type": "scatter3d",
         "x": [
          0,
          0.6610742710327009
         ],
         "y": [
          0,
          -0.42797306672365115
         ],
         "z": [
          0,
          0.6162952720390903
         ]
        },
        {
         "line": {
          "color": "rgb(255, 105, 97)"
         },
         "mode": "lines",
         "opacity": 0.3,
         "showlegend": false,
         "type": "scatter3d",
         "x": [
          0,
          0.6789536063359859
         ],
         "y": [
          0,
          -0.39120006506404875
         ],
         "z": [
          0,
          0.6212765161642947
         ]
        },
        {
         "line": {
          "color": "rgb(255, 105, 97)"
         },
         "mode": "lines",
         "opacity": 0.3,
         "showlegend": false,
         "type": "scatter3d",
         "x": [
          0,
          0.6954298506091808
         ],
         "y": [
          0,
          -0.3526743244222776
         ],
         "z": [
          0,
          0.6260975513248574
         ]
        },
        {
         "line": {
          "color": "rgb(255, 105, 97)"
         },
         "mode": "lines",
         "opacity": 0.3,
         "showlegend": false,
         "type": "scatter3d",
         "x": [
          0,
          0.7106636034397795
         ],
         "y": [
          0,
          -0.3115948317454929
         ],
         "z": [
          0,
          0.6307661243087533
         ]
        },
        {
         "line": {
          "color": "rgb(255, 105, 97)"
         },
         "mode": "lines",
         "opacity": 0.3,
         "showlegend": false,
         "type": "scatter3d",
         "x": [
          0,
          0.7247899360722031
         ],
         "y": [
          0,
          -0.26662110451455856
         ],
         "z": [
          0,
          0.6352894892849155
         ]
        },
        {
         "line": {
          "color": "rgb(255, 105, 97)"
         },
         "mode": "lines",
         "opacity": 0.3,
         "showlegend": false,
         "type": "scatter3d",
         "x": [
          0,
          0.7379236737573273
         ],
         "y": [
          0,
          -0.21514008083961841
         ],
         "z": [
          0,
          0.639674446359093
         ]
        },
        {
         "line": {
          "color": "rgb(255, 105, 97)"
         },
         "mode": "lines",
         "opacity": 0.3,
         "showlegend": false,
         "type": "scatter3d",
         "x": [
          0,
          0.7501633396051502
         ],
         "y": [
          0,
          -0.15037452451667582
         ],
         "z": [
          0,
          0.6439273765641834
         ]
        },
        {
         "line": {
          "color": "rgb(255, 105, 97)"
         },
         "mode": "lines",
         "opacity": 0.3,
         "showlegend": false,
         "type": "scatter3d",
         "x": [
          0,
          0.7615941559557649
         ],
         "y": [
          0,
          0
         ],
         "z": [
          0,
          0.6480542736638855
         ]
        }
       ],
       "layout": {
        "margin": {
         "b": 0,
         "l": 0,
         "r": 0,
         "t": 0
        },
        "scene": {
         "xaxis": {
          "title": "Z"
         },
         "yaxis": {
          "title": "Y"
         },
         "zaxis": {
          "title": "X"
         }
        }
       }
      },
      "text/html": [
       "<div id=\"aed44389-b19a-4b9b-b636-c7e0506c9894\" style=\"height: 525px; width: 100%;\" class=\"plotly-graph-div\"></div><script type=\"text/javascript\">require([\"plotly\"], function(Plotly) { window.PLOTLYENV=window.PLOTLYENV || {};window.PLOTLYENV.BASE_URL=\"https://plot.ly\";Plotly.newPlot(\"aed44389-b19a-4b9b-b636-c7e0506c9894\", [{\"type\": \"scatter3d\", \"x\": [-1.0, 1.0], \"y\": [0, 0], \"z\": [0, 0], \"mode\": \"lines\", \"showlegend\": false, \"line\": {\"color\": \"rgb(0,33,71)\", \"width\": 5}}, {\"type\": \"surface\", \"x\": [[-1.0, -1.0, -1.0, -1.0, -1.0, -1.0, -1.0, -1.0, -1.0, -1.0], [1.0, 1.0, 1.0, 1.0, 1.0, 1.0, 1.0, 1.0, 1.0, 1.0]], \"y\": [[0.0, 0.342020143325669, 0.6427876096865394, 0.8660254037844386, 0.984807753012208, 0.984807753012208, 0.8660254037844388, 0.6427876096865395, 0.342020143325669, 0.0], [0.0, 0.342020143325669, 0.6427876096865394, 0.8660254037844386, 0.984807753012208, 0.984807753012208, 0.8660254037844388, 0.6427876096865395, 0.342020143325669, 0.0]], \"z\": [[-1.0, -0.9396926207859083, -0.766044443118978, -0.5, -0.17364817766693036, 0.17364817766693036, 0.49999999999999983, 0.7660444431189779, 0.9396926207859083, 1.0], [-1.0, -0.9396926207859083, -0.766044443118978, -0.5, -0.17364817766693036, 0.17364817766693036, 0.49999999999999983, 0.7660444431189779, 0.9396926207859083, 1.0]], \"surfacecolor\": [1, 1], \"showscale\": false, \"opacity\": 0.4}, {\"type\": \"surface\", \"x\": [[-1.0, -1.0, -1.0, -1.0, -1.0, -1.0, -1.0, -1.0, -1.0, -1.0], [1.0, 1.0, 1.0, 1.0, 1.0, 1.0, 1.0, 1.0, 1.0, 1.0]], \"y\": [[-0.0, -0.342020143325669, -0.6427876096865394, -0.8660254037844386, -0.984807753012208, -0.984807753012208, -0.8660254037844388, -0.6427876096865395, -0.342020143325669, -0.0], [-0.0, -0.342020143325669, -0.6427876096865394, -0.8660254037844386, -0.984807753012208, -0.984807753012208, -0.8660254037844388, -0.6427876096865395, -0.342020143325669, -0.0]], \"z\": [[-1.0, -0.9396926207859083, -0.766044443118978, -0.5, -0.17364817766693036, 0.17364817766693036, 0.49999999999999983, 0.7660444431189779, 0.9396926207859083, 1.0], [-1.0, -0.9396926207859083, -0.766044443118978, -0.5, -0.17364817766693036, 0.17364817766693036, 0.49999999999999983, 0.7660444431189779, 0.9396926207859083, 1.0]], \"surfacecolor\": [1, 1], \"showscale\": false, \"opacity\": 0.4}, {\"type\": \"scatter3d\", \"x\": [0.0, 6.123233995736766e-17], \"y\": [0.0, 0.0], \"z\": [0.0, 1.0], \"mode\": \"lines\", \"showlegend\": false, \"line\": {\"color\": \"rgb(255, 105, 97)\", \"width\": 7}}, {\"type\": \"scatter3d\", \"x\": [0.7615941559557649, 0.7501633396051502, 0.7379236737573273, 0.7247899360722031, 0.7106636034397795, 0.6954298506091808, 0.6789536063359859, 0.6610742710327009, 0.6415984840062257, 0.6202899628213892, 0.5968547917725454, 0.570919338350225, 0.5419956168461716, 0.5094239203063663, 0.47227094594266344, 0.42913134694848204, 0.3776875619311621, 0.31351862062397406, 0.22547386245080886, 6.123233995736766e-17, 6.123233995736766e-17, -0.22547386245080897, -0.3135186206239742, -0.3776875619311622, -0.42913134694848215, -0.47227094594266333, -0.509423920306366, -0.5419956168461715, -0.570919338350225, -0.5968547917725454, -0.620289962821389, -0.6415984840062254, -0.6610742710327008, -0.6789536063359858, -0.6954298506091805, -0.7106636034397797, -0.7247899360722032, -0.737923673757327, -0.7501633396051501, -0.761594155955765, -0.761594155955765, -0.7501633396051501, -0.737923673757327, -0.7247899360722032, -0.7106636034397797, -0.6954298506091805, -0.6789536063359858, -0.6610742710327008, -0.6415984840062254, -0.620289962821389, -0.5968547917725454, -0.570919338350225, -0.5419956168461715, -0.509423920306366, -0.47227094594266333, -0.42913134694848215, -0.3776875619311622, -0.3135186206239742, -0.22547386245080897, 6.123233995736766e-17, 6.123233995736766e-17, 0.22547386245080886, 0.31351862062397406, 0.3776875619311621, 0.42913134694848204, 0.47227094594266344, 0.5094239203063663, 0.5419956168461716, 0.570919338350225, 0.5968547917725454, 0.6202899628213892, 0.6415984840062257, 0.6610742710327009, 0.6789536063359859, 0.6954298506091808, 0.7106636034397795, 0.7247899360722031, 0.7379236737573273, 0.7501633396051502, 0.7615941559557649], \"y\": [0.0, 0.15037452451667582, 0.21514008083961841, 0.26662110451455856, 0.3115948317454929, 0.3526743244222776, 0.39120006506404875, 0.42797306672365115, 0.4635218634957364, 0.4982212073839764, 0.5323521964525514, 0.5661357264016289, 0.5997524835703508, 0.6333556037117642, 0.667079087052105, 0.7010436389636596, 0.7353608898885642, 0.7701365658948324, 0.8054729669339397, 0.8414709848078965, 0.8414709848078965, 0.8054729669339397, 0.7701365658948324, 0.7353608898885642, 0.7010436389636595, 0.6670790870521051, 0.6333556037117645, 0.5997524835703508, 0.5661357264016289, 0.5323521964525514, 0.49822120738397646, 0.4635218634957365, 0.4279730667236512, 0.39120006506404875, 0.35267432442227775, 0.3115948317454929, 0.26662110451455856, 0.21514008083961847, 0.15037452451667585, 0.0, 0.0, -0.15037452451667585, -0.21514008083961847, -0.26662110451455856, -0.3115948317454929, -0.35267432442227775, -0.39120006506404875, -0.4279730667236512, -0.4635218634957365, -0.49822120738397646, -0.5323521964525514, -0.5661357264016289, -0.5997524835703508, -0.6333556037117645, -0.6670790870521051, -0.7010436389636595, -0.7353608898885642, -0.7701365658948324, -0.8054729669339397, -0.8414709848078965, -0.8414709848078965, -0.8054729669339397, -0.7701365658948324, -0.7353608898885642, -0.7010436389636596, -0.667079087052105, -0.6333556037117642, -0.5997524835703508, -0.5661357264016289, -0.5323521964525514, -0.4982212073839764, -0.4635218634957364, -0.42797306672365115, -0.39120006506404875, -0.3526743244222776, -0.3115948317454929, -0.26662110451455856, -0.21514008083961841, -0.15037452451667582, 0.0], \"z\": [0.6480542736638855, 0.6439273765641834, 0.639674446359093, 0.6352894892849155, 0.6307661243087533, 0.6260975513248574, 0.6212765161642947, 0.6162952720390903, 0.6111455369896379, 0.605818446843518, 0.6003045031234527, 0.5945935152601659, 0.5886745363702544, 0.5825357917472536, 0.5761645990827206, 0.5695472792795798, 0.562669056537494, 0.5555139461739509, 0.5480646283880672, 0.5403023058681398, 0.5403023058681398, 0.5480646283880672, 0.5555139461739508, 0.562669056537494, 0.5695472792795797, 0.5761645990827206, 0.5825357917472538, 0.5886745363702545, 0.5945935152601659, 0.6003045031234527, 0.605818446843518, 0.611145536989638, 0.6162952720390904, 0.6212765161642947, 0.6260975513248578, 0.6307661243087532, 0.6352894892849154, 0.6396744463590932, 0.6439273765641835, 0.6480542736638853, 0.6480542736638853, 0.6439273765641835, 0.6396744463590932, 0.6352894892849154, 0.6307661243087532, 0.6260975513248578, 0.6212765161642947, 0.6162952720390904, 0.611145536989638, 0.605818446843518, 0.6003045031234527, 0.5945935152601659, 0.5886745363702545, 0.5825357917472538, 0.5761645990827206, 0.5695472792795797, 0.562669056537494, 0.5555139461739508, 0.5480646283880672, 0.5403023058681398, 0.5403023058681398, 0.5480646283880672, 0.5555139461739509, 0.562669056537494, 0.5695472792795798, 0.5761645990827206, 0.5825357917472536, 0.5886745363702544, 0.5945935152601659, 0.6003045031234527, 0.605818446843518, 0.6111455369896379, 0.6162952720390903, 0.6212765161642947, 0.6260975513248574, 0.6307661243087533, 0.6352894892849155, 0.639674446359093, 0.6439273765641834, 0.6480542736638855], \"mode\": \"lines\", \"showlegend\": false, \"line\": {\"color\": \"rgb(255, 105, 97)\", \"width\": 5}}, {\"type\": \"scatter3d\", \"x\": [0, 0.7615941559557649], \"y\": [0, 0.0], \"z\": [0, 0.6480542736638855], \"opacity\": 0.3, \"mode\": \"lines\", \"showlegend\": false, \"line\": {\"color\": \"rgb(255, 105, 97)\"}}, {\"type\": \"scatter3d\", \"x\": [0, 0.7501633396051502], \"y\": [0, 0.15037452451667582], \"z\": [0, 0.6439273765641834], \"opacity\": 0.3, \"mode\": \"lines\", \"showlegend\": false, \"line\": {\"color\": \"rgb(255, 105, 97)\"}}, {\"type\": \"scatter3d\", \"x\": [0, 0.7379236737573273], \"y\": [0, 0.21514008083961841], \"z\": [0, 0.639674446359093], \"opacity\": 0.3, \"mode\": \"lines\", \"showlegend\": false, \"line\": {\"color\": \"rgb(255, 105, 97)\"}}, {\"type\": \"scatter3d\", \"x\": [0, 0.7247899360722031], \"y\": [0, 0.26662110451455856], \"z\": [0, 0.6352894892849155], \"opacity\": 0.3, \"mode\": \"lines\", \"showlegend\": false, \"line\": {\"color\": \"rgb(255, 105, 97)\"}}, {\"type\": \"scatter3d\", \"x\": [0, 0.7106636034397795], \"y\": [0, 0.3115948317454929], \"z\": [0, 0.6307661243087533], \"opacity\": 0.3, \"mode\": \"lines\", \"showlegend\": false, \"line\": {\"color\": \"rgb(255, 105, 97)\"}}, {\"type\": \"scatter3d\", \"x\": [0, 0.6954298506091808], \"y\": [0, 0.3526743244222776], \"z\": [0, 0.6260975513248574], \"opacity\": 0.3, \"mode\": \"lines\", \"showlegend\": false, \"line\": {\"color\": \"rgb(255, 105, 97)\"}}, {\"type\": \"scatter3d\", \"x\": [0, 0.6789536063359859], \"y\": [0, 0.39120006506404875], \"z\": [0, 0.6212765161642947], \"opacity\": 0.3, \"mode\": \"lines\", \"showlegend\": false, \"line\": {\"color\": \"rgb(255, 105, 97)\"}}, {\"type\": \"scatter3d\", \"x\": [0, 0.6610742710327009], \"y\": [0, 0.42797306672365115], \"z\": [0, 0.6162952720390903], \"opacity\": 0.3, \"mode\": \"lines\", \"showlegend\": false, \"line\": {\"color\": \"rgb(255, 105, 97)\"}}, {\"type\": \"scatter3d\", \"x\": [0, 0.6415984840062257], \"y\": [0, 0.4635218634957364], \"z\": [0, 0.6111455369896379], \"opacity\": 0.3, \"mode\": \"lines\", \"showlegend\": false, \"line\": {\"color\": \"rgb(255, 105, 97)\"}}, {\"type\": \"scatter3d\", \"x\": [0, 0.6202899628213892], \"y\": [0, 0.4982212073839764], \"z\": [0, 0.605818446843518], \"opacity\": 0.3, \"mode\": \"lines\", \"showlegend\": false, \"line\": {\"color\": \"rgb(255, 105, 97)\"}}, {\"type\": \"scatter3d\", \"x\": [0, 0.5968547917725454], \"y\": [0, 0.5323521964525514], \"z\": [0, 0.6003045031234527], \"opacity\": 0.3, \"mode\": \"lines\", \"showlegend\": false, \"line\": {\"color\": \"rgb(255, 105, 97)\"}}, {\"type\": \"scatter3d\", \"x\": [0, 0.570919338350225], \"y\": [0, 0.5661357264016289], \"z\": [0, 0.5945935152601659], \"opacity\": 0.3, \"mode\": \"lines\", \"showlegend\": false, \"line\": {\"color\": \"rgb(255, 105, 97)\"}}, {\"type\": \"scatter3d\", \"x\": [0, 0.5419956168461716], \"y\": [0, 0.5997524835703508], \"z\": [0, 0.5886745363702544], \"opacity\": 0.3, \"mode\": \"lines\", \"showlegend\": false, \"line\": {\"color\": \"rgb(255, 105, 97)\"}}, {\"type\": \"scatter3d\", \"x\": [0, 0.5094239203063663], \"y\": [0, 0.6333556037117642], \"z\": [0, 0.5825357917472536], \"opacity\": 0.3, \"mode\": \"lines\", \"showlegend\": false, \"line\": {\"color\": \"rgb(255, 105, 97)\"}}, {\"type\": \"scatter3d\", \"x\": [0, 0.47227094594266344], \"y\": [0, 0.667079087052105], \"z\": [0, 0.5761645990827206], \"opacity\": 0.3, \"mode\": \"lines\", \"showlegend\": false, \"line\": {\"color\": \"rgb(255, 105, 97)\"}}, {\"type\": \"scatter3d\", \"x\": [0, 0.42913134694848204], \"y\": [0, 0.7010436389636596], \"z\": [0, 0.5695472792795798], \"opacity\": 0.3, \"mode\": \"lines\", \"showlegend\": false, \"line\": {\"color\": \"rgb(255, 105, 97)\"}}, {\"type\": \"scatter3d\", \"x\": [0, 0.3776875619311621], \"y\": [0, 0.7353608898885642], \"z\": [0, 0.562669056537494], \"opacity\": 0.3, \"mode\": \"lines\", \"showlegend\": false, \"line\": {\"color\": \"rgb(255, 105, 97)\"}}, {\"type\": \"scatter3d\", \"x\": [0, 0.31351862062397406], \"y\": [0, 0.7701365658948324], \"z\": [0, 0.5555139461739509], \"opacity\": 0.3, \"mode\": \"lines\", \"showlegend\": false, \"line\": {\"color\": \"rgb(255, 105, 97)\"}}, {\"type\": \"scatter3d\", \"x\": [0, 0.22547386245080886], \"y\": [0, 0.8054729669339397], \"z\": [0, 0.5480646283880672], \"opacity\": 0.3, \"mode\": \"lines\", \"showlegend\": false, \"line\": {\"color\": \"rgb(255, 105, 97)\"}}, {\"type\": \"scatter3d\", \"x\": [0, 6.123233995736766e-17], \"y\": [0, 0.8414709848078965], \"z\": [0, 0.5403023058681398], \"opacity\": 0.3, \"mode\": \"lines\", \"showlegend\": false, \"line\": {\"color\": \"rgb(255, 105, 97)\"}}, {\"type\": \"scatter3d\", \"x\": [0, 6.123233995736766e-17], \"y\": [0, 0.8414709848078965], \"z\": [0, 0.5403023058681398], \"opacity\": 0.3, \"mode\": \"lines\", \"showlegend\": false, \"line\": {\"color\": \"rgb(255, 105, 97)\"}}, {\"type\": \"scatter3d\", \"x\": [0, -0.22547386245080897], \"y\": [0, 0.8054729669339397], \"z\": [0, 0.5480646283880672], \"opacity\": 0.3, \"mode\": \"lines\", \"showlegend\": false, \"line\": {\"color\": \"rgb(255, 105, 97)\"}}, {\"type\": \"scatter3d\", \"x\": [0, -0.3135186206239742], \"y\": [0, 0.7701365658948324], \"z\": [0, 0.5555139461739508], \"opacity\": 0.3, \"mode\": \"lines\", \"showlegend\": false, \"line\": {\"color\": \"rgb(255, 105, 97)\"}}, {\"type\": \"scatter3d\", \"x\": [0, -0.3776875619311622], \"y\": [0, 0.7353608898885642], \"z\": [0, 0.562669056537494], \"opacity\": 0.3, \"mode\": \"lines\", \"showlegend\": false, \"line\": {\"color\": \"rgb(255, 105, 97)\"}}, {\"type\": \"scatter3d\", \"x\": [0, -0.42913134694848215], \"y\": [0, 0.7010436389636595], \"z\": [0, 0.5695472792795797], \"opacity\": 0.3, \"mode\": \"lines\", \"showlegend\": false, \"line\": {\"color\": \"rgb(255, 105, 97)\"}}, {\"type\": \"scatter3d\", \"x\": [0, -0.47227094594266333], \"y\": [0, 0.6670790870521051], \"z\": [0, 0.5761645990827206], \"opacity\": 0.3, \"mode\": \"lines\", \"showlegend\": false, \"line\": {\"color\": \"rgb(255, 105, 97)\"}}, {\"type\": \"scatter3d\", \"x\": [0, -0.509423920306366], \"y\": [0, 0.6333556037117645], \"z\": [0, 0.5825357917472538], \"opacity\": 0.3, \"mode\": \"lines\", \"showlegend\": false, \"line\": {\"color\": \"rgb(255, 105, 97)\"}}, {\"type\": \"scatter3d\", \"x\": [0, -0.5419956168461715], \"y\": [0, 0.5997524835703508], \"z\": [0, 0.5886745363702545], \"opacity\": 0.3, \"mode\": \"lines\", \"showlegend\": false, \"line\": {\"color\": \"rgb(255, 105, 97)\"}}, {\"type\": \"scatter3d\", \"x\": [0, -0.570919338350225], \"y\": [0, 0.5661357264016289], \"z\": [0, 0.5945935152601659], \"opacity\": 0.3, \"mode\": \"lines\", \"showlegend\": false, \"line\": {\"color\": \"rgb(255, 105, 97)\"}}, {\"type\": \"scatter3d\", \"x\": [0, -0.5968547917725454], \"y\": [0, 0.5323521964525514], \"z\": [0, 0.6003045031234527], \"opacity\": 0.3, \"mode\": \"lines\", \"showlegend\": false, \"line\": {\"color\": \"rgb(255, 105, 97)\"}}, {\"type\": \"scatter3d\", \"x\": [0, -0.620289962821389], \"y\": [0, 0.49822120738397646], \"z\": [0, 0.605818446843518], \"opacity\": 0.3, \"mode\": \"lines\", \"showlegend\": false, \"line\": {\"color\": \"rgb(255, 105, 97)\"}}, {\"type\": \"scatter3d\", \"x\": [0, -0.6415984840062254], \"y\": [0, 0.4635218634957365], \"z\": [0, 0.611145536989638], \"opacity\": 0.3, \"mode\": \"lines\", \"showlegend\": false, \"line\": {\"color\": \"rgb(255, 105, 97)\"}}, {\"type\": \"scatter3d\", \"x\": [0, -0.6610742710327008], \"y\": [0, 0.4279730667236512], \"z\": [0, 0.6162952720390904], \"opacity\": 0.3, \"mode\": \"lines\", \"showlegend\": false, \"line\": {\"color\": \"rgb(255, 105, 97)\"}}, {\"type\": \"scatter3d\", \"x\": [0, -0.6789536063359858], \"y\": [0, 0.39120006506404875], \"z\": [0, 0.6212765161642947], \"opacity\": 0.3, \"mode\": \"lines\", \"showlegend\": false, \"line\": {\"color\": \"rgb(255, 105, 97)\"}}, {\"type\": \"scatter3d\", \"x\": [0, -0.6954298506091805], \"y\": [0, 0.35267432442227775], \"z\": [0, 0.6260975513248578], \"opacity\": 0.3, \"mode\": \"lines\", \"showlegend\": false, \"line\": {\"color\": \"rgb(255, 105, 97)\"}}, {\"type\": \"scatter3d\", \"x\": [0, -0.7106636034397797], \"y\": [0, 0.3115948317454929], \"z\": [0, 0.6307661243087532], \"opacity\": 0.3, \"mode\": \"lines\", \"showlegend\": false, \"line\": {\"color\": \"rgb(255, 105, 97)\"}}, {\"type\": \"scatter3d\", \"x\": [0, -0.7247899360722032], \"y\": [0, 0.26662110451455856], \"z\": [0, 0.6352894892849154], \"opacity\": 0.3, \"mode\": \"lines\", \"showlegend\": false, \"line\": {\"color\": \"rgb(255, 105, 97)\"}}, {\"type\": \"scatter3d\", \"x\": [0, -0.737923673757327], \"y\": [0, 0.21514008083961847], \"z\": [0, 0.6396744463590932], \"opacity\": 0.3, \"mode\": \"lines\", \"showlegend\": false, \"line\": {\"color\": \"rgb(255, 105, 97)\"}}, {\"type\": \"scatter3d\", \"x\": [0, -0.7501633396051501], \"y\": [0, 0.15037452451667585], \"z\": [0, 0.6439273765641835], \"opacity\": 0.3, \"mode\": \"lines\", \"showlegend\": false, \"line\": {\"color\": \"rgb(255, 105, 97)\"}}, {\"type\": \"scatter3d\", \"x\": [0, -0.761594155955765], \"y\": [0, 0.0], \"z\": [0, 0.6480542736638853], \"opacity\": 0.3, \"mode\": \"lines\", \"showlegend\": false, \"line\": {\"color\": \"rgb(255, 105, 97)\"}}, {\"type\": \"scatter3d\", \"x\": [0, -0.761594155955765], \"y\": [0, 0.0], \"z\": [0, 0.6480542736638853], \"opacity\": 0.3, \"mode\": \"lines\", \"showlegend\": false, \"line\": {\"color\": \"rgb(255, 105, 97)\"}}, {\"type\": \"scatter3d\", \"x\": [0, -0.7501633396051501], \"y\": [0, -0.15037452451667585], \"z\": [0, 0.6439273765641835], \"opacity\": 0.3, \"mode\": \"lines\", \"showlegend\": false, \"line\": {\"color\": \"rgb(255, 105, 97)\"}}, {\"type\": \"scatter3d\", \"x\": [0, -0.737923673757327], \"y\": [0, -0.21514008083961847], \"z\": [0, 0.6396744463590932], \"opacity\": 0.3, \"mode\": \"lines\", \"showlegend\": false, \"line\": {\"color\": \"rgb(255, 105, 97)\"}}, {\"type\": \"scatter3d\", \"x\": [0, -0.7247899360722032], \"y\": [0, -0.26662110451455856], \"z\": [0, 0.6352894892849154], \"opacity\": 0.3, \"mode\": \"lines\", \"showlegend\": false, \"line\": {\"color\": \"rgb(255, 105, 97)\"}}, {\"type\": \"scatter3d\", \"x\": [0, -0.7106636034397797], \"y\": [0, -0.3115948317454929], \"z\": [0, 0.6307661243087532], \"opacity\": 0.3, \"mode\": \"lines\", \"showlegend\": false, \"line\": {\"color\": \"rgb(255, 105, 97)\"}}, {\"type\": \"scatter3d\", \"x\": [0, -0.6954298506091805], \"y\": [0, -0.35267432442227775], \"z\": [0, 0.6260975513248578], \"opacity\": 0.3, \"mode\": \"lines\", \"showlegend\": false, \"line\": {\"color\": \"rgb(255, 105, 97)\"}}, {\"type\": \"scatter3d\", \"x\": [0, -0.6789536063359858], \"y\": [0, -0.39120006506404875], \"z\": [0, 0.6212765161642947], \"opacity\": 0.3, \"mode\": \"lines\", \"showlegend\": false, \"line\": {\"color\": \"rgb(255, 105, 97)\"}}, {\"type\": \"scatter3d\", \"x\": [0, -0.6610742710327008], \"y\": [0, -0.4279730667236512], \"z\": [0, 0.6162952720390904], \"opacity\": 0.3, \"mode\": \"lines\", \"showlegend\": false, \"line\": {\"color\": \"rgb(255, 105, 97)\"}}, {\"type\": \"scatter3d\", \"x\": [0, -0.6415984840062254], \"y\": [0, -0.4635218634957365], \"z\": [0, 0.611145536989638], \"opacity\": 0.3, \"mode\": \"lines\", \"showlegend\": false, \"line\": {\"color\": \"rgb(255, 105, 97)\"}}, {\"type\": \"scatter3d\", \"x\": [0, -0.620289962821389], \"y\": [0, -0.49822120738397646], \"z\": [0, 0.605818446843518], \"opacity\": 0.3, \"mode\": \"lines\", \"showlegend\": false, \"line\": {\"color\": \"rgb(255, 105, 97)\"}}, {\"type\": \"scatter3d\", \"x\": [0, -0.5968547917725454], \"y\": [0, -0.5323521964525514], \"z\": [0, 0.6003045031234527], \"opacity\": 0.3, \"mode\": \"lines\", \"showlegend\": false, \"line\": {\"color\": \"rgb(255, 105, 97)\"}}, {\"type\": \"scatter3d\", \"x\": [0, -0.570919338350225], \"y\": [0, -0.5661357264016289], \"z\": [0, 0.5945935152601659], \"opacity\": 0.3, \"mode\": \"lines\", \"showlegend\": false, \"line\": {\"color\": \"rgb(255, 105, 97)\"}}, {\"type\": \"scatter3d\", \"x\": [0, -0.5419956168461715], \"y\": [0, -0.5997524835703508], \"z\": [0, 0.5886745363702545], \"opacity\": 0.3, \"mode\": \"lines\", \"showlegend\": false, \"line\": {\"color\": \"rgb(255, 105, 97)\"}}, {\"type\": \"scatter3d\", \"x\": [0, -0.509423920306366], \"y\": [0, -0.6333556037117645], \"z\": [0, 0.5825357917472538], \"opacity\": 0.3, \"mode\": \"lines\", \"showlegend\": false, \"line\": {\"color\": \"rgb(255, 105, 97)\"}}, {\"type\": \"scatter3d\", \"x\": [0, -0.47227094594266333], \"y\": [0, -0.6670790870521051], \"z\": [0, 0.5761645990827206], \"opacity\": 0.3, \"mode\": \"lines\", \"showlegend\": false, \"line\": {\"color\": \"rgb(255, 105, 97)\"}}, {\"type\": \"scatter3d\", \"x\": [0, -0.42913134694848215], \"y\": [0, -0.7010436389636595], \"z\": [0, 0.5695472792795797], \"opacity\": 0.3, \"mode\": \"lines\", \"showlegend\": false, \"line\": {\"color\": \"rgb(255, 105, 97)\"}}, {\"type\": \"scatter3d\", \"x\": [0, -0.3776875619311622], \"y\": [0, -0.7353608898885642], \"z\": [0, 0.562669056537494], \"opacity\": 0.3, \"mode\": \"lines\", \"showlegend\": false, \"line\": {\"color\": \"rgb(255, 105, 97)\"}}, {\"type\": \"scatter3d\", \"x\": [0, -0.3135186206239742], \"y\": [0, -0.7701365658948324], \"z\": [0, 0.5555139461739508], \"opacity\": 0.3, \"mode\": \"lines\", \"showlegend\": false, \"line\": {\"color\": \"rgb(255, 105, 97)\"}}, {\"type\": \"scatter3d\", \"x\": [0, -0.22547386245080897], \"y\": [0, -0.8054729669339397], \"z\": [0, 0.5480646283880672], \"opacity\": 0.3, \"mode\": \"lines\", \"showlegend\": false, \"line\": {\"color\": \"rgb(255, 105, 97)\"}}, {\"type\": \"scatter3d\", \"x\": [0, 6.123233995736766e-17], \"y\": [0, -0.8414709848078965], \"z\": [0, 0.5403023058681398], \"opacity\": 0.3, \"mode\": \"lines\", \"showlegend\": false, \"line\": {\"color\": \"rgb(255, 105, 97)\"}}, {\"type\": \"scatter3d\", \"x\": [0, 6.123233995736766e-17], \"y\": [0, -0.8414709848078965], \"z\": [0, 0.5403023058681398], \"opacity\": 0.3, \"mode\": \"lines\", \"showlegend\": false, \"line\": {\"color\": \"rgb(255, 105, 97)\"}}, {\"type\": \"scatter3d\", \"x\": [0, 0.22547386245080886], \"y\": [0, -0.8054729669339397], \"z\": [0, 0.5480646283880672], \"opacity\": 0.3, \"mode\": \"lines\", \"showlegend\": false, \"line\": {\"color\": \"rgb(255, 105, 97)\"}}, {\"type\": \"scatter3d\", \"x\": [0, 0.31351862062397406], \"y\": [0, -0.7701365658948324], \"z\": [0, 0.5555139461739509], \"opacity\": 0.3, \"mode\": \"lines\", \"showlegend\": false, \"line\": {\"color\": \"rgb(255, 105, 97)\"}}, {\"type\": \"scatter3d\", \"x\": [0, 0.3776875619311621], \"y\": [0, -0.7353608898885642], \"z\": [0, 0.562669056537494], \"opacity\": 0.3, \"mode\": \"lines\", \"showlegend\": false, \"line\": {\"color\": \"rgb(255, 105, 97)\"}}, {\"type\": \"scatter3d\", \"x\": [0, 0.42913134694848204], \"y\": [0, -0.7010436389636596], \"z\": [0, 0.5695472792795798], \"opacity\": 0.3, \"mode\": \"lines\", \"showlegend\": false, \"line\": {\"color\": \"rgb(255, 105, 97)\"}}, {\"type\": \"scatter3d\", \"x\": [0, 0.47227094594266344], \"y\": [0, -0.667079087052105], \"z\": [0, 0.5761645990827206], \"opacity\": 0.3, \"mode\": \"lines\", \"showlegend\": false, \"line\": {\"color\": \"rgb(255, 105, 97)\"}}, {\"type\": \"scatter3d\", \"x\": [0, 0.5094239203063663], \"y\": [0, -0.6333556037117642], \"z\": [0, 0.5825357917472536], \"opacity\": 0.3, \"mode\": \"lines\", \"showlegend\": false, \"line\": {\"color\": \"rgb(255, 105, 97)\"}}, {\"type\": \"scatter3d\", \"x\": [0, 0.5419956168461716], \"y\": [0, -0.5997524835703508], \"z\": [0, 0.5886745363702544], \"opacity\": 0.3, \"mode\": \"lines\", \"showlegend\": false, \"line\": {\"color\": \"rgb(255, 105, 97)\"}}, {\"type\": \"scatter3d\", \"x\": [0, 0.570919338350225], \"y\": [0, -0.5661357264016289], \"z\": [0, 0.5945935152601659], \"opacity\": 0.3, \"mode\": \"lines\", \"showlegend\": false, \"line\": {\"color\": \"rgb(255, 105, 97)\"}}, {\"type\": \"scatter3d\", \"x\": [0, 0.5968547917725454], \"y\": [0, -0.5323521964525514], \"z\": [0, 0.6003045031234527], \"opacity\": 0.3, \"mode\": \"lines\", \"showlegend\": false, \"line\": {\"color\": \"rgb(255, 105, 97)\"}}, {\"type\": \"scatter3d\", \"x\": [0, 0.6202899628213892], \"y\": [0, -0.4982212073839764], \"z\": [0, 0.605818446843518], \"opacity\": 0.3, \"mode\": \"lines\", \"showlegend\": false, \"line\": {\"color\": \"rgb(255, 105, 97)\"}}, {\"type\": \"scatter3d\", \"x\": [0, 0.6415984840062257], \"y\": [0, -0.4635218634957364], \"z\": [0, 0.6111455369896379], \"opacity\": 0.3, \"mode\": \"lines\", \"showlegend\": false, \"line\": {\"color\": \"rgb(255, 105, 97)\"}}, {\"type\": \"scatter3d\", \"x\": [0, 0.6610742710327009], \"y\": [0, -0.42797306672365115], \"z\": [0, 0.6162952720390903], \"opacity\": 0.3, \"mode\": \"lines\", \"showlegend\": false, \"line\": {\"color\": \"rgb(255, 105, 97)\"}}, {\"type\": \"scatter3d\", \"x\": [0, 0.6789536063359859], \"y\": [0, -0.39120006506404875], \"z\": [0, 0.6212765161642947], \"opacity\": 0.3, \"mode\": \"lines\", \"showlegend\": false, \"line\": {\"color\": \"rgb(255, 105, 97)\"}}, {\"type\": \"scatter3d\", \"x\": [0, 0.6954298506091808], \"y\": [0, -0.3526743244222776], \"z\": [0, 0.6260975513248574], \"opacity\": 0.3, \"mode\": \"lines\", \"showlegend\": false, \"line\": {\"color\": \"rgb(255, 105, 97)\"}}, {\"type\": \"scatter3d\", \"x\": [0, 0.7106636034397795], \"y\": [0, -0.3115948317454929], \"z\": [0, 0.6307661243087533], \"opacity\": 0.3, \"mode\": \"lines\", \"showlegend\": false, \"line\": {\"color\": \"rgb(255, 105, 97)\"}}, {\"type\": \"scatter3d\", \"x\": [0, 0.7247899360722031], \"y\": [0, -0.26662110451455856], \"z\": [0, 0.6352894892849155], \"opacity\": 0.3, \"mode\": \"lines\", \"showlegend\": false, \"line\": {\"color\": \"rgb(255, 105, 97)\"}}, {\"type\": \"scatter3d\", \"x\": [0, 0.7379236737573273], \"y\": [0, -0.21514008083961841], \"z\": [0, 0.639674446359093], \"opacity\": 0.3, \"mode\": \"lines\", \"showlegend\": false, \"line\": {\"color\": \"rgb(255, 105, 97)\"}}, {\"type\": \"scatter3d\", \"x\": [0, 0.7501633396051502], \"y\": [0, -0.15037452451667582], \"z\": [0, 0.6439273765641834], \"opacity\": 0.3, \"mode\": \"lines\", \"showlegend\": false, \"line\": {\"color\": \"rgb(255, 105, 97)\"}}, {\"type\": \"scatter3d\", \"x\": [0, 0.7615941559557649], \"y\": [0, 0.0], \"z\": [0, 0.6480542736638855], \"opacity\": 0.3, \"mode\": \"lines\", \"showlegend\": false, \"line\": {\"color\": \"rgb(255, 105, 97)\"}}], {\"margin\": {\"l\": 0, \"r\": 0, \"b\": 0, \"t\": 0}, \"scene\": {\"xaxis\": {\"title\": \"Z\"}, \"yaxis\": {\"title\": \"Y\"}, \"zaxis\": {\"title\": \"X\"}}}, {\"showLink\": true, \"linkText\": \"Export to plot.ly\"})});</script>"
      ],
      "text/vnd.plotly.v1+html": [
       "<div id=\"aed44389-b19a-4b9b-b636-c7e0506c9894\" style=\"height: 525px; width: 100%;\" class=\"plotly-graph-div\"></div><script type=\"text/javascript\">require([\"plotly\"], function(Plotly) { window.PLOTLYENV=window.PLOTLYENV || {};window.PLOTLYENV.BASE_URL=\"https://plot.ly\";Plotly.newPlot(\"aed44389-b19a-4b9b-b636-c7e0506c9894\", [{\"type\": \"scatter3d\", \"x\": [-1.0, 1.0], \"y\": [0, 0], \"z\": [0, 0], \"mode\": \"lines\", \"showlegend\": false, \"line\": {\"color\": \"rgb(0,33,71)\", \"width\": 5}}, {\"type\": \"surface\", \"x\": [[-1.0, -1.0, -1.0, -1.0, -1.0, -1.0, -1.0, -1.0, -1.0, -1.0], [1.0, 1.0, 1.0, 1.0, 1.0, 1.0, 1.0, 1.0, 1.0, 1.0]], \"y\": [[0.0, 0.342020143325669, 0.6427876096865394, 0.8660254037844386, 0.984807753012208, 0.984807753012208, 0.8660254037844388, 0.6427876096865395, 0.342020143325669, 0.0], [0.0, 0.342020143325669, 0.6427876096865394, 0.8660254037844386, 0.984807753012208, 0.984807753012208, 0.8660254037844388, 0.6427876096865395, 0.342020143325669, 0.0]], \"z\": [[-1.0, -0.9396926207859083, -0.766044443118978, -0.5, -0.17364817766693036, 0.17364817766693036, 0.49999999999999983, 0.7660444431189779, 0.9396926207859083, 1.0], [-1.0, -0.9396926207859083, -0.766044443118978, -0.5, -0.17364817766693036, 0.17364817766693036, 0.49999999999999983, 0.7660444431189779, 0.9396926207859083, 1.0]], \"surfacecolor\": [1, 1], \"showscale\": false, \"opacity\": 0.4}, {\"type\": \"surface\", \"x\": [[-1.0, -1.0, -1.0, -1.0, -1.0, -1.0, -1.0, -1.0, -1.0, -1.0], [1.0, 1.0, 1.0, 1.0, 1.0, 1.0, 1.0, 1.0, 1.0, 1.0]], \"y\": [[-0.0, -0.342020143325669, -0.6427876096865394, -0.8660254037844386, -0.984807753012208, -0.984807753012208, -0.8660254037844388, -0.6427876096865395, -0.342020143325669, -0.0], [-0.0, -0.342020143325669, -0.6427876096865394, -0.8660254037844386, -0.984807753012208, -0.984807753012208, -0.8660254037844388, -0.6427876096865395, -0.342020143325669, -0.0]], \"z\": [[-1.0, -0.9396926207859083, -0.766044443118978, -0.5, -0.17364817766693036, 0.17364817766693036, 0.49999999999999983, 0.7660444431189779, 0.9396926207859083, 1.0], [-1.0, -0.9396926207859083, -0.766044443118978, -0.5, -0.17364817766693036, 0.17364817766693036, 0.49999999999999983, 0.7660444431189779, 0.9396926207859083, 1.0]], \"surfacecolor\": [1, 1], \"showscale\": false, \"opacity\": 0.4}, {\"type\": \"scatter3d\", \"x\": [0.0, 6.123233995736766e-17], \"y\": [0.0, 0.0], \"z\": [0.0, 1.0], \"mode\": \"lines\", \"showlegend\": false, \"line\": {\"color\": \"rgb(255, 105, 97)\", \"width\": 7}}, {\"type\": \"scatter3d\", \"x\": [0.7615941559557649, 0.7501633396051502, 0.7379236737573273, 0.7247899360722031, 0.7106636034397795, 0.6954298506091808, 0.6789536063359859, 0.6610742710327009, 0.6415984840062257, 0.6202899628213892, 0.5968547917725454, 0.570919338350225, 0.5419956168461716, 0.5094239203063663, 0.47227094594266344, 0.42913134694848204, 0.3776875619311621, 0.31351862062397406, 0.22547386245080886, 6.123233995736766e-17, 6.123233995736766e-17, -0.22547386245080897, -0.3135186206239742, -0.3776875619311622, -0.42913134694848215, -0.47227094594266333, -0.509423920306366, -0.5419956168461715, -0.570919338350225, -0.5968547917725454, -0.620289962821389, -0.6415984840062254, -0.6610742710327008, -0.6789536063359858, -0.6954298506091805, -0.7106636034397797, -0.7247899360722032, -0.737923673757327, -0.7501633396051501, -0.761594155955765, -0.761594155955765, -0.7501633396051501, -0.737923673757327, -0.7247899360722032, -0.7106636034397797, -0.6954298506091805, -0.6789536063359858, -0.6610742710327008, -0.6415984840062254, -0.620289962821389, -0.5968547917725454, -0.570919338350225, -0.5419956168461715, -0.509423920306366, -0.47227094594266333, -0.42913134694848215, -0.3776875619311622, -0.3135186206239742, -0.22547386245080897, 6.123233995736766e-17, 6.123233995736766e-17, 0.22547386245080886, 0.31351862062397406, 0.3776875619311621, 0.42913134694848204, 0.47227094594266344, 0.5094239203063663, 0.5419956168461716, 0.570919338350225, 0.5968547917725454, 0.6202899628213892, 0.6415984840062257, 0.6610742710327009, 0.6789536063359859, 0.6954298506091808, 0.7106636034397795, 0.7247899360722031, 0.7379236737573273, 0.7501633396051502, 0.7615941559557649], \"y\": [0.0, 0.15037452451667582, 0.21514008083961841, 0.26662110451455856, 0.3115948317454929, 0.3526743244222776, 0.39120006506404875, 0.42797306672365115, 0.4635218634957364, 0.4982212073839764, 0.5323521964525514, 0.5661357264016289, 0.5997524835703508, 0.6333556037117642, 0.667079087052105, 0.7010436389636596, 0.7353608898885642, 0.7701365658948324, 0.8054729669339397, 0.8414709848078965, 0.8414709848078965, 0.8054729669339397, 0.7701365658948324, 0.7353608898885642, 0.7010436389636595, 0.6670790870521051, 0.6333556037117645, 0.5997524835703508, 0.5661357264016289, 0.5323521964525514, 0.49822120738397646, 0.4635218634957365, 0.4279730667236512, 0.39120006506404875, 0.35267432442227775, 0.3115948317454929, 0.26662110451455856, 0.21514008083961847, 0.15037452451667585, 0.0, 0.0, -0.15037452451667585, -0.21514008083961847, -0.26662110451455856, -0.3115948317454929, -0.35267432442227775, -0.39120006506404875, -0.4279730667236512, -0.4635218634957365, -0.49822120738397646, -0.5323521964525514, -0.5661357264016289, -0.5997524835703508, -0.6333556037117645, -0.6670790870521051, -0.7010436389636595, -0.7353608898885642, -0.7701365658948324, -0.8054729669339397, -0.8414709848078965, -0.8414709848078965, -0.8054729669339397, -0.7701365658948324, -0.7353608898885642, -0.7010436389636596, -0.667079087052105, -0.6333556037117642, -0.5997524835703508, -0.5661357264016289, -0.5323521964525514, -0.4982212073839764, -0.4635218634957364, -0.42797306672365115, -0.39120006506404875, -0.3526743244222776, -0.3115948317454929, -0.26662110451455856, -0.21514008083961841, -0.15037452451667582, 0.0], \"z\": [0.6480542736638855, 0.6439273765641834, 0.639674446359093, 0.6352894892849155, 0.6307661243087533, 0.6260975513248574, 0.6212765161642947, 0.6162952720390903, 0.6111455369896379, 0.605818446843518, 0.6003045031234527, 0.5945935152601659, 0.5886745363702544, 0.5825357917472536, 0.5761645990827206, 0.5695472792795798, 0.562669056537494, 0.5555139461739509, 0.5480646283880672, 0.5403023058681398, 0.5403023058681398, 0.5480646283880672, 0.5555139461739508, 0.562669056537494, 0.5695472792795797, 0.5761645990827206, 0.5825357917472538, 0.5886745363702545, 0.5945935152601659, 0.6003045031234527, 0.605818446843518, 0.611145536989638, 0.6162952720390904, 0.6212765161642947, 0.6260975513248578, 0.6307661243087532, 0.6352894892849154, 0.6396744463590932, 0.6439273765641835, 0.6480542736638853, 0.6480542736638853, 0.6439273765641835, 0.6396744463590932, 0.6352894892849154, 0.6307661243087532, 0.6260975513248578, 0.6212765161642947, 0.6162952720390904, 0.611145536989638, 0.605818446843518, 0.6003045031234527, 0.5945935152601659, 0.5886745363702545, 0.5825357917472538, 0.5761645990827206, 0.5695472792795797, 0.562669056537494, 0.5555139461739508, 0.5480646283880672, 0.5403023058681398, 0.5403023058681398, 0.5480646283880672, 0.5555139461739509, 0.562669056537494, 0.5695472792795798, 0.5761645990827206, 0.5825357917472536, 0.5886745363702544, 0.5945935152601659, 0.6003045031234527, 0.605818446843518, 0.6111455369896379, 0.6162952720390903, 0.6212765161642947, 0.6260975513248574, 0.6307661243087533, 0.6352894892849155, 0.639674446359093, 0.6439273765641834, 0.6480542736638855], \"mode\": \"lines\", \"showlegend\": false, \"line\": {\"color\": \"rgb(255, 105, 97)\", \"width\": 5}}, {\"type\": \"scatter3d\", \"x\": [0, 0.7615941559557649], \"y\": [0, 0.0], \"z\": [0, 0.6480542736638855], \"opacity\": 0.3, \"mode\": \"lines\", \"showlegend\": false, \"line\": {\"color\": \"rgb(255, 105, 97)\"}}, {\"type\": \"scatter3d\", \"x\": [0, 0.7501633396051502], \"y\": [0, 0.15037452451667582], \"z\": [0, 0.6439273765641834], \"opacity\": 0.3, \"mode\": \"lines\", \"showlegend\": false, \"line\": {\"color\": \"rgb(255, 105, 97)\"}}, {\"type\": \"scatter3d\", \"x\": [0, 0.7379236737573273], \"y\": [0, 0.21514008083961841], \"z\": [0, 0.639674446359093], \"opacity\": 0.3, \"mode\": \"lines\", \"showlegend\": false, \"line\": {\"color\": \"rgb(255, 105, 97)\"}}, {\"type\": \"scatter3d\", \"x\": [0, 0.7247899360722031], \"y\": [0, 0.26662110451455856], \"z\": [0, 0.6352894892849155], \"opacity\": 0.3, \"mode\": \"lines\", \"showlegend\": false, \"line\": {\"color\": \"rgb(255, 105, 97)\"}}, {\"type\": \"scatter3d\", \"x\": [0, 0.7106636034397795], \"y\": [0, 0.3115948317454929], \"z\": [0, 0.6307661243087533], \"opacity\": 0.3, \"mode\": \"lines\", \"showlegend\": false, \"line\": {\"color\": \"rgb(255, 105, 97)\"}}, {\"type\": \"scatter3d\", \"x\": [0, 0.6954298506091808], \"y\": [0, 0.3526743244222776], \"z\": [0, 0.6260975513248574], \"opacity\": 0.3, \"mode\": \"lines\", \"showlegend\": false, \"line\": {\"color\": \"rgb(255, 105, 97)\"}}, {\"type\": \"scatter3d\", \"x\": [0, 0.6789536063359859], \"y\": [0, 0.39120006506404875], \"z\": [0, 0.6212765161642947], \"opacity\": 0.3, \"mode\": \"lines\", \"showlegend\": false, \"line\": {\"color\": \"rgb(255, 105, 97)\"}}, {\"type\": \"scatter3d\", \"x\": [0, 0.6610742710327009], \"y\": [0, 0.42797306672365115], \"z\": [0, 0.6162952720390903], \"opacity\": 0.3, \"mode\": \"lines\", \"showlegend\": false, \"line\": {\"color\": \"rgb(255, 105, 97)\"}}, {\"type\": \"scatter3d\", \"x\": [0, 0.6415984840062257], \"y\": [0, 0.4635218634957364], \"z\": [0, 0.6111455369896379], \"opacity\": 0.3, \"mode\": \"lines\", \"showlegend\": false, \"line\": {\"color\": \"rgb(255, 105, 97)\"}}, {\"type\": \"scatter3d\", \"x\": [0, 0.6202899628213892], \"y\": [0, 0.4982212073839764], \"z\": [0, 0.605818446843518], \"opacity\": 0.3, \"mode\": \"lines\", \"showlegend\": false, \"line\": {\"color\": \"rgb(255, 105, 97)\"}}, {\"type\": \"scatter3d\", \"x\": [0, 0.5968547917725454], \"y\": [0, 0.5323521964525514], \"z\": [0, 0.6003045031234527], \"opacity\": 0.3, \"mode\": \"lines\", \"showlegend\": false, \"line\": {\"color\": \"rgb(255, 105, 97)\"}}, {\"type\": \"scatter3d\", \"x\": [0, 0.570919338350225], \"y\": [0, 0.5661357264016289], \"z\": [0, 0.5945935152601659], \"opacity\": 0.3, \"mode\": \"lines\", \"showlegend\": false, \"line\": {\"color\": \"rgb(255, 105, 97)\"}}, {\"type\": \"scatter3d\", \"x\": [0, 0.5419956168461716], \"y\": [0, 0.5997524835703508], \"z\": [0, 0.5886745363702544], \"opacity\": 0.3, \"mode\": \"lines\", \"showlegend\": false, \"line\": {\"color\": \"rgb(255, 105, 97)\"}}, {\"type\": \"scatter3d\", \"x\": [0, 0.5094239203063663], \"y\": [0, 0.6333556037117642], \"z\": [0, 0.5825357917472536], \"opacity\": 0.3, \"mode\": \"lines\", \"showlegend\": false, \"line\": {\"color\": \"rgb(255, 105, 97)\"}}, {\"type\": \"scatter3d\", \"x\": [0, 0.47227094594266344], \"y\": [0, 0.667079087052105], \"z\": [0, 0.5761645990827206], \"opacity\": 0.3, \"mode\": \"lines\", \"showlegend\": false, \"line\": {\"color\": \"rgb(255, 105, 97)\"}}, {\"type\": \"scatter3d\", \"x\": [0, 0.42913134694848204], \"y\": [0, 0.7010436389636596], \"z\": [0, 0.5695472792795798], \"opacity\": 0.3, \"mode\": \"lines\", \"showlegend\": false, \"line\": {\"color\": \"rgb(255, 105, 97)\"}}, {\"type\": \"scatter3d\", \"x\": [0, 0.3776875619311621], \"y\": [0, 0.7353608898885642], \"z\": [0, 0.562669056537494], \"opacity\": 0.3, \"mode\": \"lines\", \"showlegend\": false, \"line\": {\"color\": \"rgb(255, 105, 97)\"}}, {\"type\": \"scatter3d\", \"x\": [0, 0.31351862062397406], \"y\": [0, 0.7701365658948324], \"z\": [0, 0.5555139461739509], \"opacity\": 0.3, \"mode\": \"lines\", \"showlegend\": false, \"line\": {\"color\": \"rgb(255, 105, 97)\"}}, {\"type\": \"scatter3d\", \"x\": [0, 0.22547386245080886], \"y\": [0, 0.8054729669339397], \"z\": [0, 0.5480646283880672], \"opacity\": 0.3, \"mode\": \"lines\", \"showlegend\": false, \"line\": {\"color\": \"rgb(255, 105, 97)\"}}, {\"type\": \"scatter3d\", \"x\": [0, 6.123233995736766e-17], \"y\": [0, 0.8414709848078965], \"z\": [0, 0.5403023058681398], \"opacity\": 0.3, \"mode\": \"lines\", \"showlegend\": false, \"line\": {\"color\": \"rgb(255, 105, 97)\"}}, {\"type\": \"scatter3d\", \"x\": [0, 6.123233995736766e-17], \"y\": [0, 0.8414709848078965], \"z\": [0, 0.5403023058681398], \"opacity\": 0.3, \"mode\": \"lines\", \"showlegend\": false, \"line\": {\"color\": \"rgb(255, 105, 97)\"}}, {\"type\": \"scatter3d\", \"x\": [0, -0.22547386245080897], \"y\": [0, 0.8054729669339397], \"z\": [0, 0.5480646283880672], \"opacity\": 0.3, \"mode\": \"lines\", \"showlegend\": false, \"line\": {\"color\": \"rgb(255, 105, 97)\"}}, {\"type\": \"scatter3d\", \"x\": [0, -0.3135186206239742], \"y\": [0, 0.7701365658948324], \"z\": [0, 0.5555139461739508], \"opacity\": 0.3, \"mode\": \"lines\", \"showlegend\": false, \"line\": {\"color\": \"rgb(255, 105, 97)\"}}, {\"type\": \"scatter3d\", \"x\": [0, -0.3776875619311622], \"y\": [0, 0.7353608898885642], \"z\": [0, 0.562669056537494], \"opacity\": 0.3, \"mode\": \"lines\", \"showlegend\": false, \"line\": {\"color\": \"rgb(255, 105, 97)\"}}, {\"type\": \"scatter3d\", \"x\": [0, -0.42913134694848215], \"y\": [0, 0.7010436389636595], \"z\": [0, 0.5695472792795797], \"opacity\": 0.3, \"mode\": \"lines\", \"showlegend\": false, \"line\": {\"color\": \"rgb(255, 105, 97)\"}}, {\"type\": \"scatter3d\", \"x\": [0, -0.47227094594266333], \"y\": [0, 0.6670790870521051], \"z\": [0, 0.5761645990827206], \"opacity\": 0.3, \"mode\": \"lines\", \"showlegend\": false, \"line\": {\"color\": \"rgb(255, 105, 97)\"}}, {\"type\": \"scatter3d\", \"x\": [0, -0.509423920306366], \"y\": [0, 0.6333556037117645], \"z\": [0, 0.5825357917472538], \"opacity\": 0.3, \"mode\": \"lines\", \"showlegend\": false, \"line\": {\"color\": \"rgb(255, 105, 97)\"}}, {\"type\": \"scatter3d\", \"x\": [0, -0.5419956168461715], \"y\": [0, 0.5997524835703508], \"z\": [0, 0.5886745363702545], \"opacity\": 0.3, \"mode\": \"lines\", \"showlegend\": false, \"line\": {\"color\": \"rgb(255, 105, 97)\"}}, {\"type\": \"scatter3d\", \"x\": [0, -0.570919338350225], \"y\": [0, 0.5661357264016289], \"z\": [0, 0.5945935152601659], \"opacity\": 0.3, \"mode\": \"lines\", \"showlegend\": false, \"line\": {\"color\": \"rgb(255, 105, 97)\"}}, {\"type\": \"scatter3d\", \"x\": [0, -0.5968547917725454], \"y\": [0, 0.5323521964525514], \"z\": [0, 0.6003045031234527], \"opacity\": 0.3, \"mode\": \"lines\", \"showlegend\": false, \"line\": {\"color\": \"rgb(255, 105, 97)\"}}, {\"type\": \"scatter3d\", \"x\": [0, -0.620289962821389], \"y\": [0, 0.49822120738397646], \"z\": [0, 0.605818446843518], \"opacity\": 0.3, \"mode\": \"lines\", \"showlegend\": false, \"line\": {\"color\": \"rgb(255, 105, 97)\"}}, {\"type\": \"scatter3d\", \"x\": [0, -0.6415984840062254], \"y\": [0, 0.4635218634957365], \"z\": [0, 0.611145536989638], \"opacity\": 0.3, \"mode\": \"lines\", \"showlegend\": false, \"line\": {\"color\": \"rgb(255, 105, 97)\"}}, {\"type\": \"scatter3d\", \"x\": [0, -0.6610742710327008], \"y\": [0, 0.4279730667236512], \"z\": [0, 0.6162952720390904], \"opacity\": 0.3, \"mode\": \"lines\", \"showlegend\": false, \"line\": {\"color\": \"rgb(255, 105, 97)\"}}, {\"type\": \"scatter3d\", \"x\": [0, -0.6789536063359858], \"y\": [0, 0.39120006506404875], \"z\": [0, 0.6212765161642947], \"opacity\": 0.3, \"mode\": \"lines\", \"showlegend\": false, \"line\": {\"color\": \"rgb(255, 105, 97)\"}}, {\"type\": \"scatter3d\", \"x\": [0, -0.6954298506091805], \"y\": [0, 0.35267432442227775], \"z\": [0, 0.6260975513248578], \"opacity\": 0.3, \"mode\": \"lines\", \"showlegend\": false, \"line\": {\"color\": \"rgb(255, 105, 97)\"}}, {\"type\": \"scatter3d\", \"x\": [0, -0.7106636034397797], \"y\": [0, 0.3115948317454929], \"z\": [0, 0.6307661243087532], \"opacity\": 0.3, \"mode\": \"lines\", \"showlegend\": false, \"line\": {\"color\": \"rgb(255, 105, 97)\"}}, {\"type\": \"scatter3d\", \"x\": [0, -0.7247899360722032], \"y\": [0, 0.26662110451455856], \"z\": [0, 0.6352894892849154], \"opacity\": 0.3, \"mode\": \"lines\", \"showlegend\": false, \"line\": {\"color\": \"rgb(255, 105, 97)\"}}, {\"type\": \"scatter3d\", \"x\": [0, -0.737923673757327], \"y\": [0, 0.21514008083961847], \"z\": [0, 0.6396744463590932], \"opacity\": 0.3, \"mode\": \"lines\", \"showlegend\": false, \"line\": {\"color\": \"rgb(255, 105, 97)\"}}, {\"type\": \"scatter3d\", \"x\": [0, -0.7501633396051501], \"y\": [0, 0.15037452451667585], \"z\": [0, 0.6439273765641835], \"opacity\": 0.3, \"mode\": \"lines\", \"showlegend\": false, \"line\": {\"color\": \"rgb(255, 105, 97)\"}}, {\"type\": \"scatter3d\", \"x\": [0, -0.761594155955765], \"y\": [0, 0.0], \"z\": [0, 0.6480542736638853], \"opacity\": 0.3, \"mode\": \"lines\", \"showlegend\": false, \"line\": {\"color\": \"rgb(255, 105, 97)\"}}, {\"type\": \"scatter3d\", \"x\": [0, -0.761594155955765], \"y\": [0, 0.0], \"z\": [0, 0.6480542736638853], \"opacity\": 0.3, \"mode\": \"lines\", \"showlegend\": false, \"line\": {\"color\": \"rgb(255, 105, 97)\"}}, {\"type\": \"scatter3d\", \"x\": [0, -0.7501633396051501], \"y\": [0, -0.15037452451667585], \"z\": [0, 0.6439273765641835], \"opacity\": 0.3, \"mode\": \"lines\", \"showlegend\": false, \"line\": {\"color\": \"rgb(255, 105, 97)\"}}, {\"type\": \"scatter3d\", \"x\": [0, -0.737923673757327], \"y\": [0, -0.21514008083961847], \"z\": [0, 0.6396744463590932], \"opacity\": 0.3, \"mode\": \"lines\", \"showlegend\": false, \"line\": {\"color\": \"rgb(255, 105, 97)\"}}, {\"type\": \"scatter3d\", \"x\": [0, -0.7247899360722032], \"y\": [0, -0.26662110451455856], \"z\": [0, 0.6352894892849154], \"opacity\": 0.3, \"mode\": \"lines\", \"showlegend\": false, \"line\": {\"color\": \"rgb(255, 105, 97)\"}}, {\"type\": \"scatter3d\", \"x\": [0, -0.7106636034397797], \"y\": [0, -0.3115948317454929], \"z\": [0, 0.6307661243087532], \"opacity\": 0.3, \"mode\": \"lines\", \"showlegend\": false, \"line\": {\"color\": \"rgb(255, 105, 97)\"}}, {\"type\": \"scatter3d\", \"x\": [0, -0.6954298506091805], \"y\": [0, -0.35267432442227775], \"z\": [0, 0.6260975513248578], \"opacity\": 0.3, \"mode\": \"lines\", \"showlegend\": false, \"line\": {\"color\": \"rgb(255, 105, 97)\"}}, {\"type\": \"scatter3d\", \"x\": [0, -0.6789536063359858], \"y\": [0, -0.39120006506404875], \"z\": [0, 0.6212765161642947], \"opacity\": 0.3, \"mode\": \"lines\", \"showlegend\": false, \"line\": {\"color\": \"rgb(255, 105, 97)\"}}, {\"type\": \"scatter3d\", \"x\": [0, -0.6610742710327008], \"y\": [0, -0.4279730667236512], \"z\": [0, 0.6162952720390904], \"opacity\": 0.3, \"mode\": \"lines\", \"showlegend\": false, \"line\": {\"color\": \"rgb(255, 105, 97)\"}}, {\"type\": \"scatter3d\", \"x\": [0, -0.6415984840062254], \"y\": [0, -0.4635218634957365], \"z\": [0, 0.611145536989638], \"opacity\": 0.3, \"mode\": \"lines\", \"showlegend\": false, \"line\": {\"color\": \"rgb(255, 105, 97)\"}}, {\"type\": \"scatter3d\", \"x\": [0, -0.620289962821389], \"y\": [0, -0.49822120738397646], \"z\": [0, 0.605818446843518], \"opacity\": 0.3, \"mode\": \"lines\", \"showlegend\": false, \"line\": {\"color\": \"rgb(255, 105, 97)\"}}, {\"type\": \"scatter3d\", \"x\": [0, -0.5968547917725454], \"y\": [0, -0.5323521964525514], \"z\": [0, 0.6003045031234527], \"opacity\": 0.3, \"mode\": \"lines\", \"showlegend\": false, \"line\": {\"color\": \"rgb(255, 105, 97)\"}}, {\"type\": \"scatter3d\", \"x\": [0, -0.570919338350225], \"y\": [0, -0.5661357264016289], \"z\": [0, 0.5945935152601659], \"opacity\": 0.3, \"mode\": \"lines\", \"showlegend\": false, \"line\": {\"color\": \"rgb(255, 105, 97)\"}}, {\"type\": \"scatter3d\", \"x\": [0, -0.5419956168461715], \"y\": [0, -0.5997524835703508], \"z\": [0, 0.5886745363702545], \"opacity\": 0.3, \"mode\": \"lines\", \"showlegend\": false, \"line\": {\"color\": \"rgb(255, 105, 97)\"}}, {\"type\": \"scatter3d\", \"x\": [0, -0.509423920306366], \"y\": [0, -0.6333556037117645], \"z\": [0, 0.5825357917472538], \"opacity\": 0.3, \"mode\": \"lines\", \"showlegend\": false, \"line\": {\"color\": \"rgb(255, 105, 97)\"}}, {\"type\": \"scatter3d\", \"x\": [0, -0.47227094594266333], \"y\": [0, -0.6670790870521051], \"z\": [0, 0.5761645990827206], \"opacity\": 0.3, \"mode\": \"lines\", \"showlegend\": false, \"line\": {\"color\": \"rgb(255, 105, 97)\"}}, {\"type\": \"scatter3d\", \"x\": [0, -0.42913134694848215], \"y\": [0, -0.7010436389636595], \"z\": [0, 0.5695472792795797], \"opacity\": 0.3, \"mode\": \"lines\", \"showlegend\": false, \"line\": {\"color\": \"rgb(255, 105, 97)\"}}, {\"type\": \"scatter3d\", \"x\": [0, -0.3776875619311622], \"y\": [0, -0.7353608898885642], \"z\": [0, 0.562669056537494], \"opacity\": 0.3, \"mode\": \"lines\", \"showlegend\": false, \"line\": {\"color\": \"rgb(255, 105, 97)\"}}, {\"type\": \"scatter3d\", \"x\": [0, -0.3135186206239742], \"y\": [0, -0.7701365658948324], \"z\": [0, 0.5555139461739508], \"opacity\": 0.3, \"mode\": \"lines\", \"showlegend\": false, \"line\": {\"color\": \"rgb(255, 105, 97)\"}}, {\"type\": \"scatter3d\", \"x\": [0, -0.22547386245080897], \"y\": [0, -0.8054729669339397], \"z\": [0, 0.5480646283880672], \"opacity\": 0.3, \"mode\": \"lines\", \"showlegend\": false, \"line\": {\"color\": \"rgb(255, 105, 97)\"}}, {\"type\": \"scatter3d\", \"x\": [0, 6.123233995736766e-17], \"y\": [0, -0.8414709848078965], \"z\": [0, 0.5403023058681398], \"opacity\": 0.3, \"mode\": \"lines\", \"showlegend\": false, \"line\": {\"color\": \"rgb(255, 105, 97)\"}}, {\"type\": \"scatter3d\", \"x\": [0, 6.123233995736766e-17], \"y\": [0, -0.8414709848078965], \"z\": [0, 0.5403023058681398], \"opacity\": 0.3, \"mode\": \"lines\", \"showlegend\": false, \"line\": {\"color\": \"rgb(255, 105, 97)\"}}, {\"type\": \"scatter3d\", \"x\": [0, 0.22547386245080886], \"y\": [0, -0.8054729669339397], \"z\": [0, 0.5480646283880672], \"opacity\": 0.3, \"mode\": \"lines\", \"showlegend\": false, \"line\": {\"color\": \"rgb(255, 105, 97)\"}}, {\"type\": \"scatter3d\", \"x\": [0, 0.31351862062397406], \"y\": [0, -0.7701365658948324], \"z\": [0, 0.5555139461739509], \"opacity\": 0.3, \"mode\": \"lines\", \"showlegend\": false, \"line\": {\"color\": \"rgb(255, 105, 97)\"}}, {\"type\": \"scatter3d\", \"x\": [0, 0.3776875619311621], \"y\": [0, -0.7353608898885642], \"z\": [0, 0.562669056537494], \"opacity\": 0.3, \"mode\": \"lines\", \"showlegend\": false, \"line\": {\"color\": \"rgb(255, 105, 97)\"}}, {\"type\": \"scatter3d\", \"x\": [0, 0.42913134694848204], \"y\": [0, -0.7010436389636596], \"z\": [0, 0.5695472792795798], \"opacity\": 0.3, \"mode\": \"lines\", \"showlegend\": false, \"line\": {\"color\": \"rgb(255, 105, 97)\"}}, {\"type\": \"scatter3d\", \"x\": [0, 0.47227094594266344], \"y\": [0, -0.667079087052105], \"z\": [0, 0.5761645990827206], \"opacity\": 0.3, \"mode\": \"lines\", \"showlegend\": false, \"line\": {\"color\": \"rgb(255, 105, 97)\"}}, {\"type\": \"scatter3d\", \"x\": [0, 0.5094239203063663], \"y\": [0, -0.6333556037117642], \"z\": [0, 0.5825357917472536], \"opacity\": 0.3, \"mode\": \"lines\", \"showlegend\": false, \"line\": {\"color\": \"rgb(255, 105, 97)\"}}, {\"type\": \"scatter3d\", \"x\": [0, 0.5419956168461716], \"y\": [0, -0.5997524835703508], \"z\": [0, 0.5886745363702544], \"opacity\": 0.3, \"mode\": \"lines\", \"showlegend\": false, \"line\": {\"color\": \"rgb(255, 105, 97)\"}}, {\"type\": \"scatter3d\", \"x\": [0, 0.570919338350225], \"y\": [0, -0.5661357264016289], \"z\": [0, 0.5945935152601659], \"opacity\": 0.3, \"mode\": \"lines\", \"showlegend\": false, \"line\": {\"color\": \"rgb(255, 105, 97)\"}}, {\"type\": \"scatter3d\", \"x\": [0, 0.5968547917725454], \"y\": [0, -0.5323521964525514], \"z\": [0, 0.6003045031234527], \"opacity\": 0.3, \"mode\": \"lines\", \"showlegend\": false, \"line\": {\"color\": \"rgb(255, 105, 97)\"}}, {\"type\": \"scatter3d\", \"x\": [0, 0.6202899628213892], \"y\": [0, -0.4982212073839764], \"z\": [0, 0.605818446843518], \"opacity\": 0.3, \"mode\": \"lines\", \"showlegend\": false, \"line\": {\"color\": \"rgb(255, 105, 97)\"}}, {\"type\": \"scatter3d\", \"x\": [0, 0.6415984840062257], \"y\": [0, -0.4635218634957364], \"z\": [0, 0.6111455369896379], \"opacity\": 0.3, \"mode\": \"lines\", \"showlegend\": false, \"line\": {\"color\": \"rgb(255, 105, 97)\"}}, {\"type\": \"scatter3d\", \"x\": [0, 0.6610742710327009], \"y\": [0, -0.42797306672365115], \"z\": [0, 0.6162952720390903], \"opacity\": 0.3, \"mode\": \"lines\", \"showlegend\": false, \"line\": {\"color\": \"rgb(255, 105, 97)\"}}, {\"type\": \"scatter3d\", \"x\": [0, 0.6789536063359859], \"y\": [0, -0.39120006506404875], \"z\": [0, 0.6212765161642947], \"opacity\": 0.3, \"mode\": \"lines\", \"showlegend\": false, \"line\": {\"color\": \"rgb(255, 105, 97)\"}}, {\"type\": \"scatter3d\", \"x\": [0, 0.6954298506091808], \"y\": [0, -0.3526743244222776], \"z\": [0, 0.6260975513248574], \"opacity\": 0.3, \"mode\": \"lines\", \"showlegend\": false, \"line\": {\"color\": \"rgb(255, 105, 97)\"}}, {\"type\": \"scatter3d\", \"x\": [0, 0.7106636034397795], \"y\": [0, -0.3115948317454929], \"z\": [0, 0.6307661243087533], \"opacity\": 0.3, \"mode\": \"lines\", \"showlegend\": false, \"line\": {\"color\": \"rgb(255, 105, 97)\"}}, {\"type\": \"scatter3d\", \"x\": [0, 0.7247899360722031], \"y\": [0, -0.26662110451455856], \"z\": [0, 0.6352894892849155], \"opacity\": 0.3, \"mode\": \"lines\", \"showlegend\": false, \"line\": {\"color\": \"rgb(255, 105, 97)\"}}, {\"type\": \"scatter3d\", \"x\": [0, 0.7379236737573273], \"y\": [0, -0.21514008083961841], \"z\": [0, 0.639674446359093], \"opacity\": 0.3, \"mode\": \"lines\", \"showlegend\": false, \"line\": {\"color\": \"rgb(255, 105, 97)\"}}, {\"type\": \"scatter3d\", \"x\": [0, 0.7501633396051502], \"y\": [0, -0.15037452451667582], \"z\": [0, 0.6439273765641834], \"opacity\": 0.3, \"mode\": \"lines\", \"showlegend\": false, \"line\": {\"color\": \"rgb(255, 105, 97)\"}}, {\"type\": \"scatter3d\", \"x\": [0, 0.7615941559557649], \"y\": [0, 0.0], \"z\": [0, 0.6480542736638855], \"opacity\": 0.3, \"mode\": \"lines\", \"showlegend\": false, \"line\": {\"color\": \"rgb(255, 105, 97)\"}}], {\"margin\": {\"l\": 0, \"r\": 0, \"b\": 0, \"t\": 0}, \"scene\": {\"xaxis\": {\"title\": \"Z\"}, \"yaxis\": {\"title\": \"Y\"}, \"zaxis\": {\"title\": \"X\"}}}, {\"showLink\": true, \"linkText\": \"Export to plot.ly\"})});</script>"
      ]
     },
     "metadata": {},
     "output_type": "display_data"
    }
   ],
   "source": [
    "show_jet(0, 3, 1.0)\n",
    "show_jet(0, 0, 1.0)"
   ]
  },
  {
   "cell_type": "markdown",
   "metadata": {},
   "source": [
    "Unfortunately nbviewer does not display widgets, but the lines below should work if you download and run the notebook locally.\n",
    "\n",
    "This should give you the option to change the values of $\\phi$, $\\eta$, and $\\Delta R$ using sliders, as is shown in the preview image."
   ]
  },
  {
   "cell_type": "code",
   "execution_count": 4,
   "metadata": {
    "scrolled": false
   },
   "outputs": [
    {
     "data": {
      "application/vnd.jupyter.widget-view+json": {
       "model_id": "4b867f6beacd495aa6105dbbc25b4653",
       "version_major": 2,
       "version_minor": 0
      },
      "text/html": [
       "<p>Failed to display Jupyter Widget of type <code>interactive</code>.</p>\n",
       "<p>\n",
       "  If you're reading this message in the Jupyter Notebook or JupyterLab Notebook, it may mean\n",
       "  that the widgets JavaScript is still loading. If this message persists, it\n",
       "  likely means that the widgets JavaScript library is either not installed or\n",
       "  not enabled. See the <a href=\"https://ipywidgets.readthedocs.io/en/stable/user_install.html\">Jupyter\n",
       "  Widgets Documentation</a> for setup instructions.\n",
       "</p>\n",
       "<p>\n",
       "  If you're reading this message in another frontend (for example, a static\n",
       "  rendering on GitHub or <a href=\"https://nbviewer.jupyter.org/\">NBViewer</a>),\n",
       "  it may mean that your frontend doesn't currently support widgets.\n",
       "</p>\n"
      ],
      "text/plain": [
       "interactive(children=(FloatSlider(value=0.0, description='phi', max=3.141592653589793, min=-3.141592653589793), FloatSlider(value=2.0, description='eta', max=3.0), FloatSlider(value=0.4, description='dR', max=1.0, min=0.1), Output()), _dom_classes=('widget-interact',))"
      ]
     },
     "metadata": {},
     "output_type": "display_data"
    },
    {
     "data": {
      "text/plain": [
       "<function __main__.show_jet>"
      ]
     },
     "execution_count": 4,
     "metadata": {},
     "output_type": "execute_result"
    }
   ],
   "source": [
    "import ipywidgets as widgets\n",
    "widgets.interact(show_jet, phi=widgets.FloatSlider(value=0, min=-np.pi, max=np.pi, step=0.1, description='phi'),\n",
    "                           eta=widgets.FloatSlider(value=2.0, min=0, max=3, step=0.1, description='eta'),\n",
    "                           dR=widgets.FloatSlider(value=0.4, min=0.1, max=1.0, step=0.1, description='dR'))"
   ]
  }
 ],
 "metadata": {
  "kernelspec": {
   "display_name": "Python 3",
   "language": "python",
   "name": "python3"
  },
  "language_info": {
   "codemirror_mode": {
    "name": "ipython",
    "version": 3
   },
   "file_extension": ".py",
   "mimetype": "text/x-python",
   "name": "python",
   "nbconvert_exporter": "python",
   "pygments_lexer": "ipython3",
   "version": "3.6.2"
  }
 },
 "nbformat": 4,
 "nbformat_minor": 2
}
