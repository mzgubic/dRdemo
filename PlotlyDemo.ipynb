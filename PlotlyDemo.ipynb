{
 "cells": [
  {
   "cell_type": "markdown",
   "metadata": {},
   "source": [
    "# Visualising $\\Delta R$\n",
    "\n",
    "The coordinate system is a modifed spherical coordinate system with the $z$ coordinate chosen along the beampipe, and the azimuthal angle $phi$ rotating around the plane perpendicular to the beam. In place of the usual polar angle $\\theta$ however, pseudorapidity $\\eta = -\\ln(\\tan(\\frac{\\theta}{2}))$ is used. See plot below to see how it behaves.\n",
    "\n",
    "<img width=\"200\" alt=\"preview\" src=\"https://upload.wikimedia.org/wikipedia/commons/thumb/e/ed/Pseudorapidity_plot.svg/695px-Pseudorapidity_plot.svg.png\">\n",
    "\n",
    "The angle $\\Delta R$ is defined as $\\Delta R = \\sqrt{\\Delta \\phi^2 + \\Delta \\eta^2}$. It is tricky to grasp intuitively because the angle of this conical shape changes with $\\eta$. This notebook makes it easy to play with parameters and see how the conical shape changes. "
   ]
  },
  {
   "cell_type": "markdown",
   "metadata": {},
   "source": [
    "First some imports"
   ]
  },
  {
   "cell_type": "code",
   "execution_count": 1,
   "metadata": {},
   "outputs": [
    {
     "data": {
      "text/html": [
       "<script>requirejs.config({paths: { 'plotly': ['https://cdn.plot.ly/plotly-latest.min']},});if(!window.Plotly) {{require(['plotly'],function(plotly) {window.Plotly=plotly;});}}</script>"
      ],
      "text/vnd.plotly.v1+html": [
       "<script>requirejs.config({paths: { 'plotly': ['https://cdn.plot.ly/plotly-latest.min']},});if(!window.Plotly) {{require(['plotly'],function(plotly) {window.Plotly=plotly;});}}</script>"
      ]
     },
     "metadata": {},
     "output_type": "display_data"
    }
   ],
   "source": [
    "import numpy as np\n",
    "from plotly.offline import init_notebook_mode, iplot\n",
    "import plotly.graph_objs as go\n",
    "init_notebook_mode(connected=True)"
   ]
  },
  {
   "cell_type": "markdown",
   "metadata": {},
   "source": [
    "Now define a helper function for handling the polar angle, and the function which draws the beampipe, an ATLAS-resembling cylinder, and the jet along with the conical shape around it, defined by dR.\n",
    "\n",
    "I am using plotly instead of matplotlib because it is faster at rendering 3D."
   ]
  },
  {
   "cell_type": "code",
   "execution_count": 2,
   "metadata": {
    "collapsed": true
   },
   "outputs": [],
   "source": [
    "def theta_from_eta(eta):\n",
    "    return 2*np.arctan(np.e**(-eta))\n",
    "    \n",
    "def show_jet(phi, eta, dR):\n",
    "    \n",
    "    # list of all primitives to draw\n",
    "    data = []\n",
    "    \n",
    "    # ATLAS beampipe\n",
    "    R = 1.0\n",
    "    zs = np.linspace(-R, R, 2)\n",
    "    b_xs = [0 for z in zs]\n",
    "    b_ys = [0 for z in zs]\n",
    "    beampipe = go.Scatter3d(x=zs,\n",
    "                          y=b_ys,\n",
    "                          z=b_xs,\n",
    "                          mode='lines',\n",
    "                          showlegend=False,\n",
    "                          line=dict(color='rgb(0,33,71)', width=5))\n",
    "    data.append(beampipe)\n",
    "    \n",
    "    # ATLAS barrel\n",
    "    phis = np.linspace(-np.pi/2., np.pi/2., 10)\n",
    "    xs = R*np.sin(phis)\n",
    "    X, Z = np.meshgrid(xs, zs)\n",
    "    Y = np.sqrt(R**2 - X**2)\n",
    "    barrel_left = go.Surface(x=Z, y=Y, z=X, surfacecolor=[1,1], showscale=False, opacity=0.4)\n",
    "    barrel_right = go.Surface(x=Z, y=-Y, z=X, surfacecolor=[1,1], showscale=False, opacity=0.4)\n",
    "    data += [barrel_left, barrel_right]\n",
    "    \n",
    "    # jet center line\n",
    "    theta = theta_from_eta(eta)\n",
    "    ts = np.linspace(0, R, 2)\n",
    "    xs = ts*np.sin(theta)*np.cos(phi)\n",
    "    ys = ts*np.sin(theta)*np.sin(phi)\n",
    "    zs = ts*np.cos(theta)\n",
    "    jet = go.Scatter3d(x=zs,\n",
    "                       y=ys,\n",
    "                       z=xs,\n",
    "                       mode='lines',\n",
    "                       showlegend=False,\n",
    "                       line=dict(color='rgb(255, 105, 97)', width=7))\n",
    "    data.append(jet)\n",
    "    \n",
    "    # jet cone: end circle and lines\n",
    "    T = 1.0\n",
    "    dphis = np.sqrt(np.linspace(0, dR**2, 20))\n",
    "    detas = np.sqrt(dR**2 - dphis**2)\n",
    "    # compute circle coordinates (reverse parts for plotting reasons)\n",
    "    phis = np.concatenate((phi+dphis, phi+dphis[::-1], phi-dphis, phi-dphis[::-1]))\n",
    "    etas = np.concatenate((eta+detas, eta-detas[::-1], eta-detas, eta+detas[::-1]))\n",
    "    # transform to x, y, z\n",
    "    thetas = theta_from_eta(etas)\n",
    "    cxs = T*np.sin(thetas)*np.cos(phis)\n",
    "    cys = T*np.sin(thetas)*np.sin(phis)\n",
    "    czs = T*np.cos(thetas)\n",
    "    cone_edge = go.Scatter3d(x=czs,\n",
    "                            y=cys,\n",
    "                            z=cxs,\n",
    "                            mode='lines',\n",
    "                            showlegend=False,\n",
    "                            line=dict(color='rgb(255, 105, 97)', width=5))\n",
    "    data.append(cone_edge)\n",
    "    \n",
    "    # and draw lines from each point to the origin\n",
    "    for x, y, z in zip(cxs, cys, czs):\n",
    "        line = go.Scatter3d(x=(0,z),\n",
    "                            y=(0,y),\n",
    "                            z=(0,x),\n",
    "                            opacity=0.3,\n",
    "                            mode='lines',\n",
    "                            showlegend=False,\n",
    "                            line=dict(color='rgb(255, 105, 97)'))\n",
    "        data.append(line)\n",
    "    \n",
    "    # cosmetics\n",
    "    layout = go.Layout(margin=dict(l=0,r=0,b=0,t=0),\n",
    "                       scene=dict(xaxis=dict(title='Z'),\n",
    "                                  yaxis=dict(title='Y'),\n",
    "                                  zaxis=dict(title='X')))\n",
    "    fig = go.Figure(data=data, layout=layout)\n",
    "    iplot(fig, filename='simple-3d-scatter')\n"
   ]
  },
  {
   "cell_type": "markdown",
   "metadata": {},
   "source": [
    "Show a particular choice of $\\phi$, $\\eta$, and $\\Delta R$, which renders in the nbviewer."
   ]
  },
  {
   "cell_type": "code",
   "execution_count": 3,
   "metadata": {},
   "outputs": [
    {
     "data": {
      "application/vnd.plotly.v1+json": {
       "data": [
        {
         "line": {
          "color": "rgb(0,33,71)",
          "width": 5
         },
         "mode": "lines",
         "showlegend": false,
         "type": "scatter3d",
         "x": [
          -1,
          1
         ],
         "y": [
          0,
          0
         ],
         "z": [
          0,
          0
         ]
        },
        {
         "opacity": 0.4,
         "showscale": false,
         "surfacecolor": [
          1,
          1
         ],
         "type": "surface",
         "x": [
          [
           -1,
           -1,
           -1,
           -1,
           -1,
           -1,
           -1,
           -1,
           -1,
           -1
          ],
          [
           1,
           1,
           1,
           1,
           1,
           1,
           1,
           1,
           1,
           1
          ]
         ],
         "y": [
          [
           0,
           0.342020143325669,
           0.6427876096865394,
           0.8660254037844386,
           0.984807753012208,
           0.984807753012208,
           0.8660254037844388,
           0.6427876096865395,
           0.342020143325669,
           0
          ],
          [
           0,
           0.342020143325669,
           0.6427876096865394,
           0.8660254037844386,
           0.984807753012208,
           0.984807753012208,
           0.8660254037844388,
           0.6427876096865395,
           0.342020143325669,
           0
          ]
         ],
         "z": [
          [
           -1,
           -0.9396926207859083,
           -0.766044443118978,
           -0.5,
           -0.17364817766693036,
           0.17364817766693036,
           0.49999999999999983,
           0.7660444431189779,
           0.9396926207859083,
           1
          ],
          [
           -1,
           -0.9396926207859083,
           -0.766044443118978,
           -0.5,
           -0.17364817766693036,
           0.17364817766693036,
           0.49999999999999983,
           0.7660444431189779,
           0.9396926207859083,
           1
          ]
         ]
        },
        {
         "opacity": 0.4,
         "showscale": false,
         "surfacecolor": [
          1,
          1
         ],
         "type": "surface",
         "x": [
          [
           -1,
           -1,
           -1,
           -1,
           -1,
           -1,
           -1,
           -1,
           -1,
           -1
          ],
          [
           1,
           1,
           1,
           1,
           1,
           1,
           1,
           1,
           1,
           1
          ]
         ],
         "y": [
          [
           0,
           -0.342020143325669,
           -0.6427876096865394,
           -0.8660254037844386,
           -0.984807753012208,
           -0.984807753012208,
           -0.8660254037844388,
           -0.6427876096865395,
           -0.342020143325669,
           0
          ],
          [
           0,
           -0.342020143325669,
           -0.6427876096865394,
           -0.8660254037844386,
           -0.984807753012208,
           -0.984807753012208,
           -0.8660254037844388,
           -0.6427876096865395,
           -0.342020143325669,
           0
          ]
         ],
         "z": [
          [
           -1,
           -0.9396926207859083,
           -0.766044443118978,
           -0.5,
           -0.17364817766693036,
           0.17364817766693036,
           0.49999999999999983,
           0.7660444431189779,
           0.9396926207859083,
           1
          ],
          [
           -1,
           -0.9396926207859083,
           -0.766044443118978,
           -0.5,
           -0.17364817766693036,
           0.17364817766693036,
           0.49999999999999983,
           0.7660444431189779,
           0.9396926207859083,
           1
          ]
         ]
        },
        {
         "line": {
          "color": "rgb(255, 105, 97)",
          "width": 7
         },
         "mode": "lines",
         "showlegend": false,
         "type": "scatter3d",
         "x": [
          0,
          0.9866142981514303
         ],
         "y": [
          0,
          0
         ],
         "z": [
          0,
          0.16307123192997783
         ]
        },
        {
         "line": {
          "color": "rgb(255, 105, 97)",
          "width": 5
         },
         "mode": "lines",
         "showlegend": false,
         "type": "scatter3d",
         "x": [
          0.9981778976111987,
          0.9980781581500309,
          0.9979699177751762,
          0.9978520754524449,
          0.9977233231917925,
          0.9975820921929222,
          0.9974264803196807,
          0.9972541525177928,
          0.9970622010055095,
          0.9968469438551054,
          0.996603625885346,
          0.9963259581404795,
          0.9960053770533555,
          0.9956297859579017,
          0.9951812631383143,
          0.994631483267861,
          0.9939313020072754,
          0.9929818368645372,
          0.9915190582029676,
          0.9866142981514303,
          0.9866142981514303,
          0.9789030303261852,
          0.9745433219919456,
          0.9706052692510312,
          0.96682362315293,
          0.9630982999610441,
          0.9593789735388271,
          0.9556361576076932,
          0.9518507917621246,
          0.9480096643421602,
          0.9441031219315349,
          0.9401238123325585,
          0.9360659452031765,
          0.9319248330194343,
          0.9276965934588334,
          0.9233779494779316,
          0.9189660910020024,
          0.9144585768422983,
          0.9098532636680045,
          0.9051482536448664,
          0.9051482536448664,
          0.9098532636680045,
          0.9144585768422983,
          0.9189660910020024,
          0.9233779494779316,
          0.9276965934588334,
          0.9319248330194343,
          0.9360659452031765,
          0.9401238123325585,
          0.9441031219315349,
          0.9480096643421602,
          0.9518507917621246,
          0.9556361576076932,
          0.9593789735388271,
          0.9630982999610441,
          0.96682362315293,
          0.9706052692510312,
          0.9745433219919456,
          0.9789030303261852,
          0.9866142981514303,
          0.9866142981514303,
          0.9915190582029676,
          0.9929818368645372,
          0.9939313020072754,
          0.994631483267861,
          0.9951812631383143,
          0.9956297859579017,
          0.9960053770533555,
          0.9963259581404795,
          0.996603625885346,
          0.9968469438551054,
          0.9970622010055095,
          0.9972541525177928,
          0.9974264803196807,
          0.9975820921929222,
          0.9977233231917925,
          0.9978520754524449,
          0.9979699177751762,
          0.9980781581500309,
          0.9981778976111987
         ],
         "y": [
          0,
          0.014091977861265927,
          0.020302212473635735,
          0.025350436292256407,
          0.029869280792344462,
          0.03410848651720054,
          0.03820276711762743,
          0.04224005893339806,
          0.04628696106622997,
          0.050400870954477255,
          0.05463730570916157,
          0.05905571410414643,
          0.06372567113188857,
          0.06873535213764313,
          0.07420543869057497,
          0.08031550097691158,
          0.08736224326485272,
          0.09591767569928387,
          0.10744721880445322,
          0.13721971012595535,
          0.13721971012595535,
          0.1689286066133161,
          0.18183163523701543,
          0.19114171658027282,
          0.19826135409025603,
          0.2036911513746095,
          0.20764596081939465,
          0.21021043664779687,
          0.211393695506167,
          0.21115066352923706,
          0.2093886927026561,
          0.20596509530217016,
          0.20067618728604758,
          0.19323471133887815,
          0.18322679369519698,
          0.1700261047165447,
          0.1526023803187572,
          0.1290040379780891,
          0.0943586888430563,
          0,
          0,
          -0.0943586888430563,
          -0.1290040379780891,
          -0.1526023803187572,
          -0.1700261047165447,
          -0.18322679369519698,
          -0.19323471133887815,
          -0.20067618728604758,
          -0.20596509530217016,
          -0.2093886927026561,
          -0.21115066352923706,
          -0.211393695506167,
          -0.21021043664779687,
          -0.20764596081939465,
          -0.2036911513746095,
          -0.19826135409025603,
          -0.19114171658027282,
          -0.18183163523701543,
          -0.1689286066133161,
          -0.13721971012595535,
          -0.13721971012595535,
          -0.10744721880445322,
          -0.09591767569928387,
          -0.08736224326485272,
          -0.08031550097691158,
          -0.07420543869057497,
          -0.06873535213764313,
          -0.06372567113188857,
          -0.05905571410414643,
          -0.05463730570916157,
          -0.050400870954477255,
          -0.04628696106622997,
          -0.04224005893339806,
          -0.03820276711762743,
          -0.03410848651720054,
          -0.029869280792344462,
          -0.025350436292256407,
          -0.020302212473635735,
          -0.014091977861265927,
          0
         ],
         "z": [
          0.06033974412016766,
          0.06034406668264632,
          0.06036442151204244,
          0.06040356690660236,
          0.06046483626103829,
          0.060552295443674825,
          0.06067095632714055,
          0.06082707215806001,
          0.06102855529424186,
          0.06128558340887679,
          0.06161150620642889,
          0.06202425144332448,
          0.06254860285884496,
          0.0632200971205909,
          0.06409217087264647,
          0.06525053865833258,
          0.06684613183913381,
          0.06918721807947334,
          0.07310986521317192,
          0.08810776263252525,
          0.08810776263252525,
          0.11494339078822777,
          0.13115856810721863,
          0.14625407852391648,
          0.1610730181865956,
          0.1759306097978196,
          0.19098465929748662,
          0.20632766803593444,
          0.22201976425999198,
          0.238103073489251,
          0.2546088579122927,
          0.2715614055834597,
          0.2889803005175592,
          0.30688182079667076,
          0.3252798373048254,
          0.3441864118945561,
          0.36361220704144226,
          0.38356677309812204,
          0.4040587536887427,
          0.4250960349422805,
          0.4250960349422805,
          0.4040587536887427,
          0.38356677309812204,
          0.36361220704144226,
          0.3441864118945561,
          0.3252798373048254,
          0.30688182079667076,
          0.2889803005175592,
          0.2715614055834597,
          0.2546088579122927,
          0.238103073489251,
          0.22201976425999198,
          0.20632766803593444,
          0.19098465929748662,
          0.1759306097978196,
          0.1610730181865956,
          0.14625407852391648,
          0.13115856810721863,
          0.11494339078822777,
          0.08810776263252525,
          0.08810776263252525,
          0.07310986521317192,
          0.06918721807947334,
          0.06684613183913381,
          0.06525053865833258,
          0.06409217087264647,
          0.0632200971205909,
          0.06254860285884496,
          0.06202425144332448,
          0.06161150620642889,
          0.06128558340887679,
          0.06102855529424186,
          0.06082707215806001,
          0.06067095632714055,
          0.060552295443674825,
          0.06046483626103829,
          0.06040356690660236,
          0.06036442151204244,
          0.06034406668264632,
          0.06033974412016766
         ]
        },
        {
         "line": {
          "color": "rgb(255, 105, 97)"
         },
         "mode": "lines",
         "opacity": 0.3,
         "showlegend": false,
         "type": "scatter3d",
         "x": [
          0,
          0.9981778976111987
         ],
         "y": [
          0,
          0
         ],
         "z": [
          0,
          0.06033974412016766
         ]
        },
        {
         "line": {
          "color": "rgb(255, 105, 97)"
         },
         "mode": "lines",
         "opacity": 0.3,
         "showlegend": false,
         "type": "scatter3d",
         "x": [
          0,
          0.9980781581500309
         ],
         "y": [
          0,
          0.014091977861265927
         ],
         "z": [
          0,
          0.06034406668264632
         ]
        },
        {
         "line": {
          "color": "rgb(255, 105, 97)"
         },
         "mode": "lines",
         "opacity": 0.3,
         "showlegend": false,
         "type": "scatter3d",
         "x": [
          0,
          0.9979699177751762
         ],
         "y": [
          0,
          0.020302212473635735
         ],
         "z": [
          0,
          0.06036442151204244
         ]
        },
        {
         "line": {
          "color": "rgb(255, 105, 97)"
         },
         "mode": "lines",
         "opacity": 0.3,
         "showlegend": false,
         "type": "scatter3d",
         "x": [
          0,
          0.9978520754524449
         ],
         "y": [
          0,
          0.025350436292256407
         ],
         "z": [
          0,
          0.06040356690660236
         ]
        },
        {
         "line": {
          "color": "rgb(255, 105, 97)"
         },
         "mode": "lines",
         "opacity": 0.3,
         "showlegend": false,
         "type": "scatter3d",
         "x": [
          0,
          0.9977233231917925
         ],
         "y": [
          0,
          0.029869280792344462
         ],
         "z": [
          0,
          0.06046483626103829
         ]
        },
        {
         "line": {
          "color": "rgb(255, 105, 97)"
         },
         "mode": "lines",
         "opacity": 0.3,
         "showlegend": false,
         "type": "scatter3d",
         "x": [
          0,
          0.9975820921929222
         ],
         "y": [
          0,
          0.03410848651720054
         ],
         "z": [
          0,
          0.060552295443674825
         ]
        },
        {
         "line": {
          "color": "rgb(255, 105, 97)"
         },
         "mode": "lines",
         "opacity": 0.3,
         "showlegend": false,
         "type": "scatter3d",
         "x": [
          0,
          0.9974264803196807
         ],
         "y": [
          0,
          0.03820276711762743
         ],
         "z": [
          0,
          0.06067095632714055
         ]
        },
        {
         "line": {
          "color": "rgb(255, 105, 97)"
         },
         "mode": "lines",
         "opacity": 0.3,
         "showlegend": false,
         "type": "scatter3d",
         "x": [
          0,
          0.9972541525177928
         ],
         "y": [
          0,
          0.04224005893339806
         ],
         "z": [
          0,
          0.06082707215806001
         ]
        },
        {
         "line": {
          "color": "rgb(255, 105, 97)"
         },
         "mode": "lines",
         "opacity": 0.3,
         "showlegend": false,
         "type": "scatter3d",
         "x": [
          0,
          0.9970622010055095
         ],
         "y": [
          0,
          0.04628696106622997
         ],
         "z": [
          0,
          0.06102855529424186
         ]
        },
        {
         "line": {
          "color": "rgb(255, 105, 97)"
         },
         "mode": "lines",
         "opacity": 0.3,
         "showlegend": false,
         "type": "scatter3d",
         "x": [
          0,
          0.9968469438551054
         ],
         "y": [
          0,
          0.050400870954477255
         ],
         "z": [
          0,
          0.06128558340887679
         ]
        },
        {
         "line": {
          "color": "rgb(255, 105, 97)"
         },
         "mode": "lines",
         "opacity": 0.3,
         "showlegend": false,
         "type": "scatter3d",
         "x": [
          0,
          0.996603625885346
         ],
         "y": [
          0,
          0.05463730570916157
         ],
         "z": [
          0,
          0.06161150620642889
         ]
        },
        {
         "line": {
          "color": "rgb(255, 105, 97)"
         },
         "mode": "lines",
         "opacity": 0.3,
         "showlegend": false,
         "type": "scatter3d",
         "x": [
          0,
          0.9963259581404795
         ],
         "y": [
          0,
          0.05905571410414643
         ],
         "z": [
          0,
          0.06202425144332448
         ]
        },
        {
         "line": {
          "color": "rgb(255, 105, 97)"
         },
         "mode": "lines",
         "opacity": 0.3,
         "showlegend": false,
         "type": "scatter3d",
         "x": [
          0,
          0.9960053770533555
         ],
         "y": [
          0,
          0.06372567113188857
         ],
         "z": [
          0,
          0.06254860285884496
         ]
        },
        {
         "line": {
          "color": "rgb(255, 105, 97)"
         },
         "mode": "lines",
         "opacity": 0.3,
         "showlegend": false,
         "type": "scatter3d",
         "x": [
          0,
          0.9956297859579017
         ],
         "y": [
          0,
          0.06873535213764313
         ],
         "z": [
          0,
          0.0632200971205909
         ]
        },
        {
         "line": {
          "color": "rgb(255, 105, 97)"
         },
         "mode": "lines",
         "opacity": 0.3,
         "showlegend": false,
         "type": "scatter3d",
         "x": [
          0,
          0.9951812631383143
         ],
         "y": [
          0,
          0.07420543869057497
         ],
         "z": [
          0,
          0.06409217087264647
         ]
        },
        {
         "line": {
          "color": "rgb(255, 105, 97)"
         },
         "mode": "lines",
         "opacity": 0.3,
         "showlegend": false,
         "type": "scatter3d",
         "x": [
          0,
          0.994631483267861
         ],
         "y": [
          0,
          0.08031550097691158
         ],
         "z": [
          0,
          0.06525053865833258
         ]
        },
        {
         "line": {
          "color": "rgb(255, 105, 97)"
         },
         "mode": "lines",
         "opacity": 0.3,
         "showlegend": false,
         "type": "scatter3d",
         "x": [
          0,
          0.9939313020072754
         ],
         "y": [
          0,
          0.08736224326485272
         ],
         "z": [
          0,
          0.06684613183913381
         ]
        },
        {
         "line": {
          "color": "rgb(255, 105, 97)"
         },
         "mode": "lines",
         "opacity": 0.3,
         "showlegend": false,
         "type": "scatter3d",
         "x": [
          0,
          0.9929818368645372
         ],
         "y": [
          0,
          0.09591767569928387
         ],
         "z": [
          0,
          0.06918721807947334
         ]
        },
        {
         "line": {
          "color": "rgb(255, 105, 97)"
         },
         "mode": "lines",
         "opacity": 0.3,
         "showlegend": false,
         "type": "scatter3d",
         "x": [
          0,
          0.9915190582029676
         ],
         "y": [
          0,
          0.10744721880445322
         ],
         "z": [
          0,
          0.07310986521317192
         ]
        },
        {
         "line": {
          "color": "rgb(255, 105, 97)"
         },
         "mode": "lines",
         "opacity": 0.3,
         "showlegend": false,
         "type": "scatter3d",
         "x": [
          0,
          0.9866142981514303
         ],
         "y": [
          0,
          0.13721971012595535
         ],
         "z": [
          0,
          0.08810776263252525
         ]
        },
        {
         "line": {
          "color": "rgb(255, 105, 97)"
         },
         "mode": "lines",
         "opacity": 0.3,
         "showlegend": false,
         "type": "scatter3d",
         "x": [
          0,
          0.9866142981514303
         ],
         "y": [
          0,
          0.13721971012595535
         ],
         "z": [
          0,
          0.08810776263252525
         ]
        },
        {
         "line": {
          "color": "rgb(255, 105, 97)"
         },
         "mode": "lines",
         "opacity": 0.3,
         "showlegend": false,
         "type": "scatter3d",
         "x": [
          0,
          0.9789030303261852
         ],
         "y": [
          0,
          0.1689286066133161
         ],
         "z": [
          0,
          0.11494339078822777
         ]
        },
        {
         "line": {
          "color": "rgb(255, 105, 97)"
         },
         "mode": "lines",
         "opacity": 0.3,
         "showlegend": false,
         "type": "scatter3d",
         "x": [
          0,
          0.9745433219919456
         ],
         "y": [
          0,
          0.18183163523701543
         ],
         "z": [
          0,
          0.13115856810721863
         ]
        },
        {
         "line": {
          "color": "rgb(255, 105, 97)"
         },
         "mode": "lines",
         "opacity": 0.3,
         "showlegend": false,
         "type": "scatter3d",
         "x": [
          0,
          0.9706052692510312
         ],
         "y": [
          0,
          0.19114171658027282
         ],
         "z": [
          0,
          0.14625407852391648
         ]
        },
        {
         "line": {
          "color": "rgb(255, 105, 97)"
         },
         "mode": "lines",
         "opacity": 0.3,
         "showlegend": false,
         "type": "scatter3d",
         "x": [
          0,
          0.96682362315293
         ],
         "y": [
          0,
          0.19826135409025603
         ],
         "z": [
          0,
          0.1610730181865956
         ]
        },
        {
         "line": {
          "color": "rgb(255, 105, 97)"
         },
         "mode": "lines",
         "opacity": 0.3,
         "showlegend": false,
         "type": "scatter3d",
         "x": [
          0,
          0.9630982999610441
         ],
         "y": [
          0,
          0.2036911513746095
         ],
         "z": [
          0,
          0.1759306097978196
         ]
        },
        {
         "line": {
          "color": "rgb(255, 105, 97)"
         },
         "mode": "lines",
         "opacity": 0.3,
         "showlegend": false,
         "type": "scatter3d",
         "x": [
          0,
          0.9593789735388271
         ],
         "y": [
          0,
          0.20764596081939465
         ],
         "z": [
          0,
          0.19098465929748662
         ]
        },
        {
         "line": {
          "color": "rgb(255, 105, 97)"
         },
         "mode": "lines",
         "opacity": 0.3,
         "showlegend": false,
         "type": "scatter3d",
         "x": [
          0,
          0.9556361576076932
         ],
         "y": [
          0,
          0.21021043664779687
         ],
         "z": [
          0,
          0.20632766803593444
         ]
        },
        {
         "line": {
          "color": "rgb(255, 105, 97)"
         },
         "mode": "lines",
         "opacity": 0.3,
         "showlegend": false,
         "type": "scatter3d",
         "x": [
          0,
          0.9518507917621246
         ],
         "y": [
          0,
          0.211393695506167
         ],
         "z": [
          0,
          0.22201976425999198
         ]
        },
        {
         "line": {
          "color": "rgb(255, 105, 97)"
         },
         "mode": "lines",
         "opacity": 0.3,
         "showlegend": false,
         "type": "scatter3d",
         "x": [
          0,
          0.9480096643421602
         ],
         "y": [
          0,
          0.21115066352923706
         ],
         "z": [
          0,
          0.238103073489251
         ]
        },
        {
         "line": {
          "color": "rgb(255, 105, 97)"
         },
         "mode": "lines",
         "opacity": 0.3,
         "showlegend": false,
         "type": "scatter3d",
         "x": [
          0,
          0.9441031219315349
         ],
         "y": [
          0,
          0.2093886927026561
         ],
         "z": [
          0,
          0.2546088579122927
         ]
        },
        {
         "line": {
          "color": "rgb(255, 105, 97)"
         },
         "mode": "lines",
         "opacity": 0.3,
         "showlegend": false,
         "type": "scatter3d",
         "x": [
          0,
          0.9401238123325585
         ],
         "y": [
          0,
          0.20596509530217016
         ],
         "z": [
          0,
          0.2715614055834597
         ]
        },
        {
         "line": {
          "color": "rgb(255, 105, 97)"
         },
         "mode": "lines",
         "opacity": 0.3,
         "showlegend": false,
         "type": "scatter3d",
         "x": [
          0,
          0.9360659452031765
         ],
         "y": [
          0,
          0.20067618728604758
         ],
         "z": [
          0,
          0.2889803005175592
         ]
        },
        {
         "line": {
          "color": "rgb(255, 105, 97)"
         },
         "mode": "lines",
         "opacity": 0.3,
         "showlegend": false,
         "type": "scatter3d",
         "x": [
          0,
          0.9319248330194343
         ],
         "y": [
          0,
          0.19323471133887815
         ],
         "z": [
          0,
          0.30688182079667076
         ]
        },
        {
         "line": {
          "color": "rgb(255, 105, 97)"
         },
         "mode": "lines",
         "opacity": 0.3,
         "showlegend": false,
         "type": "scatter3d",
         "x": [
          0,
          0.9276965934588334
         ],
         "y": [
          0,
          0.18322679369519698
         ],
         "z": [
          0,
          0.3252798373048254
         ]
        },
        {
         "line": {
          "color": "rgb(255, 105, 97)"
         },
         "mode": "lines",
         "opacity": 0.3,
         "showlegend": false,
         "type": "scatter3d",
         "x": [
          0,
          0.9233779494779316
         ],
         "y": [
          0,
          0.1700261047165447
         ],
         "z": [
          0,
          0.3441864118945561
         ]
        },
        {
         "line": {
          "color": "rgb(255, 105, 97)"
         },
         "mode": "lines",
         "opacity": 0.3,
         "showlegend": false,
         "type": "scatter3d",
         "x": [
          0,
          0.9189660910020024
         ],
         "y": [
          0,
          0.1526023803187572
         ],
         "z": [
          0,
          0.36361220704144226
         ]
        },
        {
         "line": {
          "color": "rgb(255, 105, 97)"
         },
         "mode": "lines",
         "opacity": 0.3,
         "showlegend": false,
         "type": "scatter3d",
         "x": [
          0,
          0.9144585768422983
         ],
         "y": [
          0,
          0.1290040379780891
         ],
         "z": [
          0,
          0.38356677309812204
         ]
        },
        {
         "line": {
          "color": "rgb(255, 105, 97)"
         },
         "mode": "lines",
         "opacity": 0.3,
         "showlegend": false,
         "type": "scatter3d",
         "x": [
          0,
          0.9098532636680045
         ],
         "y": [
          0,
          0.0943586888430563
         ],
         "z": [
          0,
          0.4040587536887427
         ]
        },
        {
         "line": {
          "color": "rgb(255, 105, 97)"
         },
         "mode": "lines",
         "opacity": 0.3,
         "showlegend": false,
         "type": "scatter3d",
         "x": [
          0,
          0.9051482536448664
         ],
         "y": [
          0,
          0
         ],
         "z": [
          0,
          0.4250960349422805
         ]
        },
        {
         "line": {
          "color": "rgb(255, 105, 97)"
         },
         "mode": "lines",
         "opacity": 0.3,
         "showlegend": false,
         "type": "scatter3d",
         "x": [
          0,
          0.9051482536448664
         ],
         "y": [
          0,
          0
         ],
         "z": [
          0,
          0.4250960349422805
         ]
        },
        {
         "line": {
          "color": "rgb(255, 105, 97)"
         },
         "mode": "lines",
         "opacity": 0.3,
         "showlegend": false,
         "type": "scatter3d",
         "x": [
          0,
          0.9098532636680045
         ],
         "y": [
          0,
          -0.0943586888430563
         ],
         "z": [
          0,
          0.4040587536887427
         ]
        },
        {
         "line": {
          "color": "rgb(255, 105, 97)"
         },
         "mode": "lines",
         "opacity": 0.3,
         "showlegend": false,
         "type": "scatter3d",
         "x": [
          0,
          0.9144585768422983
         ],
         "y": [
          0,
          -0.1290040379780891
         ],
         "z": [
          0,
          0.38356677309812204
         ]
        },
        {
         "line": {
          "color": "rgb(255, 105, 97)"
         },
         "mode": "lines",
         "opacity": 0.3,
         "showlegend": false,
         "type": "scatter3d",
         "x": [
          0,
          0.9189660910020024
         ],
         "y": [
          0,
          -0.1526023803187572
         ],
         "z": [
          0,
          0.36361220704144226
         ]
        },
        {
         "line": {
          "color": "rgb(255, 105, 97)"
         },
         "mode": "lines",
         "opacity": 0.3,
         "showlegend": false,
         "type": "scatter3d",
         "x": [
          0,
          0.9233779494779316
         ],
         "y": [
          0,
          -0.1700261047165447
         ],
         "z": [
          0,
          0.3441864118945561
         ]
        },
        {
         "line": {
          "color": "rgb(255, 105, 97)"
         },
         "mode": "lines",
         "opacity": 0.3,
         "showlegend": false,
         "type": "scatter3d",
         "x": [
          0,
          0.9276965934588334
         ],
         "y": [
          0,
          -0.18322679369519698
         ],
         "z": [
          0,
          0.3252798373048254
         ]
        },
        {
         "line": {
          "color": "rgb(255, 105, 97)"
         },
         "mode": "lines",
         "opacity": 0.3,
         "showlegend": false,
         "type": "scatter3d",
         "x": [
          0,
          0.9319248330194343
         ],
         "y": [
          0,
          -0.19323471133887815
         ],
         "z": [
          0,
          0.30688182079667076
         ]
        },
        {
         "line": {
          "color": "rgb(255, 105, 97)"
         },
         "mode": "lines",
         "opacity": 0.3,
         "showlegend": false,
         "type": "scatter3d",
         "x": [
          0,
          0.9360659452031765
         ],
         "y": [
          0,
          -0.20067618728604758
         ],
         "z": [
          0,
          0.2889803005175592
         ]
        },
        {
         "line": {
          "color": "rgb(255, 105, 97)"
         },
         "mode": "lines",
         "opacity": 0.3,
         "showlegend": false,
         "type": "scatter3d",
         "x": [
          0,
          0.9401238123325585
         ],
         "y": [
          0,
          -0.20596509530217016
         ],
         "z": [
          0,
          0.2715614055834597
         ]
        },
        {
         "line": {
          "color": "rgb(255, 105, 97)"
         },
         "mode": "lines",
         "opacity": 0.3,
         "showlegend": false,
         "type": "scatter3d",
         "x": [
          0,
          0.9441031219315349
         ],
         "y": [
          0,
          -0.2093886927026561
         ],
         "z": [
          0,
          0.2546088579122927
         ]
        },
        {
         "line": {
          "color": "rgb(255, 105, 97)"
         },
         "mode": "lines",
         "opacity": 0.3,
         "showlegend": false,
         "type": "scatter3d",
         "x": [
          0,
          0.9480096643421602
         ],
         "y": [
          0,
          -0.21115066352923706
         ],
         "z": [
          0,
          0.238103073489251
         ]
        },
        {
         "line": {
          "color": "rgb(255, 105, 97)"
         },
         "mode": "lines",
         "opacity": 0.3,
         "showlegend": false,
         "type": "scatter3d",
         "x": [
          0,
          0.9518507917621246
         ],
         "y": [
          0,
          -0.211393695506167
         ],
         "z": [
          0,
          0.22201976425999198
         ]
        },
        {
         "line": {
          "color": "rgb(255, 105, 97)"
         },
         "mode": "lines",
         "opacity": 0.3,
         "showlegend": false,
         "type": "scatter3d",
         "x": [
          0,
          0.9556361576076932
         ],
         "y": [
          0,
          -0.21021043664779687
         ],
         "z": [
          0,
          0.20632766803593444
         ]
        },
        {
         "line": {
          "color": "rgb(255, 105, 97)"
         },
         "mode": "lines",
         "opacity": 0.3,
         "showlegend": false,
         "type": "scatter3d",
         "x": [
          0,
          0.9593789735388271
         ],
         "y": [
          0,
          -0.20764596081939465
         ],
         "z": [
          0,
          0.19098465929748662
         ]
        },
        {
         "line": {
          "color": "rgb(255, 105, 97)"
         },
         "mode": "lines",
         "opacity": 0.3,
         "showlegend": false,
         "type": "scatter3d",
         "x": [
          0,
          0.9630982999610441
         ],
         "y": [
          0,
          -0.2036911513746095
         ],
         "z": [
          0,
          0.1759306097978196
         ]
        },
        {
         "line": {
          "color": "rgb(255, 105, 97)"
         },
         "mode": "lines",
         "opacity": 0.3,
         "showlegend": false,
         "type": "scatter3d",
         "x": [
          0,
          0.96682362315293
         ],
         "y": [
          0,
          -0.19826135409025603
         ],
         "z": [
          0,
          0.1610730181865956
         ]
        },
        {
         "line": {
          "color": "rgb(255, 105, 97)"
         },
         "mode": "lines",
         "opacity": 0.3,
         "showlegend": false,
         "type": "scatter3d",
         "x": [
          0,
          0.9706052692510312
         ],
         "y": [
          0,
          -0.19114171658027282
         ],
         "z": [
          0,
          0.14625407852391648
         ]
        },
        {
         "line": {
          "color": "rgb(255, 105, 97)"
         },
         "mode": "lines",
         "opacity": 0.3,
         "showlegend": false,
         "type": "scatter3d",
         "x": [
          0,
          0.9745433219919456
         ],
         "y": [
          0,
          -0.18183163523701543
         ],
         "z": [
          0,
          0.13115856810721863
         ]
        },
        {
         "line": {
          "color": "rgb(255, 105, 97)"
         },
         "mode": "lines",
         "opacity": 0.3,
         "showlegend": false,
         "type": "scatter3d",
         "x": [
          0,
          0.9789030303261852
         ],
         "y": [
          0,
          -0.1689286066133161
         ],
         "z": [
          0,
          0.11494339078822777
         ]
        },
        {
         "line": {
          "color": "rgb(255, 105, 97)"
         },
         "mode": "lines",
         "opacity": 0.3,
         "showlegend": false,
         "type": "scatter3d",
         "x": [
          0,
          0.9866142981514303
         ],
         "y": [
          0,
          -0.13721971012595535
         ],
         "z": [
          0,
          0.08810776263252525
         ]
        },
        {
         "line": {
          "color": "rgb(255, 105, 97)"
         },
         "mode": "lines",
         "opacity": 0.3,
         "showlegend": false,
         "type": "scatter3d",
         "x": [
          0,
          0.9866142981514303
         ],
         "y": [
          0,
          -0.13721971012595535
         ],
         "z": [
          0,
          0.08810776263252525
         ]
        },
        {
         "line": {
          "color": "rgb(255, 105, 97)"
         },
         "mode": "lines",
         "opacity": 0.3,
         "showlegend": false,
         "type": "scatter3d",
         "x": [
          0,
          0.9915190582029676
         ],
         "y": [
          0,
          -0.10744721880445322
         ],
         "z": [
          0,
          0.07310986521317192
         ]
        },
        {
         "line": {
          "color": "rgb(255, 105, 97)"
         },
         "mode": "lines",
         "opacity": 0.3,
         "showlegend": false,
         "type": "scatter3d",
         "x": [
          0,
          0.9929818368645372
         ],
         "y": [
          0,
          -0.09591767569928387
         ],
         "z": [
          0,
          0.06918721807947334
         ]
        },
        {
         "line": {
          "color": "rgb(255, 105, 97)"
         },
         "mode": "lines",
         "opacity": 0.3,
         "showlegend": false,
         "type": "scatter3d",
         "x": [
          0,
          0.9939313020072754
         ],
         "y": [
          0,
          -0.08736224326485272
         ],
         "z": [
          0,
          0.06684613183913381
         ]
        },
        {
         "line": {
          "color": "rgb(255, 105, 97)"
         },
         "mode": "lines",
         "opacity": 0.3,
         "showlegend": false,
         "type": "scatter3d",
         "x": [
          0,
          0.994631483267861
         ],
         "y": [
          0,
          -0.08031550097691158
         ],
         "z": [
          0,
          0.06525053865833258
         ]
        },
        {
         "line": {
          "color": "rgb(255, 105, 97)"
         },
         "mode": "lines",
         "opacity": 0.3,
         "showlegend": false,
         "type": "scatter3d",
         "x": [
          0,
          0.9951812631383143
         ],
         "y": [
          0,
          -0.07420543869057497
         ],
         "z": [
          0,
          0.06409217087264647
         ]
        },
        {
         "line": {
          "color": "rgb(255, 105, 97)"
         },
         "mode": "lines",
         "opacity": 0.3,
         "showlegend": false,
         "type": "scatter3d",
         "x": [
          0,
          0.9956297859579017
         ],
         "y": [
          0,
          -0.06873535213764313
         ],
         "z": [
          0,
          0.0632200971205909
         ]
        },
        {
         "line": {
          "color": "rgb(255, 105, 97)"
         },
         "mode": "lines",
         "opacity": 0.3,
         "showlegend": false,
         "type": "scatter3d",
         "x": [
          0,
          0.9960053770533555
         ],
         "y": [
          0,
          -0.06372567113188857
         ],
         "z": [
          0,
          0.06254860285884496
         ]
        },
        {
         "line": {
          "color": "rgb(255, 105, 97)"
         },
         "mode": "lines",
         "opacity": 0.3,
         "showlegend": false,
         "type": "scatter3d",
         "x": [
          0,
          0.9963259581404795
         ],
         "y": [
          0,
          -0.05905571410414643
         ],
         "z": [
          0,
          0.06202425144332448
         ]
        },
        {
         "line": {
          "color": "rgb(255, 105, 97)"
         },
         "mode": "lines",
         "opacity": 0.3,
         "showlegend": false,
         "type": "scatter3d",
         "x": [
          0,
          0.996603625885346
         ],
         "y": [
          0,
          -0.05463730570916157
         ],
         "z": [
          0,
          0.06161150620642889
         ]
        },
        {
         "line": {
          "color": "rgb(255, 105, 97)"
         },
         "mode": "lines",
         "opacity": 0.3,
         "showlegend": false,
         "type": "scatter3d",
         "x": [
          0,
          0.9968469438551054
         ],
         "y": [
          0,
          -0.050400870954477255
         ],
         "z": [
          0,
          0.06128558340887679
         ]
        },
        {
         "line": {
          "color": "rgb(255, 105, 97)"
         },
         "mode": "lines",
         "opacity": 0.3,
         "showlegend": false,
         "type": "scatter3d",
         "x": [
          0,
          0.9970622010055095
         ],
         "y": [
          0,
          -0.04628696106622997
         ],
         "z": [
          0,
          0.06102855529424186
         ]
        },
        {
         "line": {
          "color": "rgb(255, 105, 97)"
         },
         "mode": "lines",
         "opacity": 0.3,
         "showlegend": false,
         "type": "scatter3d",
         "x": [
          0,
          0.9972541525177928
         ],
         "y": [
          0,
          -0.04224005893339806
         ],
         "z": [
          0,
          0.06082707215806001
         ]
        },
        {
         "line": {
          "color": "rgb(255, 105, 97)"
         },
         "mode": "lines",
         "opacity": 0.3,
         "showlegend": false,
         "type": "scatter3d",
         "x": [
          0,
          0.9974264803196807
         ],
         "y": [
          0,
          -0.03820276711762743
         ],
         "z": [
          0,
          0.06067095632714055
         ]
        },
        {
         "line": {
          "color": "rgb(255, 105, 97)"
         },
         "mode": "lines",
         "opacity": 0.3,
         "showlegend": false,
         "type": "scatter3d",
         "x": [
          0,
          0.9975820921929222
         ],
         "y": [
          0,
          -0.03410848651720054
         ],
         "z": [
          0,
          0.060552295443674825
         ]
        },
        {
         "line": {
          "color": "rgb(255, 105, 97)"
         },
         "mode": "lines",
         "opacity": 0.3,
         "showlegend": false,
         "type": "scatter3d",
         "x": [
          0,
          0.9977233231917925
         ],
         "y": [
          0,
          -0.029869280792344462
         ],
         "z": [
          0,
          0.06046483626103829
         ]
        },
        {
         "line": {
          "color": "rgb(255, 105, 97)"
         },
         "mode": "lines",
         "opacity": 0.3,
         "showlegend": false,
         "type": "scatter3d",
         "x": [
          0,
          0.9978520754524449
         ],
         "y": [
          0,
          -0.025350436292256407
         ],
         "z": [
          0,
          0.06040356690660236
         ]
        },
        {
         "line": {
          "color": "rgb(255, 105, 97)"
         },
         "mode": "lines",
         "opacity": 0.3,
         "showlegend": false,
         "type": "scatter3d",
         "x": [
          0,
          0.9979699177751762
         ],
         "y": [
          0,
          -0.020302212473635735
         ],
         "z": [
          0,
          0.06036442151204244
         ]
        },
        {
         "line": {
          "color": "rgb(255, 105, 97)"
         },
         "mode": "lines",
         "opacity": 0.3,
         "showlegend": false,
         "type": "scatter3d",
         "x": [
          0,
          0.9980781581500309
         ],
         "y": [
          0,
          -0.014091977861265927
         ],
         "z": [
          0,
          0.06034406668264632
         ]
        },
        {
         "line": {
          "color": "rgb(255, 105, 97)"
         },
         "mode": "lines",
         "opacity": 0.3,
         "showlegend": false,
         "type": "scatter3d",
         "x": [
          0,
          0.9981778976111987
         ],
         "y": [
          0,
          0
         ],
         "z": [
          0,
          0.06033974412016766
         ]
        }
       ],
       "layout": {
        "margin": {
         "b": 0,
         "l": 0,
         "r": 0,
         "t": 0
        },
        "scene": {
         "xaxis": {
          "title": "Z"
         },
         "yaxis": {
          "title": "Y"
         },
         "zaxis": {
          "title": "X"
         }
        }
       }
      },
      "text/html": [
       "<div id=\"8eebc630-7571-480e-9527-29985d29f658\" style=\"height: 525px; width: 100%;\" class=\"plotly-graph-div\"></div><script type=\"text/javascript\">require([\"plotly\"], function(Plotly) { window.PLOTLYENV=window.PLOTLYENV || {};window.PLOTLYENV.BASE_URL=\"https://plot.ly\";Plotly.newPlot(\"8eebc630-7571-480e-9527-29985d29f658\", [{\"type\": \"scatter3d\", \"x\": [-1.0, 1.0], \"y\": [0, 0], \"z\": [0, 0], \"mode\": \"lines\", \"showlegend\": false, \"line\": {\"color\": \"rgb(0,33,71)\", \"width\": 5}}, {\"type\": \"surface\", \"x\": [[-1.0, -1.0, -1.0, -1.0, -1.0, -1.0, -1.0, -1.0, -1.0, -1.0], [1.0, 1.0, 1.0, 1.0, 1.0, 1.0, 1.0, 1.0, 1.0, 1.0]], \"y\": [[0.0, 0.342020143325669, 0.6427876096865394, 0.8660254037844386, 0.984807753012208, 0.984807753012208, 0.8660254037844388, 0.6427876096865395, 0.342020143325669, 0.0], [0.0, 0.342020143325669, 0.6427876096865394, 0.8660254037844386, 0.984807753012208, 0.984807753012208, 0.8660254037844388, 0.6427876096865395, 0.342020143325669, 0.0]], \"z\": [[-1.0, -0.9396926207859083, -0.766044443118978, -0.5, -0.17364817766693036, 0.17364817766693036, 0.49999999999999983, 0.7660444431189779, 0.9396926207859083, 1.0], [-1.0, -0.9396926207859083, -0.766044443118978, -0.5, -0.17364817766693036, 0.17364817766693036, 0.49999999999999983, 0.7660444431189779, 0.9396926207859083, 1.0]], \"surfacecolor\": [1, 1], \"showscale\": false, \"opacity\": 0.4}, {\"type\": \"surface\", \"x\": [[-1.0, -1.0, -1.0, -1.0, -1.0, -1.0, -1.0, -1.0, -1.0, -1.0], [1.0, 1.0, 1.0, 1.0, 1.0, 1.0, 1.0, 1.0, 1.0, 1.0]], \"y\": [[-0.0, -0.342020143325669, -0.6427876096865394, -0.8660254037844386, -0.984807753012208, -0.984807753012208, -0.8660254037844388, -0.6427876096865395, -0.342020143325669, -0.0], [-0.0, -0.342020143325669, -0.6427876096865394, -0.8660254037844386, -0.984807753012208, -0.984807753012208, -0.8660254037844388, -0.6427876096865395, -0.342020143325669, -0.0]], \"z\": [[-1.0, -0.9396926207859083, -0.766044443118978, -0.5, -0.17364817766693036, 0.17364817766693036, 0.49999999999999983, 0.7660444431189779, 0.9396926207859083, 1.0], [-1.0, -0.9396926207859083, -0.766044443118978, -0.5, -0.17364817766693036, 0.17364817766693036, 0.49999999999999983, 0.7660444431189779, 0.9396926207859083, 1.0]], \"surfacecolor\": [1, 1], \"showscale\": false, \"opacity\": 0.4}, {\"type\": \"scatter3d\", \"x\": [0.0, 0.9866142981514303], \"y\": [0.0, 0.0], \"z\": [0.0, 0.16307123192997783], \"mode\": \"lines\", \"showlegend\": false, \"line\": {\"color\": \"rgb(255, 105, 97)\", \"width\": 7}}, {\"type\": \"scatter3d\", \"x\": [0.9981778976111987, 0.9980781581500309, 0.9979699177751762, 0.9978520754524449, 0.9977233231917925, 0.9975820921929222, 0.9974264803196807, 0.9972541525177928, 0.9970622010055095, 0.9968469438551054, 0.996603625885346, 0.9963259581404795, 0.9960053770533555, 0.9956297859579017, 0.9951812631383143, 0.994631483267861, 0.9939313020072754, 0.9929818368645372, 0.9915190582029676, 0.9866142981514303, 0.9866142981514303, 0.9789030303261852, 0.9745433219919456, 0.9706052692510312, 0.96682362315293, 0.9630982999610441, 0.9593789735388271, 0.9556361576076932, 0.9518507917621246, 0.9480096643421602, 0.9441031219315349, 0.9401238123325585, 0.9360659452031765, 0.9319248330194343, 0.9276965934588334, 0.9233779494779316, 0.9189660910020024, 0.9144585768422983, 0.9098532636680045, 0.9051482536448664, 0.9051482536448664, 0.9098532636680045, 0.9144585768422983, 0.9189660910020024, 0.9233779494779316, 0.9276965934588334, 0.9319248330194343, 0.9360659452031765, 0.9401238123325585, 0.9441031219315349, 0.9480096643421602, 0.9518507917621246, 0.9556361576076932, 0.9593789735388271, 0.9630982999610441, 0.96682362315293, 0.9706052692510312, 0.9745433219919456, 0.9789030303261852, 0.9866142981514303, 0.9866142981514303, 0.9915190582029676, 0.9929818368645372, 0.9939313020072754, 0.994631483267861, 0.9951812631383143, 0.9956297859579017, 0.9960053770533555, 0.9963259581404795, 0.996603625885346, 0.9968469438551054, 0.9970622010055095, 0.9972541525177928, 0.9974264803196807, 0.9975820921929222, 0.9977233231917925, 0.9978520754524449, 0.9979699177751762, 0.9980781581500309, 0.9981778976111987], \"y\": [0.0, 0.014091977861265927, 0.020302212473635735, 0.025350436292256407, 0.029869280792344462, 0.03410848651720054, 0.03820276711762743, 0.04224005893339806, 0.04628696106622997, 0.050400870954477255, 0.05463730570916157, 0.05905571410414643, 0.06372567113188857, 0.06873535213764313, 0.07420543869057497, 0.08031550097691158, 0.08736224326485272, 0.09591767569928387, 0.10744721880445322, 0.13721971012595535, 0.13721971012595535, 0.1689286066133161, 0.18183163523701543, 0.19114171658027282, 0.19826135409025603, 0.2036911513746095, 0.20764596081939465, 0.21021043664779687, 0.211393695506167, 0.21115066352923706, 0.2093886927026561, 0.20596509530217016, 0.20067618728604758, 0.19323471133887815, 0.18322679369519698, 0.1700261047165447, 0.1526023803187572, 0.1290040379780891, 0.0943586888430563, 0.0, 0.0, -0.0943586888430563, -0.1290040379780891, -0.1526023803187572, -0.1700261047165447, -0.18322679369519698, -0.19323471133887815, -0.20067618728604758, -0.20596509530217016, -0.2093886927026561, -0.21115066352923706, -0.211393695506167, -0.21021043664779687, -0.20764596081939465, -0.2036911513746095, -0.19826135409025603, -0.19114171658027282, -0.18183163523701543, -0.1689286066133161, -0.13721971012595535, -0.13721971012595535, -0.10744721880445322, -0.09591767569928387, -0.08736224326485272, -0.08031550097691158, -0.07420543869057497, -0.06873535213764313, -0.06372567113188857, -0.05905571410414643, -0.05463730570916157, -0.050400870954477255, -0.04628696106622997, -0.04224005893339806, -0.03820276711762743, -0.03410848651720054, -0.029869280792344462, -0.025350436292256407, -0.020302212473635735, -0.014091977861265927, 0.0], \"z\": [0.06033974412016766, 0.06034406668264632, 0.06036442151204244, 0.06040356690660236, 0.06046483626103829, 0.060552295443674825, 0.06067095632714055, 0.06082707215806001, 0.06102855529424186, 0.06128558340887679, 0.06161150620642889, 0.06202425144332448, 0.06254860285884496, 0.0632200971205909, 0.06409217087264647, 0.06525053865833258, 0.06684613183913381, 0.06918721807947334, 0.07310986521317192, 0.08810776263252525, 0.08810776263252525, 0.11494339078822777, 0.13115856810721863, 0.14625407852391648, 0.1610730181865956, 0.1759306097978196, 0.19098465929748662, 0.20632766803593444, 0.22201976425999198, 0.238103073489251, 0.2546088579122927, 0.2715614055834597, 0.2889803005175592, 0.30688182079667076, 0.3252798373048254, 0.3441864118945561, 0.36361220704144226, 0.38356677309812204, 0.4040587536887427, 0.4250960349422805, 0.4250960349422805, 0.4040587536887427, 0.38356677309812204, 0.36361220704144226, 0.3441864118945561, 0.3252798373048254, 0.30688182079667076, 0.2889803005175592, 0.2715614055834597, 0.2546088579122927, 0.238103073489251, 0.22201976425999198, 0.20632766803593444, 0.19098465929748662, 0.1759306097978196, 0.1610730181865956, 0.14625407852391648, 0.13115856810721863, 0.11494339078822777, 0.08810776263252525, 0.08810776263252525, 0.07310986521317192, 0.06918721807947334, 0.06684613183913381, 0.06525053865833258, 0.06409217087264647, 0.0632200971205909, 0.06254860285884496, 0.06202425144332448, 0.06161150620642889, 0.06128558340887679, 0.06102855529424186, 0.06082707215806001, 0.06067095632714055, 0.060552295443674825, 0.06046483626103829, 0.06040356690660236, 0.06036442151204244, 0.06034406668264632, 0.06033974412016766], \"mode\": \"lines\", \"showlegend\": false, \"line\": {\"color\": \"rgb(255, 105, 97)\", \"width\": 5}}, {\"type\": \"scatter3d\", \"x\": [0, 0.9981778976111987], \"y\": [0, 0.0], \"z\": [0, 0.06033974412016766], \"opacity\": 0.3, \"mode\": \"lines\", \"showlegend\": false, \"line\": {\"color\": \"rgb(255, 105, 97)\"}}, {\"type\": \"scatter3d\", \"x\": [0, 0.9980781581500309], \"y\": [0, 0.014091977861265927], \"z\": [0, 0.06034406668264632], \"opacity\": 0.3, \"mode\": \"lines\", \"showlegend\": false, \"line\": {\"color\": \"rgb(255, 105, 97)\"}}, {\"type\": \"scatter3d\", \"x\": [0, 0.9979699177751762], \"y\": [0, 0.020302212473635735], \"z\": [0, 0.06036442151204244], \"opacity\": 0.3, \"mode\": \"lines\", \"showlegend\": false, \"line\": {\"color\": \"rgb(255, 105, 97)\"}}, {\"type\": \"scatter3d\", \"x\": [0, 0.9978520754524449], \"y\": [0, 0.025350436292256407], \"z\": [0, 0.06040356690660236], \"opacity\": 0.3, \"mode\": \"lines\", \"showlegend\": false, \"line\": {\"color\": \"rgb(255, 105, 97)\"}}, {\"type\": \"scatter3d\", \"x\": [0, 0.9977233231917925], \"y\": [0, 0.029869280792344462], \"z\": [0, 0.06046483626103829], \"opacity\": 0.3, \"mode\": \"lines\", \"showlegend\": false, \"line\": {\"color\": \"rgb(255, 105, 97)\"}}, {\"type\": \"scatter3d\", \"x\": [0, 0.9975820921929222], \"y\": [0, 0.03410848651720054], \"z\": [0, 0.060552295443674825], \"opacity\": 0.3, \"mode\": \"lines\", \"showlegend\": false, \"line\": {\"color\": \"rgb(255, 105, 97)\"}}, {\"type\": \"scatter3d\", \"x\": [0, 0.9974264803196807], \"y\": [0, 0.03820276711762743], \"z\": [0, 0.06067095632714055], \"opacity\": 0.3, \"mode\": \"lines\", \"showlegend\": false, \"line\": {\"color\": \"rgb(255, 105, 97)\"}}, {\"type\": \"scatter3d\", \"x\": [0, 0.9972541525177928], \"y\": [0, 0.04224005893339806], \"z\": [0, 0.06082707215806001], \"opacity\": 0.3, \"mode\": \"lines\", \"showlegend\": false, \"line\": {\"color\": \"rgb(255, 105, 97)\"}}, {\"type\": \"scatter3d\", \"x\": [0, 0.9970622010055095], \"y\": [0, 0.04628696106622997], \"z\": [0, 0.06102855529424186], \"opacity\": 0.3, \"mode\": \"lines\", \"showlegend\": false, \"line\": {\"color\": \"rgb(255, 105, 97)\"}}, {\"type\": \"scatter3d\", \"x\": [0, 0.9968469438551054], \"y\": [0, 0.050400870954477255], \"z\": [0, 0.06128558340887679], \"opacity\": 0.3, \"mode\": \"lines\", \"showlegend\": false, \"line\": {\"color\": \"rgb(255, 105, 97)\"}}, {\"type\": \"scatter3d\", \"x\": [0, 0.996603625885346], \"y\": [0, 0.05463730570916157], \"z\": [0, 0.06161150620642889], \"opacity\": 0.3, \"mode\": \"lines\", \"showlegend\": false, \"line\": {\"color\": \"rgb(255, 105, 97)\"}}, {\"type\": \"scatter3d\", \"x\": [0, 0.9963259581404795], \"y\": [0, 0.05905571410414643], \"z\": [0, 0.06202425144332448], \"opacity\": 0.3, \"mode\": \"lines\", \"showlegend\": false, \"line\": {\"color\": \"rgb(255, 105, 97)\"}}, {\"type\": \"scatter3d\", \"x\": [0, 0.9960053770533555], \"y\": [0, 0.06372567113188857], \"z\": [0, 0.06254860285884496], \"opacity\": 0.3, \"mode\": \"lines\", \"showlegend\": false, \"line\": {\"color\": \"rgb(255, 105, 97)\"}}, {\"type\": \"scatter3d\", \"x\": [0, 0.9956297859579017], \"y\": [0, 0.06873535213764313], \"z\": [0, 0.0632200971205909], \"opacity\": 0.3, \"mode\": \"lines\", \"showlegend\": false, \"line\": {\"color\": \"rgb(255, 105, 97)\"}}, {\"type\": \"scatter3d\", \"x\": [0, 0.9951812631383143], \"y\": [0, 0.07420543869057497], \"z\": [0, 0.06409217087264647], \"opacity\": 0.3, \"mode\": \"lines\", \"showlegend\": false, \"line\": {\"color\": \"rgb(255, 105, 97)\"}}, {\"type\": \"scatter3d\", \"x\": [0, 0.994631483267861], \"y\": [0, 0.08031550097691158], \"z\": [0, 0.06525053865833258], \"opacity\": 0.3, \"mode\": \"lines\", \"showlegend\": false, \"line\": {\"color\": \"rgb(255, 105, 97)\"}}, {\"type\": \"scatter3d\", \"x\": [0, 0.9939313020072754], \"y\": [0, 0.08736224326485272], \"z\": [0, 0.06684613183913381], \"opacity\": 0.3, \"mode\": \"lines\", \"showlegend\": false, \"line\": {\"color\": \"rgb(255, 105, 97)\"}}, {\"type\": \"scatter3d\", \"x\": [0, 0.9929818368645372], \"y\": [0, 0.09591767569928387], \"z\": [0, 0.06918721807947334], \"opacity\": 0.3, \"mode\": \"lines\", \"showlegend\": false, \"line\": {\"color\": \"rgb(255, 105, 97)\"}}, {\"type\": \"scatter3d\", \"x\": [0, 0.9915190582029676], \"y\": [0, 0.10744721880445322], \"z\": [0, 0.07310986521317192], \"opacity\": 0.3, \"mode\": \"lines\", \"showlegend\": false, \"line\": {\"color\": \"rgb(255, 105, 97)\"}}, {\"type\": \"scatter3d\", \"x\": [0, 0.9866142981514303], \"y\": [0, 0.13721971012595535], \"z\": [0, 0.08810776263252525], \"opacity\": 0.3, \"mode\": \"lines\", \"showlegend\": false, \"line\": {\"color\": \"rgb(255, 105, 97)\"}}, {\"type\": \"scatter3d\", \"x\": [0, 0.9866142981514303], \"y\": [0, 0.13721971012595535], \"z\": [0, 0.08810776263252525], \"opacity\": 0.3, \"mode\": \"lines\", \"showlegend\": false, \"line\": {\"color\": \"rgb(255, 105, 97)\"}}, {\"type\": \"scatter3d\", \"x\": [0, 0.9789030303261852], \"y\": [0, 0.1689286066133161], \"z\": [0, 0.11494339078822777], \"opacity\": 0.3, \"mode\": \"lines\", \"showlegend\": false, \"line\": {\"color\": \"rgb(255, 105, 97)\"}}, {\"type\": \"scatter3d\", \"x\": [0, 0.9745433219919456], \"y\": [0, 0.18183163523701543], \"z\": [0, 0.13115856810721863], \"opacity\": 0.3, \"mode\": \"lines\", \"showlegend\": false, \"line\": {\"color\": \"rgb(255, 105, 97)\"}}, {\"type\": \"scatter3d\", \"x\": [0, 0.9706052692510312], \"y\": [0, 0.19114171658027282], \"z\": [0, 0.14625407852391648], \"opacity\": 0.3, \"mode\": \"lines\", \"showlegend\": false, \"line\": {\"color\": \"rgb(255, 105, 97)\"}}, {\"type\": \"scatter3d\", \"x\": [0, 0.96682362315293], \"y\": [0, 0.19826135409025603], \"z\": [0, 0.1610730181865956], \"opacity\": 0.3, \"mode\": \"lines\", \"showlegend\": false, \"line\": {\"color\": \"rgb(255, 105, 97)\"}}, {\"type\": \"scatter3d\", \"x\": [0, 0.9630982999610441], \"y\": [0, 0.2036911513746095], \"z\": [0, 0.1759306097978196], \"opacity\": 0.3, \"mode\": \"lines\", \"showlegend\": false, \"line\": {\"color\": \"rgb(255, 105, 97)\"}}, {\"type\": \"scatter3d\", \"x\": [0, 0.9593789735388271], \"y\": [0, 0.20764596081939465], \"z\": [0, 0.19098465929748662], \"opacity\": 0.3, \"mode\": \"lines\", \"showlegend\": false, \"line\": {\"color\": \"rgb(255, 105, 97)\"}}, {\"type\": \"scatter3d\", \"x\": [0, 0.9556361576076932], \"y\": [0, 0.21021043664779687], \"z\": [0, 0.20632766803593444], \"opacity\": 0.3, \"mode\": \"lines\", \"showlegend\": false, \"line\": {\"color\": \"rgb(255, 105, 97)\"}}, {\"type\": \"scatter3d\", \"x\": [0, 0.9518507917621246], \"y\": [0, 0.211393695506167], \"z\": [0, 0.22201976425999198], \"opacity\": 0.3, \"mode\": \"lines\", \"showlegend\": false, \"line\": {\"color\": \"rgb(255, 105, 97)\"}}, {\"type\": \"scatter3d\", \"x\": [0, 0.9480096643421602], \"y\": [0, 0.21115066352923706], \"z\": [0, 0.238103073489251], \"opacity\": 0.3, \"mode\": \"lines\", \"showlegend\": false, \"line\": {\"color\": \"rgb(255, 105, 97)\"}}, {\"type\": \"scatter3d\", \"x\": [0, 0.9441031219315349], \"y\": [0, 0.2093886927026561], \"z\": [0, 0.2546088579122927], \"opacity\": 0.3, \"mode\": \"lines\", \"showlegend\": false, \"line\": {\"color\": \"rgb(255, 105, 97)\"}}, {\"type\": \"scatter3d\", \"x\": [0, 0.9401238123325585], \"y\": [0, 0.20596509530217016], \"z\": [0, 0.2715614055834597], \"opacity\": 0.3, \"mode\": \"lines\", \"showlegend\": false, \"line\": {\"color\": \"rgb(255, 105, 97)\"}}, {\"type\": \"scatter3d\", \"x\": [0, 0.9360659452031765], \"y\": [0, 0.20067618728604758], \"z\": [0, 0.2889803005175592], \"opacity\": 0.3, \"mode\": \"lines\", \"showlegend\": false, \"line\": {\"color\": \"rgb(255, 105, 97)\"}}, {\"type\": \"scatter3d\", \"x\": [0, 0.9319248330194343], \"y\": [0, 0.19323471133887815], \"z\": [0, 0.30688182079667076], \"opacity\": 0.3, \"mode\": \"lines\", \"showlegend\": false, \"line\": {\"color\": \"rgb(255, 105, 97)\"}}, {\"type\": \"scatter3d\", \"x\": [0, 0.9276965934588334], \"y\": [0, 0.18322679369519698], \"z\": [0, 0.3252798373048254], \"opacity\": 0.3, \"mode\": \"lines\", \"showlegend\": false, \"line\": {\"color\": \"rgb(255, 105, 97)\"}}, {\"type\": \"scatter3d\", \"x\": [0, 0.9233779494779316], \"y\": [0, 0.1700261047165447], \"z\": [0, 0.3441864118945561], \"opacity\": 0.3, \"mode\": \"lines\", \"showlegend\": false, \"line\": {\"color\": \"rgb(255, 105, 97)\"}}, {\"type\": \"scatter3d\", \"x\": [0, 0.9189660910020024], \"y\": [0, 0.1526023803187572], \"z\": [0, 0.36361220704144226], \"opacity\": 0.3, \"mode\": \"lines\", \"showlegend\": false, \"line\": {\"color\": \"rgb(255, 105, 97)\"}}, {\"type\": \"scatter3d\", \"x\": [0, 0.9144585768422983], \"y\": [0, 0.1290040379780891], \"z\": [0, 0.38356677309812204], \"opacity\": 0.3, \"mode\": \"lines\", \"showlegend\": false, \"line\": {\"color\": \"rgb(255, 105, 97)\"}}, {\"type\": \"scatter3d\", \"x\": [0, 0.9098532636680045], \"y\": [0, 0.0943586888430563], \"z\": [0, 0.4040587536887427], \"opacity\": 0.3, \"mode\": \"lines\", \"showlegend\": false, \"line\": {\"color\": \"rgb(255, 105, 97)\"}}, {\"type\": \"scatter3d\", \"x\": [0, 0.9051482536448664], \"y\": [0, 0.0], \"z\": [0, 0.4250960349422805], \"opacity\": 0.3, \"mode\": \"lines\", \"showlegend\": false, \"line\": {\"color\": \"rgb(255, 105, 97)\"}}, {\"type\": \"scatter3d\", \"x\": [0, 0.9051482536448664], \"y\": [0, 0.0], \"z\": [0, 0.4250960349422805], \"opacity\": 0.3, \"mode\": \"lines\", \"showlegend\": false, \"line\": {\"color\": \"rgb(255, 105, 97)\"}}, {\"type\": \"scatter3d\", \"x\": [0, 0.9098532636680045], \"y\": [0, -0.0943586888430563], \"z\": [0, 0.4040587536887427], \"opacity\": 0.3, \"mode\": \"lines\", \"showlegend\": false, \"line\": {\"color\": \"rgb(255, 105, 97)\"}}, {\"type\": \"scatter3d\", \"x\": [0, 0.9144585768422983], \"y\": [0, -0.1290040379780891], \"z\": [0, 0.38356677309812204], \"opacity\": 0.3, \"mode\": \"lines\", \"showlegend\": false, \"line\": {\"color\": \"rgb(255, 105, 97)\"}}, {\"type\": \"scatter3d\", \"x\": [0, 0.9189660910020024], \"y\": [0, -0.1526023803187572], \"z\": [0, 0.36361220704144226], \"opacity\": 0.3, \"mode\": \"lines\", \"showlegend\": false, \"line\": {\"color\": \"rgb(255, 105, 97)\"}}, {\"type\": \"scatter3d\", \"x\": [0, 0.9233779494779316], \"y\": [0, -0.1700261047165447], \"z\": [0, 0.3441864118945561], \"opacity\": 0.3, \"mode\": \"lines\", \"showlegend\": false, \"line\": {\"color\": \"rgb(255, 105, 97)\"}}, {\"type\": \"scatter3d\", \"x\": [0, 0.9276965934588334], \"y\": [0, -0.18322679369519698], \"z\": [0, 0.3252798373048254], \"opacity\": 0.3, \"mode\": \"lines\", \"showlegend\": false, \"line\": {\"color\": \"rgb(255, 105, 97)\"}}, {\"type\": \"scatter3d\", \"x\": [0, 0.9319248330194343], \"y\": [0, -0.19323471133887815], \"z\": [0, 0.30688182079667076], \"opacity\": 0.3, \"mode\": \"lines\", \"showlegend\": false, \"line\": {\"color\": \"rgb(255, 105, 97)\"}}, {\"type\": \"scatter3d\", \"x\": [0, 0.9360659452031765], \"y\": [0, -0.20067618728604758], \"z\": [0, 0.2889803005175592], \"opacity\": 0.3, \"mode\": \"lines\", \"showlegend\": false, \"line\": {\"color\": \"rgb(255, 105, 97)\"}}, {\"type\": \"scatter3d\", \"x\": [0, 0.9401238123325585], \"y\": [0, -0.20596509530217016], \"z\": [0, 0.2715614055834597], \"opacity\": 0.3, \"mode\": \"lines\", \"showlegend\": false, \"line\": {\"color\": \"rgb(255, 105, 97)\"}}, {\"type\": \"scatter3d\", \"x\": [0, 0.9441031219315349], \"y\": [0, -0.2093886927026561], \"z\": [0, 0.2546088579122927], \"opacity\": 0.3, \"mode\": \"lines\", \"showlegend\": false, \"line\": {\"color\": \"rgb(255, 105, 97)\"}}, {\"type\": \"scatter3d\", \"x\": [0, 0.9480096643421602], \"y\": [0, -0.21115066352923706], \"z\": [0, 0.238103073489251], \"opacity\": 0.3, \"mode\": \"lines\", \"showlegend\": false, \"line\": {\"color\": \"rgb(255, 105, 97)\"}}, {\"type\": \"scatter3d\", \"x\": [0, 0.9518507917621246], \"y\": [0, -0.211393695506167], \"z\": [0, 0.22201976425999198], \"opacity\": 0.3, \"mode\": \"lines\", \"showlegend\": false, \"line\": {\"color\": \"rgb(255, 105, 97)\"}}, {\"type\": \"scatter3d\", \"x\": [0, 0.9556361576076932], \"y\": [0, -0.21021043664779687], \"z\": [0, 0.20632766803593444], \"opacity\": 0.3, \"mode\": \"lines\", \"showlegend\": false, \"line\": {\"color\": \"rgb(255, 105, 97)\"}}, {\"type\": \"scatter3d\", \"x\": [0, 0.9593789735388271], \"y\": [0, -0.20764596081939465], \"z\": [0, 0.19098465929748662], \"opacity\": 0.3, \"mode\": \"lines\", \"showlegend\": false, \"line\": {\"color\": \"rgb(255, 105, 97)\"}}, {\"type\": \"scatter3d\", \"x\": [0, 0.9630982999610441], \"y\": [0, -0.2036911513746095], \"z\": [0, 0.1759306097978196], \"opacity\": 0.3, \"mode\": \"lines\", \"showlegend\": false, \"line\": {\"color\": \"rgb(255, 105, 97)\"}}, {\"type\": \"scatter3d\", \"x\": [0, 0.96682362315293], \"y\": [0, -0.19826135409025603], \"z\": [0, 0.1610730181865956], \"opacity\": 0.3, \"mode\": \"lines\", \"showlegend\": false, \"line\": {\"color\": \"rgb(255, 105, 97)\"}}, {\"type\": \"scatter3d\", \"x\": [0, 0.9706052692510312], \"y\": [0, -0.19114171658027282], \"z\": [0, 0.14625407852391648], \"opacity\": 0.3, \"mode\": \"lines\", \"showlegend\": false, \"line\": {\"color\": \"rgb(255, 105, 97)\"}}, {\"type\": \"scatter3d\", \"x\": [0, 0.9745433219919456], \"y\": [0, -0.18183163523701543], \"z\": [0, 0.13115856810721863], \"opacity\": 0.3, \"mode\": \"lines\", \"showlegend\": false, \"line\": {\"color\": \"rgb(255, 105, 97)\"}}, {\"type\": \"scatter3d\", \"x\": [0, 0.9789030303261852], \"y\": [0, -0.1689286066133161], \"z\": [0, 0.11494339078822777], \"opacity\": 0.3, \"mode\": \"lines\", \"showlegend\": false, \"line\": {\"color\": \"rgb(255, 105, 97)\"}}, {\"type\": \"scatter3d\", \"x\": [0, 0.9866142981514303], \"y\": [0, -0.13721971012595535], \"z\": [0, 0.08810776263252525], \"opacity\": 0.3, \"mode\": \"lines\", \"showlegend\": false, \"line\": {\"color\": \"rgb(255, 105, 97)\"}}, {\"type\": \"scatter3d\", \"x\": [0, 0.9866142981514303], \"y\": [0, -0.13721971012595535], \"z\": [0, 0.08810776263252525], \"opacity\": 0.3, \"mode\": \"lines\", \"showlegend\": false, \"line\": {\"color\": \"rgb(255, 105, 97)\"}}, {\"type\": \"scatter3d\", \"x\": [0, 0.9915190582029676], \"y\": [0, -0.10744721880445322], \"z\": [0, 0.07310986521317192], \"opacity\": 0.3, \"mode\": \"lines\", \"showlegend\": false, \"line\": {\"color\": \"rgb(255, 105, 97)\"}}, {\"type\": \"scatter3d\", \"x\": [0, 0.9929818368645372], \"y\": [0, -0.09591767569928387], \"z\": [0, 0.06918721807947334], \"opacity\": 0.3, \"mode\": \"lines\", \"showlegend\": false, \"line\": {\"color\": \"rgb(255, 105, 97)\"}}, {\"type\": \"scatter3d\", \"x\": [0, 0.9939313020072754], \"y\": [0, -0.08736224326485272], \"z\": [0, 0.06684613183913381], \"opacity\": 0.3, \"mode\": \"lines\", \"showlegend\": false, \"line\": {\"color\": \"rgb(255, 105, 97)\"}}, {\"type\": \"scatter3d\", \"x\": [0, 0.994631483267861], \"y\": [0, -0.08031550097691158], \"z\": [0, 0.06525053865833258], \"opacity\": 0.3, \"mode\": \"lines\", \"showlegend\": false, \"line\": {\"color\": \"rgb(255, 105, 97)\"}}, {\"type\": \"scatter3d\", \"x\": [0, 0.9951812631383143], \"y\": [0, -0.07420543869057497], \"z\": [0, 0.06409217087264647], \"opacity\": 0.3, \"mode\": \"lines\", \"showlegend\": false, \"line\": {\"color\": \"rgb(255, 105, 97)\"}}, {\"type\": \"scatter3d\", \"x\": [0, 0.9956297859579017], \"y\": [0, -0.06873535213764313], \"z\": [0, 0.0632200971205909], \"opacity\": 0.3, \"mode\": \"lines\", \"showlegend\": false, \"line\": {\"color\": \"rgb(255, 105, 97)\"}}, {\"type\": \"scatter3d\", \"x\": [0, 0.9960053770533555], \"y\": [0, -0.06372567113188857], \"z\": [0, 0.06254860285884496], \"opacity\": 0.3, \"mode\": \"lines\", \"showlegend\": false, \"line\": {\"color\": \"rgb(255, 105, 97)\"}}, {\"type\": \"scatter3d\", \"x\": [0, 0.9963259581404795], \"y\": [0, -0.05905571410414643], \"z\": [0, 0.06202425144332448], \"opacity\": 0.3, \"mode\": \"lines\", \"showlegend\": false, \"line\": {\"color\": \"rgb(255, 105, 97)\"}}, {\"type\": \"scatter3d\", \"x\": [0, 0.996603625885346], \"y\": [0, -0.05463730570916157], \"z\": [0, 0.06161150620642889], \"opacity\": 0.3, \"mode\": \"lines\", \"showlegend\": false, \"line\": {\"color\": \"rgb(255, 105, 97)\"}}, {\"type\": \"scatter3d\", \"x\": [0, 0.9968469438551054], \"y\": [0, -0.050400870954477255], \"z\": [0, 0.06128558340887679], \"opacity\": 0.3, \"mode\": \"lines\", \"showlegend\": false, \"line\": {\"color\": \"rgb(255, 105, 97)\"}}, {\"type\": \"scatter3d\", \"x\": [0, 0.9970622010055095], \"y\": [0, -0.04628696106622997], \"z\": [0, 0.06102855529424186], \"opacity\": 0.3, \"mode\": \"lines\", \"showlegend\": false, \"line\": {\"color\": \"rgb(255, 105, 97)\"}}, {\"type\": \"scatter3d\", \"x\": [0, 0.9972541525177928], \"y\": [0, -0.04224005893339806], \"z\": [0, 0.06082707215806001], \"opacity\": 0.3, \"mode\": \"lines\", \"showlegend\": false, \"line\": {\"color\": \"rgb(255, 105, 97)\"}}, {\"type\": \"scatter3d\", \"x\": [0, 0.9974264803196807], \"y\": [0, -0.03820276711762743], \"z\": [0, 0.06067095632714055], \"opacity\": 0.3, \"mode\": \"lines\", \"showlegend\": false, \"line\": {\"color\": \"rgb(255, 105, 97)\"}}, {\"type\": \"scatter3d\", \"x\": [0, 0.9975820921929222], \"y\": [0, -0.03410848651720054], \"z\": [0, 0.060552295443674825], \"opacity\": 0.3, \"mode\": \"lines\", \"showlegend\": false, \"line\": {\"color\": \"rgb(255, 105, 97)\"}}, {\"type\": \"scatter3d\", \"x\": [0, 0.9977233231917925], \"y\": [0, -0.029869280792344462], \"z\": [0, 0.06046483626103829], \"opacity\": 0.3, \"mode\": \"lines\", \"showlegend\": false, \"line\": {\"color\": \"rgb(255, 105, 97)\"}}, {\"type\": \"scatter3d\", \"x\": [0, 0.9978520754524449], \"y\": [0, -0.025350436292256407], \"z\": [0, 0.06040356690660236], \"opacity\": 0.3, \"mode\": \"lines\", \"showlegend\": false, \"line\": {\"color\": \"rgb(255, 105, 97)\"}}, {\"type\": \"scatter3d\", \"x\": [0, 0.9979699177751762], \"y\": [0, -0.020302212473635735], \"z\": [0, 0.06036442151204244], \"opacity\": 0.3, \"mode\": \"lines\", \"showlegend\": false, \"line\": {\"color\": \"rgb(255, 105, 97)\"}}, {\"type\": \"scatter3d\", \"x\": [0, 0.9980781581500309], \"y\": [0, -0.014091977861265927], \"z\": [0, 0.06034406668264632], \"opacity\": 0.3, \"mode\": \"lines\", \"showlegend\": false, \"line\": {\"color\": \"rgb(255, 105, 97)\"}}, {\"type\": \"scatter3d\", \"x\": [0, 0.9981778976111987], \"y\": [0, 0.0], \"z\": [0, 0.06033974412016766], \"opacity\": 0.3, \"mode\": \"lines\", \"showlegend\": false, \"line\": {\"color\": \"rgb(255, 105, 97)\"}}], {\"margin\": {\"l\": 0, \"r\": 0, \"b\": 0, \"t\": 0}, \"scene\": {\"xaxis\": {\"title\": \"Z\"}, \"yaxis\": {\"title\": \"Y\"}, \"zaxis\": {\"title\": \"X\"}}}, {\"showLink\": true, \"linkText\": \"Export to plot.ly\"})});</script>"
      ],
      "text/vnd.plotly.v1+html": [
       "<div id=\"8eebc630-7571-480e-9527-29985d29f658\" style=\"height: 525px; width: 100%;\" class=\"plotly-graph-div\"></div><script type=\"text/javascript\">require([\"plotly\"], function(Plotly) { window.PLOTLYENV=window.PLOTLYENV || {};window.PLOTLYENV.BASE_URL=\"https://plot.ly\";Plotly.newPlot(\"8eebc630-7571-480e-9527-29985d29f658\", [{\"type\": \"scatter3d\", \"x\": [-1.0, 1.0], \"y\": [0, 0], \"z\": [0, 0], \"mode\": \"lines\", \"showlegend\": false, \"line\": {\"color\": \"rgb(0,33,71)\", \"width\": 5}}, {\"type\": \"surface\", \"x\": [[-1.0, -1.0, -1.0, -1.0, -1.0, -1.0, -1.0, -1.0, -1.0, -1.0], [1.0, 1.0, 1.0, 1.0, 1.0, 1.0, 1.0, 1.0, 1.0, 1.0]], \"y\": [[0.0, 0.342020143325669, 0.6427876096865394, 0.8660254037844386, 0.984807753012208, 0.984807753012208, 0.8660254037844388, 0.6427876096865395, 0.342020143325669, 0.0], [0.0, 0.342020143325669, 0.6427876096865394, 0.8660254037844386, 0.984807753012208, 0.984807753012208, 0.8660254037844388, 0.6427876096865395, 0.342020143325669, 0.0]], \"z\": [[-1.0, -0.9396926207859083, -0.766044443118978, -0.5, -0.17364817766693036, 0.17364817766693036, 0.49999999999999983, 0.7660444431189779, 0.9396926207859083, 1.0], [-1.0, -0.9396926207859083, -0.766044443118978, -0.5, -0.17364817766693036, 0.17364817766693036, 0.49999999999999983, 0.7660444431189779, 0.9396926207859083, 1.0]], \"surfacecolor\": [1, 1], \"showscale\": false, \"opacity\": 0.4}, {\"type\": \"surface\", \"x\": [[-1.0, -1.0, -1.0, -1.0, -1.0, -1.0, -1.0, -1.0, -1.0, -1.0], [1.0, 1.0, 1.0, 1.0, 1.0, 1.0, 1.0, 1.0, 1.0, 1.0]], \"y\": [[-0.0, -0.342020143325669, -0.6427876096865394, -0.8660254037844386, -0.984807753012208, -0.984807753012208, -0.8660254037844388, -0.6427876096865395, -0.342020143325669, -0.0], [-0.0, -0.342020143325669, -0.6427876096865394, -0.8660254037844386, -0.984807753012208, -0.984807753012208, -0.8660254037844388, -0.6427876096865395, -0.342020143325669, -0.0]], \"z\": [[-1.0, -0.9396926207859083, -0.766044443118978, -0.5, -0.17364817766693036, 0.17364817766693036, 0.49999999999999983, 0.7660444431189779, 0.9396926207859083, 1.0], [-1.0, -0.9396926207859083, -0.766044443118978, -0.5, -0.17364817766693036, 0.17364817766693036, 0.49999999999999983, 0.7660444431189779, 0.9396926207859083, 1.0]], \"surfacecolor\": [1, 1], \"showscale\": false, \"opacity\": 0.4}, {\"type\": \"scatter3d\", \"x\": [0.0, 0.9866142981514303], \"y\": [0.0, 0.0], \"z\": [0.0, 0.16307123192997783], \"mode\": \"lines\", \"showlegend\": false, \"line\": {\"color\": \"rgb(255, 105, 97)\", \"width\": 7}}, {\"type\": \"scatter3d\", \"x\": [0.9981778976111987, 0.9980781581500309, 0.9979699177751762, 0.9978520754524449, 0.9977233231917925, 0.9975820921929222, 0.9974264803196807, 0.9972541525177928, 0.9970622010055095, 0.9968469438551054, 0.996603625885346, 0.9963259581404795, 0.9960053770533555, 0.9956297859579017, 0.9951812631383143, 0.994631483267861, 0.9939313020072754, 0.9929818368645372, 0.9915190582029676, 0.9866142981514303, 0.9866142981514303, 0.9789030303261852, 0.9745433219919456, 0.9706052692510312, 0.96682362315293, 0.9630982999610441, 0.9593789735388271, 0.9556361576076932, 0.9518507917621246, 0.9480096643421602, 0.9441031219315349, 0.9401238123325585, 0.9360659452031765, 0.9319248330194343, 0.9276965934588334, 0.9233779494779316, 0.9189660910020024, 0.9144585768422983, 0.9098532636680045, 0.9051482536448664, 0.9051482536448664, 0.9098532636680045, 0.9144585768422983, 0.9189660910020024, 0.9233779494779316, 0.9276965934588334, 0.9319248330194343, 0.9360659452031765, 0.9401238123325585, 0.9441031219315349, 0.9480096643421602, 0.9518507917621246, 0.9556361576076932, 0.9593789735388271, 0.9630982999610441, 0.96682362315293, 0.9706052692510312, 0.9745433219919456, 0.9789030303261852, 0.9866142981514303, 0.9866142981514303, 0.9915190582029676, 0.9929818368645372, 0.9939313020072754, 0.994631483267861, 0.9951812631383143, 0.9956297859579017, 0.9960053770533555, 0.9963259581404795, 0.996603625885346, 0.9968469438551054, 0.9970622010055095, 0.9972541525177928, 0.9974264803196807, 0.9975820921929222, 0.9977233231917925, 0.9978520754524449, 0.9979699177751762, 0.9980781581500309, 0.9981778976111987], \"y\": [0.0, 0.014091977861265927, 0.020302212473635735, 0.025350436292256407, 0.029869280792344462, 0.03410848651720054, 0.03820276711762743, 0.04224005893339806, 0.04628696106622997, 0.050400870954477255, 0.05463730570916157, 0.05905571410414643, 0.06372567113188857, 0.06873535213764313, 0.07420543869057497, 0.08031550097691158, 0.08736224326485272, 0.09591767569928387, 0.10744721880445322, 0.13721971012595535, 0.13721971012595535, 0.1689286066133161, 0.18183163523701543, 0.19114171658027282, 0.19826135409025603, 0.2036911513746095, 0.20764596081939465, 0.21021043664779687, 0.211393695506167, 0.21115066352923706, 0.2093886927026561, 0.20596509530217016, 0.20067618728604758, 0.19323471133887815, 0.18322679369519698, 0.1700261047165447, 0.1526023803187572, 0.1290040379780891, 0.0943586888430563, 0.0, 0.0, -0.0943586888430563, -0.1290040379780891, -0.1526023803187572, -0.1700261047165447, -0.18322679369519698, -0.19323471133887815, -0.20067618728604758, -0.20596509530217016, -0.2093886927026561, -0.21115066352923706, -0.211393695506167, -0.21021043664779687, -0.20764596081939465, -0.2036911513746095, -0.19826135409025603, -0.19114171658027282, -0.18183163523701543, -0.1689286066133161, -0.13721971012595535, -0.13721971012595535, -0.10744721880445322, -0.09591767569928387, -0.08736224326485272, -0.08031550097691158, -0.07420543869057497, -0.06873535213764313, -0.06372567113188857, -0.05905571410414643, -0.05463730570916157, -0.050400870954477255, -0.04628696106622997, -0.04224005893339806, -0.03820276711762743, -0.03410848651720054, -0.029869280792344462, -0.025350436292256407, -0.020302212473635735, -0.014091977861265927, 0.0], \"z\": [0.06033974412016766, 0.06034406668264632, 0.06036442151204244, 0.06040356690660236, 0.06046483626103829, 0.060552295443674825, 0.06067095632714055, 0.06082707215806001, 0.06102855529424186, 0.06128558340887679, 0.06161150620642889, 0.06202425144332448, 0.06254860285884496, 0.0632200971205909, 0.06409217087264647, 0.06525053865833258, 0.06684613183913381, 0.06918721807947334, 0.07310986521317192, 0.08810776263252525, 0.08810776263252525, 0.11494339078822777, 0.13115856810721863, 0.14625407852391648, 0.1610730181865956, 0.1759306097978196, 0.19098465929748662, 0.20632766803593444, 0.22201976425999198, 0.238103073489251, 0.2546088579122927, 0.2715614055834597, 0.2889803005175592, 0.30688182079667076, 0.3252798373048254, 0.3441864118945561, 0.36361220704144226, 0.38356677309812204, 0.4040587536887427, 0.4250960349422805, 0.4250960349422805, 0.4040587536887427, 0.38356677309812204, 0.36361220704144226, 0.3441864118945561, 0.3252798373048254, 0.30688182079667076, 0.2889803005175592, 0.2715614055834597, 0.2546088579122927, 0.238103073489251, 0.22201976425999198, 0.20632766803593444, 0.19098465929748662, 0.1759306097978196, 0.1610730181865956, 0.14625407852391648, 0.13115856810721863, 0.11494339078822777, 0.08810776263252525, 0.08810776263252525, 0.07310986521317192, 0.06918721807947334, 0.06684613183913381, 0.06525053865833258, 0.06409217087264647, 0.0632200971205909, 0.06254860285884496, 0.06202425144332448, 0.06161150620642889, 0.06128558340887679, 0.06102855529424186, 0.06082707215806001, 0.06067095632714055, 0.060552295443674825, 0.06046483626103829, 0.06040356690660236, 0.06036442151204244, 0.06034406668264632, 0.06033974412016766], \"mode\": \"lines\", \"showlegend\": false, \"line\": {\"color\": \"rgb(255, 105, 97)\", \"width\": 5}}, {\"type\": \"scatter3d\", \"x\": [0, 0.9981778976111987], \"y\": [0, 0.0], \"z\": [0, 0.06033974412016766], \"opacity\": 0.3, \"mode\": \"lines\", \"showlegend\": false, \"line\": {\"color\": \"rgb(255, 105, 97)\"}}, {\"type\": \"scatter3d\", \"x\": [0, 0.9980781581500309], \"y\": [0, 0.014091977861265927], \"z\": [0, 0.06034406668264632], \"opacity\": 0.3, \"mode\": \"lines\", \"showlegend\": false, \"line\": {\"color\": \"rgb(255, 105, 97)\"}}, {\"type\": \"scatter3d\", \"x\": [0, 0.9979699177751762], \"y\": [0, 0.020302212473635735], \"z\": [0, 0.06036442151204244], \"opacity\": 0.3, \"mode\": \"lines\", \"showlegend\": false, \"line\": {\"color\": \"rgb(255, 105, 97)\"}}, {\"type\": \"scatter3d\", \"x\": [0, 0.9978520754524449], \"y\": [0, 0.025350436292256407], \"z\": [0, 0.06040356690660236], \"opacity\": 0.3, \"mode\": \"lines\", \"showlegend\": false, \"line\": {\"color\": \"rgb(255, 105, 97)\"}}, {\"type\": \"scatter3d\", \"x\": [0, 0.9977233231917925], \"y\": [0, 0.029869280792344462], \"z\": [0, 0.06046483626103829], \"opacity\": 0.3, \"mode\": \"lines\", \"showlegend\": false, \"line\": {\"color\": \"rgb(255, 105, 97)\"}}, {\"type\": \"scatter3d\", \"x\": [0, 0.9975820921929222], \"y\": [0, 0.03410848651720054], \"z\": [0, 0.060552295443674825], \"opacity\": 0.3, \"mode\": \"lines\", \"showlegend\": false, \"line\": {\"color\": \"rgb(255, 105, 97)\"}}, {\"type\": \"scatter3d\", \"x\": [0, 0.9974264803196807], \"y\": [0, 0.03820276711762743], \"z\": [0, 0.06067095632714055], \"opacity\": 0.3, \"mode\": \"lines\", \"showlegend\": false, \"line\": {\"color\": \"rgb(255, 105, 97)\"}}, {\"type\": \"scatter3d\", \"x\": [0, 0.9972541525177928], \"y\": [0, 0.04224005893339806], \"z\": [0, 0.06082707215806001], \"opacity\": 0.3, \"mode\": \"lines\", \"showlegend\": false, \"line\": {\"color\": \"rgb(255, 105, 97)\"}}, {\"type\": \"scatter3d\", \"x\": [0, 0.9970622010055095], \"y\": [0, 0.04628696106622997], \"z\": [0, 0.06102855529424186], \"opacity\": 0.3, \"mode\": \"lines\", \"showlegend\": false, \"line\": {\"color\": \"rgb(255, 105, 97)\"}}, {\"type\": \"scatter3d\", \"x\": [0, 0.9968469438551054], \"y\": [0, 0.050400870954477255], \"z\": [0, 0.06128558340887679], \"opacity\": 0.3, \"mode\": \"lines\", \"showlegend\": false, \"line\": {\"color\": \"rgb(255, 105, 97)\"}}, {\"type\": \"scatter3d\", \"x\": [0, 0.996603625885346], \"y\": [0, 0.05463730570916157], \"z\": [0, 0.06161150620642889], \"opacity\": 0.3, \"mode\": \"lines\", \"showlegend\": false, \"line\": {\"color\": \"rgb(255, 105, 97)\"}}, {\"type\": \"scatter3d\", \"x\": [0, 0.9963259581404795], \"y\": [0, 0.05905571410414643], \"z\": [0, 0.06202425144332448], \"opacity\": 0.3, \"mode\": \"lines\", \"showlegend\": false, \"line\": {\"color\": \"rgb(255, 105, 97)\"}}, {\"type\": \"scatter3d\", \"x\": [0, 0.9960053770533555], \"y\": [0, 0.06372567113188857], \"z\": [0, 0.06254860285884496], \"opacity\": 0.3, \"mode\": \"lines\", \"showlegend\": false, \"line\": {\"color\": \"rgb(255, 105, 97)\"}}, {\"type\": \"scatter3d\", \"x\": [0, 0.9956297859579017], \"y\": [0, 0.06873535213764313], \"z\": [0, 0.0632200971205909], \"opacity\": 0.3, \"mode\": \"lines\", \"showlegend\": false, \"line\": {\"color\": \"rgb(255, 105, 97)\"}}, {\"type\": \"scatter3d\", \"x\": [0, 0.9951812631383143], \"y\": [0, 0.07420543869057497], \"z\": [0, 0.06409217087264647], \"opacity\": 0.3, \"mode\": \"lines\", \"showlegend\": false, \"line\": {\"color\": \"rgb(255, 105, 97)\"}}, {\"type\": \"scatter3d\", \"x\": [0, 0.994631483267861], \"y\": [0, 0.08031550097691158], \"z\": [0, 0.06525053865833258], \"opacity\": 0.3, \"mode\": \"lines\", \"showlegend\": false, \"line\": {\"color\": \"rgb(255, 105, 97)\"}}, {\"type\": \"scatter3d\", \"x\": [0, 0.9939313020072754], \"y\": [0, 0.08736224326485272], \"z\": [0, 0.06684613183913381], \"opacity\": 0.3, \"mode\": \"lines\", \"showlegend\": false, \"line\": {\"color\": \"rgb(255, 105, 97)\"}}, {\"type\": \"scatter3d\", \"x\": [0, 0.9929818368645372], \"y\": [0, 0.09591767569928387], \"z\": [0, 0.06918721807947334], \"opacity\": 0.3, \"mode\": \"lines\", \"showlegend\": false, \"line\": {\"color\": \"rgb(255, 105, 97)\"}}, {\"type\": \"scatter3d\", \"x\": [0, 0.9915190582029676], \"y\": [0, 0.10744721880445322], \"z\": [0, 0.07310986521317192], \"opacity\": 0.3, \"mode\": \"lines\", \"showlegend\": false, \"line\": {\"color\": \"rgb(255, 105, 97)\"}}, {\"type\": \"scatter3d\", \"x\": [0, 0.9866142981514303], \"y\": [0, 0.13721971012595535], \"z\": [0, 0.08810776263252525], \"opacity\": 0.3, \"mode\": \"lines\", \"showlegend\": false, \"line\": {\"color\": \"rgb(255, 105, 97)\"}}, {\"type\": \"scatter3d\", \"x\": [0, 0.9866142981514303], \"y\": [0, 0.13721971012595535], \"z\": [0, 0.08810776263252525], \"opacity\": 0.3, \"mode\": \"lines\", \"showlegend\": false, \"line\": {\"color\": \"rgb(255, 105, 97)\"}}, {\"type\": \"scatter3d\", \"x\": [0, 0.9789030303261852], \"y\": [0, 0.1689286066133161], \"z\": [0, 0.11494339078822777], \"opacity\": 0.3, \"mode\": \"lines\", \"showlegend\": false, \"line\": {\"color\": \"rgb(255, 105, 97)\"}}, {\"type\": \"scatter3d\", \"x\": [0, 0.9745433219919456], \"y\": [0, 0.18183163523701543], \"z\": [0, 0.13115856810721863], \"opacity\": 0.3, \"mode\": \"lines\", \"showlegend\": false, \"line\": {\"color\": \"rgb(255, 105, 97)\"}}, {\"type\": \"scatter3d\", \"x\": [0, 0.9706052692510312], \"y\": [0, 0.19114171658027282], \"z\": [0, 0.14625407852391648], \"opacity\": 0.3, \"mode\": \"lines\", \"showlegend\": false, \"line\": {\"color\": \"rgb(255, 105, 97)\"}}, {\"type\": \"scatter3d\", \"x\": [0, 0.96682362315293], \"y\": [0, 0.19826135409025603], \"z\": [0, 0.1610730181865956], \"opacity\": 0.3, \"mode\": \"lines\", \"showlegend\": false, \"line\": {\"color\": \"rgb(255, 105, 97)\"}}, {\"type\": \"scatter3d\", \"x\": [0, 0.9630982999610441], \"y\": [0, 0.2036911513746095], \"z\": [0, 0.1759306097978196], \"opacity\": 0.3, \"mode\": \"lines\", \"showlegend\": false, \"line\": {\"color\": \"rgb(255, 105, 97)\"}}, {\"type\": \"scatter3d\", \"x\": [0, 0.9593789735388271], \"y\": [0, 0.20764596081939465], \"z\": [0, 0.19098465929748662], \"opacity\": 0.3, \"mode\": \"lines\", \"showlegend\": false, \"line\": {\"color\": \"rgb(255, 105, 97)\"}}, {\"type\": \"scatter3d\", \"x\": [0, 0.9556361576076932], \"y\": [0, 0.21021043664779687], \"z\": [0, 0.20632766803593444], \"opacity\": 0.3, \"mode\": \"lines\", \"showlegend\": false, \"line\": {\"color\": \"rgb(255, 105, 97)\"}}, {\"type\": \"scatter3d\", \"x\": [0, 0.9518507917621246], \"y\": [0, 0.211393695506167], \"z\": [0, 0.22201976425999198], \"opacity\": 0.3, \"mode\": \"lines\", \"showlegend\": false, \"line\": {\"color\": \"rgb(255, 105, 97)\"}}, {\"type\": \"scatter3d\", \"x\": [0, 0.9480096643421602], \"y\": [0, 0.21115066352923706], \"z\": [0, 0.238103073489251], \"opacity\": 0.3, \"mode\": \"lines\", \"showlegend\": false, \"line\": {\"color\": \"rgb(255, 105, 97)\"}}, {\"type\": \"scatter3d\", \"x\": [0, 0.9441031219315349], \"y\": [0, 0.2093886927026561], \"z\": [0, 0.2546088579122927], \"opacity\": 0.3, \"mode\": \"lines\", \"showlegend\": false, \"line\": {\"color\": \"rgb(255, 105, 97)\"}}, {\"type\": \"scatter3d\", \"x\": [0, 0.9401238123325585], \"y\": [0, 0.20596509530217016], \"z\": [0, 0.2715614055834597], \"opacity\": 0.3, \"mode\": \"lines\", \"showlegend\": false, \"line\": {\"color\": \"rgb(255, 105, 97)\"}}, {\"type\": \"scatter3d\", \"x\": [0, 0.9360659452031765], \"y\": [0, 0.20067618728604758], \"z\": [0, 0.2889803005175592], \"opacity\": 0.3, \"mode\": \"lines\", \"showlegend\": false, \"line\": {\"color\": \"rgb(255, 105, 97)\"}}, {\"type\": \"scatter3d\", \"x\": [0, 0.9319248330194343], \"y\": [0, 0.19323471133887815], \"z\": [0, 0.30688182079667076], \"opacity\": 0.3, \"mode\": \"lines\", \"showlegend\": false, \"line\": {\"color\": \"rgb(255, 105, 97)\"}}, {\"type\": \"scatter3d\", \"x\": [0, 0.9276965934588334], \"y\": [0, 0.18322679369519698], \"z\": [0, 0.3252798373048254], \"opacity\": 0.3, \"mode\": \"lines\", \"showlegend\": false, \"line\": {\"color\": \"rgb(255, 105, 97)\"}}, {\"type\": \"scatter3d\", \"x\": [0, 0.9233779494779316], \"y\": [0, 0.1700261047165447], \"z\": [0, 0.3441864118945561], \"opacity\": 0.3, \"mode\": \"lines\", \"showlegend\": false, \"line\": {\"color\": \"rgb(255, 105, 97)\"}}, {\"type\": \"scatter3d\", \"x\": [0, 0.9189660910020024], \"y\": [0, 0.1526023803187572], \"z\": [0, 0.36361220704144226], \"opacity\": 0.3, \"mode\": \"lines\", \"showlegend\": false, \"line\": {\"color\": \"rgb(255, 105, 97)\"}}, {\"type\": \"scatter3d\", \"x\": [0, 0.9144585768422983], \"y\": [0, 0.1290040379780891], \"z\": [0, 0.38356677309812204], \"opacity\": 0.3, \"mode\": \"lines\", \"showlegend\": false, \"line\": {\"color\": \"rgb(255, 105, 97)\"}}, {\"type\": \"scatter3d\", \"x\": [0, 0.9098532636680045], \"y\": [0, 0.0943586888430563], \"z\": [0, 0.4040587536887427], \"opacity\": 0.3, \"mode\": \"lines\", \"showlegend\": false, \"line\": {\"color\": \"rgb(255, 105, 97)\"}}, {\"type\": \"scatter3d\", \"x\": [0, 0.9051482536448664], \"y\": [0, 0.0], \"z\": [0, 0.4250960349422805], \"opacity\": 0.3, \"mode\": \"lines\", \"showlegend\": false, \"line\": {\"color\": \"rgb(255, 105, 97)\"}}, {\"type\": \"scatter3d\", \"x\": [0, 0.9051482536448664], \"y\": [0, 0.0], \"z\": [0, 0.4250960349422805], \"opacity\": 0.3, \"mode\": \"lines\", \"showlegend\": false, \"line\": {\"color\": \"rgb(255, 105, 97)\"}}, {\"type\": \"scatter3d\", \"x\": [0, 0.9098532636680045], \"y\": [0, -0.0943586888430563], \"z\": [0, 0.4040587536887427], \"opacity\": 0.3, \"mode\": \"lines\", \"showlegend\": false, \"line\": {\"color\": \"rgb(255, 105, 97)\"}}, {\"type\": \"scatter3d\", \"x\": [0, 0.9144585768422983], \"y\": [0, -0.1290040379780891], \"z\": [0, 0.38356677309812204], \"opacity\": 0.3, \"mode\": \"lines\", \"showlegend\": false, \"line\": {\"color\": \"rgb(255, 105, 97)\"}}, {\"type\": \"scatter3d\", \"x\": [0, 0.9189660910020024], \"y\": [0, -0.1526023803187572], \"z\": [0, 0.36361220704144226], \"opacity\": 0.3, \"mode\": \"lines\", \"showlegend\": false, \"line\": {\"color\": \"rgb(255, 105, 97)\"}}, {\"type\": \"scatter3d\", \"x\": [0, 0.9233779494779316], \"y\": [0, -0.1700261047165447], \"z\": [0, 0.3441864118945561], \"opacity\": 0.3, \"mode\": \"lines\", \"showlegend\": false, \"line\": {\"color\": \"rgb(255, 105, 97)\"}}, {\"type\": \"scatter3d\", \"x\": [0, 0.9276965934588334], \"y\": [0, -0.18322679369519698], \"z\": [0, 0.3252798373048254], \"opacity\": 0.3, \"mode\": \"lines\", \"showlegend\": false, \"line\": {\"color\": \"rgb(255, 105, 97)\"}}, {\"type\": \"scatter3d\", \"x\": [0, 0.9319248330194343], \"y\": [0, -0.19323471133887815], \"z\": [0, 0.30688182079667076], \"opacity\": 0.3, \"mode\": \"lines\", \"showlegend\": false, \"line\": {\"color\": \"rgb(255, 105, 97)\"}}, {\"type\": \"scatter3d\", \"x\": [0, 0.9360659452031765], \"y\": [0, -0.20067618728604758], \"z\": [0, 0.2889803005175592], \"opacity\": 0.3, \"mode\": \"lines\", \"showlegend\": false, \"line\": {\"color\": \"rgb(255, 105, 97)\"}}, {\"type\": \"scatter3d\", \"x\": [0, 0.9401238123325585], \"y\": [0, -0.20596509530217016], \"z\": [0, 0.2715614055834597], \"opacity\": 0.3, \"mode\": \"lines\", \"showlegend\": false, \"line\": {\"color\": \"rgb(255, 105, 97)\"}}, {\"type\": \"scatter3d\", \"x\": [0, 0.9441031219315349], \"y\": [0, -0.2093886927026561], \"z\": [0, 0.2546088579122927], \"opacity\": 0.3, \"mode\": \"lines\", \"showlegend\": false, \"line\": {\"color\": \"rgb(255, 105, 97)\"}}, {\"type\": \"scatter3d\", \"x\": [0, 0.9480096643421602], \"y\": [0, -0.21115066352923706], \"z\": [0, 0.238103073489251], \"opacity\": 0.3, \"mode\": \"lines\", \"showlegend\": false, \"line\": {\"color\": \"rgb(255, 105, 97)\"}}, {\"type\": \"scatter3d\", \"x\": [0, 0.9518507917621246], \"y\": [0, -0.211393695506167], \"z\": [0, 0.22201976425999198], \"opacity\": 0.3, \"mode\": \"lines\", \"showlegend\": false, \"line\": {\"color\": \"rgb(255, 105, 97)\"}}, {\"type\": \"scatter3d\", \"x\": [0, 0.9556361576076932], \"y\": [0, -0.21021043664779687], \"z\": [0, 0.20632766803593444], \"opacity\": 0.3, \"mode\": \"lines\", \"showlegend\": false, \"line\": {\"color\": \"rgb(255, 105, 97)\"}}, {\"type\": \"scatter3d\", \"x\": [0, 0.9593789735388271], \"y\": [0, -0.20764596081939465], \"z\": [0, 0.19098465929748662], \"opacity\": 0.3, \"mode\": \"lines\", \"showlegend\": false, \"line\": {\"color\": \"rgb(255, 105, 97)\"}}, {\"type\": \"scatter3d\", \"x\": [0, 0.9630982999610441], \"y\": [0, -0.2036911513746095], \"z\": [0, 0.1759306097978196], \"opacity\": 0.3, \"mode\": \"lines\", \"showlegend\": false, \"line\": {\"color\": \"rgb(255, 105, 97)\"}}, {\"type\": \"scatter3d\", \"x\": [0, 0.96682362315293], \"y\": [0, -0.19826135409025603], \"z\": [0, 0.1610730181865956], \"opacity\": 0.3, \"mode\": \"lines\", \"showlegend\": false, \"line\": {\"color\": \"rgb(255, 105, 97)\"}}, {\"type\": \"scatter3d\", \"x\": [0, 0.9706052692510312], \"y\": [0, -0.19114171658027282], \"z\": [0, 0.14625407852391648], \"opacity\": 0.3, \"mode\": \"lines\", \"showlegend\": false, \"line\": {\"color\": \"rgb(255, 105, 97)\"}}, {\"type\": \"scatter3d\", \"x\": [0, 0.9745433219919456], \"y\": [0, -0.18183163523701543], \"z\": [0, 0.13115856810721863], \"opacity\": 0.3, \"mode\": \"lines\", \"showlegend\": false, \"line\": {\"color\": \"rgb(255, 105, 97)\"}}, {\"type\": \"scatter3d\", \"x\": [0, 0.9789030303261852], \"y\": [0, -0.1689286066133161], \"z\": [0, 0.11494339078822777], \"opacity\": 0.3, \"mode\": \"lines\", \"showlegend\": false, \"line\": {\"color\": \"rgb(255, 105, 97)\"}}, {\"type\": \"scatter3d\", \"x\": [0, 0.9866142981514303], \"y\": [0, -0.13721971012595535], \"z\": [0, 0.08810776263252525], \"opacity\": 0.3, \"mode\": \"lines\", \"showlegend\": false, \"line\": {\"color\": \"rgb(255, 105, 97)\"}}, {\"type\": \"scatter3d\", \"x\": [0, 0.9866142981514303], \"y\": [0, -0.13721971012595535], \"z\": [0, 0.08810776263252525], \"opacity\": 0.3, \"mode\": \"lines\", \"showlegend\": false, \"line\": {\"color\": \"rgb(255, 105, 97)\"}}, {\"type\": \"scatter3d\", \"x\": [0, 0.9915190582029676], \"y\": [0, -0.10744721880445322], \"z\": [0, 0.07310986521317192], \"opacity\": 0.3, \"mode\": \"lines\", \"showlegend\": false, \"line\": {\"color\": \"rgb(255, 105, 97)\"}}, {\"type\": \"scatter3d\", \"x\": [0, 0.9929818368645372], \"y\": [0, -0.09591767569928387], \"z\": [0, 0.06918721807947334], \"opacity\": 0.3, \"mode\": \"lines\", \"showlegend\": false, \"line\": {\"color\": \"rgb(255, 105, 97)\"}}, {\"type\": \"scatter3d\", \"x\": [0, 0.9939313020072754], \"y\": [0, -0.08736224326485272], \"z\": [0, 0.06684613183913381], \"opacity\": 0.3, \"mode\": \"lines\", \"showlegend\": false, \"line\": {\"color\": \"rgb(255, 105, 97)\"}}, {\"type\": \"scatter3d\", \"x\": [0, 0.994631483267861], \"y\": [0, -0.08031550097691158], \"z\": [0, 0.06525053865833258], \"opacity\": 0.3, \"mode\": \"lines\", \"showlegend\": false, \"line\": {\"color\": \"rgb(255, 105, 97)\"}}, {\"type\": \"scatter3d\", \"x\": [0, 0.9951812631383143], \"y\": [0, -0.07420543869057497], \"z\": [0, 0.06409217087264647], \"opacity\": 0.3, \"mode\": \"lines\", \"showlegend\": false, \"line\": {\"color\": \"rgb(255, 105, 97)\"}}, {\"type\": \"scatter3d\", \"x\": [0, 0.9956297859579017], \"y\": [0, -0.06873535213764313], \"z\": [0, 0.0632200971205909], \"opacity\": 0.3, \"mode\": \"lines\", \"showlegend\": false, \"line\": {\"color\": \"rgb(255, 105, 97)\"}}, {\"type\": \"scatter3d\", \"x\": [0, 0.9960053770533555], \"y\": [0, -0.06372567113188857], \"z\": [0, 0.06254860285884496], \"opacity\": 0.3, \"mode\": \"lines\", \"showlegend\": false, \"line\": {\"color\": \"rgb(255, 105, 97)\"}}, {\"type\": \"scatter3d\", \"x\": [0, 0.9963259581404795], \"y\": [0, -0.05905571410414643], \"z\": [0, 0.06202425144332448], \"opacity\": 0.3, \"mode\": \"lines\", \"showlegend\": false, \"line\": {\"color\": \"rgb(255, 105, 97)\"}}, {\"type\": \"scatter3d\", \"x\": [0, 0.996603625885346], \"y\": [0, -0.05463730570916157], \"z\": [0, 0.06161150620642889], \"opacity\": 0.3, \"mode\": \"lines\", \"showlegend\": false, \"line\": {\"color\": \"rgb(255, 105, 97)\"}}, {\"type\": \"scatter3d\", \"x\": [0, 0.9968469438551054], \"y\": [0, -0.050400870954477255], \"z\": [0, 0.06128558340887679], \"opacity\": 0.3, \"mode\": \"lines\", \"showlegend\": false, \"line\": {\"color\": \"rgb(255, 105, 97)\"}}, {\"type\": \"scatter3d\", \"x\": [0, 0.9970622010055095], \"y\": [0, -0.04628696106622997], \"z\": [0, 0.06102855529424186], \"opacity\": 0.3, \"mode\": \"lines\", \"showlegend\": false, \"line\": {\"color\": \"rgb(255, 105, 97)\"}}, {\"type\": \"scatter3d\", \"x\": [0, 0.9972541525177928], \"y\": [0, -0.04224005893339806], \"z\": [0, 0.06082707215806001], \"opacity\": 0.3, \"mode\": \"lines\", \"showlegend\": false, \"line\": {\"color\": \"rgb(255, 105, 97)\"}}, {\"type\": \"scatter3d\", \"x\": [0, 0.9974264803196807], \"y\": [0, -0.03820276711762743], \"z\": [0, 0.06067095632714055], \"opacity\": 0.3, \"mode\": \"lines\", \"showlegend\": false, \"line\": {\"color\": \"rgb(255, 105, 97)\"}}, {\"type\": \"scatter3d\", \"x\": [0, 0.9975820921929222], \"y\": [0, -0.03410848651720054], \"z\": [0, 0.060552295443674825], \"opacity\": 0.3, \"mode\": \"lines\", \"showlegend\": false, \"line\": {\"color\": \"rgb(255, 105, 97)\"}}, {\"type\": \"scatter3d\", \"x\": [0, 0.9977233231917925], \"y\": [0, -0.029869280792344462], \"z\": [0, 0.06046483626103829], \"opacity\": 0.3, \"mode\": \"lines\", \"showlegend\": false, \"line\": {\"color\": \"rgb(255, 105, 97)\"}}, {\"type\": \"scatter3d\", \"x\": [0, 0.9978520754524449], \"y\": [0, -0.025350436292256407], \"z\": [0, 0.06040356690660236], \"opacity\": 0.3, \"mode\": \"lines\", \"showlegend\": false, \"line\": {\"color\": \"rgb(255, 105, 97)\"}}, {\"type\": \"scatter3d\", \"x\": [0, 0.9979699177751762], \"y\": [0, -0.020302212473635735], \"z\": [0, 0.06036442151204244], \"opacity\": 0.3, \"mode\": \"lines\", \"showlegend\": false, \"line\": {\"color\": \"rgb(255, 105, 97)\"}}, {\"type\": \"scatter3d\", \"x\": [0, 0.9980781581500309], \"y\": [0, -0.014091977861265927], \"z\": [0, 0.06034406668264632], \"opacity\": 0.3, \"mode\": \"lines\", \"showlegend\": false, \"line\": {\"color\": \"rgb(255, 105, 97)\"}}, {\"type\": \"scatter3d\", \"x\": [0, 0.9981778976111987], \"y\": [0, 0.0], \"z\": [0, 0.06033974412016766], \"opacity\": 0.3, \"mode\": \"lines\", \"showlegend\": false, \"line\": {\"color\": \"rgb(255, 105, 97)\"}}], {\"margin\": {\"l\": 0, \"r\": 0, \"b\": 0, \"t\": 0}, \"scene\": {\"xaxis\": {\"title\": \"Z\"}, \"yaxis\": {\"title\": \"Y\"}, \"zaxis\": {\"title\": \"X\"}}}, {\"showLink\": true, \"linkText\": \"Export to plot.ly\"})});</script>"
      ]
     },
     "metadata": {},
     "output_type": "display_data"
    }
   ],
   "source": [
    "show_jet(0, 2.5, 1.0)"
   ]
  },
  {
   "cell_type": "markdown",
   "metadata": {},
   "source": [
    "Unfortunately nbviewer does not display widgets, but the lines below should work if you download and run the notebook locally.\n",
    "\n",
    "This should give you the option to change the values of $\\phi$, $\\eta$, and $\\Delta R$ using sliders, as is shown in the preview image."
   ]
  },
  {
   "cell_type": "code",
   "execution_count": 4,
   "metadata": {
    "scrolled": false
   },
   "outputs": [
    {
     "data": {
      "application/vnd.jupyter.widget-view+json": {
       "model_id": "7c6170333ec54857bf6c9e40f497f87a",
       "version_major": 2,
       "version_minor": 0
      },
      "text/html": [
       "<p>Failed to display Jupyter Widget of type <code>interactive</code>.</p>\n",
       "<p>\n",
       "  If you're reading this message in the Jupyter Notebook or JupyterLab Notebook, it may mean\n",
       "  that the widgets JavaScript is still loading. If this message persists, it\n",
       "  likely means that the widgets JavaScript library is either not installed or\n",
       "  not enabled. See the <a href=\"https://ipywidgets.readthedocs.io/en/stable/user_install.html\">Jupyter\n",
       "  Widgets Documentation</a> for setup instructions.\n",
       "</p>\n",
       "<p>\n",
       "  If you're reading this message in another frontend (for example, a static\n",
       "  rendering on GitHub or <a href=\"https://nbviewer.jupyter.org/\">NBViewer</a>),\n",
       "  it may mean that your frontend doesn't currently support widgets.\n",
       "</p>\n"
      ],
      "text/plain": [
       "interactive(children=(FloatSlider(value=0.0, description='phi', max=3.141592653589793, min=-3.141592653589793), FloatSlider(value=2.0, description='eta', max=3.0), FloatSlider(value=1.0, description='dR', max=1.0, min=0.1), Output()), _dom_classes=('widget-interact',))"
      ]
     },
     "metadata": {},
     "output_type": "display_data"
    },
    {
     "data": {
      "text/plain": [
       "<function __main__.show_jet>"
      ]
     },
     "execution_count": 4,
     "metadata": {},
     "output_type": "execute_result"
    }
   ],
   "source": [
    "import ipywidgets as widgets\n",
    "widgets.interact(show_jet, phi=widgets.FloatSlider(value=0, min=-np.pi, max=np.pi, step=0.1, description='phi'),\n",
    "                           eta=widgets.FloatSlider(value=2.0, min=0, max=3, step=0.1, description='eta'),\n",
    "                           dR=widgets.FloatSlider(value=1.0, min=0.1, max=1.0, step=0.1, description='dR'))"
   ]
  }
 ],
 "metadata": {
  "kernelspec": {
   "display_name": "Python 3",
   "language": "python",
   "name": "python3"
  },
  "language_info": {
   "codemirror_mode": {
    "name": "ipython",
    "version": 3
   },
   "file_extension": ".py",
   "mimetype": "text/x-python",
   "name": "python",
   "nbconvert_exporter": "python",
   "pygments_lexer": "ipython3",
   "version": "3.6.2"
  }
 },
 "nbformat": 4,
 "nbformat_minor": 2
}
