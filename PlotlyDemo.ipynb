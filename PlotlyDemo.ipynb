{
 "cells": [
  {
   "cell_type": "markdown",
   "metadata": {},
   "source": [
    "# Visualising dR for cones in $\\eta$ and $\\phi$\n",
    "\n",
    "The coordinate system is a modifed spherical coordinate system with the $z$ coordinate chosen along the beampipe, and the azimuthal angle $phi$ rotating around the plane perpendicular to the beam. In place of the usual polar angle $\\theta$ however, \n",
    "pseudorapidity $\\eta$"
   ]
  },
  {
   "cell_type": "code",
   "execution_count": 1,
   "metadata": {},
   "outputs": [
    {
     "data": {
      "text/html": [
       "<script>requirejs.config({paths: { 'plotly': ['https://cdn.plot.ly/plotly-latest.min']},});if(!window.Plotly) {{require(['plotly'],function(plotly) {window.Plotly=plotly;});}}</script>"
      ],
      "text/vnd.plotly.v1+html": [
       "<script>requirejs.config({paths: { 'plotly': ['https://cdn.plot.ly/plotly-latest.min']},});if(!window.Plotly) {{require(['plotly'],function(plotly) {window.Plotly=plotly;});}}</script>"
      ]
     },
     "metadata": {},
     "output_type": "display_data"
    }
   ],
   "source": [
    "import numpy as np\n",
    "import ipywidgets as widgets\n",
    "from plotly.offline import init_notebook_mode, iplot\n",
    "import plotly.graph_objs as go\n",
    "init_notebook_mode(connected=True)"
   ]
  },
  {
   "cell_type": "code",
   "execution_count": 2,
   "metadata": {
    "collapsed": true
   },
   "outputs": [],
   "source": [
    "def theta_from_eta(eta):\n",
    "    return 2*np.arctan(np.e**(-eta))\n",
    "    \n",
    "def show_jet(phi, eta, dR):\n",
    "    \n",
    "    # list of all primitives to draw\n",
    "    data = []\n",
    "    \n",
    "    # ATLAS beampipe\n",
    "    R = 1.0\n",
    "    zs = np.linspace(-R, R, 2)\n",
    "    b_xs = [0 for z in zs]\n",
    "    b_ys = [0 for z in zs]\n",
    "    beampipe = go.Scatter3d(x=zs,\n",
    "                          y=b_ys,\n",
    "                          z=b_xs,\n",
    "                          mode='lines',\n",
    "                          showlegend=False,\n",
    "                          line=dict(color='rgb(0,33,71)', width=5))\n",
    "    data.append(beampipe)\n",
    "    \n",
    "    # ATLAS barrel\n",
    "    phis = np.linspace(-np.pi/2., np.pi/2., 10)\n",
    "    xs = R*np.sin(phis)\n",
    "    X, Z = np.meshgrid(xs, zs)\n",
    "    Y = np.sqrt(R**2 - X**2)\n",
    "    barrel_left = go.Surface(x=Z, y=Y, z=X, surfacecolor=[1,1], showscale=False, opacity=0.4)\n",
    "    barrel_right = go.Surface(x=Z, y=-Y, z=X, surfacecolor=[1,1], showscale=False, opacity=0.4)\n",
    "    data += [barrel_left, barrel_right]\n",
    "    \n",
    "    # jet center line\n",
    "    theta = theta_from_eta(eta)\n",
    "    ts = np.linspace(0, R, 2)\n",
    "    xs = ts*np.sin(theta)*np.cos(phi)\n",
    "    ys = ts*np.sin(theta)*np.sin(phi)\n",
    "    zs = ts*np.cos(theta)\n",
    "    jet = go.Scatter3d(x=zs,\n",
    "                       y=ys,\n",
    "                       z=xs,\n",
    "                       mode='lines',\n",
    "                       showlegend=False,\n",
    "                       line=dict(color='rgb(255, 105, 97)', width=7))\n",
    "    data.append(jet)\n",
    "    \n",
    "    # jet cone: end circle and lines\n",
    "    T = 1.0\n",
    "    dphis = np.sqrt(np.linspace(0, dR**2, 20))\n",
    "    detas = np.sqrt(dR**2 - dphis**2)\n",
    "    # compute circle coordinates (reverse parts for plotting reasons)\n",
    "    phis = np.concatenate((phi+dphis, phi+dphis[::-1], phi-dphis, phi-dphis[::-1]))\n",
    "    etas = np.concatenate((eta+detas, eta-detas[::-1], eta-detas, eta+detas[::-1]))\n",
    "    # transform to x, y, z\n",
    "    thetas = theta_from_eta(etas)\n",
    "    cxs = T*np.sin(thetas)*np.cos(phis)\n",
    "    cys = T*np.sin(thetas)*np.sin(phis)\n",
    "    czs = T*np.cos(thetas)\n",
    "    cone_edge = go.Scatter3d(x=czs,\n",
    "                            y=cys,\n",
    "                            z=cxs,\n",
    "                            mode='lines',\n",
    "                            showlegend=False,\n",
    "                            line=dict(color='rgb(255, 105, 97)', width=5))\n",
    "    data.append(cone_edge)\n",
    "    \n",
    "    # and draw lines from each point to the origin\n",
    "    for x, y, z in zip(cxs, cys, czs):\n",
    "        line = go.Scatter3d(x=(0,z),\n",
    "                            y=(0,y),\n",
    "                            z=(0,x),\n",
    "                            opacity=0.3,\n",
    "                            mode='lines',\n",
    "                            showlegend=False,\n",
    "                            line=dict(color='rgb(255, 105, 97)'))\n",
    "        data.append(line)\n",
    "    \n",
    "    # cosmetics\n",
    "    layout = go.Layout(margin=dict(l=0,r=0,b=0,t=0),\n",
    "                       scene=dict(xaxis=dict(title='Z'),\n",
    "                                  yaxis=dict(title='Y'),\n",
    "                                  zaxis=dict(title='X')))\n",
    "    fig = go.Figure(data=data, layout=layout)\n",
    "    iplot(fig, filename='simple-3d-scatter')\n",
    "    "
   ]
  },
  {
   "cell_type": "code",
   "execution_count": 4,
   "metadata": {
    "scrolled": false
   },
   "outputs": [
    {
     "data": {
      "application/vnd.jupyter.widget-view+json": {
       "model_id": "8dfc98e34dbc459185a1d2fec11c3d94",
       "version_major": 2,
       "version_minor": 0
      },
      "text/plain": [
       "A Jupyter Widget"
      ]
     },
     "metadata": {},
     "output_type": "display_data"
    },
    {
     "data": {
      "text/plain": [
       "<function __main__.show_jet>"
      ]
     },
     "execution_count": 4,
     "metadata": {},
     "output_type": "execute_result"
    }
   ],
   "source": [
    "widgets.interact(show_jet, phi=widgets.FloatSlider(value=0, min=-np.pi, max=np.pi, step=0.1, description='phi'),\n",
    "                           eta=widgets.FloatSlider(value=0, min=0, max=3, step=0.1, description='eta'),\n",
    "                           dR=widgets.FloatSlider(value=1.0, min=0.1, max=1.0, step=0.1, description='dR'))"
   ]
  },
  {
   "cell_type": "code",
   "execution_count": null,
   "metadata": {
    "collapsed": true
   },
   "outputs": [],
   "source": []
  }
 ],
 "metadata": {
  "kernelspec": {
   "display_name": "Python 3",
   "language": "python",
   "name": "python3"
  },
  "language_info": {
   "codemirror_mode": {
    "name": "ipython",
    "version": 3
   },
   "file_extension": ".py",
   "mimetype": "text/x-python",
   "name": "python",
   "nbconvert_exporter": "python",
   "pygments_lexer": "ipython3",
   "version": "3.6.2"
  }
 },
 "nbformat": 4,
 "nbformat_minor": 2
}
