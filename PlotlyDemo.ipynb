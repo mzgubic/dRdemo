{
 "cells": [
  {
   "cell_type": "markdown",
   "metadata": {},
   "source": [
    "# Visualising $\\Delta R$\n",
    "\n",
    "The coordinate system is a modifed spherical coordinate system with the $z$ coordinate chosen along the beampipe, and the azimuthal angle $phi$ rotating around the plane perpendicular to the beam. In place of the usual polar angle $\\theta$ however, pseudorapidity $\\eta = -\\ln(\\tan(\\frac{\\theta}{2}))$ is used. See plot below to see how it behaves.\n",
    "\n",
    "<img width=\"200\" alt=\"preview\" src=\"https://upload.wikimedia.org/wikipedia/commons/thumb/e/ed/Pseudorapidity_plot.svg/695px-Pseudorapidity_plot.svg.png\">\n",
    "\n",
    "The angle $\\Delta R$ is defined as $\\Delta R = \\sqrt{\\Delta \\phi^2 + \\Delta \\eta^2}$. It is tricky to grasp intuitively because the angle of this conical shape changes with $\\eta$. This notebook makes it easy to play with parameters and see how the conical shape changes. "
   ]
  },
  {
   "cell_type": "code",
   "execution_count": null,
   "metadata": {},
   "outputs": [],
   "source": [
    "import numpy as np\n",
    "import ipywidgets as widgets\n",
    "from plotly.offline import init_notebook_mode, iplot\n",
    "import plotly.graph_objs as go\n",
    "init_notebook_mode(connected=True)"
   ]
  },
  {
   "cell_type": "code",
   "execution_count": null,
   "metadata": {
    "collapsed": true
   },
   "outputs": [],
   "source": [
    "def theta_from_eta(eta):\n",
    "    return 2*np.arctan(np.e**(-eta))\n",
    "    \n",
    "def show_jet(phi, eta, dR):\n",
    "    \n",
    "    # list of all primitives to draw\n",
    "    data = []\n",
    "    \n",
    "    # ATLAS beampipe\n",
    "    R = 1.0\n",
    "    zs = np.linspace(-R, R, 2)\n",
    "    b_xs = [0 for z in zs]\n",
    "    b_ys = [0 for z in zs]\n",
    "    beampipe = go.Scatter3d(x=zs,\n",
    "                          y=b_ys,\n",
    "                          z=b_xs,\n",
    "                          mode='lines',\n",
    "                          showlegend=False,\n",
    "                          line=dict(color='rgb(0,33,71)', width=5))\n",
    "    data.append(beampipe)\n",
    "    \n",
    "    # ATLAS barrel\n",
    "    phis = np.linspace(-np.pi/2., np.pi/2., 10)\n",
    "    xs = R*np.sin(phis)\n",
    "    X, Z = np.meshgrid(xs, zs)\n",
    "    Y = np.sqrt(R**2 - X**2)\n",
    "    barrel_left = go.Surface(x=Z, y=Y, z=X, surfacecolor=[1,1], showscale=False, opacity=0.4)\n",
    "    barrel_right = go.Surface(x=Z, y=-Y, z=X, surfacecolor=[1,1], showscale=False, opacity=0.4)\n",
    "    data += [barrel_left, barrel_right]\n",
    "    \n",
    "    # jet center line\n",
    "    theta = theta_from_eta(eta)\n",
    "    ts = np.linspace(0, R, 2)\n",
    "    xs = ts*np.sin(theta)*np.cos(phi)\n",
    "    ys = ts*np.sin(theta)*np.sin(phi)\n",
    "    zs = ts*np.cos(theta)\n",
    "    jet = go.Scatter3d(x=zs,\n",
    "                       y=ys,\n",
    "                       z=xs,\n",
    "                       mode='lines',\n",
    "                       showlegend=False,\n",
    "                       line=dict(color='rgb(255, 105, 97)', width=7))\n",
    "    data.append(jet)\n",
    "    \n",
    "    # jet cone: end circle and lines\n",
    "    T = 1.0\n",
    "    dphis = np.sqrt(np.linspace(0, dR**2, 20))\n",
    "    detas = np.sqrt(dR**2 - dphis**2)\n",
    "    # compute circle coordinates (reverse parts for plotting reasons)\n",
    "    phis = np.concatenate((phi+dphis, phi+dphis[::-1], phi-dphis, phi-dphis[::-1]))\n",
    "    etas = np.concatenate((eta+detas, eta-detas[::-1], eta-detas, eta+detas[::-1]))\n",
    "    # transform to x, y, z\n",
    "    thetas = theta_from_eta(etas)\n",
    "    cxs = T*np.sin(thetas)*np.cos(phis)\n",
    "    cys = T*np.sin(thetas)*np.sin(phis)\n",
    "    czs = T*np.cos(thetas)\n",
    "    cone_edge = go.Scatter3d(x=czs,\n",
    "                            y=cys,\n",
    "                            z=cxs,\n",
    "                            mode='lines',\n",
    "                            showlegend=False,\n",
    "                            line=dict(color='rgb(255, 105, 97)', width=5))\n",
    "    data.append(cone_edge)\n",
    "    \n",
    "    # and draw lines from each point to the origin\n",
    "    for x, y, z in zip(cxs, cys, czs):\n",
    "        line = go.Scatter3d(x=(0,z),\n",
    "                            y=(0,y),\n",
    "                            z=(0,x),\n",
    "                            opacity=0.3,\n",
    "                            mode='lines',\n",
    "                            showlegend=False,\n",
    "                            line=dict(color='rgb(255, 105, 97)'))\n",
    "        data.append(line)\n",
    "    \n",
    "    # cosmetics\n",
    "    layout = go.Layout(margin=dict(l=0,r=0,b=0,t=0),\n",
    "                       scene=dict(xaxis=dict(title='Z'),\n",
    "                                  yaxis=dict(title='Y'),\n",
    "                                  zaxis=dict(title='X')))\n",
    "    fig = go.Figure(data=data, layout=layout)\n",
    "    iplot(fig, filename='simple-3d-scatter')\n"
   ]
  },
  {
   "cell_type": "code",
   "execution_count": null,
   "metadata": {},
   "outputs": [],
   "source": [
    "#show_jet(0, 2.5, 1.0)"
   ]
  },
  {
   "cell_type": "code",
   "execution_count": null,
   "metadata": {
    "scrolled": false
   },
   "outputs": [],
   "source": [
    "widgets.interact(show_jet, phi=widgets.FloatSlider(value=0, min=-np.pi, max=np.pi, step=0.1, description='phi'),\n",
    "                           eta=widgets.FloatSlider(value=0, min=0, max=3, step=0.1, description='eta'),\n",
    "                           dR=widgets.FloatSlider(value=1.0, min=0.1, max=1.0, step=0.1, description='dR'))"
   ]
  },
  {
   "cell_type": "code",
   "execution_count": 4,
   "metadata": {
    "scrolled": false
   },
   "outputs": [
    {
     "data": {
      "text/html": [
       "<iframe id=\"igraph\" scrolling=\"no\" style=\"border:none;\" seamless=\"seamless\" src=\"https://plot.ly/~mzgubic/2.embed\" height=\"525px\" width=\"100%\"></iframe>"
      ],
      "text/plain": [
       "<plotly.tools.PlotlyDisplay object>"
      ]
     },
     "execution_count": 4,
     "metadata": {},
     "output_type": "execute_result"
    }
   ],
   "source": [
    "import plotly.plotly as py\n",
    "import numpy as np\n",
    "\n",
    "data = [dict(\n",
    "        visible = False,\n",
    "        line=dict(color='00CED1', width=6),\n",
    "        name = '𝜈 = '+str(step),\n",
    "        x = np.arange(0,10,0.01),\n",
    "        y = np.sin(step*np.arange(0,10,0.01))) for step in np.arange(0,5,0.1)]\n",
    "data[10]['visible'] = True\n",
    "#print(data[10])\n",
    "\n",
    "steps = []\n",
    "for i in range(len(data)):\n",
    "    step = dict(\n",
    "        method = 'restyle',\n",
    "        args = ['visible', [False] * len(data)],\n",
    "    )\n",
    "    step['args'][1][i] = True # Toggle i'th trace to \"visible\"\n",
    "    steps.append(step)\n",
    "\n",
    "sliders = [dict(\n",
    "    active = 10,\n",
    "    currentvalue = {\"prefix\": \"Frequency: \"},\n",
    "    pad = {\"t\": 50},\n",
    "    steps = steps\n",
    ")]\n",
    "\n",
    "layout = dict(sliders=sliders)\n",
    "fig = dict(data=data, layout=layout)\n",
    "\n",
    "py.iplot(fig, filename='Sine Wave Slider')"
   ]
  },
  {
   "cell_type": "code",
   "execution_count": null,
   "metadata": {
    "collapsed": true
   },
   "outputs": [],
   "source": []
  }
 ],
 "metadata": {
  "kernelspec": {
   "display_name": "Python 3",
   "language": "python",
   "name": "python3"
  },
  "language_info": {
   "codemirror_mode": {
    "name": "ipython",
    "version": 3
   },
   "file_extension": ".py",
   "mimetype": "text/x-python",
   "name": "python",
   "nbconvert_exporter": "python",
   "pygments_lexer": "ipython3",
   "version": "3.6.2"
  }
 },
 "nbformat": 4,
 "nbformat_minor": 2
}
